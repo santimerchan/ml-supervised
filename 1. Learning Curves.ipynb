{
  "cells": [
    {
      "cell_type": "markdown",
      "metadata": {
        "id": "k6MDPConhRxO"
      },
      "source": [
        "# Universidad de La Sabana \n",
        "\n",
        "**Felix Mohr**\n",
        "\n",
        "## Facultad de Ingenería 2022.2\n",
        "Supervised Machine Learning\n",
        "\n",
        "\n",
        "- Gerson Barrera\n",
        "- Santiago Merchán\n",
        "- Tomás Cárdenas\n",
        "- Emanuel Díaz"
      ]
    },
    {
      "cell_type": "markdown",
      "metadata": {
        "id": "D5kzQ4WEhVKB"
      },
      "source": [
        "# Excercise 1"
      ]
    },
    {
      "cell_type": "code",
      "source": [
        "!pip install awscli\n",
        "!pip install boto3\n",
        "!pip install boto3 pandas \"s3fs<=0.4\""
      ],
      "metadata": {
        "colab": {
          "base_uri": "https://localhost:8080/"
        },
        "id": "PUF4Vd-6ILR-",
        "outputId": "ed672ce4-6cfc-440f-edaf-e6b93598a2ec"
      },
      "execution_count": null,
      "outputs": [
        {
          "output_type": "stream",
          "name": "stdout",
          "text": [
            "Looking in indexes: https://pypi.org/simple, https://us-python.pkg.dev/colab-wheels/public/simple/\n",
            "Requirement already satisfied: awscli in /usr/local/lib/python3.7/dist-packages (1.25.67)\n",
            "Requirement already satisfied: PyYAML<5.5,>=3.10 in /usr/local/lib/python3.7/dist-packages (from awscli) (5.4.1)\n",
            "Requirement already satisfied: botocore==1.27.66 in /usr/local/lib/python3.7/dist-packages (from awscli) (1.27.66)\n",
            "Requirement already satisfied: colorama<0.4.5,>=0.2.5 in /usr/local/lib/python3.7/dist-packages (from awscli) (0.4.4)\n",
            "Requirement already satisfied: rsa<4.8,>=3.1.2 in /usr/local/lib/python3.7/dist-packages (from awscli) (4.7.2)\n",
            "Requirement already satisfied: docutils<0.17,>=0.10 in /usr/local/lib/python3.7/dist-packages (from awscli) (0.16)\n",
            "Requirement already satisfied: s3transfer<0.7.0,>=0.6.0 in /usr/local/lib/python3.7/dist-packages (from awscli) (0.6.0)\n",
            "Requirement already satisfied: urllib3<1.27,>=1.25.4 in /usr/local/lib/python3.7/dist-packages (from botocore==1.27.66->awscli) (1.26.12)\n",
            "Requirement already satisfied: jmespath<2.0.0,>=0.7.1 in /usr/local/lib/python3.7/dist-packages (from botocore==1.27.66->awscli) (1.0.1)\n",
            "Requirement already satisfied: python-dateutil<3.0.0,>=2.1 in /usr/local/lib/python3.7/dist-packages (from botocore==1.27.66->awscli) (2.8.2)\n",
            "Requirement already satisfied: six>=1.5 in /usr/local/lib/python3.7/dist-packages (from python-dateutil<3.0.0,>=2.1->botocore==1.27.66->awscli) (1.15.0)\n",
            "Requirement already satisfied: pyasn1>=0.1.3 in /usr/local/lib/python3.7/dist-packages (from rsa<4.8,>=3.1.2->awscli) (0.4.8)\n",
            "Looking in indexes: https://pypi.org/simple, https://us-python.pkg.dev/colab-wheels/public/simple/\n",
            "Requirement already satisfied: boto3 in /usr/local/lib/python3.7/dist-packages (1.24.66)\n",
            "Requirement already satisfied: botocore<1.28.0,>=1.27.66 in /usr/local/lib/python3.7/dist-packages (from boto3) (1.27.66)\n",
            "Requirement already satisfied: jmespath<2.0.0,>=0.7.1 in /usr/local/lib/python3.7/dist-packages (from boto3) (1.0.1)\n",
            "Requirement already satisfied: s3transfer<0.7.0,>=0.6.0 in /usr/local/lib/python3.7/dist-packages (from boto3) (0.6.0)\n",
            "Requirement already satisfied: urllib3<1.27,>=1.25.4 in /usr/local/lib/python3.7/dist-packages (from botocore<1.28.0,>=1.27.66->boto3) (1.26.12)\n",
            "Requirement already satisfied: python-dateutil<3.0.0,>=2.1 in /usr/local/lib/python3.7/dist-packages (from botocore<1.28.0,>=1.27.66->boto3) (2.8.2)\n",
            "Requirement already satisfied: six>=1.5 in /usr/local/lib/python3.7/dist-packages (from python-dateutil<3.0.0,>=2.1->botocore<1.28.0,>=1.27.66->boto3) (1.15.0)\n",
            "Looking in indexes: https://pypi.org/simple, https://us-python.pkg.dev/colab-wheels/public/simple/\n",
            "Requirement already satisfied: boto3 in /usr/local/lib/python3.7/dist-packages (1.24.66)\n",
            "Requirement already satisfied: pandas in /usr/local/lib/python3.7/dist-packages (1.3.5)\n",
            "Requirement already satisfied: s3fs<=0.4 in /usr/local/lib/python3.7/dist-packages (0.4.0)\n",
            "Requirement already satisfied: botocore>=1.12.91 in /usr/local/lib/python3.7/dist-packages (from s3fs<=0.4) (1.27.66)\n",
            "Requirement already satisfied: fsspec>=0.6.0 in /usr/local/lib/python3.7/dist-packages (from s3fs<=0.4) (2022.7.1)\n",
            "Requirement already satisfied: jmespath<2.0.0,>=0.7.1 in /usr/local/lib/python3.7/dist-packages (from boto3) (1.0.1)\n",
            "Requirement already satisfied: s3transfer<0.7.0,>=0.6.0 in /usr/local/lib/python3.7/dist-packages (from boto3) (0.6.0)\n",
            "Requirement already satisfied: python-dateutil<3.0.0,>=2.1 in /usr/local/lib/python3.7/dist-packages (from botocore>=1.12.91->s3fs<=0.4) (2.8.2)\n",
            "Requirement already satisfied: urllib3<1.27,>=1.25.4 in /usr/local/lib/python3.7/dist-packages (from botocore>=1.12.91->s3fs<=0.4) (1.26.12)\n",
            "Requirement already satisfied: six>=1.5 in /usr/local/lib/python3.7/dist-packages (from python-dateutil<3.0.0,>=2.1->botocore>=1.12.91->s3fs<=0.4) (1.15.0)\n",
            "Requirement already satisfied: pytz>=2017.3 in /usr/local/lib/python3.7/dist-packages (from pandas) (2022.2.1)\n",
            "Requirement already satisfied: numpy>=1.17.3 in /usr/local/lib/python3.7/dist-packages (from pandas) (1.21.6)\n"
          ]
        }
      ]
    },
    {
      "cell_type": "code",
      "execution_count": null,
      "metadata": {
        "id": "dtx94z4ExBZ5"
      },
      "outputs": [],
      "source": [
        "# import libraries\n",
        "\n",
        "#Mining\n",
        "import pandas as pd\n",
        "import numpy as np\n",
        "from numpy.core.function_base import linspace\n",
        "\n",
        "#Visualization\n",
        "import matplotlib.pyplot as plt\n",
        "\n",
        "#Modeling\n",
        "from sklearn.linear_model import LogisticRegression\n",
        "from sklearn.neighbors import KNeighborsClassifier\n",
        "from sklearn.tree import DecisionTreeClassifier\n",
        "from sklearn.ensemble import RandomForestClassifier\n",
        "\n",
        "\n",
        "#Preprocessing\n",
        "from sklearn.model_selection import train_test_split\n",
        "from sklearn.preprocessing import LabelEncoder\n",
        "\n",
        "#Metrics\n",
        "from sklearn.metrics import confusion_matrix\n",
        "from sklearn.metrics import accuracy_score\n",
        "from sklearn.metrics import recall_score\n",
        "from sklearn.metrics import precision_score\n",
        "from sklearn.metrics import roc_auc_score\n",
        "\n",
        "#Model Selection\n",
        "from sklearn.model_selection import learning_curve\n",
        "from sklearn.model_selection import ShuffleSplit"
      ]
    },
    {
      "cell_type": "code",
      "source": [
        "import os\n",
        "import boto3\n",
        "from io import StringIO , BytesIO"
      ],
      "metadata": {
        "id": "EAXsU6tjIGdH"
      },
      "execution_count": null,
      "outputs": []
    },
    {
      "cell_type": "markdown",
      "metadata": {
        "id": "1gIGj3-wgkZS"
      },
      "source": [
        "1. Write a function visualize_classifier_behavior(learner, X, y, ax = None) that\n",
        "receives a sklearn classifier object, data X and y, and, optionally, an axis object from\n",
        "matplotlib. "
      ]
    },
    {
      "cell_type": "code",
      "execution_count": null,
      "metadata": {
        "id": "ROGQ10Kix7dg"
      },
      "outputs": [],
      "source": [
        "def visualize_classifier_behavior(learner, X, y, ax = None):\n",
        "  #Entrenamiento\n",
        "  learner.fit(X,y)\n",
        "  #Identificación de maximos y minimos\n",
        "  x_0range_min = (min(X[:,0])-1)\n",
        "  x_0range_max = (max(X[:,0])+1)\n",
        "  x_1range_min = (min(X[:,1])-1)\n",
        "  x_1range_max = (max(X[:,1])+1)\n",
        "  #Creación del espacio linear\n",
        "  D1=linspace(start=x_0range_min, stop=x_0range_max,num=100)\n",
        "  D2=linspace(start=x_1range_min, stop=x_1range_max,num=100)\n",
        "  #Matriz\n",
        "  Z=[]\n",
        "  for i in D1:\n",
        "    for j in D2:\n",
        "      Z.append([i,j])\n",
        "  matriz=pd.DataFrame(Z)\n",
        "  predict=learner.predict(matriz.loc[:,[0,1]])\n",
        "  #Grafica\n",
        "  df = pd.DataFrame(data = predict.reshape(100,100), \n",
        "                  index = D1, \n",
        "                  columns = D2)\n",
        "  plt.imshow(df)"
      ]
    },
    {
      "cell_type": "markdown",
      "metadata": {
        "id": "9-XSuM5Mgw1S"
      },
      "source": [
        "2. Load the iris dataset (you can use pandas.read_csv) and create objects X and y from it, using the class column for y."
      ]
    },
    {
      "cell_type": "code",
      "execution_count": null,
      "metadata": {
        "id": "SDY2R7TWABXq",
        "colab": {
          "base_uri": "https://localhost:8080/",
          "height": 143
        },
        "outputId": "612e2873-9c2c-4f54-da23-08bcd0e1077e"
      },
      "outputs": [
        {
          "output_type": "execute_result",
          "data": {
            "text/plain": [
              "   y          species  sepal_Length\n",
              "0  0      Iris-setosa            50\n",
              "1  1  Iris-versicolor            50\n",
              "2  2   Iris-virginica            50"
            ],
            "text/html": [
              "\n",
              "  <div id=\"df-2d3b8ffc-e6e2-4a50-ab2d-63eb105f4c28\">\n",
              "    <div class=\"colab-df-container\">\n",
              "      <div>\n",
              "<style scoped>\n",
              "    .dataframe tbody tr th:only-of-type {\n",
              "        vertical-align: middle;\n",
              "    }\n",
              "\n",
              "    .dataframe tbody tr th {\n",
              "        vertical-align: top;\n",
              "    }\n",
              "\n",
              "    .dataframe thead th {\n",
              "        text-align: right;\n",
              "    }\n",
              "</style>\n",
              "<table border=\"1\" class=\"dataframe\">\n",
              "  <thead>\n",
              "    <tr style=\"text-align: right;\">\n",
              "      <th></th>\n",
              "      <th>y</th>\n",
              "      <th>species</th>\n",
              "      <th>sepal_Length</th>\n",
              "    </tr>\n",
              "  </thead>\n",
              "  <tbody>\n",
              "    <tr>\n",
              "      <th>0</th>\n",
              "      <td>0</td>\n",
              "      <td>Iris-setosa</td>\n",
              "      <td>50</td>\n",
              "    </tr>\n",
              "    <tr>\n",
              "      <th>1</th>\n",
              "      <td>1</td>\n",
              "      <td>Iris-versicolor</td>\n",
              "      <td>50</td>\n",
              "    </tr>\n",
              "    <tr>\n",
              "      <th>2</th>\n",
              "      <td>2</td>\n",
              "      <td>Iris-virginica</td>\n",
              "      <td>50</td>\n",
              "    </tr>\n",
              "  </tbody>\n",
              "</table>\n",
              "</div>\n",
              "      <button class=\"colab-df-convert\" onclick=\"convertToInteractive('df-2d3b8ffc-e6e2-4a50-ab2d-63eb105f4c28')\"\n",
              "              title=\"Convert this dataframe to an interactive table.\"\n",
              "              style=\"display:none;\">\n",
              "        \n",
              "  <svg xmlns=\"http://www.w3.org/2000/svg\" height=\"24px\"viewBox=\"0 0 24 24\"\n",
              "       width=\"24px\">\n",
              "    <path d=\"M0 0h24v24H0V0z\" fill=\"none\"/>\n",
              "    <path d=\"M18.56 5.44l.94 2.06.94-2.06 2.06-.94-2.06-.94-.94-2.06-.94 2.06-2.06.94zm-11 1L8.5 8.5l.94-2.06 2.06-.94-2.06-.94L8.5 2.5l-.94 2.06-2.06.94zm10 10l.94 2.06.94-2.06 2.06-.94-2.06-.94-.94-2.06-.94 2.06-2.06.94z\"/><path d=\"M17.41 7.96l-1.37-1.37c-.4-.4-.92-.59-1.43-.59-.52 0-1.04.2-1.43.59L10.3 9.45l-7.72 7.72c-.78.78-.78 2.05 0 2.83L4 21.41c.39.39.9.59 1.41.59.51 0 1.02-.2 1.41-.59l7.78-7.78 2.81-2.81c.8-.78.8-2.07 0-2.86zM5.41 20L4 18.59l7.72-7.72 1.47 1.35L5.41 20z\"/>\n",
              "  </svg>\n",
              "      </button>\n",
              "      \n",
              "  <style>\n",
              "    .colab-df-container {\n",
              "      display:flex;\n",
              "      flex-wrap:wrap;\n",
              "      gap: 12px;\n",
              "    }\n",
              "\n",
              "    .colab-df-convert {\n",
              "      background-color: #E8F0FE;\n",
              "      border: none;\n",
              "      border-radius: 50%;\n",
              "      cursor: pointer;\n",
              "      display: none;\n",
              "      fill: #1967D2;\n",
              "      height: 32px;\n",
              "      padding: 0 0 0 0;\n",
              "      width: 32px;\n",
              "    }\n",
              "\n",
              "    .colab-df-convert:hover {\n",
              "      background-color: #E2EBFA;\n",
              "      box-shadow: 0px 1px 2px rgba(60, 64, 67, 0.3), 0px 1px 3px 1px rgba(60, 64, 67, 0.15);\n",
              "      fill: #174EA6;\n",
              "    }\n",
              "\n",
              "    [theme=dark] .colab-df-convert {\n",
              "      background-color: #3B4455;\n",
              "      fill: #D2E3FC;\n",
              "    }\n",
              "\n",
              "    [theme=dark] .colab-df-convert:hover {\n",
              "      background-color: #434B5C;\n",
              "      box-shadow: 0px 1px 3px 1px rgba(0, 0, 0, 0.15);\n",
              "      filter: drop-shadow(0px 1px 2px rgba(0, 0, 0, 0.3));\n",
              "      fill: #FFFFFF;\n",
              "    }\n",
              "  </style>\n",
              "\n",
              "      <script>\n",
              "        const buttonEl =\n",
              "          document.querySelector('#df-2d3b8ffc-e6e2-4a50-ab2d-63eb105f4c28 button.colab-df-convert');\n",
              "        buttonEl.style.display =\n",
              "          google.colab.kernel.accessAllowed ? 'block' : 'none';\n",
              "\n",
              "        async function convertToInteractive(key) {\n",
              "          const element = document.querySelector('#df-2d3b8ffc-e6e2-4a50-ab2d-63eb105f4c28');\n",
              "          const dataTable =\n",
              "            await google.colab.kernel.invokeFunction('convertToInteractive',\n",
              "                                                     [key], {});\n",
              "          if (!dataTable) return;\n",
              "\n",
              "          const docLinkHtml = 'Like what you see? Visit the ' +\n",
              "            '<a target=\"_blank\" href=https://colab.research.google.com/notebooks/data_table.ipynb>data table notebook</a>'\n",
              "            + ' to learn more about interactive tables.';\n",
              "          element.innerHTML = '';\n",
              "          dataTable['output_type'] = 'display_data';\n",
              "          await google.colab.output.renderOutput(dataTable, element);\n",
              "          const docLink = document.createElement('div');\n",
              "          docLink.innerHTML = docLinkHtml;\n",
              "          element.appendChild(docLink);\n",
              "        }\n",
              "      </script>\n",
              "    </div>\n",
              "  </div>\n",
              "  "
            ]
          },
          "metadata": {},
          "execution_count": 37
        }
      ],
      "source": [
        "csv_url = 'https://archive.ics.uci.edu/ml/machine-learning-databases/iris/iris.data'\n",
        "col_names = ['sepal_Length','sepal_Width','petal_Length','petal_Width','species']\n",
        "iris =  pd.read_csv(csv_url, names = col_names)\n",
        "iris[\"y\"]=LabelEncoder().fit_transform(iris['species'])\n",
        "#iris[\"species\"].value_counts(dropna=False)\n",
        "iris.groupby([\"y\",\"species\"],as_index=False).agg({\"sepal_Length\":\"size\"})"
      ]
    },
    {
      "cell_type": "code",
      "execution_count": null,
      "metadata": {
        "id": "ZYmT4t2MHld-"
      },
      "outputs": [],
      "source": [
        "X=(iris.loc[:,['sepal_Length','sepal_Width']]).values\n",
        "y=(iris.loc[:,['y']]).values"
      ]
    },
    {
      "cell_type": "code",
      "execution_count": null,
      "metadata": {
        "colab": {
          "base_uri": "https://localhost:8080/",
          "height": 324
        },
        "id": "2hIlkd2DOlQ5",
        "outputId": "50f14221-f1b6-45b1-eabb-d07f1ec0cd78"
      },
      "outputs": [
        {
          "output_type": "stream",
          "name": "stderr",
          "text": [
            "/usr/local/lib/python3.7/dist-packages/sklearn/neighbors/_classification.py:198: DataConversionWarning: A column-vector y was passed when a 1d array was expected. Please change the shape of y to (n_samples,), for example using ravel().\n",
            "  return self._fit(X, y)\n"
          ]
        },
        {
          "output_type": "display_data",
          "data": {
            "text/plain": [
              "<Figure size 432x288 with 1 Axes>"
            ],
            "image/png": "[encoded data removed]"
          },
          "metadata": {
            "needs_background": "light"
          }
        }
      ],
      "source": [
        "visualize_classifier_behavior(KNeighborsClassifier(),X, y, ax = None)"
      ]
    },
    {
      "cell_type": "code",
      "execution_count": null,
      "metadata": {
        "colab": {
          "base_uri": "https://localhost:8080/",
          "height": 324
        },
        "id": "PiI9YfVkr_Vu",
        "outputId": "8dca4d98-9a32-4bee-b88e-339f8df2e78f"
      },
      "outputs": [
        {
          "output_type": "stream",
          "name": "stderr",
          "text": [
            "/usr/local/lib/python3.7/dist-packages/sklearn/utils/validation.py:993: DataConversionWarning: A column-vector y was passed when a 1d array was expected. Please change the shape of y to (n_samples, ), for example using ravel().\n",
            "  y = column_or_1d(y, warn=True)\n"
          ]
        },
        {
          "output_type": "display_data",
          "data": {
            "text/plain": [
              "<Figure size 432x288 with 1 Axes>"
            ],
            "image/png": "[encoded data removed]"
          },
          "metadata": {
            "needs_background": "light"
          }
        }
      ],
      "source": [
        "visualize_classifier_behavior(LogisticRegression(),X, y, ax = None)"
      ]
    },
    {
      "cell_type": "code",
      "execution_count": null,
      "metadata": {
        "colab": {
          "base_uri": "https://localhost:8080/",
          "height": 268
        },
        "id": "Utee8x9KsLAl",
        "outputId": "ecb6d7b1-856a-4eef-93fc-a47f94ee58a4"
      },
      "outputs": [
        {
          "output_type": "display_data",
          "data": {
            "text/plain": [
              "<Figure size 432x288 with 1 Axes>"
            ],
            "image/png": "[encoded data removed]"
          },
          "metadata": {
            "needs_background": "light"
          }
        }
      ],
      "source": [
        "visualize_classifier_behavior(DecisionTreeClassifier(),X, y, ax = None)"
      ]
    },
    {
      "cell_type": "markdown",
      "metadata": {
        "id": "-o_BY8dDg1uK"
      },
      "source": [
        "3. In a loop of 5 repetitions, select 30 random instances of the dataset and create the same plots as of the previous exercise again while reducing the provided dataset from 150 to the 30 random instances (this should generate a 5 × 3 grid of 15 plots in total). What can you observe w.r.t. to the classifier behavior?"
      ]
    },
    {
      "cell_type": "code",
      "execution_count": null,
      "metadata": {
        "colab": {
          "base_uri": "https://localhost:8080/",
          "height": 841
        },
        "id": "_y9oXAyfSC8W",
        "outputId": "182de9d7-c666-4ddd-ba3c-9c8c0b726a71"
      },
      "outputs": [
        {
          "output_type": "display_data",
          "data": {
            "text/plain": [
              "<Figure size 504x1080 with 15 Axes>"
            ],
            "image/png": "[encoded data removed]"
          },
          "metadata": {
            "needs_background": "light"
          }
        }
      ],
      "source": [
        "#iris=pd.read_csv('iris.csv')\n",
        "csv_url = 'https://archive.ics.uci.edu/ml/machine-learning-databases/iris/iris.data'\n",
        "col_names = ['sepal_Length','sepal_Width','petal_Length','petal_Width','species']\n",
        "iris =  pd.read_csv(csv_url, names = col_names)\n",
        "\n",
        "\n",
        "f, axarr = plt.subplots(5,3)\n",
        "f.set_figheight(15)\n",
        "f.set_figwidth(7)\n",
        "\n",
        "for i in range(5):\n",
        "  data=iris.sample(30)\n",
        "  X=(data.loc[:,['sepal_Length','sepal_Width']]).values\n",
        "  data[\"y\"]=LabelEncoder().fit_transform(data['species'])\n",
        "  y=np.ravel((data.loc[:,['y']]).values)\n",
        "  j = 0\n",
        "  for modelo in [KNeighborsClassifier(),LogisticRegression(),DecisionTreeClassifier()]:\n",
        "    f.add_subplot(axarr[i,j])\n",
        "    visualize_classifier_behavior(modelo,X, y, ax = None)\n",
        "    j += 1"
      ]
    },
    {
      "cell_type": "markdown",
      "metadata": {
        "id": "YzfWT8L6g6yj"
      },
      "source": [
        "Compute and report the average error rate of the kNN classifier for 10 repetitions and a training size of 70%."
      ]
    },
    {
      "cell_type": "code",
      "execution_count": null,
      "metadata": {
        "colab": {
          "base_uri": "https://localhost:8080/"
        },
        "id": "UM8uIKm_ZXtP",
        "outputId": "5106d1fe-dd6d-4e7a-807e-97f300864f25"
      },
      "outputs": [
        {
          "output_type": "stream",
          "name": "stdout",
          "text": [
            "Die durchschnittliche Fehler für 10 Wiederholungen ist: 11.9%\n"
          ]
        }
      ],
      "source": [
        "acc = []\n",
        "for i in range(10):\n",
        "  x_train,x_test,y_train,y_test=train_test_split(X,y,test_size=0.3)\n",
        "  y_train, y_test = np.ravel(y_train), np.ravel(y_test)\n",
        "  modelo = KNeighborsClassifier()\n",
        "  modelo.fit(x_train, y_train)\n",
        "  predictions_dev = modelo.predict(x_train)\n",
        "  #cm=confusion_matrix(y_train,predictions_dev,labels=[0,1])\n",
        "  acc.append(round(accuracy_score(y_train,predictions_dev)*100, 4))\n",
        "  #print(f\"Recall Score: {round(recall_score(y_train,predictions_dev)*100, 4)}%\")\n",
        "  #print(f\"Precision Score: {round(precision_score(y_train,predictions_dev)*100, 4)}%\")\n",
        "  #print(f\"ROC AUC Score: {round(roc_auc_score(y_train,predictions_dev)*100, 4)}%\")\n",
        "\n",
        "print(f\"Die durchschnittliche Fehler für 10 Wiederholungen ist: {round(100 - np.mean(acc), 2)}%\")"
      ]
    },
    {
      "cell_type": "markdown",
      "metadata": {
        "id": "zARGhcTWeN00"
      },
      "source": [
        "4. Create and plot learning curves of the three classifiers on the iris dataset (using accuracy as the metric). Which learner works best on which training sizes, which worst? Will more data help improve performance for any of them?"
      ]
    },
    {
      "cell_type": "code",
      "execution_count": null,
      "metadata": {
        "colab": {
          "base_uri": "https://localhost:8080/",
          "height": 851
        },
        "id": "MSnZNFuhdgJF",
        "outputId": "91b9cfed-548e-46aa-f4b5-bd799af9a6a1"
      },
      "outputs": [
        {
          "output_type": "display_data",
          "data": {
            "text/plain": [
              "<Figure size 432x288 with 1 Axes>"
            ],
            "image/png": "[encoded data removed]"
          },
          "metadata": {
            "needs_background": "light"
          }
        },
        {
          "output_type": "display_data",
          "data": {
            "text/plain": [
              "<Figure size 432x288 with 1 Axes>"
            ],
            "image/png": "[encoded data removed]"
          },
          "metadata": {
            "needs_background": "light"
          }
        },
        {
          "output_type": "display_data",
          "data": {
            "text/plain": [
              "<Figure size 432x288 with 1 Axes>"
            ],
            "image/png": "[encoded data removed]"
          },
          "metadata": {
            "needs_background": "light"
          }
        }
      ],
      "source": [
        "splits = 100\n",
        "\n",
        "X=(iris.loc[:,['sepal_Length','sepal_Width']]).values\n",
        "iris[\"y\"]=LabelEncoder().fit_transform(iris['species'])\n",
        "y=np.ravel((iris.loc[:,['y']]).values)\n",
        "\n",
        "\n",
        "def plot_learning_curve(estimator, title, X, y, ylim=None, cv=None,\n",
        "                        n_jobs=None, train_sizes=np.linspace(.1, 1.0, 5)):\n",
        " \n",
        "    plt.figure()\n",
        "    plt.title(title)\n",
        "    if ylim is not None:\n",
        "        plt.ylim(*ylim)\n",
        "    plt.xlabel(\"Training examples\")\n",
        "    plt.ylabel(\"Score\")\n",
        "    train_sizes, train_scores, test_scores = learning_curve(\n",
        "        estimator, X, y, cv=cv, n_jobs=n_jobs, train_sizes=train_sizes)\n",
        "    train_scores_mean = np.mean(train_scores, axis=1)\n",
        "    train_scores_std = np.std(train_scores, axis=1)\n",
        "    test_scores_mean = np.mean(test_scores, axis=1)\n",
        "    test_scores_std = np.std(test_scores, axis=1)\n",
        "    plt.grid()\n",
        "\n",
        "    plt.fill_between(train_sizes, train_scores_mean - train_scores_std,\n",
        "                     train_scores_mean + train_scores_std, alpha=0.1,\n",
        "                     color=\"r\")\n",
        "    plt.fill_between(train_sizes, test_scores_mean - test_scores_std,\n",
        "                     test_scores_mean + test_scores_std, alpha=0.1, color=\"g\")\n",
        "    plt.plot(train_sizes, train_scores_mean, 'o-', color=\"r\",\n",
        "             label=\"Training score\")\n",
        "    plt.plot(train_sizes, test_scores_mean, 'o-', color=\"g\",\n",
        "             label=\"Cross-validation score\")\n",
        "\n",
        "    plt.legend(loc=\"best\")\n",
        "    return plt\n",
        "\n",
        "\n",
        "\n",
        "title = \"Learning Curves (KNeighborsClassifier)\"\n",
        "cv = ShuffleSplit(n_splits=splits, test_size=0.2, random_state=0)\n",
        "estimator = KNeighborsClassifier()\n",
        "plot_learning_curve(estimator, title, X, y, ylim=(0.45, 1), cv=cv, n_jobs=10)\n",
        "\n",
        "title = \"Learning Curves (LogisticRegression)\"\n",
        "cv = ShuffleSplit(n_splits=splits, test_size=0.2, random_state=0)\n",
        "estimator = LogisticRegression()\n",
        "plot_learning_curve(estimator, title, X, y, (0.45, 1), cv=cv, n_jobs=10)\n",
        "\n",
        "title = \"Learning Curves (DecisionTreeClassifier)\"\n",
        "cv = ShuffleSplit(n_splits=splits, test_size=0.2, random_state=0)\n",
        "estimator = DecisionTreeClassifier()\n",
        "plot_learning_curve(estimator, title, X, y, (0.45, 1), cv=cv, n_jobs=10)\n",
        "\n",
        "plt.show()"
      ]
    },
    {
      "cell_type": "markdown",
      "source": [
        "# Excercise 2"
      ],
      "metadata": {
        "id": "9q11GtgW-Ca5"
      }
    },
    {
      "cell_type": "markdown",
      "source": [
        "1. Choose a dataset from whichever source that serves to address a prediction problem.\n"
      ],
      "metadata": {
        "id": "ePiiesiU-JFs"
      }
    },
    {
      "cell_type": "code",
      "source": [
        "bucket = \"unisabana-ml\"\n",
        "s3 = boto3.resource('s3',\n",
        "          aws_access_key_id='AKIA...',\n",
        "          aws_secret_access_key= 'C2nnmXFlEN...')\n",
        "\n",
        "s3.Bucket(bucket).download_file(Key='opendata/heart.csv', Filename='heart.csv')\n",
        "s3.Bucket(bucket).download_file(Key='opendata/fetal_health.csv', Filename='fetal_health.csv')\n",
        "s3.Bucket(bucket).download_file(Key='opendata/Breast_Cancer.csv', Filename='Breast_Cancer.csv')\n",
        "\n",
        "heart_df = pd.read_csv('heart.csv')\n",
        "fetal_health_df = pd.read_csv('fetal_health.csv')\n",
        "cancer_df = pd.read_csv('Breast_Cancer.csv')\n"
      ],
      "metadata": {
        "id": "wzhcMqESxUB2"
      },
      "execution_count": null,
      "outputs": []
    },
    {
      "cell_type": "code",
      "source": [
        "cancer_df.info()\n",
        "cancer_df.head()"
      ],
      "metadata": {
        "colab": {
          "base_uri": "https://localhost:8080/",
          "height": 780
        },
        "outputId": "b79a428d-d3a3-49c2-c9f8-3768cb611961",
        "id": "P3xp4ToIAgL_"
      },
      "execution_count": null,
      "outputs": [
        {
          "output_type": "stream",
          "name": "stdout",
          "text": [
            "<class 'pandas.core.frame.DataFrame'>\n",
            "RangeIndex: 4024 entries, 0 to 4023\n",
            "Data columns (total 16 columns):\n",
            " #   Column                  Non-Null Count  Dtype \n",
            "---  ------                  --------------  ----- \n",
            " 0   Age                     4024 non-null   int64 \n",
            " 1   Race                    4024 non-null   object\n",
            " 2   Marital Status          4024 non-null   object\n",
            " 3   T Stage                 4024 non-null   object\n",
            " 4   N Stage                 4024 non-null   object\n",
            " 5   6th Stage               4024 non-null   object\n",
            " 6   differentiate           4024 non-null   object\n",
            " 7   Grade                   4024 non-null   object\n",
            " 8   A Stage                 4024 non-null   object\n",
            " 9   Tumor Size              4024 non-null   int64 \n",
            " 10  Estrogen Status         4024 non-null   object\n",
            " 11  Progesterone Status     4024 non-null   object\n",
            " 12  Regional Node Examined  4024 non-null   int64 \n",
            " 13  Reginol Node Positive   4024 non-null   int64 \n",
            " 14  Survival Months         4024 non-null   int64 \n",
            " 15  Status                  4024 non-null   object\n",
            "dtypes: int64(5), object(11)\n",
            "memory usage: 503.1+ KB\n"
          ]
        },
        {
          "output_type": "execute_result",
          "data": {
            "text/plain": [
              "   Age   Race Marital Status T Stage  N Stage 6th Stage  \\\n",
              "0   68  White        Married       T1      N1       IIA   \n",
              "1   50  White        Married       T2      N2      IIIA   \n",
              "2   58  White       Divorced       T3      N3      IIIC   \n",
              "3   58  White        Married       T1      N1       IIA   \n",
              "4   47  White        Married       T2      N1       IIB   \n",
              "\n",
              "               differentiate Grade   A Stage  Tumor Size Estrogen Status  \\\n",
              "0      Poorly differentiated     3  Regional           4        Positive   \n",
              "1  Moderately differentiated     2  Regional          35        Positive   \n",
              "2  Moderately differentiated     2  Regional          63        Positive   \n",
              "3      Poorly differentiated     3  Regional          18        Positive   \n",
              "4      Poorly differentiated     3  Regional          41        Positive   \n",
              "\n",
              "  Progesterone Status  Regional Node Examined  Reginol Node Positive  \\\n",
              "0            Positive                      24                      1   \n",
              "1            Positive                      14                      5   \n",
              "2            Positive                      14                      7   \n",
              "3            Positive                       2                      1   \n",
              "4            Positive                       3                      1   \n",
              "\n",
              "   Survival Months Status  \n",
              "0               60  Alive  \n",
              "1               62  Alive  \n",
              "2               75  Alive  \n",
              "3               84  Alive  \n",
              "4               50  Alive  "
            ],
            "text/html": [
              "\n",
              "  <div id=\"df-bc7e9fb8-c845-457a-bb81-97dabe4909de\">\n",
              "    <div class=\"colab-df-container\">\n",
              "      <div>\n",
              "<style scoped>\n",
              "    .dataframe tbody tr th:only-of-type {\n",
              "        vertical-align: middle;\n",
              "    }\n",
              "\n",
              "    .dataframe tbody tr th {\n",
              "        vertical-align: top;\n",
              "    }\n",
              "\n",
              "    .dataframe thead th {\n",
              "        text-align: right;\n",
              "    }\n",
              "</style>\n",
              "<table border=\"1\" class=\"dataframe\">\n",
              "  <thead>\n",
              "    <tr style=\"text-align: right;\">\n",
              "      <th></th>\n",
              "      <th>Age</th>\n",
              "      <th>Race</th>\n",
              "      <th>Marital Status</th>\n",
              "      <th>T Stage</th>\n",
              "      <th>N Stage</th>\n",
              "      <th>6th Stage</th>\n",
              "      <th>differentiate</th>\n",
              "      <th>Grade</th>\n",
              "      <th>A Stage</th>\n",
              "      <th>Tumor Size</th>\n",
              "      <th>Estrogen Status</th>\n",
              "      <th>Progesterone Status</th>\n",
              "      <th>Regional Node Examined</th>\n",
              "      <th>Reginol Node Positive</th>\n",
              "      <th>Survival Months</th>\n",
              "      <th>Status</th>\n",
              "    </tr>\n",
              "  </thead>\n",
              "  <tbody>\n",
              "    <tr>\n",
              "      <th>0</th>\n",
              "      <td>68</td>\n",
              "      <td>White</td>\n",
              "      <td>Married</td>\n",
              "      <td>T1</td>\n",
              "      <td>N1</td>\n",
              "      <td>IIA</td>\n",
              "      <td>Poorly differentiated</td>\n",
              "      <td>3</td>\n",
              "      <td>Regional</td>\n",
              "      <td>4</td>\n",
              "      <td>Positive</td>\n",
              "      <td>Positive</td>\n",
              "      <td>24</td>\n",
              "      <td>1</td>\n",
              "      <td>60</td>\n",
              "      <td>Alive</td>\n",
              "    </tr>\n",
              "    <tr>\n",
              "      <th>1</th>\n",
              "      <td>50</td>\n",
              "      <td>White</td>\n",
              "      <td>Married</td>\n",
              "      <td>T2</td>\n",
              "      <td>N2</td>\n",
              "      <td>IIIA</td>\n",
              "      <td>Moderately differentiated</td>\n",
              "      <td>2</td>\n",
              "      <td>Regional</td>\n",
              "      <td>35</td>\n",
              "      <td>Positive</td>\n",
              "      <td>Positive</td>\n",
              "      <td>14</td>\n",
              "      <td>5</td>\n",
              "      <td>62</td>\n",
              "      <td>Alive</td>\n",
              "    </tr>\n",
              "    <tr>\n",
              "      <th>2</th>\n",
              "      <td>58</td>\n",
              "      <td>White</td>\n",
              "      <td>Divorced</td>\n",
              "      <td>T3</td>\n",
              "      <td>N3</td>\n",
              "      <td>IIIC</td>\n",
              "      <td>Moderately differentiated</td>\n",
              "      <td>2</td>\n",
              "      <td>Regional</td>\n",
              "      <td>63</td>\n",
              "      <td>Positive</td>\n",
              "      <td>Positive</td>\n",
              "      <td>14</td>\n",
              "      <td>7</td>\n",
              "      <td>75</td>\n",
              "      <td>Alive</td>\n",
              "    </tr>\n",
              "    <tr>\n",
              "      <th>3</th>\n",
              "      <td>58</td>\n",
              "      <td>White</td>\n",
              "      <td>Married</td>\n",
              "      <td>T1</td>\n",
              "      <td>N1</td>\n",
              "      <td>IIA</td>\n",
              "      <td>Poorly differentiated</td>\n",
              "      <td>3</td>\n",
              "      <td>Regional</td>\n",
              "      <td>18</td>\n",
              "      <td>Positive</td>\n",
              "      <td>Positive</td>\n",
              "      <td>2</td>\n",
              "      <td>1</td>\n",
              "      <td>84</td>\n",
              "      <td>Alive</td>\n",
              "    </tr>\n",
              "    <tr>\n",
              "      <th>4</th>\n",
              "      <td>47</td>\n",
              "      <td>White</td>\n",
              "      <td>Married</td>\n",
              "      <td>T2</td>\n",
              "      <td>N1</td>\n",
              "      <td>IIB</td>\n",
              "      <td>Poorly differentiated</td>\n",
              "      <td>3</td>\n",
              "      <td>Regional</td>\n",
              "      <td>41</td>\n",
              "      <td>Positive</td>\n",
              "      <td>Positive</td>\n",
              "      <td>3</td>\n",
              "      <td>1</td>\n",
              "      <td>50</td>\n",
              "      <td>Alive</td>\n",
              "    </tr>\n",
              "  </tbody>\n",
              "</table>\n",
              "</div>\n",
              "      <button class=\"colab-df-convert\" onclick=\"convertToInteractive('df-bc7e9fb8-c845-457a-bb81-97dabe4909de')\"\n",
              "              title=\"Convert this dataframe to an interactive table.\"\n",
              "              style=\"display:none;\">\n",
              "        \n",
              "  <svg xmlns=\"http://www.w3.org/2000/svg\" height=\"24px\"viewBox=\"0 0 24 24\"\n",
              "       width=\"24px\">\n",
              "    <path d=\"M0 0h24v24H0V0z\" fill=\"none\"/>\n",
              "    <path d=\"M18.56 5.44l.94 2.06.94-2.06 2.06-.94-2.06-.94-.94-2.06-.94 2.06-2.06.94zm-11 1L8.5 8.5l.94-2.06 2.06-.94-2.06-.94L8.5 2.5l-.94 2.06-2.06.94zm10 10l.94 2.06.94-2.06 2.06-.94-2.06-.94-.94-2.06-.94 2.06-2.06.94z\"/><path d=\"M17.41 7.96l-1.37-1.37c-.4-.4-.92-.59-1.43-.59-.52 0-1.04.2-1.43.59L10.3 9.45l-7.72 7.72c-.78.78-.78 2.05 0 2.83L4 21.41c.39.39.9.59 1.41.59.51 0 1.02-.2 1.41-.59l7.78-7.78 2.81-2.81c.8-.78.8-2.07 0-2.86zM5.41 20L4 18.59l7.72-7.72 1.47 1.35L5.41 20z\"/>\n",
              "  </svg>\n",
              "      </button>\n",
              "      \n",
              "  <style>\n",
              "    .colab-df-container {\n",
              "      display:flex;\n",
              "      flex-wrap:wrap;\n",
              "      gap: 12px;\n",
              "    }\n",
              "\n",
              "    .colab-df-convert {\n",
              "      background-color: #E8F0FE;\n",
              "      border: none;\n",
              "      border-radius: 50%;\n",
              "      cursor: pointer;\n",
              "      display: none;\n",
              "      fill: #1967D2;\n",
              "      height: 32px;\n",
              "      padding: 0 0 0 0;\n",
              "      width: 32px;\n",
              "    }\n",
              "\n",
              "    .colab-df-convert:hover {\n",
              "      background-color: #E2EBFA;\n",
              "      box-shadow: 0px 1px 2px rgba(60, 64, 67, 0.3), 0px 1px 3px 1px rgba(60, 64, 67, 0.15);\n",
              "      fill: #174EA6;\n",
              "    }\n",
              "\n",
              "    [theme=dark] .colab-df-convert {\n",
              "      background-color: #3B4455;\n",
              "      fill: #D2E3FC;\n",
              "    }\n",
              "\n",
              "    [theme=dark] .colab-df-convert:hover {\n",
              "      background-color: #434B5C;\n",
              "      box-shadow: 0px 1px 3px 1px rgba(0, 0, 0, 0.15);\n",
              "      filter: drop-shadow(0px 1px 2px rgba(0, 0, 0, 0.3));\n",
              "      fill: #FFFFFF;\n",
              "    }\n",
              "  </style>\n",
              "\n",
              "      <script>\n",
              "        const buttonEl =\n",
              "          document.querySelector('#df-bc7e9fb8-c845-457a-bb81-97dabe4909de button.colab-df-convert');\n",
              "        buttonEl.style.display =\n",
              "          google.colab.kernel.accessAllowed ? 'block' : 'none';\n",
              "\n",
              "        async function convertToInteractive(key) {\n",
              "          const element = document.querySelector('#df-bc7e9fb8-c845-457a-bb81-97dabe4909de');\n",
              "          const dataTable =\n",
              "            await google.colab.kernel.invokeFunction('convertToInteractive',\n",
              "                                                     [key], {});\n",
              "          if (!dataTable) return;\n",
              "\n",
              "          const docLinkHtml = 'Like what you see? Visit the ' +\n",
              "            '<a target=\"_blank\" href=https://colab.research.google.com/notebooks/data_table.ipynb>data table notebook</a>'\n",
              "            + ' to learn more about interactive tables.';\n",
              "          element.innerHTML = '';\n",
              "          dataTable['output_type'] = 'display_data';\n",
              "          await google.colab.output.renderOutput(dataTable, element);\n",
              "          const docLink = document.createElement('div');\n",
              "          docLink.innerHTML = docLinkHtml;\n",
              "          element.appendChild(docLink);\n",
              "        }\n",
              "      </script>\n",
              "    </div>\n",
              "  </div>\n",
              "  "
            ]
          },
          "metadata": {},
          "execution_count": 14
        }
      ]
    },
    {
      "cell_type": "code",
      "source": [
        "cancer_df.describe(include=\"object\")"
      ],
      "metadata": {
        "colab": {
          "base_uri": "https://localhost:8080/",
          "height": 175
        },
        "id": "b9ks3RquC5av",
        "outputId": "1d48068d-1e42-43f6-8496-d0800e79dbf1"
      },
      "execution_count": null,
      "outputs": [
        {
          "output_type": "execute_result",
          "data": {
            "text/plain": [
              "         Race Marital Status T Stage  N Stage 6th Stage  \\\n",
              "count    4024           4024     4024    4024      4024   \n",
              "unique      3              5        4       3         5   \n",
              "top     White        Married       T2      N1       IIA   \n",
              "freq     3413           2643     1786    2732      1305   \n",
              "\n",
              "                    differentiate Grade   A Stage Estrogen Status  \\\n",
              "count                        4024  4024      4024            4024   \n",
              "unique                          4     4         2               2   \n",
              "top     Moderately differentiated     2  Regional        Positive   \n",
              "freq                         2351  2351      3932            3755   \n",
              "\n",
              "       Progesterone Status Status  \n",
              "count                 4024   4024  \n",
              "unique                   2      2  \n",
              "top               Positive  Alive  \n",
              "freq                  3326   3408  "
            ],
            "text/html": [
              "\n",
              "  <div id=\"df-333dfc78-632f-4872-9ccf-bc66f9c13925\">\n",
              "    <div class=\"colab-df-container\">\n",
              "      <div>\n",
              "<style scoped>\n",
              "    .dataframe tbody tr th:only-of-type {\n",
              "        vertical-align: middle;\n",
              "    }\n",
              "\n",
              "    .dataframe tbody tr th {\n",
              "        vertical-align: top;\n",
              "    }\n",
              "\n",
              "    .dataframe thead th {\n",
              "        text-align: right;\n",
              "    }\n",
              "</style>\n",
              "<table border=\"1\" class=\"dataframe\">\n",
              "  <thead>\n",
              "    <tr style=\"text-align: right;\">\n",
              "      <th></th>\n",
              "      <th>Race</th>\n",
              "      <th>Marital Status</th>\n",
              "      <th>T Stage</th>\n",
              "      <th>N Stage</th>\n",
              "      <th>6th Stage</th>\n",
              "      <th>differentiate</th>\n",
              "      <th>Grade</th>\n",
              "      <th>A Stage</th>\n",
              "      <th>Estrogen Status</th>\n",
              "      <th>Progesterone Status</th>\n",
              "      <th>Status</th>\n",
              "    </tr>\n",
              "  </thead>\n",
              "  <tbody>\n",
              "    <tr>\n",
              "      <th>count</th>\n",
              "      <td>4024</td>\n",
              "      <td>4024</td>\n",
              "      <td>4024</td>\n",
              "      <td>4024</td>\n",
              "      <td>4024</td>\n",
              "      <td>4024</td>\n",
              "      <td>4024</td>\n",
              "      <td>4024</td>\n",
              "      <td>4024</td>\n",
              "      <td>4024</td>\n",
              "      <td>4024</td>\n",
              "    </tr>\n",
              "    <tr>\n",
              "      <th>unique</th>\n",
              "      <td>3</td>\n",
              "      <td>5</td>\n",
              "      <td>4</td>\n",
              "      <td>3</td>\n",
              "      <td>5</td>\n",
              "      <td>4</td>\n",
              "      <td>4</td>\n",
              "      <td>2</td>\n",
              "      <td>2</td>\n",
              "      <td>2</td>\n",
              "      <td>2</td>\n",
              "    </tr>\n",
              "    <tr>\n",
              "      <th>top</th>\n",
              "      <td>White</td>\n",
              "      <td>Married</td>\n",
              "      <td>T2</td>\n",
              "      <td>N1</td>\n",
              "      <td>IIA</td>\n",
              "      <td>Moderately differentiated</td>\n",
              "      <td>2</td>\n",
              "      <td>Regional</td>\n",
              "      <td>Positive</td>\n",
              "      <td>Positive</td>\n",
              "      <td>Alive</td>\n",
              "    </tr>\n",
              "    <tr>\n",
              "      <th>freq</th>\n",
              "      <td>3413</td>\n",
              "      <td>2643</td>\n",
              "      <td>1786</td>\n",
              "      <td>2732</td>\n",
              "      <td>1305</td>\n",
              "      <td>2351</td>\n",
              "      <td>2351</td>\n",
              "      <td>3932</td>\n",
              "      <td>3755</td>\n",
              "      <td>3326</td>\n",
              "      <td>3408</td>\n",
              "    </tr>\n",
              "  </tbody>\n",
              "</table>\n",
              "</div>\n",
              "      <button class=\"colab-df-convert\" onclick=\"convertToInteractive('df-333dfc78-632f-4872-9ccf-bc66f9c13925')\"\n",
              "              title=\"Convert this dataframe to an interactive table.\"\n",
              "              style=\"display:none;\">\n",
              "        \n",
              "  <svg xmlns=\"http://www.w3.org/2000/svg\" height=\"24px\"viewBox=\"0 0 24 24\"\n",
              "       width=\"24px\">\n",
              "    <path d=\"M0 0h24v24H0V0z\" fill=\"none\"/>\n",
              "    <path d=\"M18.56 5.44l.94 2.06.94-2.06 2.06-.94-2.06-.94-.94-2.06-.94 2.06-2.06.94zm-11 1L8.5 8.5l.94-2.06 2.06-.94-2.06-.94L8.5 2.5l-.94 2.06-2.06.94zm10 10l.94 2.06.94-2.06 2.06-.94-2.06-.94-.94-2.06-.94 2.06-2.06.94z\"/><path d=\"M17.41 7.96l-1.37-1.37c-.4-.4-.92-.59-1.43-.59-.52 0-1.04.2-1.43.59L10.3 9.45l-7.72 7.72c-.78.78-.78 2.05 0 2.83L4 21.41c.39.39.9.59 1.41.59.51 0 1.02-.2 1.41-.59l7.78-7.78 2.81-2.81c.8-.78.8-2.07 0-2.86zM5.41 20L4 18.59l7.72-7.72 1.47 1.35L5.41 20z\"/>\n",
              "  </svg>\n",
              "      </button>\n",
              "      \n",
              "  <style>\n",
              "    .colab-df-container {\n",
              "      display:flex;\n",
              "      flex-wrap:wrap;\n",
              "      gap: 12px;\n",
              "    }\n",
              "\n",
              "    .colab-df-convert {\n",
              "      background-color: #E8F0FE;\n",
              "      border: none;\n",
              "      border-radius: 50%;\n",
              "      cursor: pointer;\n",
              "      display: none;\n",
              "      fill: #1967D2;\n",
              "      height: 32px;\n",
              "      padding: 0 0 0 0;\n",
              "      width: 32px;\n",
              "    }\n",
              "\n",
              "    .colab-df-convert:hover {\n",
              "      background-color: #E2EBFA;\n",
              "      box-shadow: 0px 1px 2px rgba(60, 64, 67, 0.3), 0px 1px 3px 1px rgba(60, 64, 67, 0.15);\n",
              "      fill: #174EA6;\n",
              "    }\n",
              "\n",
              "    [theme=dark] .colab-df-convert {\n",
              "      background-color: #3B4455;\n",
              "      fill: #D2E3FC;\n",
              "    }\n",
              "\n",
              "    [theme=dark] .colab-df-convert:hover {\n",
              "      background-color: #434B5C;\n",
              "      box-shadow: 0px 1px 3px 1px rgba(0, 0, 0, 0.15);\n",
              "      filter: drop-shadow(0px 1px 2px rgba(0, 0, 0, 0.3));\n",
              "      fill: #FFFFFF;\n",
              "    }\n",
              "  </style>\n",
              "\n",
              "      <script>\n",
              "        const buttonEl =\n",
              "          document.querySelector('#df-333dfc78-632f-4872-9ccf-bc66f9c13925 button.colab-df-convert');\n",
              "        buttonEl.style.display =\n",
              "          google.colab.kernel.accessAllowed ? 'block' : 'none';\n",
              "\n",
              "        async function convertToInteractive(key) {\n",
              "          const element = document.querySelector('#df-333dfc78-632f-4872-9ccf-bc66f9c13925');\n",
              "          const dataTable =\n",
              "            await google.colab.kernel.invokeFunction('convertToInteractive',\n",
              "                                                     [key], {});\n",
              "          if (!dataTable) return;\n",
              "\n",
              "          const docLinkHtml = 'Like what you see? Visit the ' +\n",
              "            '<a target=\"_blank\" href=https://colab.research.google.com/notebooks/data_table.ipynb>data table notebook</a>'\n",
              "            + ' to learn more about interactive tables.';\n",
              "          element.innerHTML = '';\n",
              "          dataTable['output_type'] = 'display_data';\n",
              "          await google.colab.output.renderOutput(dataTable, element);\n",
              "          const docLink = document.createElement('div');\n",
              "          docLink.innerHTML = docLinkHtml;\n",
              "          element.appendChild(docLink);\n",
              "        }\n",
              "      </script>\n",
              "    </div>\n",
              "  </div>\n",
              "  "
            ]
          },
          "metadata": {},
          "execution_count": 15
        }
      ]
    },
    {
      "cell_type": "code",
      "source": [
        "cancer_df.nunique()"
      ],
      "metadata": {
        "colab": {
          "base_uri": "https://localhost:8080/"
        },
        "id": "DMA2AdM5AobS",
        "outputId": "7d825b42-d544-45d2-ca07-32a3f1a7e347"
      },
      "execution_count": null,
      "outputs": [
        {
          "output_type": "execute_result",
          "data": {
            "text/plain": [
              "Age                        40\n",
              "Race                        3\n",
              "Marital Status              5\n",
              "T Stage                     4\n",
              "N Stage                     3\n",
              "6th Stage                   5\n",
              "differentiate               4\n",
              "Grade                       4\n",
              "A Stage                     2\n",
              "Tumor Size                110\n",
              "Estrogen Status             2\n",
              "Progesterone Status         2\n",
              "Regional Node Examined     54\n",
              "Reginol Node Positive      38\n",
              "Survival Months           107\n",
              "Status                      2\n",
              "dtype: int64"
            ]
          },
          "metadata": {},
          "execution_count": 16
        }
      ]
    },
    {
      "cell_type": "code",
      "source": [
        "cancer_df.columns"
      ],
      "metadata": {
        "colab": {
          "base_uri": "https://localhost:8080/"
        },
        "id": "_0NAUBaOg7hW",
        "outputId": "ec2b25d5-42f4-494f-fa35-80c7e4479c47"
      },
      "execution_count": null,
      "outputs": [
        {
          "output_type": "execute_result",
          "data": {
            "text/plain": [
              "Index(['Age', 'Race', 'Marital Status', 'T Stage ', 'N Stage', '6th Stage',\n",
              "       'differentiate', 'Grade', 'A Stage', 'Tumor Size', 'Estrogen Status',\n",
              "       'Progesterone Status', 'Regional Node Examined',\n",
              "       'Reginol Node Positive', 'Survival Months', 'Status'],\n",
              "      dtype='object')"
            ]
          },
          "metadata": {},
          "execution_count": 17
        }
      ]
    },
    {
      "cell_type": "code",
      "source": [
        "list2delete = ['Status', 'Regional Node Examined','Reginol Node Positive']\n",
        "list2transform = ['Race', 'Marital Status', 'T Stage ', 'N Stage', '6th Stage','differentiate', 'A Stage', 'Estrogen Status', 'Progesterone Status']"
      ],
      "metadata": {
        "id": "CZ9FbUWnEasJ"
      },
      "execution_count": null,
      "outputs": []
    },
    {
      "cell_type": "code",
      "source": [
        "from sklearn.preprocessing import OneHotEncoder\n",
        "from sklearn.preprocessing import MinMaxScaler\n",
        "\n",
        "cancer_df = pd.read_csv('Breast_Cancer.csv')\n",
        "\n",
        "cancer_df = cancer_df[ cancer_df['Grade'] != ' anaplastic; Grade IV']\n",
        "cancer_df = cancer_df.reset_index( drop = True)\n",
        "#cancer_df = cancer_df[ cancer_df['Grade'] != np.nan]\n",
        "encoder = OneHotEncoder(drop='first', sparse=False).fit(cancer_df[list2transform])\n",
        "test = pd.DataFrame(encoder.transform(cancer_df[list2transform]))\n",
        "test.columns = encoder.get_feature_names(list2transform)\n",
        "\n",
        "model_master = cancer_df.drop(list2delete,axis=1)\n",
        "model_master = cancer_df.drop(list2transform,axis=1).drop(['Status'], axis=1)\n",
        "\n",
        "lista = list(model_master)\n",
        "model_master = MinMaxScaler().fit_transform(model_master)\n",
        "\n",
        "model_master = pd.DataFrame(model_master, columns = lista)"
      ],
      "metadata": {
        "colab": {
          "base_uri": "https://localhost:8080/"
        },
        "id": "W1yTIuF7B69z",
        "outputId": "0e549008-4e9e-4be0-e074-c64b89a0d830"
      },
      "execution_count": null,
      "outputs": [
        {
          "output_type": "stream",
          "name": "stderr",
          "text": [
            "/usr/local/lib/python3.7/dist-packages/sklearn/utils/deprecation.py:87: FutureWarning: Function get_feature_names is deprecated; get_feature_names is deprecated in 1.0 and will be removed in 1.2. Please use get_feature_names_out instead.\n",
            "  warnings.warn(msg, category=FutureWarning)\n"
          ]
        }
      ]
    },
    {
      "cell_type": "code",
      "source": [
        "model_master"
      ],
      "metadata": {
        "colab": {
          "base_uri": "https://localhost:8080/",
          "height": 424
        },
        "id": "ChWTjeMbc47c",
        "outputId": "63761b67-60db-4463-89e6-4c139c96f5a8"
      },
      "execution_count": null,
      "outputs": [
        {
          "output_type": "execute_result",
          "data": {
            "text/plain": [
              "           Age  Grade  Tumor Size  Regional Node Examined  \\\n",
              "0     0.974359    1.0    0.021583                0.383333   \n",
              "1     0.512821    0.5    0.244604                0.216667   \n",
              "2     0.717949    0.5    0.446043                0.216667   \n",
              "3     0.717949    1.0    0.122302                0.016667   \n",
              "4     0.435897    1.0    0.287770                0.033333   \n",
              "...        ...    ...         ...                     ...   \n",
              "4000  0.820513    0.5    0.057554                0.000000   \n",
              "4001  0.666667    0.5    0.323741                0.216667   \n",
              "4002  0.974359    0.5    0.151079                0.166667   \n",
              "4003  0.717949    0.5    0.309353                0.166667   \n",
              "4004  0.410256    0.5    0.208633                0.100000   \n",
              "\n",
              "      Reginol Node Positive  Survival Months  \n",
              "0                  0.000000         0.556604  \n",
              "1                  0.088889         0.575472  \n",
              "2                  0.133333         0.698113  \n",
              "3                  0.000000         0.783019  \n",
              "4                  0.000000         0.462264  \n",
              "...                     ...              ...  \n",
              "4000               0.000000         0.452830  \n",
              "4001               0.155556         0.641509  \n",
              "4002               0.044444         0.641509  \n",
              "4003               0.000000         0.669811  \n",
              "4004               0.022222         0.933962  \n",
              "\n",
              "[4005 rows x 6 columns]"
            ],
            "text/html": [
              "\n",
              "  <div id=\"df-e4dd79e9-9b6c-4b13-8e8a-52900bb18132\">\n",
              "    <div class=\"colab-df-container\">\n",
              "      <div>\n",
              "<style scoped>\n",
              "    .dataframe tbody tr th:only-of-type {\n",
              "        vertical-align: middle;\n",
              "    }\n",
              "\n",
              "    .dataframe tbody tr th {\n",
              "        vertical-align: top;\n",
              "    }\n",
              "\n",
              "    .dataframe thead th {\n",
              "        text-align: right;\n",
              "    }\n",
              "</style>\n",
              "<table border=\"1\" class=\"dataframe\">\n",
              "  <thead>\n",
              "    <tr style=\"text-align: right;\">\n",
              "      <th></th>\n",
              "      <th>Age</th>\n",
              "      <th>Grade</th>\n",
              "      <th>Tumor Size</th>\n",
              "      <th>Regional Node Examined</th>\n",
              "      <th>Reginol Node Positive</th>\n",
              "      <th>Survival Months</th>\n",
              "    </tr>\n",
              "  </thead>\n",
              "  <tbody>\n",
              "    <tr>\n",
              "      <th>0</th>\n",
              "      <td>0.974359</td>\n",
              "      <td>1.0</td>\n",
              "      <td>0.021583</td>\n",
              "      <td>0.383333</td>\n",
              "      <td>0.000000</td>\n",
              "      <td>0.556604</td>\n",
              "    </tr>\n",
              "    <tr>\n",
              "      <th>1</th>\n",
              "      <td>0.512821</td>\n",
              "      <td>0.5</td>\n",
              "      <td>0.244604</td>\n",
              "      <td>0.216667</td>\n",
              "      <td>0.088889</td>\n",
              "      <td>0.575472</td>\n",
              "    </tr>\n",
              "    <tr>\n",
              "      <th>2</th>\n",
              "      <td>0.717949</td>\n",
              "      <td>0.5</td>\n",
              "      <td>0.446043</td>\n",
              "      <td>0.216667</td>\n",
              "      <td>0.133333</td>\n",
              "      <td>0.698113</td>\n",
              "    </tr>\n",
              "    <tr>\n",
              "      <th>3</th>\n",
              "      <td>0.717949</td>\n",
              "      <td>1.0</td>\n",
              "      <td>0.122302</td>\n",
              "      <td>0.016667</td>\n",
              "      <td>0.000000</td>\n",
              "      <td>0.783019</td>\n",
              "    </tr>\n",
              "    <tr>\n",
              "      <th>4</th>\n",
              "      <td>0.435897</td>\n",
              "      <td>1.0</td>\n",
              "      <td>0.287770</td>\n",
              "      <td>0.033333</td>\n",
              "      <td>0.000000</td>\n",
              "      <td>0.462264</td>\n",
              "    </tr>\n",
              "    <tr>\n",
              "      <th>...</th>\n",
              "      <td>...</td>\n",
              "      <td>...</td>\n",
              "      <td>...</td>\n",
              "      <td>...</td>\n",
              "      <td>...</td>\n",
              "      <td>...</td>\n",
              "    </tr>\n",
              "    <tr>\n",
              "      <th>4000</th>\n",
              "      <td>0.820513</td>\n",
              "      <td>0.5</td>\n",
              "      <td>0.057554</td>\n",
              "      <td>0.000000</td>\n",
              "      <td>0.000000</td>\n",
              "      <td>0.452830</td>\n",
              "    </tr>\n",
              "    <tr>\n",
              "      <th>4001</th>\n",
              "      <td>0.666667</td>\n",
              "      <td>0.5</td>\n",
              "      <td>0.323741</td>\n",
              "      <td>0.216667</td>\n",
              "      <td>0.155556</td>\n",
              "      <td>0.641509</td>\n",
              "    </tr>\n",
              "    <tr>\n",
              "      <th>4002</th>\n",
              "      <td>0.974359</td>\n",
              "      <td>0.5</td>\n",
              "      <td>0.151079</td>\n",
              "      <td>0.166667</td>\n",
              "      <td>0.044444</td>\n",
              "      <td>0.641509</td>\n",
              "    </tr>\n",
              "    <tr>\n",
              "      <th>4003</th>\n",
              "      <td>0.717949</td>\n",
              "      <td>0.5</td>\n",
              "      <td>0.309353</td>\n",
              "      <td>0.166667</td>\n",
              "      <td>0.000000</td>\n",
              "      <td>0.669811</td>\n",
              "    </tr>\n",
              "    <tr>\n",
              "      <th>4004</th>\n",
              "      <td>0.410256</td>\n",
              "      <td>0.5</td>\n",
              "      <td>0.208633</td>\n",
              "      <td>0.100000</td>\n",
              "      <td>0.022222</td>\n",
              "      <td>0.933962</td>\n",
              "    </tr>\n",
              "  </tbody>\n",
              "</table>\n",
              "<p>4005 rows × 6 columns</p>\n",
              "</div>\n",
              "      <button class=\"colab-df-convert\" onclick=\"convertToInteractive('df-e4dd79e9-9b6c-4b13-8e8a-52900bb18132')\"\n",
              "              title=\"Convert this dataframe to an interactive table.\"\n",
              "              style=\"display:none;\">\n",
              "        \n",
              "  <svg xmlns=\"http://www.w3.org/2000/svg\" height=\"24px\"viewBox=\"0 0 24 24\"\n",
              "       width=\"24px\">\n",
              "    <path d=\"M0 0h24v24H0V0z\" fill=\"none\"/>\n",
              "    <path d=\"M18.56 5.44l.94 2.06.94-2.06 2.06-.94-2.06-.94-.94-2.06-.94 2.06-2.06.94zm-11 1L8.5 8.5l.94-2.06 2.06-.94-2.06-.94L8.5 2.5l-.94 2.06-2.06.94zm10 10l.94 2.06.94-2.06 2.06-.94-2.06-.94-.94-2.06-.94 2.06-2.06.94z\"/><path d=\"M17.41 7.96l-1.37-1.37c-.4-.4-.92-.59-1.43-.59-.52 0-1.04.2-1.43.59L10.3 9.45l-7.72 7.72c-.78.78-.78 2.05 0 2.83L4 21.41c.39.39.9.59 1.41.59.51 0 1.02-.2 1.41-.59l7.78-7.78 2.81-2.81c.8-.78.8-2.07 0-2.86zM5.41 20L4 18.59l7.72-7.72 1.47 1.35L5.41 20z\"/>\n",
              "  </svg>\n",
              "      </button>\n",
              "      \n",
              "  <style>\n",
              "    .colab-df-container {\n",
              "      display:flex;\n",
              "      flex-wrap:wrap;\n",
              "      gap: 12px;\n",
              "    }\n",
              "\n",
              "    .colab-df-convert {\n",
              "      background-color: #E8F0FE;\n",
              "      border: none;\n",
              "      border-radius: 50%;\n",
              "      cursor: pointer;\n",
              "      display: none;\n",
              "      fill: #1967D2;\n",
              "      height: 32px;\n",
              "      padding: 0 0 0 0;\n",
              "      width: 32px;\n",
              "    }\n",
              "\n",
              "    .colab-df-convert:hover {\n",
              "      background-color: #E2EBFA;\n",
              "      box-shadow: 0px 1px 2px rgba(60, 64, 67, 0.3), 0px 1px 3px 1px rgba(60, 64, 67, 0.15);\n",
              "      fill: #174EA6;\n",
              "    }\n",
              "\n",
              "    [theme=dark] .colab-df-convert {\n",
              "      background-color: #3B4455;\n",
              "      fill: #D2E3FC;\n",
              "    }\n",
              "\n",
              "    [theme=dark] .colab-df-convert:hover {\n",
              "      background-color: #434B5C;\n",
              "      box-shadow: 0px 1px 3px 1px rgba(0, 0, 0, 0.15);\n",
              "      filter: drop-shadow(0px 1px 2px rgba(0, 0, 0, 0.3));\n",
              "      fill: #FFFFFF;\n",
              "    }\n",
              "  </style>\n",
              "\n",
              "      <script>\n",
              "        const buttonEl =\n",
              "          document.querySelector('#df-e4dd79e9-9b6c-4b13-8e8a-52900bb18132 button.colab-df-convert');\n",
              "        buttonEl.style.display =\n",
              "          google.colab.kernel.accessAllowed ? 'block' : 'none';\n",
              "\n",
              "        async function convertToInteractive(key) {\n",
              "          const element = document.querySelector('#df-e4dd79e9-9b6c-4b13-8e8a-52900bb18132');\n",
              "          const dataTable =\n",
              "            await google.colab.kernel.invokeFunction('convertToInteractive',\n",
              "                                                     [key], {});\n",
              "          if (!dataTable) return;\n",
              "\n",
              "          const docLinkHtml = 'Like what you see? Visit the ' +\n",
              "            '<a target=\"_blank\" href=https://colab.research.google.com/notebooks/data_table.ipynb>data table notebook</a>'\n",
              "            + ' to learn more about interactive tables.';\n",
              "          element.innerHTML = '';\n",
              "          dataTable['output_type'] = 'display_data';\n",
              "          await google.colab.output.renderOutput(dataTable, element);\n",
              "          const docLink = document.createElement('div');\n",
              "          docLink.innerHTML = docLinkHtml;\n",
              "          element.appendChild(docLink);\n",
              "        }\n",
              "      </script>\n",
              "    </div>\n",
              "  </div>\n",
              "  "
            ]
          },
          "metadata": {},
          "execution_count": 20
        }
      ]
    },
    {
      "cell_type": "code",
      "source": [
        "X = pd.concat([model_master,test], axis=1)\n",
        "X  = X [ X ['Grade'] != np.nan]\n",
        "cancer_df[\"target\"] = LabelEncoder().fit_transform(cancer_df['Status'])\n",
        "y = cancer_df[\"target\"] "
      ],
      "metadata": {
        "id": "WlSwEfbYFqnl"
      },
      "execution_count": null,
      "outputs": []
    },
    {
      "cell_type": "code",
      "source": [
        "X"
      ],
      "metadata": {
        "colab": {
          "base_uri": "https://localhost:8080/",
          "height": 522
        },
        "id": "zqzDN8ePqup8",
        "outputId": "b15bc790-385e-4a92-fd39-9e761eac65fa"
      },
      "execution_count": null,
      "outputs": [
        {
          "output_type": "execute_result",
          "data": {
            "text/plain": [
              "           Age  Grade  Tumor Size  Regional Node Examined  \\\n",
              "0     0.974359    1.0    0.021583                0.383333   \n",
              "1     0.512821    0.5    0.244604                0.216667   \n",
              "2     0.717949    0.5    0.446043                0.216667   \n",
              "3     0.717949    1.0    0.122302                0.016667   \n",
              "4     0.435897    1.0    0.287770                0.033333   \n",
              "...        ...    ...         ...                     ...   \n",
              "4000  0.820513    0.5    0.057554                0.000000   \n",
              "4001  0.666667    0.5    0.323741                0.216667   \n",
              "4002  0.974359    0.5    0.151079                0.166667   \n",
              "4003  0.717949    0.5    0.309353                0.166667   \n",
              "4004  0.410256    0.5    0.208633                0.100000   \n",
              "\n",
              "      Reginol Node Positive  Survival Months  Race_Other  Race_White  \\\n",
              "0                  0.000000         0.556604         0.0         1.0   \n",
              "1                  0.088889         0.575472         0.0         1.0   \n",
              "2                  0.133333         0.698113         0.0         1.0   \n",
              "3                  0.000000         0.783019         0.0         1.0   \n",
              "4                  0.000000         0.462264         0.0         1.0   \n",
              "...                     ...              ...         ...         ...   \n",
              "4000               0.000000         0.452830         1.0         0.0   \n",
              "4001               0.155556         0.641509         0.0         1.0   \n",
              "4002               0.044444         0.641509         0.0         1.0   \n",
              "4003               0.000000         0.669811         0.0         0.0   \n",
              "4004               0.022222         0.933962         0.0         1.0   \n",
              "\n",
              "      Marital Status_Married  Marital Status_Separated  ...  N Stage_N3  \\\n",
              "0                        1.0                       0.0  ...         0.0   \n",
              "1                        1.0                       0.0  ...         0.0   \n",
              "2                        0.0                       0.0  ...         1.0   \n",
              "3                        1.0                       0.0  ...         0.0   \n",
              "4                        1.0                       0.0  ...         0.0   \n",
              "...                      ...                       ...  ...         ...   \n",
              "4000                     1.0                       0.0  ...         0.0   \n",
              "4001                     0.0                       0.0  ...         0.0   \n",
              "4002                     1.0                       0.0  ...         0.0   \n",
              "4003                     0.0                       0.0  ...         0.0   \n",
              "4004                     1.0                       0.0  ...         0.0   \n",
              "\n",
              "      6th Stage_IIB  6th Stage_IIIA  6th Stage_IIIB  6th Stage_IIIC  \\\n",
              "0               0.0             0.0             0.0             0.0   \n",
              "1               0.0             1.0             0.0             0.0   \n",
              "2               0.0             0.0             0.0             1.0   \n",
              "3               0.0             0.0             0.0             0.0   \n",
              "4               1.0             0.0             0.0             0.0   \n",
              "...             ...             ...             ...             ...   \n",
              "4000            0.0             0.0             0.0             0.0   \n",
              "4001            0.0             1.0             0.0             0.0   \n",
              "4002            1.0             0.0             0.0             0.0   \n",
              "4003            1.0             0.0             0.0             0.0   \n",
              "4004            1.0             0.0             0.0             0.0   \n",
              "\n",
              "      differentiate_Poorly differentiated  differentiate_Well differentiated  \\\n",
              "0                                     1.0                                0.0   \n",
              "1                                     0.0                                0.0   \n",
              "2                                     0.0                                0.0   \n",
              "3                                     1.0                                0.0   \n",
              "4                                     1.0                                0.0   \n",
              "...                                   ...                                ...   \n",
              "4000                                  0.0                                0.0   \n",
              "4001                                  0.0                                0.0   \n",
              "4002                                  0.0                                0.0   \n",
              "4003                                  0.0                                0.0   \n",
              "4004                                  0.0                                0.0   \n",
              "\n",
              "      A Stage_Regional  Estrogen Status_Positive  Progesterone Status_Positive  \n",
              "0                  1.0                       1.0                           1.0  \n",
              "1                  1.0                       1.0                           1.0  \n",
              "2                  1.0                       1.0                           1.0  \n",
              "3                  1.0                       1.0                           1.0  \n",
              "4                  1.0                       1.0                           1.0  \n",
              "...                ...                       ...                           ...  \n",
              "4000               1.0                       1.0                           1.0  \n",
              "4001               1.0                       1.0                           1.0  \n",
              "4002               1.0                       1.0                           0.0  \n",
              "4003               1.0                       1.0                           1.0  \n",
              "4004               1.0                       1.0                           1.0  \n",
              "\n",
              "[4005 rows x 26 columns]"
            ],
            "text/html": [
              "\n",
              "  <div id=\"df-c0b2d23f-a2da-48ee-97fe-f36fab6ae24d\">\n",
              "    <div class=\"colab-df-container\">\n",
              "      <div>\n",
              "<style scoped>\n",
              "    .dataframe tbody tr th:only-of-type {\n",
              "        vertical-align: middle;\n",
              "    }\n",
              "\n",
              "    .dataframe tbody tr th {\n",
              "        vertical-align: top;\n",
              "    }\n",
              "\n",
              "    .dataframe thead th {\n",
              "        text-align: right;\n",
              "    }\n",
              "</style>\n",
              "<table border=\"1\" class=\"dataframe\">\n",
              "  <thead>\n",
              "    <tr style=\"text-align: right;\">\n",
              "      <th></th>\n",
              "      <th>Age</th>\n",
              "      <th>Grade</th>\n",
              "      <th>Tumor Size</th>\n",
              "      <th>Regional Node Examined</th>\n",
              "      <th>Reginol Node Positive</th>\n",
              "      <th>Survival Months</th>\n",
              "      <th>Race_Other</th>\n",
              "      <th>Race_White</th>\n",
              "      <th>Marital Status_Married</th>\n",
              "      <th>Marital Status_Separated</th>\n",
              "      <th>...</th>\n",
              "      <th>N Stage_N3</th>\n",
              "      <th>6th Stage_IIB</th>\n",
              "      <th>6th Stage_IIIA</th>\n",
              "      <th>6th Stage_IIIB</th>\n",
              "      <th>6th Stage_IIIC</th>\n",
              "      <th>differentiate_Poorly differentiated</th>\n",
              "      <th>differentiate_Well differentiated</th>\n",
              "      <th>A Stage_Regional</th>\n",
              "      <th>Estrogen Status_Positive</th>\n",
              "      <th>Progesterone Status_Positive</th>\n",
              "    </tr>\n",
              "  </thead>\n",
              "  <tbody>\n",
              "    <tr>\n",
              "      <th>0</th>\n",
              "      <td>0.974359</td>\n",
              "      <td>1.0</td>\n",
              "      <td>0.021583</td>\n",
              "      <td>0.383333</td>\n",
              "      <td>0.000000</td>\n",
              "      <td>0.556604</td>\n",
              "      <td>0.0</td>\n",
              "      <td>1.0</td>\n",
              "      <td>1.0</td>\n",
              "      <td>0.0</td>\n",
              "      <td>...</td>\n",
              "      <td>0.0</td>\n",
              "      <td>0.0</td>\n",
              "      <td>0.0</td>\n",
              "      <td>0.0</td>\n",
              "      <td>0.0</td>\n",
              "      <td>1.0</td>\n",
              "      <td>0.0</td>\n",
              "      <td>1.0</td>\n",
              "      <td>1.0</td>\n",
              "      <td>1.0</td>\n",
              "    </tr>\n",
              "    <tr>\n",
              "      <th>1</th>\n",
              "      <td>0.512821</td>\n",
              "      <td>0.5</td>\n",
              "      <td>0.244604</td>\n",
              "      <td>0.216667</td>\n",
              "      <td>0.088889</td>\n",
              "      <td>0.575472</td>\n",
              "      <td>0.0</td>\n",
              "      <td>1.0</td>\n",
              "      <td>1.0</td>\n",
              "      <td>0.0</td>\n",
              "      <td>...</td>\n",
              "      <td>0.0</td>\n",
              "      <td>0.0</td>\n",
              "      <td>1.0</td>\n",
              "      <td>0.0</td>\n",
              "      <td>0.0</td>\n",
              "      <td>0.0</td>\n",
              "      <td>0.0</td>\n",
              "      <td>1.0</td>\n",
              "      <td>1.0</td>\n",
              "      <td>1.0</td>\n",
              "    </tr>\n",
              "    <tr>\n",
              "      <th>2</th>\n",
              "      <td>0.717949</td>\n",
              "      <td>0.5</td>\n",
              "      <td>0.446043</td>\n",
              "      <td>0.216667</td>\n",
              "      <td>0.133333</td>\n",
              "      <td>0.698113</td>\n",
              "      <td>0.0</td>\n",
              "      <td>1.0</td>\n",
              "      <td>0.0</td>\n",
              "      <td>0.0</td>\n",
              "      <td>...</td>\n",
              "      <td>1.0</td>\n",
              "      <td>0.0</td>\n",
              "      <td>0.0</td>\n",
              "      <td>0.0</td>\n",
              "      <td>1.0</td>\n",
              "      <td>0.0</td>\n",
              "      <td>0.0</td>\n",
              "      <td>1.0</td>\n",
              "      <td>1.0</td>\n",
              "      <td>1.0</td>\n",
              "    </tr>\n",
              "    <tr>\n",
              "      <th>3</th>\n",
              "      <td>0.717949</td>\n",
              "      <td>1.0</td>\n",
              "      <td>0.122302</td>\n",
              "      <td>0.016667</td>\n",
              "      <td>0.000000</td>\n",
              "      <td>0.783019</td>\n",
              "      <td>0.0</td>\n",
              "      <td>1.0</td>\n",
              "      <td>1.0</td>\n",
              "      <td>0.0</td>\n",
              "      <td>...</td>\n",
              "      <td>0.0</td>\n",
              "      <td>0.0</td>\n",
              "      <td>0.0</td>\n",
              "      <td>0.0</td>\n",
              "      <td>0.0</td>\n",
              "      <td>1.0</td>\n",
              "      <td>0.0</td>\n",
              "      <td>1.0</td>\n",
              "      <td>1.0</td>\n",
              "      <td>1.0</td>\n",
              "    </tr>\n",
              "    <tr>\n",
              "      <th>4</th>\n",
              "      <td>0.435897</td>\n",
              "      <td>1.0</td>\n",
              "      <td>0.287770</td>\n",
              "      <td>0.033333</td>\n",
              "      <td>0.000000</td>\n",
              "      <td>0.462264</td>\n",
              "      <td>0.0</td>\n",
              "      <td>1.0</td>\n",
              "      <td>1.0</td>\n",
              "      <td>0.0</td>\n",
              "      <td>...</td>\n",
              "      <td>0.0</td>\n",
              "      <td>1.0</td>\n",
              "      <td>0.0</td>\n",
              "      <td>0.0</td>\n",
              "      <td>0.0</td>\n",
              "      <td>1.0</td>\n",
              "      <td>0.0</td>\n",
              "      <td>1.0</td>\n",
              "      <td>1.0</td>\n",
              "      <td>1.0</td>\n",
              "    </tr>\n",
              "    <tr>\n",
              "      <th>...</th>\n",
              "      <td>...</td>\n",
              "      <td>...</td>\n",
              "      <td>...</td>\n",
              "      <td>...</td>\n",
              "      <td>...</td>\n",
              "      <td>...</td>\n",
              "      <td>...</td>\n",
              "      <td>...</td>\n",
              "      <td>...</td>\n",
              "      <td>...</td>\n",
              "      <td>...</td>\n",
              "      <td>...</td>\n",
              "      <td>...</td>\n",
              "      <td>...</td>\n",
              "      <td>...</td>\n",
              "      <td>...</td>\n",
              "      <td>...</td>\n",
              "      <td>...</td>\n",
              "      <td>...</td>\n",
              "      <td>...</td>\n",
              "      <td>...</td>\n",
              "    </tr>\n",
              "    <tr>\n",
              "      <th>4000</th>\n",
              "      <td>0.820513</td>\n",
              "      <td>0.5</td>\n",
              "      <td>0.057554</td>\n",
              "      <td>0.000000</td>\n",
              "      <td>0.000000</td>\n",
              "      <td>0.452830</td>\n",
              "      <td>1.0</td>\n",
              "      <td>0.0</td>\n",
              "      <td>1.0</td>\n",
              "      <td>0.0</td>\n",
              "      <td>...</td>\n",
              "      <td>0.0</td>\n",
              "      <td>0.0</td>\n",
              "      <td>0.0</td>\n",
              "      <td>0.0</td>\n",
              "      <td>0.0</td>\n",
              "      <td>0.0</td>\n",
              "      <td>0.0</td>\n",
              "      <td>1.0</td>\n",
              "      <td>1.0</td>\n",
              "      <td>1.0</td>\n",
              "    </tr>\n",
              "    <tr>\n",
              "      <th>4001</th>\n",
              "      <td>0.666667</td>\n",
              "      <td>0.5</td>\n",
              "      <td>0.323741</td>\n",
              "      <td>0.216667</td>\n",
              "      <td>0.155556</td>\n",
              "      <td>0.641509</td>\n",
              "      <td>0.0</td>\n",
              "      <td>1.0</td>\n",
              "      <td>0.0</td>\n",
              "      <td>0.0</td>\n",
              "      <td>...</td>\n",
              "      <td>0.0</td>\n",
              "      <td>0.0</td>\n",
              "      <td>1.0</td>\n",
              "      <td>0.0</td>\n",
              "      <td>0.0</td>\n",
              "      <td>0.0</td>\n",
              "      <td>0.0</td>\n",
              "      <td>1.0</td>\n",
              "      <td>1.0</td>\n",
              "      <td>1.0</td>\n",
              "    </tr>\n",
              "    <tr>\n",
              "      <th>4002</th>\n",
              "      <td>0.974359</td>\n",
              "      <td>0.5</td>\n",
              "      <td>0.151079</td>\n",
              "      <td>0.166667</td>\n",
              "      <td>0.044444</td>\n",
              "      <td>0.641509</td>\n",
              "      <td>0.0</td>\n",
              "      <td>1.0</td>\n",
              "      <td>1.0</td>\n",
              "      <td>0.0</td>\n",
              "      <td>...</td>\n",
              "      <td>0.0</td>\n",
              "      <td>1.0</td>\n",
              "      <td>0.0</td>\n",
              "      <td>0.0</td>\n",
              "      <td>0.0</td>\n",
              "      <td>0.0</td>\n",
              "      <td>0.0</td>\n",
              "      <td>1.0</td>\n",
              "      <td>1.0</td>\n",
              "      <td>0.0</td>\n",
              "    </tr>\n",
              "    <tr>\n",
              "      <th>4003</th>\n",
              "      <td>0.717949</td>\n",
              "      <td>0.5</td>\n",
              "      <td>0.309353</td>\n",
              "      <td>0.166667</td>\n",
              "      <td>0.000000</td>\n",
              "      <td>0.669811</td>\n",
              "      <td>0.0</td>\n",
              "      <td>0.0</td>\n",
              "      <td>0.0</td>\n",
              "      <td>0.0</td>\n",
              "      <td>...</td>\n",
              "      <td>0.0</td>\n",
              "      <td>1.0</td>\n",
              "      <td>0.0</td>\n",
              "      <td>0.0</td>\n",
              "      <td>0.0</td>\n",
              "      <td>0.0</td>\n",
              "      <td>0.0</td>\n",
              "      <td>1.0</td>\n",
              "      <td>1.0</td>\n",
              "      <td>1.0</td>\n",
              "    </tr>\n",
              "    <tr>\n",
              "      <th>4004</th>\n",
              "      <td>0.410256</td>\n",
              "      <td>0.5</td>\n",
              "      <td>0.208633</td>\n",
              "      <td>0.100000</td>\n",
              "      <td>0.022222</td>\n",
              "      <td>0.933962</td>\n",
              "      <td>0.0</td>\n",
              "      <td>1.0</td>\n",
              "      <td>1.0</td>\n",
              "      <td>0.0</td>\n",
              "      <td>...</td>\n",
              "      <td>0.0</td>\n",
              "      <td>1.0</td>\n",
              "      <td>0.0</td>\n",
              "      <td>0.0</td>\n",
              "      <td>0.0</td>\n",
              "      <td>0.0</td>\n",
              "      <td>0.0</td>\n",
              "      <td>1.0</td>\n",
              "      <td>1.0</td>\n",
              "      <td>1.0</td>\n",
              "    </tr>\n",
              "  </tbody>\n",
              "</table>\n",
              "<p>4005 rows × 26 columns</p>\n",
              "</div>\n",
              "      <button class=\"colab-df-convert\" onclick=\"convertToInteractive('df-c0b2d23f-a2da-48ee-97fe-f36fab6ae24d')\"\n",
              "              title=\"Convert this dataframe to an interactive table.\"\n",
              "              style=\"display:none;\">\n",
              "        \n",
              "  <svg xmlns=\"http://www.w3.org/2000/svg\" height=\"24px\"viewBox=\"0 0 24 24\"\n",
              "       width=\"24px\">\n",
              "    <path d=\"M0 0h24v24H0V0z\" fill=\"none\"/>\n",
              "    <path d=\"M18.56 5.44l.94 2.06.94-2.06 2.06-.94-2.06-.94-.94-2.06-.94 2.06-2.06.94zm-11 1L8.5 8.5l.94-2.06 2.06-.94-2.06-.94L8.5 2.5l-.94 2.06-2.06.94zm10 10l.94 2.06.94-2.06 2.06-.94-2.06-.94-.94-2.06-.94 2.06-2.06.94z\"/><path d=\"M17.41 7.96l-1.37-1.37c-.4-.4-.92-.59-1.43-.59-.52 0-1.04.2-1.43.59L10.3 9.45l-7.72 7.72c-.78.78-.78 2.05 0 2.83L4 21.41c.39.39.9.59 1.41.59.51 0 1.02-.2 1.41-.59l7.78-7.78 2.81-2.81c.8-.78.8-2.07 0-2.86zM5.41 20L4 18.59l7.72-7.72 1.47 1.35L5.41 20z\"/>\n",
              "  </svg>\n",
              "      </button>\n",
              "      \n",
              "  <style>\n",
              "    .colab-df-container {\n",
              "      display:flex;\n",
              "      flex-wrap:wrap;\n",
              "      gap: 12px;\n",
              "    }\n",
              "\n",
              "    .colab-df-convert {\n",
              "      background-color: #E8F0FE;\n",
              "      border: none;\n",
              "      border-radius: 50%;\n",
              "      cursor: pointer;\n",
              "      display: none;\n",
              "      fill: #1967D2;\n",
              "      height: 32px;\n",
              "      padding: 0 0 0 0;\n",
              "      width: 32px;\n",
              "    }\n",
              "\n",
              "    .colab-df-convert:hover {\n",
              "      background-color: #E2EBFA;\n",
              "      box-shadow: 0px 1px 2px rgba(60, 64, 67, 0.3), 0px 1px 3px 1px rgba(60, 64, 67, 0.15);\n",
              "      fill: #174EA6;\n",
              "    }\n",
              "\n",
              "    [theme=dark] .colab-df-convert {\n",
              "      background-color: #3B4455;\n",
              "      fill: #D2E3FC;\n",
              "    }\n",
              "\n",
              "    [theme=dark] .colab-df-convert:hover {\n",
              "      background-color: #434B5C;\n",
              "      box-shadow: 0px 1px 3px 1px rgba(0, 0, 0, 0.15);\n",
              "      filter: drop-shadow(0px 1px 2px rgba(0, 0, 0, 0.3));\n",
              "      fill: #FFFFFF;\n",
              "    }\n",
              "  </style>\n",
              "\n",
              "      <script>\n",
              "        const buttonEl =\n",
              "          document.querySelector('#df-c0b2d23f-a2da-48ee-97fe-f36fab6ae24d button.colab-df-convert');\n",
              "        buttonEl.style.display =\n",
              "          google.colab.kernel.accessAllowed ? 'block' : 'none';\n",
              "\n",
              "        async function convertToInteractive(key) {\n",
              "          const element = document.querySelector('#df-c0b2d23f-a2da-48ee-97fe-f36fab6ae24d');\n",
              "          const dataTable =\n",
              "            await google.colab.kernel.invokeFunction('convertToInteractive',\n",
              "                                                     [key], {});\n",
              "          if (!dataTable) return;\n",
              "\n",
              "          const docLinkHtml = 'Like what you see? Visit the ' +\n",
              "            '<a target=\"_blank\" href=https://colab.research.google.com/notebooks/data_table.ipynb>data table notebook</a>'\n",
              "            + ' to learn more about interactive tables.';\n",
              "          element.innerHTML = '';\n",
              "          dataTable['output_type'] = 'display_data';\n",
              "          await google.colab.output.renderOutput(dataTable, element);\n",
              "          const docLink = document.createElement('div');\n",
              "          docLink.innerHTML = docLinkHtml;\n",
              "          element.appendChild(docLink);\n",
              "        }\n",
              "      </script>\n",
              "    </div>\n",
              "  </div>\n",
              "  "
            ]
          },
          "metadata": {},
          "execution_count": 23
        }
      ]
    },
    {
      "cell_type": "code",
      "source": [
        "y.value_counts(dropna= False)"
      ],
      "metadata": {
        "colab": {
          "base_uri": "https://localhost:8080/"
        },
        "id": "Pmo9GWMxGGMa",
        "outputId": "93724907-7582-44f0-ca4e-0fbf4e183dad"
      },
      "execution_count": null,
      "outputs": [
        {
          "output_type": "execute_result",
          "data": {
            "text/plain": [
              "0    3398\n",
              "1     607\n",
              "Name: target, dtype: int64"
            ]
          },
          "metadata": {},
          "execution_count": 22
        }
      ]
    },
    {
      "cell_type": "code",
      "source": [
        "X.isna().sum()"
      ],
      "metadata": {
        "colab": {
          "base_uri": "https://localhost:8080/"
        },
        "id": "Z-qXIl7_SeAQ",
        "outputId": "49d18909-a51c-40be-a14f-5d53df1a1336"
      },
      "execution_count": null,
      "outputs": [
        {
          "output_type": "execute_result",
          "data": {
            "text/plain": [
              "Age                                    0\n",
              "Grade                                  0\n",
              "Tumor Size                             0\n",
              "Regional Node Examined                 0\n",
              "Reginol Node Positive                  0\n",
              "Survival Months                        0\n",
              "Race_Other                             0\n",
              "Race_White                             0\n",
              "Marital Status_Married                 0\n",
              "Marital Status_Separated               0\n",
              "Marital Status_Single                  0\n",
              "Marital Status_Widowed                 0\n",
              "T Stage _T2                            0\n",
              "T Stage _T3                            0\n",
              "T Stage _T4                            0\n",
              "N Stage_N2                             0\n",
              "N Stage_N3                             0\n",
              "6th Stage_IIB                          0\n",
              "6th Stage_IIIA                         0\n",
              "6th Stage_IIIB                         0\n",
              "6th Stage_IIIC                         0\n",
              "differentiate_Poorly differentiated    0\n",
              "differentiate_Well differentiated      0\n",
              "A Stage_Regional                       0\n",
              "Estrogen Status_Positive               0\n",
              "Progesterone Status_Positive           0\n",
              "dtype: int64"
            ]
          },
          "metadata": {},
          "execution_count": 23
        }
      ]
    },
    {
      "cell_type": "code",
      "source": [
        "#X.Grade = X.Grade.fillna()\n",
        "x_train, x_test, y_train, y_test = train_test_split(X, y, test_size=0.3)\n",
        "\n",
        "modelo = LogisticRegression()\n",
        "modelo.fit(x_train, y_train)\n",
        "predictions_dev = modelo.predict(x_train)\n",
        "#cm=confusion_matrix(y_train,predictions_dev,labels=[0,1])\n",
        "acc = round(accuracy_score(y_train,predictions_dev)*100, 4)\n",
        "print(f\"Die durchschnittliche Fehler für 10 Wiederholungen ist: {round(100 - np.mean(acc), 2)}%\")"
      ],
      "metadata": {
        "colab": {
          "base_uri": "https://localhost:8080/"
        },
        "id": "wRR9T8jeJkzm",
        "outputId": "a1b34f2d-b661-42d9-fe7a-c31a3c438b5e"
      },
      "execution_count": null,
      "outputs": [
        {
          "output_type": "stream",
          "name": "stdout",
          "text": [
            "Die durchschnittliche Fehler für 10 Wiederholungen ist: 10.27%\n"
          ]
        }
      ]
    },
    {
      "cell_type": "code",
      "source": [
        "D_Analysis = x_train.copy()\n",
        "D_Analysis['y'] = y_train\n",
        "\n",
        "D_Test = x_test.copy()\n",
        "D_Test['y'] = y_test\n",
        "\n",
        "D_Analysis.to_csv('D_Analysis.txt', sep=\"|\", header= True, index= False)\n",
        "D_Test.to_csv('D_Test.txt', sep= \"|\", header = True, index= False)"
      ],
      "metadata": {
        "id": "l9B8TOueXWjj"
      },
      "execution_count": null,
      "outputs": []
    },
    {
      "cell_type": "markdown",
      "source": [
        "3. Create learning curves for the three classifiers from Exercise 1 on the analysis dataset."
      ],
      "metadata": {
        "id": "HVUPv4lSY5c3"
      }
    },
    {
      "cell_type": "code",
      "source": [
        "splits = 100\n",
        "\n",
        "X = x_train\n",
        "y = y_train\n",
        "\n",
        "title = \"Learning Curves (KNeighborsClassifier) - Breast Cancer\"\n",
        "cv = ShuffleSplit(n_splits=splits, test_size=0.2, random_state=0)\n",
        "estimator = KNeighborsClassifier()\n",
        "plot_learning_curve(estimator, title, X, y, ylim=(0.8, 0.950), cv=cv, n_jobs=10)\n",
        "\n",
        "title = \"Learning Curves (LogisticRegression) - Breast Cancer\"\n",
        "cv = ShuffleSplit(n_splits=splits, test_size=0.2, random_state=0)\n",
        "estimator = LogisticRegression()\n",
        "plot_learning_curve(estimator, title, X, y, (0.8, 0.950), cv=cv, n_jobs=10)\n",
        "\n",
        "title = \"Learning Curves (DecisionTreeClassifier) - Breast Cancer\"\n",
        "cv = ShuffleSplit(n_splits=splits, test_size=0.2, random_state=0)\n",
        "estimator = DecisionTreeClassifier()\n",
        "plot_learning_curve(estimator, title, X, y, (0.8, 1.01), cv=cv, n_jobs=10)\n",
        "\n",
        "title = \"Learning Curves (RandomForestClassifier) - Breast Cancer\"\n",
        "cv = ShuffleSplit(n_splits=splits, test_size=0.2, random_state=0)\n",
        "estimator = RandomForestClassifier()\n",
        "plot_learning_curve(estimator, title, X, y, (0.8, 1.01), cv=cv, n_jobs=10)\n",
        "\n",
        "\n",
        "plt.show()"
      ],
      "metadata": {
        "colab": {
          "base_uri": "https://localhost:8080/",
          "height": 1000
        },
        "id": "Ui_4OEsRZat0",
        "outputId": "8e35cc0a-d710-430e-916c-16e12dc66752"
      },
      "execution_count": null,
      "outputs": [
        {
          "output_type": "display_data",
          "data": {
            "text/plain": [
              "<Figure size 432x288 with 1 Axes>"
            ],
            "image/png": "[encoded data removed]"
          },
          "metadata": {
            "needs_background": "light"
          }
        },
        {
          "output_type": "display_data",
          "data": {
            "text/plain": [
              "<Figure size 432x288 with 1 Axes>"
            ],
            "image/png": "[encoded data removed]"
          },
          "metadata": {
            "needs_background": "light"
          }
        },
        {
          "output_type": "display_data",
          "data": {
            "text/plain": [
              "<Figure size 432x288 with 1 Axes>"
            ],
            "image/png": "[encoded data removed]"
          },
          "metadata": {
            "needs_background": "light"
          }
        },
        {
          "output_type": "display_data",
          "data": {
            "text/plain": [
              "<Figure size 432x288 with 1 Axes>"
            ],
            "image/png": "[encoded data removed]"
          },
          "metadata": {
            "needs_background": "light"
          }
        }
      ]
    },
    {
      "cell_type": "code",
      "source": [
        "model = RandomForestClassifier()\n",
        "model.fit(x_train, y_train)\n",
        "predictions = model.predict(x_train)"
      ],
      "metadata": {
        "id": "olNcXgZTglML"
      },
      "execution_count": null,
      "outputs": []
    },
    {
      "cell_type": "code",
      "source": [
        "importances = model.feature_importances_\n",
        "indices = np.argsort(importances)\n",
        "fig, ax = plt.subplots()\n",
        "ax.barh(range(len(importances)),\n",
        "                           importances[indices])\n",
        "ax.set_yticks(range(len(importances)))\n",
        "_ = ax.set_yticklabels(np.array(x_train.columns)[indices])"
      ],
      "metadata": {
        "colab": {
          "base_uri": "https://localhost:8080/",
          "height": 265
        },
        "id": "nKWHH4nuf5pD",
        "outputId": "89464783-757c-4672-a610-7b4e0e30e191"
      },
      "execution_count": null,
      "outputs": [
        {
          "output_type": "display_data",
          "data": {
            "text/plain": [
              "<Figure size 432x288 with 1 Axes>"
            ],
            "image/png": "[encoded data removed]"
          },
          "metadata": {
            "needs_background": "light"
          }
        }
      ]
    },
    {
      "cell_type": "code",
      "source": [
        "import seaborn as sns\n",
        "cf_matrix=confusion_matrix(y_train,predictions,labels=[0,1])\n",
        "\n",
        "sns.heatmap(cf_matrix/np.sum(cf_matrix), annot=True,\n"
      ],
      "metadata": {
        "colab": {
          "base_uri": "https://localhost:8080/",
          "height": 130
        },
        "id": "CYGpD_n_lF4T",
        "outputId": "8b6219ad-06f8-414d-fde4-6f64f96dede0"
      },
      "execution_count": null,
      "outputs": [
        {
          "output_type": "error",
          "ename": "SyntaxError",
          "evalue": "ignored",
          "traceback": [
            "\u001b[0;36m  File \u001b[0;32m\"<ipython-input-29-c8d55fc044f7>\"\u001b[0;36m, line \u001b[0;32m4\u001b[0m\n\u001b[0;31m    sns.heatmap(cf_matrix/np.sum(cf_matrix), annot=True,\u001b[0m\n\u001b[0m                                                        ^\u001b[0m\n\u001b[0;31mSyntaxError\u001b[0m\u001b[0;31m:\u001b[0m unexpected EOF while parsing\n"
          ]
        }
      ]
    },
    {
      "cell_type": "markdown",
      "source": [
        "4. Make a statement about learnability in the data you have chosen."
      ],
      "metadata": {
        "id": "EnLfcCVHe8tY"
      }
    },
    {
      "cell_type": "markdown",
      "source": [
        "La habilidad de aprendizaje de los modelos entrenados en la base de datos seleccionada es bueno, ya que a medida que aumenta la cantidad de datos en los 3 modelos se aprecia que hay un aprendizaje significativo al inicio de las iteraciones y logra encontrar estabilidad. Aunque el error del modelo nos muestra que los datos son capaces de pronosticar correctamente la variable objetivo en la mayoría de los casos, creemos que incluir mayor cantidad de atributos y hacer Feature engineering sobre los atributos existentes podría mejorar la tasa de aprendizaje, al tiempo que disminuye el error del mismo. En resumen, el modelo se acerca a la ground truth por medio de la hipótesis planteada, ak.a. puede predecir correctamente la variable de respuesta seleccionada."
      ],
      "metadata": {
        "id": "ou6fR3vo6CIb"
      }
    }
  ],
  "metadata": {
    "colab": {
      "provenance": [],
      "toc_visible": true
    },
    "kernelspec": {
      "display_name": "Python 3.9.12 ('base')",
      "language": "python",
      "name": "python3"
    },
    "language_info": {
      "codemirror_mode": {
        "name": "ipython",
        "version": 3
      },
      "file_extension": ".py",
      "mimetype": "text/x-python",
      "name": "python",
      "nbconvert_exporter": "python",
      "pygments_lexer": "ipython3",
      "version": "3.9.12"
    },
    "vscode": {
      "interpreter": {
        "hash": "0c554a3a975d7cae87aff95066158061480c212e35c74fed8d47b5e8707d11cd"
      }
    }
  },
  "nbformat": 4,
  "nbformat_minor": 0
}
