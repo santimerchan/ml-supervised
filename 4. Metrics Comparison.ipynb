{
 "cells": [
  {
   "cell_type": "markdown",
   "metadata": {},
   "source": [
    "# Feedback\n",
    "## Exercise 1\n",
    "very good, but you do not use the metrics given in the parameter `metrics`. 1.5/2\n",
    "\n",
    "## Exercise 2\n",
    "1. very good 1/1\n",
    "2. I am really not sure what is going on here with your tick labels, apparently not really working properly. 0.75/1\n",
    "3. la interpretation es incorrecta (DT no siempre es mejor) y insuficiente (no hay discusión de confusiones particulares, por ejemplo en wine). 0.2/1\n",
    "\n",
    "## Exercise 3\n",
    "1. muy bien. 1/1\n",
    "2. a ver, resultados suben de 0 o 0.25 a 0.34 y la conclusión de ustedes es que no ayuda porque \"no suben los puntajes\"? No entiendo esto. 0.5/1\n",
    "3. esta precisamente no es la forma de hacerlo. 0.1/1\n",
    "\n",
    "Total: 1.5 + 1 + 0.75 + 0.2 + 1 + 0.5 + 0.1 = 5.05/8"
   ]
  },
  {
   "cell_type": "markdown",
   "metadata": {
    "id": "eU1bFmsiCu3h"
   },
   "source": [
    "# Universidad de La Sabana \n",
    "\n",
    "**Felix Mohr**\n",
    "\n",
    "## Facultad de Ingenería 2022.2\n",
    "Supervised Machine Learning\n",
    "\n",
    "\n",
    "- Gerson Barrera\n",
    "- Santiago Merchán\n",
    "- Rodrigo Carranza"
   ]
  },
  {
   "cell_type": "markdown",
   "metadata": {
    "id": "hWp9ym01ykit"
   },
   "source": [
    "Libraries"
   ]
  },
  {
   "cell_type": "code",
   "execution_count": 1,
   "metadata": {
    "id": "tPnNvTpuCu3l"
   },
   "outputs": [],
   "source": [
    "import numpy as np\n",
    "import pandas as pd\n",
    "import scipy.linalg\n",
    "import scipy.stats\n",
    "from scipy.stats import norm as normal\n",
    "import matplotlib.pyplot as plt\n",
    "import sklearn.datasets\n",
    "import sklearn.discriminant_analysis\n",
    "from sklearn.model_selection import train_test_split\n",
    "import sklearn.tree\n",
    "from sklearn.model_selection import ShuffleSplit\n",
    "from sklearn.model_selection import cross_val_score\n",
    "from sklearn.metrics import accuracy_score\n",
    "import sklearn.datasets as dfs\n",
    "import sklearn.metrics\n",
    "from numpy import percentile\n",
    "from sklearn.preprocessing import StandardScaler\n",
    "from sklearn.decomposition import PCA\n",
    "from pprint import pprint\n",
    "import seaborn as sns\n",
    "import plotly.graph_objs as go\n",
    "import plotly.express as px\n",
    "from numpy import linspace\n",
    "import random\n",
    "%matplotlib inline\n",
    "from imblearn.over_sampling import SMOTE\n",
    "from sklearn.model_selection import cross_validate\n",
    "from sklearn.preprocessing import MinMaxScaler\n",
    "from sklearn.preprocessing import StandardScaler\n",
    "from sklearn.preprocessing import power_transform \n",
    "from sklearn.preprocessing import Normalizer"
   ]
  },
  {
   "cell_type": "code",
   "execution_count": 2,
   "metadata": {
    "id": "jprg7JL6OTNs"
   },
   "outputs": [],
   "source": [
    "#Modeling\n",
    "from sklearn.linear_model import LogisticRegression\n",
    "from sklearn.neighbors import KNeighborsClassifier\n",
    "from sklearn.tree import DecisionTreeClassifier\n",
    "from sklearn.ensemble import RandomForestClassifier\n",
    "\n",
    "\n",
    "#Preprocessing\n",
    "from sklearn.model_selection import train_test_split\n",
    "from sklearn.preprocessing import LabelEncoder\n",
    "\n",
    "#Metrics\n",
    "from sklearn.metrics import confusion_matrix\n",
    "from sklearn.metrics import accuracy_score\n",
    "from sklearn.metrics import recall_score\n",
    "from sklearn.metrics import precision_score\n",
    "from sklearn.metrics import roc_auc_score\n",
    "from sklearn.metrics import log_loss\n",
    "from sklearn.metrics import brier_score_loss\n",
    "\n",
    "#Model Selection\n",
    "from sklearn.model_selection import learning_curve\n",
    "from sklearn.model_selection import ShuffleSplit\n",
    "\n",
    "import warnings\n",
    "warnings.filterwarnings(\"ignore\")"
   ]
  },
  {
   "cell_type": "markdown",
   "metadata": {
    "id": "FD6495XpyhGK"
   },
   "source": [
    "Data Ingestion"
   ]
  },
  {
   "cell_type": "code",
   "execution_count": 3,
   "metadata": {
    "id": "zo29ExLgCu3m"
   },
   "outputs": [],
   "source": [
    "iris_X,iris_y=sklearn.datasets.load_iris()[\"data\"],sklearn.datasets.load_iris()[\"target\"]\n",
    "wine_X,wine_y=sklearn.datasets.load_wine()[\"data\"],sklearn.datasets.load_wine()[\"target\"]\n",
    "digits_X,digits_y=sklearn.datasets.load_digits()[\"data\"],sklearn.datasets.load_digits()[\"target\"]\n",
    "breast_X,breast_y=sklearn.datasets.load_breast_cancer()[\"data\"],sklearn.datasets.load_breast_cancer()[\"target\"]"
   ]
  },
  {
   "cell_type": "code",
   "execution_count": 4,
   "metadata": {
    "id": "l2ByZQVDPn2-"
   },
   "outputs": [],
   "source": [
    "labels_i= dfs.load_iris().target_names\n",
    "labels_w= dfs.load_wine().target_names\n",
    "labels_d= dfs.load_digits().target_names\n",
    "labels_b= dfs.load_breast_cancer().target_names"
   ]
  },
  {
   "cell_type": "markdown",
   "metadata": {
    "id": "o0mh8UH0r2ag"
   },
   "source": [
    "#**Exercise 1**\n",
    "\n",
    "1. Write a function compare_metrics(learners, X, y metrics, train_size, repeats), where learners is a list of classifier instances, metrics is a list of metrics, and X, y the data as usual.\n",
    "The function should compute a pandas dataframe that contains one line for every learner and one column for every metric (besides the column for the learner description). The value in each cell should be the score of the row’s classifier for the column’s metric, averaged over repeats splits in which the train fold is of size train_size relative to the original data. It should return the data frame.\n",
    "\n",
    "2. Look at the iris, wine, digits, and breast_cancer datasets, and compute binary versions of them (first class positive, rest negative). Then compute the accuracy, precision, recall, F1 (make sure applied to minority class), log-loss, brier-score, and AUROC for as many classifiers as you can spot in sklearn, but at least kNN LogisticRegression, and decision trees. Report the data frames. \n"
   ]
  },
  {
   "cell_type": "markdown",
   "metadata": {
    "id": "RoH1WWb1zCmT"
   },
   "source": [
    "1.1"
   ]
  },
  {
   "cell_type": "code",
   "execution_count": 5,
   "metadata": {
    "id": "XsZuYr5MWABY"
   },
   "outputs": [],
   "source": [
    "def plot_data(X, y):\n",
    "    fig, ax = plt.subplots()\n",
    "    for label in np.unique(y):\n",
    "        mask = y == label\n",
    "        ax.scatter(X[mask,0], X[mask,1], label = label)\n",
    "    ax.legend()\n",
    "    plt.show()"
   ]
  },
  {
   "cell_type": "code",
   "execution_count": 6,
   "metadata": {
    "id": "2JXqzdHQsYKP"
   },
   "outputs": [],
   "source": [
    "clasificadores= [KNeighborsClassifier(),\n",
    "                 LogisticRegression(),\n",
    "                 DecisionTreeClassifier(),\n",
    "                 RandomForestClassifier()]\n",
    "\n",
    "\n",
    "def compare_metrics(learners, X, y, train_size, repeats,  metrics = None):\n",
    "\n",
    "  accuracy = []\n",
    "  precision = []\n",
    "  recall = []\n",
    "  f1_score = []\n",
    "  auroc = []\n",
    "  log_loss = []\n",
    "  brier = []\n",
    "  clf = []\n",
    "  df = pd.DataFrame()\n",
    "\n",
    "  for clasificador in learners:\n",
    "    for repeat in range(repeats):\n",
    "      X_train, X_test, y_train, y_test = sklearn.model_selection.train_test_split(X, y, train_size = train_size)\n",
    "      dt = clasificador\n",
    "      dt.fit(X_train, y_train)\n",
    "      y_hat = dt.predict(X_test)\n",
    "      y_prob = dt.predict_proba(X_test)\n",
    "      \n",
    "      acc =   sklearn.metrics.accuracy_score(y_test, y_hat)\n",
    "      prec =  sklearn.metrics.precision_score(y_test, y_hat)\n",
    "      rec =   sklearn.metrics.recall_score(y_test, y_hat)\n",
    "      f1 =    sklearn.metrics.f1_score(y_test, y_hat)\n",
    "      roc =   sklearn.metrics.roc_auc_score(y_test, y_prob[:,1])\n",
    "      log =   sklearn.metrics.log_loss(y_test, y_prob)\n",
    "      bri =   sklearn.metrics.brier_score_loss(y_test, y_prob[:,1])\n",
    "\n",
    "      clf.append(str(clasificador))\n",
    "      accuracy.append(acc)\n",
    "      precision.append(prec)\n",
    "      recall.append(rec)\n",
    "      f1_score.append(f1)\n",
    "      auroc.append(roc)\n",
    "      log_loss.append(log)\n",
    "      brier.append(bri)\n",
    "\n",
    "  df['clasificadores'] = clf\n",
    "  df['accuracy'] = accuracy\n",
    "  df['precision'] = precision\n",
    "  df['recall'] = recall\n",
    "  df['f1_score'] = f1_score\n",
    "  df['auroc'] = auroc\n",
    "  df['log_loss'] = log\n",
    "  df['brier_score'] = bri\n",
    "  df = df.groupby(\"clasificadores\").agg('mean').reset_index()\n",
    "  df.clasificadores = df.clasificadores.str[:-2]\n",
    "  #df = df.sort_values(\"accuracy\", ascending= False)\n",
    "  return df\n"
   ]
  },
  {
   "cell_type": "markdown",
   "metadata": {
    "id": "CZtThttQjTHc"
   },
   "source": [
    "Iris Dataset Analysis"
   ]
  },
  {
   "cell_type": "code",
   "execution_count": 7,
   "metadata": {
    "colab": {
     "base_uri": "https://localhost:8080/",
     "height": 268
    },
    "id": "RgsUmVYOjeM9",
    "outputId": "e8a37d65-5cf9-4356-afb2-3f82a4737b6f"
   },
   "outputs": [
    {
     "data": {
      "image/png": "[encoded data removed]",
      "text/plain": [
       "<Figure size 432x288 with 1 Axes>"
      ]
     },
     "metadata": {
      "needs_background": "light"
     },
     "output_type": "display_data"
    }
   ],
   "source": [
    "iris_bin_y = iris_y == 0 # make this a binary classification problem\n",
    "plot_data(iris_X,iris_bin_y)"
   ]
  },
  {
   "cell_type": "code",
   "execution_count": 8,
   "metadata": {
    "colab": {
     "base_uri": "https://localhost:8080/",
     "height": 175
    },
    "id": "Ja--Jj4qjTHd",
    "outputId": "2f747c6d-ea8e-4c24-b8a9-71a764e6aa34"
   },
   "outputs": [
    {
     "data": {
      "text/html": [
       "<div>\n",
       "<style scoped>\n",
       "    .dataframe tbody tr th:only-of-type {\n",
       "        vertical-align: middle;\n",
       "    }\n",
       "\n",
       "    .dataframe tbody tr th {\n",
       "        vertical-align: top;\n",
       "    }\n",
       "\n",
       "    .dataframe thead th {\n",
       "        text-align: right;\n",
       "    }\n",
       "</style>\n",
       "<table border=\"1\" class=\"dataframe\">\n",
       "  <thead>\n",
       "    <tr style=\"text-align: right;\">\n",
       "      <th></th>\n",
       "      <th>clasificadores</th>\n",
       "      <th>accuracy</th>\n",
       "      <th>precision</th>\n",
       "      <th>recall</th>\n",
       "      <th>f1_score</th>\n",
       "      <th>auroc</th>\n",
       "      <th>log_loss</th>\n",
       "      <th>brier_score</th>\n",
       "    </tr>\n",
       "  </thead>\n",
       "  <tbody>\n",
       "    <tr>\n",
       "      <th>0</th>\n",
       "      <td>DecisionTreeClassifier</td>\n",
       "      <td>1.0</td>\n",
       "      <td>1.0</td>\n",
       "      <td>1.0</td>\n",
       "      <td>1.0</td>\n",
       "      <td>1.0</td>\n",
       "      <td>0.002991</td>\n",
       "      <td>0.000193</td>\n",
       "    </tr>\n",
       "    <tr>\n",
       "      <th>1</th>\n",
       "      <td>KNeighborsClassifier</td>\n",
       "      <td>1.0</td>\n",
       "      <td>1.0</td>\n",
       "      <td>1.0</td>\n",
       "      <td>1.0</td>\n",
       "      <td>1.0</td>\n",
       "      <td>0.002991</td>\n",
       "      <td>0.000193</td>\n",
       "    </tr>\n",
       "    <tr>\n",
       "      <th>2</th>\n",
       "      <td>LogisticRegression</td>\n",
       "      <td>1.0</td>\n",
       "      <td>1.0</td>\n",
       "      <td>1.0</td>\n",
       "      <td>1.0</td>\n",
       "      <td>1.0</td>\n",
       "      <td>0.002991</td>\n",
       "      <td>0.000193</td>\n",
       "    </tr>\n",
       "    <tr>\n",
       "      <th>3</th>\n",
       "      <td>RandomForestClassifier</td>\n",
       "      <td>1.0</td>\n",
       "      <td>1.0</td>\n",
       "      <td>1.0</td>\n",
       "      <td>1.0</td>\n",
       "      <td>1.0</td>\n",
       "      <td>0.002991</td>\n",
       "      <td>0.000193</td>\n",
       "    </tr>\n",
       "  </tbody>\n",
       "</table>\n",
       "</div>"
      ],
      "text/plain": [
       "           clasificadores  accuracy  precision  recall  f1_score  auroc  \\\n",
       "0  DecisionTreeClassifier       1.0        1.0     1.0       1.0    1.0   \n",
       "1    KNeighborsClassifier       1.0        1.0     1.0       1.0    1.0   \n",
       "2      LogisticRegression       1.0        1.0     1.0       1.0    1.0   \n",
       "3  RandomForestClassifier       1.0        1.0     1.0       1.0    1.0   \n",
       "\n",
       "   log_loss  brier_score  \n",
       "0  0.002991     0.000193  \n",
       "1  0.002991     0.000193  \n",
       "2  0.002991     0.000193  \n",
       "3  0.002991     0.000193  "
      ]
     },
     "execution_count": 8,
     "metadata": {},
     "output_type": "execute_result"
    }
   ],
   "source": [
    "iris_metrics = compare_metrics(clasificadores, iris_X, iris_bin_y, train_size=0.7, repeats=5)\n",
    "iris_metrics"
   ]
  },
  {
   "cell_type": "markdown",
   "metadata": {
    "id": "8x9amaPCkXQf"
   },
   "source": [
    "Wine Dataset Analysis"
   ]
  },
  {
   "cell_type": "code",
   "execution_count": 9,
   "metadata": {
    "colab": {
     "base_uri": "https://localhost:8080/",
     "height": 267
    },
    "id": "eerUmhz0kXQf",
    "outputId": "5a3ae653-c52e-4309-e866-0247dbd778c7"
   },
   "outputs": [
    {
     "data": {
      "image/png": "[encoded data removed]",
      "text/plain": [
       "<Figure size 432x288 with 1 Axes>"
      ]
     },
     "metadata": {
      "needs_background": "light"
     },
     "output_type": "display_data"
    }
   ],
   "source": [
    "wine_bin_y = wine_y == 0 # make this a binary classification problem\n",
    "plot_data(wine_X,wine_bin_y)"
   ]
  },
  {
   "cell_type": "code",
   "execution_count": 10,
   "metadata": {
    "colab": {
     "base_uri": "https://localhost:8080/",
     "height": 175
    },
    "id": "VsIYw71dkXQf",
    "outputId": "bf2bee5a-02d8-4945-edca-72a2e3c0891c"
   },
   "outputs": [
    {
     "data": {
      "text/html": [
       "<div>\n",
       "<style scoped>\n",
       "    .dataframe tbody tr th:only-of-type {\n",
       "        vertical-align: middle;\n",
       "    }\n",
       "\n",
       "    .dataframe tbody tr th {\n",
       "        vertical-align: top;\n",
       "    }\n",
       "\n",
       "    .dataframe thead th {\n",
       "        text-align: right;\n",
       "    }\n",
       "</style>\n",
       "<table border=\"1\" class=\"dataframe\">\n",
       "  <thead>\n",
       "    <tr style=\"text-align: right;\">\n",
       "      <th></th>\n",
       "      <th>clasificadores</th>\n",
       "      <th>accuracy</th>\n",
       "      <th>precision</th>\n",
       "      <th>recall</th>\n",
       "      <th>f1_score</th>\n",
       "      <th>auroc</th>\n",
       "      <th>log_loss</th>\n",
       "      <th>brier_score</th>\n",
       "    </tr>\n",
       "  </thead>\n",
       "  <tbody>\n",
       "    <tr>\n",
       "      <th>0</th>\n",
       "      <td>DecisionTreeClassifier</td>\n",
       "      <td>0.896296</td>\n",
       "      <td>0.801337</td>\n",
       "      <td>0.948765</td>\n",
       "      <td>0.867647</td>\n",
       "      <td>0.908080</td>\n",
       "      <td>0.093119</td>\n",
       "      <td>0.020213</td>\n",
       "    </tr>\n",
       "    <tr>\n",
       "      <th>1</th>\n",
       "      <td>KNeighborsClassifier</td>\n",
       "      <td>0.914815</td>\n",
       "      <td>0.886619</td>\n",
       "      <td>0.874608</td>\n",
       "      <td>0.875791</td>\n",
       "      <td>0.966727</td>\n",
       "      <td>0.093119</td>\n",
       "      <td>0.020213</td>\n",
       "    </tr>\n",
       "    <tr>\n",
       "      <th>2</th>\n",
       "      <td>LogisticRegression</td>\n",
       "      <td>0.940741</td>\n",
       "      <td>0.917778</td>\n",
       "      <td>0.900823</td>\n",
       "      <td>0.906763</td>\n",
       "      <td>0.982046</td>\n",
       "      <td>0.093119</td>\n",
       "      <td>0.020213</td>\n",
       "    </tr>\n",
       "    <tr>\n",
       "      <th>3</th>\n",
       "      <td>RandomForestClassifier</td>\n",
       "      <td>0.977778</td>\n",
       "      <td>0.990909</td>\n",
       "      <td>0.944955</td>\n",
       "      <td>0.966807</td>\n",
       "      <td>0.999711</td>\n",
       "      <td>0.093119</td>\n",
       "      <td>0.020213</td>\n",
       "    </tr>\n",
       "  </tbody>\n",
       "</table>\n",
       "</div>"
      ],
      "text/plain": [
       "           clasificadores  accuracy  precision    recall  f1_score     auroc  \\\n",
       "0  DecisionTreeClassifier  0.896296   0.801337  0.948765  0.867647  0.908080   \n",
       "1    KNeighborsClassifier  0.914815   0.886619  0.874608  0.875791  0.966727   \n",
       "2      LogisticRegression  0.940741   0.917778  0.900823  0.906763  0.982046   \n",
       "3  RandomForestClassifier  0.977778   0.990909  0.944955  0.966807  0.999711   \n",
       "\n",
       "   log_loss  brier_score  \n",
       "0  0.093119     0.020213  \n",
       "1  0.093119     0.020213  \n",
       "2  0.093119     0.020213  \n",
       "3  0.093119     0.020213  "
      ]
     },
     "execution_count": 10,
     "metadata": {},
     "output_type": "execute_result"
    }
   ],
   "source": [
    "wine_metrics = compare_metrics(clasificadores, wine_X, wine_bin_y, train_size=0.7, repeats=5)\n",
    "wine_metrics"
   ]
  },
  {
   "cell_type": "markdown",
   "metadata": {
    "id": "wY03IQz-k3bw"
   },
   "source": [
    "Digits Dataset Analysis"
   ]
  },
  {
   "cell_type": "code",
   "execution_count": 11,
   "metadata": {
    "colab": {
     "base_uri": "https://localhost:8080/",
     "height": 265
    },
    "id": "9Zm69GvEk3b5",
    "outputId": "ee16549e-b634-4cd8-bc1b-9dc343d64b71"
   },
   "outputs": [
    {
     "data": {
      "image/png": "[encoded data removed]",
      "text/plain": [
       "<Figure size 432x288 with 1 Axes>"
      ]
     },
     "metadata": {
      "needs_background": "light"
     },
     "output_type": "display_data"
    }
   ],
   "source": [
    "digits_bin_y = digits_y== 9 # make this a binary classification problem, separating the 9 from all the others\n",
    "plot_data(digits_X,digits_bin_y)"
   ]
  },
  {
   "cell_type": "code",
   "execution_count": 12,
   "metadata": {
    "colab": {
     "base_uri": "https://localhost:8080/",
     "height": 175
    },
    "id": "ucOOXDfSk3b5",
    "outputId": "75dd8788-f403-43df-f23c-4f4789c1f9cc"
   },
   "outputs": [
    {
     "data": {
      "text/html": [
       "<div>\n",
       "<style scoped>\n",
       "    .dataframe tbody tr th:only-of-type {\n",
       "        vertical-align: middle;\n",
       "    }\n",
       "\n",
       "    .dataframe tbody tr th {\n",
       "        vertical-align: top;\n",
       "    }\n",
       "\n",
       "    .dataframe thead th {\n",
       "        text-align: right;\n",
       "    }\n",
       "</style>\n",
       "<table border=\"1\" class=\"dataframe\">\n",
       "  <thead>\n",
       "    <tr style=\"text-align: right;\">\n",
       "      <th></th>\n",
       "      <th>clasificadores</th>\n",
       "      <th>accuracy</th>\n",
       "      <th>precision</th>\n",
       "      <th>recall</th>\n",
       "      <th>f1_score</th>\n",
       "      <th>auroc</th>\n",
       "      <th>log_loss</th>\n",
       "      <th>brier_score</th>\n",
       "    </tr>\n",
       "  </thead>\n",
       "  <tbody>\n",
       "    <tr>\n",
       "      <th>0</th>\n",
       "      <td>DecisionTreeClassifier</td>\n",
       "      <td>0.953333</td>\n",
       "      <td>0.759944</td>\n",
       "      <td>0.761816</td>\n",
       "      <td>0.759823</td>\n",
       "      <td>0.867980</td>\n",
       "      <td>0.159593</td>\n",
       "      <td>0.025606</td>\n",
       "    </tr>\n",
       "    <tr>\n",
       "      <th>1</th>\n",
       "      <td>KNeighborsClassifier</td>\n",
       "      <td>0.992963</td>\n",
       "      <td>0.988379</td>\n",
       "      <td>0.942335</td>\n",
       "      <td>0.964655</td>\n",
       "      <td>0.996343</td>\n",
       "      <td>0.159593</td>\n",
       "      <td>0.025606</td>\n",
       "    </tr>\n",
       "    <tr>\n",
       "      <th>2</th>\n",
       "      <td>LogisticRegression</td>\n",
       "      <td>0.974074</td>\n",
       "      <td>0.843701</td>\n",
       "      <td>0.889241</td>\n",
       "      <td>0.861540</td>\n",
       "      <td>0.992121</td>\n",
       "      <td>0.159593</td>\n",
       "      <td>0.025606</td>\n",
       "    </tr>\n",
       "    <tr>\n",
       "      <th>3</th>\n",
       "      <td>RandomForestClassifier</td>\n",
       "      <td>0.972593</td>\n",
       "      <td>1.000000</td>\n",
       "      <td>0.729437</td>\n",
       "      <td>0.842814</td>\n",
       "      <td>0.991918</td>\n",
       "      <td>0.159593</td>\n",
       "      <td>0.025606</td>\n",
       "    </tr>\n",
       "  </tbody>\n",
       "</table>\n",
       "</div>"
      ],
      "text/plain": [
       "           clasificadores  accuracy  precision    recall  f1_score     auroc  \\\n",
       "0  DecisionTreeClassifier  0.953333   0.759944  0.761816  0.759823  0.867980   \n",
       "1    KNeighborsClassifier  0.992963   0.988379  0.942335  0.964655  0.996343   \n",
       "2      LogisticRegression  0.974074   0.843701  0.889241  0.861540  0.992121   \n",
       "3  RandomForestClassifier  0.972593   1.000000  0.729437  0.842814  0.991918   \n",
       "\n",
       "   log_loss  brier_score  \n",
       "0  0.159593     0.025606  \n",
       "1  0.159593     0.025606  \n",
       "2  0.159593     0.025606  \n",
       "3  0.159593     0.025606  "
      ]
     },
     "execution_count": 12,
     "metadata": {},
     "output_type": "execute_result"
    }
   ],
   "source": [
    "digits_metrics = compare_metrics(clasificadores, digits_X, digits_bin_y, train_size=0.7, repeats=5)\n",
    "digits_metrics"
   ]
  },
  {
   "cell_type": "markdown",
   "metadata": {
    "id": "HVbNSsNEjK1k"
   },
   "source": [
    "Breast Cancer Dataset Analysis"
   ]
  },
  {
   "cell_type": "code",
   "execution_count": 13,
   "metadata": {
    "colab": {
     "base_uri": "https://localhost:8080/",
     "height": 175
    },
    "id": "LgbZh0JxTKQm",
    "outputId": "30fef917-842f-4b1c-8ff3-9e4606fff5d6"
   },
   "outputs": [
    {
     "data": {
      "text/html": [
       "<div>\n",
       "<style scoped>\n",
       "    .dataframe tbody tr th:only-of-type {\n",
       "        vertical-align: middle;\n",
       "    }\n",
       "\n",
       "    .dataframe tbody tr th {\n",
       "        vertical-align: top;\n",
       "    }\n",
       "\n",
       "    .dataframe thead th {\n",
       "        text-align: right;\n",
       "    }\n",
       "</style>\n",
       "<table border=\"1\" class=\"dataframe\">\n",
       "  <thead>\n",
       "    <tr style=\"text-align: right;\">\n",
       "      <th></th>\n",
       "      <th>clasificadores</th>\n",
       "      <th>accuracy</th>\n",
       "      <th>precision</th>\n",
       "      <th>recall</th>\n",
       "      <th>f1_score</th>\n",
       "      <th>auroc</th>\n",
       "      <th>log_loss</th>\n",
       "      <th>brier_score</th>\n",
       "    </tr>\n",
       "  </thead>\n",
       "  <tbody>\n",
       "    <tr>\n",
       "      <th>0</th>\n",
       "      <td>DecisionTreeClassifier</td>\n",
       "      <td>0.943860</td>\n",
       "      <td>0.961789</td>\n",
       "      <td>0.951758</td>\n",
       "      <td>0.956584</td>\n",
       "      <td>0.940316</td>\n",
       "      <td>0.094384</td>\n",
       "      <td>0.025556</td>\n",
       "    </tr>\n",
       "    <tr>\n",
       "      <th>1</th>\n",
       "      <td>KNeighborsClassifier</td>\n",
       "      <td>0.924561</td>\n",
       "      <td>0.935045</td>\n",
       "      <td>0.952216</td>\n",
       "      <td>0.943077</td>\n",
       "      <td>0.948920</td>\n",
       "      <td>0.094384</td>\n",
       "      <td>0.025556</td>\n",
       "    </tr>\n",
       "    <tr>\n",
       "      <th>2</th>\n",
       "      <td>LogisticRegression</td>\n",
       "      <td>0.947368</td>\n",
       "      <td>0.925328</td>\n",
       "      <td>0.990750</td>\n",
       "      <td>0.956747</td>\n",
       "      <td>0.993895</td>\n",
       "      <td>0.094384</td>\n",
       "      <td>0.025556</td>\n",
       "    </tr>\n",
       "    <tr>\n",
       "      <th>3</th>\n",
       "      <td>RandomForestClassifier</td>\n",
       "      <td>0.945614</td>\n",
       "      <td>0.953725</td>\n",
       "      <td>0.960962</td>\n",
       "      <td>0.956908</td>\n",
       "      <td>0.985057</td>\n",
       "      <td>0.094384</td>\n",
       "      <td>0.025556</td>\n",
       "    </tr>\n",
       "  </tbody>\n",
       "</table>\n",
       "</div>"
      ],
      "text/plain": [
       "           clasificadores  accuracy  precision    recall  f1_score     auroc  \\\n",
       "0  DecisionTreeClassifier  0.943860   0.961789  0.951758  0.956584  0.940316   \n",
       "1    KNeighborsClassifier  0.924561   0.935045  0.952216  0.943077  0.948920   \n",
       "2      LogisticRegression  0.947368   0.925328  0.990750  0.956747  0.993895   \n",
       "3  RandomForestClassifier  0.945614   0.953725  0.960962  0.956908  0.985057   \n",
       "\n",
       "   log_loss  brier_score  \n",
       "0  0.094384     0.025556  \n",
       "1  0.094384     0.025556  \n",
       "2  0.094384     0.025556  \n",
       "3  0.094384     0.025556  "
      ]
     },
     "execution_count": 13,
     "metadata": {},
     "output_type": "execute_result"
    }
   ],
   "source": [
    "breast_metrics = compare_metrics(clasificadores, breast_X, breast_y, train_size=0.8, repeats=5)\n",
    "breast_metrics"
   ]
  },
  {
   "cell_type": "markdown",
   "metadata": {
    "id": "5mNOckLDMM44"
   },
   "source": [
    "# **Exercise 2** \n",
    "1. Write a function mccv_confusion_matrix(learner, X, y, repeats = 10, train_size). The function should create repeats stratified splits of X, y. In each repeat, the train portion of X and y should be train_size of the original data. The rest should be used for validation. This creates a confusion matrix for each repetition. Form the average confusion matrix and return it and the list encoding the order of labels used by it.\n",
    "2. Write a function plot_mccv_confusion_matrix(learner, X, y repeats = 10, train_size) that computes the MCCV confusion matrix and then plots it into a heat map. Use a single colored color map, like Blues. Make sure that the ticks of the plot are properly labeled with the respective class labels. \n",
    "3. Show the confusion matrices of kNN and a decision tree for the four classification datasets considered above and give a (short but concise) interpretation of misclassification behavior. Is there any pair of classes that can be separated better by one of the algorithms than by the other?"
   ]
  },
  {
   "cell_type": "markdown",
   "metadata": {
    "id": "9jjiaLUpy8FM"
   },
   "source": [
    "2.1"
   ]
  },
  {
   "cell_type": "code",
   "execution_count": 14,
   "metadata": {
    "colab": {
     "base_uri": "https://localhost:8080/"
    },
    "id": "wLQjLbUCsqci",
    "outputId": "02edadb2-096e-48fd-ce4e-aa4b014c675f"
   },
   "outputs": [
    {
     "name": "stdout",
     "output_type": "stream",
     "text": [
      "Mean Iterated Confusion matrix:\n",
      "[[38.7  0.   0. ]\n",
      " [ 0.  33.7  1.9]\n",
      " [ 0.   0.2 37.5]]\n"
     ]
    }
   ],
   "source": [
    "def mccv_confusion_matrix(learner, X, y, repeats, train_size):\n",
    "    labels=np.unique(y)\n",
    "    cm_acum = np.zeros((len(labels),len(labels)))\n",
    "    for i in range(0,repeats):\n",
    "        X_train, X_test, y_train, y_test = train_test_split(X,y, train_size=train_size)\n",
    "        model = learner().fit(X_train, y_train)\n",
    "        predictions_dev = model.predict(X_train)\n",
    "        cm=confusion_matrix(y_train,predictions_dev,labels=labels)\n",
    "        cm_acum=cm_acum+cm\n",
    "        #print(cm_acum)\n",
    "    cm_acum=cm_acum/(repeats)\n",
    "    print(f\"Mean Iterated Confusion matrix:\\n{cm_acum}\")\n",
    "    return cm_acum\n",
    "cm_acum=mccv_confusion_matrix(LogisticRegression, iris_X, iris_y, 10, 0.75)"
   ]
  },
  {
   "cell_type": "code",
   "execution_count": 68,
   "metadata": {
    "id": "QaK7qo8quNiO"
   },
   "outputs": [],
   "source": [
    "from matplotlib.pyplot import figure\n",
    "def plot_mccv_confusion_matrix(learner, X, y, repeats, train_size,labels):\n",
    "    cm_acum=mccv_confusion_matrix(learner, X, y, repeats, train_size)\n",
    "    fig, ax = plt.subplots(figsize=(8, 8))\n",
    "    #figure(figsize=(30, 30), dpi=80)\n",
    "    #sns.heatmap(cm_acum/np.sum(cm_acum), annot=True, fmt='.2%', cmap='Blues')\n",
    "    sns.heatmap(cm_acum, annot=True#\n",
    "                , fmt='g'\n",
    "                , cmap='Blues')\n",
    "    #labels=np.unique(y)\n",
    "    ax.set_xticklabels(labels)\n",
    "    ax.set_yticklabels(labels)\n",
    "    plt.xlabel('Predicted Label')\n",
    "    plt.ylabel('True Label')"
   ]
  },
  {
   "cell_type": "code",
   "execution_count": 69,
   "metadata": {
    "colab": {
     "base_uri": "https://localhost:8080/",
     "height": 1000
    },
    "id": "mIGYGSrFsJ1d",
    "outputId": "0ba94bcf-0c63-448b-8dad-740172b14fa9",
    "scrolled": true
   },
   "outputs": [
    {
     "name": "stdout",
     "output_type": "stream",
     "text": [
      "Mean Iterated Confusion matrix:\n",
      "[[37.9  0.   0. ]\n",
      " [ 0.  36.1  1.6]\n",
      " [ 0.   1.  35.4]]\n",
      "Mean Iterated Confusion matrix:\n",
      "[[37.1  0.   0. ]\n",
      " [ 0.  36.2  0. ]\n",
      " [ 0.   0.  38.7]]\n"
     ]
    },
    {
     "ename": "ValueError",
     "evalue": "The number of FixedLocator locations (3), usually from a call to set_ticks, does not match the number of ticklabels (2).",
     "output_type": "error",
     "traceback": [
      "\u001b[0;31m---------------------------------------------------------------------------\u001b[0m",
      "\u001b[0;31mValueError\u001b[0m                                Traceback (most recent call last)",
      "\u001b[0;32m<ipython-input-69-9aeb461e400d>\u001b[0m in \u001b[0;36m<module>\u001b[0;34m\u001b[0m\n\u001b[1;32m      1\u001b[0m \u001b[0mplot_mccv_confusion_matrix\u001b[0m\u001b[0;34m(\u001b[0m\u001b[0mKNeighborsClassifier\u001b[0m\u001b[0;34m,\u001b[0m \u001b[0miris_X\u001b[0m\u001b[0;34m,\u001b[0m \u001b[0miris_y\u001b[0m\u001b[0;34m,\u001b[0m \u001b[0;36m10\u001b[0m\u001b[0;34m,\u001b[0m \u001b[0;36m0.75\u001b[0m\u001b[0;34m,\u001b[0m\u001b[0mlabels_i\u001b[0m\u001b[0;34m)\u001b[0m\u001b[0;34m\u001b[0m\u001b[0;34m\u001b[0m\u001b[0m\n\u001b[0;32m----> 2\u001b[0;31m \u001b[0mplot_mccv_confusion_matrix\u001b[0m\u001b[0;34m(\u001b[0m\u001b[0mDecisionTreeClassifier\u001b[0m\u001b[0;34m,\u001b[0m \u001b[0miris_X\u001b[0m\u001b[0;34m,\u001b[0m \u001b[0miris_y\u001b[0m\u001b[0;34m,\u001b[0m \u001b[0;36m10\u001b[0m\u001b[0;34m,\u001b[0m \u001b[0;36m0.75\u001b[0m\u001b[0;34m,\u001b[0m\u001b[0mlabels_b\u001b[0m\u001b[0;34m)\u001b[0m\u001b[0;34m\u001b[0m\u001b[0;34m\u001b[0m\u001b[0m\n\u001b[0m",
      "\u001b[0;32m<ipython-input-68-5d417c4a1f0e>\u001b[0m in \u001b[0;36mplot_mccv_confusion_matrix\u001b[0;34m(learner, X, y, repeats, train_size, labels)\u001b[0m\n\u001b[1;32m      9\u001b[0m                 , cmap='Blues')\n\u001b[1;32m     10\u001b[0m     \u001b[0;31m#labels=np.unique(y)\u001b[0m\u001b[0;34m\u001b[0m\u001b[0;34m\u001b[0m\u001b[0;34m\u001b[0m\u001b[0m\n\u001b[0;32m---> 11\u001b[0;31m     \u001b[0max\u001b[0m\u001b[0;34m.\u001b[0m\u001b[0mset_xticklabels\u001b[0m\u001b[0;34m(\u001b[0m\u001b[0mlabels\u001b[0m\u001b[0;34m)\u001b[0m\u001b[0;34m\u001b[0m\u001b[0;34m\u001b[0m\u001b[0m\n\u001b[0m\u001b[1;32m     12\u001b[0m     \u001b[0max\u001b[0m\u001b[0;34m.\u001b[0m\u001b[0mset_yticklabels\u001b[0m\u001b[0;34m(\u001b[0m\u001b[0mlabels\u001b[0m\u001b[0;34m)\u001b[0m\u001b[0;34m\u001b[0m\u001b[0;34m\u001b[0m\u001b[0m\n\u001b[1;32m     13\u001b[0m     \u001b[0mplt\u001b[0m\u001b[0;34m.\u001b[0m\u001b[0mxlabel\u001b[0m\u001b[0;34m(\u001b[0m\u001b[0;34m'Predicted Label'\u001b[0m\u001b[0;34m)\u001b[0m\u001b[0;34m\u001b[0m\u001b[0;34m\u001b[0m\u001b[0m\n",
      "\u001b[0;32m~/anaconda3/lib/python3.7/site-packages/matplotlib/axes/_base.py\u001b[0m in \u001b[0;36mwrapper\u001b[0;34m(self, *args, **kwargs)\u001b[0m\n\u001b[1;32m     73\u001b[0m \u001b[0;34m\u001b[0m\u001b[0m\n\u001b[1;32m     74\u001b[0m         \u001b[0;32mdef\u001b[0m \u001b[0mwrapper\u001b[0m\u001b[0;34m(\u001b[0m\u001b[0mself\u001b[0m\u001b[0;34m,\u001b[0m \u001b[0;34m*\u001b[0m\u001b[0margs\u001b[0m\u001b[0;34m,\u001b[0m \u001b[0;34m**\u001b[0m\u001b[0mkwargs\u001b[0m\u001b[0;34m)\u001b[0m\u001b[0;34m:\u001b[0m\u001b[0;34m\u001b[0m\u001b[0;34m\u001b[0m\u001b[0m\n\u001b[0;32m---> 75\u001b[0;31m             \u001b[0;32mreturn\u001b[0m \u001b[0mget_method\u001b[0m\u001b[0;34m(\u001b[0m\u001b[0mself\u001b[0m\u001b[0;34m)\u001b[0m\u001b[0;34m(\u001b[0m\u001b[0;34m*\u001b[0m\u001b[0margs\u001b[0m\u001b[0;34m,\u001b[0m \u001b[0;34m**\u001b[0m\u001b[0mkwargs\u001b[0m\u001b[0;34m)\u001b[0m\u001b[0;34m\u001b[0m\u001b[0;34m\u001b[0m\u001b[0m\n\u001b[0m\u001b[1;32m     76\u001b[0m \u001b[0;34m\u001b[0m\u001b[0m\n\u001b[1;32m     77\u001b[0m         \u001b[0mwrapper\u001b[0m\u001b[0;34m.\u001b[0m\u001b[0m__module__\u001b[0m \u001b[0;34m=\u001b[0m \u001b[0mowner\u001b[0m\u001b[0;34m.\u001b[0m\u001b[0m__module__\u001b[0m\u001b[0;34m\u001b[0m\u001b[0;34m\u001b[0m\u001b[0m\n",
      "\u001b[0;32m~/anaconda3/lib/python3.7/site-packages/matplotlib/axis.py\u001b[0m in \u001b[0;36m_set_ticklabels\u001b[0;34m(self, labels, fontdict, minor, **kwargs)\u001b[0m\n\u001b[1;32m   1796\u001b[0m         \u001b[0;32mif\u001b[0m \u001b[0mfontdict\u001b[0m \u001b[0;32mis\u001b[0m \u001b[0;32mnot\u001b[0m \u001b[0;32mNone\u001b[0m\u001b[0;34m:\u001b[0m\u001b[0;34m\u001b[0m\u001b[0;34m\u001b[0m\u001b[0m\n\u001b[1;32m   1797\u001b[0m             \u001b[0mkwargs\u001b[0m\u001b[0;34m.\u001b[0m\u001b[0mupdate\u001b[0m\u001b[0;34m(\u001b[0m\u001b[0mfontdict\u001b[0m\u001b[0;34m)\u001b[0m\u001b[0;34m\u001b[0m\u001b[0;34m\u001b[0m\u001b[0m\n\u001b[0;32m-> 1798\u001b[0;31m         \u001b[0;32mreturn\u001b[0m \u001b[0mself\u001b[0m\u001b[0;34m.\u001b[0m\u001b[0mset_ticklabels\u001b[0m\u001b[0;34m(\u001b[0m\u001b[0mlabels\u001b[0m\u001b[0;34m,\u001b[0m \u001b[0mminor\u001b[0m\u001b[0;34m=\u001b[0m\u001b[0mminor\u001b[0m\u001b[0;34m,\u001b[0m \u001b[0;34m**\u001b[0m\u001b[0mkwargs\u001b[0m\u001b[0;34m)\u001b[0m\u001b[0;34m\u001b[0m\u001b[0;34m\u001b[0m\u001b[0m\n\u001b[0m\u001b[1;32m   1799\u001b[0m \u001b[0;34m\u001b[0m\u001b[0m\n\u001b[1;32m   1800\u001b[0m     \u001b[0;32mdef\u001b[0m \u001b[0m_set_tick_locations\u001b[0m\u001b[0;34m(\u001b[0m\u001b[0mself\u001b[0m\u001b[0;34m,\u001b[0m \u001b[0mticks\u001b[0m\u001b[0;34m,\u001b[0m \u001b[0;34m*\u001b[0m\u001b[0;34m,\u001b[0m \u001b[0mminor\u001b[0m\u001b[0;34m=\u001b[0m\u001b[0;32mFalse\u001b[0m\u001b[0;34m)\u001b[0m\u001b[0;34m:\u001b[0m\u001b[0;34m\u001b[0m\u001b[0;34m\u001b[0m\u001b[0m\n",
      "\u001b[0;32m~/anaconda3/lib/python3.7/site-packages/matplotlib/axis.py\u001b[0m in \u001b[0;36mset_ticklabels\u001b[0;34m(self, ticklabels, minor, **kwargs)\u001b[0m\n\u001b[1;32m   1719\u001b[0m             \u001b[0;32mif\u001b[0m \u001b[0mlen\u001b[0m\u001b[0;34m(\u001b[0m\u001b[0mlocator\u001b[0m\u001b[0;34m.\u001b[0m\u001b[0mlocs\u001b[0m\u001b[0;34m)\u001b[0m \u001b[0;34m!=\u001b[0m \u001b[0mlen\u001b[0m\u001b[0;34m(\u001b[0m\u001b[0mticklabels\u001b[0m\u001b[0;34m)\u001b[0m \u001b[0;32mand\u001b[0m \u001b[0mlen\u001b[0m\u001b[0;34m(\u001b[0m\u001b[0mticklabels\u001b[0m\u001b[0;34m)\u001b[0m \u001b[0;34m!=\u001b[0m \u001b[0;36m0\u001b[0m\u001b[0;34m:\u001b[0m\u001b[0;34m\u001b[0m\u001b[0;34m\u001b[0m\u001b[0m\n\u001b[1;32m   1720\u001b[0m                 raise ValueError(\n\u001b[0;32m-> 1721\u001b[0;31m                     \u001b[0;34m\"The number of FixedLocator locations\"\u001b[0m\u001b[0;34m\u001b[0m\u001b[0;34m\u001b[0m\u001b[0m\n\u001b[0m\u001b[1;32m   1722\u001b[0m                     \u001b[0;34mf\" ({len(locator.locs)}), usually from a call to\"\u001b[0m\u001b[0;34m\u001b[0m\u001b[0;34m\u001b[0m\u001b[0m\n\u001b[1;32m   1723\u001b[0m                     \u001b[0;34m\" set_ticks, does not match\"\u001b[0m\u001b[0;34m\u001b[0m\u001b[0;34m\u001b[0m\u001b[0m\n",
      "\u001b[0;31mValueError\u001b[0m: The number of FixedLocator locations (3), usually from a call to set_ticks, does not match the number of ticklabels (2)."
     ]
    },
    {
     "data": {
      "image/png": "[encoded data removed]",
      "text/plain": [
       "<Figure size 576x576 with 2 Axes>"
      ]
     },
     "metadata": {
      "needs_background": "light"
     },
     "output_type": "display_data"
    },
    {
     "data": {
      "image/png": "[encoded data removed]",
      "text/plain": [
       "<Figure size 576x576 with 2 Axes>"
      ]
     },
     "metadata": {
      "needs_background": "light"
     },
     "output_type": "display_data"
    }
   ],
   "source": [
    "plot_mccv_confusion_matrix(KNeighborsClassifier, iris_X, iris_y, 10, 0.75,labels_i)\n",
    "plot_mccv_confusion_matrix(DecisionTreeClassifier, iris_X, iris_y, 10, 0.75,labels_b)"
   ]
  },
  {
   "cell_type": "code",
   "execution_count": 17,
   "metadata": {
    "colab": {
     "base_uri": "https://localhost:8080/",
     "height": 1000
    },
    "id": "1Mpd4aicgawn",
    "outputId": "e2e4f12b-c215-4203-934e-84a74ca6565a"
   },
   "outputs": [
    {
     "name": "stdout",
     "output_type": "stream",
     "text": [
      "Mean Iterated Confusion matrix:\n",
      "[[40.5  0.8  2.1]\n",
      " [ 4.2 40.9  8.8]\n",
      " [ 2.8  9.7 23.2]]\n",
      "Mean Iterated Confusion matrix:\n",
      "[[44.8  0.   0. ]\n",
      " [ 0.  52.1  0. ]\n",
      " [ 0.   0.  36.1]]\n"
     ]
    },
    {
     "ename": "ValueError",
     "evalue": "The number of FixedLocator locations (3), usually from a call to set_ticks, does not match the number of ticklabels (2).",
     "output_type": "error",
     "traceback": [
      "\u001b[0;31m---------------------------------------------------------------------------\u001b[0m",
      "\u001b[0;31mValueError\u001b[0m                                Traceback (most recent call last)",
      "\u001b[0;32m<ipython-input-17-d355d7701610>\u001b[0m in \u001b[0;36m<module>\u001b[0;34m\u001b[0m\n\u001b[1;32m      1\u001b[0m \u001b[0mplot_mccv_confusion_matrix\u001b[0m\u001b[0;34m(\u001b[0m\u001b[0mKNeighborsClassifier\u001b[0m\u001b[0;34m,\u001b[0m \u001b[0mwine_X\u001b[0m\u001b[0;34m,\u001b[0m \u001b[0mwine_y\u001b[0m\u001b[0;34m,\u001b[0m \u001b[0;36m10\u001b[0m\u001b[0;34m,\u001b[0m \u001b[0;36m0.75\u001b[0m\u001b[0;34m,\u001b[0m\u001b[0mlabels_w\u001b[0m\u001b[0;34m)\u001b[0m\u001b[0;34m\u001b[0m\u001b[0;34m\u001b[0m\u001b[0m\n\u001b[0;32m----> 2\u001b[0;31m \u001b[0mplot_mccv_confusion_matrix\u001b[0m\u001b[0;34m(\u001b[0m\u001b[0mDecisionTreeClassifier\u001b[0m\u001b[0;34m,\u001b[0m \u001b[0mwine_X\u001b[0m\u001b[0;34m,\u001b[0m \u001b[0mwine_y\u001b[0m\u001b[0;34m,\u001b[0m \u001b[0;36m10\u001b[0m\u001b[0;34m,\u001b[0m \u001b[0;36m0.75\u001b[0m\u001b[0;34m,\u001b[0m\u001b[0mlabels_b\u001b[0m\u001b[0;34m)\u001b[0m\u001b[0;34m\u001b[0m\u001b[0;34m\u001b[0m\u001b[0m\n\u001b[0m",
      "\u001b[0;32m<ipython-input-15-5d417c4a1f0e>\u001b[0m in \u001b[0;36mplot_mccv_confusion_matrix\u001b[0;34m(learner, X, y, repeats, train_size, labels)\u001b[0m\n\u001b[1;32m      9\u001b[0m                 , cmap='Blues')\n\u001b[1;32m     10\u001b[0m     \u001b[0;31m#labels=np.unique(y)\u001b[0m\u001b[0;34m\u001b[0m\u001b[0;34m\u001b[0m\u001b[0;34m\u001b[0m\u001b[0m\n\u001b[0;32m---> 11\u001b[0;31m     \u001b[0max\u001b[0m\u001b[0;34m.\u001b[0m\u001b[0mset_xticklabels\u001b[0m\u001b[0;34m(\u001b[0m\u001b[0mlabels\u001b[0m\u001b[0;34m)\u001b[0m\u001b[0;34m\u001b[0m\u001b[0;34m\u001b[0m\u001b[0m\n\u001b[0m\u001b[1;32m     12\u001b[0m     \u001b[0max\u001b[0m\u001b[0;34m.\u001b[0m\u001b[0mset_yticklabels\u001b[0m\u001b[0;34m(\u001b[0m\u001b[0mlabels\u001b[0m\u001b[0;34m)\u001b[0m\u001b[0;34m\u001b[0m\u001b[0;34m\u001b[0m\u001b[0m\n\u001b[1;32m     13\u001b[0m     \u001b[0mplt\u001b[0m\u001b[0;34m.\u001b[0m\u001b[0mxlabel\u001b[0m\u001b[0;34m(\u001b[0m\u001b[0;34m'Predicted Label'\u001b[0m\u001b[0;34m)\u001b[0m\u001b[0;34m\u001b[0m\u001b[0;34m\u001b[0m\u001b[0m\n",
      "\u001b[0;32m~/anaconda3/lib/python3.7/site-packages/matplotlib/axes/_base.py\u001b[0m in \u001b[0;36mwrapper\u001b[0;34m(self, *args, **kwargs)\u001b[0m\n\u001b[1;32m     73\u001b[0m \u001b[0;34m\u001b[0m\u001b[0m\n\u001b[1;32m     74\u001b[0m         \u001b[0;32mdef\u001b[0m \u001b[0mwrapper\u001b[0m\u001b[0;34m(\u001b[0m\u001b[0mself\u001b[0m\u001b[0;34m,\u001b[0m \u001b[0;34m*\u001b[0m\u001b[0margs\u001b[0m\u001b[0;34m,\u001b[0m \u001b[0;34m**\u001b[0m\u001b[0mkwargs\u001b[0m\u001b[0;34m)\u001b[0m\u001b[0;34m:\u001b[0m\u001b[0;34m\u001b[0m\u001b[0;34m\u001b[0m\u001b[0m\n\u001b[0;32m---> 75\u001b[0;31m             \u001b[0;32mreturn\u001b[0m \u001b[0mget_method\u001b[0m\u001b[0;34m(\u001b[0m\u001b[0mself\u001b[0m\u001b[0;34m)\u001b[0m\u001b[0;34m(\u001b[0m\u001b[0;34m*\u001b[0m\u001b[0margs\u001b[0m\u001b[0;34m,\u001b[0m \u001b[0;34m**\u001b[0m\u001b[0mkwargs\u001b[0m\u001b[0;34m)\u001b[0m\u001b[0;34m\u001b[0m\u001b[0;34m\u001b[0m\u001b[0m\n\u001b[0m\u001b[1;32m     76\u001b[0m \u001b[0;34m\u001b[0m\u001b[0m\n\u001b[1;32m     77\u001b[0m         \u001b[0mwrapper\u001b[0m\u001b[0;34m.\u001b[0m\u001b[0m__module__\u001b[0m \u001b[0;34m=\u001b[0m \u001b[0mowner\u001b[0m\u001b[0;34m.\u001b[0m\u001b[0m__module__\u001b[0m\u001b[0;34m\u001b[0m\u001b[0;34m\u001b[0m\u001b[0m\n",
      "\u001b[0;32m~/anaconda3/lib/python3.7/site-packages/matplotlib/axis.py\u001b[0m in \u001b[0;36m_set_ticklabels\u001b[0;34m(self, labels, fontdict, minor, **kwargs)\u001b[0m\n\u001b[1;32m   1796\u001b[0m         \u001b[0;32mif\u001b[0m \u001b[0mfontdict\u001b[0m \u001b[0;32mis\u001b[0m \u001b[0;32mnot\u001b[0m \u001b[0;32mNone\u001b[0m\u001b[0;34m:\u001b[0m\u001b[0;34m\u001b[0m\u001b[0;34m\u001b[0m\u001b[0m\n\u001b[1;32m   1797\u001b[0m             \u001b[0mkwargs\u001b[0m\u001b[0;34m.\u001b[0m\u001b[0mupdate\u001b[0m\u001b[0;34m(\u001b[0m\u001b[0mfontdict\u001b[0m\u001b[0;34m)\u001b[0m\u001b[0;34m\u001b[0m\u001b[0;34m\u001b[0m\u001b[0m\n\u001b[0;32m-> 1798\u001b[0;31m         \u001b[0;32mreturn\u001b[0m \u001b[0mself\u001b[0m\u001b[0;34m.\u001b[0m\u001b[0mset_ticklabels\u001b[0m\u001b[0;34m(\u001b[0m\u001b[0mlabels\u001b[0m\u001b[0;34m,\u001b[0m \u001b[0mminor\u001b[0m\u001b[0;34m=\u001b[0m\u001b[0mminor\u001b[0m\u001b[0;34m,\u001b[0m \u001b[0;34m**\u001b[0m\u001b[0mkwargs\u001b[0m\u001b[0;34m)\u001b[0m\u001b[0;34m\u001b[0m\u001b[0;34m\u001b[0m\u001b[0m\n\u001b[0m\u001b[1;32m   1799\u001b[0m \u001b[0;34m\u001b[0m\u001b[0m\n\u001b[1;32m   1800\u001b[0m     \u001b[0;32mdef\u001b[0m \u001b[0m_set_tick_locations\u001b[0m\u001b[0;34m(\u001b[0m\u001b[0mself\u001b[0m\u001b[0;34m,\u001b[0m \u001b[0mticks\u001b[0m\u001b[0;34m,\u001b[0m \u001b[0;34m*\u001b[0m\u001b[0;34m,\u001b[0m \u001b[0mminor\u001b[0m\u001b[0;34m=\u001b[0m\u001b[0;32mFalse\u001b[0m\u001b[0;34m)\u001b[0m\u001b[0;34m:\u001b[0m\u001b[0;34m\u001b[0m\u001b[0;34m\u001b[0m\u001b[0m\n",
      "\u001b[0;32m~/anaconda3/lib/python3.7/site-packages/matplotlib/axis.py\u001b[0m in \u001b[0;36mset_ticklabels\u001b[0;34m(self, ticklabels, minor, **kwargs)\u001b[0m\n\u001b[1;32m   1719\u001b[0m             \u001b[0;32mif\u001b[0m \u001b[0mlen\u001b[0m\u001b[0;34m(\u001b[0m\u001b[0mlocator\u001b[0m\u001b[0;34m.\u001b[0m\u001b[0mlocs\u001b[0m\u001b[0;34m)\u001b[0m \u001b[0;34m!=\u001b[0m \u001b[0mlen\u001b[0m\u001b[0;34m(\u001b[0m\u001b[0mticklabels\u001b[0m\u001b[0;34m)\u001b[0m \u001b[0;32mand\u001b[0m \u001b[0mlen\u001b[0m\u001b[0;34m(\u001b[0m\u001b[0mticklabels\u001b[0m\u001b[0;34m)\u001b[0m \u001b[0;34m!=\u001b[0m \u001b[0;36m0\u001b[0m\u001b[0;34m:\u001b[0m\u001b[0;34m\u001b[0m\u001b[0;34m\u001b[0m\u001b[0m\n\u001b[1;32m   1720\u001b[0m                 raise ValueError(\n\u001b[0;32m-> 1721\u001b[0;31m                     \u001b[0;34m\"The number of FixedLocator locations\"\u001b[0m\u001b[0;34m\u001b[0m\u001b[0;34m\u001b[0m\u001b[0m\n\u001b[0m\u001b[1;32m   1722\u001b[0m                     \u001b[0;34mf\" ({len(locator.locs)}), usually from a call to\"\u001b[0m\u001b[0;34m\u001b[0m\u001b[0;34m\u001b[0m\u001b[0m\n\u001b[1;32m   1723\u001b[0m                     \u001b[0;34m\" set_ticks, does not match\"\u001b[0m\u001b[0;34m\u001b[0m\u001b[0;34m\u001b[0m\u001b[0m\n",
      "\u001b[0;31mValueError\u001b[0m: The number of FixedLocator locations (3), usually from a call to set_ticks, does not match the number of ticklabels (2)."
     ]
    },
    {
     "data": {
      "image/png": "[encoded data removed]",
      "text/plain": [
       "<Figure size 576x576 with 2 Axes>"
      ]
     },
     "metadata": {
      "needs_background": "light"
     },
     "output_type": "display_data"
    },
    {
     "data": {
      "image/png": "[encoded data removed]",
      "text/plain": [
       "<Figure size 576x576 with 2 Axes>"
      ]
     },
     "metadata": {
      "needs_background": "light"
     },
     "output_type": "display_data"
    }
   ],
   "source": [
    "plot_mccv_confusion_matrix(KNeighborsClassifier, wine_X, wine_y, 10, 0.75,labels_w)\n",
    "plot_mccv_confusion_matrix(DecisionTreeClassifier, wine_X, wine_y, 10, 0.75,labels_b)"
   ]
  },
  {
   "cell_type": "code",
   "execution_count": 18,
   "metadata": {
    "colab": {
     "base_uri": "https://localhost:8080/",
     "height": 1000
    },
    "id": "-SWLHtv1gb3K",
    "outputId": "8f232fc3-87c3-43d0-f16b-21b59d39421f"
   },
   "outputs": [
    {
     "name": "stdout",
     "output_type": "stream",
     "text": [
      "Mean Iterated Confusion matrix:\n",
      "[[1.340e+02 0.000e+00 0.000e+00 0.000e+00 0.000e+00 0.000e+00 0.000e+00\n",
      "  0.000e+00 0.000e+00 0.000e+00]\n",
      " [0.000e+00 1.352e+02 0.000e+00 0.000e+00 0.000e+00 0.000e+00 0.000e+00\n",
      "  0.000e+00 0.000e+00 0.000e+00]\n",
      " [0.000e+00 0.000e+00 1.312e+02 1.000e-01 0.000e+00 0.000e+00 0.000e+00\n",
      "  0.000e+00 0.000e+00 0.000e+00]\n",
      " [0.000e+00 0.000e+00 0.000e+00 1.343e+02 0.000e+00 0.000e+00 0.000e+00\n",
      "  1.400e+00 0.000e+00 2.000e-01]\n",
      " [0.000e+00 0.000e+00 0.000e+00 0.000e+00 1.357e+02 0.000e+00 0.000e+00\n",
      "  2.000e-01 0.000e+00 0.000e+00]\n",
      " [0.000e+00 0.000e+00 0.000e+00 0.000e+00 0.000e+00 1.379e+02 7.000e-01\n",
      "  0.000e+00 0.000e+00 8.000e-01]\n",
      " [0.000e+00 0.000e+00 0.000e+00 0.000e+00 0.000e+00 0.000e+00 1.371e+02\n",
      "  0.000e+00 0.000e+00 0.000e+00]\n",
      " [0.000e+00 0.000e+00 0.000e+00 0.000e+00 0.000e+00 0.000e+00 0.000e+00\n",
      "  1.329e+02 0.000e+00 2.000e-01]\n",
      " [0.000e+00 2.900e+00 1.000e-01 6.000e-01 0.000e+00 0.000e+00 4.000e-01\n",
      "  0.000e+00 1.260e+02 0.000e+00]\n",
      " [0.000e+00 7.000e-01 0.000e+00 1.400e+00 8.000e-01 9.000e-01 0.000e+00\n",
      "  0.000e+00 8.000e-01 1.305e+02]]\n",
      "Mean Iterated Confusion matrix:\n",
      "[[132.7   0.    0.    0.    0.    0.    0.    0.    0.    0. ]\n",
      " [  0.  137.8   0.    0.    0.    0.    0.    0.    0.    0. ]\n",
      " [  0.    0.  131.4   0.    0.    0.    0.    0.    0.    0. ]\n",
      " [  0.    0.    0.  137.3   0.    0.    0.    0.    0.    0. ]\n",
      " [  0.    0.    0.    0.  140.6   0.    0.    0.    0.    0. ]\n",
      " [  0.    0.    0.    0.    0.  136.9   0.    0.    0.    0. ]\n",
      " [  0.    0.    0.    0.    0.    0.  137.    0.    0.    0. ]\n",
      " [  0.    0.    0.    0.    0.    0.    0.  131.5   0.    0. ]\n",
      " [  0.    0.    0.    0.    0.    0.    0.    0.  130.    0. ]\n",
      " [  0.    0.    0.    0.    0.    0.    0.    0.    0.  131.8]]\n"
     ]
    },
    {
     "ename": "ValueError",
     "evalue": "The number of FixedLocator locations (10), usually from a call to set_ticks, does not match the number of ticklabels (2).",
     "output_type": "error",
     "traceback": [
      "\u001b[0;31m---------------------------------------------------------------------------\u001b[0m",
      "\u001b[0;31mValueError\u001b[0m                                Traceback (most recent call last)",
      "\u001b[0;32m<ipython-input-18-f6a02a32ec80>\u001b[0m in \u001b[0;36m<module>\u001b[0;34m\u001b[0m\n\u001b[1;32m      1\u001b[0m \u001b[0mplot_mccv_confusion_matrix\u001b[0m\u001b[0;34m(\u001b[0m\u001b[0mKNeighborsClassifier\u001b[0m\u001b[0;34m,\u001b[0m \u001b[0mdigits_X\u001b[0m\u001b[0;34m,\u001b[0m \u001b[0mdigits_y\u001b[0m\u001b[0;34m,\u001b[0m\u001b[0;36m10\u001b[0m\u001b[0;34m,\u001b[0m \u001b[0;36m0.75\u001b[0m\u001b[0;34m,\u001b[0m\u001b[0mlabels_d\u001b[0m\u001b[0;34m)\u001b[0m\u001b[0;34m\u001b[0m\u001b[0;34m\u001b[0m\u001b[0m\n\u001b[0;32m----> 2\u001b[0;31m \u001b[0mplot_mccv_confusion_matrix\u001b[0m\u001b[0;34m(\u001b[0m\u001b[0mDecisionTreeClassifier\u001b[0m\u001b[0;34m,\u001b[0m \u001b[0mdigits_X\u001b[0m\u001b[0;34m,\u001b[0m \u001b[0mdigits_y\u001b[0m\u001b[0;34m,\u001b[0m \u001b[0;36m10\u001b[0m\u001b[0;34m,\u001b[0m \u001b[0;36m0.75\u001b[0m\u001b[0;34m,\u001b[0m\u001b[0mlabels_b\u001b[0m\u001b[0;34m)\u001b[0m\u001b[0;34m\u001b[0m\u001b[0;34m\u001b[0m\u001b[0m\n\u001b[0m",
      "\u001b[0;32m<ipython-input-15-5d417c4a1f0e>\u001b[0m in \u001b[0;36mplot_mccv_confusion_matrix\u001b[0;34m(learner, X, y, repeats, train_size, labels)\u001b[0m\n\u001b[1;32m      9\u001b[0m                 , cmap='Blues')\n\u001b[1;32m     10\u001b[0m     \u001b[0;31m#labels=np.unique(y)\u001b[0m\u001b[0;34m\u001b[0m\u001b[0;34m\u001b[0m\u001b[0;34m\u001b[0m\u001b[0m\n\u001b[0;32m---> 11\u001b[0;31m     \u001b[0max\u001b[0m\u001b[0;34m.\u001b[0m\u001b[0mset_xticklabels\u001b[0m\u001b[0;34m(\u001b[0m\u001b[0mlabels\u001b[0m\u001b[0;34m)\u001b[0m\u001b[0;34m\u001b[0m\u001b[0;34m\u001b[0m\u001b[0m\n\u001b[0m\u001b[1;32m     12\u001b[0m     \u001b[0max\u001b[0m\u001b[0;34m.\u001b[0m\u001b[0mset_yticklabels\u001b[0m\u001b[0;34m(\u001b[0m\u001b[0mlabels\u001b[0m\u001b[0;34m)\u001b[0m\u001b[0;34m\u001b[0m\u001b[0;34m\u001b[0m\u001b[0m\n\u001b[1;32m     13\u001b[0m     \u001b[0mplt\u001b[0m\u001b[0;34m.\u001b[0m\u001b[0mxlabel\u001b[0m\u001b[0;34m(\u001b[0m\u001b[0;34m'Predicted Label'\u001b[0m\u001b[0;34m)\u001b[0m\u001b[0;34m\u001b[0m\u001b[0;34m\u001b[0m\u001b[0m\n",
      "\u001b[0;32m~/anaconda3/lib/python3.7/site-packages/matplotlib/axes/_base.py\u001b[0m in \u001b[0;36mwrapper\u001b[0;34m(self, *args, **kwargs)\u001b[0m\n\u001b[1;32m     73\u001b[0m \u001b[0;34m\u001b[0m\u001b[0m\n\u001b[1;32m     74\u001b[0m         \u001b[0;32mdef\u001b[0m \u001b[0mwrapper\u001b[0m\u001b[0;34m(\u001b[0m\u001b[0mself\u001b[0m\u001b[0;34m,\u001b[0m \u001b[0;34m*\u001b[0m\u001b[0margs\u001b[0m\u001b[0;34m,\u001b[0m \u001b[0;34m**\u001b[0m\u001b[0mkwargs\u001b[0m\u001b[0;34m)\u001b[0m\u001b[0;34m:\u001b[0m\u001b[0;34m\u001b[0m\u001b[0;34m\u001b[0m\u001b[0m\n\u001b[0;32m---> 75\u001b[0;31m             \u001b[0;32mreturn\u001b[0m \u001b[0mget_method\u001b[0m\u001b[0;34m(\u001b[0m\u001b[0mself\u001b[0m\u001b[0;34m)\u001b[0m\u001b[0;34m(\u001b[0m\u001b[0;34m*\u001b[0m\u001b[0margs\u001b[0m\u001b[0;34m,\u001b[0m \u001b[0;34m**\u001b[0m\u001b[0mkwargs\u001b[0m\u001b[0;34m)\u001b[0m\u001b[0;34m\u001b[0m\u001b[0;34m\u001b[0m\u001b[0m\n\u001b[0m\u001b[1;32m     76\u001b[0m \u001b[0;34m\u001b[0m\u001b[0m\n\u001b[1;32m     77\u001b[0m         \u001b[0mwrapper\u001b[0m\u001b[0;34m.\u001b[0m\u001b[0m__module__\u001b[0m \u001b[0;34m=\u001b[0m \u001b[0mowner\u001b[0m\u001b[0;34m.\u001b[0m\u001b[0m__module__\u001b[0m\u001b[0;34m\u001b[0m\u001b[0;34m\u001b[0m\u001b[0m\n",
      "\u001b[0;32m~/anaconda3/lib/python3.7/site-packages/matplotlib/axis.py\u001b[0m in \u001b[0;36m_set_ticklabels\u001b[0;34m(self, labels, fontdict, minor, **kwargs)\u001b[0m\n\u001b[1;32m   1796\u001b[0m         \u001b[0;32mif\u001b[0m \u001b[0mfontdict\u001b[0m \u001b[0;32mis\u001b[0m \u001b[0;32mnot\u001b[0m \u001b[0;32mNone\u001b[0m\u001b[0;34m:\u001b[0m\u001b[0;34m\u001b[0m\u001b[0;34m\u001b[0m\u001b[0m\n\u001b[1;32m   1797\u001b[0m             \u001b[0mkwargs\u001b[0m\u001b[0;34m.\u001b[0m\u001b[0mupdate\u001b[0m\u001b[0;34m(\u001b[0m\u001b[0mfontdict\u001b[0m\u001b[0;34m)\u001b[0m\u001b[0;34m\u001b[0m\u001b[0;34m\u001b[0m\u001b[0m\n\u001b[0;32m-> 1798\u001b[0;31m         \u001b[0;32mreturn\u001b[0m \u001b[0mself\u001b[0m\u001b[0;34m.\u001b[0m\u001b[0mset_ticklabels\u001b[0m\u001b[0;34m(\u001b[0m\u001b[0mlabels\u001b[0m\u001b[0;34m,\u001b[0m \u001b[0mminor\u001b[0m\u001b[0;34m=\u001b[0m\u001b[0mminor\u001b[0m\u001b[0;34m,\u001b[0m \u001b[0;34m**\u001b[0m\u001b[0mkwargs\u001b[0m\u001b[0;34m)\u001b[0m\u001b[0;34m\u001b[0m\u001b[0;34m\u001b[0m\u001b[0m\n\u001b[0m\u001b[1;32m   1799\u001b[0m \u001b[0;34m\u001b[0m\u001b[0m\n\u001b[1;32m   1800\u001b[0m     \u001b[0;32mdef\u001b[0m \u001b[0m_set_tick_locations\u001b[0m\u001b[0;34m(\u001b[0m\u001b[0mself\u001b[0m\u001b[0;34m,\u001b[0m \u001b[0mticks\u001b[0m\u001b[0;34m,\u001b[0m \u001b[0;34m*\u001b[0m\u001b[0;34m,\u001b[0m \u001b[0mminor\u001b[0m\u001b[0;34m=\u001b[0m\u001b[0;32mFalse\u001b[0m\u001b[0;34m)\u001b[0m\u001b[0;34m:\u001b[0m\u001b[0;34m\u001b[0m\u001b[0;34m\u001b[0m\u001b[0m\n",
      "\u001b[0;32m~/anaconda3/lib/python3.7/site-packages/matplotlib/axis.py\u001b[0m in \u001b[0;36mset_ticklabels\u001b[0;34m(self, ticklabels, minor, **kwargs)\u001b[0m\n\u001b[1;32m   1719\u001b[0m             \u001b[0;32mif\u001b[0m \u001b[0mlen\u001b[0m\u001b[0;34m(\u001b[0m\u001b[0mlocator\u001b[0m\u001b[0;34m.\u001b[0m\u001b[0mlocs\u001b[0m\u001b[0;34m)\u001b[0m \u001b[0;34m!=\u001b[0m \u001b[0mlen\u001b[0m\u001b[0;34m(\u001b[0m\u001b[0mticklabels\u001b[0m\u001b[0;34m)\u001b[0m \u001b[0;32mand\u001b[0m \u001b[0mlen\u001b[0m\u001b[0;34m(\u001b[0m\u001b[0mticklabels\u001b[0m\u001b[0;34m)\u001b[0m \u001b[0;34m!=\u001b[0m \u001b[0;36m0\u001b[0m\u001b[0;34m:\u001b[0m\u001b[0;34m\u001b[0m\u001b[0;34m\u001b[0m\u001b[0m\n\u001b[1;32m   1720\u001b[0m                 raise ValueError(\n\u001b[0;32m-> 1721\u001b[0;31m                     \u001b[0;34m\"The number of FixedLocator locations\"\u001b[0m\u001b[0;34m\u001b[0m\u001b[0;34m\u001b[0m\u001b[0m\n\u001b[0m\u001b[1;32m   1722\u001b[0m                     \u001b[0;34mf\" ({len(locator.locs)}), usually from a call to\"\u001b[0m\u001b[0;34m\u001b[0m\u001b[0;34m\u001b[0m\u001b[0m\n\u001b[1;32m   1723\u001b[0m                     \u001b[0;34m\" set_ticks, does not match\"\u001b[0m\u001b[0;34m\u001b[0m\u001b[0;34m\u001b[0m\u001b[0m\n",
      "\u001b[0;31mValueError\u001b[0m: The number of FixedLocator locations (10), usually from a call to set_ticks, does not match the number of ticklabels (2)."
     ]
    },
    {
     "data": {
      "image/png": "[encoded data removed]",
      "text/plain": [
       "<Figure size 576x576 with 2 Axes>"
      ]
     },
     "metadata": {
      "needs_background": "light"
     },
     "output_type": "display_data"
    },
    {
     "data": {
      "image/png": "[encoded data removed]",
      "text/plain": [
       "<Figure size 576x576 with 2 Axes>"
      ]
     },
     "metadata": {
      "needs_background": "light"
     },
     "output_type": "display_data"
    }
   ],
   "source": [
    "plot_mccv_confusion_matrix(KNeighborsClassifier, digits_X, digits_y,10, 0.75,labels_d)\n",
    "plot_mccv_confusion_matrix(DecisionTreeClassifier, digits_X, digits_y, 10, 0.75,labels_b)"
   ]
  },
  {
   "cell_type": "code",
   "execution_count": null,
   "metadata": {
    "colab": {
     "base_uri": "https://localhost:8080/",
     "height": 1000
    },
    "id": "fq-AHyTbq9JH",
    "outputId": "8966fd40-d915-4824-9dd0-6aef52bc8c06"
   },
   "outputs": [],
   "source": [
    "plot_mccv_confusion_matrix(KNeighborsClassifier, breast_X, breast_y, 10, 0.75,labels_b)\n",
    "plot_mccv_confusion_matrix(DecisionTreeClassifier, breast_X, breast_y, 10, 0.75,labels_b)"
   ]
  },
  {
   "cell_type": "markdown",
   "metadata": {
    "id": "T0wpkTi_r5ky"
   },
   "source": [
    "En efecto, al comparar ambos modelos se observa en la matriz de confusión que el desición tree logra mejores resultados para separar las clases de todos los datasets, logrando pronosticar de mejor manera el target y por ende con menores errores. Una vez más, el resultado del DT está llamado a revisión por sobreajuste a la base."
   ]
  },
  {
   "cell_type": "markdown",
   "metadata": {
    "id": "pQV8U7G6y-Bz"
   },
   "source": [
    "2.2"
   ]
  },
  {
   "cell_type": "markdown",
   "metadata": {
    "id": "5sic2X3Ynw1O"
   },
   "source": [
    "#**Exercise 3**\n",
    "\n",
    "1. Write a function mccv_with_smote(learner, X, y, repeats train_size, score) that works as a standard MCCV only that it applies SMOTE (you can use any external library for this) to each train fold prior to training the actual learner. Here, score should be the metric for evaluation like f1. Look at the documentation of sklearn.metrics for the names of the metric.\n",
    "2. Apply your function to properly asses the performance of a decision tree and kNN on the imbalance dataset (attached to the exercise). Is SMOTE of any use for any of the two algorithms?\n",
    "3. For each of the four classification datasets, check the effect of MinMaxScaler, Standard- Scaler, PowerTransform, and Normalization on the different performance metrics of kNN (you might want to re-use your solution to Exercise 1). Use a k-fold cross validation or MCCV for this assessment. Give a brief summary of your findings: Is scaling useful or harmful for kNN?"
   ]
  },
  {
   "cell_type": "markdown",
   "metadata": {
    "id": "kKCwGokds1v_"
   },
   "source": [
    "3.1 Write a function mccv_with_smote(learner, X, y, repeats train_size, score) that works as a standard MCCV only that it applies SMOTE (you can use any external library for this) to each train fold prior to training the actual learner. Here, score should be the metric for evaluation like f1. Look at the documentation of sklearn.metrics for the names of the metric."
   ]
  },
  {
   "cell_type": "code",
   "execution_count": 22,
   "metadata": {
    "colab": {
     "base_uri": "https://localhost:8080/",
     "height": 296
    },
    "id": "l8NQ-FYGwYTC",
    "outputId": "0cc634d6-a786-4da1-a6ff-5c73d2aeab02"
   },
   "outputs": [
    {
     "data": {
      "text/plain": [
       "<AxesSubplot:xlabel='class', ylabel='count'>"
      ]
     },
     "execution_count": 22,
     "metadata": {},
     "output_type": "execute_result"
    },
    {
     "data": {
      "image/png": "[encoded data removed]",
      "text/plain": [
       "<Figure size 432x288 with 1 Axes>"
      ]
     },
     "metadata": {
      "needs_background": "light"
     },
     "output_type": "display_data"
    }
   ],
   "source": [
    "data= pd.read_csv(\"../imbalanced.csv\") \n",
    "x=data.drop(\"class\",1)\n",
    "y=data[\"class\"]\n",
    "sns.countplot(x=y)"
   ]
  },
  {
   "cell_type": "code",
   "execution_count": 23,
   "metadata": {
    "id": "g_-_o6JDwv3E"
   },
   "outputs": [],
   "source": [
    "def mccv_with_smote(learner, X, y, repeats = 30, train_size = 0.7, metric = sklearn.metrics.f1_score):\n",
    "    scores = []\n",
    "    for i in range(repeats):\n",
    "        X_train, X_valid, y_train, y_valid = sklearn.model_selection.train_test_split(X, y, train_size = train_size)\n",
    "        smote = SMOTE()\n",
    "        X_res, y_res = smote.fit_resample(X_train, y_train)\n",
    "        learner.fit(X_res, y_res)\n",
    "        y_hat = learner.predict(X_valid)\n",
    "        scores.append(metric(y_hat, y_valid))\n",
    "    return np.mean(scores)"
   ]
  },
  {
   "cell_type": "markdown",
   "metadata": {
    "id": "jRln5s4Hw-pY"
   },
   "source": [
    "3.2 Apply your function to properly asses the performance of a decision tree and kNN on the imbalance dataset (attached to the exercise). Is SMOTE of any use for any of the two algorithms?"
   ]
  },
  {
   "cell_type": "markdown",
   "metadata": {
    "id": "6eU40q7YxPfi"
   },
   "source": [
    "A continuación entrenamos 2 modelos sin SMOTE para luego compararlos con el modelo con SMOTE."
   ]
  },
  {
   "cell_type": "code",
   "execution_count": 24,
   "metadata": {
    "colab": {
     "base_uri": "https://localhost:8080/"
    },
    "id": "YEwSwZz6xKtD",
    "outputId": "8def9171-9a14-4cc0-911a-14e4f1765f99"
   },
   "outputs": [
    {
     "name": "stdout",
     "output_type": "stream",
     "text": [
      "0.23529411764705882\n"
     ]
    }
   ],
   "source": [
    "arbol=sklearn.tree.DecisionTreeClassifier()\n",
    "X_train, X_valid, y_train, y_valid = sklearn.model_selection.train_test_split(x, y, train_size = 0.7)\n",
    "arbol.fit(X_train,y_train)\n",
    "y_hat = arbol.predict(X_valid)\n",
    "print(sklearn.metrics.f1_score(y_hat, y_valid))"
   ]
  },
  {
   "cell_type": "code",
   "execution_count": 25,
   "metadata": {
    "colab": {
     "base_uri": "https://localhost:8080/"
    },
    "id": "Zbcq7KDXxX3x",
    "outputId": "714d8d1a-1780-4081-e358-c3303f7e6b37"
   },
   "outputs": [
    {
     "name": "stdout",
     "output_type": "stream",
     "text": [
      "0.0\n"
     ]
    }
   ],
   "source": [
    "vecinos=sklearn.neighbors.KNeighborsClassifier()\n",
    "X_train, X_valid, y_train, y_valid = sklearn.model_selection.train_test_split(x, y, train_size = 0.7)\n",
    "vecinos.fit(X_train,y_train)\n",
    "y_hat = vecinos.predict(X_valid)\n",
    "print(sklearn.metrics.f1_score(y_hat, y_valid))"
   ]
  },
  {
   "cell_type": "code",
   "execution_count": 26,
   "metadata": {
    "colab": {
     "base_uri": "https://localhost:8080/"
    },
    "id": "S1dQ8qwcxuIC",
    "outputId": "906a0153-9bf8-48b8-af28-981511188fb8"
   },
   "outputs": [
    {
     "data": {
      "text/plain": [
       "0.3169482293276816"
      ]
     },
     "execution_count": 26,
     "metadata": {},
     "output_type": "execute_result"
    }
   ],
   "source": [
    "mccv_with_smote(sklearn.tree.DecisionTreeClassifier(),x,y,100,0.7,sklearn.metrics.f1_score)"
   ]
  },
  {
   "cell_type": "code",
   "execution_count": 27,
   "metadata": {
    "colab": {
     "base_uri": "https://localhost:8080/"
    },
    "id": "f3jRBKMwyCVY",
    "outputId": "183f8eb1-74ee-46c4-bdbd-1b1d44db0a01"
   },
   "outputs": [
    {
     "data": {
      "text/plain": [
       "0.3415167617338959"
      ]
     },
     "execution_count": 27,
     "metadata": {},
     "output_type": "execute_result"
    }
   ],
   "source": [
    "mccv_with_smote(sklearn.neighbors.KNeighborsClassifier(),x,y,100,0.7,sklearn.metrics.f1_score)"
   ]
  },
  {
   "cell_type": "markdown",
   "metadata": {
    "id": "hmFFPlpOyIda"
   },
   "source": [
    "Conclusión: No es adecuado utilizar la técnica upsampling con SMOTE dado que no sube lo suficiente los puntajes."
   ]
  },
  {
   "cell_type": "markdown",
   "metadata": {
    "id": "LFLCvAQGyXmC"
   },
   "source": [
    "3.3 For each of the four classification datasets, check the effect of MinMaxScaler, Standard- Scaler, PowerTransform, and Normalization on the different performance metrics of kNN (you might want to re-use your solution to Exercise 1). Use a k-fold cross validation or MCCV for this assessment. Give a brief summary of your findings: Is scaling useful or harmful for kNN?"
   ]
  },
  {
   "cell_type": "code",
   "execution_count": 28,
   "metadata": {
    "id": "lVhqTM8byqfM"
   },
   "outputs": [],
   "source": [
    "transform = MinMaxScaler()   \n",
    "iris_X_m = transform.fit_transform(iris_X)\n",
    "\n",
    "transform = StandardScaler()   \n",
    "iris_X_s = transform.fit_transform(iris_X)\n",
    "\n",
    "iris_X_p = power_transform(iris_X)\n",
    "\n",
    "transform = Normalizer()   \n",
    "iris_X_n = transform.fit_transform(iris_X)"
   ]
  },
  {
   "cell_type": "code",
   "execution_count": 29,
   "metadata": {
    "colab": {
     "base_uri": "https://localhost:8080/"
    },
    "id": "57FzBCId13Cn",
    "outputId": "1a99ef11-8a4a-45d5-db9c-80b3216d4618"
   },
   "outputs": [
    {
     "name": "stdout",
     "output_type": "stream",
     "text": [
      "         clasificadores  accuracy  precision  recall  f1_score  auroc  \\\n",
      "0  KNeighborsClassifier       1.0        1.0     1.0       1.0    1.0   \n",
      "\n",
      "       log_loss  brier_score  \n",
      "0  9.992007e-16          0.0  \n",
      "         clasificadores  accuracy  precision  recall  f1_score  auroc  \\\n",
      "0  KNeighborsClassifier       1.0        1.0     1.0       1.0    1.0   \n",
      "\n",
      "   log_loss  brier_score  \n",
      "0  0.011352     0.003556  \n",
      "         clasificadores  accuracy  precision  recall  f1_score  auroc  \\\n",
      "0  KNeighborsClassifier       1.0        1.0     1.0       1.0    1.0   \n",
      "\n",
      "   log_loss  brier_score  \n",
      "0  0.011352     0.003556  \n",
      "         clasificadores  accuracy  precision  recall  f1_score  auroc  \\\n",
      "0  KNeighborsClassifier       1.0        1.0     1.0       1.0    1.0   \n",
      "\n",
      "       log_loss  brier_score  \n",
      "0  9.992007e-16          0.0  \n"
     ]
    }
   ],
   "source": [
    "clasificadores=[KNeighborsClassifier()]\n",
    "\n",
    "iris_metrics = compare_metrics(clasificadores, iris_X_m, iris_bin_y, train_size=0.7, repeats=5)\n",
    "print(iris_metrics)\n",
    "iris_metrics = compare_metrics(clasificadores, iris_X_s, iris_bin_y, train_size=0.7, repeats=5)\n",
    "print(iris_metrics)\n",
    "iris_metrics = compare_metrics(clasificadores, iris_X_p, iris_bin_y, train_size=0.7, repeats=5)\n",
    "print(iris_metrics)\n",
    "iris_metrics = compare_metrics(clasificadores, iris_X_n, iris_bin_y, train_size=0.7, repeats=5)\n",
    "print(iris_metrics)"
   ]
  },
  {
   "cell_type": "code",
   "execution_count": 30,
   "metadata": {
    "id": "ThpBV9LJ3h1R"
   },
   "outputs": [],
   "source": [
    "transform = MinMaxScaler()   \n",
    "breast_X_m = transform.fit_transform(breast_X)\n",
    "\n",
    "transform = StandardScaler()   \n",
    "breast_X_s = transform.fit_transform(breast_X)\n",
    "\n",
    "breast_X_p = power_transform(breast_X)\n",
    "\n",
    "transform = Normalizer()   \n",
    "breast_X_n = transform.fit_transform(breast_X)"
   ]
  },
  {
   "cell_type": "code",
   "execution_count": 31,
   "metadata": {
    "colab": {
     "base_uri": "https://localhost:8080/"
    },
    "id": "-Pu2I1hn4SS5",
    "outputId": "678d1498-8115-44d6-b55d-50eecdc90aba"
   },
   "outputs": [
    {
     "name": "stdout",
     "output_type": "stream",
     "text": [
      "         clasificadores  accuracy  precision    recall  f1_score     auroc  \\\n",
      "0  KNeighborsClassifier  0.968421    0.96194  0.988655   0.97497  0.990304   \n",
      "\n",
      "   log_loss  brier_score  \n",
      "0  0.272596     0.029942  \n",
      "         clasificadores  accuracy  precision    recall  f1_score     auroc  \\\n",
      "0  KNeighborsClassifier  0.967251   0.956255  0.992606   0.97391  0.986138   \n",
      "\n",
      "   log_loss  brier_score  \n",
      "0  0.473233     0.032515  \n",
      "         clasificadores  accuracy  precision    recall  f1_score     auroc  \\\n",
      "0  KNeighborsClassifier  0.960234   0.962234  0.972754   0.96742  0.989181   \n",
      "\n",
      "   log_loss  brier_score  \n",
      "0  0.277365     0.029942  \n",
      "         clasificadores  accuracy  precision    recall  f1_score     auroc  \\\n",
      "0  KNeighborsClassifier  0.927485   0.923153  0.964663  0.943307  0.958718   \n",
      "\n",
      "   log_loss  brier_score  \n",
      "0  0.701484     0.047018  \n"
     ]
    }
   ],
   "source": [
    "clasificadores=[KNeighborsClassifier()]\n",
    "\n",
    "breast_metrics = compare_metrics(clasificadores, breast_X_m, breast_y, train_size=0.7, repeats=5)\n",
    "print( breast_metrics)\n",
    "breast_metrics = compare_metrics(clasificadores, breast_X_s, breast_y, train_size=0.7, repeats=5)\n",
    "print(breast_metrics)\n",
    "breast_metrics = compare_metrics(clasificadores, breast_X_p, breast_y, train_size=0.7, repeats=5)\n",
    "print(breast_metrics)\n",
    "breast_metrics = compare_metrics(clasificadores, breast_X_n, breast_y, train_size=0.7, repeats=5)\n",
    "print(breast_metrics)"
   ]
  },
  {
   "cell_type": "code",
   "execution_count": 32,
   "metadata": {
    "id": "WlnCLRdrB9YH"
   },
   "outputs": [],
   "source": [
    "transform = MinMaxScaler()   \n",
    "digits_X_m = transform.fit_transform(digits_X)\n",
    "\n",
    "transform = StandardScaler()   \n",
    "digits_X_s = transform.fit_transform(digits_X)\n",
    "\n",
    "digits_X_p = power_transform(digits_X)\n",
    "\n",
    "transform = Normalizer()   \n",
    "digits_X_n = transform.fit_transform(digits_X)"
   ]
  },
  {
   "cell_type": "code",
   "execution_count": 33,
   "metadata": {
    "colab": {
     "base_uri": "https://localhost:8080/"
    },
    "id": "NNuq-CSBCC30",
    "outputId": "ae9f122f-f44f-4972-dd0f-fb19ac40857e"
   },
   "outputs": [
    {
     "name": "stdout",
     "output_type": "stream",
     "text": [
      "         clasificadores  accuracy  precision    recall  f1_score     auroc  \\\n",
      "0  KNeighborsClassifier  0.995556    0.98068  0.973415  0.977013  0.995601   \n",
      "\n",
      "   log_loss  brier_score  \n",
      "0  0.073423     0.004815  \n",
      "         clasificadores  accuracy  precision    recall  f1_score     auroc  \\\n",
      "0  KNeighborsClassifier   0.98963   0.955614  0.944011  0.949596  0.984805   \n",
      "\n",
      "   log_loss  brier_score  \n",
      "0  0.150247     0.010148  \n",
      "         clasificadores  accuracy  precision    recall  f1_score     auroc  \\\n",
      "0  KNeighborsClassifier  0.981852   0.947806  0.870978  0.907053  0.982651   \n",
      "\n",
      "   log_loss  brier_score  \n",
      "0  0.028711     0.008296  \n",
      "         clasificadores  accuracy  precision    recall  f1_score     auroc  \\\n",
      "0  KNeighborsClassifier  0.992593   0.978162  0.950332  0.963953  0.993851   \n",
      "\n",
      "   log_loss  brier_score  \n",
      "0  0.077718        0.006  \n"
     ]
    }
   ],
   "source": [
    "clasificadores=[KNeighborsClassifier()]\n",
    "\n",
    "digits_metrics = compare_metrics(clasificadores, digits_X_m, digits_bin_y, train_size=0.7, repeats=5)\n",
    "print(digits_metrics)\n",
    "digits_metrics = compare_metrics(clasificadores, digits_X_s, digits_bin_y, train_size=0.7, repeats=5)\n",
    "print(digits_metrics)\n",
    "digits_metrics = compare_metrics(clasificadores, digits_X_p, digits_bin_y, train_size=0.7, repeats=5)\n",
    "print(digits_metrics)\n",
    "digits_metrics = compare_metrics(clasificadores, digits_X_n, digits_bin_y, train_size=0.7, repeats=5)\n",
    "print(digits_metrics)"
   ]
  },
  {
   "cell_type": "code",
   "execution_count": 34,
   "metadata": {
    "id": "znQjLkAID4Pl"
   },
   "outputs": [],
   "source": [
    "transform = MinMaxScaler()   \n",
    "wine_X_m = transform.fit_transform(wine_X)\n",
    "\n",
    "transform = StandardScaler()   \n",
    "wine_X_s = transform.fit_transform(wine_X)\n",
    "\n",
    "wine_X_p = power_transform(wine_X)\n",
    "\n",
    "transform = Normalizer()   \n",
    "wine_X_n = transform.fit_transform(wine_X)"
   ]
  },
  {
   "cell_type": "code",
   "execution_count": 35,
   "metadata": {
    "colab": {
     "base_uri": "https://localhost:8080/"
    },
    "id": "wfE82ZXWEXn2",
    "outputId": "2ff5c679-f976-42c0-9f15-8b6b3b9f64dd"
   },
   "outputs": [
    {
     "name": "stdout",
     "output_type": "stream",
     "text": [
      "         clasificadores  accuracy  precision    recall  f1_score    auroc  \\\n",
      "0  KNeighborsClassifier  0.977778   0.941282  0.988889  0.963996  0.99643   \n",
      "\n",
      "   log_loss  brier_score  \n",
      "0  0.068629     0.023704  \n",
      "         clasificadores  accuracy  precision  recall  f1_score     auroc  \\\n",
      "0  KNeighborsClassifier  0.985185   0.955095     1.0  0.976884  0.999432   \n",
      "\n",
      "   log_loss  brier_score  \n",
      "0  0.048285     0.014815  \n",
      "         clasificadores  accuracy  precision  recall  f1_score     auroc  \\\n",
      "0  KNeighborsClassifier   0.97037   0.907941     1.0  0.949904  0.994304   \n",
      "\n",
      "   log_loss  brier_score  \n",
      "0  0.686696     0.031852  \n",
      "         clasificadores  accuracy  precision    recall  f1_score     auroc  \\\n",
      "0  KNeighborsClassifier  0.955556       0.98  0.894891  0.932705  0.979903   \n",
      "\n",
      "   log_loss  brier_score  \n",
      "0  0.737371      0.04963  \n"
     ]
    }
   ],
   "source": [
    "clasificadores=[KNeighborsClassifier()]\n",
    "\n",
    "wine_metrics = compare_metrics(clasificadores, wine_X_m, wine_bin_y, train_size=0.7, repeats=5)\n",
    "print(wine_metrics)\n",
    "wine_metrics = compare_metrics(clasificadores, wine_X_s, wine_bin_y, train_size=0.7, repeats=5)\n",
    "print(wine_metrics)\n",
    "wine_metrics = compare_metrics(clasificadores, wine_X_p, wine_bin_y, train_size=0.7, repeats=5)\n",
    "print(wine_metrics)\n",
    "wine_metrics = compare_metrics(clasificadores, wine_X_n, wine_bin_y, train_size=0.7, repeats=5)\n",
    "print(wine_metrics)"
   ]
  },
  {
   "cell_type": "markdown",
   "metadata": {
    "id": "dCZaV8wQAJhp"
   },
   "source": [
    "Cross_Validate para scale (MinMaxScaler, Standard-Scaler, PowerTransform y Normalization en las diferentes métricas de rendimiento de kNN)"
   ]
  },
  {
   "cell_type": "code",
   "execution_count": 36,
   "metadata": {
    "id": "jtnw323k48Vo"
   },
   "outputs": [],
   "source": [
    "from sklearn.model_selection import cross_validate"
   ]
  },
  {
   "cell_type": "code",
   "execution_count": 37,
   "metadata": {
    "colab": {
     "base_uri": "https://localhost:8080/"
    },
    "id": "xEHqmkb069SL",
    "outputId": "79696c53-f454-4d15-b7f5-b7f60d5595b6"
   },
   "outputs": [
    {
     "data": {
      "text/plain": [
       "{'Validation Accuracy scores': array([1., 1., 1., 1., 1.]),\n",
       " 'Mean Validation Accuracy': 100.0,\n",
       " 'Validation Precision scores': array([1., 1., 1., 1., 1.]),\n",
       " 'Mean Validation Precision': 1.0,\n",
       " 'Validation Recall scores': array([1., 1., 1., 1., 1.]),\n",
       " 'Mean Validation Recall': 1.0,\n",
       " 'Validation F1 scores': array([1., 1., 1., 1., 1.]),\n",
       " 'Mean Validation F1 Score': 1.0}"
      ]
     },
     "execution_count": 37,
     "metadata": {},
     "output_type": "execute_result"
    }
   ],
   "source": [
    "def cross_validation(model, _X, _y, _cv=5):\n",
    "\n",
    "      _scoring = ['accuracy', 'precision', 'recall', 'f1']\n",
    "      results = cross_validate(estimator=model,\n",
    "                               X=_X,\n",
    "                               y=_y,\n",
    "                               cv=_cv,\n",
    "                               scoring=_scoring)\n",
    "      \n",
    "      return  {\"Validation Accuracy scores\": results['test_accuracy'],\n",
    "              \"Mean Validation Accuracy\": results['test_accuracy'].mean()*100,\n",
    "              \"Validation Precision scores\": results['test_precision'],\n",
    "              \"Mean Validation Precision\": results['test_precision'].mean(),\n",
    "              \"Validation Recall scores\": results['test_recall'],\n",
    "              \"Mean Validation Recall\": results['test_recall'].mean(),\n",
    "              \"Validation F1 scores\": results['test_f1'],\n",
    "              \"Mean Validation F1 Score\": results['test_f1'].mean()\n",
    "              }\n",
    "cross_validation(KNeighborsClassifier(), iris_X_m, iris_bin_y, _cv=5)"
   ]
  },
  {
   "cell_type": "code",
   "execution_count": 38,
   "metadata": {
    "colab": {
     "base_uri": "https://localhost:8080/"
    },
    "id": "lKHqInCt-S6s",
    "outputId": "8ef6c1bf-0bec-4bbe-c76b-0e57597faf17"
   },
   "outputs": [
    {
     "data": {
      "text/plain": [
       "{'Validation Accuracy scores': array([1., 1., 1., 1., 1.]),\n",
       " 'Mean Validation Accuracy': 100.0,\n",
       " 'Validation Precision scores': array([1., 1., 1., 1., 1.]),\n",
       " 'Mean Validation Precision': 1.0,\n",
       " 'Validation Recall scores': array([1., 1., 1., 1., 1.]),\n",
       " 'Mean Validation Recall': 1.0,\n",
       " 'Validation F1 scores': array([1., 1., 1., 1., 1.]),\n",
       " 'Mean Validation F1 Score': 1.0}"
      ]
     },
     "execution_count": 38,
     "metadata": {},
     "output_type": "execute_result"
    }
   ],
   "source": [
    "cross_validation(KNeighborsClassifier(), iris_X_s, iris_bin_y, _cv=5)\n"
   ]
  },
  {
   "cell_type": "code",
   "execution_count": 39,
   "metadata": {
    "colab": {
     "base_uri": "https://localhost:8080/"
    },
    "id": "1ReFjv9Y-n1y",
    "outputId": "c5bc3545-b1c8-4fb2-f546-1683aff25e80"
   },
   "outputs": [
    {
     "data": {
      "text/plain": [
       "{'Validation Accuracy scores': array([1.        , 1.        , 1.        , 1.        , 0.96666667]),\n",
       " 'Mean Validation Accuracy': 99.33333333333334,\n",
       " 'Validation Precision scores': array([1., 1., 1., 1., 1.]),\n",
       " 'Mean Validation Precision': 1.0,\n",
       " 'Validation Recall scores': array([1. , 1. , 1. , 1. , 0.9]),\n",
       " 'Mean Validation Recall': 0.9800000000000001,\n",
       " 'Validation F1 scores': array([1.        , 1.        , 1.        , 1.        , 0.94736842]),\n",
       " 'Mean Validation F1 Score': 0.9894736842105264}"
      ]
     },
     "execution_count": 39,
     "metadata": {},
     "output_type": "execute_result"
    }
   ],
   "source": [
    "cross_validation(KNeighborsClassifier(), iris_X_p, iris_bin_y, _cv=5)"
   ]
  },
  {
   "cell_type": "code",
   "execution_count": 40,
   "metadata": {
    "colab": {
     "base_uri": "https://localhost:8080/"
    },
    "id": "_jhJsAxg-rCp",
    "outputId": "362b1b69-eb34-4128-f2a6-d971b8e209be"
   },
   "outputs": [
    {
     "data": {
      "text/plain": [
       "{'Validation Accuracy scores': array([1., 1., 1., 1., 1.]),\n",
       " 'Mean Validation Accuracy': 100.0,\n",
       " 'Validation Precision scores': array([1., 1., 1., 1., 1.]),\n",
       " 'Mean Validation Precision': 1.0,\n",
       " 'Validation Recall scores': array([1., 1., 1., 1., 1.]),\n",
       " 'Mean Validation Recall': 1.0,\n",
       " 'Validation F1 scores': array([1., 1., 1., 1., 1.]),\n",
       " 'Mean Validation F1 Score': 1.0}"
      ]
     },
     "execution_count": 40,
     "metadata": {},
     "output_type": "execute_result"
    }
   ],
   "source": [
    "cross_validation(KNeighborsClassifier(), iris_X_n, iris_bin_y, _cv=5)"
   ]
  },
  {
   "cell_type": "code",
   "execution_count": 41,
   "metadata": {
    "colab": {
     "base_uri": "https://localhost:8080/"
    },
    "id": "9mMVY1BA-7V2",
    "outputId": "d589b3ef-f456-468f-b38c-18c5629ff330"
   },
   "outputs": [
    {
     "data": {
      "text/plain": [
       "{'Validation Accuracy scores': array([0.95614035, 0.95614035, 0.99122807, 0.95614035, 0.97345133]),\n",
       " 'Mean Validation Accuracy': 96.66200900481292,\n",
       " 'Validation Precision scores': array([0.97142857, 0.94594595, 0.98630137, 0.93506494, 0.98571429]),\n",
       " 'Mean Validation Precision': 0.9648910216033503,\n",
       " 'Validation Recall scores': array([0.95774648, 0.98591549, 1.        , 1.        , 0.97183099]),\n",
       " 'Mean Validation Recall': 0.9830985915492958,\n",
       " 'Validation F1 scores': array([0.96453901, 0.96551724, 0.99310345, 0.96644295, 0.9787234 ]),\n",
       " 'Mean Validation F1 Score': 0.9736652108045648}"
      ]
     },
     "execution_count": 41,
     "metadata": {},
     "output_type": "execute_result"
    }
   ],
   "source": [
    "cross_validation(KNeighborsClassifier(), breast_X_m, breast_y, _cv=5)"
   ]
  },
  {
   "cell_type": "code",
   "execution_count": 42,
   "metadata": {
    "colab": {
     "base_uri": "https://localhost:8080/"
    },
    "id": "EbEuGQTW_LAo",
    "outputId": "3740709d-5aed-4b63-f421-d9c18e52879f"
   },
   "outputs": [
    {
     "data": {
      "text/plain": [
       "{'Validation Accuracy scores': array([0.96491228, 0.95614035, 0.98245614, 0.95614035, 0.96460177]),\n",
       " 'Mean Validation Accuracy': 96.48501785437045,\n",
       " 'Validation Precision scores': array([0.97183099, 0.94594595, 0.97297297, 0.93506494, 0.98550725]),\n",
       " 'Mean Validation Precision': 0.9622644172552318,\n",
       " 'Validation Recall scores': array([0.97183099, 0.98591549, 1.        , 1.        , 0.95774648]),\n",
       " 'Mean Validation Recall': 0.9830985915492958,\n",
       " 'Validation F1 scores': array([0.97183099, 0.96551724, 0.98630137, 0.96644295, 0.97142857]),\n",
       " 'Mean Validation F1 Score': 0.9723042243213046}"
      ]
     },
     "execution_count": 42,
     "metadata": {},
     "output_type": "execute_result"
    }
   ],
   "source": [
    "cross_validation(KNeighborsClassifier(), breast_X_s, breast_y, _cv=5)"
   ]
  },
  {
   "cell_type": "code",
   "execution_count": 43,
   "metadata": {
    "colab": {
     "base_uri": "https://localhost:8080/"
    },
    "id": "U5d4n5Nk_RSg",
    "outputId": "3c259c65-09f7-45c2-e9ba-ab5bcddf9634"
   },
   "outputs": [
    {
     "data": {
      "text/plain": [
       "{'Validation Accuracy scores': array([0.97368421, 0.96491228, 0.99122807, 0.95614035, 0.92920354]),\n",
       " 'Mean Validation Accuracy': 96.30336904207422,\n",
       " 'Validation Precision scores': array([0.97222222, 0.95890411, 0.98630137, 0.93506494, 0.95652174]),\n",
       " 'Mean Validation Precision': 0.9618028751739294,\n",
       " 'Validation Recall scores': array([0.98591549, 0.98591549, 1.        , 1.        , 0.92957746]),\n",
       " 'Mean Validation Recall': 0.980281690140845,\n",
       " 'Validation F1 scores': array([0.97902098, 0.97222222, 0.99310345, 0.96644295, 0.94285714]),\n",
       " 'Mean Validation F1 Score': 0.9707293490792679}"
      ]
     },
     "execution_count": 43,
     "metadata": {},
     "output_type": "execute_result"
    }
   ],
   "source": [
    "cross_validation(KNeighborsClassifier(), breast_X_p, breast_y, _cv=5)"
   ]
  },
  {
   "cell_type": "code",
   "execution_count": 44,
   "metadata": {
    "colab": {
     "base_uri": "https://localhost:8080/"
    },
    "id": "WQc38Jvi_TiL",
    "outputId": "43fedb65-d996-4ade-b897-0624b70fe9ab"
   },
   "outputs": [
    {
     "data": {
      "text/plain": [
       "{'Validation Accuracy scores': array([0.92982456, 0.92105263, 0.92105263, 0.92982456, 0.91150442]),\n",
       " 'Mean Validation Accuracy': 92.26517621487346,\n",
       " 'Validation Precision scores': array([0.90909091, 0.94285714, 0.92      , 0.92105263, 0.91780822]),\n",
       " 'Mean Validation Precision': 0.9221617805410162,\n",
       " 'Validation Recall scores': array([0.98591549, 0.92957746, 0.95833333, 0.97222222, 0.94366197]),\n",
       " 'Mean Validation Recall': 0.957942097026604,\n",
       " 'Validation F1 scores': array([0.94594595, 0.93617021, 0.93877551, 0.94594595, 0.93055556]),\n",
       " 'Mean Validation F1 Score': 0.9394786340834973}"
      ]
     },
     "execution_count": 44,
     "metadata": {},
     "output_type": "execute_result"
    }
   ],
   "source": [
    "cross_validation(KNeighborsClassifier(), breast_X_n, breast_y, _cv=5)"
   ]
  },
  {
   "cell_type": "code",
   "execution_count": 45,
   "metadata": {
    "colab": {
     "base_uri": "https://localhost:8080/"
    },
    "id": "I1IeSDxg_Yb-",
    "outputId": "2a55d4f8-ccc2-4ed9-e2d1-3e9e9876e4f7"
   },
   "outputs": [
    {
     "data": {
      "text/plain": [
       "{'Validation Accuracy scores': array([0.98888889, 0.97777778, 0.98607242, 1.        , 0.99164345]),\n",
       " 'Mean Validation Accuracy': 98.88765088207985,\n",
       " 'Validation Precision scores': array([0.97058824, 0.86842105, 0.91891892, 1.        , 1.        ]),\n",
       " 'Mean Validation Precision': 0.9515856413689232,\n",
       " 'Validation Recall scores': array([0.91666667, 0.91666667, 0.94444444, 1.        , 0.91666667]),\n",
       " 'Mean Validation Recall': 0.9388888888888889,\n",
       " 'Validation F1 scores': array([0.94285714, 0.89189189, 0.93150685, 1.        , 0.95652174]),\n",
       " 'Mean Validation F1 Score': 0.9445555246389075}"
      ]
     },
     "execution_count": 45,
     "metadata": {},
     "output_type": "execute_result"
    }
   ],
   "source": [
    "cross_validation(KNeighborsClassifier(), digits_X_m, digits_bin_y, _cv=5)"
   ]
  },
  {
   "cell_type": "code",
   "execution_count": 46,
   "metadata": {
    "colab": {
     "base_uri": "https://localhost:8080/"
    },
    "id": "bndVKHBeFQd4",
    "outputId": "0bcd6cfe-48fe-4669-eaec-45e781478201"
   },
   "outputs": [
    {
     "data": {
      "text/plain": [
       "{'Validation Accuracy scores': array([0.98611111, 0.98055556, 0.99164345, 0.99442897, 0.98607242]),\n",
       " 'Mean Validation Accuracy': 98.77623026926649,\n",
       " 'Validation Precision scores': array([0.96969697, 0.89189189, 0.94594595, 0.97222222, 0.96969697]),\n",
       " 'Mean Validation Precision': 0.9498907998907999,\n",
       " 'Validation Recall scores': array([0.88888889, 0.91666667, 0.97222222, 0.97222222, 0.88888889]),\n",
       " 'Mean Validation Recall': 0.9277777777777778,\n",
       " 'Validation F1 scores': array([0.92753623, 0.90410959, 0.95890411, 0.97222222, 0.92753623]),\n",
       " 'Mean Validation F1 Score': 0.938061676924095}"
      ]
     },
     "execution_count": 46,
     "metadata": {},
     "output_type": "execute_result"
    }
   ],
   "source": [
    "cross_validation(KNeighborsClassifier(), digits_X_s, digits_bin_y, _cv=5)"
   ]
  },
  {
   "cell_type": "code",
   "execution_count": 47,
   "metadata": {
    "colab": {
     "base_uri": "https://localhost:8080/"
    },
    "id": "_X63D3SaFS5w",
    "outputId": "8e6444ac-0e50-4108-9b64-35ec836afeeb"
   },
   "outputs": [
    {
     "data": {
      "text/plain": [
       "{'Validation Accuracy scores': array([0.96944444, 0.96944444, 0.97493036, 0.98607242, 0.97493036]),\n",
       " 'Mean Validation Accuracy': 97.49644073042403,\n",
       " 'Validation Precision scores': array([0.87878788, 0.90322581, 0.90909091, 0.94285714, 0.90909091]),\n",
       " 'Mean Validation Precision': 0.9086105292556905,\n",
       " 'Validation Recall scores': array([0.80555556, 0.77777778, 0.83333333, 0.91666667, 0.83333333]),\n",
       " 'Mean Validation Recall': 0.8333333333333334,\n",
       " 'Validation F1 scores': array([0.84057971, 0.8358209 , 0.86956522, 0.92957746, 0.86956522]),\n",
       " 'Mean Validation F1 Score': 0.8690217010477314}"
      ]
     },
     "execution_count": 47,
     "metadata": {},
     "output_type": "execute_result"
    }
   ],
   "source": [
    "cross_validation(KNeighborsClassifier(), digits_X_p, digits_bin_y, _cv=5)"
   ]
  },
  {
   "cell_type": "code",
   "execution_count": 48,
   "metadata": {
    "colab": {
     "base_uri": "https://localhost:8080/"
    },
    "id": "SNmy3BbuFUEr",
    "outputId": "af94dfc2-8de0-42b9-eebb-82ad3329bbcd"
   },
   "outputs": [
    {
     "data": {
      "text/plain": [
       "{'Validation Accuracy scores': array([0.98888889, 0.98055556, 0.98885794, 0.99442897, 0.99164345]),\n",
       " 'Mean Validation Accuracy': 98.88749613122873,\n",
       " 'Validation Precision scores': array([0.97058824, 0.91428571, 0.92105263, 1.        , 1.        ]),\n",
       " 'Mean Validation Precision': 0.9611853162317558,\n",
       " 'Validation Recall scores': array([0.91666667, 0.88888889, 0.97222222, 0.94444444, 0.91666667]),\n",
       " 'Mean Validation Recall': 0.9277777777777778,\n",
       " 'Validation F1 scores': array([0.94285714, 0.90140845, 0.94594595, 0.97142857, 0.95652174]),\n",
       " 'Mean Validation F1 Score': 0.9436323700132639}"
      ]
     },
     "execution_count": 48,
     "metadata": {},
     "output_type": "execute_result"
    }
   ],
   "source": [
    "cross_validation(KNeighborsClassifier(), digits_X_n, digits_bin_y, _cv=5)"
   ]
  },
  {
   "cell_type": "code",
   "execution_count": 49,
   "metadata": {
    "colab": {
     "base_uri": "https://localhost:8080/"
    },
    "id": "h-FFK1CkFnAZ",
    "outputId": "c879878d-5a70-4e3b-abaa-188ca52fca4e"
   },
   "outputs": [
    {
     "data": {
      "text/plain": [
       "{'Validation Accuracy scores': array([0.88888889, 0.97222222, 0.97222222, 1.        , 1.        ]),\n",
       " 'Mean Validation Accuracy': 96.66666666666669,\n",
       " 'Validation Precision scores': array([0.75      , 0.92307692, 0.92307692, 1.        , 1.        ]),\n",
       " 'Mean Validation Precision': 0.9192307692307693,\n",
       " 'Validation Recall scores': array([1., 1., 1., 1., 1.]),\n",
       " 'Mean Validation Recall': 1.0,\n",
       " 'Validation F1 scores': array([0.85714286, 0.96      , 0.96      , 1.        , 1.        ]),\n",
       " 'Mean Validation F1 Score': 0.9554285714285715}"
      ]
     },
     "execution_count": 49,
     "metadata": {},
     "output_type": "execute_result"
    }
   ],
   "source": [
    "cross_validation(KNeighborsClassifier(), wine_X_m, wine_bin_y, _cv=5)"
   ]
  },
  {
   "cell_type": "code",
   "execution_count": 50,
   "metadata": {
    "colab": {
     "base_uri": "https://localhost:8080/"
    },
    "id": "RWIIpwSWFoDy",
    "outputId": "21f4f697-0230-4fb5-a24c-17283196c02c"
   },
   "outputs": [
    {
     "data": {
      "text/plain": [
       "{'Validation Accuracy scores': array([0.88888889, 0.97222222, 0.97222222, 1.        , 1.        ]),\n",
       " 'Mean Validation Accuracy': 96.66666666666669,\n",
       " 'Validation Precision scores': array([0.75      , 0.92307692, 0.92307692, 1.        , 1.        ]),\n",
       " 'Mean Validation Precision': 0.9192307692307693,\n",
       " 'Validation Recall scores': array([1., 1., 1., 1., 1.]),\n",
       " 'Mean Validation Recall': 1.0,\n",
       " 'Validation F1 scores': array([0.85714286, 0.96      , 0.96      , 1.        , 1.        ]),\n",
       " 'Mean Validation F1 Score': 0.9554285714285715}"
      ]
     },
     "execution_count": 50,
     "metadata": {},
     "output_type": "execute_result"
    }
   ],
   "source": [
    "cross_validation(KNeighborsClassifier(), wine_X_s, wine_bin_y, _cv=5)"
   ]
  },
  {
   "cell_type": "code",
   "execution_count": 51,
   "metadata": {
    "colab": {
     "base_uri": "https://localhost:8080/"
    },
    "id": "ksrxzcQ5Fou_",
    "outputId": "33e54c92-4fb3-4457-b788-c10bdd6b12f7"
   },
   "outputs": [
    {
     "data": {
      "text/plain": [
       "{'Validation Accuracy scores': array([0.88888889, 0.97222222, 0.97222222, 1.        , 1.        ]),\n",
       " 'Mean Validation Accuracy': 96.66666666666669,\n",
       " 'Validation Precision scores': array([0.75      , 0.92307692, 0.92307692, 1.        , 1.        ]),\n",
       " 'Mean Validation Precision': 0.9192307692307693,\n",
       " 'Validation Recall scores': array([1., 1., 1., 1., 1.]),\n",
       " 'Mean Validation Recall': 1.0,\n",
       " 'Validation F1 scores': array([0.85714286, 0.96      , 0.96      , 1.        , 1.        ]),\n",
       " 'Mean Validation F1 Score': 0.9554285714285715}"
      ]
     },
     "execution_count": 51,
     "metadata": {},
     "output_type": "execute_result"
    }
   ],
   "source": [
    "cross_validation(KNeighborsClassifier(), wine_X_m, wine_bin_y, _cv=5)"
   ]
  },
  {
   "cell_type": "code",
   "execution_count": 52,
   "metadata": {
    "colab": {
     "base_uri": "https://localhost:8080/"
    },
    "id": "FZu4LhEJFpan",
    "outputId": "94d75fc5-4b92-45dd-8f4f-d0dd3878393c"
   },
   "outputs": [
    {
     "data": {
      "text/plain": [
       "{'Validation Accuracy scores': array([0.88888889, 0.97222222, 0.97222222, 1.        , 1.        ]),\n",
       " 'Mean Validation Accuracy': 96.66666666666669,\n",
       " 'Validation Precision scores': array([0.75      , 0.92307692, 0.92307692, 1.        , 1.        ]),\n",
       " 'Mean Validation Precision': 0.9192307692307693,\n",
       " 'Validation Recall scores': array([1., 1., 1., 1., 1.]),\n",
       " 'Mean Validation Recall': 1.0,\n",
       " 'Validation F1 scores': array([0.85714286, 0.96      , 0.96      , 1.        , 1.        ]),\n",
       " 'Mean Validation F1 Score': 0.9554285714285715}"
      ]
     },
     "execution_count": 52,
     "metadata": {},
     "output_type": "execute_result"
    }
   ],
   "source": [
    "cross_validation(KNeighborsClassifier(), wine_X_m, wine_bin_y, _cv=5)"
   ]
  },
  {
   "cell_type": "markdown",
   "metadata": {
    "id": "1yWxntFfHKiu"
   },
   "source": [
    "Conclusión = De acuerdo con los resultados obtenidos del proceso de scale MinMaxScaler, Standard-Scaler, PowerTransform y Normalization en las diferentes métricas de rendimiento de kNN, se evidencia que de acuerdo con el Dataset resulta benéfico o perjudicial.\n",
    "\n",
    "**Iris**: Al convertirlo en un problema de clasificación binaria, desde antes del escalado se observaban métricas muy buenas, cercanas a 1. Por ende, las distintas técnicas de escalado no resultaron benéficas, sino por el contrario Standard Scaler y Power Transform empeoraron el f1_score, recall y accuracy. \n",
    "\n",
    "**Wine**: En este caso mejoró el resultado obtenido luego de las transformaciones de escalado para algunas métricas, por ejemplo para la métrica de Accuracy, este pasó de 0.896 a 0.985 en el modelo de KNN, luego de aplicar un Power Transform.\n",
    "\n",
    "**Digits**: Antes de aplicar escalado el resultado ya era muy bueno con métricas muy cercanas a 1 y en términos generales luego de las técnicas de escalado, el resultado empeoró el performance de KNN en todas sus métricas, por ejemplo luego de aplicar Standar Scaler, el recall pasó de 0.972 a 0.934.\n",
    "\n",
    "**Breast**: Con el Dataset de Breast Cancer, se evidenció que en general una transformación de escalado mejora el rendimiento de KNN y esto se observa en todas sus métricas, por ejemplo, el accuracy pasó de 0.938 a 0.964 cuando se usó un MinMaxScaler y el recall pasó de 0.955 a \n",
    "0.985."
   ]
  }
 ],
 "metadata": {
  "colab": {
   "collapsed_sections": [],
   "provenance": []
  },
  "kernelspec": {
   "display_name": "Python 3",
   "language": "python",
   "name": "python3"
  },
  "language_info": {
   "codemirror_mode": {
    "name": "ipython",
    "version": 3
   },
   "file_extension": ".py",
   "mimetype": "text/x-python",
   "name": "python",
   "nbconvert_exporter": "python",
   "pygments_lexer": "ipython3",
   "version": "3.7.11"
  },
  "vscode": {
   "interpreter": {
    "hash": "0c554a3a975d7cae87aff95066158061480c212e35c74fed8d47b5e8707d11cd"
   }
  }
 },
 "nbformat": 4,
 "nbformat_minor": 1
}
