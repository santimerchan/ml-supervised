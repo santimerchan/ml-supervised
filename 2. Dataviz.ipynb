{
 "cells": [
  {
   "cell_type": "markdown",
   "metadata": {},
   "source": [
    "# Feedback\n",
    "## Exercise 1\n",
    "0.5/0.5\n",
    "\n",
    "## Exercise 2\n",
    "1. (infer target attribute type) ok. 0.5/0.5\n",
    "2. (target attribute plotted distinctly) falta en mayor parte 0.3/1\n",
    "3. (numeric plots) ok, lo que falta es la distribución condicional. Además muestran el target atribute en la parte ordinaria (tiene que ser destacada). La fila `num_cols, cat_cols =get_column_types(boston_df)` tiene que ser `num_cols, cat_cols =get_column_types(df)` y tiene que ir dentro de la función `univariate_analysis`  0.4/1\n",
    "4. (categorical plots) ok, pero aquí también faltan los condicionales 0.6/1\n",
    "\n",
    "## Exercise 3\n",
    "1. (numerical pair plots) no está bien hecho. `scatter_num_attributes` mira cada pareja 2 veces e incluso combina cada atributo con si mismo. Además no colora adecuadamente 0.3/1\n",
    "2. (correlation matrix) no grafica nada 0.2/1\n",
    "3. (categorical pairplots) bien 1/1\n",
    "\n",
    "## Exercise 4\n",
    "1. (comparing boxplot with remark) bien. 1/1\n",
    "2. (PCA) bien 1/1\n",
    "\n",
    "## Exercise 5\n",
    "Cómo es la interpretación de la PCA en cuánto a separabilidad de la clases? 0.75/1\n",
    "\n",
    "Total: 0.5 + 0.5 + 0.3 + 0.4 + 0.6 + 0.3 + 0.2 + 1 + 1 + 1 + 0.75 = 6.55/10"
   ]
  },
  {
   "cell_type": "markdown",
   "metadata": {
    "id": "pxfOAvXxHwG1"
   },
   "source": [
    "# Universidad de La Sabana \n",
    "\n",
    "**Felix Mohr**\n",
    "\n",
    "## Facultad de Ingenería 2022.2\n",
    "Supervised Machine Learning\n",
    "\n",
    "\n",
    "- Gerson Barrera\n",
    "- Santiago Merchán\n",
    "- Rodrigo Carranza"
   ]
  },
  {
   "cell_type": "code",
   "execution_count": 1,
   "metadata": {
    "id": "wvryiUbFWgik"
   },
   "outputs": [],
   "source": [
    "import pandas as pd\n",
    "import numpy as np\n",
    "import seaborn as sns\n",
    "import matplotlib.pyplot as plt\n",
    "import plotly.graph_objs as go\n",
    "import plotly.express as px\n",
    "from numpy import percentile\n",
    "from itertools import combinations\n",
    "import itertools\n",
    "\n",
    "from sklearn.decomposition import PCA\n",
    "from sklearn.pipeline import make_pipeline\n",
    "from sklearn.preprocessing import StandardScaler\n",
    "import plotly.express as px\n",
    "from sklearn.decomposition import PCA"
   ]
  },
  {
   "cell_type": "markdown",
   "metadata": {
    "id": "w-eFcJaeMHbh"
   },
   "source": [
    "## Supervised Machine Learning"
   ]
  },
  {
   "cell_type": "markdown",
   "metadata": {
    "id": "5mNOckLDMM44"
   },
   "source": [
    "# Exercise 1. (Column Analysis) \n",
    "\n",
    "Write a function **get_column_types(df)** that returns a pair A, B. A should contain the names of attributes in the dataframe df that are numeric attributes.B should contain the names of the categorical attributes of df.This function will be re-used in the next exercises."
   ]
  },
  {
   "cell_type": "code",
   "execution_count": 2,
   "metadata": {
    "id": "fdF7eH3VguG2"
   },
   "outputs": [],
   "source": [
    "def get_column_types(df):\n",
    "  A = df.select_dtypes(include='number').columns\n",
    "  print(\"Numeric attributes: \", A)\n",
    "  B = df.select_dtypes(exclude='number').columns\n",
    "  #B = df.select_dtypes(['category']).columns\n",
    "  print(\"Categorical attributes: \", B)\n",
    "  return A, B"
   ]
  },
  {
   "cell_type": "code",
   "execution_count": 4,
   "metadata": {
    "colab": {
     "base_uri": "https://localhost:8080/"
    },
    "id": "SZgmnjlp73j1",
    "outputId": "3e3e9b6e-ecb2-4331-f48c-c50294c592b8",
    "scrolled": true
   },
   "outputs": [
    {
     "name": "stdout",
     "output_type": "stream",
     "text": [
      "             crim          zn       indus        chas         nox          rm  \\\n",
      "count  506.000000  506.000000  506.000000  506.000000  506.000000  506.000000   \n",
      "mean     3.613524   11.363636   11.136779    0.069170    0.554695    6.284634   \n",
      "std      8.601545   23.322453    6.860353    0.253994    0.115878    0.702617   \n",
      "min      0.006320    0.000000    0.460000    0.000000    0.385000    3.561000   \n",
      "25%      0.082045    0.000000    5.190000    0.000000    0.449000    5.885500   \n",
      "50%      0.256510    0.000000    9.690000    0.000000    0.538000    6.208500   \n",
      "75%      3.677083   12.500000   18.100000    0.000000    0.624000    6.623500   \n",
      "max     88.976200  100.000000   27.740000    1.000000    0.871000    8.780000   \n",
      "\n",
      "              age         dis         rad         tax     ptratio           b  \\\n",
      "count  506.000000  506.000000  506.000000  506.000000  506.000000  506.000000   \n",
      "mean    68.574901    3.795043    9.549407  408.237154   18.455534  356.674032   \n",
      "std     28.148861    2.105710    8.707259  168.537116    2.164946   91.294864   \n",
      "min      2.900000    1.129600    1.000000  187.000000   12.600000    0.320000   \n",
      "25%     45.025000    2.100175    4.000000  279.000000   17.400000  375.377500   \n",
      "50%     77.500000    3.207450    5.000000  330.000000   19.050000  391.440000   \n",
      "75%     94.075000    5.188425   24.000000  666.000000   20.200000  396.225000   \n",
      "max    100.000000   12.126500   24.000000  711.000000   22.000000  396.900000   \n",
      "\n",
      "            lstat        medv  \n",
      "count  506.000000  506.000000  \n",
      "mean    12.653063   22.532806  \n",
      "std      7.141062    9.197104  \n",
      "min      1.730000    5.000000  \n",
      "25%      6.950000   17.025000  \n",
      "50%     11.360000   21.200000  \n",
      "75%     16.955000   25.000000  \n",
      "max     37.970000   50.000000  \n",
      "       rad_cat tax_cat ptratio_cat  lstat_cat\n",
      "count      506     506         506        506\n",
      "unique       3       4           4          4\n",
      "top        low    high        high  verly low\n",
      "freq       192     245         197        127\n"
     ]
    }
   ],
   "source": [
    "boston_df=pd.concat([pd.read_csv('../../../../boston.csv'),(pd.read_csv('../../../../boston_discretized.csv',names=['rad_cat', 'tax_cat', 'ptratio_cat', 'lstat_cat','medv_cat'],header=0))],axis=1).drop(\"medv_cat\",axis=1)\n",
    "print(boston_df.describe())\n",
    "print(boston_df.describe(include=\"object\"))"
   ]
  },
  {
   "cell_type": "code",
   "execution_count": 24,
   "metadata": {},
   "outputs": [],
   "source": [
    "df_iris = pd.read_csv(\"../../../../iris.csv\")"
   ]
  },
  {
   "cell_type": "code",
   "execution_count": 5,
   "metadata": {
    "colab": {
     "base_uri": "https://localhost:8080/"
    },
    "id": "1tV-SJP67CKD",
    "outputId": "9adb34a3-7ff3-4822-c68c-39102bb5a7bd"
   },
   "outputs": [
    {
     "name": "stdout",
     "output_type": "stream",
     "text": [
      "Numeric attributes:  Index(['crim', 'zn', 'indus', 'chas', 'nox', 'rm', 'age', 'dis', 'rad', 'tax',\n",
      "       'ptratio', 'b', 'lstat', 'medv'],\n",
      "      dtype='object')\n",
      "Categorical attributes:  Index(['rad_cat', 'tax_cat', 'ptratio_cat', 'lstat_cat'], dtype='object')\n"
     ]
    }
   ],
   "source": [
    "num_cols, cat_cols =get_column_types(boston_df)"
   ]
  },
  {
   "cell_type": "code",
   "execution_count": 6,
   "metadata": {
    "colab": {
     "base_uri": "https://localhost:8080/",
     "height": 424
    },
    "id": "ic5T51h-PgTM",
    "outputId": "76d5c76c-89be-4713-9b4d-3ccc433a1bad"
   },
   "outputs": [
    {
     "data": {
      "text/html": [
       "<div>\n",
       "<style scoped>\n",
       "    .dataframe tbody tr th:only-of-type {\n",
       "        vertical-align: middle;\n",
       "    }\n",
       "\n",
       "    .dataframe tbody tr th {\n",
       "        vertical-align: top;\n",
       "    }\n",
       "\n",
       "    .dataframe thead th {\n",
       "        text-align: right;\n",
       "    }\n",
       "</style>\n",
       "<table border=\"1\" class=\"dataframe\">\n",
       "  <thead>\n",
       "    <tr style=\"text-align: right;\">\n",
       "      <th></th>\n",
       "      <th>crim</th>\n",
       "      <th>zn</th>\n",
       "      <th>indus</th>\n",
       "      <th>chas</th>\n",
       "      <th>nox</th>\n",
       "      <th>rm</th>\n",
       "      <th>age</th>\n",
       "      <th>dis</th>\n",
       "      <th>rad</th>\n",
       "      <th>tax</th>\n",
       "      <th>ptratio</th>\n",
       "      <th>b</th>\n",
       "      <th>lstat</th>\n",
       "      <th>medv</th>\n",
       "    </tr>\n",
       "  </thead>\n",
       "  <tbody>\n",
       "    <tr>\n",
       "      <th>0</th>\n",
       "      <td>0.00632</td>\n",
       "      <td>18.0</td>\n",
       "      <td>2.31</td>\n",
       "      <td>0</td>\n",
       "      <td>0.538</td>\n",
       "      <td>6.575</td>\n",
       "      <td>65.2</td>\n",
       "      <td>4.0900</td>\n",
       "      <td>1</td>\n",
       "      <td>296</td>\n",
       "      <td>15.3</td>\n",
       "      <td>396.90</td>\n",
       "      <td>4.98</td>\n",
       "      <td>24.0</td>\n",
       "    </tr>\n",
       "    <tr>\n",
       "      <th>1</th>\n",
       "      <td>0.02731</td>\n",
       "      <td>0.0</td>\n",
       "      <td>7.07</td>\n",
       "      <td>0</td>\n",
       "      <td>0.469</td>\n",
       "      <td>6.421</td>\n",
       "      <td>78.9</td>\n",
       "      <td>4.9671</td>\n",
       "      <td>2</td>\n",
       "      <td>242</td>\n",
       "      <td>17.8</td>\n",
       "      <td>396.90</td>\n",
       "      <td>9.14</td>\n",
       "      <td>21.6</td>\n",
       "    </tr>\n",
       "    <tr>\n",
       "      <th>2</th>\n",
       "      <td>0.02729</td>\n",
       "      <td>0.0</td>\n",
       "      <td>7.07</td>\n",
       "      <td>0</td>\n",
       "      <td>0.469</td>\n",
       "      <td>7.185</td>\n",
       "      <td>61.1</td>\n",
       "      <td>4.9671</td>\n",
       "      <td>2</td>\n",
       "      <td>242</td>\n",
       "      <td>17.8</td>\n",
       "      <td>392.83</td>\n",
       "      <td>4.03</td>\n",
       "      <td>34.7</td>\n",
       "    </tr>\n",
       "    <tr>\n",
       "      <th>3</th>\n",
       "      <td>0.03237</td>\n",
       "      <td>0.0</td>\n",
       "      <td>2.18</td>\n",
       "      <td>0</td>\n",
       "      <td>0.458</td>\n",
       "      <td>6.998</td>\n",
       "      <td>45.8</td>\n",
       "      <td>6.0622</td>\n",
       "      <td>3</td>\n",
       "      <td>222</td>\n",
       "      <td>18.7</td>\n",
       "      <td>394.63</td>\n",
       "      <td>2.94</td>\n",
       "      <td>33.4</td>\n",
       "    </tr>\n",
       "    <tr>\n",
       "      <th>4</th>\n",
       "      <td>0.06905</td>\n",
       "      <td>0.0</td>\n",
       "      <td>2.18</td>\n",
       "      <td>0</td>\n",
       "      <td>0.458</td>\n",
       "      <td>7.147</td>\n",
       "      <td>54.2</td>\n",
       "      <td>6.0622</td>\n",
       "      <td>3</td>\n",
       "      <td>222</td>\n",
       "      <td>18.7</td>\n",
       "      <td>396.90</td>\n",
       "      <td>5.33</td>\n",
       "      <td>36.2</td>\n",
       "    </tr>\n",
       "    <tr>\n",
       "      <th>...</th>\n",
       "      <td>...</td>\n",
       "      <td>...</td>\n",
       "      <td>...</td>\n",
       "      <td>...</td>\n",
       "      <td>...</td>\n",
       "      <td>...</td>\n",
       "      <td>...</td>\n",
       "      <td>...</td>\n",
       "      <td>...</td>\n",
       "      <td>...</td>\n",
       "      <td>...</td>\n",
       "      <td>...</td>\n",
       "      <td>...</td>\n",
       "      <td>...</td>\n",
       "    </tr>\n",
       "    <tr>\n",
       "      <th>501</th>\n",
       "      <td>0.06263</td>\n",
       "      <td>0.0</td>\n",
       "      <td>11.93</td>\n",
       "      <td>0</td>\n",
       "      <td>0.573</td>\n",
       "      <td>6.593</td>\n",
       "      <td>69.1</td>\n",
       "      <td>2.4786</td>\n",
       "      <td>1</td>\n",
       "      <td>273</td>\n",
       "      <td>21.0</td>\n",
       "      <td>391.99</td>\n",
       "      <td>9.67</td>\n",
       "      <td>22.4</td>\n",
       "    </tr>\n",
       "    <tr>\n",
       "      <th>502</th>\n",
       "      <td>0.04527</td>\n",
       "      <td>0.0</td>\n",
       "      <td>11.93</td>\n",
       "      <td>0</td>\n",
       "      <td>0.573</td>\n",
       "      <td>6.120</td>\n",
       "      <td>76.7</td>\n",
       "      <td>2.2875</td>\n",
       "      <td>1</td>\n",
       "      <td>273</td>\n",
       "      <td>21.0</td>\n",
       "      <td>396.90</td>\n",
       "      <td>9.08</td>\n",
       "      <td>20.6</td>\n",
       "    </tr>\n",
       "    <tr>\n",
       "      <th>503</th>\n",
       "      <td>0.06076</td>\n",
       "      <td>0.0</td>\n",
       "      <td>11.93</td>\n",
       "      <td>0</td>\n",
       "      <td>0.573</td>\n",
       "      <td>6.976</td>\n",
       "      <td>91.0</td>\n",
       "      <td>2.1675</td>\n",
       "      <td>1</td>\n",
       "      <td>273</td>\n",
       "      <td>21.0</td>\n",
       "      <td>396.90</td>\n",
       "      <td>5.64</td>\n",
       "      <td>23.9</td>\n",
       "    </tr>\n",
       "    <tr>\n",
       "      <th>504</th>\n",
       "      <td>0.10959</td>\n",
       "      <td>0.0</td>\n",
       "      <td>11.93</td>\n",
       "      <td>0</td>\n",
       "      <td>0.573</td>\n",
       "      <td>6.794</td>\n",
       "      <td>89.3</td>\n",
       "      <td>2.3889</td>\n",
       "      <td>1</td>\n",
       "      <td>273</td>\n",
       "      <td>21.0</td>\n",
       "      <td>393.45</td>\n",
       "      <td>6.48</td>\n",
       "      <td>22.0</td>\n",
       "    </tr>\n",
       "    <tr>\n",
       "      <th>505</th>\n",
       "      <td>0.04741</td>\n",
       "      <td>0.0</td>\n",
       "      <td>11.93</td>\n",
       "      <td>0</td>\n",
       "      <td>0.573</td>\n",
       "      <td>6.030</td>\n",
       "      <td>80.8</td>\n",
       "      <td>2.5050</td>\n",
       "      <td>1</td>\n",
       "      <td>273</td>\n",
       "      <td>21.0</td>\n",
       "      <td>396.90</td>\n",
       "      <td>7.88</td>\n",
       "      <td>11.9</td>\n",
       "    </tr>\n",
       "  </tbody>\n",
       "</table>\n",
       "<p>506 rows × 14 columns</p>\n",
       "</div>"
      ],
      "text/plain": [
       "        crim    zn  indus  chas    nox     rm   age     dis  rad  tax  \\\n",
       "0    0.00632  18.0   2.31     0  0.538  6.575  65.2  4.0900    1  296   \n",
       "1    0.02731   0.0   7.07     0  0.469  6.421  78.9  4.9671    2  242   \n",
       "2    0.02729   0.0   7.07     0  0.469  7.185  61.1  4.9671    2  242   \n",
       "3    0.03237   0.0   2.18     0  0.458  6.998  45.8  6.0622    3  222   \n",
       "4    0.06905   0.0   2.18     0  0.458  7.147  54.2  6.0622    3  222   \n",
       "..       ...   ...    ...   ...    ...    ...   ...     ...  ...  ...   \n",
       "501  0.06263   0.0  11.93     0  0.573  6.593  69.1  2.4786    1  273   \n",
       "502  0.04527   0.0  11.93     0  0.573  6.120  76.7  2.2875    1  273   \n",
       "503  0.06076   0.0  11.93     0  0.573  6.976  91.0  2.1675    1  273   \n",
       "504  0.10959   0.0  11.93     0  0.573  6.794  89.3  2.3889    1  273   \n",
       "505  0.04741   0.0  11.93     0  0.573  6.030  80.8  2.5050    1  273   \n",
       "\n",
       "     ptratio       b  lstat  medv  \n",
       "0       15.3  396.90   4.98  24.0  \n",
       "1       17.8  396.90   9.14  21.6  \n",
       "2       17.8  392.83   4.03  34.7  \n",
       "3       18.7  394.63   2.94  33.4  \n",
       "4       18.7  396.90   5.33  36.2  \n",
       "..       ...     ...    ...   ...  \n",
       "501     21.0  391.99   9.67  22.4  \n",
       "502     21.0  396.90   9.08  20.6  \n",
       "503     21.0  396.90   5.64  23.9  \n",
       "504     21.0  393.45   6.48  22.0  \n",
       "505     21.0  396.90   7.88  11.9  \n",
       "\n",
       "[506 rows x 14 columns]"
      ]
     },
     "execution_count": 6,
     "metadata": {},
     "output_type": "execute_result"
    }
   ],
   "source": [
    "boston_df[num_cols]"
   ]
  },
  {
   "cell_type": "markdown",
   "metadata": {
    "id": "ZEB9zcIFMXPY"
   },
   "source": [
    "# Exercise 2. (Univariate Analysis) \n",
    "\n",
    "Write a function ***univariate_analysis(df, label***) that receives a pandas data frame df, and the name of a label column label.\n",
    "\n",
    "The function should now do the following (it is even advisable to write a single function for each of the following points and only call those functions from univariate_analysis(df,label)):\n",
    "\n",
    "1. infer, based on the column type of the label, whether this is a regression or classificationproblem. \n",
    "2. create a figure that gives an overview of the target attribute (type of depending on whether it is numeric or categorical). \n",
    "3. for the numeric attributes, create plots that summarizeP(Xj)for every attributeXjin isolation. This must cover general insights into the distribution as well as outliers(histograms/boxplots).\n",
    "**For classification problems, you might visualizeP(Xj|y)right away instead. For regres-sion problems, add a regression plot instead that relates the numerical attribute withthe numerical target.**\n",
    "4. for the categorical attributes, create plots that showP(Xj)for each attributeXj.\n",
    "\n",
    "Hint: It can be useful to write some small helper functions to create specific plots that are needed repeatedly"
   ]
  },
  {
   "cell_type": "code",
   "execution_count": 7,
   "metadata": {
    "id": "Am_7n3_aVT-x"
   },
   "outputs": [],
   "source": [
    "def interactive_boxplots(df, numerical_attributes):\n",
    "  print(\"Executing ... Boxplots Analysis\")\n",
    "  num_df = df[numerical_attributes]\n",
    "  fig = px.box(num_df.melt(), y=\"value\", facet_col=\"variable\",facet_col_wrap=5, boxmode=\"overlay\", color=\"variable\",height=500, width=700)\n",
    "  fig.update_yaxes(matches=None)\n",
    "\n",
    "  for i in range(len(fig[\"data\"])):\n",
    "      yaxis_name = 'yaxis' if i == 0 else f'yaxis{i + 1}'\n",
    "      fig.layout[yaxis_name].showticklabels = True\n",
    "\n",
    "  fig.update_layout(showlegend=False)\n",
    "  fig.update_xaxes(showline=True, linewidth=2, linecolor='grey')\n",
    "  fig.update_yaxes(showline=True, linewidth=2, linecolor='grey')\n",
    "\n",
    "  fig.show()\n",
    "\n",
    "#interactive_boxplots(boston_df, num_cols)"
   ]
  },
  {
   "cell_type": "code",
   "execution_count": 8,
   "metadata": {
    "id": "VN_-CTSJZ0hI"
   },
   "outputs": [],
   "source": [
    "def histplot(df, num_attributes):\n",
    "  print(\"Executing ... Histograms Analysis\")\n",
    "  num_df = df[num_attributes]\n",
    "  df_melt = pd.melt(num_df, value_vars =num_df)\n",
    "  fig = sns.FacetGrid(df_melt, col='variable', col_wrap=5, sharex=False, sharey = False)\n",
    "  fig = fig.map(sns.histplot, 'value')\n",
    "  fig\n",
    "\n",
    "#histplot(boston_df, num_cols)"
   ]
  },
  {
   "cell_type": "code",
   "execution_count": 9,
   "metadata": {
    "id": "HVZOE_ZbbwlO"
   },
   "outputs": [],
   "source": [
    "def freq_plots_cat(df, cat_attributes):\n",
    "  print(\"Executing ... Frequency Analysis for Categoical Attributes\")\n",
    "  fig=plt.figure(figsize=(20,10))\n",
    "  fig.subplots_adjust(wspace=0.4,hspace=0.4)\n",
    "  for i,col in enumerate(cat_attributes):\n",
    "      ax=fig.add_subplot(2,4,i+1)\n",
    "      sns.countplot(df[col])\n",
    "  plt.show()\n",
    "\n",
    "#freq_plots_cat(boston_df, cat_cols)"
   ]
  },
  {
   "cell_type": "code",
   "execution_count": 26,
   "metadata": {
    "colab": {
     "base_uri": "https://localhost:8080/",
     "height": 1000
    },
    "id": "16dBi3o0Mm4Y",
    "outputId": "68a75504-ae60-47ba-93a1-371b204dff24",
    "scrolled": false
   },
   "outputs": [
    {
     "name": "stdout",
     "output_type": "stream",
     "text": [
      "This is a Classification Problem Dataset\n",
      "\n",
      " El atributo species Contiene 0 valores nulos del total de 150 \n",
      "\n",
      " \n",
      " Basic Statistics for: species \n",
      " count        150\n",
      "unique         3\n",
      "top       setosa\n",
      "freq          50\n",
      "Name: species, dtype: object \n",
      "\n",
      " Value Counts Results for: species \n",
      " setosa        50\n",
      "versicolor    50\n",
      "virginica     50\n",
      "Name: species, dtype: int64 \n",
      "\n",
      "Numeric attributes:  Index(['sepal_length', 'sepal_width', 'petal_length', 'petal_width'], dtype='object')\n",
      "Categorical attributes:  Index(['species'], dtype='object')\n",
      "Executing ... Histograms Analysis\n",
      "Executing ... Boxplots Analysis\n"
     ]
    },
    {
     "data": {
      "application/vnd.plotly.v1+json": {
       "config": {
        "plotlyServerURL": "https://plot.ly"
       },
       "data": [
        {
         "alignmentgroup": "True",
         "hovertemplate": "variable=sepal_length<br>value=%{y}<extra></extra>",
         "legendgroup": "sepal_length",
         "marker": {
          "color": "#636efa"
         },
         "name": "sepal_length",
         "notched": false,
         "offsetgroup": "sepal_length",
         "orientation": "v",
         "showlegend": true,
         "type": "box",
         "x0": " ",
         "xaxis": "x",
         "y": [
          5.1,
          4.9,
          4.7,
          4.6,
          5,
          5.4,
          4.6,
          5,
          4.4,
          4.9,
          5.4,
          4.8,
          4.8,
          4.3,
          5.8,
          5.7,
          5.4,
          5.1,
          5.7,
          5.1,
          5.4,
          5.1,
          4.6,
          5.1,
          4.8,
          5,
          5,
          5.2,
          5.2,
          4.7,
          4.8,
          5.4,
          5.2,
          5.5,
          4.9,
          5,
          5.5,
          4.9,
          4.4,
          5.1,
          5,
          4.5,
          4.4,
          5,
          5.1,
          4.8,
          5.1,
          4.6,
          5.3,
          5,
          7,
          6.4,
          6.9,
          5.5,
          6.5,
          5.7,
          6.3,
          4.9,
          6.6,
          5.2,
          5,
          5.9,
          6,
          6.1,
          5.6,
          6.7,
          5.6,
          5.8,
          6.2,
          5.6,
          5.9,
          6.1,
          6.3,
          6.1,
          6.4,
          6.6,
          6.8,
          6.7,
          6,
          5.7,
          5.5,
          5.5,
          5.8,
          6,
          5.4,
          6,
          6.7,
          6.3,
          5.6,
          5.5,
          5.5,
          6.1,
          5.8,
          5,
          5.6,
          5.7,
          5.7,
          6.2,
          5.1,
          5.7,
          6.3,
          5.8,
          7.1,
          6.3,
          6.5,
          7.6,
          4.9,
          7.3,
          6.7,
          7.2,
          6.5,
          6.4,
          6.8,
          5.7,
          5.8,
          6.4,
          6.5,
          7.7,
          7.7,
          6,
          6.9,
          5.6,
          7.7,
          6.3,
          6.7,
          7.2,
          6.2,
          6.1,
          6.4,
          7.2,
          7.4,
          7.9,
          6.4,
          6.3,
          6.1,
          7.7,
          6.3,
          6.4,
          6,
          6.9,
          6.7,
          6.9,
          5.8,
          6.8,
          6.7,
          6.7,
          6.3,
          6.5,
          6.2,
          5.9
         ],
         "y0": " ",
         "yaxis": "y"
        },
        {
         "alignmentgroup": "True",
         "hovertemplate": "variable=sepal_width<br>value=%{y}<extra></extra>",
         "legendgroup": "sepal_width",
         "marker": {
          "color": "#EF553B"
         },
         "name": "sepal_width",
         "notched": false,
         "offsetgroup": "sepal_width",
         "orientation": "v",
         "showlegend": true,
         "type": "box",
         "x0": " ",
         "xaxis": "x2",
         "y": [
          3.5,
          3,
          3.2,
          3.1,
          3.6,
          3.9,
          3.4,
          3.4,
          2.9,
          3.1,
          3.7,
          3.4,
          3,
          3,
          4,
          4.4,
          3.9,
          3.5,
          3.8,
          3.8,
          3.4,
          3.7,
          3.6,
          3.3,
          3.4,
          3,
          3.4,
          3.5,
          3.4,
          3.2,
          3.1,
          3.4,
          4.1,
          4.2,
          3.1,
          3.2,
          3.5,
          3.1,
          3,
          3.4,
          3.5,
          2.3,
          3.2,
          3.5,
          3.8,
          3,
          3.8,
          3.2,
          3.7,
          3.3,
          3.2,
          3.2,
          3.1,
          2.3,
          2.8,
          2.8,
          3.3,
          2.4,
          2.9,
          2.7,
          2,
          3,
          2.2,
          2.9,
          2.9,
          3.1,
          3,
          2.7,
          2.2,
          2.5,
          3.2,
          2.8,
          2.5,
          2.8,
          2.9,
          3,
          2.8,
          3,
          2.9,
          2.6,
          2.4,
          2.4,
          2.7,
          2.7,
          3,
          3.4,
          3.1,
          2.3,
          3,
          2.5,
          2.6,
          3,
          2.6,
          2.3,
          2.7,
          3,
          2.9,
          2.9,
          2.5,
          2.8,
          3.3,
          2.7,
          3,
          2.9,
          3,
          3,
          2.5,
          2.9,
          2.5,
          3.6,
          3.2,
          2.7,
          3,
          2.5,
          2.8,
          3.2,
          3,
          3.8,
          2.6,
          2.2,
          3.2,
          2.8,
          2.8,
          2.7,
          3.3,
          3.2,
          2.8,
          3,
          2.8,
          3,
          2.8,
          3.8,
          2.8,
          2.8,
          2.6,
          3,
          3.4,
          3.1,
          3,
          3.1,
          3.1,
          3.1,
          2.7,
          3.2,
          3.3,
          3,
          2.5,
          3,
          3.4,
          3
         ],
         "y0": " ",
         "yaxis": "y2"
        },
        {
         "alignmentgroup": "True",
         "hovertemplate": "variable=petal_length<br>value=%{y}<extra></extra>",
         "legendgroup": "petal_length",
         "marker": {
          "color": "#00cc96"
         },
         "name": "petal_length",
         "notched": false,
         "offsetgroup": "petal_length",
         "orientation": "v",
         "showlegend": true,
         "type": "box",
         "x0": " ",
         "xaxis": "x3",
         "y": [
          1.4,
          1.4,
          1.3,
          1.5,
          1.4,
          1.7,
          1.4,
          1.5,
          1.4,
          1.5,
          1.5,
          1.6,
          1.4,
          1.1,
          1.2,
          1.5,
          1.3,
          1.4,
          1.7,
          1.5,
          1.7,
          1.5,
          1,
          1.7,
          1.9,
          1.6,
          1.6,
          1.5,
          1.4,
          1.6,
          1.6,
          1.5,
          1.5,
          1.4,
          1.5,
          1.2,
          1.3,
          1.5,
          1.3,
          1.5,
          1.3,
          1.3,
          1.3,
          1.6,
          1.9,
          1.4,
          1.6,
          1.4,
          1.5,
          1.4,
          4.7,
          4.5,
          4.9,
          4,
          4.6,
          4.5,
          4.7,
          3.3,
          4.6,
          3.9,
          3.5,
          4.2,
          4,
          4.7,
          3.6,
          4.4,
          4.5,
          4.1,
          4.5,
          3.9,
          4.8,
          4,
          4.9,
          4.7,
          4.3,
          4.4,
          4.8,
          5,
          4.5,
          3.5,
          3.8,
          3.7,
          3.9,
          5.1,
          4.5,
          4.5,
          4.7,
          4.4,
          4.1,
          4,
          4.4,
          4.6,
          4,
          3.3,
          4.2,
          4.2,
          4.2,
          4.3,
          3,
          4.1,
          6,
          5.1,
          5.9,
          5.6,
          5.8,
          6.6,
          4.5,
          6.3,
          5.8,
          6.1,
          5.1,
          5.3,
          5.5,
          5,
          5.1,
          5.3,
          5.5,
          6.7,
          6.9,
          5,
          5.7,
          4.9,
          6.7,
          4.9,
          5.7,
          6,
          4.8,
          4.9,
          5.6,
          5.8,
          6.1,
          6.4,
          5.6,
          5.1,
          5.6,
          6.1,
          5.6,
          5.5,
          4.8,
          5.4,
          5.6,
          5.1,
          5.1,
          5.9,
          5.7,
          5.2,
          5,
          5.2,
          5.4,
          5.1
         ],
         "y0": " ",
         "yaxis": "y3"
        },
        {
         "alignmentgroup": "True",
         "hovertemplate": "variable=petal_width<br>value=%{y}<extra></extra>",
         "legendgroup": "petal_width",
         "marker": {
          "color": "#ab63fa"
         },
         "name": "petal_width",
         "notched": false,
         "offsetgroup": "petal_width",
         "orientation": "v",
         "showlegend": true,
         "type": "box",
         "x0": " ",
         "xaxis": "x4",
         "y": [
          0.2,
          0.2,
          0.2,
          0.2,
          0.2,
          0.4,
          0.3,
          0.2,
          0.2,
          0.1,
          0.2,
          0.2,
          0.1,
          0.1,
          0.2,
          0.4,
          0.4,
          0.3,
          0.3,
          0.3,
          0.2,
          0.4,
          0.2,
          0.5,
          0.2,
          0.2,
          0.4,
          0.2,
          0.2,
          0.2,
          0.2,
          0.4,
          0.1,
          0.2,
          0.1,
          0.2,
          0.2,
          0.1,
          0.2,
          0.2,
          0.3,
          0.3,
          0.2,
          0.6,
          0.4,
          0.3,
          0.2,
          0.2,
          0.2,
          0.2,
          1.4,
          1.5,
          1.5,
          1.3,
          1.5,
          1.3,
          1.6,
          1,
          1.3,
          1.4,
          1,
          1.5,
          1,
          1.4,
          1.3,
          1.4,
          1.5,
          1,
          1.5,
          1.1,
          1.8,
          1.3,
          1.5,
          1.2,
          1.3,
          1.4,
          1.4,
          1.7,
          1.5,
          1,
          1.1,
          1,
          1.2,
          1.6,
          1.5,
          1.6,
          1.5,
          1.3,
          1.3,
          1.3,
          1.2,
          1.4,
          1.2,
          1,
          1.3,
          1.2,
          1.3,
          1.3,
          1.1,
          1.3,
          2.5,
          1.9,
          2.1,
          1.8,
          2.2,
          2.1,
          1.7,
          1.8,
          1.8,
          2.5,
          2,
          1.9,
          2.1,
          2,
          2.4,
          2.3,
          1.8,
          2.2,
          2.3,
          1.5,
          2.3,
          2,
          2,
          1.8,
          2.1,
          1.8,
          1.8,
          1.8,
          2.1,
          1.6,
          1.9,
          2,
          2.2,
          1.5,
          1.4,
          2.3,
          2.4,
          1.8,
          1.8,
          2.1,
          2.4,
          2.3,
          1.9,
          2.3,
          2.5,
          2.3,
          1.9,
          2,
          2.3,
          1.8
         ],
         "y0": " ",
         "yaxis": "y4"
        }
       ],
       "layout": {
        "annotations": [
         {
          "font": {},
          "showarrow": false,
          "text": "variable=sepal_length",
          "x": 0.1175,
          "xanchor": "center",
          "xref": "paper",
          "y": 1,
          "yanchor": "bottom",
          "yref": "paper"
         },
         {
          "font": {},
          "showarrow": false,
          "text": "variable=sepal_width",
          "x": 0.3725,
          "xanchor": "center",
          "xref": "paper",
          "y": 1,
          "yanchor": "bottom",
          "yref": "paper"
         },
         {
          "font": {},
          "showarrow": false,
          "text": "variable=petal_length",
          "x": 0.6275,
          "xanchor": "center",
          "xref": "paper",
          "y": 1,
          "yanchor": "bottom",
          "yref": "paper"
         },
         {
          "font": {},
          "showarrow": false,
          "text": "variable=petal_width",
          "x": 0.8824999999999998,
          "xanchor": "center",
          "xref": "paper",
          "y": 1,
          "yanchor": "bottom",
          "yref": "paper"
         }
        ],
        "boxmode": "overlay",
        "height": 500,
        "legend": {
         "title": {
          "text": "variable"
         },
         "tracegroupgap": 0
        },
        "margin": {
         "t": 60
        },
        "showlegend": false,
        "template": {
         "data": {
          "bar": [
           {
            "error_x": {
             "color": "#2a3f5f"
            },
            "error_y": {
             "color": "#2a3f5f"
            },
            "marker": {
             "line": {
              "color": "#E5ECF6",
              "width": 0.5
             }
            },
            "type": "bar"
           }
          ],
          "barpolar": [
           {
            "marker": {
             "line": {
              "color": "#E5ECF6",
              "width": 0.5
             }
            },
            "type": "barpolar"
           }
          ],
          "carpet": [
           {
            "aaxis": {
             "endlinecolor": "#2a3f5f",
             "gridcolor": "white",
             "linecolor": "white",
             "minorgridcolor": "white",
             "startlinecolor": "#2a3f5f"
            },
            "baxis": {
             "endlinecolor": "#2a3f5f",
             "gridcolor": "white",
             "linecolor": "white",
             "minorgridcolor": "white",
             "startlinecolor": "#2a3f5f"
            },
            "type": "carpet"
           }
          ],
          "choropleth": [
           {
            "colorbar": {
             "outlinewidth": 0,
             "ticks": ""
            },
            "type": "choropleth"
           }
          ],
          "contour": [
           {
            "colorbar": {
             "outlinewidth": 0,
             "ticks": ""
            },
            "colorscale": [
             [
              0,
              "#0d0887"
             ],
             [
              0.1111111111111111,
              "#46039f"
             ],
             [
              0.2222222222222222,
              "#7201a8"
             ],
             [
              0.3333333333333333,
              "#9c179e"
             ],
             [
              0.4444444444444444,
              "#bd3786"
             ],
             [
              0.5555555555555556,
              "#d8576b"
             ],
             [
              0.6666666666666666,
              "#ed7953"
             ],
             [
              0.7777777777777778,
              "#fb9f3a"
             ],
             [
              0.8888888888888888,
              "#fdca26"
             ],
             [
              1,
              "#f0f921"
             ]
            ],
            "type": "contour"
           }
          ],
          "contourcarpet": [
           {
            "colorbar": {
             "outlinewidth": 0,
             "ticks": ""
            },
            "type": "contourcarpet"
           }
          ],
          "heatmap": [
           {
            "colorbar": {
             "outlinewidth": 0,
             "ticks": ""
            },
            "colorscale": [
             [
              0,
              "#0d0887"
             ],
             [
              0.1111111111111111,
              "#46039f"
             ],
             [
              0.2222222222222222,
              "#7201a8"
             ],
             [
              0.3333333333333333,
              "#9c179e"
             ],
             [
              0.4444444444444444,
              "#bd3786"
             ],
             [
              0.5555555555555556,
              "#d8576b"
             ],
             [
              0.6666666666666666,
              "#ed7953"
             ],
             [
              0.7777777777777778,
              "#fb9f3a"
             ],
             [
              0.8888888888888888,
              "#fdca26"
             ],
             [
              1,
              "#f0f921"
             ]
            ],
            "type": "heatmap"
           }
          ],
          "heatmapgl": [
           {
            "colorbar": {
             "outlinewidth": 0,
             "ticks": ""
            },
            "colorscale": [
             [
              0,
              "#0d0887"
             ],
             [
              0.1111111111111111,
              "#46039f"
             ],
             [
              0.2222222222222222,
              "#7201a8"
             ],
             [
              0.3333333333333333,
              "#9c179e"
             ],
             [
              0.4444444444444444,
              "#bd3786"
             ],
             [
              0.5555555555555556,
              "#d8576b"
             ],
             [
              0.6666666666666666,
              "#ed7953"
             ],
             [
              0.7777777777777778,
              "#fb9f3a"
             ],
             [
              0.8888888888888888,
              "#fdca26"
             ],
             [
              1,
              "#f0f921"
             ]
            ],
            "type": "heatmapgl"
           }
          ],
          "histogram": [
           {
            "marker": {
             "colorbar": {
              "outlinewidth": 0,
              "ticks": ""
             }
            },
            "type": "histogram"
           }
          ],
          "histogram2d": [
           {
            "colorbar": {
             "outlinewidth": 0,
             "ticks": ""
            },
            "colorscale": [
             [
              0,
              "#0d0887"
             ],
             [
              0.1111111111111111,
              "#46039f"
             ],
             [
              0.2222222222222222,
              "#7201a8"
             ],
             [
              0.3333333333333333,
              "#9c179e"
             ],
             [
              0.4444444444444444,
              "#bd3786"
             ],
             [
              0.5555555555555556,
              "#d8576b"
             ],
             [
              0.6666666666666666,
              "#ed7953"
             ],
             [
              0.7777777777777778,
              "#fb9f3a"
             ],
             [
              0.8888888888888888,
              "#fdca26"
             ],
             [
              1,
              "#f0f921"
             ]
            ],
            "type": "histogram2d"
           }
          ],
          "histogram2dcontour": [
           {
            "colorbar": {
             "outlinewidth": 0,
             "ticks": ""
            },
            "colorscale": [
             [
              0,
              "#0d0887"
             ],
             [
              0.1111111111111111,
              "#46039f"
             ],
             [
              0.2222222222222222,
              "#7201a8"
             ],
             [
              0.3333333333333333,
              "#9c179e"
             ],
             [
              0.4444444444444444,
              "#bd3786"
             ],
             [
              0.5555555555555556,
              "#d8576b"
             ],
             [
              0.6666666666666666,
              "#ed7953"
             ],
             [
              0.7777777777777778,
              "#fb9f3a"
             ],
             [
              0.8888888888888888,
              "#fdca26"
             ],
             [
              1,
              "#f0f921"
             ]
            ],
            "type": "histogram2dcontour"
           }
          ],
          "mesh3d": [
           {
            "colorbar": {
             "outlinewidth": 0,
             "ticks": ""
            },
            "type": "mesh3d"
           }
          ],
          "parcoords": [
           {
            "line": {
             "colorbar": {
              "outlinewidth": 0,
              "ticks": ""
             }
            },
            "type": "parcoords"
           }
          ],
          "pie": [
           {
            "automargin": true,
            "type": "pie"
           }
          ],
          "scatter": [
           {
            "marker": {
             "colorbar": {
              "outlinewidth": 0,
              "ticks": ""
             }
            },
            "type": "scatter"
           }
          ],
          "scatter3d": [
           {
            "line": {
             "colorbar": {
              "outlinewidth": 0,
              "ticks": ""
             }
            },
            "marker": {
             "colorbar": {
              "outlinewidth": 0,
              "ticks": ""
             }
            },
            "type": "scatter3d"
           }
          ],
          "scattercarpet": [
           {
            "marker": {
             "colorbar": {
              "outlinewidth": 0,
              "ticks": ""
             }
            },
            "type": "scattercarpet"
           }
          ],
          "scattergeo": [
           {
            "marker": {
             "colorbar": {
              "outlinewidth": 0,
              "ticks": ""
             }
            },
            "type": "scattergeo"
           }
          ],
          "scattergl": [
           {
            "marker": {
             "colorbar": {
              "outlinewidth": 0,
              "ticks": ""
             }
            },
            "type": "scattergl"
           }
          ],
          "scattermapbox": [
           {
            "marker": {
             "colorbar": {
              "outlinewidth": 0,
              "ticks": ""
             }
            },
            "type": "scattermapbox"
           }
          ],
          "scatterpolar": [
           {
            "marker": {
             "colorbar": {
              "outlinewidth": 0,
              "ticks": ""
             }
            },
            "type": "scatterpolar"
           }
          ],
          "scatterpolargl": [
           {
            "marker": {
             "colorbar": {
              "outlinewidth": 0,
              "ticks": ""
             }
            },
            "type": "scatterpolargl"
           }
          ],
          "scatterternary": [
           {
            "marker": {
             "colorbar": {
              "outlinewidth": 0,
              "ticks": ""
             }
            },
            "type": "scatterternary"
           }
          ],
          "surface": [
           {
            "colorbar": {
             "outlinewidth": 0,
             "ticks": ""
            },
            "colorscale": [
             [
              0,
              "#0d0887"
             ],
             [
              0.1111111111111111,
              "#46039f"
             ],
             [
              0.2222222222222222,
              "#7201a8"
             ],
             [
              0.3333333333333333,
              "#9c179e"
             ],
             [
              0.4444444444444444,
              "#bd3786"
             ],
             [
              0.5555555555555556,
              "#d8576b"
             ],
             [
              0.6666666666666666,
              "#ed7953"
             ],
             [
              0.7777777777777778,
              "#fb9f3a"
             ],
             [
              0.8888888888888888,
              "#fdca26"
             ],
             [
              1,
              "#f0f921"
             ]
            ],
            "type": "surface"
           }
          ],
          "table": [
           {
            "cells": {
             "fill": {
              "color": "#EBF0F8"
             },
             "line": {
              "color": "white"
             }
            },
            "header": {
             "fill": {
              "color": "#C8D4E3"
             },
             "line": {
              "color": "white"
             }
            },
            "type": "table"
           }
          ]
         },
         "layout": {
          "annotationdefaults": {
           "arrowcolor": "#2a3f5f",
           "arrowhead": 0,
           "arrowwidth": 1
          },
          "autotypenumbers": "strict",
          "coloraxis": {
           "colorbar": {
            "outlinewidth": 0,
            "ticks": ""
           }
          },
          "colorscale": {
           "diverging": [
            [
             0,
             "#8e0152"
            ],
            [
             0.1,
             "#c51b7d"
            ],
            [
             0.2,
             "#de77ae"
            ],
            [
             0.3,
             "#f1b6da"
            ],
            [
             0.4,
             "#fde0ef"
            ],
            [
             0.5,
             "#f7f7f7"
            ],
            [
             0.6,
             "#e6f5d0"
            ],
            [
             0.7,
             "#b8e186"
            ],
            [
             0.8,
             "#7fbc41"
            ],
            [
             0.9,
             "#4d9221"
            ],
            [
             1,
             "#276419"
            ]
           ],
           "sequential": [
            [
             0,
             "#0d0887"
            ],
            [
             0.1111111111111111,
             "#46039f"
            ],
            [
             0.2222222222222222,
             "#7201a8"
            ],
            [
             0.3333333333333333,
             "#9c179e"
            ],
            [
             0.4444444444444444,
             "#bd3786"
            ],
            [
             0.5555555555555556,
             "#d8576b"
            ],
            [
             0.6666666666666666,
             "#ed7953"
            ],
            [
             0.7777777777777778,
             "#fb9f3a"
            ],
            [
             0.8888888888888888,
             "#fdca26"
            ],
            [
             1,
             "#f0f921"
            ]
           ],
           "sequentialminus": [
            [
             0,
             "#0d0887"
            ],
            [
             0.1111111111111111,
             "#46039f"
            ],
            [
             0.2222222222222222,
             "#7201a8"
            ],
            [
             0.3333333333333333,
             "#9c179e"
            ],
            [
             0.4444444444444444,
             "#bd3786"
            ],
            [
             0.5555555555555556,
             "#d8576b"
            ],
            [
             0.6666666666666666,
             "#ed7953"
            ],
            [
             0.7777777777777778,
             "#fb9f3a"
            ],
            [
             0.8888888888888888,
             "#fdca26"
            ],
            [
             1,
             "#f0f921"
            ]
           ]
          },
          "colorway": [
           "#636efa",
           "#EF553B",
           "#00cc96",
           "#ab63fa",
           "#FFA15A",
           "#19d3f3",
           "#FF6692",
           "#B6E880",
           "#FF97FF",
           "#FECB52"
          ],
          "font": {
           "color": "#2a3f5f"
          },
          "geo": {
           "bgcolor": "white",
           "lakecolor": "white",
           "landcolor": "#E5ECF6",
           "showlakes": true,
           "showland": true,
           "subunitcolor": "white"
          },
          "hoverlabel": {
           "align": "left"
          },
          "hovermode": "closest",
          "mapbox": {
           "style": "light"
          },
          "paper_bgcolor": "white",
          "plot_bgcolor": "#E5ECF6",
          "polar": {
           "angularaxis": {
            "gridcolor": "white",
            "linecolor": "white",
            "ticks": ""
           },
           "bgcolor": "#E5ECF6",
           "radialaxis": {
            "gridcolor": "white",
            "linecolor": "white",
            "ticks": ""
           }
          },
          "scene": {
           "xaxis": {
            "backgroundcolor": "#E5ECF6",
            "gridcolor": "white",
            "gridwidth": 2,
            "linecolor": "white",
            "showbackground": true,
            "ticks": "",
            "zerolinecolor": "white"
           },
           "yaxis": {
            "backgroundcolor": "#E5ECF6",
            "gridcolor": "white",
            "gridwidth": 2,
            "linecolor": "white",
            "showbackground": true,
            "ticks": "",
            "zerolinecolor": "white"
           },
           "zaxis": {
            "backgroundcolor": "#E5ECF6",
            "gridcolor": "white",
            "gridwidth": 2,
            "linecolor": "white",
            "showbackground": true,
            "ticks": "",
            "zerolinecolor": "white"
           }
          },
          "shapedefaults": {
           "line": {
            "color": "#2a3f5f"
           }
          },
          "ternary": {
           "aaxis": {
            "gridcolor": "white",
            "linecolor": "white",
            "ticks": ""
           },
           "baxis": {
            "gridcolor": "white",
            "linecolor": "white",
            "ticks": ""
           },
           "bgcolor": "#E5ECF6",
           "caxis": {
            "gridcolor": "white",
            "linecolor": "white",
            "ticks": ""
           }
          },
          "title": {
           "x": 0.05
          },
          "xaxis": {
           "automargin": true,
           "gridcolor": "white",
           "linecolor": "white",
           "ticks": "",
           "title": {
            "standoff": 15
           },
           "zerolinecolor": "white",
           "zerolinewidth": 2
          },
          "yaxis": {
           "automargin": true,
           "gridcolor": "white",
           "linecolor": "white",
           "ticks": "",
           "title": {
            "standoff": 15
           },
           "zerolinecolor": "white",
           "zerolinewidth": 2
          }
         }
        },
        "width": 700,
        "xaxis": {
         "anchor": "y",
         "domain": [
          0,
          0.235
         ],
         "linecolor": "grey",
         "linewidth": 2,
         "showline": true
        },
        "xaxis2": {
         "anchor": "y2",
         "domain": [
          0.255,
          0.49
         ],
         "linecolor": "grey",
         "linewidth": 2,
         "matches": "x",
         "showline": true
        },
        "xaxis3": {
         "anchor": "y3",
         "domain": [
          0.51,
          0.745
         ],
         "linecolor": "grey",
         "linewidth": 2,
         "matches": "x",
         "showline": true
        },
        "xaxis4": {
         "anchor": "y4",
         "domain": [
          0.7649999999999999,
          0.9999999999999999
         ],
         "linecolor": "grey",
         "linewidth": 2,
         "matches": "x",
         "showline": true
        },
        "yaxis": {
         "anchor": "x",
         "domain": [
          0,
          1
         ],
         "linecolor": "grey",
         "linewidth": 2,
         "showline": true,
         "showticklabels": true,
         "title": {
          "text": "value"
         }
        },
        "yaxis2": {
         "anchor": "x2",
         "domain": [
          0,
          1
         ],
         "linecolor": "grey",
         "linewidth": 2,
         "showline": true,
         "showticklabels": true
        },
        "yaxis3": {
         "anchor": "x3",
         "domain": [
          0,
          1
         ],
         "linecolor": "grey",
         "linewidth": 2,
         "showline": true,
         "showticklabels": true
        },
        "yaxis4": {
         "anchor": "x4",
         "domain": [
          0,
          1
         ],
         "linecolor": "grey",
         "linewidth": 2,
         "showline": true,
         "showticklabels": true
        }
       }
      },
      "text/html": [
       "<div>                            <div id=\"fd130803-8290-495a-aae4-b747e7106245\" class=\"plotly-graph-div\" style=\"height:500px; width:700px;\"></div>            <script type=\"text/javascript\">                require([\"plotly\"], function(Plotly) {                    window.PLOTLYENV=window.PLOTLYENV || {};                                    if (document.getElementById(\"fd130803-8290-495a-aae4-b747e7106245\")) {                    Plotly.newPlot(                        \"fd130803-8290-495a-aae4-b747e7106245\",                        [{\"alignmentgroup\": \"True\", \"hovertemplate\": \"variable=sepal_length<br>value=%{y}<extra></extra>\", \"legendgroup\": \"sepal_length\", \"marker\": {\"color\": \"#636efa\"}, \"name\": \"sepal_length\", \"notched\": false, \"offsetgroup\": \"sepal_length\", \"orientation\": \"v\", \"showlegend\": true, \"type\": \"box\", \"x0\": \" \", \"xaxis\": \"x\", \"y\": [5.1, 4.9, 4.7, 4.6, 5.0, 5.4, 4.6, 5.0, 4.4, 4.9, 5.4, 4.8, 4.8, 4.3, 5.8, 5.7, 5.4, 5.1, 5.7, 5.1, 5.4, 5.1, 4.6, 5.1, 4.8, 5.0, 5.0, 5.2, 5.2, 4.7, 4.8, 5.4, 5.2, 5.5, 4.9, 5.0, 5.5, 4.9, 4.4, 5.1, 5.0, 4.5, 4.4, 5.0, 5.1, 4.8, 5.1, 4.6, 5.3, 5.0, 7.0, 6.4, 6.9, 5.5, 6.5, 5.7, 6.3, 4.9, 6.6, 5.2, 5.0, 5.9, 6.0, 6.1, 5.6, 6.7, 5.6, 5.8, 6.2, 5.6, 5.9, 6.1, 6.3, 6.1, 6.4, 6.6, 6.8, 6.7, 6.0, 5.7, 5.5, 5.5, 5.8, 6.0, 5.4, 6.0, 6.7, 6.3, 5.6, 5.5, 5.5, 6.1, 5.8, 5.0, 5.6, 5.7, 5.7, 6.2, 5.1, 5.7, 6.3, 5.8, 7.1, 6.3, 6.5, 7.6, 4.9, 7.3, 6.7, 7.2, 6.5, 6.4, 6.8, 5.7, 5.8, 6.4, 6.5, 7.7, 7.7, 6.0, 6.9, 5.6, 7.7, 6.3, 6.7, 7.2, 6.2, 6.1, 6.4, 7.2, 7.4, 7.9, 6.4, 6.3, 6.1, 7.7, 6.3, 6.4, 6.0, 6.9, 6.7, 6.9, 5.8, 6.8, 6.7, 6.7, 6.3, 6.5, 6.2, 5.9], \"y0\": \" \", \"yaxis\": \"y\"}, {\"alignmentgroup\": \"True\", \"hovertemplate\": \"variable=sepal_width<br>value=%{y}<extra></extra>\", \"legendgroup\": \"sepal_width\", \"marker\": {\"color\": \"#EF553B\"}, \"name\": \"sepal_width\", \"notched\": false, \"offsetgroup\": \"sepal_width\", \"orientation\": \"v\", \"showlegend\": true, \"type\": \"box\", \"x0\": \" \", \"xaxis\": \"x2\", \"y\": [3.5, 3.0, 3.2, 3.1, 3.6, 3.9, 3.4, 3.4, 2.9, 3.1, 3.7, 3.4, 3.0, 3.0, 4.0, 4.4, 3.9, 3.5, 3.8, 3.8, 3.4, 3.7, 3.6, 3.3, 3.4, 3.0, 3.4, 3.5, 3.4, 3.2, 3.1, 3.4, 4.1, 4.2, 3.1, 3.2, 3.5, 3.1, 3.0, 3.4, 3.5, 2.3, 3.2, 3.5, 3.8, 3.0, 3.8, 3.2, 3.7, 3.3, 3.2, 3.2, 3.1, 2.3, 2.8, 2.8, 3.3, 2.4, 2.9, 2.7, 2.0, 3.0, 2.2, 2.9, 2.9, 3.1, 3.0, 2.7, 2.2, 2.5, 3.2, 2.8, 2.5, 2.8, 2.9, 3.0, 2.8, 3.0, 2.9, 2.6, 2.4, 2.4, 2.7, 2.7, 3.0, 3.4, 3.1, 2.3, 3.0, 2.5, 2.6, 3.0, 2.6, 2.3, 2.7, 3.0, 2.9, 2.9, 2.5, 2.8, 3.3, 2.7, 3.0, 2.9, 3.0, 3.0, 2.5, 2.9, 2.5, 3.6, 3.2, 2.7, 3.0, 2.5, 2.8, 3.2, 3.0, 3.8, 2.6, 2.2, 3.2, 2.8, 2.8, 2.7, 3.3, 3.2, 2.8, 3.0, 2.8, 3.0, 2.8, 3.8, 2.8, 2.8, 2.6, 3.0, 3.4, 3.1, 3.0, 3.1, 3.1, 3.1, 2.7, 3.2, 3.3, 3.0, 2.5, 3.0, 3.4, 3.0], \"y0\": \" \", \"yaxis\": \"y2\"}, {\"alignmentgroup\": \"True\", \"hovertemplate\": \"variable=petal_length<br>value=%{y}<extra></extra>\", \"legendgroup\": \"petal_length\", \"marker\": {\"color\": \"#00cc96\"}, \"name\": \"petal_length\", \"notched\": false, \"offsetgroup\": \"petal_length\", \"orientation\": \"v\", \"showlegend\": true, \"type\": \"box\", \"x0\": \" \", \"xaxis\": \"x3\", \"y\": [1.4, 1.4, 1.3, 1.5, 1.4, 1.7, 1.4, 1.5, 1.4, 1.5, 1.5, 1.6, 1.4, 1.1, 1.2, 1.5, 1.3, 1.4, 1.7, 1.5, 1.7, 1.5, 1.0, 1.7, 1.9, 1.6, 1.6, 1.5, 1.4, 1.6, 1.6, 1.5, 1.5, 1.4, 1.5, 1.2, 1.3, 1.5, 1.3, 1.5, 1.3, 1.3, 1.3, 1.6, 1.9, 1.4, 1.6, 1.4, 1.5, 1.4, 4.7, 4.5, 4.9, 4.0, 4.6, 4.5, 4.7, 3.3, 4.6, 3.9, 3.5, 4.2, 4.0, 4.7, 3.6, 4.4, 4.5, 4.1, 4.5, 3.9, 4.8, 4.0, 4.9, 4.7, 4.3, 4.4, 4.8, 5.0, 4.5, 3.5, 3.8, 3.7, 3.9, 5.1, 4.5, 4.5, 4.7, 4.4, 4.1, 4.0, 4.4, 4.6, 4.0, 3.3, 4.2, 4.2, 4.2, 4.3, 3.0, 4.1, 6.0, 5.1, 5.9, 5.6, 5.8, 6.6, 4.5, 6.3, 5.8, 6.1, 5.1, 5.3, 5.5, 5.0, 5.1, 5.3, 5.5, 6.7, 6.9, 5.0, 5.7, 4.9, 6.7, 4.9, 5.7, 6.0, 4.8, 4.9, 5.6, 5.8, 6.1, 6.4, 5.6, 5.1, 5.6, 6.1, 5.6, 5.5, 4.8, 5.4, 5.6, 5.1, 5.1, 5.9, 5.7, 5.2, 5.0, 5.2, 5.4, 5.1], \"y0\": \" \", \"yaxis\": \"y3\"}, {\"alignmentgroup\": \"True\", \"hovertemplate\": \"variable=petal_width<br>value=%{y}<extra></extra>\", \"legendgroup\": \"petal_width\", \"marker\": {\"color\": \"#ab63fa\"}, \"name\": \"petal_width\", \"notched\": false, \"offsetgroup\": \"petal_width\", \"orientation\": \"v\", \"showlegend\": true, \"type\": \"box\", \"x0\": \" \", \"xaxis\": \"x4\", \"y\": [0.2, 0.2, 0.2, 0.2, 0.2, 0.4, 0.3, 0.2, 0.2, 0.1, 0.2, 0.2, 0.1, 0.1, 0.2, 0.4, 0.4, 0.3, 0.3, 0.3, 0.2, 0.4, 0.2, 0.5, 0.2, 0.2, 0.4, 0.2, 0.2, 0.2, 0.2, 0.4, 0.1, 0.2, 0.1, 0.2, 0.2, 0.1, 0.2, 0.2, 0.3, 0.3, 0.2, 0.6, 0.4, 0.3, 0.2, 0.2, 0.2, 0.2, 1.4, 1.5, 1.5, 1.3, 1.5, 1.3, 1.6, 1.0, 1.3, 1.4, 1.0, 1.5, 1.0, 1.4, 1.3, 1.4, 1.5, 1.0, 1.5, 1.1, 1.8, 1.3, 1.5, 1.2, 1.3, 1.4, 1.4, 1.7, 1.5, 1.0, 1.1, 1.0, 1.2, 1.6, 1.5, 1.6, 1.5, 1.3, 1.3, 1.3, 1.2, 1.4, 1.2, 1.0, 1.3, 1.2, 1.3, 1.3, 1.1, 1.3, 2.5, 1.9, 2.1, 1.8, 2.2, 2.1, 1.7, 1.8, 1.8, 2.5, 2.0, 1.9, 2.1, 2.0, 2.4, 2.3, 1.8, 2.2, 2.3, 1.5, 2.3, 2.0, 2.0, 1.8, 2.1, 1.8, 1.8, 1.8, 2.1, 1.6, 1.9, 2.0, 2.2, 1.5, 1.4, 2.3, 2.4, 1.8, 1.8, 2.1, 2.4, 2.3, 1.9, 2.3, 2.5, 2.3, 1.9, 2.0, 2.3, 1.8], \"y0\": \" \", \"yaxis\": \"y4\"}],                        {\"annotations\": [{\"font\": {}, \"showarrow\": false, \"text\": \"variable=sepal_length\", \"x\": 0.1175, \"xanchor\": \"center\", \"xref\": \"paper\", \"y\": 1.0, \"yanchor\": \"bottom\", \"yref\": \"paper\"}, {\"font\": {}, \"showarrow\": false, \"text\": \"variable=sepal_width\", \"x\": 0.3725, \"xanchor\": \"center\", \"xref\": \"paper\", \"y\": 1.0, \"yanchor\": \"bottom\", \"yref\": \"paper\"}, {\"font\": {}, \"showarrow\": false, \"text\": \"variable=petal_length\", \"x\": 0.6275, \"xanchor\": \"center\", \"xref\": \"paper\", \"y\": 1.0, \"yanchor\": \"bottom\", \"yref\": \"paper\"}, {\"font\": {}, \"showarrow\": false, \"text\": \"variable=petal_width\", \"x\": 0.8824999999999998, \"xanchor\": \"center\", \"xref\": \"paper\", \"y\": 1.0, \"yanchor\": \"bottom\", \"yref\": \"paper\"}], \"boxmode\": \"overlay\", \"height\": 500, \"legend\": {\"title\": {\"text\": \"variable\"}, \"tracegroupgap\": 0}, \"margin\": {\"t\": 60}, \"showlegend\": false, \"template\": {\"data\": {\"bar\": [{\"error_x\": {\"color\": \"#2a3f5f\"}, \"error_y\": {\"color\": \"#2a3f5f\"}, \"marker\": {\"line\": {\"color\": \"#E5ECF6\", \"width\": 0.5}}, \"type\": \"bar\"}], \"barpolar\": [{\"marker\": {\"line\": {\"color\": \"#E5ECF6\", \"width\": 0.5}}, \"type\": \"barpolar\"}], \"carpet\": [{\"aaxis\": {\"endlinecolor\": \"#2a3f5f\", \"gridcolor\": \"white\", \"linecolor\": \"white\", \"minorgridcolor\": \"white\", \"startlinecolor\": \"#2a3f5f\"}, \"baxis\": {\"endlinecolor\": \"#2a3f5f\", \"gridcolor\": \"white\", \"linecolor\": \"white\", \"minorgridcolor\": \"white\", \"startlinecolor\": \"#2a3f5f\"}, \"type\": \"carpet\"}], \"choropleth\": [{\"colorbar\": {\"outlinewidth\": 0, \"ticks\": \"\"}, \"type\": \"choropleth\"}], \"contour\": [{\"colorbar\": {\"outlinewidth\": 0, \"ticks\": \"\"}, \"colorscale\": [[0.0, \"#0d0887\"], [0.1111111111111111, \"#46039f\"], [0.2222222222222222, \"#7201a8\"], [0.3333333333333333, \"#9c179e\"], [0.4444444444444444, \"#bd3786\"], [0.5555555555555556, \"#d8576b\"], [0.6666666666666666, \"#ed7953\"], [0.7777777777777778, \"#fb9f3a\"], [0.8888888888888888, \"#fdca26\"], [1.0, \"#f0f921\"]], \"type\": \"contour\"}], \"contourcarpet\": [{\"colorbar\": {\"outlinewidth\": 0, \"ticks\": \"\"}, \"type\": \"contourcarpet\"}], \"heatmap\": [{\"colorbar\": {\"outlinewidth\": 0, \"ticks\": \"\"}, \"colorscale\": [[0.0, \"#0d0887\"], [0.1111111111111111, \"#46039f\"], [0.2222222222222222, \"#7201a8\"], [0.3333333333333333, \"#9c179e\"], [0.4444444444444444, \"#bd3786\"], [0.5555555555555556, \"#d8576b\"], [0.6666666666666666, \"#ed7953\"], [0.7777777777777778, \"#fb9f3a\"], [0.8888888888888888, \"#fdca26\"], [1.0, \"#f0f921\"]], \"type\": \"heatmap\"}], \"heatmapgl\": [{\"colorbar\": {\"outlinewidth\": 0, \"ticks\": \"\"}, \"colorscale\": [[0.0, \"#0d0887\"], [0.1111111111111111, \"#46039f\"], [0.2222222222222222, \"#7201a8\"], [0.3333333333333333, \"#9c179e\"], [0.4444444444444444, \"#bd3786\"], [0.5555555555555556, \"#d8576b\"], [0.6666666666666666, \"#ed7953\"], [0.7777777777777778, \"#fb9f3a\"], [0.8888888888888888, \"#fdca26\"], [1.0, \"#f0f921\"]], \"type\": \"heatmapgl\"}], \"histogram\": [{\"marker\": {\"colorbar\": {\"outlinewidth\": 0, \"ticks\": \"\"}}, \"type\": \"histogram\"}], \"histogram2d\": [{\"colorbar\": {\"outlinewidth\": 0, \"ticks\": \"\"}, \"colorscale\": [[0.0, \"#0d0887\"], [0.1111111111111111, \"#46039f\"], [0.2222222222222222, \"#7201a8\"], [0.3333333333333333, \"#9c179e\"], [0.4444444444444444, \"#bd3786\"], [0.5555555555555556, \"#d8576b\"], [0.6666666666666666, \"#ed7953\"], [0.7777777777777778, \"#fb9f3a\"], [0.8888888888888888, \"#fdca26\"], [1.0, \"#f0f921\"]], \"type\": \"histogram2d\"}], \"histogram2dcontour\": [{\"colorbar\": {\"outlinewidth\": 0, \"ticks\": \"\"}, \"colorscale\": [[0.0, \"#0d0887\"], [0.1111111111111111, \"#46039f\"], [0.2222222222222222, \"#7201a8\"], [0.3333333333333333, \"#9c179e\"], [0.4444444444444444, \"#bd3786\"], [0.5555555555555556, \"#d8576b\"], [0.6666666666666666, \"#ed7953\"], [0.7777777777777778, \"#fb9f3a\"], [0.8888888888888888, \"#fdca26\"], [1.0, \"#f0f921\"]], \"type\": \"histogram2dcontour\"}], \"mesh3d\": [{\"colorbar\": {\"outlinewidth\": 0, \"ticks\": \"\"}, \"type\": \"mesh3d\"}], \"parcoords\": [{\"line\": {\"colorbar\": {\"outlinewidth\": 0, \"ticks\": \"\"}}, \"type\": \"parcoords\"}], \"pie\": [{\"automargin\": true, \"type\": \"pie\"}], \"scatter\": [{\"marker\": {\"colorbar\": {\"outlinewidth\": 0, \"ticks\": \"\"}}, \"type\": \"scatter\"}], \"scatter3d\": [{\"line\": {\"colorbar\": {\"outlinewidth\": 0, \"ticks\": \"\"}}, \"marker\": {\"colorbar\": {\"outlinewidth\": 0, \"ticks\": \"\"}}, \"type\": \"scatter3d\"}], \"scattercarpet\": [{\"marker\": {\"colorbar\": {\"outlinewidth\": 0, \"ticks\": \"\"}}, \"type\": \"scattercarpet\"}], \"scattergeo\": [{\"marker\": {\"colorbar\": {\"outlinewidth\": 0, \"ticks\": \"\"}}, \"type\": \"scattergeo\"}], \"scattergl\": [{\"marker\": {\"colorbar\": {\"outlinewidth\": 0, \"ticks\": \"\"}}, \"type\": \"scattergl\"}], \"scattermapbox\": [{\"marker\": {\"colorbar\": {\"outlinewidth\": 0, \"ticks\": \"\"}}, \"type\": \"scattermapbox\"}], \"scatterpolar\": [{\"marker\": {\"colorbar\": {\"outlinewidth\": 0, \"ticks\": \"\"}}, \"type\": \"scatterpolar\"}], \"scatterpolargl\": [{\"marker\": {\"colorbar\": {\"outlinewidth\": 0, \"ticks\": \"\"}}, \"type\": \"scatterpolargl\"}], \"scatterternary\": [{\"marker\": {\"colorbar\": {\"outlinewidth\": 0, \"ticks\": \"\"}}, \"type\": \"scatterternary\"}], \"surface\": [{\"colorbar\": {\"outlinewidth\": 0, \"ticks\": \"\"}, \"colorscale\": [[0.0, \"#0d0887\"], [0.1111111111111111, \"#46039f\"], [0.2222222222222222, \"#7201a8\"], [0.3333333333333333, \"#9c179e\"], [0.4444444444444444, \"#bd3786\"], [0.5555555555555556, \"#d8576b\"], [0.6666666666666666, \"#ed7953\"], [0.7777777777777778, \"#fb9f3a\"], [0.8888888888888888, \"#fdca26\"], [1.0, \"#f0f921\"]], \"type\": \"surface\"}], \"table\": [{\"cells\": {\"fill\": {\"color\": \"#EBF0F8\"}, \"line\": {\"color\": \"white\"}}, \"header\": {\"fill\": {\"color\": \"#C8D4E3\"}, \"line\": {\"color\": \"white\"}}, \"type\": \"table\"}]}, \"layout\": {\"annotationdefaults\": {\"arrowcolor\": \"#2a3f5f\", \"arrowhead\": 0, \"arrowwidth\": 1}, \"autotypenumbers\": \"strict\", \"coloraxis\": {\"colorbar\": {\"outlinewidth\": 0, \"ticks\": \"\"}}, \"colorscale\": {\"diverging\": [[0, \"#8e0152\"], [0.1, \"#c51b7d\"], [0.2, \"#de77ae\"], [0.3, \"#f1b6da\"], [0.4, \"#fde0ef\"], [0.5, \"#f7f7f7\"], [0.6, \"#e6f5d0\"], [0.7, \"#b8e186\"], [0.8, \"#7fbc41\"], [0.9, \"#4d9221\"], [1, \"#276419\"]], \"sequential\": [[0.0, \"#0d0887\"], [0.1111111111111111, \"#46039f\"], [0.2222222222222222, \"#7201a8\"], [0.3333333333333333, \"#9c179e\"], [0.4444444444444444, \"#bd3786\"], [0.5555555555555556, \"#d8576b\"], [0.6666666666666666, \"#ed7953\"], [0.7777777777777778, \"#fb9f3a\"], [0.8888888888888888, \"#fdca26\"], [1.0, \"#f0f921\"]], \"sequentialminus\": [[0.0, \"#0d0887\"], [0.1111111111111111, \"#46039f\"], [0.2222222222222222, \"#7201a8\"], [0.3333333333333333, \"#9c179e\"], [0.4444444444444444, \"#bd3786\"], [0.5555555555555556, \"#d8576b\"], [0.6666666666666666, \"#ed7953\"], [0.7777777777777778, \"#fb9f3a\"], [0.8888888888888888, \"#fdca26\"], [1.0, \"#f0f921\"]]}, \"colorway\": [\"#636efa\", \"#EF553B\", \"#00cc96\", \"#ab63fa\", \"#FFA15A\", \"#19d3f3\", \"#FF6692\", \"#B6E880\", \"#FF97FF\", \"#FECB52\"], \"font\": {\"color\": \"#2a3f5f\"}, \"geo\": {\"bgcolor\": \"white\", \"lakecolor\": \"white\", \"landcolor\": \"#E5ECF6\", \"showlakes\": true, \"showland\": true, \"subunitcolor\": \"white\"}, \"hoverlabel\": {\"align\": \"left\"}, \"hovermode\": \"closest\", \"mapbox\": {\"style\": \"light\"}, \"paper_bgcolor\": \"white\", \"plot_bgcolor\": \"#E5ECF6\", \"polar\": {\"angularaxis\": {\"gridcolor\": \"white\", \"linecolor\": \"white\", \"ticks\": \"\"}, \"bgcolor\": \"#E5ECF6\", \"radialaxis\": {\"gridcolor\": \"white\", \"linecolor\": \"white\", \"ticks\": \"\"}}, \"scene\": {\"xaxis\": {\"backgroundcolor\": \"#E5ECF6\", \"gridcolor\": \"white\", \"gridwidth\": 2, \"linecolor\": \"white\", \"showbackground\": true, \"ticks\": \"\", \"zerolinecolor\": \"white\"}, \"yaxis\": {\"backgroundcolor\": \"#E5ECF6\", \"gridcolor\": \"white\", \"gridwidth\": 2, \"linecolor\": \"white\", \"showbackground\": true, \"ticks\": \"\", \"zerolinecolor\": \"white\"}, \"zaxis\": {\"backgroundcolor\": \"#E5ECF6\", \"gridcolor\": \"white\", \"gridwidth\": 2, \"linecolor\": \"white\", \"showbackground\": true, \"ticks\": \"\", \"zerolinecolor\": \"white\"}}, \"shapedefaults\": {\"line\": {\"color\": \"#2a3f5f\"}}, \"ternary\": {\"aaxis\": {\"gridcolor\": \"white\", \"linecolor\": \"white\", \"ticks\": \"\"}, \"baxis\": {\"gridcolor\": \"white\", \"linecolor\": \"white\", \"ticks\": \"\"}, \"bgcolor\": \"#E5ECF6\", \"caxis\": {\"gridcolor\": \"white\", \"linecolor\": \"white\", \"ticks\": \"\"}}, \"title\": {\"x\": 0.05}, \"xaxis\": {\"automargin\": true, \"gridcolor\": \"white\", \"linecolor\": \"white\", \"ticks\": \"\", \"title\": {\"standoff\": 15}, \"zerolinecolor\": \"white\", \"zerolinewidth\": 2}, \"yaxis\": {\"automargin\": true, \"gridcolor\": \"white\", \"linecolor\": \"white\", \"ticks\": \"\", \"title\": {\"standoff\": 15}, \"zerolinecolor\": \"white\", \"zerolinewidth\": 2}}}, \"width\": 700, \"xaxis\": {\"anchor\": \"y\", \"domain\": [0.0, 0.235], \"linecolor\": \"grey\", \"linewidth\": 2, \"showline\": true}, \"xaxis2\": {\"anchor\": \"y2\", \"domain\": [0.255, 0.49], \"linecolor\": \"grey\", \"linewidth\": 2, \"matches\": \"x\", \"showline\": true}, \"xaxis3\": {\"anchor\": \"y3\", \"domain\": [0.51, 0.745], \"linecolor\": \"grey\", \"linewidth\": 2, \"matches\": \"x\", \"showline\": true}, \"xaxis4\": {\"anchor\": \"y4\", \"domain\": [0.7649999999999999, 0.9999999999999999], \"linecolor\": \"grey\", \"linewidth\": 2, \"matches\": \"x\", \"showline\": true}, \"yaxis\": {\"anchor\": \"x\", \"domain\": [0.0, 1.0], \"linecolor\": \"grey\", \"linewidth\": 2, \"showline\": true, \"showticklabels\": true, \"title\": {\"text\": \"value\"}}, \"yaxis2\": {\"anchor\": \"x2\", \"domain\": [0.0, 1.0], \"linecolor\": \"grey\", \"linewidth\": 2, \"showline\": true, \"showticklabels\": true}, \"yaxis3\": {\"anchor\": \"x3\", \"domain\": [0.0, 1.0], \"linecolor\": \"grey\", \"linewidth\": 2, \"showline\": true, \"showticklabels\": true}, \"yaxis4\": {\"anchor\": \"x4\", \"domain\": [0.0, 1.0], \"linecolor\": \"grey\", \"linewidth\": 2, \"showline\": true, \"showticklabels\": true}},                        {\"responsive\": true}                    ).then(function(){\n",
       "                            \n",
       "var gd = document.getElementById('fd130803-8290-495a-aae4-b747e7106245');\n",
       "var x = new MutationObserver(function (mutations, observer) {{\n",
       "        var display = window.getComputedStyle(gd).display;\n",
       "        if (!display || display === 'none') {{\n",
       "            console.log([gd, 'removed!']);\n",
       "            Plotly.purge(gd);\n",
       "            observer.disconnect();\n",
       "        }}\n",
       "}});\n",
       "\n",
       "// Listen for the removal of the full notebook cells\n",
       "var notebookContainer = gd.closest('#notebook-container');\n",
       "if (notebookContainer) {{\n",
       "    x.observe(notebookContainer, {childList: true});\n",
       "}}\n",
       "\n",
       "// Listen for the clearing of the current output cell\n",
       "var outputEl = gd.closest('.output');\n",
       "if (outputEl) {{\n",
       "    x.observe(outputEl, {childList: true});\n",
       "}}\n",
       "\n",
       "                        })                };                });            </script>        </div>"
      ]
     },
     "metadata": {},
     "output_type": "display_data"
    },
    {
     "name": "stdout",
     "output_type": "stream",
     "text": [
      "Executing ... Frequency Analysis for Categoical Attributes\n"
     ]
    },
    {
     "name": "stderr",
     "output_type": "stream",
     "text": [
      "/home/felix/anaconda3/lib/python3.7/site-packages/seaborn/_decorators.py:43: FutureWarning:\n",
      "\n",
      "Pass the following variable as a keyword arg: x. From version 0.12, the only valid positional argument will be `data`, and passing other arguments without an explicit keyword will result in an error or misinterpretation.\n",
      "\n"
     ]
    },
    {
     "data": {
      "image/png": "[encoded data removed]",
      "text/plain": [
       "<Figure size 1080x216 with 4 Axes>"
      ]
     },
     "metadata": {},
     "output_type": "display_data"
    },
    {
     "data": {
      "image/png": "[encoded data removed]",
      "text/plain": [
       "<Figure size 1440x720 with 1 Axes>"
      ]
     },
     "metadata": {},
     "output_type": "display_data"
    }
   ],
   "source": [
    "def get_ml_problem(df, label):\n",
    "\n",
    "  if (df[label].dtype == 'category' or df[label].dtype == 'boolean' )  or (df[label].nunique == 2):\n",
    "    print(\"This is a  Binary Classification Problem Dataset\")\n",
    "    out = \"Classification\"\n",
    "  elif (df[label].dtype == 'category') or (len(df[label].value_counts()) <= 5):\n",
    "    print(\"This is a Classification Problem Dataset\")\n",
    "    out = \"Classification\"\n",
    "  else: \n",
    "    print(\"This is a Regression Problem Dataset\")\n",
    "    out = \"Regression\"\n",
    "  return out\n",
    " \n",
    "def get_basic_overview(df, label):\n",
    "\n",
    "  return print(\"\\n\" ,\"El atributo\", label, \"Contiene\" ,df[label].isnull().sum(), \"valores nulos del total de\" ,len(df),\"\\n\\n\",\n",
    "              \"\\n\" , \"Basic Statistics for:\", label, \"\\n\" ,df[label].describe(include = \"object\"), \"\\n\\n\",\n",
    "               \"Value Counts Results for:\", label,\"\\n\" , df[label].value_counts(), \"\\n\" )\n",
    "\n",
    "\n",
    "def univariate_analysis(df, label):\n",
    "\n",
    "  get_ml_problem(df, label )\n",
    "\n",
    "  get_basic_overview(df, label )\n",
    "    \n",
    "  num_cols, cat_cols =get_column_types(df)\n",
    "\n",
    "  histplot(df, num_cols)\n",
    "  \n",
    "  interactive_boxplots(df, num_cols)\n",
    "\n",
    "  freq_plots_cat(df, cat_cols)\n",
    "\n",
    "univariate_analysis(df_iris, \"species\")"
   ]
  },
  {
   "cell_type": "markdown",
   "metadata": {
    "id": "utrIwF69Mmmu"
   },
   "source": [
    "  # Exercise 3 (Bivariate Analysis) \n",
    "  \n",
    "  Write a function ***bivariate_analysis(df, label)***, which  does the following: \n",
    "  1. For each pair of numerical attributes, create exactly one scatter plot (look at the iter-tools.combinations function to create the set of all such pairs).  Do not use seaborn pairplots, because these create too many figures. Use the target variable to color the points in the plot (different colors in classification and different intensities in regression). \n",
    "  2. Create a heatmap showing the correlation matrix of the numerical attributes (can includethe target variable if numeric). Make sure that you use a diverging color map in whicha value of 0 is shown as white. \n",
    "  3. For all combinations of categorical non-target attributesXj, Xk, find a way to visualizethe (empirical) joint distributionP(Xj, Xk)."
   ]
  },
  {
   "cell_type": "code",
   "execution_count": 11,
   "metadata": {
    "id": "xabLm7Kjh32y"
   },
   "outputs": [],
   "source": [
    "#sns.pairplot(boston_df[num_cols])\n",
    "#sns.pairplot(boston_df[num_cols],hue=label)"
   ]
  },
  {
   "cell_type": "code",
   "execution_count": 12,
   "metadata": {
    "id": "QzGPRpWCj1Kp"
   },
   "outputs": [],
   "source": [
    "def scatter_num_attributes(df, num_cols): \n",
    "\n",
    "  for x_col in num_cols:\n",
    "    for y_col in num_cols:\n",
    "      figure = plt.figure\n",
    "      ax = plt.gca()\n",
    "      ax.scatter(df[x_col], df[y_col])\n",
    "      ax.set_xlabel(x_col)\n",
    "      ax.set_ylabel(y_col)\n",
    "      ax.set_title(\"{} vs {}\".format(x_col, y_col))\n",
    "\n",
    "      plt.legend()\n",
    "      plt.show()"
   ]
  },
  {
   "cell_type": "code",
   "execution_count": 13,
   "metadata": {
    "id": "TkKAagBDlnmj"
   },
   "outputs": [],
   "source": [
    "def corr_matriz(df, num_cols):\n",
    "  corr = df[num_cols].corr()\n",
    "  corr.style.background_gradient(cmap='coolwarm').set_precision(3)\n"
   ]
  },
  {
   "cell_type": "code",
   "execution_count": 14,
   "metadata": {
    "id": "6TtBpYV5wt6y"
   },
   "outputs": [],
   "source": [
    "target=\"species\"\n",
    "if target in cat_cols: \n",
    "  cat_cols.tolist().remove(target)\n",
    "  print(cat_cols)"
   ]
  },
  {
   "cell_type": "code",
   "execution_count": 15,
   "metadata": {
    "id": "7mLb9wqZMwM8"
   },
   "outputs": [],
   "source": [
    "def cat_joint(df, target, cat_attributes):\n",
    "\n",
    "  if target in cat_attributes: cat_attributes.tolist().remove(target)\n",
    "  length = len(cat_attributes)\n",
    "  if length == 0: return\n",
    "\n",
    "  cat_df = df[cat_attributes]\n",
    "  combinations = itertools.combinations(cat_df, 2)\n",
    "  length_combinations = sum(1 for i in combinations)\n",
    "  pl_ro=int(length_combinations/2)\n",
    "  fig, axs = plt.subplots(pl_ro, 2, figsize=(15, 40))\n",
    "\n",
    "  i = 0\n",
    "  j = 0\n",
    "\n",
    "  for p1, p2 in itertools.combinations(cat_df, 2):\n",
    "    sns.histplot(cat_df, x=p1, y=p2, stat='probability', ax=axs[i][j], cbar=True, legend= True)\n",
    "    if j == 1:\n",
    "      i = i + 1\n",
    "      j = 0\n",
    "    else:\n",
    "      j = j + 1\n",
    "\n",
    "  fig.tight_layout()\n",
    "\n",
    "\n",
    "#cat_joint(boston_df, \"medv\" , cat_cols )"
   ]
  },
  {
   "cell_type": "code",
   "execution_count": 33,
   "metadata": {
    "colab": {
     "base_uri": "https://localhost:8080/",
     "height": 1000
    },
    "id": "Bsp0jgkAlJbz",
    "outputId": "a76cabf0-3ce2-4899-8789-cedf6763b35c",
    "scrolled": false
   },
   "outputs": [
    {
     "name": "stderr",
     "output_type": "stream",
     "text": [
      "/home/felix/anaconda3/lib/python3.7/site-packages/ipykernel_launcher.py:3: FutureWarning:\n",
      "\n",
      "this method is deprecated in favour of `Styler.format(precision=..)`\n",
      "\n"
     ]
    },
    {
     "data": {
      "image/png": "[encoded data removed]",
      "text/plain": [
       "<Figure size 1080x2880 with 12 Axes>"
      ]
     },
     "metadata": {},
     "output_type": "display_data"
    }
   ],
   "source": [
    "def  bivariate_analysis(df, label):\n",
    "  #scatter_num_attributes(df, num_cols)\n",
    "  corr_matriz(df, num_cols)\n",
    "  cat_joint(df, label , cat_cols )\n",
    "  return\n",
    "\n",
    "bivariate_analysis(boston_df, \"medv\")"
   ]
  },
  {
   "cell_type": "markdown",
   "metadata": {
    "id": "SRz3cwyoMq5N"
   },
   "source": [
    "# Exercise 4 (Multivariate Analysis) \n",
    "\n",
    "Write a function ***multivariate_analysis(df, label***),which does the following:\n",
    "1. Create a joint boxplot of all numeric attributes. Also give an automatically generated text message that assert whether normalization is necessary or not (your criterion)\n",
    "2. Conduct a 2D and 3D PCA and visualize the data in the reduced dimensions. Report the portion of variance preserved in each case (hint: the PCA in scikit-learn can do all of this"
   ]
  },
  {
   "cell_type": "code",
   "execution_count": 17,
   "metadata": {
    "id": "11Z_l_nAs7g9"
   },
   "outputs": [],
   "source": [
    "def must_normalize(df, num_attributes):\n",
    "  desv_list=[]\n",
    "  normalizar=\"\"\n",
    "  for i in num_attributes:\n",
    "    q25= percentile(df[i], 25)\n",
    "    q75=percentile(df[i], 75)\n",
    "    cut_off=(q75-q25#IQR\n",
    "             )*1.5\n",
    "    lower, upper = round(q25 - cut_off,1), round(q75 + cut_off,1)\n",
    "    desv=round(df[(df[i]>=lower)|(df[i]<=upper)][i].std(),1)\n",
    "    desv_list.append(desv)\n",
    "  if max(desv_list)/sum(desv_list)>(sum(desv_list)/len(desv_list))/sum(desv_list)*1.2:\n",
    "    print(\"Se considera necesario Normalizar\")\n",
    "    normalizar=\"Si\"\n",
    "  else: print(\"No se considera necesario Normalizar\")\n",
    "  normalizar=\"No\"\n",
    "  return normalizar\n",
    "#must_normalize(boston_df, num_cols)"
   ]
  },
  {
   "cell_type": "code",
   "execution_count": 18,
   "metadata": {
    "id": "0VeLzuhRiyL5"
   },
   "outputs": [],
   "source": [
    "def joint_boxplot(df, num_attributes):\n",
    "  fig, ax = plt.subplots()\n",
    "  sns.set(rc={'figure.figsize':(24,16)})\n",
    "  sns.boxplot(data=df[num_attributes], orient=\"h\")\n",
    "\n",
    "\n",
    "# joint_boxplot(boston_df, num_cols)"
   ]
  },
  {
   "cell_type": "code",
   "execution_count": 19,
   "metadata": {
    "colab": {
     "base_uri": "https://localhost:8080/",
     "height": 282
    },
    "id": "RkBDYKAHowy4",
    "outputId": "4b98fce8-3e3d-4648-92e2-3969d0ce3f4c"
   },
   "outputs": [
    {
     "name": "stdout",
     "output_type": "stream",
     "text": [
      "Se considera necesario Normalizar\n"
     ]
    },
    {
     "data": {
      "image/png": "[encoded data removed]",
      "text/plain": [
       "<Figure size 432x288 with 1 Axes>"
      ]
     },
     "metadata": {
      "needs_background": "light"
     },
     "output_type": "display_data"
    }
   ],
   "source": [
    "def multivariate_analysis(df, label):\n",
    "\n",
    "  joint_boxplot(df, label)\n",
    "  normalizar=must_normalize(df, label)\n",
    "  return normalizar\n",
    "normalizar=multivariate_analysis(boston_df, num_cols)"
   ]
  },
  {
   "cell_type": "code",
   "execution_count": 20,
   "metadata": {
    "id": "fr71IfFt6Trv"
   },
   "outputs": [],
   "source": [
    "def dimensionality_reduction(components,label,df):\n",
    "    #while True:\n",
    "    #    components = int(input(\"Enter number of components (2 or 3):-\"))\n",
    "    #    if components < 2:\n",
    "    #        continue\n",
    "    #    elif components >3:\n",
    "    #        continue\n",
    "    #    else:\n",
    "    #        break\n",
    "    #label = str(input(\"Enter your label:-\"))\n",
    "    #df = str(input(\"Enter your dataset name:-\"))\n",
    "    if normalizar==\"Si\":\n",
    "        df1=StandardScaler().fit_transform(df[num_cols])\n",
    "        pca = PCA(n_components=components)\n",
    "        principalComponents = pca.fit_transform(df1)\n",
    "    else: \n",
    "        pca = PCA(n_components=components)\n",
    "        principalComponents = pca.fit_transform(df[num_cols])\n",
    "    if components==2:\n",
    "        finalDf = pd.DataFrame(data = principalComponents, columns = ['principal component 1', 'principal component 2'])\n",
    "        finalDf = pd.concat([finalDf, df[[label]]], axis = 1)\n",
    "        print(f\"el primer componente principal explica el ratio de varianza en: {round(pca.explained_variance_ratio_[0],2)*100}% y el segundo : {round(pca.explained_variance_ratio_[1],4)*100}%\")      \n",
    "    elif components==3: \n",
    "        finalDf = pd.DataFrame(data = principalComponents, columns = ['principal component 1', 'principal component 2', 'principal component 3'])\n",
    "        finalDf = pd.concat([finalDf, df[[label]]], axis = 1)\n",
    "        print(f\"el primer componente principal explica el ratio de varianza en: {round(pca.explained_variance_ratio_[0],2)*100}% y el segundo : {round(pca.explained_variance_ratio_[1],4)*100}% y el tercero : {round(pca.explained_variance_ratio_[2],4)*100}%\")\n",
    "        total_var = pca.explained_variance_ratio_.sum() * 100\n",
    "\n",
    "        fig = px.scatter_3d(\n",
    "            principalComponents, x=0, y=1, z=2, color=df[label],\n",
    "            title=f'Total Explained Variance: {total_var:.2f}%',\n",
    "            labels={'0': 'PC 1', '1': 'PC 2', '2': 'PC 3'}\n",
    "        )\n",
    "        fig.show()\n",
    "    fig = px.scatter(principalComponents, x=0, y=1, color=finalDf[label])\n",
    "    fig.show()"
   ]
  },
  {
   "cell_type": "code",
   "execution_count": 21,
   "metadata": {
    "colab": {
     "base_uri": "https://localhost:8080/",
     "height": 559
    },
    "id": "bM-15JV8Gzca",
    "outputId": "c4786f0d-290c-4f61-d385-cf3d8b6ecdb7"
   },
   "outputs": [
    {
     "name": "stdout",
     "output_type": "stream",
     "text": [
      "el primer componente principal explica el ratio de varianza en: 80.0% y el segundo : 16.27%\n"
     ]
    },
    {
     "data": {
      "application/vnd.plotly.v1+json": {
       "config": {
        "plotlyServerURL": "https://plot.ly"
       },
       "data": [
        {
         "hovertemplate": "color=low<br>0=%{x}<br>1=%{y}<extra></extra>",
         "legendgroup": "low",
         "marker": {
          "color": "#636efa",
          "symbol": "circle"
         },
         "mode": "markers",
         "name": "low",
         "orientation": "v",
         "showlegend": true,
         "type": "scatter",
         "x": [
          -119.81759621100123,
          -168.80933779931522,
          -169.5655710058926,
          -190.44464858369096,
          -190.41880069761632,
          -189.0445820699672,
          -108.35920607712677,
          -101.44190638305749,
          -108.41073565210412,
          -108.24465617406857,
          -103.51082248342156,
          -78.95043472014649,
          -105.84817537733896,
          -98.91248837266063,
          -104.635841346801,
          -105.46342491074049,
          -104.04512646785662,
          -104.59680209328339,
          -78.77758704440993,
          -99.89733792226427,
          -79.38264227421331,
          -102.86330201369381,
          -101.28940314009158,
          -94.41903930813973,
          -99.00642494919761,
          -58.17220557627826,
          -94.04036791838062,
          -61.669407617957404,
          -167.40931827645886,
          -168.06692957994775,
          -180.5523409500775,
          -179.59232289557696,
          -182.77661531159907,
          -178.36174361291512,
          -180.9973968939742,
          -180.96624179263964,
          -175.19867069331906,
          -175.25815674117644,
          -178.508917048043,
          -170.9806997914085,
          -169.18510528446836,
          -173.75282073140414,
          -173.61406813148537,
          40.97839372010896,
          -109.08766827092114,
          -195.2707402064968,
          -87.40021377544802,
          -86.0545083252466,
          -76.14802845236021,
          -74.82637260432233,
          -75.33281844398063,
          -111.12688129872576,
          -108.09921226448971,
          -113.10847087139715,
          -109.20762667347748,
          -136.8900882565514,
          -133.2850129932583,
          -136.88392203228625,
          -133.78170406848776,
          -166.71648732013458,
          -164.83736463550093,
          -166.58113382927817,
          -165.446956524856,
          -141.83495580326914,
          -143.65640578545108,
          -142.04590176883946,
          -141.79136749420294,
          -144.74133449583937,
          -147.28993400523368,
          -143.1944498396866,
          -127.29733455168136,
          -135.8800617221181,
          -137.42848730853407,
          -139.86302672845142,
          -138.37243459805944,
          -217.92712440120653,
          -213.33867967213214,
          -212.64466752339308,
          -209.78023884374957,
          -212.74160089241917,
          -215.13067033338177,
          -206.59678338471787,
          20.0306909541851,
          18.783767010629866,
          18.619174229996236,
          19.23741268758785,
          18.601585005803333,
          21.730960397149722,
          20.868024359515864,
          57.930428577628206,
          19.421369635366073,
          23.8204173069242,
          19.576554182824133,
          20.404247743530036,
          18.79178259542211,
          21.221137742060655,
          19.45502764689213,
          -217.60865711154256,
          -215.1446261892044,
          -217.16124398235328,
          -213.99368912415852,
          -214.3612088810849,
          -212.7823403646557,
          -213.5099321678257,
          -217.11055977601202,
          -154.8527938249667,
          -149.21840325992164,
          -164.09051115713834,
          -94.06360452934862,
          -81.27231443057286,
          -92.31873637069515,
          -26.946868519544665,
          -23.34719035871465,
          -74.51686287458581,
          -77.45000842326519,
          -193.52757538869878,
          -193.04727324567085,
          -140.09472357767908,
          -137.0220254056991,
          -133.5360438359896,
          -132.44161607134123,
          -133.2396375340148,
          -133.0229674255593,
          -133.67184818938807,
          -135.59694620669978,
          -136.20430735461505,
          -126.76417829363312,
          -137.55349556001877,
          -105.98973259415708,
          -107.6484335792624,
          -172.27975240473896,
          -187.37450488298686,
          -188.23597987018115,
          -193.05223813382224,
          -188.89308806446505,
          -188.55344808551132,
          -163.336158936445,
          -162.510746668471,
          -159.7285591704616,
          -162.78334977028715,
          -163.234132850342,
          -219.7362808781182,
          -136.62615163240736,
          -119.68073343619008,
          -161.20479964839745,
          -173.9884495940355,
          -174.22359590393913,
          -174.31772241187932,
          -129.04605841185275,
          -126.94915041377034,
          -128.15921802280175,
          -125.25370395850265,
          -125.47883296216472,
          -109.58330987524349,
          -109.68972657928825,
          -99.3696067309862,
          -112.0025315726069,
          -108.49913036441038,
          -108.43416635466765,
          -108.75165293144799,
          -109.52672950897579,
          -107.28393762314353,
          -110.1591517309759,
          -110.24861524389698,
          -111.14072043757088,
          9.503687007666835,
          10.74450139571175,
          14.039334983430745,
          -114.75490402167776,
          -106.09593157994847,
          -132.904363221696,
          2.4074215814406257,
          -63.54614123208592,
          -57.047069263957844,
          -72.1291709220803,
          -138.82703103016829,
          -84.34630588299939,
          -85.47311240638275,
          -7.209994609852347,
          -14.7462445590757,
          -85.62047095806263,
          -83.96950699718666,
          279.22743396976097,
          294.9038882884102,
          302.4424069247605,
          281.2264804604153,
          277.6940684868986,
          -138.64797226226418,
          -139.4083324991093,
          -138.3753664279876,
          -137.44500196677123,
          -138.87215155926998
         ],
         "xaxis": "x",
         "y": [
          -5.538989183668747,
          10.174459215097146,
          14.02169685233075,
          18.260113831527484,
          16.03145700003371,
          18.72879626249638,
          -8.773253696325865,
          7.266887188982906,
          -7.513822312721433,
          0.989242796497531,
          0.8812046932380128,
          94.56076402672275,
          -3.0913133792354386,
          10.594681065468622,
          -4.710593396140347,
          -8.832913832637631,
          -6.612640800303893,
          -6.410233670349801,
          80.56959594427643,
          10.276658646619904,
          77.71945806157062,
          -0.34742893149271675,
          7.037958988197155,
          26.31333438147963,
          10.377621233849979,
          148.37351628258014,
          27.61846421104183,
          133.22506975677345,
          8.772220285271812,
          8.766286120676588,
          24.14999366203092,
          26.096296073925963,
          15.5090803413923,
          20.208518281774936,
          13.084409636507097,
          13.104084421280469,
          16.841793669915184,
          12.897975795813938,
          12.958423213168915,
          11.410415812819997,
          12.801421086186947,
          10.174991483908828,
          10.2055069065279,
          -55.94447285020544,
          -10.277215338315216,
          21.325147908463457,
          -17.228919535519,
          -17.236162442805945,
          -18.993912581458602,
          -19.67118954578713,
          -19.705415623368662,
          4.663131685898016,
          11.133481276204023,
          -2.202885642071409,
          10.949637890666517,
          -1.0413171378224482,
          0.010288141622221058,
          -0.9975011651221937,
          4.926222349300222,
          8.871859000967953,
          13.181819312682132,
          9.789314361808353,
          10.502732841367445,
          1.9166655896483251,
          2.8078662159703667,
          6.571899787856324,
          5.219413435137705,
          3.8867021438984937,
          2.735235335730623,
          1.979215005663005,
          37.49926133363068,
          5.158437411925543,
          0.08113861988324299,
          3.476444543394095,
          0.2175294512988954,
          33.37134648310277,
          44.27942951635601,
          43.84735795852028,
          51.33416450004467,
          42.610517265179524,
          37.22190204141804,
          61.90420999854326,
          -42.41885993115016,
          -47.03996607066236,
          -46.96330395671409,
          -45.28885717298787,
          -47.06011047438494,
          -36.4514299853169,
          -39.17695861318842,
          81.24462604641111,
          -44.89469131600762,
          -29.165380904823618,
          -44.338087970206594,
          -42.31488547458036,
          -47.013946120203244,
          -38.49204951246224,
          -46.896510819378086,
          24.48410869779299,
          25.615435171776507,
          24.496609775070386,
          26.942332962889942,
          24.317784689922163,
          30.09325500695029,
          33.89888718953767,
          28.47760176727777,
          7.205105875369042,
          23.10573286237786,
          9.016555291878284,
          -15.034532002566875,
          25.722563892291863,
          -10.561739290119133,
          -36.30668323686899,
          -24.23536477730418,
          -17.532337593385144,
          -19.127975488614037,
          19.4919745773385,
          21.61268578553025,
          0.21778524259049117,
          1.9722717522366402,
          7.116158772164353,
          14.909847553606259,
          -0.12888992070711613,
          3.3553547512245565,
          1.5339592512460534,
          5.76861489022105,
          10.706464884496771,
          46.25046858010244,
          3.200851748859593,
          -6.987228850528426,
          -9.078944919571718,
          19.820477428104123,
          21.19611914328187,
          23.87268308182788,
          16.05781532472536,
          17.684528541985934,
          21.628688518987566,
          6.827301277145487,
          6.771765048770798,
          14.057815650903049,
          10.153671874399707,
          6.882464362122811,
          24.543038202991255,
          0.040118930851723154,
          -4.3565475749281735,
          63.76696173481067,
          9.57144526286522,
          9.496489856674234,
          9.610241506709093,
          -3.3064948663303717,
          -3.4125605323503456,
          -3.4330837558854586,
          0.3448971707114556,
          -3.4573630683852787,
          -8.059183049904961,
          -7.3428178921611424,
          36.723832316529275,
          -7.87402388170188,
          -7.460706959657166,
          -4.676655327520544,
          -6.911754518562214,
          -7.47589676264633,
          -2.012529914990699,
          -7.906716216400036,
          -6.325850870019651,
          -7.220329902586497,
          -30.6917652639247,
          -23.77478727280603,
          -17.476999618677727,
          -4.8158567524124845,
          25.540117471205313,
          0.07843764927199359,
          -35.6803557071806,
          -11.033812491342577,
          9.065699568285975,
          -17.09789974956756,
          5.087623386897586,
          -10.035234278031853,
          -16.798492913044015,
          -14.035734807374329,
          -34.478057834670096,
          -2.833756015231115,
          3.6077618875561432,
          -125.45427541158881,
          -76.58193444443275,
          -52.06253038576037,
          -120.71371156113712,
          -127.20301710711486,
          5.823610517971139,
          1.0982449096865339,
          0.9680679745804976,
          4.298162868894654,
          1.1449421241004154
         ],
         "yaxis": "y"
        },
        {
         "hovertemplate": "color=medium<br>0=%{x}<br>1=%{y}<extra></extra>",
         "legendgroup": "medium",
         "marker": {
          "color": "#EF553B",
          "symbol": "circle"
         },
         "mode": "markers",
         "name": "medium",
         "orientation": "v",
         "showlegend": true,
         "type": "scatter",
         "x": [
          -104.31151277385473,
          -102.1768746557602,
          -98.34047701544165,
          -99.9038505188552,
          -100.71380528433362,
          -103.20892911287642,
          -105.02782353831635,
          -134.37113605637626,
          -129.29588182310152,
          -136.68185053687864,
          -136.676538299137,
          -192.9174351607643,
          -162.3660029524721,
          -26.030104997611136,
          -19.247217122542654,
          -13.885011756431155,
          -20.217905031210737,
          -19.363886785750726,
          -23.653623591441725,
          -33.218359189206225,
          -34.19260744115126,
          61.82926906205389,
          -32.20208305058665,
          -31.51246990112635,
          -31.235524220080002,
          -32.05792032500418,
          -30.423516142335732,
          -31.655668793132385,
          -30.89244062393131,
          -34.75152121993934,
          12.45879835196744,
          13.83495920875548,
          13.50041638876134,
          14.791750190856238,
          28.015453971469746,
          12.449727565351882,
          12.953841512293124,
          28.51739096642238,
          12.448590592113462,
          -12.980593673496287,
          -13.023809718500477,
          -13.082403071812537,
          52.223288450309816,
          52.97458027242873,
          -11.82561992803038,
          -1.9862085991224814,
          -0.48269105695194375,
          -6.7393856809239265,
          2.5971236943633587,
          1.176933294575555,
          25.745176747530667,
          8.359268095795297,
          75.18118521267724,
          76.01287756121258,
          -4.741986719769414,
          -1.2651795986994823,
          -4.249716371608223,
          2.3819913022327843,
          -8.778902071359536,
          -12.565740281326713,
          -12.56614024421255,
          -13.770554439192939,
          31.36745042167322,
          -6.773301252390439,
          33.918116941928474,
          15.092972390272486,
          5.4699878398403365,
          16.571375297520618,
          0.47203910124096976,
          -116.58662158034709,
          -116.69216102338108,
          -117.27976612940527,
          -119.87284845556847,
          -119.0886098190522,
          -117.71021106997232,
          -116.48426146444183,
          -25.2385270873009,
          -23.02642798422006,
          -26.413867705888254,
          -22.34501529809294,
          -24.91394150550941,
          -25.709816025059848,
          -136.86019367105692,
          -134.64833867160516,
          -134.74217148256997,
          -134.15130397849074,
          -115.02200057121829,
          -114.27877969177614,
          -115.31733402028517,
          -115.32270518518854,
          -110.06069677724481,
          -114.57933438226459,
          -78.94998243802951,
          -84.20862167943558,
          -87.82511670255477,
          -79.91663675312272,
          -82.1338805761984,
          -90.42870821634082,
          -91.5122377196447,
          -86.32266763880905,
          -89.26299820438115,
          -92.60667083682512,
          -146.7907788946998,
          -143.4075246734857,
          -145.79349539762504,
          -147.60613702345648,
          -145.97225271348938,
          -145.53586787167785,
          -146.60650131594275,
          -145.45851013929013,
          -148.76890634204577,
          -144.62417807122972,
          -146.90394167576144,
          -149.72087317753463,
          -198.6917261373333,
          -193.4961462831374,
          -196.94015767377454,
          -191.7873073599222,
          -126.63795738467252,
          -125.40837603757728,
          -119.9953739326927,
          -58.45808828634824,
          -60.44760958995279,
          -62.79598233958536,
          -90.39617707543603,
          -88.83082193631968,
          -91.13406551178255,
          -191.7855706837305,
          -190.0231447170953,
          -190.0824669234833,
          -190.05982669968802,
          -128.25047754145353,
          -128.0724498263504,
          -128.34827871575922,
          -124.48784867059011,
          -129.32232684254157,
          -130.53164232027024,
          -130.21281402966883,
          -128.80371620758723,
          -187.22597312823757,
          -187.03978114799335,
          -189.53593008422675,
          -188.4621232401356,
          -186.7009234471673,
          -189.04874074347583,
          -188.5227885331194,
          -187.4296539339035,
          -51.63366530668308,
          -51.65052089727218,
          -225.29302443990557,
          -29.084710174087373,
          -30.067921896110718,
          -30.048482706505343,
          -27.239751165225442,
          -27.559726942366364,
          -28.102058560262453,
          -26.943933712813912,
          -26.754063842431968
         ],
         "xaxis": "x",
         "y": [
          -8.708266234298943,
          -10.116623099292996,
          -0.1634932051650996,
          -0.25537354961490666,
          -5.803536819073537,
          -10.003240670834261,
          -3.6456661193438427,
          -0.5909386905427524,
          17.938442487377028,
          -0.46253561240602215,
          2.8951222942043016,
          16.06684757238979,
          10.123767863192558,
          -33.26684235104631,
          -22.275891678993776,
          -13.264479341162643,
          -25.833769627002066,
          -25.334709082324107,
          -34.48387374010785,
          -29.43618115142181,
          -30.172693305357793,
          280.3432845925124,
          -29.10557788829274,
          -27.43268495163028,
          -28.74199687665575,
          -30.25048942669126,
          -22.617686309629416,
          -29.908704106765917,
          -26.017896026581518,
          -28.005232010801052,
          -44.250122088064614,
          -43.63232840094806,
          -45.50408690334471,
          -37.67625010259168,
          4.237755671741075,
          -41.983860226142106,
          -43.19051227867502,
          10.306628372101171,
          -40.19555028564843,
          -36.95041732683047,
          -36.96685794489541,
          -36.91308785184524,
          177.19334834364741,
          180.59112144252833,
          -31.965254771532717,
          1.2044480251644565,
          6.096510995055173,
          -14.050143451745825,
          15.774212732671522,
          14.264929439875342,
          91.95360721826835,
          35.50599836213256,
          258.3793701236252,
          257.7428580147377,
          -5.325251460577925,
          3.94220504190449,
          -6.004794532280876,
          18.266757418929135,
          -15.896036393898493,
          -30.447513762639222,
          -29.307734194505148,
          -35.36929310328373,
          112.73873290365655,
          -11.00692663459703,
          124.8324244813522,
          58.30664304376878,
          26.82527018839411,
          62.97285383988738,
          9.549595242969152,
          -5.673872659272163,
          -4.347555790812629,
          -2.0775504864925285,
          0.21046502141567486,
          -1.957484602742486,
          -4.407111012345852,
          -0.31615074711067853,
          -32.427590763223165,
          -21.80630399409145,
          -35.34460430757302,
          -16.8897362686193,
          -28.389168967800128,
          -29.17174687091142,
          4.227196925215675,
          4.011401306742665,
          0.13409386088238817,
          3.1072180183119382,
          10.243489592071107,
          5.94012676119713,
          -1.2354342566879595,
          -4.49643806125974,
          16.456900221378362,
          14.79164671266357,
          7.811345777277538,
          -8.035064508729677,
          -8.942063880588936,
          4.267278537624097,
          5.766517978919693,
          -12.2793407068743,
          -14.670599426296414,
          3.702146656333299,
          -4.952499784327369,
          -15.410893729866658,
          10.326763283283876,
          16.519726539646722,
          8.306213395572627,
          7.560317655304956,
          11.656710379229464,
          13.030436657815027,
          6.93160572966081,
          12.16625870562619,
          8.154001514999695,
          15.949944139746767,
          15.38661277383546,
          9.99393285366933,
          17.928780387759307,
          26.815521161270645,
          22.360257112524522,
          36.68032779505726,
          -4.469916842131049,
          -4.540596822195493,
          19.651206738092043,
          4.012779040545443,
          0.8184051048995051,
          -17.782553638308617,
          -13.966540755441855,
          -2.2781513237510165,
          -8.87562702726268,
          19.197047493585004,
          19.485469604669532,
          15.964305497046375,
          16.025204711154565,
          -2.906282453317555,
          -2.9133159709305425,
          -2.8585012790221733,
          2.558754194908126,
          -2.8525037023938378,
          0.36733897911942803,
          -2.7709329493730936,
          -2.8100582152265394,
          22.501436186620065,
          22.814921747062044,
          15.67077664751694,
          15.627786426354549,
          17.56361978973785,
          16.388314669394656,
          15.637013885671756,
          15.56252743978882,
          -27.13842692164572,
          -18.518860533729598,
          38.41065684226856,
          -33.32826538035052,
          -33.277296102416635,
          -29.71233490031074,
          -33.36346969053907,
          -33.37882131408383,
          -33.3814354607737,
          -32.30296333505978,
          -33.416367511236466
         ],
         "yaxis": "y"
        },
        {
         "hovertemplate": "color=high<br>0=%{x}<br>1=%{y}<extra></extra>",
         "legendgroup": "high",
         "marker": {
          "color": "#00cc96",
          "symbol": "circle"
         },
         "mode": "markers",
         "name": "high",
         "orientation": "v",
         "showlegend": true,
         "type": "scatter",
         "x": [
          -132.25463504044245,
          -132.40716201008604,
          -130.1840671902653,
          -122.84889678106907,
          -130.81020119496966,
          -132.47921692744615,
          -104.63188796504642,
          -105.02989071868274,
          -105.16388930050178,
          -106.91995579195653,
          -104.14153299606896,
          -102.97620282747474,
          -103.9734533499052,
          -99.84118692809714,
          -107.1293195605295,
          -107.1954718700228,
          -102.34387107002232,
          -101.30410271186223,
          -104.76797750057177,
          -103.12424418780385,
          -97.39888315113578,
          -102.44603436519455,
          -104.65552564668164,
          -105.8119110016643,
          242.75801073139118,
          237.90776219163337,
          236.0531029832584,
          237.24689157168095,
          242.35297730883207,
          249.8323936886521,
          241.36569832177187,
          249.0646485008977,
          247.7445031101876,
          248.05781631656657,
          259.88354272396265,
          314.60151296322573,
          242.35465103379448,
          242.17352755311092,
          237.3719930158888,
          245.3535174984204,
          249.76094810706493,
          237.95997327595748,
          238.2510792748203,
          237.5092282766341,
          247.11668030825157,
          237.5206662135485,
          237.7698641870938,
          238.8687841447042,
          239.24322209498231,
          237.7798410445405,
          237.70765342095288,
          237.66950377002786,
          269.85942217766205,
          238.04364334866253,
          238.2827822994274,
          237.5155795003956,
          245.03080955130253,
          237.51628219584742,
          237.86228031286538,
          241.10321184255852,
          237.614738496086,
          236.81334279377566,
          237.18268945052466,
          238.82931501635275,
          237.14659792038307,
          238.6641307202231,
          238.88402884005154,
          253.2501241191258,
          238.3899444465066,
          237.88401177239604,
          243.67581536990642,
          237.818595885377,
          257.2290822962479,
          243.04938116394283,
          245.79694932957463,
          255.97446964422724,
          261.34632048195726,
          300.7019068246928,
          353.3439750514704,
          343.00605294362146,
          345.25453883347757,
          292.208288781165,
          329.0620795094784,
          345.8287511131273,
          346.4179919863337,
          315.8631320530992,
          350.3641662419506,
          337.3309929981321,
          260.18106017079214,
          259.39056645340816,
          266.9666024449058,
          351.1687691836737,
          349.58106643846406,
          350.9422599162773,
          342.6606243521659,
          346.6474848839197,
          323.1819953290368,
          335.2852453135933,
          327.5714113780245,
          328.97697706866785,
          322.1735823913645,
          322.73311051521847,
          323.4860239156799,
          320.83002314376773,
          344.7762505811775,
          350.8662194718105,
          332.6298317956305,
          237.1469881636176,
          239.01981800374298,
          240.42876041184462,
          237.61106808499204,
          240.47431802454216,
          283.07808481905613,
          340.3383557746802,
          260.06310557896046,
          239.6825137167578,
          237.4007927766781,
          264.35907089835234,
          352.28984712491206,
          249.3225039817491,
          240.06670707070944,
          243.41370803888074,
          350.63508029222,
          336.9860815840718,
          348.93153508684054,
          350.36258471698886,
          272.3392854612392,
          235.8985397454465,
          277.69104323737787,
          237.7929684447425,
          235.7732433027637,
          237.11921593603225,
          234.26840642816185,
          250.950506755758,
          345.07501708369557,
          255.95381014426383,
          243.33502605193368,
          233.764184381429,
          235.83007445558968,
          236.76707751381304,
          235.95439768515757,
          240.58046645923963,
          250.0000568241151,
          264.775248029051,
          236.9901640664988,
          251.46943212321435,
          242.25373305025136,
          240.30701617077617,
          234.04992069298956,
          235.9280523481917,
          235.41002557926356,
          233.09952789549186,
          239.7816939167817,
          235.36585778233575,
          236.73396508549183,
          235.66636716330697
         ],
         "xaxis": "x",
         "y": [
          4.066258010244387,
          -1.9371943340405011,
          -0.30288345178171144,
          15.855418501732172,
          -2.0915539068335356,
          -0.6988696938116706,
          -4.01911344918614,
          -7.306965278137707,
          -2.7091108997738664,
          -8.98726335565068,
          2.20463535107226,
          5.052294603451829,
          -0.011364017473466029,
          14.725590376829077,
          9.744001289065821,
          7.1473560712246975,
          8.894100970140942,
          10.854331837981796,
          1.4307028054640187,
          8.04987186001254,
          26.19276968365092,
          10.4581983695688,
          -0.8290312613885642,
          -2.434166192745497,
          -95.80542681670029,
          -108.87461353002269,
          -112.75186664692256,
          -108.25446009328896,
          -92.87114490146024,
          -69.95202138002914,
          -98.82927101691789,
          -72.19285196853036,
          -73.70506777289505,
          -73.91050884119635,
          -36.87537238313541,
          139.62415203256035,
          -94.10321174609952,
          -93.89494659909394,
          -109.88283439320476,
          -85.07925077005714,
          -67.56331938208156,
          -113.99935865766741,
          -113.93177992948412,
          -114.06419837531429,
          -81.60920351943471,
          -114.0744605395125,
          -113.95159425666773,
          -110.976140980239,
          -113.50486096630851,
          -114.01554204338233,
          -114.05452585045758,
          -114.06578819641993,
          -7.679906249727894,
          -113.91489037761593,
          -113.9192097645986,
          -113.82233542412807,
          -91.04367665653957,
          -114.07290117236904,
          -111.76191586803407,
          -96.40762945075217,
          -113.99539177529796,
          -114.08674959636674,
          -114.05078777950654,
          -109.40016695901734,
          -114.08868697670033,
          -110.4218512522185,
          -113.76375793975741,
          -57.68315579589672,
          -113.87976379812702,
          -114.00333521043667,
          -94.20118482570746,
          -113.92332385098229,
          -49.23240375018054,
          -102.20485383704317,
          -88.47744859639648,
          -52.28741034094418,
          -35.4450536654079,
          93.79641628298485,
          263.0880745283238,
          231.86200288589444,
          237.94809399394882,
          63.77047372701682,
          181.37296034314812,
          239.48007920046533,
          244.89303819372682,
          143.84076710426152,
          250.11211926943813,
          219.256455016399,
          -39.42303608892399,
          -40.57343395663453,
          -13.383102859404392,
          263.04629143604654,
          262.03937213819216,
          258.16454239693263,
          242.05204582976148,
          247.6743481382364,
          173.0289496833184,
          207.39835513254567,
          185.63399596138555,
          187.64026287508392,
          171.7751769462334,
          169.5935686379574,
          169.20485401765154,
          160.4060072526468,
          239.17931981362955,
          256.57438049658026,
          199.669978022082,
          -114.03577410248363,
          -108.71630953577518,
          -103.6502162095248,
          -113.02426076077296,
          -104.38955885706129,
          35.50308951278514,
          224.2749038924536,
          -38.69502846937531,
          -106.07106078699286,
          -114.10221406831074,
          -25.478288083954833,
          265.0710960075226,
          -74.3555639825447,
          -102.82276730848655,
          -94.04722004322575,
          258.994836895866,
          216.71393126365078,
          255.38574478867199,
          262.1068155475288,
          5.16567976193089,
          -114.10964313032954,
          21.33199373814393,
          -108.90340110555296,
          -114.10225788858062,
          -111.23000657768158,
          -114.01540835551246,
          -54.17663043403246,
          244.30822786387614,
          -51.40972384553128,
          -87.02435902716883,
          -113.91075626220231,
          -114.11346860853838,
          -112.66981564708209,
          -110.7328963680292,
          -92.88882735480598,
          -71.7169234367898,
          -24.069373097585963,
          -113.46291756881067,
          -68.66242792084155,
          -97.64563283959151,
          -101.11844637994224,
          -114.05323614069023,
          -110.47381685933759,
          -112.61409926725946,
          -110.12046698269693,
          -88.89010708224443,
          -106.06334265836428,
          -110.04640366823486,
          -105.67065712139409
         ],
         "yaxis": "y"
        }
       ],
       "layout": {
        "legend": {
         "title": {
          "text": "color"
         },
         "tracegroupgap": 0
        },
        "margin": {
         "t": 60
        },
        "template": {
         "data": {
          "bar": [
           {
            "error_x": {
             "color": "#2a3f5f"
            },
            "error_y": {
             "color": "#2a3f5f"
            },
            "marker": {
             "line": {
              "color": "#E5ECF6",
              "width": 0.5
             }
            },
            "type": "bar"
           }
          ],
          "barpolar": [
           {
            "marker": {
             "line": {
              "color": "#E5ECF6",
              "width": 0.5
             }
            },
            "type": "barpolar"
           }
          ],
          "carpet": [
           {
            "aaxis": {
             "endlinecolor": "#2a3f5f",
             "gridcolor": "white",
             "linecolor": "white",
             "minorgridcolor": "white",
             "startlinecolor": "#2a3f5f"
            },
            "baxis": {
             "endlinecolor": "#2a3f5f",
             "gridcolor": "white",
             "linecolor": "white",
             "minorgridcolor": "white",
             "startlinecolor": "#2a3f5f"
            },
            "type": "carpet"
           }
          ],
          "choropleth": [
           {
            "colorbar": {
             "outlinewidth": 0,
             "ticks": ""
            },
            "type": "choropleth"
           }
          ],
          "contour": [
           {
            "colorbar": {
             "outlinewidth": 0,
             "ticks": ""
            },
            "colorscale": [
             [
              0,
              "#0d0887"
             ],
             [
              0.1111111111111111,
              "#46039f"
             ],
             [
              0.2222222222222222,
              "#7201a8"
             ],
             [
              0.3333333333333333,
              "#9c179e"
             ],
             [
              0.4444444444444444,
              "#bd3786"
             ],
             [
              0.5555555555555556,
              "#d8576b"
             ],
             [
              0.6666666666666666,
              "#ed7953"
             ],
             [
              0.7777777777777778,
              "#fb9f3a"
             ],
             [
              0.8888888888888888,
              "#fdca26"
             ],
             [
              1,
              "#f0f921"
             ]
            ],
            "type": "contour"
           }
          ],
          "contourcarpet": [
           {
            "colorbar": {
             "outlinewidth": 0,
             "ticks": ""
            },
            "type": "contourcarpet"
           }
          ],
          "heatmap": [
           {
            "colorbar": {
             "outlinewidth": 0,
             "ticks": ""
            },
            "colorscale": [
             [
              0,
              "#0d0887"
             ],
             [
              0.1111111111111111,
              "#46039f"
             ],
             [
              0.2222222222222222,
              "#7201a8"
             ],
             [
              0.3333333333333333,
              "#9c179e"
             ],
             [
              0.4444444444444444,
              "#bd3786"
             ],
             [
              0.5555555555555556,
              "#d8576b"
             ],
             [
              0.6666666666666666,
              "#ed7953"
             ],
             [
              0.7777777777777778,
              "#fb9f3a"
             ],
             [
              0.8888888888888888,
              "#fdca26"
             ],
             [
              1,
              "#f0f921"
             ]
            ],
            "type": "heatmap"
           }
          ],
          "heatmapgl": [
           {
            "colorbar": {
             "outlinewidth": 0,
             "ticks": ""
            },
            "colorscale": [
             [
              0,
              "#0d0887"
             ],
             [
              0.1111111111111111,
              "#46039f"
             ],
             [
              0.2222222222222222,
              "#7201a8"
             ],
             [
              0.3333333333333333,
              "#9c179e"
             ],
             [
              0.4444444444444444,
              "#bd3786"
             ],
             [
              0.5555555555555556,
              "#d8576b"
             ],
             [
              0.6666666666666666,
              "#ed7953"
             ],
             [
              0.7777777777777778,
              "#fb9f3a"
             ],
             [
              0.8888888888888888,
              "#fdca26"
             ],
             [
              1,
              "#f0f921"
             ]
            ],
            "type": "heatmapgl"
           }
          ],
          "histogram": [
           {
            "marker": {
             "colorbar": {
              "outlinewidth": 0,
              "ticks": ""
             }
            },
            "type": "histogram"
           }
          ],
          "histogram2d": [
           {
            "colorbar": {
             "outlinewidth": 0,
             "ticks": ""
            },
            "colorscale": [
             [
              0,
              "#0d0887"
             ],
             [
              0.1111111111111111,
              "#46039f"
             ],
             [
              0.2222222222222222,
              "#7201a8"
             ],
             [
              0.3333333333333333,
              "#9c179e"
             ],
             [
              0.4444444444444444,
              "#bd3786"
             ],
             [
              0.5555555555555556,
              "#d8576b"
             ],
             [
              0.6666666666666666,
              "#ed7953"
             ],
             [
              0.7777777777777778,
              "#fb9f3a"
             ],
             [
              0.8888888888888888,
              "#fdca26"
             ],
             [
              1,
              "#f0f921"
             ]
            ],
            "type": "histogram2d"
           }
          ],
          "histogram2dcontour": [
           {
            "colorbar": {
             "outlinewidth": 0,
             "ticks": ""
            },
            "colorscale": [
             [
              0,
              "#0d0887"
             ],
             [
              0.1111111111111111,
              "#46039f"
             ],
             [
              0.2222222222222222,
              "#7201a8"
             ],
             [
              0.3333333333333333,
              "#9c179e"
             ],
             [
              0.4444444444444444,
              "#bd3786"
             ],
             [
              0.5555555555555556,
              "#d8576b"
             ],
             [
              0.6666666666666666,
              "#ed7953"
             ],
             [
              0.7777777777777778,
              "#fb9f3a"
             ],
             [
              0.8888888888888888,
              "#fdca26"
             ],
             [
              1,
              "#f0f921"
             ]
            ],
            "type": "histogram2dcontour"
           }
          ],
          "mesh3d": [
           {
            "colorbar": {
             "outlinewidth": 0,
             "ticks": ""
            },
            "type": "mesh3d"
           }
          ],
          "parcoords": [
           {
            "line": {
             "colorbar": {
              "outlinewidth": 0,
              "ticks": ""
             }
            },
            "type": "parcoords"
           }
          ],
          "pie": [
           {
            "automargin": true,
            "type": "pie"
           }
          ],
          "scatter": [
           {
            "marker": {
             "colorbar": {
              "outlinewidth": 0,
              "ticks": ""
             }
            },
            "type": "scatter"
           }
          ],
          "scatter3d": [
           {
            "line": {
             "colorbar": {
              "outlinewidth": 0,
              "ticks": ""
             }
            },
            "marker": {
             "colorbar": {
              "outlinewidth": 0,
              "ticks": ""
             }
            },
            "type": "scatter3d"
           }
          ],
          "scattercarpet": [
           {
            "marker": {
             "colorbar": {
              "outlinewidth": 0,
              "ticks": ""
             }
            },
            "type": "scattercarpet"
           }
          ],
          "scattergeo": [
           {
            "marker": {
             "colorbar": {
              "outlinewidth": 0,
              "ticks": ""
             }
            },
            "type": "scattergeo"
           }
          ],
          "scattergl": [
           {
            "marker": {
             "colorbar": {
              "outlinewidth": 0,
              "ticks": ""
             }
            },
            "type": "scattergl"
           }
          ],
          "scattermapbox": [
           {
            "marker": {
             "colorbar": {
              "outlinewidth": 0,
              "ticks": ""
             }
            },
            "type": "scattermapbox"
           }
          ],
          "scatterpolar": [
           {
            "marker": {
             "colorbar": {
              "outlinewidth": 0,
              "ticks": ""
             }
            },
            "type": "scatterpolar"
           }
          ],
          "scatterpolargl": [
           {
            "marker": {
             "colorbar": {
              "outlinewidth": 0,
              "ticks": ""
             }
            },
            "type": "scatterpolargl"
           }
          ],
          "scatterternary": [
           {
            "marker": {
             "colorbar": {
              "outlinewidth": 0,
              "ticks": ""
             }
            },
            "type": "scatterternary"
           }
          ],
          "surface": [
           {
            "colorbar": {
             "outlinewidth": 0,
             "ticks": ""
            },
            "colorscale": [
             [
              0,
              "#0d0887"
             ],
             [
              0.1111111111111111,
              "#46039f"
             ],
             [
              0.2222222222222222,
              "#7201a8"
             ],
             [
              0.3333333333333333,
              "#9c179e"
             ],
             [
              0.4444444444444444,
              "#bd3786"
             ],
             [
              0.5555555555555556,
              "#d8576b"
             ],
             [
              0.6666666666666666,
              "#ed7953"
             ],
             [
              0.7777777777777778,
              "#fb9f3a"
             ],
             [
              0.8888888888888888,
              "#fdca26"
             ],
             [
              1,
              "#f0f921"
             ]
            ],
            "type": "surface"
           }
          ],
          "table": [
           {
            "cells": {
             "fill": {
              "color": "#EBF0F8"
             },
             "line": {
              "color": "white"
             }
            },
            "header": {
             "fill": {
              "color": "#C8D4E3"
             },
             "line": {
              "color": "white"
             }
            },
            "type": "table"
           }
          ]
         },
         "layout": {
          "annotationdefaults": {
           "arrowcolor": "#2a3f5f",
           "arrowhead": 0,
           "arrowwidth": 1
          },
          "autotypenumbers": "strict",
          "coloraxis": {
           "colorbar": {
            "outlinewidth": 0,
            "ticks": ""
           }
          },
          "colorscale": {
           "diverging": [
            [
             0,
             "#8e0152"
            ],
            [
             0.1,
             "#c51b7d"
            ],
            [
             0.2,
             "#de77ae"
            ],
            [
             0.3,
             "#f1b6da"
            ],
            [
             0.4,
             "#fde0ef"
            ],
            [
             0.5,
             "#f7f7f7"
            ],
            [
             0.6,
             "#e6f5d0"
            ],
            [
             0.7,
             "#b8e186"
            ],
            [
             0.8,
             "#7fbc41"
            ],
            [
             0.9,
             "#4d9221"
            ],
            [
             1,
             "#276419"
            ]
           ],
           "sequential": [
            [
             0,
             "#0d0887"
            ],
            [
             0.1111111111111111,
             "#46039f"
            ],
            [
             0.2222222222222222,
             "#7201a8"
            ],
            [
             0.3333333333333333,
             "#9c179e"
            ],
            [
             0.4444444444444444,
             "#bd3786"
            ],
            [
             0.5555555555555556,
             "#d8576b"
            ],
            [
             0.6666666666666666,
             "#ed7953"
            ],
            [
             0.7777777777777778,
             "#fb9f3a"
            ],
            [
             0.8888888888888888,
             "#fdca26"
            ],
            [
             1,
             "#f0f921"
            ]
           ],
           "sequentialminus": [
            [
             0,
             "#0d0887"
            ],
            [
             0.1111111111111111,
             "#46039f"
            ],
            [
             0.2222222222222222,
             "#7201a8"
            ],
            [
             0.3333333333333333,
             "#9c179e"
            ],
            [
             0.4444444444444444,
             "#bd3786"
            ],
            [
             0.5555555555555556,
             "#d8576b"
            ],
            [
             0.6666666666666666,
             "#ed7953"
            ],
            [
             0.7777777777777778,
             "#fb9f3a"
            ],
            [
             0.8888888888888888,
             "#fdca26"
            ],
            [
             1,
             "#f0f921"
            ]
           ]
          },
          "colorway": [
           "#636efa",
           "#EF553B",
           "#00cc96",
           "#ab63fa",
           "#FFA15A",
           "#19d3f3",
           "#FF6692",
           "#B6E880",
           "#FF97FF",
           "#FECB52"
          ],
          "font": {
           "color": "#2a3f5f"
          },
          "geo": {
           "bgcolor": "white",
           "lakecolor": "white",
           "landcolor": "#E5ECF6",
           "showlakes": true,
           "showland": true,
           "subunitcolor": "white"
          },
          "hoverlabel": {
           "align": "left"
          },
          "hovermode": "closest",
          "mapbox": {
           "style": "light"
          },
          "paper_bgcolor": "white",
          "plot_bgcolor": "#E5ECF6",
          "polar": {
           "angularaxis": {
            "gridcolor": "white",
            "linecolor": "white",
            "ticks": ""
           },
           "bgcolor": "#E5ECF6",
           "radialaxis": {
            "gridcolor": "white",
            "linecolor": "white",
            "ticks": ""
           }
          },
          "scene": {
           "xaxis": {
            "backgroundcolor": "#E5ECF6",
            "gridcolor": "white",
            "gridwidth": 2,
            "linecolor": "white",
            "showbackground": true,
            "ticks": "",
            "zerolinecolor": "white"
           },
           "yaxis": {
            "backgroundcolor": "#E5ECF6",
            "gridcolor": "white",
            "gridwidth": 2,
            "linecolor": "white",
            "showbackground": true,
            "ticks": "",
            "zerolinecolor": "white"
           },
           "zaxis": {
            "backgroundcolor": "#E5ECF6",
            "gridcolor": "white",
            "gridwidth": 2,
            "linecolor": "white",
            "showbackground": true,
            "ticks": "",
            "zerolinecolor": "white"
           }
          },
          "shapedefaults": {
           "line": {
            "color": "#2a3f5f"
           }
          },
          "ternary": {
           "aaxis": {
            "gridcolor": "white",
            "linecolor": "white",
            "ticks": ""
           },
           "baxis": {
            "gridcolor": "white",
            "linecolor": "white",
            "ticks": ""
           },
           "bgcolor": "#E5ECF6",
           "caxis": {
            "gridcolor": "white",
            "linecolor": "white",
            "ticks": ""
           }
          },
          "title": {
           "x": 0.05
          },
          "xaxis": {
           "automargin": true,
           "gridcolor": "white",
           "linecolor": "white",
           "ticks": "",
           "title": {
            "standoff": 15
           },
           "zerolinecolor": "white",
           "zerolinewidth": 2
          },
          "yaxis": {
           "automargin": true,
           "gridcolor": "white",
           "linecolor": "white",
           "ticks": "",
           "title": {
            "standoff": 15
           },
           "zerolinecolor": "white",
           "zerolinewidth": 2
          }
         }
        },
        "xaxis": {
         "anchor": "y",
         "domain": [
          0,
          1
         ],
         "title": {
          "text": "0"
         }
        },
        "yaxis": {
         "anchor": "x",
         "domain": [
          0,
          1
         ],
         "title": {
          "text": "1"
         }
        }
       }
      },
      "text/html": [
       "<div>                            <div id=\"b668763f-c6a0-4a88-9947-eeeb793ec3c7\" class=\"plotly-graph-div\" style=\"height:525px; width:100%;\"></div>            <script type=\"text/javascript\">                require([\"plotly\"], function(Plotly) {                    window.PLOTLYENV=window.PLOTLYENV || {};                                    if (document.getElementById(\"b668763f-c6a0-4a88-9947-eeeb793ec3c7\")) {                    Plotly.newPlot(                        \"b668763f-c6a0-4a88-9947-eeeb793ec3c7\",                        [{\"hovertemplate\": \"color=low<br>0=%{x}<br>1=%{y}<extra></extra>\", \"legendgroup\": \"low\", \"marker\": {\"color\": \"#636efa\", \"symbol\": \"circle\"}, \"mode\": \"markers\", \"name\": \"low\", \"orientation\": \"v\", \"showlegend\": true, \"type\": \"scatter\", \"x\": [-119.81759621100123, -168.80933779931522, -169.5655710058926, -190.44464858369096, -190.41880069761632, -189.0445820699672, -108.35920607712677, -101.44190638305749, -108.41073565210412, -108.24465617406857, -103.51082248342156, -78.95043472014649, -105.84817537733896, -98.91248837266063, -104.635841346801, -105.46342491074049, -104.04512646785662, -104.59680209328339, -78.77758704440993, -99.89733792226427, -79.38264227421331, -102.86330201369381, -101.28940314009158, -94.41903930813973, -99.00642494919761, -58.17220557627826, -94.04036791838062, -61.669407617957404, -167.40931827645886, -168.06692957994775, -180.5523409500775, -179.59232289557696, -182.77661531159907, -178.36174361291512, -180.9973968939742, -180.96624179263964, -175.19867069331906, -175.25815674117644, -178.508917048043, -170.9806997914085, -169.18510528446836, -173.75282073140414, -173.61406813148537, 40.97839372010896, -109.08766827092114, -195.2707402064968, -87.40021377544802, -86.0545083252466, -76.14802845236021, -74.82637260432233, -75.33281844398063, -111.12688129872576, -108.09921226448971, -113.10847087139715, -109.20762667347748, -136.8900882565514, -133.2850129932583, -136.88392203228625, -133.78170406848776, -166.71648732013458, -164.83736463550093, -166.58113382927817, -165.446956524856, -141.83495580326914, -143.65640578545108, -142.04590176883946, -141.79136749420294, -144.74133449583937, -147.28993400523368, -143.1944498396866, -127.29733455168136, -135.8800617221181, -137.42848730853407, -139.86302672845142, -138.37243459805944, -217.92712440120653, -213.33867967213214, -212.64466752339308, -209.78023884374957, -212.74160089241917, -215.13067033338177, -206.59678338471787, 20.0306909541851, 18.783767010629866, 18.619174229996236, 19.23741268758785, 18.601585005803333, 21.730960397149722, 20.868024359515864, 57.930428577628206, 19.421369635366073, 23.8204173069242, 19.576554182824133, 20.404247743530036, 18.79178259542211, 21.221137742060655, 19.45502764689213, -217.60865711154256, -215.1446261892044, -217.16124398235328, -213.99368912415852, -214.3612088810849, -212.7823403646557, -213.5099321678257, -217.11055977601202, -154.8527938249667, -149.21840325992164, -164.09051115713834, -94.06360452934862, -81.27231443057286, -92.31873637069515, -26.946868519544665, -23.34719035871465, -74.51686287458581, -77.45000842326519, -193.52757538869878, -193.04727324567085, -140.09472357767908, -137.0220254056991, -133.5360438359896, -132.44161607134123, -133.2396375340148, -133.0229674255593, -133.67184818938807, -135.59694620669978, -136.20430735461505, -126.76417829363312, -137.55349556001877, -105.98973259415708, -107.6484335792624, -172.27975240473896, -187.37450488298686, -188.23597987018115, -193.05223813382224, -188.89308806446505, -188.55344808551132, -163.336158936445, -162.510746668471, -159.7285591704616, -162.78334977028715, -163.234132850342, -219.7362808781182, -136.62615163240736, -119.68073343619008, -161.20479964839745, -173.9884495940355, -174.22359590393913, -174.31772241187932, -129.04605841185275, -126.94915041377034, -128.15921802280175, -125.25370395850265, -125.47883296216472, -109.58330987524349, -109.68972657928825, -99.3696067309862, -112.0025315726069, -108.49913036441038, -108.43416635466765, -108.75165293144799, -109.52672950897579, -107.28393762314353, -110.1591517309759, -110.24861524389698, -111.14072043757088, 9.503687007666835, 10.74450139571175, 14.039334983430745, -114.75490402167776, -106.09593157994847, -132.904363221696, 2.4074215814406257, -63.54614123208592, -57.047069263957844, -72.1291709220803, -138.82703103016829, -84.34630588299939, -85.47311240638275, -7.209994609852347, -14.7462445590757, -85.62047095806263, -83.96950699718666, 279.22743396976097, 294.9038882884102, 302.4424069247605, 281.2264804604153, 277.6940684868986, -138.64797226226418, -139.4083324991093, -138.3753664279876, -137.44500196677123, -138.87215155926998], \"xaxis\": \"x\", \"y\": [-5.538989183668747, 10.174459215097146, 14.02169685233075, 18.260113831527484, 16.03145700003371, 18.72879626249638, -8.773253696325865, 7.266887188982906, -7.513822312721433, 0.989242796497531, 0.8812046932380128, 94.56076402672275, -3.0913133792354386, 10.594681065468622, -4.710593396140347, -8.832913832637631, -6.612640800303893, -6.410233670349801, 80.56959594427643, 10.276658646619904, 77.71945806157062, -0.34742893149271675, 7.037958988197155, 26.31333438147963, 10.377621233849979, 148.37351628258014, 27.61846421104183, 133.22506975677345, 8.772220285271812, 8.766286120676588, 24.14999366203092, 26.096296073925963, 15.5090803413923, 20.208518281774936, 13.084409636507097, 13.104084421280469, 16.841793669915184, 12.897975795813938, 12.958423213168915, 11.410415812819997, 12.801421086186947, 10.174991483908828, 10.2055069065279, -55.94447285020544, -10.277215338315216, 21.325147908463457, -17.228919535519, -17.236162442805945, -18.993912581458602, -19.67118954578713, -19.705415623368662, 4.663131685898016, 11.133481276204023, -2.202885642071409, 10.949637890666517, -1.0413171378224482, 0.010288141622221058, -0.9975011651221937, 4.926222349300222, 8.871859000967953, 13.181819312682132, 9.789314361808353, 10.502732841367445, 1.9166655896483251, 2.8078662159703667, 6.571899787856324, 5.219413435137705, 3.8867021438984937, 2.735235335730623, 1.979215005663005, 37.49926133363068, 5.158437411925543, 0.08113861988324299, 3.476444543394095, 0.2175294512988954, 33.37134648310277, 44.27942951635601, 43.84735795852028, 51.33416450004467, 42.610517265179524, 37.22190204141804, 61.90420999854326, -42.41885993115016, -47.03996607066236, -46.96330395671409, -45.28885717298787, -47.06011047438494, -36.4514299853169, -39.17695861318842, 81.24462604641111, -44.89469131600762, -29.165380904823618, -44.338087970206594, -42.31488547458036, -47.013946120203244, -38.49204951246224, -46.896510819378086, 24.48410869779299, 25.615435171776507, 24.496609775070386, 26.942332962889942, 24.317784689922163, 30.09325500695029, 33.89888718953767, 28.47760176727777, 7.205105875369042, 23.10573286237786, 9.016555291878284, -15.034532002566875, 25.722563892291863, -10.561739290119133, -36.30668323686899, -24.23536477730418, -17.532337593385144, -19.127975488614037, 19.4919745773385, 21.61268578553025, 0.21778524259049117, 1.9722717522366402, 7.116158772164353, 14.909847553606259, -0.12888992070711613, 3.3553547512245565, 1.5339592512460534, 5.76861489022105, 10.706464884496771, 46.25046858010244, 3.200851748859593, -6.987228850528426, -9.078944919571718, 19.820477428104123, 21.19611914328187, 23.87268308182788, 16.05781532472536, 17.684528541985934, 21.628688518987566, 6.827301277145487, 6.771765048770798, 14.057815650903049, 10.153671874399707, 6.882464362122811, 24.543038202991255, 0.040118930851723154, -4.3565475749281735, 63.76696173481067, 9.57144526286522, 9.496489856674234, 9.610241506709093, -3.3064948663303717, -3.4125605323503456, -3.4330837558854586, 0.3448971707114556, -3.4573630683852787, -8.059183049904961, -7.3428178921611424, 36.723832316529275, -7.87402388170188, -7.460706959657166, -4.676655327520544, -6.911754518562214, -7.47589676264633, -2.012529914990699, -7.906716216400036, -6.325850870019651, -7.220329902586497, -30.6917652639247, -23.77478727280603, -17.476999618677727, -4.8158567524124845, 25.540117471205313, 0.07843764927199359, -35.6803557071806, -11.033812491342577, 9.065699568285975, -17.09789974956756, 5.087623386897586, -10.035234278031853, -16.798492913044015, -14.035734807374329, -34.478057834670096, -2.833756015231115, 3.6077618875561432, -125.45427541158881, -76.58193444443275, -52.06253038576037, -120.71371156113712, -127.20301710711486, 5.823610517971139, 1.0982449096865339, 0.9680679745804976, 4.298162868894654, 1.1449421241004154], \"yaxis\": \"y\"}, {\"hovertemplate\": \"color=medium<br>0=%{x}<br>1=%{y}<extra></extra>\", \"legendgroup\": \"medium\", \"marker\": {\"color\": \"#EF553B\", \"symbol\": \"circle\"}, \"mode\": \"markers\", \"name\": \"medium\", \"orientation\": \"v\", \"showlegend\": true, \"type\": \"scatter\", \"x\": [-104.31151277385473, -102.1768746557602, -98.34047701544165, -99.9038505188552, -100.71380528433362, -103.20892911287642, -105.02782353831635, -134.37113605637626, -129.29588182310152, -136.68185053687864, -136.676538299137, -192.9174351607643, -162.3660029524721, -26.030104997611136, -19.247217122542654, -13.885011756431155, -20.217905031210737, -19.363886785750726, -23.653623591441725, -33.218359189206225, -34.19260744115126, 61.82926906205389, -32.20208305058665, -31.51246990112635, -31.235524220080002, -32.05792032500418, -30.423516142335732, -31.655668793132385, -30.89244062393131, -34.75152121993934, 12.45879835196744, 13.83495920875548, 13.50041638876134, 14.791750190856238, 28.015453971469746, 12.449727565351882, 12.953841512293124, 28.51739096642238, 12.448590592113462, -12.980593673496287, -13.023809718500477, -13.082403071812537, 52.223288450309816, 52.97458027242873, -11.82561992803038, -1.9862085991224814, -0.48269105695194375, -6.7393856809239265, 2.5971236943633587, 1.176933294575555, 25.745176747530667, 8.359268095795297, 75.18118521267724, 76.01287756121258, -4.741986719769414, -1.2651795986994823, -4.249716371608223, 2.3819913022327843, -8.778902071359536, -12.565740281326713, -12.56614024421255, -13.770554439192939, 31.36745042167322, -6.773301252390439, 33.918116941928474, 15.092972390272486, 5.4699878398403365, 16.571375297520618, 0.47203910124096976, -116.58662158034709, -116.69216102338108, -117.27976612940527, -119.87284845556847, -119.0886098190522, -117.71021106997232, -116.48426146444183, -25.2385270873009, -23.02642798422006, -26.413867705888254, -22.34501529809294, -24.91394150550941, -25.709816025059848, -136.86019367105692, -134.64833867160516, -134.74217148256997, -134.15130397849074, -115.02200057121829, -114.27877969177614, -115.31733402028517, -115.32270518518854, -110.06069677724481, -114.57933438226459, -78.94998243802951, -84.20862167943558, -87.82511670255477, -79.91663675312272, -82.1338805761984, -90.42870821634082, -91.5122377196447, -86.32266763880905, -89.26299820438115, -92.60667083682512, -146.7907788946998, -143.4075246734857, -145.79349539762504, -147.60613702345648, -145.97225271348938, -145.53586787167785, -146.60650131594275, -145.45851013929013, -148.76890634204577, -144.62417807122972, -146.90394167576144, -149.72087317753463, -198.6917261373333, -193.4961462831374, -196.94015767377454, -191.7873073599222, -126.63795738467252, -125.40837603757728, -119.9953739326927, -58.45808828634824, -60.44760958995279, -62.79598233958536, -90.39617707543603, -88.83082193631968, -91.13406551178255, -191.7855706837305, -190.0231447170953, -190.0824669234833, -190.05982669968802, -128.25047754145353, -128.0724498263504, -128.34827871575922, -124.48784867059011, -129.32232684254157, -130.53164232027024, -130.21281402966883, -128.80371620758723, -187.22597312823757, -187.03978114799335, -189.53593008422675, -188.4621232401356, -186.7009234471673, -189.04874074347583, -188.5227885331194, -187.4296539339035, -51.63366530668308, -51.65052089727218, -225.29302443990557, -29.084710174087373, -30.067921896110718, -30.048482706505343, -27.239751165225442, -27.559726942366364, -28.102058560262453, -26.943933712813912, -26.754063842431968], \"xaxis\": \"x\", \"y\": [-8.708266234298943, -10.116623099292996, -0.1634932051650996, -0.25537354961490666, -5.803536819073537, -10.003240670834261, -3.6456661193438427, -0.5909386905427524, 17.938442487377028, -0.46253561240602215, 2.8951222942043016, 16.06684757238979, 10.123767863192558, -33.26684235104631, -22.275891678993776, -13.264479341162643, -25.833769627002066, -25.334709082324107, -34.48387374010785, -29.43618115142181, -30.172693305357793, 280.3432845925124, -29.10557788829274, -27.43268495163028, -28.74199687665575, -30.25048942669126, -22.617686309629416, -29.908704106765917, -26.017896026581518, -28.005232010801052, -44.250122088064614, -43.63232840094806, -45.50408690334471, -37.67625010259168, 4.237755671741075, -41.983860226142106, -43.19051227867502, 10.306628372101171, -40.19555028564843, -36.95041732683047, -36.96685794489541, -36.91308785184524, 177.19334834364741, 180.59112144252833, -31.965254771532717, 1.2044480251644565, 6.096510995055173, -14.050143451745825, 15.774212732671522, 14.264929439875342, 91.95360721826835, 35.50599836213256, 258.3793701236252, 257.7428580147377, -5.325251460577925, 3.94220504190449, -6.004794532280876, 18.266757418929135, -15.896036393898493, -30.447513762639222, -29.307734194505148, -35.36929310328373, 112.73873290365655, -11.00692663459703, 124.8324244813522, 58.30664304376878, 26.82527018839411, 62.97285383988738, 9.549595242969152, -5.673872659272163, -4.347555790812629, -2.0775504864925285, 0.21046502141567486, -1.957484602742486, -4.407111012345852, -0.31615074711067853, -32.427590763223165, -21.80630399409145, -35.34460430757302, -16.8897362686193, -28.389168967800128, -29.17174687091142, 4.227196925215675, 4.011401306742665, 0.13409386088238817, 3.1072180183119382, 10.243489592071107, 5.94012676119713, -1.2354342566879595, -4.49643806125974, 16.456900221378362, 14.79164671266357, 7.811345777277538, -8.035064508729677, -8.942063880588936, 4.267278537624097, 5.766517978919693, -12.2793407068743, -14.670599426296414, 3.702146656333299, -4.952499784327369, -15.410893729866658, 10.326763283283876, 16.519726539646722, 8.306213395572627, 7.560317655304956, 11.656710379229464, 13.030436657815027, 6.93160572966081, 12.16625870562619, 8.154001514999695, 15.949944139746767, 15.38661277383546, 9.99393285366933, 17.928780387759307, 26.815521161270645, 22.360257112524522, 36.68032779505726, -4.469916842131049, -4.540596822195493, 19.651206738092043, 4.012779040545443, 0.8184051048995051, -17.782553638308617, -13.966540755441855, -2.2781513237510165, -8.87562702726268, 19.197047493585004, 19.485469604669532, 15.964305497046375, 16.025204711154565, -2.906282453317555, -2.9133159709305425, -2.8585012790221733, 2.558754194908126, -2.8525037023938378, 0.36733897911942803, -2.7709329493730936, -2.8100582152265394, 22.501436186620065, 22.814921747062044, 15.67077664751694, 15.627786426354549, 17.56361978973785, 16.388314669394656, 15.637013885671756, 15.56252743978882, -27.13842692164572, -18.518860533729598, 38.41065684226856, -33.32826538035052, -33.277296102416635, -29.71233490031074, -33.36346969053907, -33.37882131408383, -33.3814354607737, -32.30296333505978, -33.416367511236466], \"yaxis\": \"y\"}, {\"hovertemplate\": \"color=high<br>0=%{x}<br>1=%{y}<extra></extra>\", \"legendgroup\": \"high\", \"marker\": {\"color\": \"#00cc96\", \"symbol\": \"circle\"}, \"mode\": \"markers\", \"name\": \"high\", \"orientation\": \"v\", \"showlegend\": true, \"type\": \"scatter\", \"x\": [-132.25463504044245, -132.40716201008604, -130.1840671902653, -122.84889678106907, -130.81020119496966, -132.47921692744615, -104.63188796504642, -105.02989071868274, -105.16388930050178, -106.91995579195653, -104.14153299606896, -102.97620282747474, -103.9734533499052, -99.84118692809714, -107.1293195605295, -107.1954718700228, -102.34387107002232, -101.30410271186223, -104.76797750057177, -103.12424418780385, -97.39888315113578, -102.44603436519455, -104.65552564668164, -105.8119110016643, 242.75801073139118, 237.90776219163337, 236.0531029832584, 237.24689157168095, 242.35297730883207, 249.8323936886521, 241.36569832177187, 249.0646485008977, 247.7445031101876, 248.05781631656657, 259.88354272396265, 314.60151296322573, 242.35465103379448, 242.17352755311092, 237.3719930158888, 245.3535174984204, 249.76094810706493, 237.95997327595748, 238.2510792748203, 237.5092282766341, 247.11668030825157, 237.5206662135485, 237.7698641870938, 238.8687841447042, 239.24322209498231, 237.7798410445405, 237.70765342095288, 237.66950377002786, 269.85942217766205, 238.04364334866253, 238.2827822994274, 237.5155795003956, 245.03080955130253, 237.51628219584742, 237.86228031286538, 241.10321184255852, 237.614738496086, 236.81334279377566, 237.18268945052466, 238.82931501635275, 237.14659792038307, 238.6641307202231, 238.88402884005154, 253.2501241191258, 238.3899444465066, 237.88401177239604, 243.67581536990642, 237.818595885377, 257.2290822962479, 243.04938116394283, 245.79694932957463, 255.97446964422724, 261.34632048195726, 300.7019068246928, 353.3439750514704, 343.00605294362146, 345.25453883347757, 292.208288781165, 329.0620795094784, 345.8287511131273, 346.4179919863337, 315.8631320530992, 350.3641662419506, 337.3309929981321, 260.18106017079214, 259.39056645340816, 266.9666024449058, 351.1687691836737, 349.58106643846406, 350.9422599162773, 342.6606243521659, 346.6474848839197, 323.1819953290368, 335.2852453135933, 327.5714113780245, 328.97697706866785, 322.1735823913645, 322.73311051521847, 323.4860239156799, 320.83002314376773, 344.7762505811775, 350.8662194718105, 332.6298317956305, 237.1469881636176, 239.01981800374298, 240.42876041184462, 237.61106808499204, 240.47431802454216, 283.07808481905613, 340.3383557746802, 260.06310557896046, 239.6825137167578, 237.4007927766781, 264.35907089835234, 352.28984712491206, 249.3225039817491, 240.06670707070944, 243.41370803888074, 350.63508029222, 336.9860815840718, 348.93153508684054, 350.36258471698886, 272.3392854612392, 235.8985397454465, 277.69104323737787, 237.7929684447425, 235.7732433027637, 237.11921593603225, 234.26840642816185, 250.950506755758, 345.07501708369557, 255.95381014426383, 243.33502605193368, 233.764184381429, 235.83007445558968, 236.76707751381304, 235.95439768515757, 240.58046645923963, 250.0000568241151, 264.775248029051, 236.9901640664988, 251.46943212321435, 242.25373305025136, 240.30701617077617, 234.04992069298956, 235.9280523481917, 235.41002557926356, 233.09952789549186, 239.7816939167817, 235.36585778233575, 236.73396508549183, 235.66636716330697], \"xaxis\": \"x\", \"y\": [4.066258010244387, -1.9371943340405011, -0.30288345178171144, 15.855418501732172, -2.0915539068335356, -0.6988696938116706, -4.01911344918614, -7.306965278137707, -2.7091108997738664, -8.98726335565068, 2.20463535107226, 5.052294603451829, -0.011364017473466029, 14.725590376829077, 9.744001289065821, 7.1473560712246975, 8.894100970140942, 10.854331837981796, 1.4307028054640187, 8.04987186001254, 26.19276968365092, 10.4581983695688, -0.8290312613885642, -2.434166192745497, -95.80542681670029, -108.87461353002269, -112.75186664692256, -108.25446009328896, -92.87114490146024, -69.95202138002914, -98.82927101691789, -72.19285196853036, -73.70506777289505, -73.91050884119635, -36.87537238313541, 139.62415203256035, -94.10321174609952, -93.89494659909394, -109.88283439320476, -85.07925077005714, -67.56331938208156, -113.99935865766741, -113.93177992948412, -114.06419837531429, -81.60920351943471, -114.0744605395125, -113.95159425666773, -110.976140980239, -113.50486096630851, -114.01554204338233, -114.05452585045758, -114.06578819641993, -7.679906249727894, -113.91489037761593, -113.9192097645986, -113.82233542412807, -91.04367665653957, -114.07290117236904, -111.76191586803407, -96.40762945075217, -113.99539177529796, -114.08674959636674, -114.05078777950654, -109.40016695901734, -114.08868697670033, -110.4218512522185, -113.76375793975741, -57.68315579589672, -113.87976379812702, -114.00333521043667, -94.20118482570746, -113.92332385098229, -49.23240375018054, -102.20485383704317, -88.47744859639648, -52.28741034094418, -35.4450536654079, 93.79641628298485, 263.0880745283238, 231.86200288589444, 237.94809399394882, 63.77047372701682, 181.37296034314812, 239.48007920046533, 244.89303819372682, 143.84076710426152, 250.11211926943813, 219.256455016399, -39.42303608892399, -40.57343395663453, -13.383102859404392, 263.04629143604654, 262.03937213819216, 258.16454239693263, 242.05204582976148, 247.6743481382364, 173.0289496833184, 207.39835513254567, 185.63399596138555, 187.64026287508392, 171.7751769462334, 169.5935686379574, 169.20485401765154, 160.4060072526468, 239.17931981362955, 256.57438049658026, 199.669978022082, -114.03577410248363, -108.71630953577518, -103.6502162095248, -113.02426076077296, -104.38955885706129, 35.50308951278514, 224.2749038924536, -38.69502846937531, -106.07106078699286, -114.10221406831074, -25.478288083954833, 265.0710960075226, -74.3555639825447, -102.82276730848655, -94.04722004322575, 258.994836895866, 216.71393126365078, 255.38574478867199, 262.1068155475288, 5.16567976193089, -114.10964313032954, 21.33199373814393, -108.90340110555296, -114.10225788858062, -111.23000657768158, -114.01540835551246, -54.17663043403246, 244.30822786387614, -51.40972384553128, -87.02435902716883, -113.91075626220231, -114.11346860853838, -112.66981564708209, -110.7328963680292, -92.88882735480598, -71.7169234367898, -24.069373097585963, -113.46291756881067, -68.66242792084155, -97.64563283959151, -101.11844637994224, -114.05323614069023, -110.47381685933759, -112.61409926725946, -110.12046698269693, -88.89010708224443, -106.06334265836428, -110.04640366823486, -105.67065712139409], \"yaxis\": \"y\"}],                        {\"legend\": {\"title\": {\"text\": \"color\"}, \"tracegroupgap\": 0}, \"margin\": {\"t\": 60}, \"template\": {\"data\": {\"bar\": [{\"error_x\": {\"color\": \"#2a3f5f\"}, \"error_y\": {\"color\": \"#2a3f5f\"}, \"marker\": {\"line\": {\"color\": \"#E5ECF6\", \"width\": 0.5}}, \"type\": \"bar\"}], \"barpolar\": [{\"marker\": {\"line\": {\"color\": \"#E5ECF6\", \"width\": 0.5}}, \"type\": \"barpolar\"}], \"carpet\": [{\"aaxis\": {\"endlinecolor\": \"#2a3f5f\", \"gridcolor\": \"white\", \"linecolor\": \"white\", \"minorgridcolor\": \"white\", \"startlinecolor\": \"#2a3f5f\"}, \"baxis\": {\"endlinecolor\": \"#2a3f5f\", \"gridcolor\": \"white\", \"linecolor\": \"white\", \"minorgridcolor\": \"white\", \"startlinecolor\": \"#2a3f5f\"}, \"type\": \"carpet\"}], \"choropleth\": [{\"colorbar\": {\"outlinewidth\": 0, \"ticks\": \"\"}, \"type\": \"choropleth\"}], \"contour\": [{\"colorbar\": {\"outlinewidth\": 0, \"ticks\": \"\"}, \"colorscale\": [[0.0, \"#0d0887\"], [0.1111111111111111, \"#46039f\"], [0.2222222222222222, \"#7201a8\"], [0.3333333333333333, \"#9c179e\"], [0.4444444444444444, \"#bd3786\"], [0.5555555555555556, \"#d8576b\"], [0.6666666666666666, \"#ed7953\"], [0.7777777777777778, \"#fb9f3a\"], [0.8888888888888888, \"#fdca26\"], [1.0, \"#f0f921\"]], \"type\": \"contour\"}], \"contourcarpet\": [{\"colorbar\": {\"outlinewidth\": 0, \"ticks\": \"\"}, \"type\": \"contourcarpet\"}], \"heatmap\": [{\"colorbar\": {\"outlinewidth\": 0, \"ticks\": \"\"}, \"colorscale\": [[0.0, \"#0d0887\"], [0.1111111111111111, \"#46039f\"], [0.2222222222222222, \"#7201a8\"], [0.3333333333333333, \"#9c179e\"], [0.4444444444444444, \"#bd3786\"], [0.5555555555555556, \"#d8576b\"], [0.6666666666666666, \"#ed7953\"], [0.7777777777777778, \"#fb9f3a\"], [0.8888888888888888, \"#fdca26\"], [1.0, \"#f0f921\"]], \"type\": \"heatmap\"}], \"heatmapgl\": [{\"colorbar\": {\"outlinewidth\": 0, \"ticks\": \"\"}, \"colorscale\": [[0.0, \"#0d0887\"], [0.1111111111111111, \"#46039f\"], [0.2222222222222222, \"#7201a8\"], [0.3333333333333333, \"#9c179e\"], [0.4444444444444444, \"#bd3786\"], [0.5555555555555556, \"#d8576b\"], [0.6666666666666666, \"#ed7953\"], [0.7777777777777778, \"#fb9f3a\"], [0.8888888888888888, \"#fdca26\"], [1.0, \"#f0f921\"]], \"type\": \"heatmapgl\"}], \"histogram\": [{\"marker\": {\"colorbar\": {\"outlinewidth\": 0, \"ticks\": \"\"}}, \"type\": \"histogram\"}], \"histogram2d\": [{\"colorbar\": {\"outlinewidth\": 0, \"ticks\": \"\"}, \"colorscale\": [[0.0, \"#0d0887\"], [0.1111111111111111, \"#46039f\"], [0.2222222222222222, \"#7201a8\"], [0.3333333333333333, \"#9c179e\"], [0.4444444444444444, \"#bd3786\"], [0.5555555555555556, \"#d8576b\"], [0.6666666666666666, \"#ed7953\"], [0.7777777777777778, \"#fb9f3a\"], [0.8888888888888888, \"#fdca26\"], [1.0, \"#f0f921\"]], \"type\": \"histogram2d\"}], \"histogram2dcontour\": [{\"colorbar\": {\"outlinewidth\": 0, \"ticks\": \"\"}, \"colorscale\": [[0.0, \"#0d0887\"], [0.1111111111111111, \"#46039f\"], [0.2222222222222222, \"#7201a8\"], [0.3333333333333333, \"#9c179e\"], [0.4444444444444444, \"#bd3786\"], [0.5555555555555556, \"#d8576b\"], [0.6666666666666666, \"#ed7953\"], [0.7777777777777778, \"#fb9f3a\"], [0.8888888888888888, \"#fdca26\"], [1.0, \"#f0f921\"]], \"type\": \"histogram2dcontour\"}], \"mesh3d\": [{\"colorbar\": {\"outlinewidth\": 0, \"ticks\": \"\"}, \"type\": \"mesh3d\"}], \"parcoords\": [{\"line\": {\"colorbar\": {\"outlinewidth\": 0, \"ticks\": \"\"}}, \"type\": \"parcoords\"}], \"pie\": [{\"automargin\": true, \"type\": \"pie\"}], \"scatter\": [{\"marker\": {\"colorbar\": {\"outlinewidth\": 0, \"ticks\": \"\"}}, \"type\": \"scatter\"}], \"scatter3d\": [{\"line\": {\"colorbar\": {\"outlinewidth\": 0, \"ticks\": \"\"}}, \"marker\": {\"colorbar\": {\"outlinewidth\": 0, \"ticks\": \"\"}}, \"type\": \"scatter3d\"}], \"scattercarpet\": [{\"marker\": {\"colorbar\": {\"outlinewidth\": 0, \"ticks\": \"\"}}, \"type\": \"scattercarpet\"}], \"scattergeo\": [{\"marker\": {\"colorbar\": {\"outlinewidth\": 0, \"ticks\": \"\"}}, \"type\": \"scattergeo\"}], \"scattergl\": [{\"marker\": {\"colorbar\": {\"outlinewidth\": 0, \"ticks\": \"\"}}, \"type\": \"scattergl\"}], \"scattermapbox\": [{\"marker\": {\"colorbar\": {\"outlinewidth\": 0, \"ticks\": \"\"}}, \"type\": \"scattermapbox\"}], \"scatterpolar\": [{\"marker\": {\"colorbar\": {\"outlinewidth\": 0, \"ticks\": \"\"}}, \"type\": \"scatterpolar\"}], \"scatterpolargl\": [{\"marker\": {\"colorbar\": {\"outlinewidth\": 0, \"ticks\": \"\"}}, \"type\": \"scatterpolargl\"}], \"scatterternary\": [{\"marker\": {\"colorbar\": {\"outlinewidth\": 0, \"ticks\": \"\"}}, \"type\": \"scatterternary\"}], \"surface\": [{\"colorbar\": {\"outlinewidth\": 0, \"ticks\": \"\"}, \"colorscale\": [[0.0, \"#0d0887\"], [0.1111111111111111, \"#46039f\"], [0.2222222222222222, \"#7201a8\"], [0.3333333333333333, \"#9c179e\"], [0.4444444444444444, \"#bd3786\"], [0.5555555555555556, \"#d8576b\"], [0.6666666666666666, \"#ed7953\"], [0.7777777777777778, \"#fb9f3a\"], [0.8888888888888888, \"#fdca26\"], [1.0, \"#f0f921\"]], \"type\": \"surface\"}], \"table\": [{\"cells\": {\"fill\": {\"color\": \"#EBF0F8\"}, \"line\": {\"color\": \"white\"}}, \"header\": {\"fill\": {\"color\": \"#C8D4E3\"}, \"line\": {\"color\": \"white\"}}, \"type\": \"table\"}]}, \"layout\": {\"annotationdefaults\": {\"arrowcolor\": \"#2a3f5f\", \"arrowhead\": 0, \"arrowwidth\": 1}, \"autotypenumbers\": \"strict\", \"coloraxis\": {\"colorbar\": {\"outlinewidth\": 0, \"ticks\": \"\"}}, \"colorscale\": {\"diverging\": [[0, \"#8e0152\"], [0.1, \"#c51b7d\"], [0.2, \"#de77ae\"], [0.3, \"#f1b6da\"], [0.4, \"#fde0ef\"], [0.5, \"#f7f7f7\"], [0.6, \"#e6f5d0\"], [0.7, \"#b8e186\"], [0.8, \"#7fbc41\"], [0.9, \"#4d9221\"], [1, \"#276419\"]], \"sequential\": [[0.0, \"#0d0887\"], [0.1111111111111111, \"#46039f\"], [0.2222222222222222, \"#7201a8\"], [0.3333333333333333, \"#9c179e\"], [0.4444444444444444, \"#bd3786\"], [0.5555555555555556, \"#d8576b\"], [0.6666666666666666, \"#ed7953\"], [0.7777777777777778, \"#fb9f3a\"], [0.8888888888888888, \"#fdca26\"], [1.0, \"#f0f921\"]], \"sequentialminus\": [[0.0, \"#0d0887\"], [0.1111111111111111, \"#46039f\"], [0.2222222222222222, \"#7201a8\"], [0.3333333333333333, \"#9c179e\"], [0.4444444444444444, \"#bd3786\"], [0.5555555555555556, \"#d8576b\"], [0.6666666666666666, \"#ed7953\"], [0.7777777777777778, \"#fb9f3a\"], [0.8888888888888888, \"#fdca26\"], [1.0, \"#f0f921\"]]}, \"colorway\": [\"#636efa\", \"#EF553B\", \"#00cc96\", \"#ab63fa\", \"#FFA15A\", \"#19d3f3\", \"#FF6692\", \"#B6E880\", \"#FF97FF\", \"#FECB52\"], \"font\": {\"color\": \"#2a3f5f\"}, \"geo\": {\"bgcolor\": \"white\", \"lakecolor\": \"white\", \"landcolor\": \"#E5ECF6\", \"showlakes\": true, \"showland\": true, \"subunitcolor\": \"white\"}, \"hoverlabel\": {\"align\": \"left\"}, \"hovermode\": \"closest\", \"mapbox\": {\"style\": \"light\"}, \"paper_bgcolor\": \"white\", \"plot_bgcolor\": \"#E5ECF6\", \"polar\": {\"angularaxis\": {\"gridcolor\": \"white\", \"linecolor\": \"white\", \"ticks\": \"\"}, \"bgcolor\": \"#E5ECF6\", \"radialaxis\": {\"gridcolor\": \"white\", \"linecolor\": \"white\", \"ticks\": \"\"}}, \"scene\": {\"xaxis\": {\"backgroundcolor\": \"#E5ECF6\", \"gridcolor\": \"white\", \"gridwidth\": 2, \"linecolor\": \"white\", \"showbackground\": true, \"ticks\": \"\", \"zerolinecolor\": \"white\"}, \"yaxis\": {\"backgroundcolor\": \"#E5ECF6\", \"gridcolor\": \"white\", \"gridwidth\": 2, \"linecolor\": \"white\", \"showbackground\": true, \"ticks\": \"\", \"zerolinecolor\": \"white\"}, \"zaxis\": {\"backgroundcolor\": \"#E5ECF6\", \"gridcolor\": \"white\", \"gridwidth\": 2, \"linecolor\": \"white\", \"showbackground\": true, \"ticks\": \"\", \"zerolinecolor\": \"white\"}}, \"shapedefaults\": {\"line\": {\"color\": \"#2a3f5f\"}}, \"ternary\": {\"aaxis\": {\"gridcolor\": \"white\", \"linecolor\": \"white\", \"ticks\": \"\"}, \"baxis\": {\"gridcolor\": \"white\", \"linecolor\": \"white\", \"ticks\": \"\"}, \"bgcolor\": \"#E5ECF6\", \"caxis\": {\"gridcolor\": \"white\", \"linecolor\": \"white\", \"ticks\": \"\"}}, \"title\": {\"x\": 0.05}, \"xaxis\": {\"automargin\": true, \"gridcolor\": \"white\", \"linecolor\": \"white\", \"ticks\": \"\", \"title\": {\"standoff\": 15}, \"zerolinecolor\": \"white\", \"zerolinewidth\": 2}, \"yaxis\": {\"automargin\": true, \"gridcolor\": \"white\", \"linecolor\": \"white\", \"ticks\": \"\", \"title\": {\"standoff\": 15}, \"zerolinecolor\": \"white\", \"zerolinewidth\": 2}}}, \"xaxis\": {\"anchor\": \"y\", \"domain\": [0.0, 1.0], \"title\": {\"text\": \"0\"}}, \"yaxis\": {\"anchor\": \"x\", \"domain\": [0.0, 1.0], \"title\": {\"text\": \"1\"}}},                        {\"responsive\": true}                    ).then(function(){\n",
       "                            \n",
       "var gd = document.getElementById('b668763f-c6a0-4a88-9947-eeeb793ec3c7');\n",
       "var x = new MutationObserver(function (mutations, observer) {{\n",
       "        var display = window.getComputedStyle(gd).display;\n",
       "        if (!display || display === 'none') {{\n",
       "            console.log([gd, 'removed!']);\n",
       "            Plotly.purge(gd);\n",
       "            observer.disconnect();\n",
       "        }}\n",
       "}});\n",
       "\n",
       "// Listen for the removal of the full notebook cells\n",
       "var notebookContainer = gd.closest('#notebook-container');\n",
       "if (notebookContainer) {{\n",
       "    x.observe(notebookContainer, {childList: true});\n",
       "}}\n",
       "\n",
       "// Listen for the clearing of the current output cell\n",
       "var outputEl = gd.closest('.output');\n",
       "if (outputEl) {{\n",
       "    x.observe(outputEl, {childList: true});\n",
       "}}\n",
       "\n",
       "                        })                };                });            </script>        </div>"
      ]
     },
     "metadata": {},
     "output_type": "display_data"
    }
   ],
   "source": [
    "#2 Componentes\n",
    "dimensionality_reduction(2,\"rad_cat\",boston_df)"
   ]
  },
  {
   "cell_type": "code",
   "execution_count": 22,
   "metadata": {
    "colab": {
     "base_uri": "https://localhost:8080/",
     "height": 1000
    },
    "id": "QEZlyMP6m23Q",
    "outputId": "7cc3b9cc-55d8-4cad-f8de-7a5d3fae632a"
   },
   "outputs": [
    {
     "name": "stdout",
     "output_type": "stream",
     "text": [
      "el primer componente principal explica el ratio de varianza en: 80.0% y el segundo : 16.27% y el tercero : 2.1399999999999997%\n"
     ]
    },
    {
     "data": {
      "application/vnd.plotly.v1+json": {
       "config": {
        "plotlyServerURL": "https://plot.ly"
       },
       "data": [
        {
         "hovertemplate": "color=low<br>PC 1=%{x}<br>PC 2=%{y}<br>PC 3=%{z}<extra></extra>",
         "legendgroup": "low",
         "marker": {
          "color": "#636efa",
          "symbol": "circle"
         },
         "mode": "markers",
         "name": "low",
         "scene": "scene",
         "showlegend": true,
         "type": "scatter3d",
         "x": [
          -119.81759621100102,
          -168.80933779931533,
          -169.56557100589268,
          -190.44464858369108,
          -190.41880069761646,
          -189.04458206996722,
          -108.3592060771268,
          -101.44190638305751,
          -108.41073565210415,
          -108.24465617406855,
          -103.5108224834216,
          -78.95043472014656,
          -105.848175377339,
          -98.91248837266068,
          -104.63584134680107,
          -105.46342491074054,
          -104.04512646785666,
          -104.59680209328343,
          -78.77758704441,
          -99.89733792226433,
          -79.38264227421338,
          -102.86330201369387,
          -101.28940314009162,
          -94.41903930813973,
          -99.0064249491977,
          -58.17220557627832,
          -94.04036791838068,
          -61.66940761795747,
          -167.40931827645903,
          -168.06692957994784,
          -180.55234095007762,
          -179.59232289557693,
          -182.77661531159916,
          -178.36174361291506,
          -180.99739689397433,
          -180.96624179263975,
          -175.19867069331914,
          -175.2581567411765,
          -178.50891704804306,
          -170.98069979140863,
          -169.18510528446834,
          -173.75282073140426,
          -173.61406813148545,
          40.9783937201091,
          -109.08766827092117,
          -195.27074020649698,
          -87.40021377544801,
          -86.05450832524656,
          -76.14802845236015,
          -74.82637260432229,
          -75.33281844398064,
          -111.12688129872579,
          -108.09921226448972,
          -113.10847087139716,
          -109.20762667347753,
          -136.89008825655148,
          -133.28501299325828,
          -136.88392203228625,
          -133.78170406848778,
          -166.7164873201346,
          -164.83736463550102,
          -166.58113382927817,
          -165.44695652485606,
          -141.8349558032692,
          -143.6564057854511,
          -142.04590176883954,
          -141.791367494203,
          -144.74133449583957,
          -147.28993400523382,
          -143.19444983968677,
          -127.29733455168139,
          -135.88006172211814,
          -137.42848730853424,
          -139.8630267284515,
          -138.37243459805958,
          -217.92712440120675,
          -213.33867967213232,
          -212.64466752339328,
          -209.78023884374971,
          -212.74160089241937,
          -215.13067033338203,
          -206.59678338471807,
          20.030690954185154,
          18.7837670106299,
          18.619174229996283,
          19.23741268758788,
          18.60158500580337,
          21.730960397149754,
          20.868024359515896,
          57.930428577628184,
          19.42136963536612,
          23.820417306924238,
          19.576554182824182,
          20.404247743530096,
          18.791782595422166,
          21.221137742060716,
          19.45502764689222,
          -217.60865711154264,
          -215.1446261892045,
          -217.1612439823534,
          -213.99368912415866,
          -214.36120888108502,
          -212.78234036465577,
          -213.50993216782575,
          -217.11055977601222,
          -154.85279382496674,
          -149.2184032599217,
          -164.09051115713848,
          -94.06360452934857,
          -81.27231443057286,
          -92.31873637069515,
          -26.946868519544584,
          -23.347190358714577,
          -74.5168628745858,
          -77.45000842326513,
          -193.5275753886989,
          -193.04727324567102,
          -140.09472357767902,
          -137.02202540569922,
          -133.53604383598972,
          -132.44161607134137,
          -133.2396375340149,
          -133.0229674255593,
          -133.67184818938807,
          -135.59694620669976,
          -136.20430735461514,
          -126.76417829363305,
          -137.5534955600188,
          -105.98973259415703,
          -107.64843357926239,
          -172.2797524047391,
          -187.37450488298694,
          -188.23597987018118,
          -193.05223813382227,
          -188.89308806446516,
          -188.5534480855114,
          -163.33615893644503,
          -162.51074666847109,
          -159.72855917046166,
          -162.78334977028715,
          -163.23413285034206,
          -219.73628087811827,
          -136.62615163240739,
          -119.68073343619011,
          -161.2047996483975,
          -173.9884495940356,
          -174.22359590393918,
          -174.31772241187946,
          -129.04605841185275,
          -126.94915041377041,
          -128.1592180228018,
          -125.25370395850265,
          -125.4788329621647,
          -109.58330987524353,
          -109.68972657928826,
          -99.36960673098622,
          -112.00253157260686,
          -108.49913036441036,
          -108.43416635466771,
          -108.75165293144802,
          -109.52672950897583,
          -107.28393762314354,
          -110.15915173097595,
          -110.248615243897,
          -111.14072043757089,
          9.503687007666965,
          10.744501395711875,
          14.03933498343086,
          -114.75490402167776,
          -106.09593157994847,
          -132.90436322169603,
          2.407421581440748,
          -63.54614123208589,
          -57.04706926395782,
          -72.12917092208029,
          -138.8270310301683,
          -84.34630588299939,
          -85.47311240638273,
          -7.209994609852304,
          -14.746244559075631,
          -85.62047095806263,
          -83.96950699718668,
          279.22743396976136,
          294.9038882884105,
          302.44240692476086,
          281.22648046041564,
          277.6940684868991,
          -138.64797226226426,
          -139.4083324991093,
          -138.3753664279877,
          -137.4450019667713,
          -138.87215155926998
         ],
         "y": [
          -5.53898918366885,
          10.17445921509744,
          14.021696852330699,
          18.26011383152744,
          16.031457000033672,
          18.728796262496324,
          -8.7732536963259,
          7.266887188982836,
          -7.513822312721461,
          0.9892427964975116,
          0.8812046932379584,
          94.56076402672268,
          -3.0913133792354777,
          10.594681065468542,
          -4.710593396140406,
          -8.832913832637692,
          -6.612640800303962,
          -6.41023367034987,
          80.56959594427634,
          10.276658646619838,
          77.7194580615705,
          -0.347428931492784,
          7.037958988197087,
          26.313334381479553,
          10.377621233849904,
          148.37351628258,
          27.618464211041754,
          133.2250697567734,
          8.772220285271878,
          8.766286120676654,
          24.149993662030905,
          26.09629607392593,
          15.509080341392284,
          20.20851828177488,
          13.08440963650708,
          13.104084421280444,
          16.84179366991511,
          12.897975795813862,
          12.958423213168869,
          11.410415812820002,
          12.801421086186915,
          10.174991483908844,
          10.205506906527901,
          -55.94447285020537,
          -10.277215338315115,
          21.32514790846344,
          -17.228919535518898,
          -17.23616244280585,
          -18.99391258145857,
          -19.671189545787122,
          -19.705415623368644,
          4.663131685898016,
          11.133481276204014,
          -2.2028856420714145,
          10.94963789066652,
          -1.0413171378224386,
          0.010288141622195851,
          -0.9975011651221852,
          4.926222349300224,
          8.871859000967927,
          13.18181931268209,
          9.78931436180831,
          10.502732841367402,
          1.9166655896482647,
          2.8078662159703107,
          6.571899787856298,
          5.21941343513767,
          3.8867021438984857,
          2.7352353357306147,
          1.9792150056629811,
          37.49926133363062,
          5.1584374119254965,
          0.08113861988319565,
          3.4764445433940856,
          0.21752945129885348,
          33.37134648310267,
          44.27942951635588,
          43.847357958520156,
          51.334164500044515,
          42.610517265179396,
          37.22190204141792,
          61.90420999854311,
          -42.418859931150195,
          -47.0399660706624,
          -46.963303956714135,
          -45.28885717298791,
          -47.060110474384985,
          -36.45142998531694,
          -39.17695861318846,
          81.24462604641103,
          -44.89469131600766,
          -29.165380904823664,
          -44.33808797020664,
          -42.314885474580386,
          -47.01394612020328,
          -38.49204951246228,
          -46.89651081937813,
          24.484108697792948,
          25.61543517177642,
          24.49660977507032,
          26.942332962889854,
          24.31778468992207,
          30.09325500695021,
          33.89888718953758,
          28.477601767277708,
          7.205105875369097,
          23.10573286237793,
          9.016555291878358,
          -15.034532002566774,
          25.72256389229193,
          -10.56173929011904,
          -36.30668323686886,
          -24.235364777304042,
          -17.532337593385048,
          -19.127975488613927,
          19.491974577338574,
          21.61268578553033,
          0.2177852425904631,
          1.9722717522366018,
          7.116158772164296,
          14.90984755360621,
          -0.12888992070717112,
          3.3553547512244823,
          1.5339592512459743,
          5.768614890220994,
          10.70646488449675,
          46.250468580102414,
          3.2008517488595536,
          -6.987228850528357,
          -9.078944919571622,
          19.820477428104176,
          21.19611914328182,
          23.872683081827855,
          16.057815324725343,
          17.684528541985905,
          21.62868851898751,
          6.82730127714549,
          6.771765048770799,
          14.057815650903038,
          10.153671874399722,
          6.8824643621228105,
          24.543038202991312,
          0.04011893085180543,
          -4.356547574928111,
          63.76696173481073,
          9.571445262865286,
          9.496489856674295,
          9.610241506709162,
          -3.3064948663303677,
          -3.4125605323503554,
          -3.4330837558854608,
          0.34489717071142456,
          -3.4573630683853174,
          -8.059183049905013,
          -7.342817892161183,
          36.723832316529254,
          -7.874023881701909,
          -7.460706959657216,
          -4.676655327520593,
          -6.911754518562265,
          -7.475896762646373,
          -2.012529914990762,
          -7.906716216400066,
          -6.325850870019698,
          -7.220329902586526,
          -30.691765263924655,
          -23.77478727280599,
          -17.476999618677702,
          -4.815856752412446,
          25.54011747120534,
          0.07843764927200876,
          -35.68035570718059,
          -11.033812491342596,
          9.065699568285954,
          -17.097899749567468,
          5.087623386897656,
          -10.03523427803183,
          -16.79849291304399,
          -14.035734807374256,
          -34.47805783467,
          -2.833756015231038,
          3.607761887556224,
          -125.45427541158875,
          -76.58193444443269,
          -52.062530385760354,
          -120.71371156113707,
          -127.20301710711472,
          5.8236105179710735,
          1.0982449096864688,
          0.9680679745804249,
          4.298162868894575,
          1.1449421241003352
         ],
         "z": [
          -3.2679204144924165,
          -31.07608686857465,
          -16.132237089679457,
          -6.087748672401645,
          -12.485524594373736,
          -16.344555517714497,
          -12.170866218392469,
          -29.194381690197666,
          -8.217622329223701,
          12.875784412322158,
          -27.735275915634002,
          9.080932622985758,
          -18.30795979032324,
          -40.73957640654726,
          -33.300174494909236,
          -36.08133547609172,
          -42.42294050811572,
          -37.54110314235745,
          -29.111622758529265,
          -34.02153914807918,
          -31.523779750019266,
          -37.06609958640052,
          -31.275582926428093,
          -37.51740889075747,
          -41.33237911942954,
          -25.710748447241528,
          -37.74782315794141,
          -36.603169684429695,
          61.7989005372149,
          66.83857273508762,
          26.36309056371219,
          23.439070480375285,
          23.04080851086906,
          -2.497686057995556,
          1.7491010806843146,
          1.8034070411373309,
          -38.03464400337447,
          -46.80734711488475,
          -19.987488988650146,
          6.985356320404684,
          -5.551456559043305,
          26.629058564360584,
          25.98474114114792,
          61.107648994485864,
          63.22552125181366,
          -6.1702268057457275,
          75.50740081267152,
          64.66828119243299,
          30.19240248691733,
          17.774610491088907,
          21.299942060924984,
          29.74513990541536,
          21.225602350471558,
          28.673473256006453,
          30.070162335813965,
          23.646315356851844,
          -4.571976210832245,
          24.25209009664082,
          13.281798982247976,
          -7.011627758464658,
          -12.515532205765096,
          -5.2345121775502665,
          -13.65035032282507,
          -33.2291924715155,
          -15.396277192690354,
          -18.317453152757384,
          -24.20668549627441,
          7.802137137410286,
          26.69288901385832,
          -10.480185767508482,
          -9.960778775289537,
          -20.639310623337707,
          -23.626062033207635,
          6.312323681662983,
          -14.061829833680012,
          -31.351892065868416,
          -42.01985630160246,
          -48.98961429561228,
          -52.83335996265637,
          -51.29930146569904,
          -45.41852345387164,
          -51.811951984824496,
          -27.907183645875946,
          -29.82608670810455,
          -27.295359123808097,
          -29.489008803371725,
          -28.574695773288077,
          -28.08150956582993,
          -26.974466797436737,
          -26.545076944032342,
          -29.450807060432084,
          -25.558453662884016,
          -29.4439003205555,
          -30.169589114098393,
          -29.46511570869675,
          -26.829515358052955,
          -32.836006952211164,
          -18.46597241517738,
          -37.21708053564806,
          -21.83145888023647,
          -43.762938041990424,
          -46.86439529281556,
          -43.5866987203648,
          -27.35928198167876,
          -13.732605951627418,
          62.58342249363338,
          56.21390657947882,
          59.427859895329654,
          63.48920554661537,
          62.01335576408327,
          60.29991695748156,
          94.11134453972366,
          95.34183263253898,
          62.60685769167424,
          81.399698871948,
          64.6780417295942,
          65.91081765873358,
          14.391165511372526,
          -8.140591049252313,
          -24.019872349152255,
          -13.127023600746517,
          -45.43409989192572,
          -38.71636912410333,
          -36.95911192815167,
          -9.682631751738423,
          7.688713384965092,
          23.275257532640737,
          -0.34250411465993863,
          62.60796343265565,
          71.92932164614223,
          62.5060370590177,
          -7.552537621915425,
          7.223642476302782,
          27.344470305010415,
          -4.698921033862692,
          1.5217903837277413,
          31.318048028732477,
          23.90101559812592,
          19.246683640068685,
          35.4185638919777,
          31.33296665594682,
          65.6325816398778,
          75.0811183814835,
          45.30761075885323,
          56.61466271414289,
          59.401530499291155,
          60.17665851190085,
          62.612468575718324,
          18.588255459435615,
          0.2701442627069021,
          9.618604194803993,
          -5.470731702111505,
          -12.127121274772769,
          -27.685923457120467,
          -24.01482188282539,
          5.770877516783958,
          -5.562450964245978,
          -34.56753032172985,
          -28.232873025219643,
          -31.629899349237387,
          -25.180094946061626,
          -29.704345122562884,
          -20.829843701589258,
          -16.651938021548574,
          -10.716658706636094,
          27.255095282806526,
          34.39918470693254,
          22.93447903559896,
          34.5489703471881,
          39.78079340784318,
          19.14632601495974,
          0.890445691803926,
          2.4820543569755817,
          -0.08176801496181686,
          72.470742233908,
          61.410709583652604,
          37.9873842364711,
          30.08073913083192,
          57.21199144171727,
          69.14543436085161,
          72.01193177660679,
          74.39721547774752,
          -0.06595090156705082,
          -4.179748995040742,
          -3.778487251666797,
          -4.645446658670494,
          7.633818155439386,
          -21.201062779827712,
          -27.128221541030996,
          -37.321263601466136,
          -36.16719605200197,
          -30.728436990686173
         ]
        },
        {
         "hovertemplate": "color=medium<br>PC 1=%{x}<br>PC 2=%{y}<br>PC 3=%{z}<extra></extra>",
         "legendgroup": "medium",
         "marker": {
          "color": "#EF553B",
          "symbol": "circle"
         },
         "mode": "markers",
         "name": "medium",
         "scene": "scene",
         "showlegend": true,
         "type": "scatter3d",
         "x": [
          -104.31151277385479,
          -102.1768746557602,
          -98.34047701544173,
          -99.90385051885528,
          -100.71380528433369,
          -103.20892911287646,
          -105.02782353831635,
          -134.37113605637626,
          -129.2958818231016,
          -136.6818505368787,
          -136.67653829913706,
          -192.9174351607644,
          -162.36600295247223,
          -26.030104997611065,
          -19.24721712254261,
          -13.885011756431128,
          -20.217905031210698,
          -19.363886785750694,
          -23.653623591441672,
          -33.218359189206176,
          -34.19260744115121,
          61.829269062053804,
          -32.2020830505866,
          -31.512469901126305,
          -31.235524220079956,
          -32.05792032500413,
          -30.423516142335682,
          -31.655668793132357,
          -30.892440623931257,
          -34.7515212199393,
          12.458798351967513,
          13.83495920875556,
          13.50041638876142,
          14.791750190856321,
          28.01545397146981,
          12.449727565351964,
          12.953841512293202,
          28.51739096642245,
          12.44859059211355,
          -12.98059367349625,
          -13.023809718500459,
          -13.082403071812509,
          52.223288450309745,
          52.97458027242866,
          -11.825619928030353,
          -1.9862085991224692,
          -0.4826910569519415,
          -6.739385680923934,
          2.59712369436334,
          1.1769332945755595,
          25.74517674753062,
          8.359268095795288,
          75.18118521267715,
          76.01287756121248,
          -4.741986719769458,
          -1.2651795986995118,
          -4.249716371608244,
          2.3819913022327626,
          -8.778902071359589,
          -12.565740281326748,
          -12.566140244212583,
          -13.770554439192946,
          31.36745042167314,
          -6.773301252390493,
          33.918116941928425,
          15.092972390272445,
          5.469987839840303,
          16.571375297520582,
          0.47203910124094633,
          -116.58662158034716,
          -116.69216102338113,
          -117.2797661294053,
          -119.87284845556847,
          -119.08860981905224,
          -117.71021106997237,
          -116.48426146444189,
          -25.23852708730083,
          -23.026427984219996,
          -26.413867705888194,
          -22.34501529809289,
          -24.913941505509356,
          -25.70981602505981,
          -136.86019367105698,
          -134.64833867160522,
          -134.74217148257011,
          -134.15130397849074,
          -115.02200057121833,
          -114.2787796917762,
          -115.31733402028519,
          -115.3227051851886,
          -110.06069677724491,
          -114.5793343822646,
          -78.94998243802955,
          -84.20862167943561,
          -87.82511670255481,
          -79.91663675312277,
          -82.13388057619848,
          -90.42870821634085,
          -91.51223771964472,
          -86.3226676388091,
          -89.2629982043812,
          -92.60667083682522,
          -146.79077889469986,
          -143.40752467348588,
          -145.7934953976251,
          -147.60613702345663,
          -145.97225271348947,
          -145.535867871678,
          -146.60650131594284,
          -145.4585101392903,
          -148.76890634204574,
          -144.62417807122986,
          -146.90394167576153,
          -149.72087317753466,
          -198.6917261373334,
          -193.49614628313756,
          -196.94015767377462,
          -191.78730735992232,
          -126.63795738467256,
          -125.40837603757736,
          -119.99537393269273,
          -58.45808828634825,
          -60.44760958995279,
          -62.795982339585336,
          -90.39617707543603,
          -88.83082193631971,
          -91.13406551178254,
          -191.78557068373067,
          -190.0231447170954,
          -190.08246692348348,
          -190.05982669968813,
          -128.25047754145362,
          -128.0724498263505,
          -128.34827871575928,
          -124.48784867059017,
          -129.3223268425416,
          -130.53164232027027,
          -130.2128140296689,
          -128.80371620758723,
          -187.22597312823765,
          -187.0397811479934,
          -189.53593008422678,
          -188.46212324013564,
          -186.70092344716736,
          -189.04874074347583,
          -188.5227885331195,
          -187.42965393390358,
          -51.63366530668305,
          -51.65052089727214,
          -225.29302443990574,
          -29.084710174087316,
          -30.06792189611065,
          -30.04848270650527,
          -27.23975116522538,
          -27.559726942366325,
          -28.1020585602624,
          -26.94393371281386,
          -26.75406384243192
         ],
         "y": [
          -8.708266234298947,
          -10.116623099293033,
          -0.163493205165133,
          -0.25537354961492553,
          -5.803536819073572,
          -10.003240670834279,
          -3.645666119343833,
          -0.5909386905427731,
          17.93844248737699,
          -0.46253561240603713,
          2.8951222942043007,
          16.066847572389854,
          10.123767863192656,
          -33.266842351046265,
          -22.27589167899377,
          -13.264479341162666,
          -25.833769627002063,
          -25.334709082324117,
          -34.48387374010783,
          -29.43618115142183,
          -30.172693305357807,
          280.3432845925124,
          -29.105577888292753,
          -27.43268495163031,
          -28.74199687665578,
          -30.2504894266913,
          -22.61768630962946,
          -29.908704106765928,
          -26.01789602658155,
          -28.005232010801045,
          -44.250122088064614,
          -43.63232840094809,
          -45.5040869033447,
          -37.67625010259168,
          4.237755671741052,
          -41.983860226142085,
          -43.19051227867502,
          10.306628372101159,
          -40.1955502856484,
          -36.9504173268305,
          -36.96685794489544,
          -36.91308785184525,
          177.19334834364736,
          180.59112144252828,
          -31.965254771532756,
          1.2044480251644263,
          6.096510995055139,
          -14.050143451745852,
          15.774212732671495,
          14.264929439875315,
          91.9536072182683,
          35.50599836213251,
          258.3793701236251,
          257.7428580147376,
          -5.325251460577949,
          3.9422050419044647,
          -6.004794532280904,
          18.266757418929107,
          -15.896036393898509,
          -30.447513762639236,
          -29.30773419450518,
          -35.36929310328373,
          112.73873290365641,
          -11.006926634597052,
          124.83242448135219,
          58.3066430437687,
          26.82527018839407,
          62.97285383988732,
          9.549595242969128,
          -5.673872659272191,
          -4.3475557908126605,
          -2.077550486492535,
          0.21046502141567328,
          -1.9574846027424928,
          -4.407111012345883,
          -0.316150747110711,
          -32.42759076322307,
          -21.806303994091365,
          -35.34460430757293,
          -16.889736268619213,
          -28.389168967800057,
          -29.171746870911313,
          4.227196925215638,
          4.011401306742592,
          0.13409386088233707,
          3.1072180183118885,
          10.24348959207114,
          5.940126761197147,
          -1.2354342566879526,
          -4.496438061259731,
          16.456900221378376,
          14.791646712663606,
          7.8113457772775154,
          -8.035064508729688,
          -8.94206388058891,
          4.267278537624088,
          5.766517978919692,
          -12.279340706874276,
          -14.670599426296386,
          3.702146656333329,
          -4.952499784327326,
          -15.410893729866622,
          10.326763283283837,
          16.519726539646697,
          8.3062133955726,
          7.560317655304948,
          11.656710379229448,
          13.030436657815004,
          6.931605729660786,
          12.16625870562618,
          8.154001514999702,
          15.949944139746737,
          15.386612773835443,
          9.993932853669323,
          17.928780387759318,
          26.815521161270603,
          22.360257112524522,
          36.680327795057224,
          -4.469916842131001,
          -4.540596822195455,
          19.65120673809209,
          4.012779040545542,
          0.8184051048996063,
          -17.782553638308546,
          -13.966540755441816,
          -2.2781513237509716,
          -8.875627027262631,
          19.19704749358501,
          19.485469604669532,
          15.964305497046364,
          16.025204711154537,
          -2.906282453317567,
          -2.9133159709305745,
          -2.8585012790221986,
          2.558754194908079,
          -2.8525037023938635,
          0.3673389791194168,
          -2.7709329493731096,
          -2.8100582152265616,
          22.501436186620005,
          22.81492174706201,
          15.670776647516908,
          15.627786426354486,
          17.56361978973777,
          16.388314669394592,
          15.637013885671708,
          15.56252743978876,
          -27.13842692164565,
          -18.518860533729526,
          38.41065684226858,
          -33.32826538035052,
          -33.277296102416614,
          -29.71233490031072,
          -33.36346969053906,
          -33.378821314083815,
          -33.38143546077369,
          -32.30296333505979,
          -33.41636751123646
         ],
         "z": [
          -7.539986278258696,
          -30.08104006095632,
          -34.558351341191624,
          -22.533027426003763,
          -29.611137102624298,
          -20.180817873885903,
          12.94947188141447,
          -19.733979025537977,
          -14.221272894271653,
          0.6218339332228867,
          9.348572677960776,
          69.32890073671078,
          64.39435821272646,
          38.54533095019302,
          9.097787821962068,
          -13.272503199390327,
          8.214174011464321,
          2.158880635052179,
          15.002504721482607,
          -18.10351292359038,
          -11.556003328781772,
          -14.983624024317256,
          -24.728936829303642,
          -26.489359378663345,
          -32.01660549955655,
          -28.64854327326942,
          -22.911962638218068,
          -31.909080798136255,
          -27.7084033392011,
          0.34836541773736346,
          -15.340486252867093,
          -24.713180725964286,
          -26.72501600682802,
          -17.49160070336672,
          -19.925716579221838,
          -8.732768846721447,
          -16.34448362670429,
          -8.216142795747608,
          -3.4845903069037054,
          -35.16933973666175,
          -34.9740664829789,
          -33.85950624724238,
          -29.659666802684466,
          -28.375621230546198,
          -31.957860458811478,
          -29.31314836245943,
          -29.54101566871181,
          -30.702169191398088,
          -32.0247861566497,
          -23.240095885719292,
          -29.179057065006766,
          -28.859218087125644,
          -13.118542649240382,
          -21.9922521853119,
          -28.169544738498438,
          -31.322128945962024,
          -31.743686787358797,
          -25.09396548058899,
          -22.56264912938929,
          -28.52582475870469,
          -25.38219051114651,
          -26.76746745080027,
          -23.499916806768603,
          -26.68650620475684,
          -13.095171934146622,
          -27.453830365996183,
          -27.718500731365577,
          -26.96590737610015,
          -30.04453248680817,
          -33.394810215744215,
          -29.469858177198475,
          -17.95631401033091,
          9.817605006954162,
          -1.7400629835964045,
          -21.05705802824602,
          -21.388499929876545,
          42.04928433391273,
          51.424856349507216,
          44.00135600379462,
          57.83629178522079,
          50.10151858659813,
          54.07557524085264,
          -11.459054396741728,
          -32.57830188236894,
          -40.563954534328396,
          -38.59532423552467,
          39.981619888327494,
          21.91559722092542,
          12.157913849380824,
          3.70786359202089,
          13.72850602248746,
          48.29711588420766,
          -6.754302141103384,
          -2.9252530495807663,
          24.92274892934953,
          -8.433057713064342,
          14.595510141794469,
          38.3076614432177,
          41.541492239359755,
          45.350021240119545,
          47.136042213370764,
          46.63457303683993,
          -19.512330668287646,
          -30.494002097889968,
          -31.0538035028115,
          -17.356667918350933,
          -22.059427575742202,
          -23.044777744150604,
          -27.295251422352116,
          -24.27785952871534,
          -3.955179606088932,
          -19.970536863307576,
          -4.604392994681671,
          6.0335462640249515,
          15.96321051988471,
          -7.21056510299933,
          12.41739877704183,
          4.315694964355246,
          43.378322192670225,
          32.50908599561856,
          50.21753728888237,
          70.236026609208,
          78.25520385761396,
          49.20065090030777,
          27.84195773731683,
          45.09713873014717,
          46.309882027074266,
          18.07987891178754,
          4.509414108883322,
          -5.37044109684361,
          -4.647306220447073,
          -6.489806800692311,
          -8.015186412341707,
          -4.976807315391141,
          -23.716870811727876,
          2.8864610931932333,
          22.18074054709022,
          11.195347136084404,
          -0.6296079905850785,
          -1.3257740840899201,
          -1.8304277658206343,
          0.8807634441958554,
          -8.319745662767083,
          -18.40360664819994,
          -1.3435962101271652,
          -7.691920530705434,
          -17.528527280164287,
          33.50463922003576,
          55.833177325430285,
          54.94581896088033,
          1.2346441160433448,
          9.860652257563345,
          19.869604650737394,
          -13.990775096521462,
          -11.688817655491784,
          -7.396346196351839,
          -14.018486417320318,
          -18.68389681421614
         ]
        },
        {
         "hovertemplate": "color=high<br>PC 1=%{x}<br>PC 2=%{y}<br>PC 3=%{z}<extra></extra>",
         "legendgroup": "high",
         "marker": {
          "color": "#00cc96",
          "symbol": "circle"
         },
         "mode": "markers",
         "name": "high",
         "scene": "scene",
         "showlegend": true,
         "type": "scatter3d",
         "x": [
          -132.2546350404425,
          -132.4071620100861,
          -130.18406719026535,
          -122.8488967810692,
          -130.81020119496975,
          -132.4792169274462,
          -104.63188796504647,
          -105.02989071868274,
          -105.1638893005018,
          -106.91995579195658,
          -104.14153299606906,
          -102.9762028274748,
          -103.97345334990528,
          -99.84118692809722,
          -107.12931956052955,
          -107.19547187002283,
          -102.34387107002242,
          -101.3041027118623,
          -104.76797750057189,
          -103.12424418780394,
          -97.39888315113585,
          -102.44603436519455,
          -104.6555256466817,
          -105.81191100166434,
          242.7580107313913,
          237.90776219163348,
          236.05310298325858,
          237.24689157168118,
          242.35297730883224,
          249.8323936886522,
          241.365698321772,
          249.0646485008979,
          247.74450311018762,
          248.05781631656657,
          259.8835427239629,
          314.6015129632259,
          242.3546510337946,
          242.17352755311106,
          237.37199301588893,
          245.35351749842047,
          249.76094810706508,
          237.95997327595762,
          238.25107927482046,
          237.50922827663416,
          247.11668030825155,
          237.52066621354868,
          237.76986418709393,
          238.86878414470436,
          239.24322209498231,
          237.77984104454063,
          237.70765342095302,
          237.66950377002797,
          269.85942217766217,
          238.04364334866264,
          238.2827822994275,
          237.51557950039577,
          245.03080955130272,
          237.51628219584762,
          237.86228031286555,
          241.10321184255866,
          237.61473849608618,
          236.81334279377583,
          237.18268945052475,
          238.82931501635295,
          237.14659792038321,
          238.66413072022328,
          238.88402884005168,
          253.25012411912604,
          238.3899444465068,
          237.8840117723962,
          243.67581536990662,
          237.81859588537714,
          257.2290822962479,
          243.04938116394285,
          245.79694932957474,
          255.97446964422727,
          261.3463204819575,
          300.70190682469286,
          353.34397505147024,
          343.0060529436213,
          345.25453883347757,
          292.208288781165,
          329.06207950947834,
          345.8287511131272,
          346.4179919863336,
          315.8631320530994,
          350.36416624195056,
          337.3309929981323,
          260.1810601707922,
          259.39056645340827,
          266.966602444906,
          351.1687691836738,
          349.58106643846406,
          350.9422599162774,
          342.6606243521659,
          346.6474848839195,
          323.18199532903697,
          335.28524531359335,
          327.57141137802444,
          328.9769770686679,
          322.1735823913646,
          322.73311051521847,
          323.48602391568,
          320.8300231437679,
          344.77625058117746,
          350.8662194718105,
          332.62983179563065,
          237.1469881636177,
          239.01981800374318,
          240.42876041184476,
          237.61106808499213,
          240.47431802454233,
          283.07808481905613,
          340.3383557746804,
          260.0631055789605,
          239.68251371675785,
          237.40079277667823,
          264.35907089835246,
          352.2898471249122,
          249.3225039817493,
          240.06670707070958,
          243.41370803888094,
          350.6350802922199,
          336.9860815840716,
          348.9315350868407,
          350.3625847169889,
          272.33928546123934,
          235.89853974544658,
          277.6910432373779,
          237.79296844474263,
          235.77324330276386,
          237.11921593603242,
          234.26840642816205,
          250.95050675575814,
          345.0750170836954,
          255.95381014426385,
          243.33502605193388,
          233.76418438142917,
          235.83007445558988,
          236.76707751381312,
          235.95439768515774,
          240.5804664592397,
          250.00005682411526,
          264.7752480290511,
          236.990164066499,
          251.46943212321455,
          242.25373305025158,
          240.3070161707763,
          234.0499206929897,
          235.92805234819187,
          235.4100255792638,
          233.0995278954921,
          239.78169391678182,
          235.36585778233592,
          236.73396508549197,
          235.66636716330717
         ],
         "y": [
          4.066258010244382,
          -1.9371943340404925,
          -0.3028834517817184,
          15.85541850173213,
          -2.091553906833542,
          -0.698869693811664,
          -4.019113449186188,
          -7.306965278137755,
          -2.709110899773908,
          -8.987263355650697,
          2.204635351072224,
          5.052294603451777,
          -0.011364017473504984,
          14.725590376829041,
          9.744001289065821,
          7.147356071224698,
          8.89410097014092,
          10.854331837981762,
          1.4307028054639859,
          8.04987186001251,
          26.192769683650884,
          10.458198369568771,
          -0.8290312613885978,
          -2.4341661927455283,
          -95.80542681670019,
          -108.87461353002261,
          -112.75186664692248,
          -108.25446009328887,
          -92.87114490146017,
          -69.95202138002908,
          -98.82927101691779,
          -72.19285196853032,
          -73.70506777289499,
          -73.91050884119628,
          -36.87537238313537,
          139.62415203256035,
          -94.10321174609939,
          -93.89494659909384,
          -109.88283439320469,
          -85.07925077005707,
          -67.5633193820815,
          -113.99935865766739,
          -113.93177992948405,
          -114.0641983753142,
          -81.60920351943464,
          -114.07446053951243,
          -113.95159425666769,
          -110.97614098023894,
          -113.5048609663084,
          -114.01554204338224,
          -114.05452585045747,
          -114.06578819641989,
          -7.679906249727858,
          -113.91489037761582,
          -113.91920976459856,
          -113.82233542412796,
          -91.04367665653953,
          -114.07290117236899,
          -111.76191586803395,
          -96.40762945075208,
          -113.9953917752978,
          -114.08674959636662,
          -114.05078777950648,
          -109.40016695901731,
          -114.08868697670025,
          -110.42185125221843,
          -113.76375793975735,
          -57.68315579589666,
          -113.87976379812696,
          -114.00333521043656,
          -94.2011848257074,
          -113.9233238509822,
          -49.232403750180474,
          -102.2048538370431,
          -88.4774485963964,
          -52.287410340944106,
          -35.44505366540789,
          93.79641628298481,
          263.08807452832366,
          231.8620028858946,
          237.9480939939486,
          63.770473727016885,
          181.3729603431481,
          239.48007920046535,
          244.8930381937267,
          143.8407671042615,
          250.1121192694379,
          219.25645501639895,
          -39.42303608892396,
          -40.57343395663447,
          -13.383102859404369,
          263.0462914360463,
          262.03937213819205,
          258.1645423969325,
          242.05204582976134,
          247.67434813823658,
          173.02894968331842,
          207.39835513254565,
          185.6339959613855,
          187.6402628750839,
          171.77517694623336,
          169.59356863795747,
          169.2048540176514,
          160.40600725264676,
          239.17931981362946,
          256.5743804965801,
          199.66997802208198,
          -114.03577410248356,
          -108.71630953577511,
          -103.65021620952474,
          -113.0242607607729,
          -104.38955885706122,
          35.50308951278517,
          224.27490389245347,
          -38.69502846937529,
          -106.07106078699277,
          -114.1022140683107,
          -25.478288083954794,
          265.07109600752256,
          -74.35556398254465,
          -102.82276730848645,
          -94.04722004322569,
          258.9948368958658,
          216.71393126365078,
          255.38574478867184,
          262.10681554752875,
          5.16567976193092,
          -114.10964313032946,
          21.331993738143954,
          -108.90340110555285,
          -114.10225788858057,
          -111.23000657768144,
          -114.01540835551235,
          -54.1766304340324,
          244.30822786387606,
          -51.40972384553122,
          -87.02435902716871,
          -113.91075626220224,
          -114.11346860853821,
          -112.66981564708198,
          -110.73289636802912,
          -92.88882735480585,
          -71.71692343678971,
          -24.06937309758593,
          -113.46291756881055,
          -68.66242792084148,
          -97.64563283959146,
          -101.11844637994216,
          -114.05323614069015,
          -110.47381685933749,
          -112.61409926725946,
          -110.1204669826968,
          -88.89010708224433,
          -106.06334265836414,
          -110.04640366823479,
          -105.67065712139394
         ],
         "z": [
          26.9128423839763,
          12.679394000754554,
          -1.9998254832450042,
          -22.381995948843134,
          -2.3785715704519586,
          15.991809025289024,
          -31.656387612733514,
          -35.32813812863745,
          -23.444825314997654,
          -25.527430041138366,
          -21.95112135488318,
          -25.077274359964978,
          -28.598950965532417,
          -24.004641777070482,
          24.540050390668775,
          20.05184638348142,
          -16.30531729350474,
          -21.714338170770628,
          -18.239816733359635,
          -15.54720576553202,
          -13.962315831636973,
          -11.246343823777801,
          -22.593717364558326,
          -18.016619637870264,
          -6.396021943336526,
          -1.141353887629476,
          4.7110830690197245,
          6.289944590281923,
          2.286889659607882,
          -0.43612609593068924,
          -4.586675449642581,
          0.7894076604461187,
          6.626642494482256,
          3.0466192345615664,
          0.33215779627642544,
          -1.5449193949611117,
          -4.567106066824413,
          -2.1996384787509142,
          -3.083518589043759,
          -4.982462232776204,
          3.364711459003512,
          -10.822474914815967,
          -11.22024050803312,
          -7.215538694570155,
          -3.8743807767413494,
          -8.640169561284916,
          -7.09775948454155,
          -9.841660269882262,
          -4.226717273541357,
          -9.093558797515614,
          -9.902378066942113,
          -9.907886355061208,
          -1.5203679551956846,
          -9.556968074815982,
          -10.597089740550103,
          -3.2499068167560345,
          -10.118954222436328,
          -8.780946513911013,
          -6.64656132432609,
          5.132150076326776,
          -7.982392147532466,
          -3.332272439825917,
          -5.163611671502557,
          -8.114136697472583,
          -6.3549312807927105,
          -8.815286177908932,
          -11.382300588441824,
          7.276744415883579,
          -10.809038446434206,
          -9.949029354296465,
          -9.01424631941814,
          -6.932613548559798,
          1.8039842722938175,
          -10.722071333804292,
          -9.335786706205415,
          -6.036358691250015,
          -6.099194512519881,
          -3.0201731081807472,
          0.9129616519372425,
          -0.3282044991289772,
          -1.4347652685497962,
          -4.8277243834051795,
          -4.276195007510692,
          -1.6468439344246413,
          5.835846241182402,
          4.427802978787088,
          -1.1326838261603076,
          16.271967201106232,
          -6.761299696545875,
          -3.4556195108604784,
          3.620334180807107,
          11.31816068623994,
          22.635499743881677,
          2.849520820573835,
          30.302841821371203,
          16.003280609525085,
          14.234185539540453,
          1.5849574840014784,
          9.161113962804185,
          2.8050062524843637,
          17.985244601213925,
          7.5586287156884335,
          2.0086791436199283,
          1.468550822791212,
          4.6592573966729915,
          -0.8088028436025505,
          6.090505052656621,
          -5.125601437573169,
          -4.106536584287949,
          -6.692462732077754,
          -8.622225324063967,
          -8.885981639519397,
          -3.54972205318178,
          2.788078954550457,
          -4.362003134178079,
          -6.339765643308759,
          -8.168152945892952,
          -5.742438463716571,
          6.304571242891195,
          -6.588469925805742,
          -2.398926633799155,
          -7.667442602212378,
          4.98183786233905,
          9.653519694636408,
          9.421225060713512,
          15.534082531675088,
          6.491515422100319,
          3.4001617417370125,
          2.29309943299362,
          0.39410457371779634,
          4.487935787842117,
          -0.21142719220770392,
          17.939018738291942,
          32.29284901055134,
          12.205460617065965,
          -3.2462501258899077,
          13.692405919232309,
          24.172424642458825,
          3.5873125086323374,
          -1.1058359401594535,
          10.876570464237204,
          17.62166862013292,
          -4.590027347581902,
          -5.447956791844799,
          -4.117762409894768,
          -6.81592466328218,
          -6.205440691665365,
          1.157597491547559,
          18.86346345559598,
          11.619033108881004,
          10.15349226373146,
          37.32809212560765,
          36.29839925800296,
          28.634708566559453,
          6.9242504046354165,
          27.48639799752402
         ]
        }
       ],
       "layout": {
        "legend": {
         "title": {
          "text": "color"
         },
         "tracegroupgap": 0
        },
        "scene": {
         "domain": {
          "x": [
           0,
           1
          ],
          "y": [
           0,
           1
          ]
         },
         "xaxis": {
          "title": {
           "text": "PC 1"
          }
         },
         "yaxis": {
          "title": {
           "text": "PC 2"
          }
         },
         "zaxis": {
          "title": {
           "text": "PC 3"
          }
         }
        },
        "template": {
         "data": {
          "bar": [
           {
            "error_x": {
             "color": "#2a3f5f"
            },
            "error_y": {
             "color": "#2a3f5f"
            },
            "marker": {
             "line": {
              "color": "#E5ECF6",
              "width": 0.5
             }
            },
            "type": "bar"
           }
          ],
          "barpolar": [
           {
            "marker": {
             "line": {
              "color": "#E5ECF6",
              "width": 0.5
             }
            },
            "type": "barpolar"
           }
          ],
          "carpet": [
           {
            "aaxis": {
             "endlinecolor": "#2a3f5f",
             "gridcolor": "white",
             "linecolor": "white",
             "minorgridcolor": "white",
             "startlinecolor": "#2a3f5f"
            },
            "baxis": {
             "endlinecolor": "#2a3f5f",
             "gridcolor": "white",
             "linecolor": "white",
             "minorgridcolor": "white",
             "startlinecolor": "#2a3f5f"
            },
            "type": "carpet"
           }
          ],
          "choropleth": [
           {
            "colorbar": {
             "outlinewidth": 0,
             "ticks": ""
            },
            "type": "choropleth"
           }
          ],
          "contour": [
           {
            "colorbar": {
             "outlinewidth": 0,
             "ticks": ""
            },
            "colorscale": [
             [
              0,
              "#0d0887"
             ],
             [
              0.1111111111111111,
              "#46039f"
             ],
             [
              0.2222222222222222,
              "#7201a8"
             ],
             [
              0.3333333333333333,
              "#9c179e"
             ],
             [
              0.4444444444444444,
              "#bd3786"
             ],
             [
              0.5555555555555556,
              "#d8576b"
             ],
             [
              0.6666666666666666,
              "#ed7953"
             ],
             [
              0.7777777777777778,
              "#fb9f3a"
             ],
             [
              0.8888888888888888,
              "#fdca26"
             ],
             [
              1,
              "#f0f921"
             ]
            ],
            "type": "contour"
           }
          ],
          "contourcarpet": [
           {
            "colorbar": {
             "outlinewidth": 0,
             "ticks": ""
            },
            "type": "contourcarpet"
           }
          ],
          "heatmap": [
           {
            "colorbar": {
             "outlinewidth": 0,
             "ticks": ""
            },
            "colorscale": [
             [
              0,
              "#0d0887"
             ],
             [
              0.1111111111111111,
              "#46039f"
             ],
             [
              0.2222222222222222,
              "#7201a8"
             ],
             [
              0.3333333333333333,
              "#9c179e"
             ],
             [
              0.4444444444444444,
              "#bd3786"
             ],
             [
              0.5555555555555556,
              "#d8576b"
             ],
             [
              0.6666666666666666,
              "#ed7953"
             ],
             [
              0.7777777777777778,
              "#fb9f3a"
             ],
             [
              0.8888888888888888,
              "#fdca26"
             ],
             [
              1,
              "#f0f921"
             ]
            ],
            "type": "heatmap"
           }
          ],
          "heatmapgl": [
           {
            "colorbar": {
             "outlinewidth": 0,
             "ticks": ""
            },
            "colorscale": [
             [
              0,
              "#0d0887"
             ],
             [
              0.1111111111111111,
              "#46039f"
             ],
             [
              0.2222222222222222,
              "#7201a8"
             ],
             [
              0.3333333333333333,
              "#9c179e"
             ],
             [
              0.4444444444444444,
              "#bd3786"
             ],
             [
              0.5555555555555556,
              "#d8576b"
             ],
             [
              0.6666666666666666,
              "#ed7953"
             ],
             [
              0.7777777777777778,
              "#fb9f3a"
             ],
             [
              0.8888888888888888,
              "#fdca26"
             ],
             [
              1,
              "#f0f921"
             ]
            ],
            "type": "heatmapgl"
           }
          ],
          "histogram": [
           {
            "marker": {
             "colorbar": {
              "outlinewidth": 0,
              "ticks": ""
             }
            },
            "type": "histogram"
           }
          ],
          "histogram2d": [
           {
            "colorbar": {
             "outlinewidth": 0,
             "ticks": ""
            },
            "colorscale": [
             [
              0,
              "#0d0887"
             ],
             [
              0.1111111111111111,
              "#46039f"
             ],
             [
              0.2222222222222222,
              "#7201a8"
             ],
             [
              0.3333333333333333,
              "#9c179e"
             ],
             [
              0.4444444444444444,
              "#bd3786"
             ],
             [
              0.5555555555555556,
              "#d8576b"
             ],
             [
              0.6666666666666666,
              "#ed7953"
             ],
             [
              0.7777777777777778,
              "#fb9f3a"
             ],
             [
              0.8888888888888888,
              "#fdca26"
             ],
             [
              1,
              "#f0f921"
             ]
            ],
            "type": "histogram2d"
           }
          ],
          "histogram2dcontour": [
           {
            "colorbar": {
             "outlinewidth": 0,
             "ticks": ""
            },
            "colorscale": [
             [
              0,
              "#0d0887"
             ],
             [
              0.1111111111111111,
              "#46039f"
             ],
             [
              0.2222222222222222,
              "#7201a8"
             ],
             [
              0.3333333333333333,
              "#9c179e"
             ],
             [
              0.4444444444444444,
              "#bd3786"
             ],
             [
              0.5555555555555556,
              "#d8576b"
             ],
             [
              0.6666666666666666,
              "#ed7953"
             ],
             [
              0.7777777777777778,
              "#fb9f3a"
             ],
             [
              0.8888888888888888,
              "#fdca26"
             ],
             [
              1,
              "#f0f921"
             ]
            ],
            "type": "histogram2dcontour"
           }
          ],
          "mesh3d": [
           {
            "colorbar": {
             "outlinewidth": 0,
             "ticks": ""
            },
            "type": "mesh3d"
           }
          ],
          "parcoords": [
           {
            "line": {
             "colorbar": {
              "outlinewidth": 0,
              "ticks": ""
             }
            },
            "type": "parcoords"
           }
          ],
          "pie": [
           {
            "automargin": true,
            "type": "pie"
           }
          ],
          "scatter": [
           {
            "marker": {
             "colorbar": {
              "outlinewidth": 0,
              "ticks": ""
             }
            },
            "type": "scatter"
           }
          ],
          "scatter3d": [
           {
            "line": {
             "colorbar": {
              "outlinewidth": 0,
              "ticks": ""
             }
            },
            "marker": {
             "colorbar": {
              "outlinewidth": 0,
              "ticks": ""
             }
            },
            "type": "scatter3d"
           }
          ],
          "scattercarpet": [
           {
            "marker": {
             "colorbar": {
              "outlinewidth": 0,
              "ticks": ""
             }
            },
            "type": "scattercarpet"
           }
          ],
          "scattergeo": [
           {
            "marker": {
             "colorbar": {
              "outlinewidth": 0,
              "ticks": ""
             }
            },
            "type": "scattergeo"
           }
          ],
          "scattergl": [
           {
            "marker": {
             "colorbar": {
              "outlinewidth": 0,
              "ticks": ""
             }
            },
            "type": "scattergl"
           }
          ],
          "scattermapbox": [
           {
            "marker": {
             "colorbar": {
              "outlinewidth": 0,
              "ticks": ""
             }
            },
            "type": "scattermapbox"
           }
          ],
          "scatterpolar": [
           {
            "marker": {
             "colorbar": {
              "outlinewidth": 0,
              "ticks": ""
             }
            },
            "type": "scatterpolar"
           }
          ],
          "scatterpolargl": [
           {
            "marker": {
             "colorbar": {
              "outlinewidth": 0,
              "ticks": ""
             }
            },
            "type": "scatterpolargl"
           }
          ],
          "scatterternary": [
           {
            "marker": {
             "colorbar": {
              "outlinewidth": 0,
              "ticks": ""
             }
            },
            "type": "scatterternary"
           }
          ],
          "surface": [
           {
            "colorbar": {
             "outlinewidth": 0,
             "ticks": ""
            },
            "colorscale": [
             [
              0,
              "#0d0887"
             ],
             [
              0.1111111111111111,
              "#46039f"
             ],
             [
              0.2222222222222222,
              "#7201a8"
             ],
             [
              0.3333333333333333,
              "#9c179e"
             ],
             [
              0.4444444444444444,
              "#bd3786"
             ],
             [
              0.5555555555555556,
              "#d8576b"
             ],
             [
              0.6666666666666666,
              "#ed7953"
             ],
             [
              0.7777777777777778,
              "#fb9f3a"
             ],
             [
              0.8888888888888888,
              "#fdca26"
             ],
             [
              1,
              "#f0f921"
             ]
            ],
            "type": "surface"
           }
          ],
          "table": [
           {
            "cells": {
             "fill": {
              "color": "#EBF0F8"
             },
             "line": {
              "color": "white"
             }
            },
            "header": {
             "fill": {
              "color": "#C8D4E3"
             },
             "line": {
              "color": "white"
             }
            },
            "type": "table"
           }
          ]
         },
         "layout": {
          "annotationdefaults": {
           "arrowcolor": "#2a3f5f",
           "arrowhead": 0,
           "arrowwidth": 1
          },
          "autotypenumbers": "strict",
          "coloraxis": {
           "colorbar": {
            "outlinewidth": 0,
            "ticks": ""
           }
          },
          "colorscale": {
           "diverging": [
            [
             0,
             "#8e0152"
            ],
            [
             0.1,
             "#c51b7d"
            ],
            [
             0.2,
             "#de77ae"
            ],
            [
             0.3,
             "#f1b6da"
            ],
            [
             0.4,
             "#fde0ef"
            ],
            [
             0.5,
             "#f7f7f7"
            ],
            [
             0.6,
             "#e6f5d0"
            ],
            [
             0.7,
             "#b8e186"
            ],
            [
             0.8,
             "#7fbc41"
            ],
            [
             0.9,
             "#4d9221"
            ],
            [
             1,
             "#276419"
            ]
           ],
           "sequential": [
            [
             0,
             "#0d0887"
            ],
            [
             0.1111111111111111,
             "#46039f"
            ],
            [
             0.2222222222222222,
             "#7201a8"
            ],
            [
             0.3333333333333333,
             "#9c179e"
            ],
            [
             0.4444444444444444,
             "#bd3786"
            ],
            [
             0.5555555555555556,
             "#d8576b"
            ],
            [
             0.6666666666666666,
             "#ed7953"
            ],
            [
             0.7777777777777778,
             "#fb9f3a"
            ],
            [
             0.8888888888888888,
             "#fdca26"
            ],
            [
             1,
             "#f0f921"
            ]
           ],
           "sequentialminus": [
            [
             0,
             "#0d0887"
            ],
            [
             0.1111111111111111,
             "#46039f"
            ],
            [
             0.2222222222222222,
             "#7201a8"
            ],
            [
             0.3333333333333333,
             "#9c179e"
            ],
            [
             0.4444444444444444,
             "#bd3786"
            ],
            [
             0.5555555555555556,
             "#d8576b"
            ],
            [
             0.6666666666666666,
             "#ed7953"
            ],
            [
             0.7777777777777778,
             "#fb9f3a"
            ],
            [
             0.8888888888888888,
             "#fdca26"
            ],
            [
             1,
             "#f0f921"
            ]
           ]
          },
          "colorway": [
           "#636efa",
           "#EF553B",
           "#00cc96",
           "#ab63fa",
           "#FFA15A",
           "#19d3f3",
           "#FF6692",
           "#B6E880",
           "#FF97FF",
           "#FECB52"
          ],
          "font": {
           "color": "#2a3f5f"
          },
          "geo": {
           "bgcolor": "white",
           "lakecolor": "white",
           "landcolor": "#E5ECF6",
           "showlakes": true,
           "showland": true,
           "subunitcolor": "white"
          },
          "hoverlabel": {
           "align": "left"
          },
          "hovermode": "closest",
          "mapbox": {
           "style": "light"
          },
          "paper_bgcolor": "white",
          "plot_bgcolor": "#E5ECF6",
          "polar": {
           "angularaxis": {
            "gridcolor": "white",
            "linecolor": "white",
            "ticks": ""
           },
           "bgcolor": "#E5ECF6",
           "radialaxis": {
            "gridcolor": "white",
            "linecolor": "white",
            "ticks": ""
           }
          },
          "scene": {
           "xaxis": {
            "backgroundcolor": "#E5ECF6",
            "gridcolor": "white",
            "gridwidth": 2,
            "linecolor": "white",
            "showbackground": true,
            "ticks": "",
            "zerolinecolor": "white"
           },
           "yaxis": {
            "backgroundcolor": "#E5ECF6",
            "gridcolor": "white",
            "gridwidth": 2,
            "linecolor": "white",
            "showbackground": true,
            "ticks": "",
            "zerolinecolor": "white"
           },
           "zaxis": {
            "backgroundcolor": "#E5ECF6",
            "gridcolor": "white",
            "gridwidth": 2,
            "linecolor": "white",
            "showbackground": true,
            "ticks": "",
            "zerolinecolor": "white"
           }
          },
          "shapedefaults": {
           "line": {
            "color": "#2a3f5f"
           }
          },
          "ternary": {
           "aaxis": {
            "gridcolor": "white",
            "linecolor": "white",
            "ticks": ""
           },
           "baxis": {
            "gridcolor": "white",
            "linecolor": "white",
            "ticks": ""
           },
           "bgcolor": "#E5ECF6",
           "caxis": {
            "gridcolor": "white",
            "linecolor": "white",
            "ticks": ""
           }
          },
          "title": {
           "x": 0.05
          },
          "xaxis": {
           "automargin": true,
           "gridcolor": "white",
           "linecolor": "white",
           "ticks": "",
           "title": {
            "standoff": 15
           },
           "zerolinecolor": "white",
           "zerolinewidth": 2
          },
          "yaxis": {
           "automargin": true,
           "gridcolor": "white",
           "linecolor": "white",
           "ticks": "",
           "title": {
            "standoff": 15
           },
           "zerolinecolor": "white",
           "zerolinewidth": 2
          }
         }
        },
        "title": {
         "text": "Total Explained Variance: 98.87%"
        }
       }
      },
      "text/html": [
       "<div>                            <div id=\"00348d9c-1214-4706-82e3-8b8e7545acc9\" class=\"plotly-graph-div\" style=\"height:525px; width:100%;\"></div>            <script type=\"text/javascript\">                require([\"plotly\"], function(Plotly) {                    window.PLOTLYENV=window.PLOTLYENV || {};                                    if (document.getElementById(\"00348d9c-1214-4706-82e3-8b8e7545acc9\")) {                    Plotly.newPlot(                        \"00348d9c-1214-4706-82e3-8b8e7545acc9\",                        [{\"hovertemplate\": \"color=low<br>PC 1=%{x}<br>PC 2=%{y}<br>PC 3=%{z}<extra></extra>\", \"legendgroup\": \"low\", \"marker\": {\"color\": \"#636efa\", \"symbol\": \"circle\"}, \"mode\": \"markers\", \"name\": \"low\", \"scene\": \"scene\", \"showlegend\": true, \"type\": \"scatter3d\", \"x\": [-119.81759621100102, -168.80933779931533, -169.56557100589268, -190.44464858369108, -190.41880069761646, -189.04458206996722, -108.3592060771268, -101.44190638305751, -108.41073565210415, -108.24465617406855, -103.5108224834216, -78.95043472014656, -105.848175377339, -98.91248837266068, -104.63584134680107, -105.46342491074054, -104.04512646785666, -104.59680209328343, -78.77758704441, -99.89733792226433, -79.38264227421338, -102.86330201369387, -101.28940314009162, -94.41903930813973, -99.0064249491977, -58.17220557627832, -94.04036791838068, -61.66940761795747, -167.40931827645903, -168.06692957994784, -180.55234095007762, -179.59232289557693, -182.77661531159916, -178.36174361291506, -180.99739689397433, -180.96624179263975, -175.19867069331914, -175.2581567411765, -178.50891704804306, -170.98069979140863, -169.18510528446834, -173.75282073140426, -173.61406813148545, 40.9783937201091, -109.08766827092117, -195.27074020649698, -87.40021377544801, -86.05450832524656, -76.14802845236015, -74.82637260432229, -75.33281844398064, -111.12688129872579, -108.09921226448972, -113.10847087139716, -109.20762667347753, -136.89008825655148, -133.28501299325828, -136.88392203228625, -133.78170406848778, -166.7164873201346, -164.83736463550102, -166.58113382927817, -165.44695652485606, -141.8349558032692, -143.6564057854511, -142.04590176883954, -141.791367494203, -144.74133449583957, -147.28993400523382, -143.19444983968677, -127.29733455168139, -135.88006172211814, -137.42848730853424, -139.8630267284515, -138.37243459805958, -217.92712440120675, -213.33867967213232, -212.64466752339328, -209.78023884374971, -212.74160089241937, -215.13067033338203, -206.59678338471807, 20.030690954185154, 18.7837670106299, 18.619174229996283, 19.23741268758788, 18.60158500580337, 21.730960397149754, 20.868024359515896, 57.930428577628184, 19.42136963536612, 23.820417306924238, 19.576554182824182, 20.404247743530096, 18.791782595422166, 21.221137742060716, 19.45502764689222, -217.60865711154264, -215.1446261892045, -217.1612439823534, -213.99368912415866, -214.36120888108502, -212.78234036465577, -213.50993216782575, -217.11055977601222, -154.85279382496674, -149.2184032599217, -164.09051115713848, -94.06360452934857, -81.27231443057286, -92.31873637069515, -26.946868519544584, -23.347190358714577, -74.5168628745858, -77.45000842326513, -193.5275753886989, -193.04727324567102, -140.09472357767902, -137.02202540569922, -133.53604383598972, -132.44161607134137, -133.2396375340149, -133.0229674255593, -133.67184818938807, -135.59694620669976, -136.20430735461514, -126.76417829363305, -137.5534955600188, -105.98973259415703, -107.64843357926239, -172.2797524047391, -187.37450488298694, -188.23597987018118, -193.05223813382227, -188.89308806446516, -188.5534480855114, -163.33615893644503, -162.51074666847109, -159.72855917046166, -162.78334977028715, -163.23413285034206, -219.73628087811827, -136.62615163240739, -119.68073343619011, -161.2047996483975, -173.9884495940356, -174.22359590393918, -174.31772241187946, -129.04605841185275, -126.94915041377041, -128.1592180228018, -125.25370395850265, -125.4788329621647, -109.58330987524353, -109.68972657928826, -99.36960673098622, -112.00253157260686, -108.49913036441036, -108.43416635466771, -108.75165293144802, -109.52672950897583, -107.28393762314354, -110.15915173097595, -110.248615243897, -111.14072043757089, 9.503687007666965, 10.744501395711875, 14.03933498343086, -114.75490402167776, -106.09593157994847, -132.90436322169603, 2.407421581440748, -63.54614123208589, -57.04706926395782, -72.12917092208029, -138.8270310301683, -84.34630588299939, -85.47311240638273, -7.209994609852304, -14.746244559075631, -85.62047095806263, -83.96950699718668, 279.22743396976136, 294.9038882884105, 302.44240692476086, 281.22648046041564, 277.6940684868991, -138.64797226226426, -139.4083324991093, -138.3753664279877, -137.4450019667713, -138.87215155926998], \"y\": [-5.53898918366885, 10.17445921509744, 14.021696852330699, 18.26011383152744, 16.031457000033672, 18.728796262496324, -8.7732536963259, 7.266887188982836, -7.513822312721461, 0.9892427964975116, 0.8812046932379584, 94.56076402672268, -3.0913133792354777, 10.594681065468542, -4.710593396140406, -8.832913832637692, -6.612640800303962, -6.41023367034987, 80.56959594427634, 10.276658646619838, 77.7194580615705, -0.347428931492784, 7.037958988197087, 26.313334381479553, 10.377621233849904, 148.37351628258, 27.618464211041754, 133.2250697567734, 8.772220285271878, 8.766286120676654, 24.149993662030905, 26.09629607392593, 15.509080341392284, 20.20851828177488, 13.08440963650708, 13.104084421280444, 16.84179366991511, 12.897975795813862, 12.958423213168869, 11.410415812820002, 12.801421086186915, 10.174991483908844, 10.205506906527901, -55.94447285020537, -10.277215338315115, 21.32514790846344, -17.228919535518898, -17.23616244280585, -18.99391258145857, -19.671189545787122, -19.705415623368644, 4.663131685898016, 11.133481276204014, -2.2028856420714145, 10.94963789066652, -1.0413171378224386, 0.010288141622195851, -0.9975011651221852, 4.926222349300224, 8.871859000967927, 13.18181931268209, 9.78931436180831, 10.502732841367402, 1.9166655896482647, 2.8078662159703107, 6.571899787856298, 5.21941343513767, 3.8867021438984857, 2.7352353357306147, 1.9792150056629811, 37.49926133363062, 5.1584374119254965, 0.08113861988319565, 3.4764445433940856, 0.21752945129885348, 33.37134648310267, 44.27942951635588, 43.847357958520156, 51.334164500044515, 42.610517265179396, 37.22190204141792, 61.90420999854311, -42.418859931150195, -47.0399660706624, -46.963303956714135, -45.28885717298791, -47.060110474384985, -36.45142998531694, -39.17695861318846, 81.24462604641103, -44.89469131600766, -29.165380904823664, -44.33808797020664, -42.314885474580386, -47.01394612020328, -38.49204951246228, -46.89651081937813, 24.484108697792948, 25.61543517177642, 24.49660977507032, 26.942332962889854, 24.31778468992207, 30.09325500695021, 33.89888718953758, 28.477601767277708, 7.205105875369097, 23.10573286237793, 9.016555291878358, -15.034532002566774, 25.72256389229193, -10.56173929011904, -36.30668323686886, -24.235364777304042, -17.532337593385048, -19.127975488613927, 19.491974577338574, 21.61268578553033, 0.2177852425904631, 1.9722717522366018, 7.116158772164296, 14.90984755360621, -0.12888992070717112, 3.3553547512244823, 1.5339592512459743, 5.768614890220994, 10.70646488449675, 46.250468580102414, 3.2008517488595536, -6.987228850528357, -9.078944919571622, 19.820477428104176, 21.19611914328182, 23.872683081827855, 16.057815324725343, 17.684528541985905, 21.62868851898751, 6.82730127714549, 6.771765048770799, 14.057815650903038, 10.153671874399722, 6.8824643621228105, 24.543038202991312, 0.04011893085180543, -4.356547574928111, 63.76696173481073, 9.571445262865286, 9.496489856674295, 9.610241506709162, -3.3064948663303677, -3.4125605323503554, -3.4330837558854608, 0.34489717071142456, -3.4573630683853174, -8.059183049905013, -7.342817892161183, 36.723832316529254, -7.874023881701909, -7.460706959657216, -4.676655327520593, -6.911754518562265, -7.475896762646373, -2.012529914990762, -7.906716216400066, -6.325850870019698, -7.220329902586526, -30.691765263924655, -23.77478727280599, -17.476999618677702, -4.815856752412446, 25.54011747120534, 0.07843764927200876, -35.68035570718059, -11.033812491342596, 9.065699568285954, -17.097899749567468, 5.087623386897656, -10.03523427803183, -16.79849291304399, -14.035734807374256, -34.47805783467, -2.833756015231038, 3.607761887556224, -125.45427541158875, -76.58193444443269, -52.062530385760354, -120.71371156113707, -127.20301710711472, 5.8236105179710735, 1.0982449096864688, 0.9680679745804249, 4.298162868894575, 1.1449421241003352], \"z\": [-3.2679204144924165, -31.07608686857465, -16.132237089679457, -6.087748672401645, -12.485524594373736, -16.344555517714497, -12.170866218392469, -29.194381690197666, -8.217622329223701, 12.875784412322158, -27.735275915634002, 9.080932622985758, -18.30795979032324, -40.73957640654726, -33.300174494909236, -36.08133547609172, -42.42294050811572, -37.54110314235745, -29.111622758529265, -34.02153914807918, -31.523779750019266, -37.06609958640052, -31.275582926428093, -37.51740889075747, -41.33237911942954, -25.710748447241528, -37.74782315794141, -36.603169684429695, 61.7989005372149, 66.83857273508762, 26.36309056371219, 23.439070480375285, 23.04080851086906, -2.497686057995556, 1.7491010806843146, 1.8034070411373309, -38.03464400337447, -46.80734711488475, -19.987488988650146, 6.985356320404684, -5.551456559043305, 26.629058564360584, 25.98474114114792, 61.107648994485864, 63.22552125181366, -6.1702268057457275, 75.50740081267152, 64.66828119243299, 30.19240248691733, 17.774610491088907, 21.299942060924984, 29.74513990541536, 21.225602350471558, 28.673473256006453, 30.070162335813965, 23.646315356851844, -4.571976210832245, 24.25209009664082, 13.281798982247976, -7.011627758464658, -12.515532205765096, -5.2345121775502665, -13.65035032282507, -33.2291924715155, -15.396277192690354, -18.317453152757384, -24.20668549627441, 7.802137137410286, 26.69288901385832, -10.480185767508482, -9.960778775289537, -20.639310623337707, -23.626062033207635, 6.312323681662983, -14.061829833680012, -31.351892065868416, -42.01985630160246, -48.98961429561228, -52.83335996265637, -51.29930146569904, -45.41852345387164, -51.811951984824496, -27.907183645875946, -29.82608670810455, -27.295359123808097, -29.489008803371725, -28.574695773288077, -28.08150956582993, -26.974466797436737, -26.545076944032342, -29.450807060432084, -25.558453662884016, -29.4439003205555, -30.169589114098393, -29.46511570869675, -26.829515358052955, -32.836006952211164, -18.46597241517738, -37.21708053564806, -21.83145888023647, -43.762938041990424, -46.86439529281556, -43.5866987203648, -27.35928198167876, -13.732605951627418, 62.58342249363338, 56.21390657947882, 59.427859895329654, 63.48920554661537, 62.01335576408327, 60.29991695748156, 94.11134453972366, 95.34183263253898, 62.60685769167424, 81.399698871948, 64.6780417295942, 65.91081765873358, 14.391165511372526, -8.140591049252313, -24.019872349152255, -13.127023600746517, -45.43409989192572, -38.71636912410333, -36.95911192815167, -9.682631751738423, 7.688713384965092, 23.275257532640737, -0.34250411465993863, 62.60796343265565, 71.92932164614223, 62.5060370590177, -7.552537621915425, 7.223642476302782, 27.344470305010415, -4.698921033862692, 1.5217903837277413, 31.318048028732477, 23.90101559812592, 19.246683640068685, 35.4185638919777, 31.33296665594682, 65.6325816398778, 75.0811183814835, 45.30761075885323, 56.61466271414289, 59.401530499291155, 60.17665851190085, 62.612468575718324, 18.588255459435615, 0.2701442627069021, 9.618604194803993, -5.470731702111505, -12.127121274772769, -27.685923457120467, -24.01482188282539, 5.770877516783958, -5.562450964245978, -34.56753032172985, -28.232873025219643, -31.629899349237387, -25.180094946061626, -29.704345122562884, -20.829843701589258, -16.651938021548574, -10.716658706636094, 27.255095282806526, 34.39918470693254, 22.93447903559896, 34.5489703471881, 39.78079340784318, 19.14632601495974, 0.890445691803926, 2.4820543569755817, -0.08176801496181686, 72.470742233908, 61.410709583652604, 37.9873842364711, 30.08073913083192, 57.21199144171727, 69.14543436085161, 72.01193177660679, 74.39721547774752, -0.06595090156705082, -4.179748995040742, -3.778487251666797, -4.645446658670494, 7.633818155439386, -21.201062779827712, -27.128221541030996, -37.321263601466136, -36.16719605200197, -30.728436990686173]}, {\"hovertemplate\": \"color=medium<br>PC 1=%{x}<br>PC 2=%{y}<br>PC 3=%{z}<extra></extra>\", \"legendgroup\": \"medium\", \"marker\": {\"color\": \"#EF553B\", \"symbol\": \"circle\"}, \"mode\": \"markers\", \"name\": \"medium\", \"scene\": \"scene\", \"showlegend\": true, \"type\": \"scatter3d\", \"x\": [-104.31151277385479, -102.1768746557602, -98.34047701544173, -99.90385051885528, -100.71380528433369, -103.20892911287646, -105.02782353831635, -134.37113605637626, -129.2958818231016, -136.6818505368787, -136.67653829913706, -192.9174351607644, -162.36600295247223, -26.030104997611065, -19.24721712254261, -13.885011756431128, -20.217905031210698, -19.363886785750694, -23.653623591441672, -33.218359189206176, -34.19260744115121, 61.829269062053804, -32.2020830505866, -31.512469901126305, -31.235524220079956, -32.05792032500413, -30.423516142335682, -31.655668793132357, -30.892440623931257, -34.7515212199393, 12.458798351967513, 13.83495920875556, 13.50041638876142, 14.791750190856321, 28.01545397146981, 12.449727565351964, 12.953841512293202, 28.51739096642245, 12.44859059211355, -12.98059367349625, -13.023809718500459, -13.082403071812509, 52.223288450309745, 52.97458027242866, -11.825619928030353, -1.9862085991224692, -0.4826910569519415, -6.739385680923934, 2.59712369436334, 1.1769332945755595, 25.74517674753062, 8.359268095795288, 75.18118521267715, 76.01287756121248, -4.741986719769458, -1.2651795986995118, -4.249716371608244, 2.3819913022327626, -8.778902071359589, -12.565740281326748, -12.566140244212583, -13.770554439192946, 31.36745042167314, -6.773301252390493, 33.918116941928425, 15.092972390272445, 5.469987839840303, 16.571375297520582, 0.47203910124094633, -116.58662158034716, -116.69216102338113, -117.2797661294053, -119.87284845556847, -119.08860981905224, -117.71021106997237, -116.48426146444189, -25.23852708730083, -23.026427984219996, -26.413867705888194, -22.34501529809289, -24.913941505509356, -25.70981602505981, -136.86019367105698, -134.64833867160522, -134.74217148257011, -134.15130397849074, -115.02200057121833, -114.2787796917762, -115.31733402028519, -115.3227051851886, -110.06069677724491, -114.5793343822646, -78.94998243802955, -84.20862167943561, -87.82511670255481, -79.91663675312277, -82.13388057619848, -90.42870821634085, -91.51223771964472, -86.3226676388091, -89.2629982043812, -92.60667083682522, -146.79077889469986, -143.40752467348588, -145.7934953976251, -147.60613702345663, -145.97225271348947, -145.535867871678, -146.60650131594284, -145.4585101392903, -148.76890634204574, -144.62417807122986, -146.90394167576153, -149.72087317753466, -198.6917261373334, -193.49614628313756, -196.94015767377462, -191.78730735992232, -126.63795738467256, -125.40837603757736, -119.99537393269273, -58.45808828634825, -60.44760958995279, -62.795982339585336, -90.39617707543603, -88.83082193631971, -91.13406551178254, -191.78557068373067, -190.0231447170954, -190.08246692348348, -190.05982669968813, -128.25047754145362, -128.0724498263505, -128.34827871575928, -124.48784867059017, -129.3223268425416, -130.53164232027027, -130.2128140296689, -128.80371620758723, -187.22597312823765, -187.0397811479934, -189.53593008422678, -188.46212324013564, -186.70092344716736, -189.04874074347583, -188.5227885331195, -187.42965393390358, -51.63366530668305, -51.65052089727214, -225.29302443990574, -29.084710174087316, -30.06792189611065, -30.04848270650527, -27.23975116522538, -27.559726942366325, -28.1020585602624, -26.94393371281386, -26.75406384243192], \"y\": [-8.708266234298947, -10.116623099293033, -0.163493205165133, -0.25537354961492553, -5.803536819073572, -10.003240670834279, -3.645666119343833, -0.5909386905427731, 17.93844248737699, -0.46253561240603713, 2.8951222942043007, 16.066847572389854, 10.123767863192656, -33.266842351046265, -22.27589167899377, -13.264479341162666, -25.833769627002063, -25.334709082324117, -34.48387374010783, -29.43618115142183, -30.172693305357807, 280.3432845925124, -29.105577888292753, -27.43268495163031, -28.74199687665578, -30.2504894266913, -22.61768630962946, -29.908704106765928, -26.01789602658155, -28.005232010801045, -44.250122088064614, -43.63232840094809, -45.5040869033447, -37.67625010259168, 4.237755671741052, -41.983860226142085, -43.19051227867502, 10.306628372101159, -40.1955502856484, -36.9504173268305, -36.96685794489544, -36.91308785184525, 177.19334834364736, 180.59112144252828, -31.965254771532756, 1.2044480251644263, 6.096510995055139, -14.050143451745852, 15.774212732671495, 14.264929439875315, 91.9536072182683, 35.50599836213251, 258.3793701236251, 257.7428580147376, -5.325251460577949, 3.9422050419044647, -6.004794532280904, 18.266757418929107, -15.896036393898509, -30.447513762639236, -29.30773419450518, -35.36929310328373, 112.73873290365641, -11.006926634597052, 124.83242448135219, 58.3066430437687, 26.82527018839407, 62.97285383988732, 9.549595242969128, -5.673872659272191, -4.3475557908126605, -2.077550486492535, 0.21046502141567328, -1.9574846027424928, -4.407111012345883, -0.316150747110711, -32.42759076322307, -21.806303994091365, -35.34460430757293, -16.889736268619213, -28.389168967800057, -29.171746870911313, 4.227196925215638, 4.011401306742592, 0.13409386088233707, 3.1072180183118885, 10.24348959207114, 5.940126761197147, -1.2354342566879526, -4.496438061259731, 16.456900221378376, 14.791646712663606, 7.8113457772775154, -8.035064508729688, -8.94206388058891, 4.267278537624088, 5.766517978919692, -12.279340706874276, -14.670599426296386, 3.702146656333329, -4.952499784327326, -15.410893729866622, 10.326763283283837, 16.519726539646697, 8.3062133955726, 7.560317655304948, 11.656710379229448, 13.030436657815004, 6.931605729660786, 12.16625870562618, 8.154001514999702, 15.949944139746737, 15.386612773835443, 9.993932853669323, 17.928780387759318, 26.815521161270603, 22.360257112524522, 36.680327795057224, -4.469916842131001, -4.540596822195455, 19.65120673809209, 4.012779040545542, 0.8184051048996063, -17.782553638308546, -13.966540755441816, -2.2781513237509716, -8.875627027262631, 19.19704749358501, 19.485469604669532, 15.964305497046364, 16.025204711154537, -2.906282453317567, -2.9133159709305745, -2.8585012790221986, 2.558754194908079, -2.8525037023938635, 0.3673389791194168, -2.7709329493731096, -2.8100582152265616, 22.501436186620005, 22.81492174706201, 15.670776647516908, 15.627786426354486, 17.56361978973777, 16.388314669394592, 15.637013885671708, 15.56252743978876, -27.13842692164565, -18.518860533729526, 38.41065684226858, -33.32826538035052, -33.277296102416614, -29.71233490031072, -33.36346969053906, -33.378821314083815, -33.38143546077369, -32.30296333505979, -33.41636751123646], \"z\": [-7.539986278258696, -30.08104006095632, -34.558351341191624, -22.533027426003763, -29.611137102624298, -20.180817873885903, 12.94947188141447, -19.733979025537977, -14.221272894271653, 0.6218339332228867, 9.348572677960776, 69.32890073671078, 64.39435821272646, 38.54533095019302, 9.097787821962068, -13.272503199390327, 8.214174011464321, 2.158880635052179, 15.002504721482607, -18.10351292359038, -11.556003328781772, -14.983624024317256, -24.728936829303642, -26.489359378663345, -32.01660549955655, -28.64854327326942, -22.911962638218068, -31.909080798136255, -27.7084033392011, 0.34836541773736346, -15.340486252867093, -24.713180725964286, -26.72501600682802, -17.49160070336672, -19.925716579221838, -8.732768846721447, -16.34448362670429, -8.216142795747608, -3.4845903069037054, -35.16933973666175, -34.9740664829789, -33.85950624724238, -29.659666802684466, -28.375621230546198, -31.957860458811478, -29.31314836245943, -29.54101566871181, -30.702169191398088, -32.0247861566497, -23.240095885719292, -29.179057065006766, -28.859218087125644, -13.118542649240382, -21.9922521853119, -28.169544738498438, -31.322128945962024, -31.743686787358797, -25.09396548058899, -22.56264912938929, -28.52582475870469, -25.38219051114651, -26.76746745080027, -23.499916806768603, -26.68650620475684, -13.095171934146622, -27.453830365996183, -27.718500731365577, -26.96590737610015, -30.04453248680817, -33.394810215744215, -29.469858177198475, -17.95631401033091, 9.817605006954162, -1.7400629835964045, -21.05705802824602, -21.388499929876545, 42.04928433391273, 51.424856349507216, 44.00135600379462, 57.83629178522079, 50.10151858659813, 54.07557524085264, -11.459054396741728, -32.57830188236894, -40.563954534328396, -38.59532423552467, 39.981619888327494, 21.91559722092542, 12.157913849380824, 3.70786359202089, 13.72850602248746, 48.29711588420766, -6.754302141103384, -2.9252530495807663, 24.92274892934953, -8.433057713064342, 14.595510141794469, 38.3076614432177, 41.541492239359755, 45.350021240119545, 47.136042213370764, 46.63457303683993, -19.512330668287646, -30.494002097889968, -31.0538035028115, -17.356667918350933, -22.059427575742202, -23.044777744150604, -27.295251422352116, -24.27785952871534, -3.955179606088932, -19.970536863307576, -4.604392994681671, 6.0335462640249515, 15.96321051988471, -7.21056510299933, 12.41739877704183, 4.315694964355246, 43.378322192670225, 32.50908599561856, 50.21753728888237, 70.236026609208, 78.25520385761396, 49.20065090030777, 27.84195773731683, 45.09713873014717, 46.309882027074266, 18.07987891178754, 4.509414108883322, -5.37044109684361, -4.647306220447073, -6.489806800692311, -8.015186412341707, -4.976807315391141, -23.716870811727876, 2.8864610931932333, 22.18074054709022, 11.195347136084404, -0.6296079905850785, -1.3257740840899201, -1.8304277658206343, 0.8807634441958554, -8.319745662767083, -18.40360664819994, -1.3435962101271652, -7.691920530705434, -17.528527280164287, 33.50463922003576, 55.833177325430285, 54.94581896088033, 1.2346441160433448, 9.860652257563345, 19.869604650737394, -13.990775096521462, -11.688817655491784, -7.396346196351839, -14.018486417320318, -18.68389681421614]}, {\"hovertemplate\": \"color=high<br>PC 1=%{x}<br>PC 2=%{y}<br>PC 3=%{z}<extra></extra>\", \"legendgroup\": \"high\", \"marker\": {\"color\": \"#00cc96\", \"symbol\": \"circle\"}, \"mode\": \"markers\", \"name\": \"high\", \"scene\": \"scene\", \"showlegend\": true, \"type\": \"scatter3d\", \"x\": [-132.2546350404425, -132.4071620100861, -130.18406719026535, -122.8488967810692, -130.81020119496975, -132.4792169274462, -104.63188796504647, -105.02989071868274, -105.1638893005018, -106.91995579195658, -104.14153299606906, -102.9762028274748, -103.97345334990528, -99.84118692809722, -107.12931956052955, -107.19547187002283, -102.34387107002242, -101.3041027118623, -104.76797750057189, -103.12424418780394, -97.39888315113585, -102.44603436519455, -104.6555256466817, -105.81191100166434, 242.7580107313913, 237.90776219163348, 236.05310298325858, 237.24689157168118, 242.35297730883224, 249.8323936886522, 241.365698321772, 249.0646485008979, 247.74450311018762, 248.05781631656657, 259.8835427239629, 314.6015129632259, 242.3546510337946, 242.17352755311106, 237.37199301588893, 245.35351749842047, 249.76094810706508, 237.95997327595762, 238.25107927482046, 237.50922827663416, 247.11668030825155, 237.52066621354868, 237.76986418709393, 238.86878414470436, 239.24322209498231, 237.77984104454063, 237.70765342095302, 237.66950377002797, 269.85942217766217, 238.04364334866264, 238.2827822994275, 237.51557950039577, 245.03080955130272, 237.51628219584762, 237.86228031286555, 241.10321184255866, 237.61473849608618, 236.81334279377583, 237.18268945052475, 238.82931501635295, 237.14659792038321, 238.66413072022328, 238.88402884005168, 253.25012411912604, 238.3899444465068, 237.8840117723962, 243.67581536990662, 237.81859588537714, 257.2290822962479, 243.04938116394285, 245.79694932957474, 255.97446964422727, 261.3463204819575, 300.70190682469286, 353.34397505147024, 343.0060529436213, 345.25453883347757, 292.208288781165, 329.06207950947834, 345.8287511131272, 346.4179919863336, 315.8631320530994, 350.36416624195056, 337.3309929981323, 260.1810601707922, 259.39056645340827, 266.966602444906, 351.1687691836738, 349.58106643846406, 350.9422599162774, 342.6606243521659, 346.6474848839195, 323.18199532903697, 335.28524531359335, 327.57141137802444, 328.9769770686679, 322.1735823913646, 322.73311051521847, 323.48602391568, 320.8300231437679, 344.77625058117746, 350.8662194718105, 332.62983179563065, 237.1469881636177, 239.01981800374318, 240.42876041184476, 237.61106808499213, 240.47431802454233, 283.07808481905613, 340.3383557746804, 260.0631055789605, 239.68251371675785, 237.40079277667823, 264.35907089835246, 352.2898471249122, 249.3225039817493, 240.06670707070958, 243.41370803888094, 350.6350802922199, 336.9860815840716, 348.9315350868407, 350.3625847169889, 272.33928546123934, 235.89853974544658, 277.6910432373779, 237.79296844474263, 235.77324330276386, 237.11921593603242, 234.26840642816205, 250.95050675575814, 345.0750170836954, 255.95381014426385, 243.33502605193388, 233.76418438142917, 235.83007445558988, 236.76707751381312, 235.95439768515774, 240.5804664592397, 250.00005682411526, 264.7752480290511, 236.990164066499, 251.46943212321455, 242.25373305025158, 240.3070161707763, 234.0499206929897, 235.92805234819187, 235.4100255792638, 233.0995278954921, 239.78169391678182, 235.36585778233592, 236.73396508549197, 235.66636716330717], \"y\": [4.066258010244382, -1.9371943340404925, -0.3028834517817184, 15.85541850173213, -2.091553906833542, -0.698869693811664, -4.019113449186188, -7.306965278137755, -2.709110899773908, -8.987263355650697, 2.204635351072224, 5.052294603451777, -0.011364017473504984, 14.725590376829041, 9.744001289065821, 7.147356071224698, 8.89410097014092, 10.854331837981762, 1.4307028054639859, 8.04987186001251, 26.192769683650884, 10.458198369568771, -0.8290312613885978, -2.4341661927455283, -95.80542681670019, -108.87461353002261, -112.75186664692248, -108.25446009328887, -92.87114490146017, -69.95202138002908, -98.82927101691779, -72.19285196853032, -73.70506777289499, -73.91050884119628, -36.87537238313537, 139.62415203256035, -94.10321174609939, -93.89494659909384, -109.88283439320469, -85.07925077005707, -67.5633193820815, -113.99935865766739, -113.93177992948405, -114.0641983753142, -81.60920351943464, -114.07446053951243, -113.95159425666769, -110.97614098023894, -113.5048609663084, -114.01554204338224, -114.05452585045747, -114.06578819641989, -7.679906249727858, -113.91489037761582, -113.91920976459856, -113.82233542412796, -91.04367665653953, -114.07290117236899, -111.76191586803395, -96.40762945075208, -113.9953917752978, -114.08674959636662, -114.05078777950648, -109.40016695901731, -114.08868697670025, -110.42185125221843, -113.76375793975735, -57.68315579589666, -113.87976379812696, -114.00333521043656, -94.2011848257074, -113.9233238509822, -49.232403750180474, -102.2048538370431, -88.4774485963964, -52.287410340944106, -35.44505366540789, 93.79641628298481, 263.08807452832366, 231.8620028858946, 237.9480939939486, 63.770473727016885, 181.3729603431481, 239.48007920046535, 244.8930381937267, 143.8407671042615, 250.1121192694379, 219.25645501639895, -39.42303608892396, -40.57343395663447, -13.383102859404369, 263.0462914360463, 262.03937213819205, 258.1645423969325, 242.05204582976134, 247.67434813823658, 173.02894968331842, 207.39835513254565, 185.6339959613855, 187.6402628750839, 171.77517694623336, 169.59356863795747, 169.2048540176514, 160.40600725264676, 239.17931981362946, 256.5743804965801, 199.66997802208198, -114.03577410248356, -108.71630953577511, -103.65021620952474, -113.0242607607729, -104.38955885706122, 35.50308951278517, 224.27490389245347, -38.69502846937529, -106.07106078699277, -114.1022140683107, -25.478288083954794, 265.07109600752256, -74.35556398254465, -102.82276730848645, -94.04722004322569, 258.9948368958658, 216.71393126365078, 255.38574478867184, 262.10681554752875, 5.16567976193092, -114.10964313032946, 21.331993738143954, -108.90340110555285, -114.10225788858057, -111.23000657768144, -114.01540835551235, -54.1766304340324, 244.30822786387606, -51.40972384553122, -87.02435902716871, -113.91075626220224, -114.11346860853821, -112.66981564708198, -110.73289636802912, -92.88882735480585, -71.71692343678971, -24.06937309758593, -113.46291756881055, -68.66242792084148, -97.64563283959146, -101.11844637994216, -114.05323614069015, -110.47381685933749, -112.61409926725946, -110.1204669826968, -88.89010708224433, -106.06334265836414, -110.04640366823479, -105.67065712139394], \"z\": [26.9128423839763, 12.679394000754554, -1.9998254832450042, -22.381995948843134, -2.3785715704519586, 15.991809025289024, -31.656387612733514, -35.32813812863745, -23.444825314997654, -25.527430041138366, -21.95112135488318, -25.077274359964978, -28.598950965532417, -24.004641777070482, 24.540050390668775, 20.05184638348142, -16.30531729350474, -21.714338170770628, -18.239816733359635, -15.54720576553202, -13.962315831636973, -11.246343823777801, -22.593717364558326, -18.016619637870264, -6.396021943336526, -1.141353887629476, 4.7110830690197245, 6.289944590281923, 2.286889659607882, -0.43612609593068924, -4.586675449642581, 0.7894076604461187, 6.626642494482256, 3.0466192345615664, 0.33215779627642544, -1.5449193949611117, -4.567106066824413, -2.1996384787509142, -3.083518589043759, -4.982462232776204, 3.364711459003512, -10.822474914815967, -11.22024050803312, -7.215538694570155, -3.8743807767413494, -8.640169561284916, -7.09775948454155, -9.841660269882262, -4.226717273541357, -9.093558797515614, -9.902378066942113, -9.907886355061208, -1.5203679551956846, -9.556968074815982, -10.597089740550103, -3.2499068167560345, -10.118954222436328, -8.780946513911013, -6.64656132432609, 5.132150076326776, -7.982392147532466, -3.332272439825917, -5.163611671502557, -8.114136697472583, -6.3549312807927105, -8.815286177908932, -11.382300588441824, 7.276744415883579, -10.809038446434206, -9.949029354296465, -9.01424631941814, -6.932613548559798, 1.8039842722938175, -10.722071333804292, -9.335786706205415, -6.036358691250015, -6.099194512519881, -3.0201731081807472, 0.9129616519372425, -0.3282044991289772, -1.4347652685497962, -4.8277243834051795, -4.276195007510692, -1.6468439344246413, 5.835846241182402, 4.427802978787088, -1.1326838261603076, 16.271967201106232, -6.761299696545875, -3.4556195108604784, 3.620334180807107, 11.31816068623994, 22.635499743881677, 2.849520820573835, 30.302841821371203, 16.003280609525085, 14.234185539540453, 1.5849574840014784, 9.161113962804185, 2.8050062524843637, 17.985244601213925, 7.5586287156884335, 2.0086791436199283, 1.468550822791212, 4.6592573966729915, -0.8088028436025505, 6.090505052656621, -5.125601437573169, -4.106536584287949, -6.692462732077754, -8.622225324063967, -8.885981639519397, -3.54972205318178, 2.788078954550457, -4.362003134178079, -6.339765643308759, -8.168152945892952, -5.742438463716571, 6.304571242891195, -6.588469925805742, -2.398926633799155, -7.667442602212378, 4.98183786233905, 9.653519694636408, 9.421225060713512, 15.534082531675088, 6.491515422100319, 3.4001617417370125, 2.29309943299362, 0.39410457371779634, 4.487935787842117, -0.21142719220770392, 17.939018738291942, 32.29284901055134, 12.205460617065965, -3.2462501258899077, 13.692405919232309, 24.172424642458825, 3.5873125086323374, -1.1058359401594535, 10.876570464237204, 17.62166862013292, -4.590027347581902, -5.447956791844799, -4.117762409894768, -6.81592466328218, -6.205440691665365, 1.157597491547559, 18.86346345559598, 11.619033108881004, 10.15349226373146, 37.32809212560765, 36.29839925800296, 28.634708566559453, 6.9242504046354165, 27.48639799752402]}],                        {\"legend\": {\"title\": {\"text\": \"color\"}, \"tracegroupgap\": 0}, \"scene\": {\"domain\": {\"x\": [0.0, 1.0], \"y\": [0.0, 1.0]}, \"xaxis\": {\"title\": {\"text\": \"PC 1\"}}, \"yaxis\": {\"title\": {\"text\": \"PC 2\"}}, \"zaxis\": {\"title\": {\"text\": \"PC 3\"}}}, \"template\": {\"data\": {\"bar\": [{\"error_x\": {\"color\": \"#2a3f5f\"}, \"error_y\": {\"color\": \"#2a3f5f\"}, \"marker\": {\"line\": {\"color\": \"#E5ECF6\", \"width\": 0.5}}, \"type\": \"bar\"}], \"barpolar\": [{\"marker\": {\"line\": {\"color\": \"#E5ECF6\", \"width\": 0.5}}, \"type\": \"barpolar\"}], \"carpet\": [{\"aaxis\": {\"endlinecolor\": \"#2a3f5f\", \"gridcolor\": \"white\", \"linecolor\": \"white\", \"minorgridcolor\": \"white\", \"startlinecolor\": \"#2a3f5f\"}, \"baxis\": {\"endlinecolor\": \"#2a3f5f\", \"gridcolor\": \"white\", \"linecolor\": \"white\", \"minorgridcolor\": \"white\", \"startlinecolor\": \"#2a3f5f\"}, \"type\": \"carpet\"}], \"choropleth\": [{\"colorbar\": {\"outlinewidth\": 0, \"ticks\": \"\"}, \"type\": \"choropleth\"}], \"contour\": [{\"colorbar\": {\"outlinewidth\": 0, \"ticks\": \"\"}, \"colorscale\": [[0.0, \"#0d0887\"], [0.1111111111111111, \"#46039f\"], [0.2222222222222222, \"#7201a8\"], [0.3333333333333333, \"#9c179e\"], [0.4444444444444444, \"#bd3786\"], [0.5555555555555556, \"#d8576b\"], [0.6666666666666666, \"#ed7953\"], [0.7777777777777778, \"#fb9f3a\"], [0.8888888888888888, \"#fdca26\"], [1.0, \"#f0f921\"]], \"type\": \"contour\"}], \"contourcarpet\": [{\"colorbar\": {\"outlinewidth\": 0, \"ticks\": \"\"}, \"type\": \"contourcarpet\"}], \"heatmap\": [{\"colorbar\": {\"outlinewidth\": 0, \"ticks\": \"\"}, \"colorscale\": [[0.0, \"#0d0887\"], [0.1111111111111111, \"#46039f\"], [0.2222222222222222, \"#7201a8\"], [0.3333333333333333, \"#9c179e\"], [0.4444444444444444, \"#bd3786\"], [0.5555555555555556, \"#d8576b\"], [0.6666666666666666, \"#ed7953\"], [0.7777777777777778, \"#fb9f3a\"], [0.8888888888888888, \"#fdca26\"], [1.0, \"#f0f921\"]], \"type\": \"heatmap\"}], \"heatmapgl\": [{\"colorbar\": {\"outlinewidth\": 0, \"ticks\": \"\"}, \"colorscale\": [[0.0, \"#0d0887\"], [0.1111111111111111, \"#46039f\"], [0.2222222222222222, \"#7201a8\"], [0.3333333333333333, \"#9c179e\"], [0.4444444444444444, \"#bd3786\"], [0.5555555555555556, \"#d8576b\"], [0.6666666666666666, \"#ed7953\"], [0.7777777777777778, \"#fb9f3a\"], [0.8888888888888888, \"#fdca26\"], [1.0, \"#f0f921\"]], \"type\": \"heatmapgl\"}], \"histogram\": [{\"marker\": {\"colorbar\": {\"outlinewidth\": 0, \"ticks\": \"\"}}, \"type\": \"histogram\"}], \"histogram2d\": [{\"colorbar\": {\"outlinewidth\": 0, \"ticks\": \"\"}, \"colorscale\": [[0.0, \"#0d0887\"], [0.1111111111111111, \"#46039f\"], [0.2222222222222222, \"#7201a8\"], [0.3333333333333333, \"#9c179e\"], [0.4444444444444444, \"#bd3786\"], [0.5555555555555556, \"#d8576b\"], [0.6666666666666666, \"#ed7953\"], [0.7777777777777778, \"#fb9f3a\"], [0.8888888888888888, \"#fdca26\"], [1.0, \"#f0f921\"]], \"type\": \"histogram2d\"}], \"histogram2dcontour\": [{\"colorbar\": {\"outlinewidth\": 0, \"ticks\": \"\"}, \"colorscale\": [[0.0, \"#0d0887\"], [0.1111111111111111, \"#46039f\"], [0.2222222222222222, \"#7201a8\"], [0.3333333333333333, \"#9c179e\"], [0.4444444444444444, \"#bd3786\"], [0.5555555555555556, \"#d8576b\"], [0.6666666666666666, \"#ed7953\"], [0.7777777777777778, \"#fb9f3a\"], [0.8888888888888888, \"#fdca26\"], [1.0, \"#f0f921\"]], \"type\": \"histogram2dcontour\"}], \"mesh3d\": [{\"colorbar\": {\"outlinewidth\": 0, \"ticks\": \"\"}, \"type\": \"mesh3d\"}], \"parcoords\": [{\"line\": {\"colorbar\": {\"outlinewidth\": 0, \"ticks\": \"\"}}, \"type\": \"parcoords\"}], \"pie\": [{\"automargin\": true, \"type\": \"pie\"}], \"scatter\": [{\"marker\": {\"colorbar\": {\"outlinewidth\": 0, \"ticks\": \"\"}}, \"type\": \"scatter\"}], \"scatter3d\": [{\"line\": {\"colorbar\": {\"outlinewidth\": 0, \"ticks\": \"\"}}, \"marker\": {\"colorbar\": {\"outlinewidth\": 0, \"ticks\": \"\"}}, \"type\": \"scatter3d\"}], \"scattercarpet\": [{\"marker\": {\"colorbar\": {\"outlinewidth\": 0, \"ticks\": \"\"}}, \"type\": \"scattercarpet\"}], \"scattergeo\": [{\"marker\": {\"colorbar\": {\"outlinewidth\": 0, \"ticks\": \"\"}}, \"type\": \"scattergeo\"}], \"scattergl\": [{\"marker\": {\"colorbar\": {\"outlinewidth\": 0, \"ticks\": \"\"}}, \"type\": \"scattergl\"}], \"scattermapbox\": [{\"marker\": {\"colorbar\": {\"outlinewidth\": 0, \"ticks\": \"\"}}, \"type\": \"scattermapbox\"}], \"scatterpolar\": [{\"marker\": {\"colorbar\": {\"outlinewidth\": 0, \"ticks\": \"\"}}, \"type\": \"scatterpolar\"}], \"scatterpolargl\": [{\"marker\": {\"colorbar\": {\"outlinewidth\": 0, \"ticks\": \"\"}}, \"type\": \"scatterpolargl\"}], \"scatterternary\": [{\"marker\": {\"colorbar\": {\"outlinewidth\": 0, \"ticks\": \"\"}}, \"type\": \"scatterternary\"}], \"surface\": [{\"colorbar\": {\"outlinewidth\": 0, \"ticks\": \"\"}, \"colorscale\": [[0.0, \"#0d0887\"], [0.1111111111111111, \"#46039f\"], [0.2222222222222222, \"#7201a8\"], [0.3333333333333333, \"#9c179e\"], [0.4444444444444444, \"#bd3786\"], [0.5555555555555556, \"#d8576b\"], [0.6666666666666666, \"#ed7953\"], [0.7777777777777778, \"#fb9f3a\"], [0.8888888888888888, \"#fdca26\"], [1.0, \"#f0f921\"]], \"type\": \"surface\"}], \"table\": [{\"cells\": {\"fill\": {\"color\": \"#EBF0F8\"}, \"line\": {\"color\": \"white\"}}, \"header\": {\"fill\": {\"color\": \"#C8D4E3\"}, \"line\": {\"color\": \"white\"}}, \"type\": \"table\"}]}, \"layout\": {\"annotationdefaults\": {\"arrowcolor\": \"#2a3f5f\", \"arrowhead\": 0, \"arrowwidth\": 1}, \"autotypenumbers\": \"strict\", \"coloraxis\": {\"colorbar\": {\"outlinewidth\": 0, \"ticks\": \"\"}}, \"colorscale\": {\"diverging\": [[0, \"#8e0152\"], [0.1, \"#c51b7d\"], [0.2, \"#de77ae\"], [0.3, \"#f1b6da\"], [0.4, \"#fde0ef\"], [0.5, \"#f7f7f7\"], [0.6, \"#e6f5d0\"], [0.7, \"#b8e186\"], [0.8, \"#7fbc41\"], [0.9, \"#4d9221\"], [1, \"#276419\"]], \"sequential\": [[0.0, \"#0d0887\"], [0.1111111111111111, \"#46039f\"], [0.2222222222222222, \"#7201a8\"], [0.3333333333333333, \"#9c179e\"], [0.4444444444444444, \"#bd3786\"], [0.5555555555555556, \"#d8576b\"], [0.6666666666666666, \"#ed7953\"], [0.7777777777777778, \"#fb9f3a\"], [0.8888888888888888, \"#fdca26\"], [1.0, \"#f0f921\"]], \"sequentialminus\": [[0.0, \"#0d0887\"], [0.1111111111111111, \"#46039f\"], [0.2222222222222222, \"#7201a8\"], [0.3333333333333333, \"#9c179e\"], [0.4444444444444444, \"#bd3786\"], [0.5555555555555556, \"#d8576b\"], [0.6666666666666666, \"#ed7953\"], [0.7777777777777778, \"#fb9f3a\"], [0.8888888888888888, \"#fdca26\"], [1.0, \"#f0f921\"]]}, \"colorway\": [\"#636efa\", \"#EF553B\", \"#00cc96\", \"#ab63fa\", \"#FFA15A\", \"#19d3f3\", \"#FF6692\", \"#B6E880\", \"#FF97FF\", \"#FECB52\"], \"font\": {\"color\": \"#2a3f5f\"}, \"geo\": {\"bgcolor\": \"white\", \"lakecolor\": \"white\", \"landcolor\": \"#E5ECF6\", \"showlakes\": true, \"showland\": true, \"subunitcolor\": \"white\"}, \"hoverlabel\": {\"align\": \"left\"}, \"hovermode\": \"closest\", \"mapbox\": {\"style\": \"light\"}, \"paper_bgcolor\": \"white\", \"plot_bgcolor\": \"#E5ECF6\", \"polar\": {\"angularaxis\": {\"gridcolor\": \"white\", \"linecolor\": \"white\", \"ticks\": \"\"}, \"bgcolor\": \"#E5ECF6\", \"radialaxis\": {\"gridcolor\": \"white\", \"linecolor\": \"white\", \"ticks\": \"\"}}, \"scene\": {\"xaxis\": {\"backgroundcolor\": \"#E5ECF6\", \"gridcolor\": \"white\", \"gridwidth\": 2, \"linecolor\": \"white\", \"showbackground\": true, \"ticks\": \"\", \"zerolinecolor\": \"white\"}, \"yaxis\": {\"backgroundcolor\": \"#E5ECF6\", \"gridcolor\": \"white\", \"gridwidth\": 2, \"linecolor\": \"white\", \"showbackground\": true, \"ticks\": \"\", \"zerolinecolor\": \"white\"}, \"zaxis\": {\"backgroundcolor\": \"#E5ECF6\", \"gridcolor\": \"white\", \"gridwidth\": 2, \"linecolor\": \"white\", \"showbackground\": true, \"ticks\": \"\", \"zerolinecolor\": \"white\"}}, \"shapedefaults\": {\"line\": {\"color\": \"#2a3f5f\"}}, \"ternary\": {\"aaxis\": {\"gridcolor\": \"white\", \"linecolor\": \"white\", \"ticks\": \"\"}, \"baxis\": {\"gridcolor\": \"white\", \"linecolor\": \"white\", \"ticks\": \"\"}, \"bgcolor\": \"#E5ECF6\", \"caxis\": {\"gridcolor\": \"white\", \"linecolor\": \"white\", \"ticks\": \"\"}}, \"title\": {\"x\": 0.05}, \"xaxis\": {\"automargin\": true, \"gridcolor\": \"white\", \"linecolor\": \"white\", \"ticks\": \"\", \"title\": {\"standoff\": 15}, \"zerolinecolor\": \"white\", \"zerolinewidth\": 2}, \"yaxis\": {\"automargin\": true, \"gridcolor\": \"white\", \"linecolor\": \"white\", \"ticks\": \"\", \"title\": {\"standoff\": 15}, \"zerolinecolor\": \"white\", \"zerolinewidth\": 2}}}, \"title\": {\"text\": \"Total Explained Variance: 98.87%\"}},                        {\"responsive\": true}                    ).then(function(){\n",
       "                            \n",
       "var gd = document.getElementById('00348d9c-1214-4706-82e3-8b8e7545acc9');\n",
       "var x = new MutationObserver(function (mutations, observer) {{\n",
       "        var display = window.getComputedStyle(gd).display;\n",
       "        if (!display || display === 'none') {{\n",
       "            console.log([gd, 'removed!']);\n",
       "            Plotly.purge(gd);\n",
       "            observer.disconnect();\n",
       "        }}\n",
       "}});\n",
       "\n",
       "// Listen for the removal of the full notebook cells\n",
       "var notebookContainer = gd.closest('#notebook-container');\n",
       "if (notebookContainer) {{\n",
       "    x.observe(notebookContainer, {childList: true});\n",
       "}}\n",
       "\n",
       "// Listen for the clearing of the current output cell\n",
       "var outputEl = gd.closest('.output');\n",
       "if (outputEl) {{\n",
       "    x.observe(outputEl, {childList: true});\n",
       "}}\n",
       "\n",
       "                        })                };                });            </script>        </div>"
      ]
     },
     "metadata": {},
     "output_type": "display_data"
    },
    {
     "data": {
      "application/vnd.plotly.v1+json": {
       "config": {
        "plotlyServerURL": "https://plot.ly"
       },
       "data": [
        {
         "hovertemplate": "color=low<br>0=%{x}<br>1=%{y}<extra></extra>",
         "legendgroup": "low",
         "marker": {
          "color": "#636efa",
          "symbol": "circle"
         },
         "mode": "markers",
         "name": "low",
         "orientation": "v",
         "showlegend": true,
         "type": "scatter",
         "x": [
          -119.81759621100102,
          -168.80933779931533,
          -169.56557100589268,
          -190.44464858369108,
          -190.41880069761646,
          -189.04458206996722,
          -108.3592060771268,
          -101.44190638305751,
          -108.41073565210415,
          -108.24465617406855,
          -103.5108224834216,
          -78.95043472014656,
          -105.848175377339,
          -98.91248837266068,
          -104.63584134680107,
          -105.46342491074054,
          -104.04512646785666,
          -104.59680209328343,
          -78.77758704441,
          -99.89733792226433,
          -79.38264227421338,
          -102.86330201369387,
          -101.28940314009162,
          -94.41903930813973,
          -99.0064249491977,
          -58.17220557627832,
          -94.04036791838068,
          -61.66940761795747,
          -167.40931827645903,
          -168.06692957994784,
          -180.55234095007762,
          -179.59232289557693,
          -182.77661531159916,
          -178.36174361291506,
          -180.99739689397433,
          -180.96624179263975,
          -175.19867069331914,
          -175.2581567411765,
          -178.50891704804306,
          -170.98069979140863,
          -169.18510528446834,
          -173.75282073140426,
          -173.61406813148545,
          40.9783937201091,
          -109.08766827092117,
          -195.27074020649698,
          -87.40021377544801,
          -86.05450832524656,
          -76.14802845236015,
          -74.82637260432229,
          -75.33281844398064,
          -111.12688129872579,
          -108.09921226448972,
          -113.10847087139716,
          -109.20762667347753,
          -136.89008825655148,
          -133.28501299325828,
          -136.88392203228625,
          -133.78170406848778,
          -166.7164873201346,
          -164.83736463550102,
          -166.58113382927817,
          -165.44695652485606,
          -141.8349558032692,
          -143.6564057854511,
          -142.04590176883954,
          -141.791367494203,
          -144.74133449583957,
          -147.28993400523382,
          -143.19444983968677,
          -127.29733455168139,
          -135.88006172211814,
          -137.42848730853424,
          -139.8630267284515,
          -138.37243459805958,
          -217.92712440120675,
          -213.33867967213232,
          -212.64466752339328,
          -209.78023884374971,
          -212.74160089241937,
          -215.13067033338203,
          -206.59678338471807,
          20.030690954185154,
          18.7837670106299,
          18.619174229996283,
          19.23741268758788,
          18.60158500580337,
          21.730960397149754,
          20.868024359515896,
          57.930428577628184,
          19.42136963536612,
          23.820417306924238,
          19.576554182824182,
          20.404247743530096,
          18.791782595422166,
          21.221137742060716,
          19.45502764689222,
          -217.60865711154264,
          -215.1446261892045,
          -217.1612439823534,
          -213.99368912415866,
          -214.36120888108502,
          -212.78234036465577,
          -213.50993216782575,
          -217.11055977601222,
          -154.85279382496674,
          -149.2184032599217,
          -164.09051115713848,
          -94.06360452934857,
          -81.27231443057286,
          -92.31873637069515,
          -26.946868519544584,
          -23.347190358714577,
          -74.5168628745858,
          -77.45000842326513,
          -193.5275753886989,
          -193.04727324567102,
          -140.09472357767902,
          -137.02202540569922,
          -133.53604383598972,
          -132.44161607134137,
          -133.2396375340149,
          -133.0229674255593,
          -133.67184818938807,
          -135.59694620669976,
          -136.20430735461514,
          -126.76417829363305,
          -137.5534955600188,
          -105.98973259415703,
          -107.64843357926239,
          -172.2797524047391,
          -187.37450488298694,
          -188.23597987018118,
          -193.05223813382227,
          -188.89308806446516,
          -188.5534480855114,
          -163.33615893644503,
          -162.51074666847109,
          -159.72855917046166,
          -162.78334977028715,
          -163.23413285034206,
          -219.73628087811827,
          -136.62615163240739,
          -119.68073343619011,
          -161.2047996483975,
          -173.9884495940356,
          -174.22359590393918,
          -174.31772241187946,
          -129.04605841185275,
          -126.94915041377041,
          -128.1592180228018,
          -125.25370395850265,
          -125.4788329621647,
          -109.58330987524353,
          -109.68972657928826,
          -99.36960673098622,
          -112.00253157260686,
          -108.49913036441036,
          -108.43416635466771,
          -108.75165293144802,
          -109.52672950897583,
          -107.28393762314354,
          -110.15915173097595,
          -110.248615243897,
          -111.14072043757089,
          9.503687007666965,
          10.744501395711875,
          14.03933498343086,
          -114.75490402167776,
          -106.09593157994847,
          -132.90436322169603,
          2.407421581440748,
          -63.54614123208589,
          -57.04706926395782,
          -72.12917092208029,
          -138.8270310301683,
          -84.34630588299939,
          -85.47311240638273,
          -7.209994609852304,
          -14.746244559075631,
          -85.62047095806263,
          -83.96950699718668,
          279.22743396976136,
          294.9038882884105,
          302.44240692476086,
          281.22648046041564,
          277.6940684868991,
          -138.64797226226426,
          -139.4083324991093,
          -138.3753664279877,
          -137.4450019667713,
          -138.87215155926998
         ],
         "xaxis": "x",
         "y": [
          -5.53898918366885,
          10.17445921509744,
          14.021696852330699,
          18.26011383152744,
          16.031457000033672,
          18.728796262496324,
          -8.7732536963259,
          7.266887188982836,
          -7.513822312721461,
          0.9892427964975116,
          0.8812046932379584,
          94.56076402672268,
          -3.0913133792354777,
          10.594681065468542,
          -4.710593396140406,
          -8.832913832637692,
          -6.612640800303962,
          -6.41023367034987,
          80.56959594427634,
          10.276658646619838,
          77.7194580615705,
          -0.347428931492784,
          7.037958988197087,
          26.313334381479553,
          10.377621233849904,
          148.37351628258,
          27.618464211041754,
          133.2250697567734,
          8.772220285271878,
          8.766286120676654,
          24.149993662030905,
          26.09629607392593,
          15.509080341392284,
          20.20851828177488,
          13.08440963650708,
          13.104084421280444,
          16.84179366991511,
          12.897975795813862,
          12.958423213168869,
          11.410415812820002,
          12.801421086186915,
          10.174991483908844,
          10.205506906527901,
          -55.94447285020537,
          -10.277215338315115,
          21.32514790846344,
          -17.228919535518898,
          -17.23616244280585,
          -18.99391258145857,
          -19.671189545787122,
          -19.705415623368644,
          4.663131685898016,
          11.133481276204014,
          -2.2028856420714145,
          10.94963789066652,
          -1.0413171378224386,
          0.010288141622195851,
          -0.9975011651221852,
          4.926222349300224,
          8.871859000967927,
          13.18181931268209,
          9.78931436180831,
          10.502732841367402,
          1.9166655896482647,
          2.8078662159703107,
          6.571899787856298,
          5.21941343513767,
          3.8867021438984857,
          2.7352353357306147,
          1.9792150056629811,
          37.49926133363062,
          5.1584374119254965,
          0.08113861988319565,
          3.4764445433940856,
          0.21752945129885348,
          33.37134648310267,
          44.27942951635588,
          43.847357958520156,
          51.334164500044515,
          42.610517265179396,
          37.22190204141792,
          61.90420999854311,
          -42.418859931150195,
          -47.0399660706624,
          -46.963303956714135,
          -45.28885717298791,
          -47.060110474384985,
          -36.45142998531694,
          -39.17695861318846,
          81.24462604641103,
          -44.89469131600766,
          -29.165380904823664,
          -44.33808797020664,
          -42.314885474580386,
          -47.01394612020328,
          -38.49204951246228,
          -46.89651081937813,
          24.484108697792948,
          25.61543517177642,
          24.49660977507032,
          26.942332962889854,
          24.31778468992207,
          30.09325500695021,
          33.89888718953758,
          28.477601767277708,
          7.205105875369097,
          23.10573286237793,
          9.016555291878358,
          -15.034532002566774,
          25.72256389229193,
          -10.56173929011904,
          -36.30668323686886,
          -24.235364777304042,
          -17.532337593385048,
          -19.127975488613927,
          19.491974577338574,
          21.61268578553033,
          0.2177852425904631,
          1.9722717522366018,
          7.116158772164296,
          14.90984755360621,
          -0.12888992070717112,
          3.3553547512244823,
          1.5339592512459743,
          5.768614890220994,
          10.70646488449675,
          46.250468580102414,
          3.2008517488595536,
          -6.987228850528357,
          -9.078944919571622,
          19.820477428104176,
          21.19611914328182,
          23.872683081827855,
          16.057815324725343,
          17.684528541985905,
          21.62868851898751,
          6.82730127714549,
          6.771765048770799,
          14.057815650903038,
          10.153671874399722,
          6.8824643621228105,
          24.543038202991312,
          0.04011893085180543,
          -4.356547574928111,
          63.76696173481073,
          9.571445262865286,
          9.496489856674295,
          9.610241506709162,
          -3.3064948663303677,
          -3.4125605323503554,
          -3.4330837558854608,
          0.34489717071142456,
          -3.4573630683853174,
          -8.059183049905013,
          -7.342817892161183,
          36.723832316529254,
          -7.874023881701909,
          -7.460706959657216,
          -4.676655327520593,
          -6.911754518562265,
          -7.475896762646373,
          -2.012529914990762,
          -7.906716216400066,
          -6.325850870019698,
          -7.220329902586526,
          -30.691765263924655,
          -23.77478727280599,
          -17.476999618677702,
          -4.815856752412446,
          25.54011747120534,
          0.07843764927200876,
          -35.68035570718059,
          -11.033812491342596,
          9.065699568285954,
          -17.097899749567468,
          5.087623386897656,
          -10.03523427803183,
          -16.79849291304399,
          -14.035734807374256,
          -34.47805783467,
          -2.833756015231038,
          3.607761887556224,
          -125.45427541158875,
          -76.58193444443269,
          -52.062530385760354,
          -120.71371156113707,
          -127.20301710711472,
          5.8236105179710735,
          1.0982449096864688,
          0.9680679745804249,
          4.298162868894575,
          1.1449421241003352
         ],
         "yaxis": "y"
        },
        {
         "hovertemplate": "color=medium<br>0=%{x}<br>1=%{y}<extra></extra>",
         "legendgroup": "medium",
         "marker": {
          "color": "#EF553B",
          "symbol": "circle"
         },
         "mode": "markers",
         "name": "medium",
         "orientation": "v",
         "showlegend": true,
         "type": "scatter",
         "x": [
          -104.31151277385479,
          -102.1768746557602,
          -98.34047701544173,
          -99.90385051885528,
          -100.71380528433369,
          -103.20892911287646,
          -105.02782353831635,
          -134.37113605637626,
          -129.2958818231016,
          -136.6818505368787,
          -136.67653829913706,
          -192.9174351607644,
          -162.36600295247223,
          -26.030104997611065,
          -19.24721712254261,
          -13.885011756431128,
          -20.217905031210698,
          -19.363886785750694,
          -23.653623591441672,
          -33.218359189206176,
          -34.19260744115121,
          61.829269062053804,
          -32.2020830505866,
          -31.512469901126305,
          -31.235524220079956,
          -32.05792032500413,
          -30.423516142335682,
          -31.655668793132357,
          -30.892440623931257,
          -34.7515212199393,
          12.458798351967513,
          13.83495920875556,
          13.50041638876142,
          14.791750190856321,
          28.01545397146981,
          12.449727565351964,
          12.953841512293202,
          28.51739096642245,
          12.44859059211355,
          -12.98059367349625,
          -13.023809718500459,
          -13.082403071812509,
          52.223288450309745,
          52.97458027242866,
          -11.825619928030353,
          -1.9862085991224692,
          -0.4826910569519415,
          -6.739385680923934,
          2.59712369436334,
          1.1769332945755595,
          25.74517674753062,
          8.359268095795288,
          75.18118521267715,
          76.01287756121248,
          -4.741986719769458,
          -1.2651795986995118,
          -4.249716371608244,
          2.3819913022327626,
          -8.778902071359589,
          -12.565740281326748,
          -12.566140244212583,
          -13.770554439192946,
          31.36745042167314,
          -6.773301252390493,
          33.918116941928425,
          15.092972390272445,
          5.469987839840303,
          16.571375297520582,
          0.47203910124094633,
          -116.58662158034716,
          -116.69216102338113,
          -117.2797661294053,
          -119.87284845556847,
          -119.08860981905224,
          -117.71021106997237,
          -116.48426146444189,
          -25.23852708730083,
          -23.026427984219996,
          -26.413867705888194,
          -22.34501529809289,
          -24.913941505509356,
          -25.70981602505981,
          -136.86019367105698,
          -134.64833867160522,
          -134.74217148257011,
          -134.15130397849074,
          -115.02200057121833,
          -114.2787796917762,
          -115.31733402028519,
          -115.3227051851886,
          -110.06069677724491,
          -114.5793343822646,
          -78.94998243802955,
          -84.20862167943561,
          -87.82511670255481,
          -79.91663675312277,
          -82.13388057619848,
          -90.42870821634085,
          -91.51223771964472,
          -86.3226676388091,
          -89.2629982043812,
          -92.60667083682522,
          -146.79077889469986,
          -143.40752467348588,
          -145.7934953976251,
          -147.60613702345663,
          -145.97225271348947,
          -145.535867871678,
          -146.60650131594284,
          -145.4585101392903,
          -148.76890634204574,
          -144.62417807122986,
          -146.90394167576153,
          -149.72087317753466,
          -198.6917261373334,
          -193.49614628313756,
          -196.94015767377462,
          -191.78730735992232,
          -126.63795738467256,
          -125.40837603757736,
          -119.99537393269273,
          -58.45808828634825,
          -60.44760958995279,
          -62.795982339585336,
          -90.39617707543603,
          -88.83082193631971,
          -91.13406551178254,
          -191.78557068373067,
          -190.0231447170954,
          -190.08246692348348,
          -190.05982669968813,
          -128.25047754145362,
          -128.0724498263505,
          -128.34827871575928,
          -124.48784867059017,
          -129.3223268425416,
          -130.53164232027027,
          -130.2128140296689,
          -128.80371620758723,
          -187.22597312823765,
          -187.0397811479934,
          -189.53593008422678,
          -188.46212324013564,
          -186.70092344716736,
          -189.04874074347583,
          -188.5227885331195,
          -187.42965393390358,
          -51.63366530668305,
          -51.65052089727214,
          -225.29302443990574,
          -29.084710174087316,
          -30.06792189611065,
          -30.04848270650527,
          -27.23975116522538,
          -27.559726942366325,
          -28.1020585602624,
          -26.94393371281386,
          -26.75406384243192
         ],
         "xaxis": "x",
         "y": [
          -8.708266234298947,
          -10.116623099293033,
          -0.163493205165133,
          -0.25537354961492553,
          -5.803536819073572,
          -10.003240670834279,
          -3.645666119343833,
          -0.5909386905427731,
          17.93844248737699,
          -0.46253561240603713,
          2.8951222942043007,
          16.066847572389854,
          10.123767863192656,
          -33.266842351046265,
          -22.27589167899377,
          -13.264479341162666,
          -25.833769627002063,
          -25.334709082324117,
          -34.48387374010783,
          -29.43618115142183,
          -30.172693305357807,
          280.3432845925124,
          -29.105577888292753,
          -27.43268495163031,
          -28.74199687665578,
          -30.2504894266913,
          -22.61768630962946,
          -29.908704106765928,
          -26.01789602658155,
          -28.005232010801045,
          -44.250122088064614,
          -43.63232840094809,
          -45.5040869033447,
          -37.67625010259168,
          4.237755671741052,
          -41.983860226142085,
          -43.19051227867502,
          10.306628372101159,
          -40.1955502856484,
          -36.9504173268305,
          -36.96685794489544,
          -36.91308785184525,
          177.19334834364736,
          180.59112144252828,
          -31.965254771532756,
          1.2044480251644263,
          6.096510995055139,
          -14.050143451745852,
          15.774212732671495,
          14.264929439875315,
          91.9536072182683,
          35.50599836213251,
          258.3793701236251,
          257.7428580147376,
          -5.325251460577949,
          3.9422050419044647,
          -6.004794532280904,
          18.266757418929107,
          -15.896036393898509,
          -30.447513762639236,
          -29.30773419450518,
          -35.36929310328373,
          112.73873290365641,
          -11.006926634597052,
          124.83242448135219,
          58.3066430437687,
          26.82527018839407,
          62.97285383988732,
          9.549595242969128,
          -5.673872659272191,
          -4.3475557908126605,
          -2.077550486492535,
          0.21046502141567328,
          -1.9574846027424928,
          -4.407111012345883,
          -0.316150747110711,
          -32.42759076322307,
          -21.806303994091365,
          -35.34460430757293,
          -16.889736268619213,
          -28.389168967800057,
          -29.171746870911313,
          4.227196925215638,
          4.011401306742592,
          0.13409386088233707,
          3.1072180183118885,
          10.24348959207114,
          5.940126761197147,
          -1.2354342566879526,
          -4.496438061259731,
          16.456900221378376,
          14.791646712663606,
          7.8113457772775154,
          -8.035064508729688,
          -8.94206388058891,
          4.267278537624088,
          5.766517978919692,
          -12.279340706874276,
          -14.670599426296386,
          3.702146656333329,
          -4.952499784327326,
          -15.410893729866622,
          10.326763283283837,
          16.519726539646697,
          8.3062133955726,
          7.560317655304948,
          11.656710379229448,
          13.030436657815004,
          6.931605729660786,
          12.16625870562618,
          8.154001514999702,
          15.949944139746737,
          15.386612773835443,
          9.993932853669323,
          17.928780387759318,
          26.815521161270603,
          22.360257112524522,
          36.680327795057224,
          -4.469916842131001,
          -4.540596822195455,
          19.65120673809209,
          4.012779040545542,
          0.8184051048996063,
          -17.782553638308546,
          -13.966540755441816,
          -2.2781513237509716,
          -8.875627027262631,
          19.19704749358501,
          19.485469604669532,
          15.964305497046364,
          16.025204711154537,
          -2.906282453317567,
          -2.9133159709305745,
          -2.8585012790221986,
          2.558754194908079,
          -2.8525037023938635,
          0.3673389791194168,
          -2.7709329493731096,
          -2.8100582152265616,
          22.501436186620005,
          22.81492174706201,
          15.670776647516908,
          15.627786426354486,
          17.56361978973777,
          16.388314669394592,
          15.637013885671708,
          15.56252743978876,
          -27.13842692164565,
          -18.518860533729526,
          38.41065684226858,
          -33.32826538035052,
          -33.277296102416614,
          -29.71233490031072,
          -33.36346969053906,
          -33.378821314083815,
          -33.38143546077369,
          -32.30296333505979,
          -33.41636751123646
         ],
         "yaxis": "y"
        },
        {
         "hovertemplate": "color=high<br>0=%{x}<br>1=%{y}<extra></extra>",
         "legendgroup": "high",
         "marker": {
          "color": "#00cc96",
          "symbol": "circle"
         },
         "mode": "markers",
         "name": "high",
         "orientation": "v",
         "showlegend": true,
         "type": "scatter",
         "x": [
          -132.2546350404425,
          -132.4071620100861,
          -130.18406719026535,
          -122.8488967810692,
          -130.81020119496975,
          -132.4792169274462,
          -104.63188796504647,
          -105.02989071868274,
          -105.1638893005018,
          -106.91995579195658,
          -104.14153299606906,
          -102.9762028274748,
          -103.97345334990528,
          -99.84118692809722,
          -107.12931956052955,
          -107.19547187002283,
          -102.34387107002242,
          -101.3041027118623,
          -104.76797750057189,
          -103.12424418780394,
          -97.39888315113585,
          -102.44603436519455,
          -104.6555256466817,
          -105.81191100166434,
          242.7580107313913,
          237.90776219163348,
          236.05310298325858,
          237.24689157168118,
          242.35297730883224,
          249.8323936886522,
          241.365698321772,
          249.0646485008979,
          247.74450311018762,
          248.05781631656657,
          259.8835427239629,
          314.6015129632259,
          242.3546510337946,
          242.17352755311106,
          237.37199301588893,
          245.35351749842047,
          249.76094810706508,
          237.95997327595762,
          238.25107927482046,
          237.50922827663416,
          247.11668030825155,
          237.52066621354868,
          237.76986418709393,
          238.86878414470436,
          239.24322209498231,
          237.77984104454063,
          237.70765342095302,
          237.66950377002797,
          269.85942217766217,
          238.04364334866264,
          238.2827822994275,
          237.51557950039577,
          245.03080955130272,
          237.51628219584762,
          237.86228031286555,
          241.10321184255866,
          237.61473849608618,
          236.81334279377583,
          237.18268945052475,
          238.82931501635295,
          237.14659792038321,
          238.66413072022328,
          238.88402884005168,
          253.25012411912604,
          238.3899444465068,
          237.8840117723962,
          243.67581536990662,
          237.81859588537714,
          257.2290822962479,
          243.04938116394285,
          245.79694932957474,
          255.97446964422727,
          261.3463204819575,
          300.70190682469286,
          353.34397505147024,
          343.0060529436213,
          345.25453883347757,
          292.208288781165,
          329.06207950947834,
          345.8287511131272,
          346.4179919863336,
          315.8631320530994,
          350.36416624195056,
          337.3309929981323,
          260.1810601707922,
          259.39056645340827,
          266.966602444906,
          351.1687691836738,
          349.58106643846406,
          350.9422599162774,
          342.6606243521659,
          346.6474848839195,
          323.18199532903697,
          335.28524531359335,
          327.57141137802444,
          328.9769770686679,
          322.1735823913646,
          322.73311051521847,
          323.48602391568,
          320.8300231437679,
          344.77625058117746,
          350.8662194718105,
          332.62983179563065,
          237.1469881636177,
          239.01981800374318,
          240.42876041184476,
          237.61106808499213,
          240.47431802454233,
          283.07808481905613,
          340.3383557746804,
          260.0631055789605,
          239.68251371675785,
          237.40079277667823,
          264.35907089835246,
          352.2898471249122,
          249.3225039817493,
          240.06670707070958,
          243.41370803888094,
          350.6350802922199,
          336.9860815840716,
          348.9315350868407,
          350.3625847169889,
          272.33928546123934,
          235.89853974544658,
          277.6910432373779,
          237.79296844474263,
          235.77324330276386,
          237.11921593603242,
          234.26840642816205,
          250.95050675575814,
          345.0750170836954,
          255.95381014426385,
          243.33502605193388,
          233.76418438142917,
          235.83007445558988,
          236.76707751381312,
          235.95439768515774,
          240.5804664592397,
          250.00005682411526,
          264.7752480290511,
          236.990164066499,
          251.46943212321455,
          242.25373305025158,
          240.3070161707763,
          234.0499206929897,
          235.92805234819187,
          235.4100255792638,
          233.0995278954921,
          239.78169391678182,
          235.36585778233592,
          236.73396508549197,
          235.66636716330717
         ],
         "xaxis": "x",
         "y": [
          4.066258010244382,
          -1.9371943340404925,
          -0.3028834517817184,
          15.85541850173213,
          -2.091553906833542,
          -0.698869693811664,
          -4.019113449186188,
          -7.306965278137755,
          -2.709110899773908,
          -8.987263355650697,
          2.204635351072224,
          5.052294603451777,
          -0.011364017473504984,
          14.725590376829041,
          9.744001289065821,
          7.147356071224698,
          8.89410097014092,
          10.854331837981762,
          1.4307028054639859,
          8.04987186001251,
          26.192769683650884,
          10.458198369568771,
          -0.8290312613885978,
          -2.4341661927455283,
          -95.80542681670019,
          -108.87461353002261,
          -112.75186664692248,
          -108.25446009328887,
          -92.87114490146017,
          -69.95202138002908,
          -98.82927101691779,
          -72.19285196853032,
          -73.70506777289499,
          -73.91050884119628,
          -36.87537238313537,
          139.62415203256035,
          -94.10321174609939,
          -93.89494659909384,
          -109.88283439320469,
          -85.07925077005707,
          -67.5633193820815,
          -113.99935865766739,
          -113.93177992948405,
          -114.0641983753142,
          -81.60920351943464,
          -114.07446053951243,
          -113.95159425666769,
          -110.97614098023894,
          -113.5048609663084,
          -114.01554204338224,
          -114.05452585045747,
          -114.06578819641989,
          -7.679906249727858,
          -113.91489037761582,
          -113.91920976459856,
          -113.82233542412796,
          -91.04367665653953,
          -114.07290117236899,
          -111.76191586803395,
          -96.40762945075208,
          -113.9953917752978,
          -114.08674959636662,
          -114.05078777950648,
          -109.40016695901731,
          -114.08868697670025,
          -110.42185125221843,
          -113.76375793975735,
          -57.68315579589666,
          -113.87976379812696,
          -114.00333521043656,
          -94.2011848257074,
          -113.9233238509822,
          -49.232403750180474,
          -102.2048538370431,
          -88.4774485963964,
          -52.287410340944106,
          -35.44505366540789,
          93.79641628298481,
          263.08807452832366,
          231.8620028858946,
          237.9480939939486,
          63.770473727016885,
          181.3729603431481,
          239.48007920046535,
          244.8930381937267,
          143.8407671042615,
          250.1121192694379,
          219.25645501639895,
          -39.42303608892396,
          -40.57343395663447,
          -13.383102859404369,
          263.0462914360463,
          262.03937213819205,
          258.1645423969325,
          242.05204582976134,
          247.67434813823658,
          173.02894968331842,
          207.39835513254565,
          185.6339959613855,
          187.6402628750839,
          171.77517694623336,
          169.59356863795747,
          169.2048540176514,
          160.40600725264676,
          239.17931981362946,
          256.5743804965801,
          199.66997802208198,
          -114.03577410248356,
          -108.71630953577511,
          -103.65021620952474,
          -113.0242607607729,
          -104.38955885706122,
          35.50308951278517,
          224.27490389245347,
          -38.69502846937529,
          -106.07106078699277,
          -114.1022140683107,
          -25.478288083954794,
          265.07109600752256,
          -74.35556398254465,
          -102.82276730848645,
          -94.04722004322569,
          258.9948368958658,
          216.71393126365078,
          255.38574478867184,
          262.10681554752875,
          5.16567976193092,
          -114.10964313032946,
          21.331993738143954,
          -108.90340110555285,
          -114.10225788858057,
          -111.23000657768144,
          -114.01540835551235,
          -54.1766304340324,
          244.30822786387606,
          -51.40972384553122,
          -87.02435902716871,
          -113.91075626220224,
          -114.11346860853821,
          -112.66981564708198,
          -110.73289636802912,
          -92.88882735480585,
          -71.71692343678971,
          -24.06937309758593,
          -113.46291756881055,
          -68.66242792084148,
          -97.64563283959146,
          -101.11844637994216,
          -114.05323614069015,
          -110.47381685933749,
          -112.61409926725946,
          -110.1204669826968,
          -88.89010708224433,
          -106.06334265836414,
          -110.04640366823479,
          -105.67065712139394
         ],
         "yaxis": "y"
        }
       ],
       "layout": {
        "legend": {
         "title": {
          "text": "color"
         },
         "tracegroupgap": 0
        },
        "margin": {
         "t": 60
        },
        "template": {
         "data": {
          "bar": [
           {
            "error_x": {
             "color": "#2a3f5f"
            },
            "error_y": {
             "color": "#2a3f5f"
            },
            "marker": {
             "line": {
              "color": "#E5ECF6",
              "width": 0.5
             }
            },
            "type": "bar"
           }
          ],
          "barpolar": [
           {
            "marker": {
             "line": {
              "color": "#E5ECF6",
              "width": 0.5
             }
            },
            "type": "barpolar"
           }
          ],
          "carpet": [
           {
            "aaxis": {
             "endlinecolor": "#2a3f5f",
             "gridcolor": "white",
             "linecolor": "white",
             "minorgridcolor": "white",
             "startlinecolor": "#2a3f5f"
            },
            "baxis": {
             "endlinecolor": "#2a3f5f",
             "gridcolor": "white",
             "linecolor": "white",
             "minorgridcolor": "white",
             "startlinecolor": "#2a3f5f"
            },
            "type": "carpet"
           }
          ],
          "choropleth": [
           {
            "colorbar": {
             "outlinewidth": 0,
             "ticks": ""
            },
            "type": "choropleth"
           }
          ],
          "contour": [
           {
            "colorbar": {
             "outlinewidth": 0,
             "ticks": ""
            },
            "colorscale": [
             [
              0,
              "#0d0887"
             ],
             [
              0.1111111111111111,
              "#46039f"
             ],
             [
              0.2222222222222222,
              "#7201a8"
             ],
             [
              0.3333333333333333,
              "#9c179e"
             ],
             [
              0.4444444444444444,
              "#bd3786"
             ],
             [
              0.5555555555555556,
              "#d8576b"
             ],
             [
              0.6666666666666666,
              "#ed7953"
             ],
             [
              0.7777777777777778,
              "#fb9f3a"
             ],
             [
              0.8888888888888888,
              "#fdca26"
             ],
             [
              1,
              "#f0f921"
             ]
            ],
            "type": "contour"
           }
          ],
          "contourcarpet": [
           {
            "colorbar": {
             "outlinewidth": 0,
             "ticks": ""
            },
            "type": "contourcarpet"
           }
          ],
          "heatmap": [
           {
            "colorbar": {
             "outlinewidth": 0,
             "ticks": ""
            },
            "colorscale": [
             [
              0,
              "#0d0887"
             ],
             [
              0.1111111111111111,
              "#46039f"
             ],
             [
              0.2222222222222222,
              "#7201a8"
             ],
             [
              0.3333333333333333,
              "#9c179e"
             ],
             [
              0.4444444444444444,
              "#bd3786"
             ],
             [
              0.5555555555555556,
              "#d8576b"
             ],
             [
              0.6666666666666666,
              "#ed7953"
             ],
             [
              0.7777777777777778,
              "#fb9f3a"
             ],
             [
              0.8888888888888888,
              "#fdca26"
             ],
             [
              1,
              "#f0f921"
             ]
            ],
            "type": "heatmap"
           }
          ],
          "heatmapgl": [
           {
            "colorbar": {
             "outlinewidth": 0,
             "ticks": ""
            },
            "colorscale": [
             [
              0,
              "#0d0887"
             ],
             [
              0.1111111111111111,
              "#46039f"
             ],
             [
              0.2222222222222222,
              "#7201a8"
             ],
             [
              0.3333333333333333,
              "#9c179e"
             ],
             [
              0.4444444444444444,
              "#bd3786"
             ],
             [
              0.5555555555555556,
              "#d8576b"
             ],
             [
              0.6666666666666666,
              "#ed7953"
             ],
             [
              0.7777777777777778,
              "#fb9f3a"
             ],
             [
              0.8888888888888888,
              "#fdca26"
             ],
             [
              1,
              "#f0f921"
             ]
            ],
            "type": "heatmapgl"
           }
          ],
          "histogram": [
           {
            "marker": {
             "colorbar": {
              "outlinewidth": 0,
              "ticks": ""
             }
            },
            "type": "histogram"
           }
          ],
          "histogram2d": [
           {
            "colorbar": {
             "outlinewidth": 0,
             "ticks": ""
            },
            "colorscale": [
             [
              0,
              "#0d0887"
             ],
             [
              0.1111111111111111,
              "#46039f"
             ],
             [
              0.2222222222222222,
              "#7201a8"
             ],
             [
              0.3333333333333333,
              "#9c179e"
             ],
             [
              0.4444444444444444,
              "#bd3786"
             ],
             [
              0.5555555555555556,
              "#d8576b"
             ],
             [
              0.6666666666666666,
              "#ed7953"
             ],
             [
              0.7777777777777778,
              "#fb9f3a"
             ],
             [
              0.8888888888888888,
              "#fdca26"
             ],
             [
              1,
              "#f0f921"
             ]
            ],
            "type": "histogram2d"
           }
          ],
          "histogram2dcontour": [
           {
            "colorbar": {
             "outlinewidth": 0,
             "ticks": ""
            },
            "colorscale": [
             [
              0,
              "#0d0887"
             ],
             [
              0.1111111111111111,
              "#46039f"
             ],
             [
              0.2222222222222222,
              "#7201a8"
             ],
             [
              0.3333333333333333,
              "#9c179e"
             ],
             [
              0.4444444444444444,
              "#bd3786"
             ],
             [
              0.5555555555555556,
              "#d8576b"
             ],
             [
              0.6666666666666666,
              "#ed7953"
             ],
             [
              0.7777777777777778,
              "#fb9f3a"
             ],
             [
              0.8888888888888888,
              "#fdca26"
             ],
             [
              1,
              "#f0f921"
             ]
            ],
            "type": "histogram2dcontour"
           }
          ],
          "mesh3d": [
           {
            "colorbar": {
             "outlinewidth": 0,
             "ticks": ""
            },
            "type": "mesh3d"
           }
          ],
          "parcoords": [
           {
            "line": {
             "colorbar": {
              "outlinewidth": 0,
              "ticks": ""
             }
            },
            "type": "parcoords"
           }
          ],
          "pie": [
           {
            "automargin": true,
            "type": "pie"
           }
          ],
          "scatter": [
           {
            "marker": {
             "colorbar": {
              "outlinewidth": 0,
              "ticks": ""
             }
            },
            "type": "scatter"
           }
          ],
          "scatter3d": [
           {
            "line": {
             "colorbar": {
              "outlinewidth": 0,
              "ticks": ""
             }
            },
            "marker": {
             "colorbar": {
              "outlinewidth": 0,
              "ticks": ""
             }
            },
            "type": "scatter3d"
           }
          ],
          "scattercarpet": [
           {
            "marker": {
             "colorbar": {
              "outlinewidth": 0,
              "ticks": ""
             }
            },
            "type": "scattercarpet"
           }
          ],
          "scattergeo": [
           {
            "marker": {
             "colorbar": {
              "outlinewidth": 0,
              "ticks": ""
             }
            },
            "type": "scattergeo"
           }
          ],
          "scattergl": [
           {
            "marker": {
             "colorbar": {
              "outlinewidth": 0,
              "ticks": ""
             }
            },
            "type": "scattergl"
           }
          ],
          "scattermapbox": [
           {
            "marker": {
             "colorbar": {
              "outlinewidth": 0,
              "ticks": ""
             }
            },
            "type": "scattermapbox"
           }
          ],
          "scatterpolar": [
           {
            "marker": {
             "colorbar": {
              "outlinewidth": 0,
              "ticks": ""
             }
            },
            "type": "scatterpolar"
           }
          ],
          "scatterpolargl": [
           {
            "marker": {
             "colorbar": {
              "outlinewidth": 0,
              "ticks": ""
             }
            },
            "type": "scatterpolargl"
           }
          ],
          "scatterternary": [
           {
            "marker": {
             "colorbar": {
              "outlinewidth": 0,
              "ticks": ""
             }
            },
            "type": "scatterternary"
           }
          ],
          "surface": [
           {
            "colorbar": {
             "outlinewidth": 0,
             "ticks": ""
            },
            "colorscale": [
             [
              0,
              "#0d0887"
             ],
             [
              0.1111111111111111,
              "#46039f"
             ],
             [
              0.2222222222222222,
              "#7201a8"
             ],
             [
              0.3333333333333333,
              "#9c179e"
             ],
             [
              0.4444444444444444,
              "#bd3786"
             ],
             [
              0.5555555555555556,
              "#d8576b"
             ],
             [
              0.6666666666666666,
              "#ed7953"
             ],
             [
              0.7777777777777778,
              "#fb9f3a"
             ],
             [
              0.8888888888888888,
              "#fdca26"
             ],
             [
              1,
              "#f0f921"
             ]
            ],
            "type": "surface"
           }
          ],
          "table": [
           {
            "cells": {
             "fill": {
              "color": "#EBF0F8"
             },
             "line": {
              "color": "white"
             }
            },
            "header": {
             "fill": {
              "color": "#C8D4E3"
             },
             "line": {
              "color": "white"
             }
            },
            "type": "table"
           }
          ]
         },
         "layout": {
          "annotationdefaults": {
           "arrowcolor": "#2a3f5f",
           "arrowhead": 0,
           "arrowwidth": 1
          },
          "autotypenumbers": "strict",
          "coloraxis": {
           "colorbar": {
            "outlinewidth": 0,
            "ticks": ""
           }
          },
          "colorscale": {
           "diverging": [
            [
             0,
             "#8e0152"
            ],
            [
             0.1,
             "#c51b7d"
            ],
            [
             0.2,
             "#de77ae"
            ],
            [
             0.3,
             "#f1b6da"
            ],
            [
             0.4,
             "#fde0ef"
            ],
            [
             0.5,
             "#f7f7f7"
            ],
            [
             0.6,
             "#e6f5d0"
            ],
            [
             0.7,
             "#b8e186"
            ],
            [
             0.8,
             "#7fbc41"
            ],
            [
             0.9,
             "#4d9221"
            ],
            [
             1,
             "#276419"
            ]
           ],
           "sequential": [
            [
             0,
             "#0d0887"
            ],
            [
             0.1111111111111111,
             "#46039f"
            ],
            [
             0.2222222222222222,
             "#7201a8"
            ],
            [
             0.3333333333333333,
             "#9c179e"
            ],
            [
             0.4444444444444444,
             "#bd3786"
            ],
            [
             0.5555555555555556,
             "#d8576b"
            ],
            [
             0.6666666666666666,
             "#ed7953"
            ],
            [
             0.7777777777777778,
             "#fb9f3a"
            ],
            [
             0.8888888888888888,
             "#fdca26"
            ],
            [
             1,
             "#f0f921"
            ]
           ],
           "sequentialminus": [
            [
             0,
             "#0d0887"
            ],
            [
             0.1111111111111111,
             "#46039f"
            ],
            [
             0.2222222222222222,
             "#7201a8"
            ],
            [
             0.3333333333333333,
             "#9c179e"
            ],
            [
             0.4444444444444444,
             "#bd3786"
            ],
            [
             0.5555555555555556,
             "#d8576b"
            ],
            [
             0.6666666666666666,
             "#ed7953"
            ],
            [
             0.7777777777777778,
             "#fb9f3a"
            ],
            [
             0.8888888888888888,
             "#fdca26"
            ],
            [
             1,
             "#f0f921"
            ]
           ]
          },
          "colorway": [
           "#636efa",
           "#EF553B",
           "#00cc96",
           "#ab63fa",
           "#FFA15A",
           "#19d3f3",
           "#FF6692",
           "#B6E880",
           "#FF97FF",
           "#FECB52"
          ],
          "font": {
           "color": "#2a3f5f"
          },
          "geo": {
           "bgcolor": "white",
           "lakecolor": "white",
           "landcolor": "#E5ECF6",
           "showlakes": true,
           "showland": true,
           "subunitcolor": "white"
          },
          "hoverlabel": {
           "align": "left"
          },
          "hovermode": "closest",
          "mapbox": {
           "style": "light"
          },
          "paper_bgcolor": "white",
          "plot_bgcolor": "#E5ECF6",
          "polar": {
           "angularaxis": {
            "gridcolor": "white",
            "linecolor": "white",
            "ticks": ""
           },
           "bgcolor": "#E5ECF6",
           "radialaxis": {
            "gridcolor": "white",
            "linecolor": "white",
            "ticks": ""
           }
          },
          "scene": {
           "xaxis": {
            "backgroundcolor": "#E5ECF6",
            "gridcolor": "white",
            "gridwidth": 2,
            "linecolor": "white",
            "showbackground": true,
            "ticks": "",
            "zerolinecolor": "white"
           },
           "yaxis": {
            "backgroundcolor": "#E5ECF6",
            "gridcolor": "white",
            "gridwidth": 2,
            "linecolor": "white",
            "showbackground": true,
            "ticks": "",
            "zerolinecolor": "white"
           },
           "zaxis": {
            "backgroundcolor": "#E5ECF6",
            "gridcolor": "white",
            "gridwidth": 2,
            "linecolor": "white",
            "showbackground": true,
            "ticks": "",
            "zerolinecolor": "white"
           }
          },
          "shapedefaults": {
           "line": {
            "color": "#2a3f5f"
           }
          },
          "ternary": {
           "aaxis": {
            "gridcolor": "white",
            "linecolor": "white",
            "ticks": ""
           },
           "baxis": {
            "gridcolor": "white",
            "linecolor": "white",
            "ticks": ""
           },
           "bgcolor": "#E5ECF6",
           "caxis": {
            "gridcolor": "white",
            "linecolor": "white",
            "ticks": ""
           }
          },
          "title": {
           "x": 0.05
          },
          "xaxis": {
           "automargin": true,
           "gridcolor": "white",
           "linecolor": "white",
           "ticks": "",
           "title": {
            "standoff": 15
           },
           "zerolinecolor": "white",
           "zerolinewidth": 2
          },
          "yaxis": {
           "automargin": true,
           "gridcolor": "white",
           "linecolor": "white",
           "ticks": "",
           "title": {
            "standoff": 15
           },
           "zerolinecolor": "white",
           "zerolinewidth": 2
          }
         }
        },
        "xaxis": {
         "anchor": "y",
         "domain": [
          0,
          1
         ],
         "title": {
          "text": "0"
         }
        },
        "yaxis": {
         "anchor": "x",
         "domain": [
          0,
          1
         ],
         "title": {
          "text": "1"
         }
        }
       }
      },
      "text/html": [
       "<div>                            <div id=\"069d70cb-dc5e-4924-abbe-a722fce4dfb9\" class=\"plotly-graph-div\" style=\"height:525px; width:100%;\"></div>            <script type=\"text/javascript\">                require([\"plotly\"], function(Plotly) {                    window.PLOTLYENV=window.PLOTLYENV || {};                                    if (document.getElementById(\"069d70cb-dc5e-4924-abbe-a722fce4dfb9\")) {                    Plotly.newPlot(                        \"069d70cb-dc5e-4924-abbe-a722fce4dfb9\",                        [{\"hovertemplate\": \"color=low<br>0=%{x}<br>1=%{y}<extra></extra>\", \"legendgroup\": \"low\", \"marker\": {\"color\": \"#636efa\", \"symbol\": \"circle\"}, \"mode\": \"markers\", \"name\": \"low\", \"orientation\": \"v\", \"showlegend\": true, \"type\": \"scatter\", \"x\": [-119.81759621100102, -168.80933779931533, -169.56557100589268, -190.44464858369108, -190.41880069761646, -189.04458206996722, -108.3592060771268, -101.44190638305751, -108.41073565210415, -108.24465617406855, -103.5108224834216, -78.95043472014656, -105.848175377339, -98.91248837266068, -104.63584134680107, -105.46342491074054, -104.04512646785666, -104.59680209328343, -78.77758704441, -99.89733792226433, -79.38264227421338, -102.86330201369387, -101.28940314009162, -94.41903930813973, -99.0064249491977, -58.17220557627832, -94.04036791838068, -61.66940761795747, -167.40931827645903, -168.06692957994784, -180.55234095007762, -179.59232289557693, -182.77661531159916, -178.36174361291506, -180.99739689397433, -180.96624179263975, -175.19867069331914, -175.2581567411765, -178.50891704804306, -170.98069979140863, -169.18510528446834, -173.75282073140426, -173.61406813148545, 40.9783937201091, -109.08766827092117, -195.27074020649698, -87.40021377544801, -86.05450832524656, -76.14802845236015, -74.82637260432229, -75.33281844398064, -111.12688129872579, -108.09921226448972, -113.10847087139716, -109.20762667347753, -136.89008825655148, -133.28501299325828, -136.88392203228625, -133.78170406848778, -166.7164873201346, -164.83736463550102, -166.58113382927817, -165.44695652485606, -141.8349558032692, -143.6564057854511, -142.04590176883954, -141.791367494203, -144.74133449583957, -147.28993400523382, -143.19444983968677, -127.29733455168139, -135.88006172211814, -137.42848730853424, -139.8630267284515, -138.37243459805958, -217.92712440120675, -213.33867967213232, -212.64466752339328, -209.78023884374971, -212.74160089241937, -215.13067033338203, -206.59678338471807, 20.030690954185154, 18.7837670106299, 18.619174229996283, 19.23741268758788, 18.60158500580337, 21.730960397149754, 20.868024359515896, 57.930428577628184, 19.42136963536612, 23.820417306924238, 19.576554182824182, 20.404247743530096, 18.791782595422166, 21.221137742060716, 19.45502764689222, -217.60865711154264, -215.1446261892045, -217.1612439823534, -213.99368912415866, -214.36120888108502, -212.78234036465577, -213.50993216782575, -217.11055977601222, -154.85279382496674, -149.2184032599217, -164.09051115713848, -94.06360452934857, -81.27231443057286, -92.31873637069515, -26.946868519544584, -23.347190358714577, -74.5168628745858, -77.45000842326513, -193.5275753886989, -193.04727324567102, -140.09472357767902, -137.02202540569922, -133.53604383598972, -132.44161607134137, -133.2396375340149, -133.0229674255593, -133.67184818938807, -135.59694620669976, -136.20430735461514, -126.76417829363305, -137.5534955600188, -105.98973259415703, -107.64843357926239, -172.2797524047391, -187.37450488298694, -188.23597987018118, -193.05223813382227, -188.89308806446516, -188.5534480855114, -163.33615893644503, -162.51074666847109, -159.72855917046166, -162.78334977028715, -163.23413285034206, -219.73628087811827, -136.62615163240739, -119.68073343619011, -161.2047996483975, -173.9884495940356, -174.22359590393918, -174.31772241187946, -129.04605841185275, -126.94915041377041, -128.1592180228018, -125.25370395850265, -125.4788329621647, -109.58330987524353, -109.68972657928826, -99.36960673098622, -112.00253157260686, -108.49913036441036, -108.43416635466771, -108.75165293144802, -109.52672950897583, -107.28393762314354, -110.15915173097595, -110.248615243897, -111.14072043757089, 9.503687007666965, 10.744501395711875, 14.03933498343086, -114.75490402167776, -106.09593157994847, -132.90436322169603, 2.407421581440748, -63.54614123208589, -57.04706926395782, -72.12917092208029, -138.8270310301683, -84.34630588299939, -85.47311240638273, -7.209994609852304, -14.746244559075631, -85.62047095806263, -83.96950699718668, 279.22743396976136, 294.9038882884105, 302.44240692476086, 281.22648046041564, 277.6940684868991, -138.64797226226426, -139.4083324991093, -138.3753664279877, -137.4450019667713, -138.87215155926998], \"xaxis\": \"x\", \"y\": [-5.53898918366885, 10.17445921509744, 14.021696852330699, 18.26011383152744, 16.031457000033672, 18.728796262496324, -8.7732536963259, 7.266887188982836, -7.513822312721461, 0.9892427964975116, 0.8812046932379584, 94.56076402672268, -3.0913133792354777, 10.594681065468542, -4.710593396140406, -8.832913832637692, -6.612640800303962, -6.41023367034987, 80.56959594427634, 10.276658646619838, 77.7194580615705, -0.347428931492784, 7.037958988197087, 26.313334381479553, 10.377621233849904, 148.37351628258, 27.618464211041754, 133.2250697567734, 8.772220285271878, 8.766286120676654, 24.149993662030905, 26.09629607392593, 15.509080341392284, 20.20851828177488, 13.08440963650708, 13.104084421280444, 16.84179366991511, 12.897975795813862, 12.958423213168869, 11.410415812820002, 12.801421086186915, 10.174991483908844, 10.205506906527901, -55.94447285020537, -10.277215338315115, 21.32514790846344, -17.228919535518898, -17.23616244280585, -18.99391258145857, -19.671189545787122, -19.705415623368644, 4.663131685898016, 11.133481276204014, -2.2028856420714145, 10.94963789066652, -1.0413171378224386, 0.010288141622195851, -0.9975011651221852, 4.926222349300224, 8.871859000967927, 13.18181931268209, 9.78931436180831, 10.502732841367402, 1.9166655896482647, 2.8078662159703107, 6.571899787856298, 5.21941343513767, 3.8867021438984857, 2.7352353357306147, 1.9792150056629811, 37.49926133363062, 5.1584374119254965, 0.08113861988319565, 3.4764445433940856, 0.21752945129885348, 33.37134648310267, 44.27942951635588, 43.847357958520156, 51.334164500044515, 42.610517265179396, 37.22190204141792, 61.90420999854311, -42.418859931150195, -47.0399660706624, -46.963303956714135, -45.28885717298791, -47.060110474384985, -36.45142998531694, -39.17695861318846, 81.24462604641103, -44.89469131600766, -29.165380904823664, -44.33808797020664, -42.314885474580386, -47.01394612020328, -38.49204951246228, -46.89651081937813, 24.484108697792948, 25.61543517177642, 24.49660977507032, 26.942332962889854, 24.31778468992207, 30.09325500695021, 33.89888718953758, 28.477601767277708, 7.205105875369097, 23.10573286237793, 9.016555291878358, -15.034532002566774, 25.72256389229193, -10.56173929011904, -36.30668323686886, -24.235364777304042, -17.532337593385048, -19.127975488613927, 19.491974577338574, 21.61268578553033, 0.2177852425904631, 1.9722717522366018, 7.116158772164296, 14.90984755360621, -0.12888992070717112, 3.3553547512244823, 1.5339592512459743, 5.768614890220994, 10.70646488449675, 46.250468580102414, 3.2008517488595536, -6.987228850528357, -9.078944919571622, 19.820477428104176, 21.19611914328182, 23.872683081827855, 16.057815324725343, 17.684528541985905, 21.62868851898751, 6.82730127714549, 6.771765048770799, 14.057815650903038, 10.153671874399722, 6.8824643621228105, 24.543038202991312, 0.04011893085180543, -4.356547574928111, 63.76696173481073, 9.571445262865286, 9.496489856674295, 9.610241506709162, -3.3064948663303677, -3.4125605323503554, -3.4330837558854608, 0.34489717071142456, -3.4573630683853174, -8.059183049905013, -7.342817892161183, 36.723832316529254, -7.874023881701909, -7.460706959657216, -4.676655327520593, -6.911754518562265, -7.475896762646373, -2.012529914990762, -7.906716216400066, -6.325850870019698, -7.220329902586526, -30.691765263924655, -23.77478727280599, -17.476999618677702, -4.815856752412446, 25.54011747120534, 0.07843764927200876, -35.68035570718059, -11.033812491342596, 9.065699568285954, -17.097899749567468, 5.087623386897656, -10.03523427803183, -16.79849291304399, -14.035734807374256, -34.47805783467, -2.833756015231038, 3.607761887556224, -125.45427541158875, -76.58193444443269, -52.062530385760354, -120.71371156113707, -127.20301710711472, 5.8236105179710735, 1.0982449096864688, 0.9680679745804249, 4.298162868894575, 1.1449421241003352], \"yaxis\": \"y\"}, {\"hovertemplate\": \"color=medium<br>0=%{x}<br>1=%{y}<extra></extra>\", \"legendgroup\": \"medium\", \"marker\": {\"color\": \"#EF553B\", \"symbol\": \"circle\"}, \"mode\": \"markers\", \"name\": \"medium\", \"orientation\": \"v\", \"showlegend\": true, \"type\": \"scatter\", \"x\": [-104.31151277385479, -102.1768746557602, -98.34047701544173, -99.90385051885528, -100.71380528433369, -103.20892911287646, -105.02782353831635, -134.37113605637626, -129.2958818231016, -136.6818505368787, -136.67653829913706, -192.9174351607644, -162.36600295247223, -26.030104997611065, -19.24721712254261, -13.885011756431128, -20.217905031210698, -19.363886785750694, -23.653623591441672, -33.218359189206176, -34.19260744115121, 61.829269062053804, -32.2020830505866, -31.512469901126305, -31.235524220079956, -32.05792032500413, -30.423516142335682, -31.655668793132357, -30.892440623931257, -34.7515212199393, 12.458798351967513, 13.83495920875556, 13.50041638876142, 14.791750190856321, 28.01545397146981, 12.449727565351964, 12.953841512293202, 28.51739096642245, 12.44859059211355, -12.98059367349625, -13.023809718500459, -13.082403071812509, 52.223288450309745, 52.97458027242866, -11.825619928030353, -1.9862085991224692, -0.4826910569519415, -6.739385680923934, 2.59712369436334, 1.1769332945755595, 25.74517674753062, 8.359268095795288, 75.18118521267715, 76.01287756121248, -4.741986719769458, -1.2651795986995118, -4.249716371608244, 2.3819913022327626, -8.778902071359589, -12.565740281326748, -12.566140244212583, -13.770554439192946, 31.36745042167314, -6.773301252390493, 33.918116941928425, 15.092972390272445, 5.469987839840303, 16.571375297520582, 0.47203910124094633, -116.58662158034716, -116.69216102338113, -117.2797661294053, -119.87284845556847, -119.08860981905224, -117.71021106997237, -116.48426146444189, -25.23852708730083, -23.026427984219996, -26.413867705888194, -22.34501529809289, -24.913941505509356, -25.70981602505981, -136.86019367105698, -134.64833867160522, -134.74217148257011, -134.15130397849074, -115.02200057121833, -114.2787796917762, -115.31733402028519, -115.3227051851886, -110.06069677724491, -114.5793343822646, -78.94998243802955, -84.20862167943561, -87.82511670255481, -79.91663675312277, -82.13388057619848, -90.42870821634085, -91.51223771964472, -86.3226676388091, -89.2629982043812, -92.60667083682522, -146.79077889469986, -143.40752467348588, -145.7934953976251, -147.60613702345663, -145.97225271348947, -145.535867871678, -146.60650131594284, -145.4585101392903, -148.76890634204574, -144.62417807122986, -146.90394167576153, -149.72087317753466, -198.6917261373334, -193.49614628313756, -196.94015767377462, -191.78730735992232, -126.63795738467256, -125.40837603757736, -119.99537393269273, -58.45808828634825, -60.44760958995279, -62.795982339585336, -90.39617707543603, -88.83082193631971, -91.13406551178254, -191.78557068373067, -190.0231447170954, -190.08246692348348, -190.05982669968813, -128.25047754145362, -128.0724498263505, -128.34827871575928, -124.48784867059017, -129.3223268425416, -130.53164232027027, -130.2128140296689, -128.80371620758723, -187.22597312823765, -187.0397811479934, -189.53593008422678, -188.46212324013564, -186.70092344716736, -189.04874074347583, -188.5227885331195, -187.42965393390358, -51.63366530668305, -51.65052089727214, -225.29302443990574, -29.084710174087316, -30.06792189611065, -30.04848270650527, -27.23975116522538, -27.559726942366325, -28.1020585602624, -26.94393371281386, -26.75406384243192], \"xaxis\": \"x\", \"y\": [-8.708266234298947, -10.116623099293033, -0.163493205165133, -0.25537354961492553, -5.803536819073572, -10.003240670834279, -3.645666119343833, -0.5909386905427731, 17.93844248737699, -0.46253561240603713, 2.8951222942043007, 16.066847572389854, 10.123767863192656, -33.266842351046265, -22.27589167899377, -13.264479341162666, -25.833769627002063, -25.334709082324117, -34.48387374010783, -29.43618115142183, -30.172693305357807, 280.3432845925124, -29.105577888292753, -27.43268495163031, -28.74199687665578, -30.2504894266913, -22.61768630962946, -29.908704106765928, -26.01789602658155, -28.005232010801045, -44.250122088064614, -43.63232840094809, -45.5040869033447, -37.67625010259168, 4.237755671741052, -41.983860226142085, -43.19051227867502, 10.306628372101159, -40.1955502856484, -36.9504173268305, -36.96685794489544, -36.91308785184525, 177.19334834364736, 180.59112144252828, -31.965254771532756, 1.2044480251644263, 6.096510995055139, -14.050143451745852, 15.774212732671495, 14.264929439875315, 91.9536072182683, 35.50599836213251, 258.3793701236251, 257.7428580147376, -5.325251460577949, 3.9422050419044647, -6.004794532280904, 18.266757418929107, -15.896036393898509, -30.447513762639236, -29.30773419450518, -35.36929310328373, 112.73873290365641, -11.006926634597052, 124.83242448135219, 58.3066430437687, 26.82527018839407, 62.97285383988732, 9.549595242969128, -5.673872659272191, -4.3475557908126605, -2.077550486492535, 0.21046502141567328, -1.9574846027424928, -4.407111012345883, -0.316150747110711, -32.42759076322307, -21.806303994091365, -35.34460430757293, -16.889736268619213, -28.389168967800057, -29.171746870911313, 4.227196925215638, 4.011401306742592, 0.13409386088233707, 3.1072180183118885, 10.24348959207114, 5.940126761197147, -1.2354342566879526, -4.496438061259731, 16.456900221378376, 14.791646712663606, 7.8113457772775154, -8.035064508729688, -8.94206388058891, 4.267278537624088, 5.766517978919692, -12.279340706874276, -14.670599426296386, 3.702146656333329, -4.952499784327326, -15.410893729866622, 10.326763283283837, 16.519726539646697, 8.3062133955726, 7.560317655304948, 11.656710379229448, 13.030436657815004, 6.931605729660786, 12.16625870562618, 8.154001514999702, 15.949944139746737, 15.386612773835443, 9.993932853669323, 17.928780387759318, 26.815521161270603, 22.360257112524522, 36.680327795057224, -4.469916842131001, -4.540596822195455, 19.65120673809209, 4.012779040545542, 0.8184051048996063, -17.782553638308546, -13.966540755441816, -2.2781513237509716, -8.875627027262631, 19.19704749358501, 19.485469604669532, 15.964305497046364, 16.025204711154537, -2.906282453317567, -2.9133159709305745, -2.8585012790221986, 2.558754194908079, -2.8525037023938635, 0.3673389791194168, -2.7709329493731096, -2.8100582152265616, 22.501436186620005, 22.81492174706201, 15.670776647516908, 15.627786426354486, 17.56361978973777, 16.388314669394592, 15.637013885671708, 15.56252743978876, -27.13842692164565, -18.518860533729526, 38.41065684226858, -33.32826538035052, -33.277296102416614, -29.71233490031072, -33.36346969053906, -33.378821314083815, -33.38143546077369, -32.30296333505979, -33.41636751123646], \"yaxis\": \"y\"}, {\"hovertemplate\": \"color=high<br>0=%{x}<br>1=%{y}<extra></extra>\", \"legendgroup\": \"high\", \"marker\": {\"color\": \"#00cc96\", \"symbol\": \"circle\"}, \"mode\": \"markers\", \"name\": \"high\", \"orientation\": \"v\", \"showlegend\": true, \"type\": \"scatter\", \"x\": [-132.2546350404425, -132.4071620100861, -130.18406719026535, -122.8488967810692, -130.81020119496975, -132.4792169274462, -104.63188796504647, -105.02989071868274, -105.1638893005018, -106.91995579195658, -104.14153299606906, -102.9762028274748, -103.97345334990528, -99.84118692809722, -107.12931956052955, -107.19547187002283, -102.34387107002242, -101.3041027118623, -104.76797750057189, -103.12424418780394, -97.39888315113585, -102.44603436519455, -104.6555256466817, -105.81191100166434, 242.7580107313913, 237.90776219163348, 236.05310298325858, 237.24689157168118, 242.35297730883224, 249.8323936886522, 241.365698321772, 249.0646485008979, 247.74450311018762, 248.05781631656657, 259.8835427239629, 314.6015129632259, 242.3546510337946, 242.17352755311106, 237.37199301588893, 245.35351749842047, 249.76094810706508, 237.95997327595762, 238.25107927482046, 237.50922827663416, 247.11668030825155, 237.52066621354868, 237.76986418709393, 238.86878414470436, 239.24322209498231, 237.77984104454063, 237.70765342095302, 237.66950377002797, 269.85942217766217, 238.04364334866264, 238.2827822994275, 237.51557950039577, 245.03080955130272, 237.51628219584762, 237.86228031286555, 241.10321184255866, 237.61473849608618, 236.81334279377583, 237.18268945052475, 238.82931501635295, 237.14659792038321, 238.66413072022328, 238.88402884005168, 253.25012411912604, 238.3899444465068, 237.8840117723962, 243.67581536990662, 237.81859588537714, 257.2290822962479, 243.04938116394285, 245.79694932957474, 255.97446964422727, 261.3463204819575, 300.70190682469286, 353.34397505147024, 343.0060529436213, 345.25453883347757, 292.208288781165, 329.06207950947834, 345.8287511131272, 346.4179919863336, 315.8631320530994, 350.36416624195056, 337.3309929981323, 260.1810601707922, 259.39056645340827, 266.966602444906, 351.1687691836738, 349.58106643846406, 350.9422599162774, 342.6606243521659, 346.6474848839195, 323.18199532903697, 335.28524531359335, 327.57141137802444, 328.9769770686679, 322.1735823913646, 322.73311051521847, 323.48602391568, 320.8300231437679, 344.77625058117746, 350.8662194718105, 332.62983179563065, 237.1469881636177, 239.01981800374318, 240.42876041184476, 237.61106808499213, 240.47431802454233, 283.07808481905613, 340.3383557746804, 260.0631055789605, 239.68251371675785, 237.40079277667823, 264.35907089835246, 352.2898471249122, 249.3225039817493, 240.06670707070958, 243.41370803888094, 350.6350802922199, 336.9860815840716, 348.9315350868407, 350.3625847169889, 272.33928546123934, 235.89853974544658, 277.6910432373779, 237.79296844474263, 235.77324330276386, 237.11921593603242, 234.26840642816205, 250.95050675575814, 345.0750170836954, 255.95381014426385, 243.33502605193388, 233.76418438142917, 235.83007445558988, 236.76707751381312, 235.95439768515774, 240.5804664592397, 250.00005682411526, 264.7752480290511, 236.990164066499, 251.46943212321455, 242.25373305025158, 240.3070161707763, 234.0499206929897, 235.92805234819187, 235.4100255792638, 233.0995278954921, 239.78169391678182, 235.36585778233592, 236.73396508549197, 235.66636716330717], \"xaxis\": \"x\", \"y\": [4.066258010244382, -1.9371943340404925, -0.3028834517817184, 15.85541850173213, -2.091553906833542, -0.698869693811664, -4.019113449186188, -7.306965278137755, -2.709110899773908, -8.987263355650697, 2.204635351072224, 5.052294603451777, -0.011364017473504984, 14.725590376829041, 9.744001289065821, 7.147356071224698, 8.89410097014092, 10.854331837981762, 1.4307028054639859, 8.04987186001251, 26.192769683650884, 10.458198369568771, -0.8290312613885978, -2.4341661927455283, -95.80542681670019, -108.87461353002261, -112.75186664692248, -108.25446009328887, -92.87114490146017, -69.95202138002908, -98.82927101691779, -72.19285196853032, -73.70506777289499, -73.91050884119628, -36.87537238313537, 139.62415203256035, -94.10321174609939, -93.89494659909384, -109.88283439320469, -85.07925077005707, -67.5633193820815, -113.99935865766739, -113.93177992948405, -114.0641983753142, -81.60920351943464, -114.07446053951243, -113.95159425666769, -110.97614098023894, -113.5048609663084, -114.01554204338224, -114.05452585045747, -114.06578819641989, -7.679906249727858, -113.91489037761582, -113.91920976459856, -113.82233542412796, -91.04367665653953, -114.07290117236899, -111.76191586803395, -96.40762945075208, -113.9953917752978, -114.08674959636662, -114.05078777950648, -109.40016695901731, -114.08868697670025, -110.42185125221843, -113.76375793975735, -57.68315579589666, -113.87976379812696, -114.00333521043656, -94.2011848257074, -113.9233238509822, -49.232403750180474, -102.2048538370431, -88.4774485963964, -52.287410340944106, -35.44505366540789, 93.79641628298481, 263.08807452832366, 231.8620028858946, 237.9480939939486, 63.770473727016885, 181.3729603431481, 239.48007920046535, 244.8930381937267, 143.8407671042615, 250.1121192694379, 219.25645501639895, -39.42303608892396, -40.57343395663447, -13.383102859404369, 263.0462914360463, 262.03937213819205, 258.1645423969325, 242.05204582976134, 247.67434813823658, 173.02894968331842, 207.39835513254565, 185.6339959613855, 187.6402628750839, 171.77517694623336, 169.59356863795747, 169.2048540176514, 160.40600725264676, 239.17931981362946, 256.5743804965801, 199.66997802208198, -114.03577410248356, -108.71630953577511, -103.65021620952474, -113.0242607607729, -104.38955885706122, 35.50308951278517, 224.27490389245347, -38.69502846937529, -106.07106078699277, -114.1022140683107, -25.478288083954794, 265.07109600752256, -74.35556398254465, -102.82276730848645, -94.04722004322569, 258.9948368958658, 216.71393126365078, 255.38574478867184, 262.10681554752875, 5.16567976193092, -114.10964313032946, 21.331993738143954, -108.90340110555285, -114.10225788858057, -111.23000657768144, -114.01540835551235, -54.1766304340324, 244.30822786387606, -51.40972384553122, -87.02435902716871, -113.91075626220224, -114.11346860853821, -112.66981564708198, -110.73289636802912, -92.88882735480585, -71.71692343678971, -24.06937309758593, -113.46291756881055, -68.66242792084148, -97.64563283959146, -101.11844637994216, -114.05323614069015, -110.47381685933749, -112.61409926725946, -110.1204669826968, -88.89010708224433, -106.06334265836414, -110.04640366823479, -105.67065712139394], \"yaxis\": \"y\"}],                        {\"legend\": {\"title\": {\"text\": \"color\"}, \"tracegroupgap\": 0}, \"margin\": {\"t\": 60}, \"template\": {\"data\": {\"bar\": [{\"error_x\": {\"color\": \"#2a3f5f\"}, \"error_y\": {\"color\": \"#2a3f5f\"}, \"marker\": {\"line\": {\"color\": \"#E5ECF6\", \"width\": 0.5}}, \"type\": \"bar\"}], \"barpolar\": [{\"marker\": {\"line\": {\"color\": \"#E5ECF6\", \"width\": 0.5}}, \"type\": \"barpolar\"}], \"carpet\": [{\"aaxis\": {\"endlinecolor\": \"#2a3f5f\", \"gridcolor\": \"white\", \"linecolor\": \"white\", \"minorgridcolor\": \"white\", \"startlinecolor\": \"#2a3f5f\"}, \"baxis\": {\"endlinecolor\": \"#2a3f5f\", \"gridcolor\": \"white\", \"linecolor\": \"white\", \"minorgridcolor\": \"white\", \"startlinecolor\": \"#2a3f5f\"}, \"type\": \"carpet\"}], \"choropleth\": [{\"colorbar\": {\"outlinewidth\": 0, \"ticks\": \"\"}, \"type\": \"choropleth\"}], \"contour\": [{\"colorbar\": {\"outlinewidth\": 0, \"ticks\": \"\"}, \"colorscale\": [[0.0, \"#0d0887\"], [0.1111111111111111, \"#46039f\"], [0.2222222222222222, \"#7201a8\"], [0.3333333333333333, \"#9c179e\"], [0.4444444444444444, \"#bd3786\"], [0.5555555555555556, \"#d8576b\"], [0.6666666666666666, \"#ed7953\"], [0.7777777777777778, \"#fb9f3a\"], [0.8888888888888888, \"#fdca26\"], [1.0, \"#f0f921\"]], \"type\": \"contour\"}], \"contourcarpet\": [{\"colorbar\": {\"outlinewidth\": 0, \"ticks\": \"\"}, \"type\": \"contourcarpet\"}], \"heatmap\": [{\"colorbar\": {\"outlinewidth\": 0, \"ticks\": \"\"}, \"colorscale\": [[0.0, \"#0d0887\"], [0.1111111111111111, \"#46039f\"], [0.2222222222222222, \"#7201a8\"], [0.3333333333333333, \"#9c179e\"], [0.4444444444444444, \"#bd3786\"], [0.5555555555555556, \"#d8576b\"], [0.6666666666666666, \"#ed7953\"], [0.7777777777777778, \"#fb9f3a\"], [0.8888888888888888, \"#fdca26\"], [1.0, \"#f0f921\"]], \"type\": \"heatmap\"}], \"heatmapgl\": [{\"colorbar\": {\"outlinewidth\": 0, \"ticks\": \"\"}, \"colorscale\": [[0.0, \"#0d0887\"], [0.1111111111111111, \"#46039f\"], [0.2222222222222222, \"#7201a8\"], [0.3333333333333333, \"#9c179e\"], [0.4444444444444444, \"#bd3786\"], [0.5555555555555556, \"#d8576b\"], [0.6666666666666666, \"#ed7953\"], [0.7777777777777778, \"#fb9f3a\"], [0.8888888888888888, \"#fdca26\"], [1.0, \"#f0f921\"]], \"type\": \"heatmapgl\"}], \"histogram\": [{\"marker\": {\"colorbar\": {\"outlinewidth\": 0, \"ticks\": \"\"}}, \"type\": \"histogram\"}], \"histogram2d\": [{\"colorbar\": {\"outlinewidth\": 0, \"ticks\": \"\"}, \"colorscale\": [[0.0, \"#0d0887\"], [0.1111111111111111, \"#46039f\"], [0.2222222222222222, \"#7201a8\"], [0.3333333333333333, \"#9c179e\"], [0.4444444444444444, \"#bd3786\"], [0.5555555555555556, \"#d8576b\"], [0.6666666666666666, \"#ed7953\"], [0.7777777777777778, \"#fb9f3a\"], [0.8888888888888888, \"#fdca26\"], [1.0, \"#f0f921\"]], \"type\": \"histogram2d\"}], \"histogram2dcontour\": [{\"colorbar\": {\"outlinewidth\": 0, \"ticks\": \"\"}, \"colorscale\": [[0.0, \"#0d0887\"], [0.1111111111111111, \"#46039f\"], [0.2222222222222222, \"#7201a8\"], [0.3333333333333333, \"#9c179e\"], [0.4444444444444444, \"#bd3786\"], [0.5555555555555556, \"#d8576b\"], [0.6666666666666666, \"#ed7953\"], [0.7777777777777778, \"#fb9f3a\"], [0.8888888888888888, \"#fdca26\"], [1.0, \"#f0f921\"]], \"type\": \"histogram2dcontour\"}], \"mesh3d\": [{\"colorbar\": {\"outlinewidth\": 0, \"ticks\": \"\"}, \"type\": \"mesh3d\"}], \"parcoords\": [{\"line\": {\"colorbar\": {\"outlinewidth\": 0, \"ticks\": \"\"}}, \"type\": \"parcoords\"}], \"pie\": [{\"automargin\": true, \"type\": \"pie\"}], \"scatter\": [{\"marker\": {\"colorbar\": {\"outlinewidth\": 0, \"ticks\": \"\"}}, \"type\": \"scatter\"}], \"scatter3d\": [{\"line\": {\"colorbar\": {\"outlinewidth\": 0, \"ticks\": \"\"}}, \"marker\": {\"colorbar\": {\"outlinewidth\": 0, \"ticks\": \"\"}}, \"type\": \"scatter3d\"}], \"scattercarpet\": [{\"marker\": {\"colorbar\": {\"outlinewidth\": 0, \"ticks\": \"\"}}, \"type\": \"scattercarpet\"}], \"scattergeo\": [{\"marker\": {\"colorbar\": {\"outlinewidth\": 0, \"ticks\": \"\"}}, \"type\": \"scattergeo\"}], \"scattergl\": [{\"marker\": {\"colorbar\": {\"outlinewidth\": 0, \"ticks\": \"\"}}, \"type\": \"scattergl\"}], \"scattermapbox\": [{\"marker\": {\"colorbar\": {\"outlinewidth\": 0, \"ticks\": \"\"}}, \"type\": \"scattermapbox\"}], \"scatterpolar\": [{\"marker\": {\"colorbar\": {\"outlinewidth\": 0, \"ticks\": \"\"}}, \"type\": \"scatterpolar\"}], \"scatterpolargl\": [{\"marker\": {\"colorbar\": {\"outlinewidth\": 0, \"ticks\": \"\"}}, \"type\": \"scatterpolargl\"}], \"scatterternary\": [{\"marker\": {\"colorbar\": {\"outlinewidth\": 0, \"ticks\": \"\"}}, \"type\": \"scatterternary\"}], \"surface\": [{\"colorbar\": {\"outlinewidth\": 0, \"ticks\": \"\"}, \"colorscale\": [[0.0, \"#0d0887\"], [0.1111111111111111, \"#46039f\"], [0.2222222222222222, \"#7201a8\"], [0.3333333333333333, \"#9c179e\"], [0.4444444444444444, \"#bd3786\"], [0.5555555555555556, \"#d8576b\"], [0.6666666666666666, \"#ed7953\"], [0.7777777777777778, \"#fb9f3a\"], [0.8888888888888888, \"#fdca26\"], [1.0, \"#f0f921\"]], \"type\": \"surface\"}], \"table\": [{\"cells\": {\"fill\": {\"color\": \"#EBF0F8\"}, \"line\": {\"color\": \"white\"}}, \"header\": {\"fill\": {\"color\": \"#C8D4E3\"}, \"line\": {\"color\": \"white\"}}, \"type\": \"table\"}]}, \"layout\": {\"annotationdefaults\": {\"arrowcolor\": \"#2a3f5f\", \"arrowhead\": 0, \"arrowwidth\": 1}, \"autotypenumbers\": \"strict\", \"coloraxis\": {\"colorbar\": {\"outlinewidth\": 0, \"ticks\": \"\"}}, \"colorscale\": {\"diverging\": [[0, \"#8e0152\"], [0.1, \"#c51b7d\"], [0.2, \"#de77ae\"], [0.3, \"#f1b6da\"], [0.4, \"#fde0ef\"], [0.5, \"#f7f7f7\"], [0.6, \"#e6f5d0\"], [0.7, \"#b8e186\"], [0.8, \"#7fbc41\"], [0.9, \"#4d9221\"], [1, \"#276419\"]], \"sequential\": [[0.0, \"#0d0887\"], [0.1111111111111111, \"#46039f\"], [0.2222222222222222, \"#7201a8\"], [0.3333333333333333, \"#9c179e\"], [0.4444444444444444, \"#bd3786\"], [0.5555555555555556, \"#d8576b\"], [0.6666666666666666, \"#ed7953\"], [0.7777777777777778, \"#fb9f3a\"], [0.8888888888888888, \"#fdca26\"], [1.0, \"#f0f921\"]], \"sequentialminus\": [[0.0, \"#0d0887\"], [0.1111111111111111, \"#46039f\"], [0.2222222222222222, \"#7201a8\"], [0.3333333333333333, \"#9c179e\"], [0.4444444444444444, \"#bd3786\"], [0.5555555555555556, \"#d8576b\"], [0.6666666666666666, \"#ed7953\"], [0.7777777777777778, \"#fb9f3a\"], [0.8888888888888888, \"#fdca26\"], [1.0, \"#f0f921\"]]}, \"colorway\": [\"#636efa\", \"#EF553B\", \"#00cc96\", \"#ab63fa\", \"#FFA15A\", \"#19d3f3\", \"#FF6692\", \"#B6E880\", \"#FF97FF\", \"#FECB52\"], \"font\": {\"color\": \"#2a3f5f\"}, \"geo\": {\"bgcolor\": \"white\", \"lakecolor\": \"white\", \"landcolor\": \"#E5ECF6\", \"showlakes\": true, \"showland\": true, \"subunitcolor\": \"white\"}, \"hoverlabel\": {\"align\": \"left\"}, \"hovermode\": \"closest\", \"mapbox\": {\"style\": \"light\"}, \"paper_bgcolor\": \"white\", \"plot_bgcolor\": \"#E5ECF6\", \"polar\": {\"angularaxis\": {\"gridcolor\": \"white\", \"linecolor\": \"white\", \"ticks\": \"\"}, \"bgcolor\": \"#E5ECF6\", \"radialaxis\": {\"gridcolor\": \"white\", \"linecolor\": \"white\", \"ticks\": \"\"}}, \"scene\": {\"xaxis\": {\"backgroundcolor\": \"#E5ECF6\", \"gridcolor\": \"white\", \"gridwidth\": 2, \"linecolor\": \"white\", \"showbackground\": true, \"ticks\": \"\", \"zerolinecolor\": \"white\"}, \"yaxis\": {\"backgroundcolor\": \"#E5ECF6\", \"gridcolor\": \"white\", \"gridwidth\": 2, \"linecolor\": \"white\", \"showbackground\": true, \"ticks\": \"\", \"zerolinecolor\": \"white\"}, \"zaxis\": {\"backgroundcolor\": \"#E5ECF6\", \"gridcolor\": \"white\", \"gridwidth\": 2, \"linecolor\": \"white\", \"showbackground\": true, \"ticks\": \"\", \"zerolinecolor\": \"white\"}}, \"shapedefaults\": {\"line\": {\"color\": \"#2a3f5f\"}}, \"ternary\": {\"aaxis\": {\"gridcolor\": \"white\", \"linecolor\": \"white\", \"ticks\": \"\"}, \"baxis\": {\"gridcolor\": \"white\", \"linecolor\": \"white\", \"ticks\": \"\"}, \"bgcolor\": \"#E5ECF6\", \"caxis\": {\"gridcolor\": \"white\", \"linecolor\": \"white\", \"ticks\": \"\"}}, \"title\": {\"x\": 0.05}, \"xaxis\": {\"automargin\": true, \"gridcolor\": \"white\", \"linecolor\": \"white\", \"ticks\": \"\", \"title\": {\"standoff\": 15}, \"zerolinecolor\": \"white\", \"zerolinewidth\": 2}, \"yaxis\": {\"automargin\": true, \"gridcolor\": \"white\", \"linecolor\": \"white\", \"ticks\": \"\", \"title\": {\"standoff\": 15}, \"zerolinecolor\": \"white\", \"zerolinewidth\": 2}}}, \"xaxis\": {\"anchor\": \"y\", \"domain\": [0.0, 1.0], \"title\": {\"text\": \"0\"}}, \"yaxis\": {\"anchor\": \"x\", \"domain\": [0.0, 1.0], \"title\": {\"text\": \"1\"}}},                        {\"responsive\": true}                    ).then(function(){\n",
       "                            \n",
       "var gd = document.getElementById('069d70cb-dc5e-4924-abbe-a722fce4dfb9');\n",
       "var x = new MutationObserver(function (mutations, observer) {{\n",
       "        var display = window.getComputedStyle(gd).display;\n",
       "        if (!display || display === 'none') {{\n",
       "            console.log([gd, 'removed!']);\n",
       "            Plotly.purge(gd);\n",
       "            observer.disconnect();\n",
       "        }}\n",
       "}});\n",
       "\n",
       "// Listen for the removal of the full notebook cells\n",
       "var notebookContainer = gd.closest('#notebook-container');\n",
       "if (notebookContainer) {{\n",
       "    x.observe(notebookContainer, {childList: true});\n",
       "}}\n",
       "\n",
       "// Listen for the clearing of the current output cell\n",
       "var outputEl = gd.closest('.output');\n",
       "if (outputEl) {{\n",
       "    x.observe(outputEl, {childList: true});\n",
       "}}\n",
       "\n",
       "                        })                };                });            </script>        </div>"
      ]
     },
     "metadata": {},
     "output_type": "display_data"
    }
   ],
   "source": [
    "#3 Componentes\n",
    "dimensionality_reduction(3,\"rad_cat\",boston_df)"
   ]
  },
  {
   "cell_type": "markdown",
   "metadata": {
    "id": "n9JUt3XxMwje"
   },
   "source": [
    "# Exercise 5. (Complete Analysis)\n",
    "1. Run a complete analysis on the iris and boston dataset (in the standard and discretized versions).\n",
    "2. Run a complete analysis on your own dataset.\n",
    "3. Give an interpreting summary of the EDA for your own data. This should be between half a page and one page (PDF!)."
   ]
  },
  {
   "cell_type": "markdown",
   "metadata": {
    "id": "Hw4ZjcoHgSTd"
   },
   "source": [
    "# Iris Dataset"
   ]
  },
  {
   "cell_type": "code",
   "execution_count": 36,
   "metadata": {
    "colab": {
     "base_uri": "https://localhost:8080/",
     "height": 904
    },
    "id": "DJrIhMIRgI0h",
    "outputId": "ab455e12-3305-441c-b3f8-290ddcabe1a8"
   },
   "outputs": [
    {
     "name": "stdout",
     "output_type": "stream",
     "text": [
      "       sepal_length  sepal_width  petal_length  petal_width\n",
      "count    150.000000   150.000000    150.000000   150.000000\n",
      "mean       5.843333     3.054000      3.758667     1.198667\n",
      "std        0.828066     0.433594      1.764420     0.763161\n",
      "min        4.300000     2.000000      1.000000     0.100000\n",
      "25%        5.100000     2.800000      1.600000     0.300000\n",
      "50%        5.800000     3.000000      4.350000     1.300000\n",
      "75%        6.400000     3.300000      5.100000     1.800000\n",
      "max        7.900000     4.400000      6.900000     2.500000\n",
      "       species sepal_length_cat sepal_width_cat petal_length_cat  \\\n",
      "count      150              150             150              150   \n",
      "unique       3                4               4                3   \n",
      "top     setosa            Short           Short           Medium   \n",
      "freq        50               50              84               54   \n",
      "\n",
      "       petal_width_cat  \n",
      "count              150  \n",
      "unique               4  \n",
      "top                Big  \n",
      "freq                56  \n",
      "Numeric attributes:  Index(['sepal_length', 'sepal_width', 'petal_length', 'petal_width'], dtype='object')\n",
      "Categorical attributes:  Index(['species', 'sepal_length_cat', 'sepal_width_cat', 'petal_length_cat',\n",
      "       'petal_width_cat'],\n",
      "      dtype='object')\n"
     ]
    },
    {
     "data": {
      "text/html": [
       "<div>\n",
       "<style scoped>\n",
       "    .dataframe tbody tr th:only-of-type {\n",
       "        vertical-align: middle;\n",
       "    }\n",
       "\n",
       "    .dataframe tbody tr th {\n",
       "        vertical-align: top;\n",
       "    }\n",
       "\n",
       "    .dataframe thead th {\n",
       "        text-align: right;\n",
       "    }\n",
       "</style>\n",
       "<table border=\"1\" class=\"dataframe\">\n",
       "  <thead>\n",
       "    <tr style=\"text-align: right;\">\n",
       "      <th></th>\n",
       "      <th>sepal_length</th>\n",
       "      <th>sepal_width</th>\n",
       "      <th>petal_length</th>\n",
       "      <th>petal_width</th>\n",
       "      <th>species</th>\n",
       "      <th>sepal_length_cat</th>\n",
       "      <th>sepal_width_cat</th>\n",
       "      <th>petal_length_cat</th>\n",
       "      <th>petal_width_cat</th>\n",
       "    </tr>\n",
       "  </thead>\n",
       "  <tbody>\n",
       "    <tr>\n",
       "      <th>0</th>\n",
       "      <td>5.1</td>\n",
       "      <td>3.5</td>\n",
       "      <td>1.4</td>\n",
       "      <td>0.2</td>\n",
       "      <td>setosa</td>\n",
       "      <td>Very Short</td>\n",
       "      <td>Long</td>\n",
       "      <td>Small</td>\n",
       "      <td>Very Small</td>\n",
       "    </tr>\n",
       "    <tr>\n",
       "      <th>1</th>\n",
       "      <td>4.9</td>\n",
       "      <td>3.0</td>\n",
       "      <td>1.4</td>\n",
       "      <td>0.2</td>\n",
       "      <td>setosa</td>\n",
       "      <td>Very Short</td>\n",
       "      <td>Short</td>\n",
       "      <td>Small</td>\n",
       "      <td>Very Small</td>\n",
       "    </tr>\n",
       "    <tr>\n",
       "      <th>2</th>\n",
       "      <td>4.7</td>\n",
       "      <td>3.2</td>\n",
       "      <td>1.3</td>\n",
       "      <td>0.2</td>\n",
       "      <td>setosa</td>\n",
       "      <td>Very Short</td>\n",
       "      <td>Short</td>\n",
       "      <td>Small</td>\n",
       "      <td>Very Small</td>\n",
       "    </tr>\n",
       "    <tr>\n",
       "      <th>3</th>\n",
       "      <td>4.6</td>\n",
       "      <td>3.1</td>\n",
       "      <td>1.5</td>\n",
       "      <td>0.2</td>\n",
       "      <td>setosa</td>\n",
       "      <td>Very Short</td>\n",
       "      <td>Short</td>\n",
       "      <td>Small</td>\n",
       "      <td>Very Small</td>\n",
       "    </tr>\n",
       "    <tr>\n",
       "      <th>4</th>\n",
       "      <td>5.0</td>\n",
       "      <td>3.6</td>\n",
       "      <td>1.4</td>\n",
       "      <td>0.2</td>\n",
       "      <td>setosa</td>\n",
       "      <td>Very Short</td>\n",
       "      <td>Long</td>\n",
       "      <td>Small</td>\n",
       "      <td>Very Small</td>\n",
       "    </tr>\n",
       "    <tr>\n",
       "      <th>...</th>\n",
       "      <td>...</td>\n",
       "      <td>...</td>\n",
       "      <td>...</td>\n",
       "      <td>...</td>\n",
       "      <td>...</td>\n",
       "      <td>...</td>\n",
       "      <td>...</td>\n",
       "      <td>...</td>\n",
       "      <td>...</td>\n",
       "    </tr>\n",
       "    <tr>\n",
       "      <th>145</th>\n",
       "      <td>6.7</td>\n",
       "      <td>3.0</td>\n",
       "      <td>5.2</td>\n",
       "      <td>2.3</td>\n",
       "      <td>virginica</td>\n",
       "      <td>Long</td>\n",
       "      <td>Short</td>\n",
       "      <td>Big</td>\n",
       "      <td>Very Big</td>\n",
       "    </tr>\n",
       "    <tr>\n",
       "      <th>146</th>\n",
       "      <td>6.3</td>\n",
       "      <td>2.5</td>\n",
       "      <td>5.0</td>\n",
       "      <td>1.9</td>\n",
       "      <td>virginica</td>\n",
       "      <td>Long</td>\n",
       "      <td>Very Short</td>\n",
       "      <td>Big</td>\n",
       "      <td>Big</td>\n",
       "    </tr>\n",
       "    <tr>\n",
       "      <th>147</th>\n",
       "      <td>6.5</td>\n",
       "      <td>3.0</td>\n",
       "      <td>5.2</td>\n",
       "      <td>2.0</td>\n",
       "      <td>virginica</td>\n",
       "      <td>Long</td>\n",
       "      <td>Short</td>\n",
       "      <td>Big</td>\n",
       "      <td>Very Big</td>\n",
       "    </tr>\n",
       "    <tr>\n",
       "      <th>148</th>\n",
       "      <td>6.2</td>\n",
       "      <td>3.4</td>\n",
       "      <td>5.4</td>\n",
       "      <td>2.3</td>\n",
       "      <td>virginica</td>\n",
       "      <td>Long</td>\n",
       "      <td>Long</td>\n",
       "      <td>Big</td>\n",
       "      <td>Very Big</td>\n",
       "    </tr>\n",
       "    <tr>\n",
       "      <th>149</th>\n",
       "      <td>5.9</td>\n",
       "      <td>3.0</td>\n",
       "      <td>5.1</td>\n",
       "      <td>1.8</td>\n",
       "      <td>virginica</td>\n",
       "      <td>Short</td>\n",
       "      <td>Short</td>\n",
       "      <td>Big</td>\n",
       "      <td>Big</td>\n",
       "    </tr>\n",
       "  </tbody>\n",
       "</table>\n",
       "<p>150 rows × 9 columns</p>\n",
       "</div>"
      ],
      "text/plain": [
       "     sepal_length  sepal_width  petal_length  petal_width    species  \\\n",
       "0             5.1          3.5           1.4          0.2     setosa   \n",
       "1             4.9          3.0           1.4          0.2     setosa   \n",
       "2             4.7          3.2           1.3          0.2     setosa   \n",
       "3             4.6          3.1           1.5          0.2     setosa   \n",
       "4             5.0          3.6           1.4          0.2     setosa   \n",
       "..            ...          ...           ...          ...        ...   \n",
       "145           6.7          3.0           5.2          2.3  virginica   \n",
       "146           6.3          2.5           5.0          1.9  virginica   \n",
       "147           6.5          3.0           5.2          2.0  virginica   \n",
       "148           6.2          3.4           5.4          2.3  virginica   \n",
       "149           5.9          3.0           5.1          1.8  virginica   \n",
       "\n",
       "    sepal_length_cat sepal_width_cat petal_length_cat petal_width_cat  \n",
       "0         Very Short            Long            Small      Very Small  \n",
       "1         Very Short           Short            Small      Very Small  \n",
       "2         Very Short           Short            Small      Very Small  \n",
       "3         Very Short           Short            Small      Very Small  \n",
       "4         Very Short            Long            Small      Very Small  \n",
       "..               ...             ...              ...             ...  \n",
       "145             Long           Short              Big        Very Big  \n",
       "146             Long      Very Short              Big             Big  \n",
       "147             Long           Short              Big        Very Big  \n",
       "148             Long            Long              Big        Very Big  \n",
       "149            Short           Short              Big             Big  \n",
       "\n",
       "[150 rows x 9 columns]"
      ]
     },
     "execution_count": 36,
     "metadata": {},
     "output_type": "execute_result"
    }
   ],
   "source": [
    "iris_df =pd.concat([pd.read_csv('../../../../iris.csv'),(pd.read_csv('../../../../iris_discretized.csv',names=['sepal_length_cat', 'sepal_width_cat', 'petal_length_cat', 'petal_width_cat','species_cat'],header=0))],axis=1).drop(\"species_cat\",axis=1)\n",
    "print(iris_df.describe())\n",
    "print(iris_df.describe(include=\"object\"))\n",
    "num_cols, cat_cols =get_column_types(iris_df)\n",
    "iris_df"
   ]
  },
  {
   "cell_type": "code",
   "execution_count": 37,
   "metadata": {
    "colab": {
     "base_uri": "https://localhost:8080/",
     "height": 1000
    },
    "id": "7i2cq_tEobVj",
    "outputId": "0edd15de-1439-4624-cd1f-cf3dacf75730"
   },
   "outputs": [
    {
     "name": "stdout",
     "output_type": "stream",
     "text": [
      "This is a Classification Problem Dataset\n",
      "\n",
      " El atributo species Contiene 0 valores nulos del total de 150 \n",
      "\n",
      " \n",
      " Basic Statistics for: species \n",
      " count        150\n",
      "unique         3\n",
      "top       setosa\n",
      "freq          50\n",
      "Name: species, dtype: object \n",
      "\n",
      " Value Counts Results for: species \n",
      " setosa        50\n",
      "versicolor    50\n",
      "virginica     50\n",
      "Name: species, dtype: int64 \n",
      "\n",
      "Numeric attributes:  Index(['sepal_length', 'sepal_width', 'petal_length', 'petal_width'], dtype='object')\n",
      "Categorical attributes:  Index(['species', 'sepal_length_cat', 'sepal_width_cat', 'petal_length_cat',\n",
      "       'petal_width_cat'],\n",
      "      dtype='object')\n",
      "Executing ... Histograms Analysis\n",
      "Executing ... Boxplots Analysis\n"
     ]
    },
    {
     "data": {
      "application/vnd.plotly.v1+json": {
       "config": {
        "plotlyServerURL": "https://plot.ly"
       },
       "data": [
        {
         "alignmentgroup": "True",
         "hovertemplate": "variable=sepal_length<br>value=%{y}<extra></extra>",
         "legendgroup": "sepal_length",
         "marker": {
          "color": "#636efa"
         },
         "name": "sepal_length",
         "notched": false,
         "offsetgroup": "sepal_length",
         "orientation": "v",
         "showlegend": true,
         "type": "box",
         "x0": " ",
         "xaxis": "x",
         "y": [
          5.1,
          4.9,
          4.7,
          4.6,
          5,
          5.4,
          4.6,
          5,
          4.4,
          4.9,
          5.4,
          4.8,
          4.8,
          4.3,
          5.8,
          5.7,
          5.4,
          5.1,
          5.7,
          5.1,
          5.4,
          5.1,
          4.6,
          5.1,
          4.8,
          5,
          5,
          5.2,
          5.2,
          4.7,
          4.8,
          5.4,
          5.2,
          5.5,
          4.9,
          5,
          5.5,
          4.9,
          4.4,
          5.1,
          5,
          4.5,
          4.4,
          5,
          5.1,
          4.8,
          5.1,
          4.6,
          5.3,
          5,
          7,
          6.4,
          6.9,
          5.5,
          6.5,
          5.7,
          6.3,
          4.9,
          6.6,
          5.2,
          5,
          5.9,
          6,
          6.1,
          5.6,
          6.7,
          5.6,
          5.8,
          6.2,
          5.6,
          5.9,
          6.1,
          6.3,
          6.1,
          6.4,
          6.6,
          6.8,
          6.7,
          6,
          5.7,
          5.5,
          5.5,
          5.8,
          6,
          5.4,
          6,
          6.7,
          6.3,
          5.6,
          5.5,
          5.5,
          6.1,
          5.8,
          5,
          5.6,
          5.7,
          5.7,
          6.2,
          5.1,
          5.7,
          6.3,
          5.8,
          7.1,
          6.3,
          6.5,
          7.6,
          4.9,
          7.3,
          6.7,
          7.2,
          6.5,
          6.4,
          6.8,
          5.7,
          5.8,
          6.4,
          6.5,
          7.7,
          7.7,
          6,
          6.9,
          5.6,
          7.7,
          6.3,
          6.7,
          7.2,
          6.2,
          6.1,
          6.4,
          7.2,
          7.4,
          7.9,
          6.4,
          6.3,
          6.1,
          7.7,
          6.3,
          6.4,
          6,
          6.9,
          6.7,
          6.9,
          5.8,
          6.8,
          6.7,
          6.7,
          6.3,
          6.5,
          6.2,
          5.9
         ],
         "y0": " ",
         "yaxis": "y"
        },
        {
         "alignmentgroup": "True",
         "hovertemplate": "variable=sepal_width<br>value=%{y}<extra></extra>",
         "legendgroup": "sepal_width",
         "marker": {
          "color": "#EF553B"
         },
         "name": "sepal_width",
         "notched": false,
         "offsetgroup": "sepal_width",
         "orientation": "v",
         "showlegend": true,
         "type": "box",
         "x0": " ",
         "xaxis": "x2",
         "y": [
          3.5,
          3,
          3.2,
          3.1,
          3.6,
          3.9,
          3.4,
          3.4,
          2.9,
          3.1,
          3.7,
          3.4,
          3,
          3,
          4,
          4.4,
          3.9,
          3.5,
          3.8,
          3.8,
          3.4,
          3.7,
          3.6,
          3.3,
          3.4,
          3,
          3.4,
          3.5,
          3.4,
          3.2,
          3.1,
          3.4,
          4.1,
          4.2,
          3.1,
          3.2,
          3.5,
          3.1,
          3,
          3.4,
          3.5,
          2.3,
          3.2,
          3.5,
          3.8,
          3,
          3.8,
          3.2,
          3.7,
          3.3,
          3.2,
          3.2,
          3.1,
          2.3,
          2.8,
          2.8,
          3.3,
          2.4,
          2.9,
          2.7,
          2,
          3,
          2.2,
          2.9,
          2.9,
          3.1,
          3,
          2.7,
          2.2,
          2.5,
          3.2,
          2.8,
          2.5,
          2.8,
          2.9,
          3,
          2.8,
          3,
          2.9,
          2.6,
          2.4,
          2.4,
          2.7,
          2.7,
          3,
          3.4,
          3.1,
          2.3,
          3,
          2.5,
          2.6,
          3,
          2.6,
          2.3,
          2.7,
          3,
          2.9,
          2.9,
          2.5,
          2.8,
          3.3,
          2.7,
          3,
          2.9,
          3,
          3,
          2.5,
          2.9,
          2.5,
          3.6,
          3.2,
          2.7,
          3,
          2.5,
          2.8,
          3.2,
          3,
          3.8,
          2.6,
          2.2,
          3.2,
          2.8,
          2.8,
          2.7,
          3.3,
          3.2,
          2.8,
          3,
          2.8,
          3,
          2.8,
          3.8,
          2.8,
          2.8,
          2.6,
          3,
          3.4,
          3.1,
          3,
          3.1,
          3.1,
          3.1,
          2.7,
          3.2,
          3.3,
          3,
          2.5,
          3,
          3.4,
          3
         ],
         "y0": " ",
         "yaxis": "y2"
        },
        {
         "alignmentgroup": "True",
         "hovertemplate": "variable=petal_length<br>value=%{y}<extra></extra>",
         "legendgroup": "petal_length",
         "marker": {
          "color": "#00cc96"
         },
         "name": "petal_length",
         "notched": false,
         "offsetgroup": "petal_length",
         "orientation": "v",
         "showlegend": true,
         "type": "box",
         "x0": " ",
         "xaxis": "x3",
         "y": [
          1.4,
          1.4,
          1.3,
          1.5,
          1.4,
          1.7,
          1.4,
          1.5,
          1.4,
          1.5,
          1.5,
          1.6,
          1.4,
          1.1,
          1.2,
          1.5,
          1.3,
          1.4,
          1.7,
          1.5,
          1.7,
          1.5,
          1,
          1.7,
          1.9,
          1.6,
          1.6,
          1.5,
          1.4,
          1.6,
          1.6,
          1.5,
          1.5,
          1.4,
          1.5,
          1.2,
          1.3,
          1.5,
          1.3,
          1.5,
          1.3,
          1.3,
          1.3,
          1.6,
          1.9,
          1.4,
          1.6,
          1.4,
          1.5,
          1.4,
          4.7,
          4.5,
          4.9,
          4,
          4.6,
          4.5,
          4.7,
          3.3,
          4.6,
          3.9,
          3.5,
          4.2,
          4,
          4.7,
          3.6,
          4.4,
          4.5,
          4.1,
          4.5,
          3.9,
          4.8,
          4,
          4.9,
          4.7,
          4.3,
          4.4,
          4.8,
          5,
          4.5,
          3.5,
          3.8,
          3.7,
          3.9,
          5.1,
          4.5,
          4.5,
          4.7,
          4.4,
          4.1,
          4,
          4.4,
          4.6,
          4,
          3.3,
          4.2,
          4.2,
          4.2,
          4.3,
          3,
          4.1,
          6,
          5.1,
          5.9,
          5.6,
          5.8,
          6.6,
          4.5,
          6.3,
          5.8,
          6.1,
          5.1,
          5.3,
          5.5,
          5,
          5.1,
          5.3,
          5.5,
          6.7,
          6.9,
          5,
          5.7,
          4.9,
          6.7,
          4.9,
          5.7,
          6,
          4.8,
          4.9,
          5.6,
          5.8,
          6.1,
          6.4,
          5.6,
          5.1,
          5.6,
          6.1,
          5.6,
          5.5,
          4.8,
          5.4,
          5.6,
          5.1,
          5.1,
          5.9,
          5.7,
          5.2,
          5,
          5.2,
          5.4,
          5.1
         ],
         "y0": " ",
         "yaxis": "y3"
        },
        {
         "alignmentgroup": "True",
         "hovertemplate": "variable=petal_width<br>value=%{y}<extra></extra>",
         "legendgroup": "petal_width",
         "marker": {
          "color": "#ab63fa"
         },
         "name": "petal_width",
         "notched": false,
         "offsetgroup": "petal_width",
         "orientation": "v",
         "showlegend": true,
         "type": "box",
         "x0": " ",
         "xaxis": "x4",
         "y": [
          0.2,
          0.2,
          0.2,
          0.2,
          0.2,
          0.4,
          0.3,
          0.2,
          0.2,
          0.1,
          0.2,
          0.2,
          0.1,
          0.1,
          0.2,
          0.4,
          0.4,
          0.3,
          0.3,
          0.3,
          0.2,
          0.4,
          0.2,
          0.5,
          0.2,
          0.2,
          0.4,
          0.2,
          0.2,
          0.2,
          0.2,
          0.4,
          0.1,
          0.2,
          0.1,
          0.2,
          0.2,
          0.1,
          0.2,
          0.2,
          0.3,
          0.3,
          0.2,
          0.6,
          0.4,
          0.3,
          0.2,
          0.2,
          0.2,
          0.2,
          1.4,
          1.5,
          1.5,
          1.3,
          1.5,
          1.3,
          1.6,
          1,
          1.3,
          1.4,
          1,
          1.5,
          1,
          1.4,
          1.3,
          1.4,
          1.5,
          1,
          1.5,
          1.1,
          1.8,
          1.3,
          1.5,
          1.2,
          1.3,
          1.4,
          1.4,
          1.7,
          1.5,
          1,
          1.1,
          1,
          1.2,
          1.6,
          1.5,
          1.6,
          1.5,
          1.3,
          1.3,
          1.3,
          1.2,
          1.4,
          1.2,
          1,
          1.3,
          1.2,
          1.3,
          1.3,
          1.1,
          1.3,
          2.5,
          1.9,
          2.1,
          1.8,
          2.2,
          2.1,
          1.7,
          1.8,
          1.8,
          2.5,
          2,
          1.9,
          2.1,
          2,
          2.4,
          2.3,
          1.8,
          2.2,
          2.3,
          1.5,
          2.3,
          2,
          2,
          1.8,
          2.1,
          1.8,
          1.8,
          1.8,
          2.1,
          1.6,
          1.9,
          2,
          2.2,
          1.5,
          1.4,
          2.3,
          2.4,
          1.8,
          1.8,
          2.1,
          2.4,
          2.3,
          1.9,
          2.3,
          2.5,
          2.3,
          1.9,
          2,
          2.3,
          1.8
         ],
         "y0": " ",
         "yaxis": "y4"
        }
       ],
       "layout": {
        "annotations": [
         {
          "font": {},
          "showarrow": false,
          "text": "variable=sepal_length",
          "x": 0.1175,
          "xanchor": "center",
          "xref": "paper",
          "y": 1,
          "yanchor": "bottom",
          "yref": "paper"
         },
         {
          "font": {},
          "showarrow": false,
          "text": "variable=sepal_width",
          "x": 0.3725,
          "xanchor": "center",
          "xref": "paper",
          "y": 1,
          "yanchor": "bottom",
          "yref": "paper"
         },
         {
          "font": {},
          "showarrow": false,
          "text": "variable=petal_length",
          "x": 0.6275,
          "xanchor": "center",
          "xref": "paper",
          "y": 1,
          "yanchor": "bottom",
          "yref": "paper"
         },
         {
          "font": {},
          "showarrow": false,
          "text": "variable=petal_width",
          "x": 0.8824999999999998,
          "xanchor": "center",
          "xref": "paper",
          "y": 1,
          "yanchor": "bottom",
          "yref": "paper"
         }
        ],
        "boxmode": "overlay",
        "height": 500,
        "legend": {
         "title": {
          "text": "variable"
         },
         "tracegroupgap": 0
        },
        "margin": {
         "t": 60
        },
        "showlegend": false,
        "template": {
         "data": {
          "bar": [
           {
            "error_x": {
             "color": "#2a3f5f"
            },
            "error_y": {
             "color": "#2a3f5f"
            },
            "marker": {
             "line": {
              "color": "#E5ECF6",
              "width": 0.5
             }
            },
            "type": "bar"
           }
          ],
          "barpolar": [
           {
            "marker": {
             "line": {
              "color": "#E5ECF6",
              "width": 0.5
             }
            },
            "type": "barpolar"
           }
          ],
          "carpet": [
           {
            "aaxis": {
             "endlinecolor": "#2a3f5f",
             "gridcolor": "white",
             "linecolor": "white",
             "minorgridcolor": "white",
             "startlinecolor": "#2a3f5f"
            },
            "baxis": {
             "endlinecolor": "#2a3f5f",
             "gridcolor": "white",
             "linecolor": "white",
             "minorgridcolor": "white",
             "startlinecolor": "#2a3f5f"
            },
            "type": "carpet"
           }
          ],
          "choropleth": [
           {
            "colorbar": {
             "outlinewidth": 0,
             "ticks": ""
            },
            "type": "choropleth"
           }
          ],
          "contour": [
           {
            "colorbar": {
             "outlinewidth": 0,
             "ticks": ""
            },
            "colorscale": [
             [
              0,
              "#0d0887"
             ],
             [
              0.1111111111111111,
              "#46039f"
             ],
             [
              0.2222222222222222,
              "#7201a8"
             ],
             [
              0.3333333333333333,
              "#9c179e"
             ],
             [
              0.4444444444444444,
              "#bd3786"
             ],
             [
              0.5555555555555556,
              "#d8576b"
             ],
             [
              0.6666666666666666,
              "#ed7953"
             ],
             [
              0.7777777777777778,
              "#fb9f3a"
             ],
             [
              0.8888888888888888,
              "#fdca26"
             ],
             [
              1,
              "#f0f921"
             ]
            ],
            "type": "contour"
           }
          ],
          "contourcarpet": [
           {
            "colorbar": {
             "outlinewidth": 0,
             "ticks": ""
            },
            "type": "contourcarpet"
           }
          ],
          "heatmap": [
           {
            "colorbar": {
             "outlinewidth": 0,
             "ticks": ""
            },
            "colorscale": [
             [
              0,
              "#0d0887"
             ],
             [
              0.1111111111111111,
              "#46039f"
             ],
             [
              0.2222222222222222,
              "#7201a8"
             ],
             [
              0.3333333333333333,
              "#9c179e"
             ],
             [
              0.4444444444444444,
              "#bd3786"
             ],
             [
              0.5555555555555556,
              "#d8576b"
             ],
             [
              0.6666666666666666,
              "#ed7953"
             ],
             [
              0.7777777777777778,
              "#fb9f3a"
             ],
             [
              0.8888888888888888,
              "#fdca26"
             ],
             [
              1,
              "#f0f921"
             ]
            ],
            "type": "heatmap"
           }
          ],
          "heatmapgl": [
           {
            "colorbar": {
             "outlinewidth": 0,
             "ticks": ""
            },
            "colorscale": [
             [
              0,
              "#0d0887"
             ],
             [
              0.1111111111111111,
              "#46039f"
             ],
             [
              0.2222222222222222,
              "#7201a8"
             ],
             [
              0.3333333333333333,
              "#9c179e"
             ],
             [
              0.4444444444444444,
              "#bd3786"
             ],
             [
              0.5555555555555556,
              "#d8576b"
             ],
             [
              0.6666666666666666,
              "#ed7953"
             ],
             [
              0.7777777777777778,
              "#fb9f3a"
             ],
             [
              0.8888888888888888,
              "#fdca26"
             ],
             [
              1,
              "#f0f921"
             ]
            ],
            "type": "heatmapgl"
           }
          ],
          "histogram": [
           {
            "marker": {
             "colorbar": {
              "outlinewidth": 0,
              "ticks": ""
             }
            },
            "type": "histogram"
           }
          ],
          "histogram2d": [
           {
            "colorbar": {
             "outlinewidth": 0,
             "ticks": ""
            },
            "colorscale": [
             [
              0,
              "#0d0887"
             ],
             [
              0.1111111111111111,
              "#46039f"
             ],
             [
              0.2222222222222222,
              "#7201a8"
             ],
             [
              0.3333333333333333,
              "#9c179e"
             ],
             [
              0.4444444444444444,
              "#bd3786"
             ],
             [
              0.5555555555555556,
              "#d8576b"
             ],
             [
              0.6666666666666666,
              "#ed7953"
             ],
             [
              0.7777777777777778,
              "#fb9f3a"
             ],
             [
              0.8888888888888888,
              "#fdca26"
             ],
             [
              1,
              "#f0f921"
             ]
            ],
            "type": "histogram2d"
           }
          ],
          "histogram2dcontour": [
           {
            "colorbar": {
             "outlinewidth": 0,
             "ticks": ""
            },
            "colorscale": [
             [
              0,
              "#0d0887"
             ],
             [
              0.1111111111111111,
              "#46039f"
             ],
             [
              0.2222222222222222,
              "#7201a8"
             ],
             [
              0.3333333333333333,
              "#9c179e"
             ],
             [
              0.4444444444444444,
              "#bd3786"
             ],
             [
              0.5555555555555556,
              "#d8576b"
             ],
             [
              0.6666666666666666,
              "#ed7953"
             ],
             [
              0.7777777777777778,
              "#fb9f3a"
             ],
             [
              0.8888888888888888,
              "#fdca26"
             ],
             [
              1,
              "#f0f921"
             ]
            ],
            "type": "histogram2dcontour"
           }
          ],
          "mesh3d": [
           {
            "colorbar": {
             "outlinewidth": 0,
             "ticks": ""
            },
            "type": "mesh3d"
           }
          ],
          "parcoords": [
           {
            "line": {
             "colorbar": {
              "outlinewidth": 0,
              "ticks": ""
             }
            },
            "type": "parcoords"
           }
          ],
          "pie": [
           {
            "automargin": true,
            "type": "pie"
           }
          ],
          "scatter": [
           {
            "marker": {
             "colorbar": {
              "outlinewidth": 0,
              "ticks": ""
             }
            },
            "type": "scatter"
           }
          ],
          "scatter3d": [
           {
            "line": {
             "colorbar": {
              "outlinewidth": 0,
              "ticks": ""
             }
            },
            "marker": {
             "colorbar": {
              "outlinewidth": 0,
              "ticks": ""
             }
            },
            "type": "scatter3d"
           }
          ],
          "scattercarpet": [
           {
            "marker": {
             "colorbar": {
              "outlinewidth": 0,
              "ticks": ""
             }
            },
            "type": "scattercarpet"
           }
          ],
          "scattergeo": [
           {
            "marker": {
             "colorbar": {
              "outlinewidth": 0,
              "ticks": ""
             }
            },
            "type": "scattergeo"
           }
          ],
          "scattergl": [
           {
            "marker": {
             "colorbar": {
              "outlinewidth": 0,
              "ticks": ""
             }
            },
            "type": "scattergl"
           }
          ],
          "scattermapbox": [
           {
            "marker": {
             "colorbar": {
              "outlinewidth": 0,
              "ticks": ""
             }
            },
            "type": "scattermapbox"
           }
          ],
          "scatterpolar": [
           {
            "marker": {
             "colorbar": {
              "outlinewidth": 0,
              "ticks": ""
             }
            },
            "type": "scatterpolar"
           }
          ],
          "scatterpolargl": [
           {
            "marker": {
             "colorbar": {
              "outlinewidth": 0,
              "ticks": ""
             }
            },
            "type": "scatterpolargl"
           }
          ],
          "scatterternary": [
           {
            "marker": {
             "colorbar": {
              "outlinewidth": 0,
              "ticks": ""
             }
            },
            "type": "scatterternary"
           }
          ],
          "surface": [
           {
            "colorbar": {
             "outlinewidth": 0,
             "ticks": ""
            },
            "colorscale": [
             [
              0,
              "#0d0887"
             ],
             [
              0.1111111111111111,
              "#46039f"
             ],
             [
              0.2222222222222222,
              "#7201a8"
             ],
             [
              0.3333333333333333,
              "#9c179e"
             ],
             [
              0.4444444444444444,
              "#bd3786"
             ],
             [
              0.5555555555555556,
              "#d8576b"
             ],
             [
              0.6666666666666666,
              "#ed7953"
             ],
             [
              0.7777777777777778,
              "#fb9f3a"
             ],
             [
              0.8888888888888888,
              "#fdca26"
             ],
             [
              1,
              "#f0f921"
             ]
            ],
            "type": "surface"
           }
          ],
          "table": [
           {
            "cells": {
             "fill": {
              "color": "#EBF0F8"
             },
             "line": {
              "color": "white"
             }
            },
            "header": {
             "fill": {
              "color": "#C8D4E3"
             },
             "line": {
              "color": "white"
             }
            },
            "type": "table"
           }
          ]
         },
         "layout": {
          "annotationdefaults": {
           "arrowcolor": "#2a3f5f",
           "arrowhead": 0,
           "arrowwidth": 1
          },
          "autotypenumbers": "strict",
          "coloraxis": {
           "colorbar": {
            "outlinewidth": 0,
            "ticks": ""
           }
          },
          "colorscale": {
           "diverging": [
            [
             0,
             "#8e0152"
            ],
            [
             0.1,
             "#c51b7d"
            ],
            [
             0.2,
             "#de77ae"
            ],
            [
             0.3,
             "#f1b6da"
            ],
            [
             0.4,
             "#fde0ef"
            ],
            [
             0.5,
             "#f7f7f7"
            ],
            [
             0.6,
             "#e6f5d0"
            ],
            [
             0.7,
             "#b8e186"
            ],
            [
             0.8,
             "#7fbc41"
            ],
            [
             0.9,
             "#4d9221"
            ],
            [
             1,
             "#276419"
            ]
           ],
           "sequential": [
            [
             0,
             "#0d0887"
            ],
            [
             0.1111111111111111,
             "#46039f"
            ],
            [
             0.2222222222222222,
             "#7201a8"
            ],
            [
             0.3333333333333333,
             "#9c179e"
            ],
            [
             0.4444444444444444,
             "#bd3786"
            ],
            [
             0.5555555555555556,
             "#d8576b"
            ],
            [
             0.6666666666666666,
             "#ed7953"
            ],
            [
             0.7777777777777778,
             "#fb9f3a"
            ],
            [
             0.8888888888888888,
             "#fdca26"
            ],
            [
             1,
             "#f0f921"
            ]
           ],
           "sequentialminus": [
            [
             0,
             "#0d0887"
            ],
            [
             0.1111111111111111,
             "#46039f"
            ],
            [
             0.2222222222222222,
             "#7201a8"
            ],
            [
             0.3333333333333333,
             "#9c179e"
            ],
            [
             0.4444444444444444,
             "#bd3786"
            ],
            [
             0.5555555555555556,
             "#d8576b"
            ],
            [
             0.6666666666666666,
             "#ed7953"
            ],
            [
             0.7777777777777778,
             "#fb9f3a"
            ],
            [
             0.8888888888888888,
             "#fdca26"
            ],
            [
             1,
             "#f0f921"
            ]
           ]
          },
          "colorway": [
           "#636efa",
           "#EF553B",
           "#00cc96",
           "#ab63fa",
           "#FFA15A",
           "#19d3f3",
           "#FF6692",
           "#B6E880",
           "#FF97FF",
           "#FECB52"
          ],
          "font": {
           "color": "#2a3f5f"
          },
          "geo": {
           "bgcolor": "white",
           "lakecolor": "white",
           "landcolor": "#E5ECF6",
           "showlakes": true,
           "showland": true,
           "subunitcolor": "white"
          },
          "hoverlabel": {
           "align": "left"
          },
          "hovermode": "closest",
          "mapbox": {
           "style": "light"
          },
          "paper_bgcolor": "white",
          "plot_bgcolor": "#E5ECF6",
          "polar": {
           "angularaxis": {
            "gridcolor": "white",
            "linecolor": "white",
            "ticks": ""
           },
           "bgcolor": "#E5ECF6",
           "radialaxis": {
            "gridcolor": "white",
            "linecolor": "white",
            "ticks": ""
           }
          },
          "scene": {
           "xaxis": {
            "backgroundcolor": "#E5ECF6",
            "gridcolor": "white",
            "gridwidth": 2,
            "linecolor": "white",
            "showbackground": true,
            "ticks": "",
            "zerolinecolor": "white"
           },
           "yaxis": {
            "backgroundcolor": "#E5ECF6",
            "gridcolor": "white",
            "gridwidth": 2,
            "linecolor": "white",
            "showbackground": true,
            "ticks": "",
            "zerolinecolor": "white"
           },
           "zaxis": {
            "backgroundcolor": "#E5ECF6",
            "gridcolor": "white",
            "gridwidth": 2,
            "linecolor": "white",
            "showbackground": true,
            "ticks": "",
            "zerolinecolor": "white"
           }
          },
          "shapedefaults": {
           "line": {
            "color": "#2a3f5f"
           }
          },
          "ternary": {
           "aaxis": {
            "gridcolor": "white",
            "linecolor": "white",
            "ticks": ""
           },
           "baxis": {
            "gridcolor": "white",
            "linecolor": "white",
            "ticks": ""
           },
           "bgcolor": "#E5ECF6",
           "caxis": {
            "gridcolor": "white",
            "linecolor": "white",
            "ticks": ""
           }
          },
          "title": {
           "x": 0.05
          },
          "xaxis": {
           "automargin": true,
           "gridcolor": "white",
           "linecolor": "white",
           "ticks": "",
           "title": {
            "standoff": 15
           },
           "zerolinecolor": "white",
           "zerolinewidth": 2
          },
          "yaxis": {
           "automargin": true,
           "gridcolor": "white",
           "linecolor": "white",
           "ticks": "",
           "title": {
            "standoff": 15
           },
           "zerolinecolor": "white",
           "zerolinewidth": 2
          }
         }
        },
        "width": 700,
        "xaxis": {
         "anchor": "y",
         "domain": [
          0,
          0.235
         ],
         "linecolor": "grey",
         "linewidth": 2,
         "showline": true
        },
        "xaxis2": {
         "anchor": "y2",
         "domain": [
          0.255,
          0.49
         ],
         "linecolor": "grey",
         "linewidth": 2,
         "matches": "x",
         "showline": true
        },
        "xaxis3": {
         "anchor": "y3",
         "domain": [
          0.51,
          0.745
         ],
         "linecolor": "grey",
         "linewidth": 2,
         "matches": "x",
         "showline": true
        },
        "xaxis4": {
         "anchor": "y4",
         "domain": [
          0.7649999999999999,
          0.9999999999999999
         ],
         "linecolor": "grey",
         "linewidth": 2,
         "matches": "x",
         "showline": true
        },
        "yaxis": {
         "anchor": "x",
         "domain": [
          0,
          1
         ],
         "linecolor": "grey",
         "linewidth": 2,
         "showline": true,
         "showticklabels": true,
         "title": {
          "text": "value"
         }
        },
        "yaxis2": {
         "anchor": "x2",
         "domain": [
          0,
          1
         ],
         "linecolor": "grey",
         "linewidth": 2,
         "showline": true,
         "showticklabels": true
        },
        "yaxis3": {
         "anchor": "x3",
         "domain": [
          0,
          1
         ],
         "linecolor": "grey",
         "linewidth": 2,
         "showline": true,
         "showticklabels": true
        },
        "yaxis4": {
         "anchor": "x4",
         "domain": [
          0,
          1
         ],
         "linecolor": "grey",
         "linewidth": 2,
         "showline": true,
         "showticklabels": true
        }
       }
      },
      "text/html": [
       "<div>                            <div id=\"abf09409-f4e0-4175-bcce-a322e631004f\" class=\"plotly-graph-div\" style=\"height:500px; width:700px;\"></div>            <script type=\"text/javascript\">                require([\"plotly\"], function(Plotly) {                    window.PLOTLYENV=window.PLOTLYENV || {};                                    if (document.getElementById(\"abf09409-f4e0-4175-bcce-a322e631004f\")) {                    Plotly.newPlot(                        \"abf09409-f4e0-4175-bcce-a322e631004f\",                        [{\"alignmentgroup\": \"True\", \"hovertemplate\": \"variable=sepal_length<br>value=%{y}<extra></extra>\", \"legendgroup\": \"sepal_length\", \"marker\": {\"color\": \"#636efa\"}, \"name\": \"sepal_length\", \"notched\": false, \"offsetgroup\": \"sepal_length\", \"orientation\": \"v\", \"showlegend\": true, \"type\": \"box\", \"x0\": \" \", \"xaxis\": \"x\", \"y\": [5.1, 4.9, 4.7, 4.6, 5.0, 5.4, 4.6, 5.0, 4.4, 4.9, 5.4, 4.8, 4.8, 4.3, 5.8, 5.7, 5.4, 5.1, 5.7, 5.1, 5.4, 5.1, 4.6, 5.1, 4.8, 5.0, 5.0, 5.2, 5.2, 4.7, 4.8, 5.4, 5.2, 5.5, 4.9, 5.0, 5.5, 4.9, 4.4, 5.1, 5.0, 4.5, 4.4, 5.0, 5.1, 4.8, 5.1, 4.6, 5.3, 5.0, 7.0, 6.4, 6.9, 5.5, 6.5, 5.7, 6.3, 4.9, 6.6, 5.2, 5.0, 5.9, 6.0, 6.1, 5.6, 6.7, 5.6, 5.8, 6.2, 5.6, 5.9, 6.1, 6.3, 6.1, 6.4, 6.6, 6.8, 6.7, 6.0, 5.7, 5.5, 5.5, 5.8, 6.0, 5.4, 6.0, 6.7, 6.3, 5.6, 5.5, 5.5, 6.1, 5.8, 5.0, 5.6, 5.7, 5.7, 6.2, 5.1, 5.7, 6.3, 5.8, 7.1, 6.3, 6.5, 7.6, 4.9, 7.3, 6.7, 7.2, 6.5, 6.4, 6.8, 5.7, 5.8, 6.4, 6.5, 7.7, 7.7, 6.0, 6.9, 5.6, 7.7, 6.3, 6.7, 7.2, 6.2, 6.1, 6.4, 7.2, 7.4, 7.9, 6.4, 6.3, 6.1, 7.7, 6.3, 6.4, 6.0, 6.9, 6.7, 6.9, 5.8, 6.8, 6.7, 6.7, 6.3, 6.5, 6.2, 5.9], \"y0\": \" \", \"yaxis\": \"y\"}, {\"alignmentgroup\": \"True\", \"hovertemplate\": \"variable=sepal_width<br>value=%{y}<extra></extra>\", \"legendgroup\": \"sepal_width\", \"marker\": {\"color\": \"#EF553B\"}, \"name\": \"sepal_width\", \"notched\": false, \"offsetgroup\": \"sepal_width\", \"orientation\": \"v\", \"showlegend\": true, \"type\": \"box\", \"x0\": \" \", \"xaxis\": \"x2\", \"y\": [3.5, 3.0, 3.2, 3.1, 3.6, 3.9, 3.4, 3.4, 2.9, 3.1, 3.7, 3.4, 3.0, 3.0, 4.0, 4.4, 3.9, 3.5, 3.8, 3.8, 3.4, 3.7, 3.6, 3.3, 3.4, 3.0, 3.4, 3.5, 3.4, 3.2, 3.1, 3.4, 4.1, 4.2, 3.1, 3.2, 3.5, 3.1, 3.0, 3.4, 3.5, 2.3, 3.2, 3.5, 3.8, 3.0, 3.8, 3.2, 3.7, 3.3, 3.2, 3.2, 3.1, 2.3, 2.8, 2.8, 3.3, 2.4, 2.9, 2.7, 2.0, 3.0, 2.2, 2.9, 2.9, 3.1, 3.0, 2.7, 2.2, 2.5, 3.2, 2.8, 2.5, 2.8, 2.9, 3.0, 2.8, 3.0, 2.9, 2.6, 2.4, 2.4, 2.7, 2.7, 3.0, 3.4, 3.1, 2.3, 3.0, 2.5, 2.6, 3.0, 2.6, 2.3, 2.7, 3.0, 2.9, 2.9, 2.5, 2.8, 3.3, 2.7, 3.0, 2.9, 3.0, 3.0, 2.5, 2.9, 2.5, 3.6, 3.2, 2.7, 3.0, 2.5, 2.8, 3.2, 3.0, 3.8, 2.6, 2.2, 3.2, 2.8, 2.8, 2.7, 3.3, 3.2, 2.8, 3.0, 2.8, 3.0, 2.8, 3.8, 2.8, 2.8, 2.6, 3.0, 3.4, 3.1, 3.0, 3.1, 3.1, 3.1, 2.7, 3.2, 3.3, 3.0, 2.5, 3.0, 3.4, 3.0], \"y0\": \" \", \"yaxis\": \"y2\"}, {\"alignmentgroup\": \"True\", \"hovertemplate\": \"variable=petal_length<br>value=%{y}<extra></extra>\", \"legendgroup\": \"petal_length\", \"marker\": {\"color\": \"#00cc96\"}, \"name\": \"petal_length\", \"notched\": false, \"offsetgroup\": \"petal_length\", \"orientation\": \"v\", \"showlegend\": true, \"type\": \"box\", \"x0\": \" \", \"xaxis\": \"x3\", \"y\": [1.4, 1.4, 1.3, 1.5, 1.4, 1.7, 1.4, 1.5, 1.4, 1.5, 1.5, 1.6, 1.4, 1.1, 1.2, 1.5, 1.3, 1.4, 1.7, 1.5, 1.7, 1.5, 1.0, 1.7, 1.9, 1.6, 1.6, 1.5, 1.4, 1.6, 1.6, 1.5, 1.5, 1.4, 1.5, 1.2, 1.3, 1.5, 1.3, 1.5, 1.3, 1.3, 1.3, 1.6, 1.9, 1.4, 1.6, 1.4, 1.5, 1.4, 4.7, 4.5, 4.9, 4.0, 4.6, 4.5, 4.7, 3.3, 4.6, 3.9, 3.5, 4.2, 4.0, 4.7, 3.6, 4.4, 4.5, 4.1, 4.5, 3.9, 4.8, 4.0, 4.9, 4.7, 4.3, 4.4, 4.8, 5.0, 4.5, 3.5, 3.8, 3.7, 3.9, 5.1, 4.5, 4.5, 4.7, 4.4, 4.1, 4.0, 4.4, 4.6, 4.0, 3.3, 4.2, 4.2, 4.2, 4.3, 3.0, 4.1, 6.0, 5.1, 5.9, 5.6, 5.8, 6.6, 4.5, 6.3, 5.8, 6.1, 5.1, 5.3, 5.5, 5.0, 5.1, 5.3, 5.5, 6.7, 6.9, 5.0, 5.7, 4.9, 6.7, 4.9, 5.7, 6.0, 4.8, 4.9, 5.6, 5.8, 6.1, 6.4, 5.6, 5.1, 5.6, 6.1, 5.6, 5.5, 4.8, 5.4, 5.6, 5.1, 5.1, 5.9, 5.7, 5.2, 5.0, 5.2, 5.4, 5.1], \"y0\": \" \", \"yaxis\": \"y3\"}, {\"alignmentgroup\": \"True\", \"hovertemplate\": \"variable=petal_width<br>value=%{y}<extra></extra>\", \"legendgroup\": \"petal_width\", \"marker\": {\"color\": \"#ab63fa\"}, \"name\": \"petal_width\", \"notched\": false, \"offsetgroup\": \"petal_width\", \"orientation\": \"v\", \"showlegend\": true, \"type\": \"box\", \"x0\": \" \", \"xaxis\": \"x4\", \"y\": [0.2, 0.2, 0.2, 0.2, 0.2, 0.4, 0.3, 0.2, 0.2, 0.1, 0.2, 0.2, 0.1, 0.1, 0.2, 0.4, 0.4, 0.3, 0.3, 0.3, 0.2, 0.4, 0.2, 0.5, 0.2, 0.2, 0.4, 0.2, 0.2, 0.2, 0.2, 0.4, 0.1, 0.2, 0.1, 0.2, 0.2, 0.1, 0.2, 0.2, 0.3, 0.3, 0.2, 0.6, 0.4, 0.3, 0.2, 0.2, 0.2, 0.2, 1.4, 1.5, 1.5, 1.3, 1.5, 1.3, 1.6, 1.0, 1.3, 1.4, 1.0, 1.5, 1.0, 1.4, 1.3, 1.4, 1.5, 1.0, 1.5, 1.1, 1.8, 1.3, 1.5, 1.2, 1.3, 1.4, 1.4, 1.7, 1.5, 1.0, 1.1, 1.0, 1.2, 1.6, 1.5, 1.6, 1.5, 1.3, 1.3, 1.3, 1.2, 1.4, 1.2, 1.0, 1.3, 1.2, 1.3, 1.3, 1.1, 1.3, 2.5, 1.9, 2.1, 1.8, 2.2, 2.1, 1.7, 1.8, 1.8, 2.5, 2.0, 1.9, 2.1, 2.0, 2.4, 2.3, 1.8, 2.2, 2.3, 1.5, 2.3, 2.0, 2.0, 1.8, 2.1, 1.8, 1.8, 1.8, 2.1, 1.6, 1.9, 2.0, 2.2, 1.5, 1.4, 2.3, 2.4, 1.8, 1.8, 2.1, 2.4, 2.3, 1.9, 2.3, 2.5, 2.3, 1.9, 2.0, 2.3, 1.8], \"y0\": \" \", \"yaxis\": \"y4\"}],                        {\"annotations\": [{\"font\": {}, \"showarrow\": false, \"text\": \"variable=sepal_length\", \"x\": 0.1175, \"xanchor\": \"center\", \"xref\": \"paper\", \"y\": 1.0, \"yanchor\": \"bottom\", \"yref\": \"paper\"}, {\"font\": {}, \"showarrow\": false, \"text\": \"variable=sepal_width\", \"x\": 0.3725, \"xanchor\": \"center\", \"xref\": \"paper\", \"y\": 1.0, \"yanchor\": \"bottom\", \"yref\": \"paper\"}, {\"font\": {}, \"showarrow\": false, \"text\": \"variable=petal_length\", \"x\": 0.6275, \"xanchor\": \"center\", \"xref\": \"paper\", \"y\": 1.0, \"yanchor\": \"bottom\", \"yref\": \"paper\"}, {\"font\": {}, \"showarrow\": false, \"text\": \"variable=petal_width\", \"x\": 0.8824999999999998, \"xanchor\": \"center\", \"xref\": \"paper\", \"y\": 1.0, \"yanchor\": \"bottom\", \"yref\": \"paper\"}], \"boxmode\": \"overlay\", \"height\": 500, \"legend\": {\"title\": {\"text\": \"variable\"}, \"tracegroupgap\": 0}, \"margin\": {\"t\": 60}, \"showlegend\": false, \"template\": {\"data\": {\"bar\": [{\"error_x\": {\"color\": \"#2a3f5f\"}, \"error_y\": {\"color\": \"#2a3f5f\"}, \"marker\": {\"line\": {\"color\": \"#E5ECF6\", \"width\": 0.5}}, \"type\": \"bar\"}], \"barpolar\": [{\"marker\": {\"line\": {\"color\": \"#E5ECF6\", \"width\": 0.5}}, \"type\": \"barpolar\"}], \"carpet\": [{\"aaxis\": {\"endlinecolor\": \"#2a3f5f\", \"gridcolor\": \"white\", \"linecolor\": \"white\", \"minorgridcolor\": \"white\", \"startlinecolor\": \"#2a3f5f\"}, \"baxis\": {\"endlinecolor\": \"#2a3f5f\", \"gridcolor\": \"white\", \"linecolor\": \"white\", \"minorgridcolor\": \"white\", \"startlinecolor\": \"#2a3f5f\"}, \"type\": \"carpet\"}], \"choropleth\": [{\"colorbar\": {\"outlinewidth\": 0, \"ticks\": \"\"}, \"type\": \"choropleth\"}], \"contour\": [{\"colorbar\": {\"outlinewidth\": 0, \"ticks\": \"\"}, \"colorscale\": [[0.0, \"#0d0887\"], [0.1111111111111111, \"#46039f\"], [0.2222222222222222, \"#7201a8\"], [0.3333333333333333, \"#9c179e\"], [0.4444444444444444, \"#bd3786\"], [0.5555555555555556, \"#d8576b\"], [0.6666666666666666, \"#ed7953\"], [0.7777777777777778, \"#fb9f3a\"], [0.8888888888888888, \"#fdca26\"], [1.0, \"#f0f921\"]], \"type\": \"contour\"}], \"contourcarpet\": [{\"colorbar\": {\"outlinewidth\": 0, \"ticks\": \"\"}, \"type\": \"contourcarpet\"}], \"heatmap\": [{\"colorbar\": {\"outlinewidth\": 0, \"ticks\": \"\"}, \"colorscale\": [[0.0, \"#0d0887\"], [0.1111111111111111, \"#46039f\"], [0.2222222222222222, \"#7201a8\"], [0.3333333333333333, \"#9c179e\"], [0.4444444444444444, \"#bd3786\"], [0.5555555555555556, \"#d8576b\"], [0.6666666666666666, \"#ed7953\"], [0.7777777777777778, \"#fb9f3a\"], [0.8888888888888888, \"#fdca26\"], [1.0, \"#f0f921\"]], \"type\": \"heatmap\"}], \"heatmapgl\": [{\"colorbar\": {\"outlinewidth\": 0, \"ticks\": \"\"}, \"colorscale\": [[0.0, \"#0d0887\"], [0.1111111111111111, \"#46039f\"], [0.2222222222222222, \"#7201a8\"], [0.3333333333333333, \"#9c179e\"], [0.4444444444444444, \"#bd3786\"], [0.5555555555555556, \"#d8576b\"], [0.6666666666666666, \"#ed7953\"], [0.7777777777777778, \"#fb9f3a\"], [0.8888888888888888, \"#fdca26\"], [1.0, \"#f0f921\"]], \"type\": \"heatmapgl\"}], \"histogram\": [{\"marker\": {\"colorbar\": {\"outlinewidth\": 0, \"ticks\": \"\"}}, \"type\": \"histogram\"}], \"histogram2d\": [{\"colorbar\": {\"outlinewidth\": 0, \"ticks\": \"\"}, \"colorscale\": [[0.0, \"#0d0887\"], [0.1111111111111111, \"#46039f\"], [0.2222222222222222, \"#7201a8\"], [0.3333333333333333, \"#9c179e\"], [0.4444444444444444, \"#bd3786\"], [0.5555555555555556, \"#d8576b\"], [0.6666666666666666, \"#ed7953\"], [0.7777777777777778, \"#fb9f3a\"], [0.8888888888888888, \"#fdca26\"], [1.0, \"#f0f921\"]], \"type\": \"histogram2d\"}], \"histogram2dcontour\": [{\"colorbar\": {\"outlinewidth\": 0, \"ticks\": \"\"}, \"colorscale\": [[0.0, \"#0d0887\"], [0.1111111111111111, \"#46039f\"], [0.2222222222222222, \"#7201a8\"], [0.3333333333333333, \"#9c179e\"], [0.4444444444444444, \"#bd3786\"], [0.5555555555555556, \"#d8576b\"], [0.6666666666666666, \"#ed7953\"], [0.7777777777777778, \"#fb9f3a\"], [0.8888888888888888, \"#fdca26\"], [1.0, \"#f0f921\"]], \"type\": \"histogram2dcontour\"}], \"mesh3d\": [{\"colorbar\": {\"outlinewidth\": 0, \"ticks\": \"\"}, \"type\": \"mesh3d\"}], \"parcoords\": [{\"line\": {\"colorbar\": {\"outlinewidth\": 0, \"ticks\": \"\"}}, \"type\": \"parcoords\"}], \"pie\": [{\"automargin\": true, \"type\": \"pie\"}], \"scatter\": [{\"marker\": {\"colorbar\": {\"outlinewidth\": 0, \"ticks\": \"\"}}, \"type\": \"scatter\"}], \"scatter3d\": [{\"line\": {\"colorbar\": {\"outlinewidth\": 0, \"ticks\": \"\"}}, \"marker\": {\"colorbar\": {\"outlinewidth\": 0, \"ticks\": \"\"}}, \"type\": \"scatter3d\"}], \"scattercarpet\": [{\"marker\": {\"colorbar\": {\"outlinewidth\": 0, \"ticks\": \"\"}}, \"type\": \"scattercarpet\"}], \"scattergeo\": [{\"marker\": {\"colorbar\": {\"outlinewidth\": 0, \"ticks\": \"\"}}, \"type\": \"scattergeo\"}], \"scattergl\": [{\"marker\": {\"colorbar\": {\"outlinewidth\": 0, \"ticks\": \"\"}}, \"type\": \"scattergl\"}], \"scattermapbox\": [{\"marker\": {\"colorbar\": {\"outlinewidth\": 0, \"ticks\": \"\"}}, \"type\": \"scattermapbox\"}], \"scatterpolar\": [{\"marker\": {\"colorbar\": {\"outlinewidth\": 0, \"ticks\": \"\"}}, \"type\": \"scatterpolar\"}], \"scatterpolargl\": [{\"marker\": {\"colorbar\": {\"outlinewidth\": 0, \"ticks\": \"\"}}, \"type\": \"scatterpolargl\"}], \"scatterternary\": [{\"marker\": {\"colorbar\": {\"outlinewidth\": 0, \"ticks\": \"\"}}, \"type\": \"scatterternary\"}], \"surface\": [{\"colorbar\": {\"outlinewidth\": 0, \"ticks\": \"\"}, \"colorscale\": [[0.0, \"#0d0887\"], [0.1111111111111111, \"#46039f\"], [0.2222222222222222, \"#7201a8\"], [0.3333333333333333, \"#9c179e\"], [0.4444444444444444, \"#bd3786\"], [0.5555555555555556, \"#d8576b\"], [0.6666666666666666, \"#ed7953\"], [0.7777777777777778, \"#fb9f3a\"], [0.8888888888888888, \"#fdca26\"], [1.0, \"#f0f921\"]], \"type\": \"surface\"}], \"table\": [{\"cells\": {\"fill\": {\"color\": \"#EBF0F8\"}, \"line\": {\"color\": \"white\"}}, \"header\": {\"fill\": {\"color\": \"#C8D4E3\"}, \"line\": {\"color\": \"white\"}}, \"type\": \"table\"}]}, \"layout\": {\"annotationdefaults\": {\"arrowcolor\": \"#2a3f5f\", \"arrowhead\": 0, \"arrowwidth\": 1}, \"autotypenumbers\": \"strict\", \"coloraxis\": {\"colorbar\": {\"outlinewidth\": 0, \"ticks\": \"\"}}, \"colorscale\": {\"diverging\": [[0, \"#8e0152\"], [0.1, \"#c51b7d\"], [0.2, \"#de77ae\"], [0.3, \"#f1b6da\"], [0.4, \"#fde0ef\"], [0.5, \"#f7f7f7\"], [0.6, \"#e6f5d0\"], [0.7, \"#b8e186\"], [0.8, \"#7fbc41\"], [0.9, \"#4d9221\"], [1, \"#276419\"]], \"sequential\": [[0.0, \"#0d0887\"], [0.1111111111111111, \"#46039f\"], [0.2222222222222222, \"#7201a8\"], [0.3333333333333333, \"#9c179e\"], [0.4444444444444444, \"#bd3786\"], [0.5555555555555556, \"#d8576b\"], [0.6666666666666666, \"#ed7953\"], [0.7777777777777778, \"#fb9f3a\"], [0.8888888888888888, \"#fdca26\"], [1.0, \"#f0f921\"]], \"sequentialminus\": [[0.0, \"#0d0887\"], [0.1111111111111111, \"#46039f\"], [0.2222222222222222, \"#7201a8\"], [0.3333333333333333, \"#9c179e\"], [0.4444444444444444, \"#bd3786\"], [0.5555555555555556, \"#d8576b\"], [0.6666666666666666, \"#ed7953\"], [0.7777777777777778, \"#fb9f3a\"], [0.8888888888888888, \"#fdca26\"], [1.0, \"#f0f921\"]]}, \"colorway\": [\"#636efa\", \"#EF553B\", \"#00cc96\", \"#ab63fa\", \"#FFA15A\", \"#19d3f3\", \"#FF6692\", \"#B6E880\", \"#FF97FF\", \"#FECB52\"], \"font\": {\"color\": \"#2a3f5f\"}, \"geo\": {\"bgcolor\": \"white\", \"lakecolor\": \"white\", \"landcolor\": \"#E5ECF6\", \"showlakes\": true, \"showland\": true, \"subunitcolor\": \"white\"}, \"hoverlabel\": {\"align\": \"left\"}, \"hovermode\": \"closest\", \"mapbox\": {\"style\": \"light\"}, \"paper_bgcolor\": \"white\", \"plot_bgcolor\": \"#E5ECF6\", \"polar\": {\"angularaxis\": {\"gridcolor\": \"white\", \"linecolor\": \"white\", \"ticks\": \"\"}, \"bgcolor\": \"#E5ECF6\", \"radialaxis\": {\"gridcolor\": \"white\", \"linecolor\": \"white\", \"ticks\": \"\"}}, \"scene\": {\"xaxis\": {\"backgroundcolor\": \"#E5ECF6\", \"gridcolor\": \"white\", \"gridwidth\": 2, \"linecolor\": \"white\", \"showbackground\": true, \"ticks\": \"\", \"zerolinecolor\": \"white\"}, \"yaxis\": {\"backgroundcolor\": \"#E5ECF6\", \"gridcolor\": \"white\", \"gridwidth\": 2, \"linecolor\": \"white\", \"showbackground\": true, \"ticks\": \"\", \"zerolinecolor\": \"white\"}, \"zaxis\": {\"backgroundcolor\": \"#E5ECF6\", \"gridcolor\": \"white\", \"gridwidth\": 2, \"linecolor\": \"white\", \"showbackground\": true, \"ticks\": \"\", \"zerolinecolor\": \"white\"}}, \"shapedefaults\": {\"line\": {\"color\": \"#2a3f5f\"}}, \"ternary\": {\"aaxis\": {\"gridcolor\": \"white\", \"linecolor\": \"white\", \"ticks\": \"\"}, \"baxis\": {\"gridcolor\": \"white\", \"linecolor\": \"white\", \"ticks\": \"\"}, \"bgcolor\": \"#E5ECF6\", \"caxis\": {\"gridcolor\": \"white\", \"linecolor\": \"white\", \"ticks\": \"\"}}, \"title\": {\"x\": 0.05}, \"xaxis\": {\"automargin\": true, \"gridcolor\": \"white\", \"linecolor\": \"white\", \"ticks\": \"\", \"title\": {\"standoff\": 15}, \"zerolinecolor\": \"white\", \"zerolinewidth\": 2}, \"yaxis\": {\"automargin\": true, \"gridcolor\": \"white\", \"linecolor\": \"white\", \"ticks\": \"\", \"title\": {\"standoff\": 15}, \"zerolinecolor\": \"white\", \"zerolinewidth\": 2}}}, \"width\": 700, \"xaxis\": {\"anchor\": \"y\", \"domain\": [0.0, 0.235], \"linecolor\": \"grey\", \"linewidth\": 2, \"showline\": true}, \"xaxis2\": {\"anchor\": \"y2\", \"domain\": [0.255, 0.49], \"linecolor\": \"grey\", \"linewidth\": 2, \"matches\": \"x\", \"showline\": true}, \"xaxis3\": {\"anchor\": \"y3\", \"domain\": [0.51, 0.745], \"linecolor\": \"grey\", \"linewidth\": 2, \"matches\": \"x\", \"showline\": true}, \"xaxis4\": {\"anchor\": \"y4\", \"domain\": [0.7649999999999999, 0.9999999999999999], \"linecolor\": \"grey\", \"linewidth\": 2, \"matches\": \"x\", \"showline\": true}, \"yaxis\": {\"anchor\": \"x\", \"domain\": [0.0, 1.0], \"linecolor\": \"grey\", \"linewidth\": 2, \"showline\": true, \"showticklabels\": true, \"title\": {\"text\": \"value\"}}, \"yaxis2\": {\"anchor\": \"x2\", \"domain\": [0.0, 1.0], \"linecolor\": \"grey\", \"linewidth\": 2, \"showline\": true, \"showticklabels\": true}, \"yaxis3\": {\"anchor\": \"x3\", \"domain\": [0.0, 1.0], \"linecolor\": \"grey\", \"linewidth\": 2, \"showline\": true, \"showticklabels\": true}, \"yaxis4\": {\"anchor\": \"x4\", \"domain\": [0.0, 1.0], \"linecolor\": \"grey\", \"linewidth\": 2, \"showline\": true, \"showticklabels\": true}},                        {\"responsive\": true}                    ).then(function(){\n",
       "                            \n",
       "var gd = document.getElementById('abf09409-f4e0-4175-bcce-a322e631004f');\n",
       "var x = new MutationObserver(function (mutations, observer) {{\n",
       "        var display = window.getComputedStyle(gd).display;\n",
       "        if (!display || display === 'none') {{\n",
       "            console.log([gd, 'removed!']);\n",
       "            Plotly.purge(gd);\n",
       "            observer.disconnect();\n",
       "        }}\n",
       "}});\n",
       "\n",
       "// Listen for the removal of the full notebook cells\n",
       "var notebookContainer = gd.closest('#notebook-container');\n",
       "if (notebookContainer) {{\n",
       "    x.observe(notebookContainer, {childList: true});\n",
       "}}\n",
       "\n",
       "// Listen for the clearing of the current output cell\n",
       "var outputEl = gd.closest('.output');\n",
       "if (outputEl) {{\n",
       "    x.observe(outputEl, {childList: true});\n",
       "}}\n",
       "\n",
       "                        })                };                });            </script>        </div>"
      ]
     },
     "metadata": {},
     "output_type": "display_data"
    },
    {
     "name": "stdout",
     "output_type": "stream",
     "text": [
      "Executing ... Frequency Analysis for Categoical Attributes\n"
     ]
    },
    {
     "name": "stderr",
     "output_type": "stream",
     "text": [
      "/home/felix/anaconda3/lib/python3.7/site-packages/seaborn/_decorators.py:43: FutureWarning:\n",
      "\n",
      "Pass the following variable as a keyword arg: x. From version 0.12, the only valid positional argument will be `data`, and passing other arguments without an explicit keyword will result in an error or misinterpretation.\n",
      "\n",
      "/home/felix/anaconda3/lib/python3.7/site-packages/seaborn/_decorators.py:43: FutureWarning:\n",
      "\n",
      "Pass the following variable as a keyword arg: x. From version 0.12, the only valid positional argument will be `data`, and passing other arguments without an explicit keyword will result in an error or misinterpretation.\n",
      "\n",
      "/home/felix/anaconda3/lib/python3.7/site-packages/seaborn/_decorators.py:43: FutureWarning:\n",
      "\n",
      "Pass the following variable as a keyword arg: x. From version 0.12, the only valid positional argument will be `data`, and passing other arguments without an explicit keyword will result in an error or misinterpretation.\n",
      "\n",
      "/home/felix/anaconda3/lib/python3.7/site-packages/seaborn/_decorators.py:43: FutureWarning:\n",
      "\n",
      "Pass the following variable as a keyword arg: x. From version 0.12, the only valid positional argument will be `data`, and passing other arguments without an explicit keyword will result in an error or misinterpretation.\n",
      "\n",
      "/home/felix/anaconda3/lib/python3.7/site-packages/seaborn/_decorators.py:43: FutureWarning:\n",
      "\n",
      "Pass the following variable as a keyword arg: x. From version 0.12, the only valid positional argument will be `data`, and passing other arguments without an explicit keyword will result in an error or misinterpretation.\n",
      "\n"
     ]
    },
    {
     "data": {
      "image/png": "[encoded data removed]",
      "text/plain": [
       "<Figure size 1080x216 with 4 Axes>"
      ]
     },
     "metadata": {},
     "output_type": "display_data"
    },
    {
     "data": {
      "image/png": "[encoded data removed]",
      "text/plain": [
       "<Figure size 1440x720 with 5 Axes>"
      ]
     },
     "metadata": {},
     "output_type": "display_data"
    }
   ],
   "source": [
    "univariate_analysis(iris_df,'species')"
   ]
  },
  {
   "cell_type": "code",
   "execution_count": 38,
   "metadata": {
    "colab": {
     "base_uri": "https://localhost:8080/",
     "height": 1000
    },
    "id": "wCwRh2YJsKaw",
    "outputId": "3f56fad6-8a45-489a-a364-6620f2a45091"
   },
   "outputs": [
    {
     "name": "stderr",
     "output_type": "stream",
     "text": [
      "/home/felix/anaconda3/lib/python3.7/site-packages/ipykernel_launcher.py:3: FutureWarning:\n",
      "\n",
      "this method is deprecated in favour of `Styler.format(precision=..)`\n",
      "\n"
     ]
    },
    {
     "data": {
      "image/png": "[encoded data removed]",
      "text/plain": [
       "<Figure size 1080x2880 with 20 Axes>"
      ]
     },
     "metadata": {},
     "output_type": "display_data"
    }
   ],
   "source": [
    "bivariate_analysis(iris_df,\"species\")"
   ]
  },
  {
   "cell_type": "code",
   "execution_count": 39,
   "metadata": {
    "colab": {
     "base_uri": "https://localhost:8080/",
     "height": 647
    },
    "id": "IXCHRPgusrJZ",
    "outputId": "df99bf57-6bf1-495b-e9e8-87e85b3fb3ea"
   },
   "outputs": [
    {
     "name": "stdout",
     "output_type": "stream",
     "text": [
      "Se considera necesario Normalizar\n"
     ]
    },
    {
     "data": {
      "text/plain": [
       "'No'"
      ]
     },
     "execution_count": 39,
     "metadata": {},
     "output_type": "execute_result"
    },
    {
     "data": {
      "image/png": "[encoded data removed]",
      "text/plain": [
       "<Figure size 1728x1152 with 1 Axes>"
      ]
     },
     "metadata": {},
     "output_type": "display_data"
    }
   ],
   "source": [
    "multivariate_analysis(iris_df,num_cols)"
   ]
  },
  {
   "cell_type": "code",
   "execution_count": 40,
   "metadata": {
    "colab": {
     "base_uri": "https://localhost:8080/",
     "height": 559
    },
    "id": "W9-VJjJqtkIX",
    "outputId": "42a3abfc-9a3f-4a7f-e85a-9c2dfa1dc49e"
   },
   "outputs": [
    {
     "name": "stdout",
     "output_type": "stream",
     "text": [
      "el primer componente principal explica el ratio de varianza en: 92.0% y el segundo : 5.3%\n"
     ]
    },
    {
     "data": {
      "application/vnd.plotly.v1+json": {
       "config": {
        "plotlyServerURL": "https://plot.ly"
       },
       "data": [
        {
         "hovertemplate": "color=setosa<br>0=%{x}<br>1=%{y}<extra></extra>",
         "legendgroup": "setosa",
         "marker": {
          "color": "#636efa",
          "symbol": "circle"
         },
         "mode": "markers",
         "name": "setosa",
         "orientation": "v",
         "showlegend": true,
         "type": "scatter",
         "x": [
          -2.6842071251039483,
          -2.71539061563413,
          -2.889819539617916,
          -2.746437197308734,
          -2.7285929818313144,
          -2.279897361009598,
          -2.8208906821806297,
          -2.6264819933238184,
          -2.887958565335634,
          -2.6738446867191206,
          -2.5065267893389036,
          -2.613142718271056,
          -2.787433975997097,
          -3.22520044627498,
          -2.643543216941146,
          -2.3838693237993756,
          -2.6225262031258083,
          -2.6483227324791265,
          -2.1990779614307634,
          -2.587346188917738,
          -2.3105317013131335,
          -2.5432349073036953,
          -3.215857694900105,
          -2.3031285376638824,
          -2.3561710866838976,
          -2.5079172268378804,
          -2.4690559975451225,
          -2.5623909468367505,
          -2.6398212683765814,
          -2.632847908030758,
          -2.588462051303391,
          -2.4100773371215958,
          -2.647636673396901,
          -2.5971594770759183,
          -2.6738446867191206,
          -2.866999846932534,
          -2.625228464680421,
          -2.6738446867191206,
          -2.981842664853908,
          -2.590323025585674,
          -2.770138910746324,
          -2.8522110815663906,
          -2.9982964428323506,
          -2.4055141012847012,
          -2.2088329541767058,
          -2.715665190747454,
          -2.537573371013507,
          -2.8403212968270086,
          -2.5426857570770482,
          -2.70391231486365
         ],
         "xaxis": "x",
         "y": [
          0.3266073147643885,
          -0.16955684755602624,
          -0.13734560960502795,
          -0.31112431575199184,
          0.33392456356845474,
          0.7477827132251336,
          -0.082104511024681,
          0.17040534896028983,
          -0.5707980263315918,
          -0.10669170375273856,
          0.651935013672572,
          0.021520631960257896,
          -0.22774018887110628,
          -0.5032799094854259,
          1.1861948994134495,
          1.3447543445598622,
          0.8180896745965952,
          0.3191366677508846,
          0.8792440880917367,
          0.520473638805968,
          0.397867821588892,
          0.44003175465981526,
          0.14161557162558355,
          0.10552267842998224,
          -0.03120958906833842,
          -0.139056339913174,
          0.1378873145904177,
          0.3746845627501061,
          0.3192900659603219,
          -0.19007583063362415,
          -0.19739307943769085,
          0.41808000824761615,
          0.8199826325595069,
          1.1000219280072685,
          -0.10669170375273856,
          0.07719309572358721,
          0.6068000084215864,
          -0.10669170375273856,
          -0.4802500488560767,
          0.23605933728887282,
          0.2710594197651671,
          -0.9328653674695444,
          -0.3343075745907773,
          0.19591725769606078,
          0.4426960304210028,
          -0.24268148289811298,
          0.5103675454766059,
          -0.2205763382764767,
          0.5862810253439884,
          0.11501085217050566
         ],
         "yaxis": "y"
        },
        {
         "hovertemplate": "color=versicolor<br>0=%{x}<br>1=%{y}<extra></extra>",
         "legendgroup": "versicolor",
         "marker": {
          "color": "#EF553B",
          "symbol": "circle"
         },
         "mode": "markers",
         "name": "versicolor",
         "orientation": "v",
         "showlegend": true,
         "type": "scatter",
         "x": [
          1.284794587845071,
          0.9324107529829175,
          1.4640613227790753,
          0.1809672063476993,
          1.0871344872070012,
          0.6404367495231457,
          1.095223709938478,
          -0.7514671406482263,
          1.0432977807062809,
          -0.010190070727852822,
          -0.5110861958950897,
          0.5110980606834775,
          0.2623357561531805,
          0.984044545169431,
          -0.1748640019656959,
          0.9275729420326997,
          0.6595927890562004,
          0.23454058625983584,
          0.9423617073988423,
          0.04324640032870497,
          1.1162407237538159,
          0.3567865678304614,
          1.2964688502855342,
          0.9205026489090096,
          0.7140082136428333,
          0.8996408632837759,
          1.33104141885472,
          1.557396272070702,
          0.812455548998002,
          -0.30733475566340396,
          -0.07034288894927106,
          -0.19188449210314515,
          0.13499495045137355,
          1.378736982775583,
          0.5872748535799112,
          0.8072054966767166,
          1.2204289662446792,
          0.81286779036907,
          0.2451951616903462,
          0.16451342836925617,
          0.4630309888714247,
          0.8901604456511564,
          0.2288790499696479,
          -0.7070812839208597,
          0.35553303918706386,
          0.33112694733272313,
          0.375238228946766,
          0.6416902781665432,
          -0.9084633331234948,
          0.2978079074069342
         ],
         "xaxis": "x",
         "y": [
          0.6854391861329202,
          0.3191980898336488,
          0.5041898329724531,
          -0.8256039435761133,
          0.0753903892887675,
          -0.41732348297002575,
          0.28389121093848035,
          -1.0011075129743943,
          0.22895690877700686,
          -0.7205748667019015,
          -1.2624919538621404,
          -0.1022841050459702,
          -0.5478932980253367,
          -0.12436042022227789,
          -0.25181557108017066,
          0.46823620504311714,
          -0.3519762910603165,
          -0.33192182936212034,
          -0.541822258150014,
          -0.5814894466123587,
          -0.08421401387837349,
          -0.06682382794136613,
          -0.3275615197949442,
          -0.18239036332792097,
          0.15037915314843728,
          0.32961097958188407,
          0.24466952060228936,
          0.26739258481276484,
          -0.16233157487863326,
          -0.36508661276616033,
          -0.7025379317307259,
          -0.6774905443743572,
          -0.3117096427033962,
          -0.4212051382146283,
          -0.4832842677174825,
          0.19505396377111148,
          0.4080353370010176,
          -0.37067899831890966,
          -0.266728035661848,
          -0.6796614693108137,
          -0.6695265465361225,
          -0.03381244274676266,
          -0.4022576201789113,
          -1.0084247617784612,
          -0.5032184874026623,
          -0.21118014066262672,
          -0.2916220248087798,
          0.019071176491270835,
          -0.7515687251694855,
          -0.34701652159856394
         ],
         "yaxis": "y"
        },
        {
         "hovertemplate": "color=virginica<br>0=%{x}<br>1=%{y}<extra></extra>",
         "legendgroup": "virginica",
         "marker": {
          "color": "#00cc96",
          "symbol": "circle"
         },
         "mode": "markers",
         "name": "virginica",
         "orientation": "v",
         "showlegend": true,
         "type": "scatter",
         "x": [
          2.5317269804395583,
          1.4140722251737576,
          2.6164846082840434,
          1.970814945906482,
          2.349757983950943,
          3.3968799206781375,
          0.5193832450849368,
          2.932005096991301,
          2.319672793874053,
          2.9181342336442513,
          1.6619349470194866,
          1.8023404526607334,
          2.165378862953397,
          1.3445942175098249,
          1.585267299308644,
          1.9047435782139124,
          1.949248781864498,
          3.488765379656386,
          3.79468686120997,
          1.2983298245678165,
          2.4281672590208476,
          1.1980973722749628,
          3.4992654842989572,
          1.3876682501815556,
          2.2758536493056933,
          2.6141938306983334,
          1.2576251829251366,
          1.2906696477376016,
          2.1228539805083133,
          2.3875644023690277,
          2.840960925285384,
          3.232342898295874,
          2.158738373133135,
          1.4431026043759747,
          1.7796401068985703,
          3.076521621020662,
          2.144986856709304,
          1.9048629251371318,
          1.1688534694704038,
          2.107653731173268,
          2.314303394629548,
          1.9224508848357522,
          1.4140722251737576,
          2.563322712340809,
          2.41939121980498,
          1.9440170488777369,
          1.5256636313138727,
          1.764045935526983,
          1.901629075288233,
          1.3896661333194171
         ],
         "xaxis": "x",
         "y": [
          -0.011842236640300523,
          -0.5749250559123048,
          0.3419352869872948,
          -0.18112569470491371,
          -0.04188254965484184,
          0.5471680462301528,
          -1.1913516890506533,
          0.3523770061808598,
          -0.2455481706069101,
          0.7803806293720322,
          0.2420384010375224,
          -0.21615460662653627,
          0.21528028337300723,
          -0.7764154251768252,
          -0.539307053847172,
          0.11881899098269857,
          0.040730259427767854,
          1.1715445442635644,
          0.25326557097253466,
          -0.7610139365215078,
          0.3767819712541526,
          -0.6055789617645945,
          0.4567734669640746,
          -0.20403098657015473,
          0.3333865257566422,
          0.5583669502788224,
          -0.17913699742322278,
          -0.11642525182937251,
          -0.2108548845494899,
          0.46251925072626066,
          0.37274259104902147,
          1.3705240359763338,
          -0.21832553156299322,
          -0.14380128908272616,
          -0.5014647947060157,
          0.6857644422460568,
          0.13890660887731443,
          0.048047508231834596,
          -0.16450249981508994,
          0.3714822491771058,
          0.1826088507936986,
          0.4092711761786957,
          -0.5749250559123048,
          0.27597450223983816,
          0.30350393770262885,
          0.18741522204601396,
          -0.3750208481918228,
          0.07851918642935747,
          0.11587674824796555,
          -0.28288670917226916
         ],
         "yaxis": "y"
        }
       ],
       "layout": {
        "legend": {
         "title": {
          "text": "color"
         },
         "tracegroupgap": 0
        },
        "margin": {
         "t": 60
        },
        "template": {
         "data": {
          "bar": [
           {
            "error_x": {
             "color": "#2a3f5f"
            },
            "error_y": {
             "color": "#2a3f5f"
            },
            "marker": {
             "line": {
              "color": "#E5ECF6",
              "width": 0.5
             }
            },
            "type": "bar"
           }
          ],
          "barpolar": [
           {
            "marker": {
             "line": {
              "color": "#E5ECF6",
              "width": 0.5
             }
            },
            "type": "barpolar"
           }
          ],
          "carpet": [
           {
            "aaxis": {
             "endlinecolor": "#2a3f5f",
             "gridcolor": "white",
             "linecolor": "white",
             "minorgridcolor": "white",
             "startlinecolor": "#2a3f5f"
            },
            "baxis": {
             "endlinecolor": "#2a3f5f",
             "gridcolor": "white",
             "linecolor": "white",
             "minorgridcolor": "white",
             "startlinecolor": "#2a3f5f"
            },
            "type": "carpet"
           }
          ],
          "choropleth": [
           {
            "colorbar": {
             "outlinewidth": 0,
             "ticks": ""
            },
            "type": "choropleth"
           }
          ],
          "contour": [
           {
            "colorbar": {
             "outlinewidth": 0,
             "ticks": ""
            },
            "colorscale": [
             [
              0,
              "#0d0887"
             ],
             [
              0.1111111111111111,
              "#46039f"
             ],
             [
              0.2222222222222222,
              "#7201a8"
             ],
             [
              0.3333333333333333,
              "#9c179e"
             ],
             [
              0.4444444444444444,
              "#bd3786"
             ],
             [
              0.5555555555555556,
              "#d8576b"
             ],
             [
              0.6666666666666666,
              "#ed7953"
             ],
             [
              0.7777777777777778,
              "#fb9f3a"
             ],
             [
              0.8888888888888888,
              "#fdca26"
             ],
             [
              1,
              "#f0f921"
             ]
            ],
            "type": "contour"
           }
          ],
          "contourcarpet": [
           {
            "colorbar": {
             "outlinewidth": 0,
             "ticks": ""
            },
            "type": "contourcarpet"
           }
          ],
          "heatmap": [
           {
            "colorbar": {
             "outlinewidth": 0,
             "ticks": ""
            },
            "colorscale": [
             [
              0,
              "#0d0887"
             ],
             [
              0.1111111111111111,
              "#46039f"
             ],
             [
              0.2222222222222222,
              "#7201a8"
             ],
             [
              0.3333333333333333,
              "#9c179e"
             ],
             [
              0.4444444444444444,
              "#bd3786"
             ],
             [
              0.5555555555555556,
              "#d8576b"
             ],
             [
              0.6666666666666666,
              "#ed7953"
             ],
             [
              0.7777777777777778,
              "#fb9f3a"
             ],
             [
              0.8888888888888888,
              "#fdca26"
             ],
             [
              1,
              "#f0f921"
             ]
            ],
            "type": "heatmap"
           }
          ],
          "heatmapgl": [
           {
            "colorbar": {
             "outlinewidth": 0,
             "ticks": ""
            },
            "colorscale": [
             [
              0,
              "#0d0887"
             ],
             [
              0.1111111111111111,
              "#46039f"
             ],
             [
              0.2222222222222222,
              "#7201a8"
             ],
             [
              0.3333333333333333,
              "#9c179e"
             ],
             [
              0.4444444444444444,
              "#bd3786"
             ],
             [
              0.5555555555555556,
              "#d8576b"
             ],
             [
              0.6666666666666666,
              "#ed7953"
             ],
             [
              0.7777777777777778,
              "#fb9f3a"
             ],
             [
              0.8888888888888888,
              "#fdca26"
             ],
             [
              1,
              "#f0f921"
             ]
            ],
            "type": "heatmapgl"
           }
          ],
          "histogram": [
           {
            "marker": {
             "colorbar": {
              "outlinewidth": 0,
              "ticks": ""
             }
            },
            "type": "histogram"
           }
          ],
          "histogram2d": [
           {
            "colorbar": {
             "outlinewidth": 0,
             "ticks": ""
            },
            "colorscale": [
             [
              0,
              "#0d0887"
             ],
             [
              0.1111111111111111,
              "#46039f"
             ],
             [
              0.2222222222222222,
              "#7201a8"
             ],
             [
              0.3333333333333333,
              "#9c179e"
             ],
             [
              0.4444444444444444,
              "#bd3786"
             ],
             [
              0.5555555555555556,
              "#d8576b"
             ],
             [
              0.6666666666666666,
              "#ed7953"
             ],
             [
              0.7777777777777778,
              "#fb9f3a"
             ],
             [
              0.8888888888888888,
              "#fdca26"
             ],
             [
              1,
              "#f0f921"
             ]
            ],
            "type": "histogram2d"
           }
          ],
          "histogram2dcontour": [
           {
            "colorbar": {
             "outlinewidth": 0,
             "ticks": ""
            },
            "colorscale": [
             [
              0,
              "#0d0887"
             ],
             [
              0.1111111111111111,
              "#46039f"
             ],
             [
              0.2222222222222222,
              "#7201a8"
             ],
             [
              0.3333333333333333,
              "#9c179e"
             ],
             [
              0.4444444444444444,
              "#bd3786"
             ],
             [
              0.5555555555555556,
              "#d8576b"
             ],
             [
              0.6666666666666666,
              "#ed7953"
             ],
             [
              0.7777777777777778,
              "#fb9f3a"
             ],
             [
              0.8888888888888888,
              "#fdca26"
             ],
             [
              1,
              "#f0f921"
             ]
            ],
            "type": "histogram2dcontour"
           }
          ],
          "mesh3d": [
           {
            "colorbar": {
             "outlinewidth": 0,
             "ticks": ""
            },
            "type": "mesh3d"
           }
          ],
          "parcoords": [
           {
            "line": {
             "colorbar": {
              "outlinewidth": 0,
              "ticks": ""
             }
            },
            "type": "parcoords"
           }
          ],
          "pie": [
           {
            "automargin": true,
            "type": "pie"
           }
          ],
          "scatter": [
           {
            "marker": {
             "colorbar": {
              "outlinewidth": 0,
              "ticks": ""
             }
            },
            "type": "scatter"
           }
          ],
          "scatter3d": [
           {
            "line": {
             "colorbar": {
              "outlinewidth": 0,
              "ticks": ""
             }
            },
            "marker": {
             "colorbar": {
              "outlinewidth": 0,
              "ticks": ""
             }
            },
            "type": "scatter3d"
           }
          ],
          "scattercarpet": [
           {
            "marker": {
             "colorbar": {
              "outlinewidth": 0,
              "ticks": ""
             }
            },
            "type": "scattercarpet"
           }
          ],
          "scattergeo": [
           {
            "marker": {
             "colorbar": {
              "outlinewidth": 0,
              "ticks": ""
             }
            },
            "type": "scattergeo"
           }
          ],
          "scattergl": [
           {
            "marker": {
             "colorbar": {
              "outlinewidth": 0,
              "ticks": ""
             }
            },
            "type": "scattergl"
           }
          ],
          "scattermapbox": [
           {
            "marker": {
             "colorbar": {
              "outlinewidth": 0,
              "ticks": ""
             }
            },
            "type": "scattermapbox"
           }
          ],
          "scatterpolar": [
           {
            "marker": {
             "colorbar": {
              "outlinewidth": 0,
              "ticks": ""
             }
            },
            "type": "scatterpolar"
           }
          ],
          "scatterpolargl": [
           {
            "marker": {
             "colorbar": {
              "outlinewidth": 0,
              "ticks": ""
             }
            },
            "type": "scatterpolargl"
           }
          ],
          "scatterternary": [
           {
            "marker": {
             "colorbar": {
              "outlinewidth": 0,
              "ticks": ""
             }
            },
            "type": "scatterternary"
           }
          ],
          "surface": [
           {
            "colorbar": {
             "outlinewidth": 0,
             "ticks": ""
            },
            "colorscale": [
             [
              0,
              "#0d0887"
             ],
             [
              0.1111111111111111,
              "#46039f"
             ],
             [
              0.2222222222222222,
              "#7201a8"
             ],
             [
              0.3333333333333333,
              "#9c179e"
             ],
             [
              0.4444444444444444,
              "#bd3786"
             ],
             [
              0.5555555555555556,
              "#d8576b"
             ],
             [
              0.6666666666666666,
              "#ed7953"
             ],
             [
              0.7777777777777778,
              "#fb9f3a"
             ],
             [
              0.8888888888888888,
              "#fdca26"
             ],
             [
              1,
              "#f0f921"
             ]
            ],
            "type": "surface"
           }
          ],
          "table": [
           {
            "cells": {
             "fill": {
              "color": "#EBF0F8"
             },
             "line": {
              "color": "white"
             }
            },
            "header": {
             "fill": {
              "color": "#C8D4E3"
             },
             "line": {
              "color": "white"
             }
            },
            "type": "table"
           }
          ]
         },
         "layout": {
          "annotationdefaults": {
           "arrowcolor": "#2a3f5f",
           "arrowhead": 0,
           "arrowwidth": 1
          },
          "autotypenumbers": "strict",
          "coloraxis": {
           "colorbar": {
            "outlinewidth": 0,
            "ticks": ""
           }
          },
          "colorscale": {
           "diverging": [
            [
             0,
             "#8e0152"
            ],
            [
             0.1,
             "#c51b7d"
            ],
            [
             0.2,
             "#de77ae"
            ],
            [
             0.3,
             "#f1b6da"
            ],
            [
             0.4,
             "#fde0ef"
            ],
            [
             0.5,
             "#f7f7f7"
            ],
            [
             0.6,
             "#e6f5d0"
            ],
            [
             0.7,
             "#b8e186"
            ],
            [
             0.8,
             "#7fbc41"
            ],
            [
             0.9,
             "#4d9221"
            ],
            [
             1,
             "#276419"
            ]
           ],
           "sequential": [
            [
             0,
             "#0d0887"
            ],
            [
             0.1111111111111111,
             "#46039f"
            ],
            [
             0.2222222222222222,
             "#7201a8"
            ],
            [
             0.3333333333333333,
             "#9c179e"
            ],
            [
             0.4444444444444444,
             "#bd3786"
            ],
            [
             0.5555555555555556,
             "#d8576b"
            ],
            [
             0.6666666666666666,
             "#ed7953"
            ],
            [
             0.7777777777777778,
             "#fb9f3a"
            ],
            [
             0.8888888888888888,
             "#fdca26"
            ],
            [
             1,
             "#f0f921"
            ]
           ],
           "sequentialminus": [
            [
             0,
             "#0d0887"
            ],
            [
             0.1111111111111111,
             "#46039f"
            ],
            [
             0.2222222222222222,
             "#7201a8"
            ],
            [
             0.3333333333333333,
             "#9c179e"
            ],
            [
             0.4444444444444444,
             "#bd3786"
            ],
            [
             0.5555555555555556,
             "#d8576b"
            ],
            [
             0.6666666666666666,
             "#ed7953"
            ],
            [
             0.7777777777777778,
             "#fb9f3a"
            ],
            [
             0.8888888888888888,
             "#fdca26"
            ],
            [
             1,
             "#f0f921"
            ]
           ]
          },
          "colorway": [
           "#636efa",
           "#EF553B",
           "#00cc96",
           "#ab63fa",
           "#FFA15A",
           "#19d3f3",
           "#FF6692",
           "#B6E880",
           "#FF97FF",
           "#FECB52"
          ],
          "font": {
           "color": "#2a3f5f"
          },
          "geo": {
           "bgcolor": "white",
           "lakecolor": "white",
           "landcolor": "#E5ECF6",
           "showlakes": true,
           "showland": true,
           "subunitcolor": "white"
          },
          "hoverlabel": {
           "align": "left"
          },
          "hovermode": "closest",
          "mapbox": {
           "style": "light"
          },
          "paper_bgcolor": "white",
          "plot_bgcolor": "#E5ECF6",
          "polar": {
           "angularaxis": {
            "gridcolor": "white",
            "linecolor": "white",
            "ticks": ""
           },
           "bgcolor": "#E5ECF6",
           "radialaxis": {
            "gridcolor": "white",
            "linecolor": "white",
            "ticks": ""
           }
          },
          "scene": {
           "xaxis": {
            "backgroundcolor": "#E5ECF6",
            "gridcolor": "white",
            "gridwidth": 2,
            "linecolor": "white",
            "showbackground": true,
            "ticks": "",
            "zerolinecolor": "white"
           },
           "yaxis": {
            "backgroundcolor": "#E5ECF6",
            "gridcolor": "white",
            "gridwidth": 2,
            "linecolor": "white",
            "showbackground": true,
            "ticks": "",
            "zerolinecolor": "white"
           },
           "zaxis": {
            "backgroundcolor": "#E5ECF6",
            "gridcolor": "white",
            "gridwidth": 2,
            "linecolor": "white",
            "showbackground": true,
            "ticks": "",
            "zerolinecolor": "white"
           }
          },
          "shapedefaults": {
           "line": {
            "color": "#2a3f5f"
           }
          },
          "ternary": {
           "aaxis": {
            "gridcolor": "white",
            "linecolor": "white",
            "ticks": ""
           },
           "baxis": {
            "gridcolor": "white",
            "linecolor": "white",
            "ticks": ""
           },
           "bgcolor": "#E5ECF6",
           "caxis": {
            "gridcolor": "white",
            "linecolor": "white",
            "ticks": ""
           }
          },
          "title": {
           "x": 0.05
          },
          "xaxis": {
           "automargin": true,
           "gridcolor": "white",
           "linecolor": "white",
           "ticks": "",
           "title": {
            "standoff": 15
           },
           "zerolinecolor": "white",
           "zerolinewidth": 2
          },
          "yaxis": {
           "automargin": true,
           "gridcolor": "white",
           "linecolor": "white",
           "ticks": "",
           "title": {
            "standoff": 15
           },
           "zerolinecolor": "white",
           "zerolinewidth": 2
          }
         }
        },
        "xaxis": {
         "anchor": "y",
         "domain": [
          0,
          1
         ],
         "title": {
          "text": "0"
         }
        },
        "yaxis": {
         "anchor": "x",
         "domain": [
          0,
          1
         ],
         "title": {
          "text": "1"
         }
        }
       }
      },
      "text/html": [
       "<div>                            <div id=\"09866ce7-579a-4736-9787-54b8425863f4\" class=\"plotly-graph-div\" style=\"height:525px; width:100%;\"></div>            <script type=\"text/javascript\">                require([\"plotly\"], function(Plotly) {                    window.PLOTLYENV=window.PLOTLYENV || {};                                    if (document.getElementById(\"09866ce7-579a-4736-9787-54b8425863f4\")) {                    Plotly.newPlot(                        \"09866ce7-579a-4736-9787-54b8425863f4\",                        [{\"hovertemplate\": \"color=setosa<br>0=%{x}<br>1=%{y}<extra></extra>\", \"legendgroup\": \"setosa\", \"marker\": {\"color\": \"#636efa\", \"symbol\": \"circle\"}, \"mode\": \"markers\", \"name\": \"setosa\", \"orientation\": \"v\", \"showlegend\": true, \"type\": \"scatter\", \"x\": [-2.6842071251039483, -2.71539061563413, -2.889819539617916, -2.746437197308734, -2.7285929818313144, -2.279897361009598, -2.8208906821806297, -2.6264819933238184, -2.887958565335634, -2.6738446867191206, -2.5065267893389036, -2.613142718271056, -2.787433975997097, -3.22520044627498, -2.643543216941146, -2.3838693237993756, -2.6225262031258083, -2.6483227324791265, -2.1990779614307634, -2.587346188917738, -2.3105317013131335, -2.5432349073036953, -3.215857694900105, -2.3031285376638824, -2.3561710866838976, -2.5079172268378804, -2.4690559975451225, -2.5623909468367505, -2.6398212683765814, -2.632847908030758, -2.588462051303391, -2.4100773371215958, -2.647636673396901, -2.5971594770759183, -2.6738446867191206, -2.866999846932534, -2.625228464680421, -2.6738446867191206, -2.981842664853908, -2.590323025585674, -2.770138910746324, -2.8522110815663906, -2.9982964428323506, -2.4055141012847012, -2.2088329541767058, -2.715665190747454, -2.537573371013507, -2.8403212968270086, -2.5426857570770482, -2.70391231486365], \"xaxis\": \"x\", \"y\": [0.3266073147643885, -0.16955684755602624, -0.13734560960502795, -0.31112431575199184, 0.33392456356845474, 0.7477827132251336, -0.082104511024681, 0.17040534896028983, -0.5707980263315918, -0.10669170375273856, 0.651935013672572, 0.021520631960257896, -0.22774018887110628, -0.5032799094854259, 1.1861948994134495, 1.3447543445598622, 0.8180896745965952, 0.3191366677508846, 0.8792440880917367, 0.520473638805968, 0.397867821588892, 0.44003175465981526, 0.14161557162558355, 0.10552267842998224, -0.03120958906833842, -0.139056339913174, 0.1378873145904177, 0.3746845627501061, 0.3192900659603219, -0.19007583063362415, -0.19739307943769085, 0.41808000824761615, 0.8199826325595069, 1.1000219280072685, -0.10669170375273856, 0.07719309572358721, 0.6068000084215864, -0.10669170375273856, -0.4802500488560767, 0.23605933728887282, 0.2710594197651671, -0.9328653674695444, -0.3343075745907773, 0.19591725769606078, 0.4426960304210028, -0.24268148289811298, 0.5103675454766059, -0.2205763382764767, 0.5862810253439884, 0.11501085217050566], \"yaxis\": \"y\"}, {\"hovertemplate\": \"color=versicolor<br>0=%{x}<br>1=%{y}<extra></extra>\", \"legendgroup\": \"versicolor\", \"marker\": {\"color\": \"#EF553B\", \"symbol\": \"circle\"}, \"mode\": \"markers\", \"name\": \"versicolor\", \"orientation\": \"v\", \"showlegend\": true, \"type\": \"scatter\", \"x\": [1.284794587845071, 0.9324107529829175, 1.4640613227790753, 0.1809672063476993, 1.0871344872070012, 0.6404367495231457, 1.095223709938478, -0.7514671406482263, 1.0432977807062809, -0.010190070727852822, -0.5110861958950897, 0.5110980606834775, 0.2623357561531805, 0.984044545169431, -0.1748640019656959, 0.9275729420326997, 0.6595927890562004, 0.23454058625983584, 0.9423617073988423, 0.04324640032870497, 1.1162407237538159, 0.3567865678304614, 1.2964688502855342, 0.9205026489090096, 0.7140082136428333, 0.8996408632837759, 1.33104141885472, 1.557396272070702, 0.812455548998002, -0.30733475566340396, -0.07034288894927106, -0.19188449210314515, 0.13499495045137355, 1.378736982775583, 0.5872748535799112, 0.8072054966767166, 1.2204289662446792, 0.81286779036907, 0.2451951616903462, 0.16451342836925617, 0.4630309888714247, 0.8901604456511564, 0.2288790499696479, -0.7070812839208597, 0.35553303918706386, 0.33112694733272313, 0.375238228946766, 0.6416902781665432, -0.9084633331234948, 0.2978079074069342], \"xaxis\": \"x\", \"y\": [0.6854391861329202, 0.3191980898336488, 0.5041898329724531, -0.8256039435761133, 0.0753903892887675, -0.41732348297002575, 0.28389121093848035, -1.0011075129743943, 0.22895690877700686, -0.7205748667019015, -1.2624919538621404, -0.1022841050459702, -0.5478932980253367, -0.12436042022227789, -0.25181557108017066, 0.46823620504311714, -0.3519762910603165, -0.33192182936212034, -0.541822258150014, -0.5814894466123587, -0.08421401387837349, -0.06682382794136613, -0.3275615197949442, -0.18239036332792097, 0.15037915314843728, 0.32961097958188407, 0.24466952060228936, 0.26739258481276484, -0.16233157487863326, -0.36508661276616033, -0.7025379317307259, -0.6774905443743572, -0.3117096427033962, -0.4212051382146283, -0.4832842677174825, 0.19505396377111148, 0.4080353370010176, -0.37067899831890966, -0.266728035661848, -0.6796614693108137, -0.6695265465361225, -0.03381244274676266, -0.4022576201789113, -1.0084247617784612, -0.5032184874026623, -0.21118014066262672, -0.2916220248087798, 0.019071176491270835, -0.7515687251694855, -0.34701652159856394], \"yaxis\": \"y\"}, {\"hovertemplate\": \"color=virginica<br>0=%{x}<br>1=%{y}<extra></extra>\", \"legendgroup\": \"virginica\", \"marker\": {\"color\": \"#00cc96\", \"symbol\": \"circle\"}, \"mode\": \"markers\", \"name\": \"virginica\", \"orientation\": \"v\", \"showlegend\": true, \"type\": \"scatter\", \"x\": [2.5317269804395583, 1.4140722251737576, 2.6164846082840434, 1.970814945906482, 2.349757983950943, 3.3968799206781375, 0.5193832450849368, 2.932005096991301, 2.319672793874053, 2.9181342336442513, 1.6619349470194866, 1.8023404526607334, 2.165378862953397, 1.3445942175098249, 1.585267299308644, 1.9047435782139124, 1.949248781864498, 3.488765379656386, 3.79468686120997, 1.2983298245678165, 2.4281672590208476, 1.1980973722749628, 3.4992654842989572, 1.3876682501815556, 2.2758536493056933, 2.6141938306983334, 1.2576251829251366, 1.2906696477376016, 2.1228539805083133, 2.3875644023690277, 2.840960925285384, 3.232342898295874, 2.158738373133135, 1.4431026043759747, 1.7796401068985703, 3.076521621020662, 2.144986856709304, 1.9048629251371318, 1.1688534694704038, 2.107653731173268, 2.314303394629548, 1.9224508848357522, 1.4140722251737576, 2.563322712340809, 2.41939121980498, 1.9440170488777369, 1.5256636313138727, 1.764045935526983, 1.901629075288233, 1.3896661333194171], \"xaxis\": \"x\", \"y\": [-0.011842236640300523, -0.5749250559123048, 0.3419352869872948, -0.18112569470491371, -0.04188254965484184, 0.5471680462301528, -1.1913516890506533, 0.3523770061808598, -0.2455481706069101, 0.7803806293720322, 0.2420384010375224, -0.21615460662653627, 0.21528028337300723, -0.7764154251768252, -0.539307053847172, 0.11881899098269857, 0.040730259427767854, 1.1715445442635644, 0.25326557097253466, -0.7610139365215078, 0.3767819712541526, -0.6055789617645945, 0.4567734669640746, -0.20403098657015473, 0.3333865257566422, 0.5583669502788224, -0.17913699742322278, -0.11642525182937251, -0.2108548845494899, 0.46251925072626066, 0.37274259104902147, 1.3705240359763338, -0.21832553156299322, -0.14380128908272616, -0.5014647947060157, 0.6857644422460568, 0.13890660887731443, 0.048047508231834596, -0.16450249981508994, 0.3714822491771058, 0.1826088507936986, 0.4092711761786957, -0.5749250559123048, 0.27597450223983816, 0.30350393770262885, 0.18741522204601396, -0.3750208481918228, 0.07851918642935747, 0.11587674824796555, -0.28288670917226916], \"yaxis\": \"y\"}],                        {\"legend\": {\"title\": {\"text\": \"color\"}, \"tracegroupgap\": 0}, \"margin\": {\"t\": 60}, \"template\": {\"data\": {\"bar\": [{\"error_x\": {\"color\": \"#2a3f5f\"}, \"error_y\": {\"color\": \"#2a3f5f\"}, \"marker\": {\"line\": {\"color\": \"#E5ECF6\", \"width\": 0.5}}, \"type\": \"bar\"}], \"barpolar\": [{\"marker\": {\"line\": {\"color\": \"#E5ECF6\", \"width\": 0.5}}, \"type\": \"barpolar\"}], \"carpet\": [{\"aaxis\": {\"endlinecolor\": \"#2a3f5f\", \"gridcolor\": \"white\", \"linecolor\": \"white\", \"minorgridcolor\": \"white\", \"startlinecolor\": \"#2a3f5f\"}, \"baxis\": {\"endlinecolor\": \"#2a3f5f\", \"gridcolor\": \"white\", \"linecolor\": \"white\", \"minorgridcolor\": \"white\", \"startlinecolor\": \"#2a3f5f\"}, \"type\": \"carpet\"}], \"choropleth\": [{\"colorbar\": {\"outlinewidth\": 0, \"ticks\": \"\"}, \"type\": \"choropleth\"}], \"contour\": [{\"colorbar\": {\"outlinewidth\": 0, \"ticks\": \"\"}, \"colorscale\": [[0.0, \"#0d0887\"], [0.1111111111111111, \"#46039f\"], [0.2222222222222222, \"#7201a8\"], [0.3333333333333333, \"#9c179e\"], [0.4444444444444444, \"#bd3786\"], [0.5555555555555556, \"#d8576b\"], [0.6666666666666666, \"#ed7953\"], [0.7777777777777778, \"#fb9f3a\"], [0.8888888888888888, \"#fdca26\"], [1.0, \"#f0f921\"]], \"type\": \"contour\"}], \"contourcarpet\": [{\"colorbar\": {\"outlinewidth\": 0, \"ticks\": \"\"}, \"type\": \"contourcarpet\"}], \"heatmap\": [{\"colorbar\": {\"outlinewidth\": 0, \"ticks\": \"\"}, \"colorscale\": [[0.0, \"#0d0887\"], [0.1111111111111111, \"#46039f\"], [0.2222222222222222, \"#7201a8\"], [0.3333333333333333, \"#9c179e\"], [0.4444444444444444, \"#bd3786\"], [0.5555555555555556, \"#d8576b\"], [0.6666666666666666, \"#ed7953\"], [0.7777777777777778, \"#fb9f3a\"], [0.8888888888888888, \"#fdca26\"], [1.0, \"#f0f921\"]], \"type\": \"heatmap\"}], \"heatmapgl\": [{\"colorbar\": {\"outlinewidth\": 0, \"ticks\": \"\"}, \"colorscale\": [[0.0, \"#0d0887\"], [0.1111111111111111, \"#46039f\"], [0.2222222222222222, \"#7201a8\"], [0.3333333333333333, \"#9c179e\"], [0.4444444444444444, \"#bd3786\"], [0.5555555555555556, \"#d8576b\"], [0.6666666666666666, \"#ed7953\"], [0.7777777777777778, \"#fb9f3a\"], [0.8888888888888888, \"#fdca26\"], [1.0, \"#f0f921\"]], \"type\": \"heatmapgl\"}], \"histogram\": [{\"marker\": {\"colorbar\": {\"outlinewidth\": 0, \"ticks\": \"\"}}, \"type\": \"histogram\"}], \"histogram2d\": [{\"colorbar\": {\"outlinewidth\": 0, \"ticks\": \"\"}, \"colorscale\": [[0.0, \"#0d0887\"], [0.1111111111111111, \"#46039f\"], [0.2222222222222222, \"#7201a8\"], [0.3333333333333333, \"#9c179e\"], [0.4444444444444444, \"#bd3786\"], [0.5555555555555556, \"#d8576b\"], [0.6666666666666666, \"#ed7953\"], [0.7777777777777778, \"#fb9f3a\"], [0.8888888888888888, \"#fdca26\"], [1.0, \"#f0f921\"]], \"type\": \"histogram2d\"}], \"histogram2dcontour\": [{\"colorbar\": {\"outlinewidth\": 0, \"ticks\": \"\"}, \"colorscale\": [[0.0, \"#0d0887\"], [0.1111111111111111, \"#46039f\"], [0.2222222222222222, \"#7201a8\"], [0.3333333333333333, \"#9c179e\"], [0.4444444444444444, \"#bd3786\"], [0.5555555555555556, \"#d8576b\"], [0.6666666666666666, \"#ed7953\"], [0.7777777777777778, \"#fb9f3a\"], [0.8888888888888888, \"#fdca26\"], [1.0, \"#f0f921\"]], \"type\": \"histogram2dcontour\"}], \"mesh3d\": [{\"colorbar\": {\"outlinewidth\": 0, \"ticks\": \"\"}, \"type\": \"mesh3d\"}], \"parcoords\": [{\"line\": {\"colorbar\": {\"outlinewidth\": 0, \"ticks\": \"\"}}, \"type\": \"parcoords\"}], \"pie\": [{\"automargin\": true, \"type\": \"pie\"}], \"scatter\": [{\"marker\": {\"colorbar\": {\"outlinewidth\": 0, \"ticks\": \"\"}}, \"type\": \"scatter\"}], \"scatter3d\": [{\"line\": {\"colorbar\": {\"outlinewidth\": 0, \"ticks\": \"\"}}, \"marker\": {\"colorbar\": {\"outlinewidth\": 0, \"ticks\": \"\"}}, \"type\": \"scatter3d\"}], \"scattercarpet\": [{\"marker\": {\"colorbar\": {\"outlinewidth\": 0, \"ticks\": \"\"}}, \"type\": \"scattercarpet\"}], \"scattergeo\": [{\"marker\": {\"colorbar\": {\"outlinewidth\": 0, \"ticks\": \"\"}}, \"type\": \"scattergeo\"}], \"scattergl\": [{\"marker\": {\"colorbar\": {\"outlinewidth\": 0, \"ticks\": \"\"}}, \"type\": \"scattergl\"}], \"scattermapbox\": [{\"marker\": {\"colorbar\": {\"outlinewidth\": 0, \"ticks\": \"\"}}, \"type\": \"scattermapbox\"}], \"scatterpolar\": [{\"marker\": {\"colorbar\": {\"outlinewidth\": 0, \"ticks\": \"\"}}, \"type\": \"scatterpolar\"}], \"scatterpolargl\": [{\"marker\": {\"colorbar\": {\"outlinewidth\": 0, \"ticks\": \"\"}}, \"type\": \"scatterpolargl\"}], \"scatterternary\": [{\"marker\": {\"colorbar\": {\"outlinewidth\": 0, \"ticks\": \"\"}}, \"type\": \"scatterternary\"}], \"surface\": [{\"colorbar\": {\"outlinewidth\": 0, \"ticks\": \"\"}, \"colorscale\": [[0.0, \"#0d0887\"], [0.1111111111111111, \"#46039f\"], [0.2222222222222222, \"#7201a8\"], [0.3333333333333333, \"#9c179e\"], [0.4444444444444444, \"#bd3786\"], [0.5555555555555556, \"#d8576b\"], [0.6666666666666666, \"#ed7953\"], [0.7777777777777778, \"#fb9f3a\"], [0.8888888888888888, \"#fdca26\"], [1.0, \"#f0f921\"]], \"type\": \"surface\"}], \"table\": [{\"cells\": {\"fill\": {\"color\": \"#EBF0F8\"}, \"line\": {\"color\": \"white\"}}, \"header\": {\"fill\": {\"color\": \"#C8D4E3\"}, \"line\": {\"color\": \"white\"}}, \"type\": \"table\"}]}, \"layout\": {\"annotationdefaults\": {\"arrowcolor\": \"#2a3f5f\", \"arrowhead\": 0, \"arrowwidth\": 1}, \"autotypenumbers\": \"strict\", \"coloraxis\": {\"colorbar\": {\"outlinewidth\": 0, \"ticks\": \"\"}}, \"colorscale\": {\"diverging\": [[0, \"#8e0152\"], [0.1, \"#c51b7d\"], [0.2, \"#de77ae\"], [0.3, \"#f1b6da\"], [0.4, \"#fde0ef\"], [0.5, \"#f7f7f7\"], [0.6, \"#e6f5d0\"], [0.7, \"#b8e186\"], [0.8, \"#7fbc41\"], [0.9, \"#4d9221\"], [1, \"#276419\"]], \"sequential\": [[0.0, \"#0d0887\"], [0.1111111111111111, \"#46039f\"], [0.2222222222222222, \"#7201a8\"], [0.3333333333333333, \"#9c179e\"], [0.4444444444444444, \"#bd3786\"], [0.5555555555555556, \"#d8576b\"], [0.6666666666666666, \"#ed7953\"], [0.7777777777777778, \"#fb9f3a\"], [0.8888888888888888, \"#fdca26\"], [1.0, \"#f0f921\"]], \"sequentialminus\": [[0.0, \"#0d0887\"], [0.1111111111111111, \"#46039f\"], [0.2222222222222222, \"#7201a8\"], [0.3333333333333333, \"#9c179e\"], [0.4444444444444444, \"#bd3786\"], [0.5555555555555556, \"#d8576b\"], [0.6666666666666666, \"#ed7953\"], [0.7777777777777778, \"#fb9f3a\"], [0.8888888888888888, \"#fdca26\"], [1.0, \"#f0f921\"]]}, \"colorway\": [\"#636efa\", \"#EF553B\", \"#00cc96\", \"#ab63fa\", \"#FFA15A\", \"#19d3f3\", \"#FF6692\", \"#B6E880\", \"#FF97FF\", \"#FECB52\"], \"font\": {\"color\": \"#2a3f5f\"}, \"geo\": {\"bgcolor\": \"white\", \"lakecolor\": \"white\", \"landcolor\": \"#E5ECF6\", \"showlakes\": true, \"showland\": true, \"subunitcolor\": \"white\"}, \"hoverlabel\": {\"align\": \"left\"}, \"hovermode\": \"closest\", \"mapbox\": {\"style\": \"light\"}, \"paper_bgcolor\": \"white\", \"plot_bgcolor\": \"#E5ECF6\", \"polar\": {\"angularaxis\": {\"gridcolor\": \"white\", \"linecolor\": \"white\", \"ticks\": \"\"}, \"bgcolor\": \"#E5ECF6\", \"radialaxis\": {\"gridcolor\": \"white\", \"linecolor\": \"white\", \"ticks\": \"\"}}, \"scene\": {\"xaxis\": {\"backgroundcolor\": \"#E5ECF6\", \"gridcolor\": \"white\", \"gridwidth\": 2, \"linecolor\": \"white\", \"showbackground\": true, \"ticks\": \"\", \"zerolinecolor\": \"white\"}, \"yaxis\": {\"backgroundcolor\": \"#E5ECF6\", \"gridcolor\": \"white\", \"gridwidth\": 2, \"linecolor\": \"white\", \"showbackground\": true, \"ticks\": \"\", \"zerolinecolor\": \"white\"}, \"zaxis\": {\"backgroundcolor\": \"#E5ECF6\", \"gridcolor\": \"white\", \"gridwidth\": 2, \"linecolor\": \"white\", \"showbackground\": true, \"ticks\": \"\", \"zerolinecolor\": \"white\"}}, \"shapedefaults\": {\"line\": {\"color\": \"#2a3f5f\"}}, \"ternary\": {\"aaxis\": {\"gridcolor\": \"white\", \"linecolor\": \"white\", \"ticks\": \"\"}, \"baxis\": {\"gridcolor\": \"white\", \"linecolor\": \"white\", \"ticks\": \"\"}, \"bgcolor\": \"#E5ECF6\", \"caxis\": {\"gridcolor\": \"white\", \"linecolor\": \"white\", \"ticks\": \"\"}}, \"title\": {\"x\": 0.05}, \"xaxis\": {\"automargin\": true, \"gridcolor\": \"white\", \"linecolor\": \"white\", \"ticks\": \"\", \"title\": {\"standoff\": 15}, \"zerolinecolor\": \"white\", \"zerolinewidth\": 2}, \"yaxis\": {\"automargin\": true, \"gridcolor\": \"white\", \"linecolor\": \"white\", \"ticks\": \"\", \"title\": {\"standoff\": 15}, \"zerolinecolor\": \"white\", \"zerolinewidth\": 2}}}, \"xaxis\": {\"anchor\": \"y\", \"domain\": [0.0, 1.0], \"title\": {\"text\": \"0\"}}, \"yaxis\": {\"anchor\": \"x\", \"domain\": [0.0, 1.0], \"title\": {\"text\": \"1\"}}},                        {\"responsive\": true}                    ).then(function(){\n",
       "                            \n",
       "var gd = document.getElementById('09866ce7-579a-4736-9787-54b8425863f4');\n",
       "var x = new MutationObserver(function (mutations, observer) {{\n",
       "        var display = window.getComputedStyle(gd).display;\n",
       "        if (!display || display === 'none') {{\n",
       "            console.log([gd, 'removed!']);\n",
       "            Plotly.purge(gd);\n",
       "            observer.disconnect();\n",
       "        }}\n",
       "}});\n",
       "\n",
       "// Listen for the removal of the full notebook cells\n",
       "var notebookContainer = gd.closest('#notebook-container');\n",
       "if (notebookContainer) {{\n",
       "    x.observe(notebookContainer, {childList: true});\n",
       "}}\n",
       "\n",
       "// Listen for the clearing of the current output cell\n",
       "var outputEl = gd.closest('.output');\n",
       "if (outputEl) {{\n",
       "    x.observe(outputEl, {childList: true});\n",
       "}}\n",
       "\n",
       "                        })                };                });            </script>        </div>"
      ]
     },
     "metadata": {},
     "output_type": "display_data"
    }
   ],
   "source": [
    "#2 Componentes\n",
    "dimensionality_reduction(2,\"species\",iris_df)"
   ]
  },
  {
   "cell_type": "code",
   "execution_count": 41,
   "metadata": {
    "colab": {
     "base_uri": "https://localhost:8080/",
     "height": 1000
    },
    "id": "zVsQWRYvQD3E",
    "outputId": "dd32a70b-ee29-4bc9-f14c-e24d19afeb98"
   },
   "outputs": [
    {
     "name": "stdout",
     "output_type": "stream",
     "text": [
      "el primer componente principal explica el ratio de varianza en: 92.0% y el segundo : 5.3% y el tercero : 1.72%\n"
     ]
    },
    {
     "data": {
      "application/vnd.plotly.v1+json": {
       "config": {
        "plotlyServerURL": "https://plot.ly"
       },
       "data": [
        {
         "hovertemplate": "color=setosa<br>PC 1=%{x}<br>PC 2=%{y}<br>PC 3=%{z}<extra></extra>",
         "legendgroup": "setosa",
         "marker": {
          "color": "#636efa",
          "symbol": "circle"
         },
         "mode": "markers",
         "name": "setosa",
         "scene": "scene",
         "showlegend": true,
         "type": "scatter3d",
         "x": [
          -2.6842071251039483,
          -2.71539061563413,
          -2.889819539617916,
          -2.746437197308734,
          -2.7285929818313144,
          -2.279897361009598,
          -2.8208906821806297,
          -2.6264819933238184,
          -2.887958565335634,
          -2.6738446867191206,
          -2.5065267893389036,
          -2.613142718271056,
          -2.787433975997097,
          -3.22520044627498,
          -2.643543216941146,
          -2.3838693237993756,
          -2.6225262031258083,
          -2.6483227324791265,
          -2.1990779614307634,
          -2.587346188917738,
          -2.3105317013131335,
          -2.5432349073036953,
          -3.215857694900105,
          -2.3031285376638824,
          -2.3561710866838976,
          -2.5079172268378804,
          -2.4690559975451225,
          -2.5623909468367505,
          -2.6398212683765814,
          -2.632847908030758,
          -2.588462051303391,
          -2.4100773371215958,
          -2.647636673396901,
          -2.5971594770759183,
          -2.6738446867191206,
          -2.866999846932534,
          -2.625228464680421,
          -2.6738446867191206,
          -2.981842664853908,
          -2.590323025585674,
          -2.770138910746324,
          -2.8522110815663906,
          -2.9982964428323506,
          -2.4055141012847012,
          -2.2088329541767058,
          -2.715665190747454,
          -2.537573371013507,
          -2.8403212968270086,
          -2.5426857570770482,
          -2.70391231486365
         ],
         "y": [
          0.3266073147643885,
          -0.16955684755602624,
          -0.13734560960502795,
          -0.31112431575199184,
          0.33392456356845474,
          0.7477827132251336,
          -0.082104511024681,
          0.17040534896028983,
          -0.5707980263315918,
          -0.10669170375273856,
          0.651935013672572,
          0.021520631960257896,
          -0.22774018887110628,
          -0.5032799094854259,
          1.1861948994134495,
          1.3447543445598622,
          0.8180896745965952,
          0.3191366677508846,
          0.8792440880917367,
          0.520473638805968,
          0.397867821588892,
          0.44003175465981526,
          0.14161557162558355,
          0.10552267842998224,
          -0.03120958906833842,
          -0.139056339913174,
          0.1378873145904177,
          0.3746845627501061,
          0.3192900659603219,
          -0.19007583063362415,
          -0.19739307943769085,
          0.41808000824761615,
          0.8199826325595069,
          1.1000219280072685,
          -0.10669170375273856,
          0.07719309572358721,
          0.6068000084215864,
          -0.10669170375273856,
          -0.4802500488560767,
          0.23605933728887282,
          0.2710594197651671,
          -0.9328653674695444,
          -0.3343075745907773,
          0.19591725769606078,
          0.4426960304210028,
          -0.24268148289811298,
          0.5103675454766059,
          -0.2205763382764767,
          0.5862810253439884,
          0.11501085217050566
         ],
         "z": [
          -0.021511837001963102,
          -0.20352142500549145,
          0.024709240998957712,
          0.03767197528530123,
          0.09622969977460939,
          0.17432561901640295,
          0.26425108519069607,
          -0.015801510264315043,
          0.02733540611450723,
          -0.19153329973564465,
          -0.06927499581393096,
          0.10765035324990473,
          -0.20032778809538926,
          0.06841362917233033,
          -0.14450570400963542,
          0.2837306639397771,
          0.14531598882161798,
          0.033394254070698105,
          -0.11452146479835279,
          0.21957208800082506,
          -0.23369560709796947,
          0.2148363702796755,
          0.2996189815108712,
          0.04568004127448713,
          0.12940757589599344,
          -0.24711633789085985,
          0.1012630794297022,
          -0.07235915743602817,
          -0.1392533737785348,
          0.04646646364504579,
          -0.071275073131526,
          -0.13838824005004097,
          0.23058560425417296,
          0.16358191262366278,
          -0.19153329973564465,
          -0.15684235049802425,
          -0.2611631564817056,
          -0.19153329973564465,
          0.07972480735962136,
          -0.07390123824707649,
          0.08424157450476331,
          -0.34096149110715174,
          0.19900842494724197,
          0.27071707036883347,
          0.30348780926827057,
          -0.09051560595006833,
          0.17191840447686085,
          0.0900613765304152,
          -0.011175267831168983,
          -0.08269572660682165
         ]
        },
        {
         "hovertemplate": "color=versicolor<br>PC 1=%{x}<br>PC 2=%{y}<br>PC 3=%{z}<extra></extra>",
         "legendgroup": "versicolor",
         "marker": {
          "color": "#EF553B",
          "symbol": "circle"
         },
         "mode": "markers",
         "name": "versicolor",
         "scene": "scene",
         "showlegend": true,
         "type": "scatter3d",
         "x": [
          1.284794587845071,
          0.9324107529829175,
          1.4640613227790753,
          0.1809672063476993,
          1.0871344872070012,
          0.6404367495231457,
          1.095223709938478,
          -0.7514671406482263,
          1.0432977807062809,
          -0.010190070727852822,
          -0.5110861958950897,
          0.5110980606834775,
          0.2623357561531805,
          0.984044545169431,
          -0.1748640019656959,
          0.9275729420326997,
          0.6595927890562004,
          0.23454058625983584,
          0.9423617073988423,
          0.04324640032870497,
          1.1162407237538159,
          0.3567865678304614,
          1.2964688502855342,
          0.9205026489090096,
          0.7140082136428333,
          0.8996408632837759,
          1.33104141885472,
          1.557396272070702,
          0.812455548998002,
          -0.30733475566340396,
          -0.07034288894927106,
          -0.19188449210314515,
          0.13499495045137355,
          1.378736982775583,
          0.5872748535799112,
          0.8072054966767166,
          1.2204289662446792,
          0.81286779036907,
          0.2451951616903462,
          0.16451342836925617,
          0.4630309888714247,
          0.8901604456511564,
          0.2288790499696479,
          -0.7070812839208597,
          0.35553303918706386,
          0.33112694733272313,
          0.375238228946766,
          0.6416902781665432,
          -0.9084633331234948,
          0.2978079074069342
         ],
         "y": [
          0.6854391861329202,
          0.3191980898336488,
          0.5041898329724531,
          -0.8256039435761133,
          0.0753903892887675,
          -0.41732348297002575,
          0.28389121093848035,
          -1.0011075129743943,
          0.22895690877700686,
          -0.7205748667019015,
          -1.2624919538621404,
          -0.1022841050459702,
          -0.5478932980253367,
          -0.12436042022227789,
          -0.25181557108017066,
          0.46823620504311714,
          -0.3519762910603165,
          -0.33192182936212034,
          -0.541822258150014,
          -0.5814894466123587,
          -0.08421401387837349,
          -0.06682382794136613,
          -0.3275615197949442,
          -0.18239036332792097,
          0.15037915314843728,
          0.32961097958188407,
          0.24466952060228936,
          0.26739258481276484,
          -0.16233157487863326,
          -0.36508661276616033,
          -0.7025379317307259,
          -0.6774905443743572,
          -0.3117096427033962,
          -0.4212051382146283,
          -0.4832842677174825,
          0.19505396377111148,
          0.4080353370010176,
          -0.37067899831890966,
          -0.266728035661848,
          -0.6796614693108137,
          -0.6695265465361225,
          -0.03381244274676266,
          -0.4022576201789113,
          -1.0084247617784612,
          -0.5032184874026623,
          -0.21118014066262672,
          -0.2916220248087798,
          0.019071176491270835,
          -0.7515687251694855,
          -0.34701652159856394
         ],
         "z": [
          -0.40612955307696313,
          -0.017129909205125235,
          -0.33826072771795895,
          -0.17708285639336488,
          -0.3065444648144318,
          0.04118876935364434,
          0.1700225337414998,
          0.015672194238160093,
          -0.414814566148704,
          0.28343724625412553,
          -0.26648995382244983,
          0.1323278904749737,
          -0.6919415783189649,
          -0.06215742761353879,
          0.09365863819195037,
          -0.31322940056857723,
          0.3283842970693479,
          -0.2702806708356937,
          -0.4973485411777046,
          -0.2329635564825228,
          0.45984422657275353,
          -0.22747218032088332,
          -0.34751321258425033,
          -0.23161141855267006,
          -0.32037233282926975,
          -0.3147714813796257,
          -0.5212449247379847,
          -0.16463849085222862,
          0.03634357634449068,
          -0.3153371969389201,
          -0.24175804484226798,
          -0.3039165434636248,
          -0.17497330378776524,
          0.015480495121708304,
          0.44458375303487097,
          0.38945871138620264,
          -0.23656608684982794,
          -0.6128710500606732,
          0.18956248472924195,
          -0.05779923880574424,
          -0.024053890889809318,
          -0.00976802636842478,
          -0.22736270503287936,
          -0.10206934253841171,
          0.01788946589650754,
          0.08380907322251578,
          0.07907335550136596,
          -0.20417287686374627,
          -0.007736584506980753,
          0.012179139158859284
         ]
        },
        {
         "hovertemplate": "color=virginica<br>PC 1=%{x}<br>PC 2=%{y}<br>PC 3=%{z}<extra></extra>",
         "legendgroup": "virginica",
         "marker": {
          "color": "#00cc96",
          "symbol": "circle"
         },
         "mode": "markers",
         "name": "virginica",
         "scene": "scene",
         "showlegend": true,
         "type": "scatter3d",
         "x": [
          2.5317269804395583,
          1.4140722251737576,
          2.6164846082840434,
          1.970814945906482,
          2.349757983950943,
          3.3968799206781375,
          0.5193832450849368,
          2.932005096991301,
          2.319672793874053,
          2.9181342336442513,
          1.6619349470194866,
          1.8023404526607334,
          2.165378862953397,
          1.3445942175098249,
          1.585267299308644,
          1.9047435782139124,
          1.949248781864498,
          3.488765379656386,
          3.79468686120997,
          1.2983298245678165,
          2.4281672590208476,
          1.1980973722749628,
          3.4992654842989572,
          1.3876682501815556,
          2.2758536493056933,
          2.6141938306983334,
          1.2576251829251366,
          1.2906696477376016,
          2.1228539805083133,
          2.3875644023690277,
          2.840960925285384,
          3.232342898295874,
          2.158738373133135,
          1.4431026043759747,
          1.7796401068985703,
          3.076521621020662,
          2.144986856709304,
          1.9048629251371318,
          1.1688534694704038,
          2.107653731173268,
          2.314303394629548,
          1.9224508848357522,
          1.4140722251737576,
          2.563322712340809,
          2.41939121980498,
          1.9440170488777369,
          1.5256636313138727,
          1.764045935526983,
          1.901629075288233,
          1.3896661333194171
         ],
         "y": [
          -0.011842236640300523,
          -0.5749250559123048,
          0.3419352869872948,
          -0.18112569470491371,
          -0.04188254965484184,
          0.5471680462301528,
          -1.1913516890506533,
          0.3523770061808598,
          -0.2455481706069101,
          0.7803806293720322,
          0.2420384010375224,
          -0.21615460662653627,
          0.21528028337300723,
          -0.7764154251768252,
          -0.539307053847172,
          0.11881899098269857,
          0.040730259427767854,
          1.1715445442635644,
          0.25326557097253466,
          -0.7610139365215078,
          0.3767819712541526,
          -0.6055789617645945,
          0.4567734669640746,
          -0.20403098657015473,
          0.3333865257566422,
          0.5583669502788224,
          -0.17913699742322278,
          -0.11642525182937251,
          -0.2108548845494899,
          0.46251925072626066,
          0.37274259104902147,
          1.3705240359763338,
          -0.21832553156299322,
          -0.14380128908272616,
          -0.5014647947060157,
          0.6857644422460568,
          0.13890660887731443,
          0.048047508231834596,
          -0.16450249981508994,
          0.3714822491771058,
          0.1826088507936986,
          0.4092711761786957,
          -0.5749250559123048,
          0.27597450223983816,
          0.30350393770262885,
          0.18741522204601396,
          -0.3750208481918228,
          0.07851918642935747,
          0.11587674824796555,
          -0.28288670917226916
         ],
         "z": [
          0.7584586515284955,
          0.2963982243052131,
          -0.11214137055436675,
          0.10653914864984594,
          0.28411068086616736,
          -0.3518731576273015,
          0.5466855311249489,
          -0.4236912783368969,
          -0.3499221833590494,
          0.42173893361376735,
          0.24281526346759313,
          -0.03769532849396476,
          0.0331481831991332,
          0.2828680182243182,
          0.6305704884623257,
          0.48013807976572853,
          0.042729093929436614,
          0.1293200833617756,
          -0.5169707159938949,
          -0.3448870474686999,
          0.21864907004670506,
          0.5126407650398147,
          -0.5769101867216484,
          -0.06351132177864816,
          0.28467815266071794,
          -0.20842334661879328,
          0.046977807449227076,
          0.231613560568306,
          0.15351588509125513,
          -0.45202396144912743,
          -0.5010315391382015,
          -0.11844877739515763,
          0.20842197616391567,
          -0.1540829711054271,
          -0.17581118605670318,
          -0.33642274120822385,
          0.7341847390548603,
          0.16047063070600845,
          0.2824608810023712,
          0.027437856461485263,
          0.3228604007423825,
          0.1154928159607172,
          0.2963982243052131,
          0.2912536131268597,
          0.5043025169513597,
          0.17930287068112669,
          -0.12063644074491217,
          0.13078405342866883,
          0.7228735608675687,
          0.3623178316312214
         ]
        }
       ],
       "layout": {
        "legend": {
         "title": {
          "text": "color"
         },
         "tracegroupgap": 0
        },
        "scene": {
         "domain": {
          "x": [
           0,
           1
          ],
          "y": [
           0,
           1
          ]
         },
         "xaxis": {
          "title": {
           "text": "PC 1"
          }
         },
         "yaxis": {
          "title": {
           "text": "PC 2"
          }
         },
         "zaxis": {
          "title": {
           "text": "PC 3"
          }
         }
        },
        "template": {
         "data": {
          "bar": [
           {
            "error_x": {
             "color": "#2a3f5f"
            },
            "error_y": {
             "color": "#2a3f5f"
            },
            "marker": {
             "line": {
              "color": "#E5ECF6",
              "width": 0.5
             }
            },
            "type": "bar"
           }
          ],
          "barpolar": [
           {
            "marker": {
             "line": {
              "color": "#E5ECF6",
              "width": 0.5
             }
            },
            "type": "barpolar"
           }
          ],
          "carpet": [
           {
            "aaxis": {
             "endlinecolor": "#2a3f5f",
             "gridcolor": "white",
             "linecolor": "white",
             "minorgridcolor": "white",
             "startlinecolor": "#2a3f5f"
            },
            "baxis": {
             "endlinecolor": "#2a3f5f",
             "gridcolor": "white",
             "linecolor": "white",
             "minorgridcolor": "white",
             "startlinecolor": "#2a3f5f"
            },
            "type": "carpet"
           }
          ],
          "choropleth": [
           {
            "colorbar": {
             "outlinewidth": 0,
             "ticks": ""
            },
            "type": "choropleth"
           }
          ],
          "contour": [
           {
            "colorbar": {
             "outlinewidth": 0,
             "ticks": ""
            },
            "colorscale": [
             [
              0,
              "#0d0887"
             ],
             [
              0.1111111111111111,
              "#46039f"
             ],
             [
              0.2222222222222222,
              "#7201a8"
             ],
             [
              0.3333333333333333,
              "#9c179e"
             ],
             [
              0.4444444444444444,
              "#bd3786"
             ],
             [
              0.5555555555555556,
              "#d8576b"
             ],
             [
              0.6666666666666666,
              "#ed7953"
             ],
             [
              0.7777777777777778,
              "#fb9f3a"
             ],
             [
              0.8888888888888888,
              "#fdca26"
             ],
             [
              1,
              "#f0f921"
             ]
            ],
            "type": "contour"
           }
          ],
          "contourcarpet": [
           {
            "colorbar": {
             "outlinewidth": 0,
             "ticks": ""
            },
            "type": "contourcarpet"
           }
          ],
          "heatmap": [
           {
            "colorbar": {
             "outlinewidth": 0,
             "ticks": ""
            },
            "colorscale": [
             [
              0,
              "#0d0887"
             ],
             [
              0.1111111111111111,
              "#46039f"
             ],
             [
              0.2222222222222222,
              "#7201a8"
             ],
             [
              0.3333333333333333,
              "#9c179e"
             ],
             [
              0.4444444444444444,
              "#bd3786"
             ],
             [
              0.5555555555555556,
              "#d8576b"
             ],
             [
              0.6666666666666666,
              "#ed7953"
             ],
             [
              0.7777777777777778,
              "#fb9f3a"
             ],
             [
              0.8888888888888888,
              "#fdca26"
             ],
             [
              1,
              "#f0f921"
             ]
            ],
            "type": "heatmap"
           }
          ],
          "heatmapgl": [
           {
            "colorbar": {
             "outlinewidth": 0,
             "ticks": ""
            },
            "colorscale": [
             [
              0,
              "#0d0887"
             ],
             [
              0.1111111111111111,
              "#46039f"
             ],
             [
              0.2222222222222222,
              "#7201a8"
             ],
             [
              0.3333333333333333,
              "#9c179e"
             ],
             [
              0.4444444444444444,
              "#bd3786"
             ],
             [
              0.5555555555555556,
              "#d8576b"
             ],
             [
              0.6666666666666666,
              "#ed7953"
             ],
             [
              0.7777777777777778,
              "#fb9f3a"
             ],
             [
              0.8888888888888888,
              "#fdca26"
             ],
             [
              1,
              "#f0f921"
             ]
            ],
            "type": "heatmapgl"
           }
          ],
          "histogram": [
           {
            "marker": {
             "colorbar": {
              "outlinewidth": 0,
              "ticks": ""
             }
            },
            "type": "histogram"
           }
          ],
          "histogram2d": [
           {
            "colorbar": {
             "outlinewidth": 0,
             "ticks": ""
            },
            "colorscale": [
             [
              0,
              "#0d0887"
             ],
             [
              0.1111111111111111,
              "#46039f"
             ],
             [
              0.2222222222222222,
              "#7201a8"
             ],
             [
              0.3333333333333333,
              "#9c179e"
             ],
             [
              0.4444444444444444,
              "#bd3786"
             ],
             [
              0.5555555555555556,
              "#d8576b"
             ],
             [
              0.6666666666666666,
              "#ed7953"
             ],
             [
              0.7777777777777778,
              "#fb9f3a"
             ],
             [
              0.8888888888888888,
              "#fdca26"
             ],
             [
              1,
              "#f0f921"
             ]
            ],
            "type": "histogram2d"
           }
          ],
          "histogram2dcontour": [
           {
            "colorbar": {
             "outlinewidth": 0,
             "ticks": ""
            },
            "colorscale": [
             [
              0,
              "#0d0887"
             ],
             [
              0.1111111111111111,
              "#46039f"
             ],
             [
              0.2222222222222222,
              "#7201a8"
             ],
             [
              0.3333333333333333,
              "#9c179e"
             ],
             [
              0.4444444444444444,
              "#bd3786"
             ],
             [
              0.5555555555555556,
              "#d8576b"
             ],
             [
              0.6666666666666666,
              "#ed7953"
             ],
             [
              0.7777777777777778,
              "#fb9f3a"
             ],
             [
              0.8888888888888888,
              "#fdca26"
             ],
             [
              1,
              "#f0f921"
             ]
            ],
            "type": "histogram2dcontour"
           }
          ],
          "mesh3d": [
           {
            "colorbar": {
             "outlinewidth": 0,
             "ticks": ""
            },
            "type": "mesh3d"
           }
          ],
          "parcoords": [
           {
            "line": {
             "colorbar": {
              "outlinewidth": 0,
              "ticks": ""
             }
            },
            "type": "parcoords"
           }
          ],
          "pie": [
           {
            "automargin": true,
            "type": "pie"
           }
          ],
          "scatter": [
           {
            "marker": {
             "colorbar": {
              "outlinewidth": 0,
              "ticks": ""
             }
            },
            "type": "scatter"
           }
          ],
          "scatter3d": [
           {
            "line": {
             "colorbar": {
              "outlinewidth": 0,
              "ticks": ""
             }
            },
            "marker": {
             "colorbar": {
              "outlinewidth": 0,
              "ticks": ""
             }
            },
            "type": "scatter3d"
           }
          ],
          "scattercarpet": [
           {
            "marker": {
             "colorbar": {
              "outlinewidth": 0,
              "ticks": ""
             }
            },
            "type": "scattercarpet"
           }
          ],
          "scattergeo": [
           {
            "marker": {
             "colorbar": {
              "outlinewidth": 0,
              "ticks": ""
             }
            },
            "type": "scattergeo"
           }
          ],
          "scattergl": [
           {
            "marker": {
             "colorbar": {
              "outlinewidth": 0,
              "ticks": ""
             }
            },
            "type": "scattergl"
           }
          ],
          "scattermapbox": [
           {
            "marker": {
             "colorbar": {
              "outlinewidth": 0,
              "ticks": ""
             }
            },
            "type": "scattermapbox"
           }
          ],
          "scatterpolar": [
           {
            "marker": {
             "colorbar": {
              "outlinewidth": 0,
              "ticks": ""
             }
            },
            "type": "scatterpolar"
           }
          ],
          "scatterpolargl": [
           {
            "marker": {
             "colorbar": {
              "outlinewidth": 0,
              "ticks": ""
             }
            },
            "type": "scatterpolargl"
           }
          ],
          "scatterternary": [
           {
            "marker": {
             "colorbar": {
              "outlinewidth": 0,
              "ticks": ""
             }
            },
            "type": "scatterternary"
           }
          ],
          "surface": [
           {
            "colorbar": {
             "outlinewidth": 0,
             "ticks": ""
            },
            "colorscale": [
             [
              0,
              "#0d0887"
             ],
             [
              0.1111111111111111,
              "#46039f"
             ],
             [
              0.2222222222222222,
              "#7201a8"
             ],
             [
              0.3333333333333333,
              "#9c179e"
             ],
             [
              0.4444444444444444,
              "#bd3786"
             ],
             [
              0.5555555555555556,
              "#d8576b"
             ],
             [
              0.6666666666666666,
              "#ed7953"
             ],
             [
              0.7777777777777778,
              "#fb9f3a"
             ],
             [
              0.8888888888888888,
              "#fdca26"
             ],
             [
              1,
              "#f0f921"
             ]
            ],
            "type": "surface"
           }
          ],
          "table": [
           {
            "cells": {
             "fill": {
              "color": "#EBF0F8"
             },
             "line": {
              "color": "white"
             }
            },
            "header": {
             "fill": {
              "color": "#C8D4E3"
             },
             "line": {
              "color": "white"
             }
            },
            "type": "table"
           }
          ]
         },
         "layout": {
          "annotationdefaults": {
           "arrowcolor": "#2a3f5f",
           "arrowhead": 0,
           "arrowwidth": 1
          },
          "autotypenumbers": "strict",
          "coloraxis": {
           "colorbar": {
            "outlinewidth": 0,
            "ticks": ""
           }
          },
          "colorscale": {
           "diverging": [
            [
             0,
             "#8e0152"
            ],
            [
             0.1,
             "#c51b7d"
            ],
            [
             0.2,
             "#de77ae"
            ],
            [
             0.3,
             "#f1b6da"
            ],
            [
             0.4,
             "#fde0ef"
            ],
            [
             0.5,
             "#f7f7f7"
            ],
            [
             0.6,
             "#e6f5d0"
            ],
            [
             0.7,
             "#b8e186"
            ],
            [
             0.8,
             "#7fbc41"
            ],
            [
             0.9,
             "#4d9221"
            ],
            [
             1,
             "#276419"
            ]
           ],
           "sequential": [
            [
             0,
             "#0d0887"
            ],
            [
             0.1111111111111111,
             "#46039f"
            ],
            [
             0.2222222222222222,
             "#7201a8"
            ],
            [
             0.3333333333333333,
             "#9c179e"
            ],
            [
             0.4444444444444444,
             "#bd3786"
            ],
            [
             0.5555555555555556,
             "#d8576b"
            ],
            [
             0.6666666666666666,
             "#ed7953"
            ],
            [
             0.7777777777777778,
             "#fb9f3a"
            ],
            [
             0.8888888888888888,
             "#fdca26"
            ],
            [
             1,
             "#f0f921"
            ]
           ],
           "sequentialminus": [
            [
             0,
             "#0d0887"
            ],
            [
             0.1111111111111111,
             "#46039f"
            ],
            [
             0.2222222222222222,
             "#7201a8"
            ],
            [
             0.3333333333333333,
             "#9c179e"
            ],
            [
             0.4444444444444444,
             "#bd3786"
            ],
            [
             0.5555555555555556,
             "#d8576b"
            ],
            [
             0.6666666666666666,
             "#ed7953"
            ],
            [
             0.7777777777777778,
             "#fb9f3a"
            ],
            [
             0.8888888888888888,
             "#fdca26"
            ],
            [
             1,
             "#f0f921"
            ]
           ]
          },
          "colorway": [
           "#636efa",
           "#EF553B",
           "#00cc96",
           "#ab63fa",
           "#FFA15A",
           "#19d3f3",
           "#FF6692",
           "#B6E880",
           "#FF97FF",
           "#FECB52"
          ],
          "font": {
           "color": "#2a3f5f"
          },
          "geo": {
           "bgcolor": "white",
           "lakecolor": "white",
           "landcolor": "#E5ECF6",
           "showlakes": true,
           "showland": true,
           "subunitcolor": "white"
          },
          "hoverlabel": {
           "align": "left"
          },
          "hovermode": "closest",
          "mapbox": {
           "style": "light"
          },
          "paper_bgcolor": "white",
          "plot_bgcolor": "#E5ECF6",
          "polar": {
           "angularaxis": {
            "gridcolor": "white",
            "linecolor": "white",
            "ticks": ""
           },
           "bgcolor": "#E5ECF6",
           "radialaxis": {
            "gridcolor": "white",
            "linecolor": "white",
            "ticks": ""
           }
          },
          "scene": {
           "xaxis": {
            "backgroundcolor": "#E5ECF6",
            "gridcolor": "white",
            "gridwidth": 2,
            "linecolor": "white",
            "showbackground": true,
            "ticks": "",
            "zerolinecolor": "white"
           },
           "yaxis": {
            "backgroundcolor": "#E5ECF6",
            "gridcolor": "white",
            "gridwidth": 2,
            "linecolor": "white",
            "showbackground": true,
            "ticks": "",
            "zerolinecolor": "white"
           },
           "zaxis": {
            "backgroundcolor": "#E5ECF6",
            "gridcolor": "white",
            "gridwidth": 2,
            "linecolor": "white",
            "showbackground": true,
            "ticks": "",
            "zerolinecolor": "white"
           }
          },
          "shapedefaults": {
           "line": {
            "color": "#2a3f5f"
           }
          },
          "ternary": {
           "aaxis": {
            "gridcolor": "white",
            "linecolor": "white",
            "ticks": ""
           },
           "baxis": {
            "gridcolor": "white",
            "linecolor": "white",
            "ticks": ""
           },
           "bgcolor": "#E5ECF6",
           "caxis": {
            "gridcolor": "white",
            "linecolor": "white",
            "ticks": ""
           }
          },
          "title": {
           "x": 0.05
          },
          "xaxis": {
           "automargin": true,
           "gridcolor": "white",
           "linecolor": "white",
           "ticks": "",
           "title": {
            "standoff": 15
           },
           "zerolinecolor": "white",
           "zerolinewidth": 2
          },
          "yaxis": {
           "automargin": true,
           "gridcolor": "white",
           "linecolor": "white",
           "ticks": "",
           "title": {
            "standoff": 15
           },
           "zerolinecolor": "white",
           "zerolinewidth": 2
          }
         }
        },
        "title": {
         "text": "Total Explained Variance: 99.48%"
        }
       }
      },
      "text/html": [
       "<div>                            <div id=\"44959ad4-a627-48aa-9352-5a6164c1b258\" class=\"plotly-graph-div\" style=\"height:525px; width:100%;\"></div>            <script type=\"text/javascript\">                require([\"plotly\"], function(Plotly) {                    window.PLOTLYENV=window.PLOTLYENV || {};                                    if (document.getElementById(\"44959ad4-a627-48aa-9352-5a6164c1b258\")) {                    Plotly.newPlot(                        \"44959ad4-a627-48aa-9352-5a6164c1b258\",                        [{\"hovertemplate\": \"color=setosa<br>PC 1=%{x}<br>PC 2=%{y}<br>PC 3=%{z}<extra></extra>\", \"legendgroup\": \"setosa\", \"marker\": {\"color\": \"#636efa\", \"symbol\": \"circle\"}, \"mode\": \"markers\", \"name\": \"setosa\", \"scene\": \"scene\", \"showlegend\": true, \"type\": \"scatter3d\", \"x\": [-2.6842071251039483, -2.71539061563413, -2.889819539617916, -2.746437197308734, -2.7285929818313144, -2.279897361009598, -2.8208906821806297, -2.6264819933238184, -2.887958565335634, -2.6738446867191206, -2.5065267893389036, -2.613142718271056, -2.787433975997097, -3.22520044627498, -2.643543216941146, -2.3838693237993756, -2.6225262031258083, -2.6483227324791265, -2.1990779614307634, -2.587346188917738, -2.3105317013131335, -2.5432349073036953, -3.215857694900105, -2.3031285376638824, -2.3561710866838976, -2.5079172268378804, -2.4690559975451225, -2.5623909468367505, -2.6398212683765814, -2.632847908030758, -2.588462051303391, -2.4100773371215958, -2.647636673396901, -2.5971594770759183, -2.6738446867191206, -2.866999846932534, -2.625228464680421, -2.6738446867191206, -2.981842664853908, -2.590323025585674, -2.770138910746324, -2.8522110815663906, -2.9982964428323506, -2.4055141012847012, -2.2088329541767058, -2.715665190747454, -2.537573371013507, -2.8403212968270086, -2.5426857570770482, -2.70391231486365], \"y\": [0.3266073147643885, -0.16955684755602624, -0.13734560960502795, -0.31112431575199184, 0.33392456356845474, 0.7477827132251336, -0.082104511024681, 0.17040534896028983, -0.5707980263315918, -0.10669170375273856, 0.651935013672572, 0.021520631960257896, -0.22774018887110628, -0.5032799094854259, 1.1861948994134495, 1.3447543445598622, 0.8180896745965952, 0.3191366677508846, 0.8792440880917367, 0.520473638805968, 0.397867821588892, 0.44003175465981526, 0.14161557162558355, 0.10552267842998224, -0.03120958906833842, -0.139056339913174, 0.1378873145904177, 0.3746845627501061, 0.3192900659603219, -0.19007583063362415, -0.19739307943769085, 0.41808000824761615, 0.8199826325595069, 1.1000219280072685, -0.10669170375273856, 0.07719309572358721, 0.6068000084215864, -0.10669170375273856, -0.4802500488560767, 0.23605933728887282, 0.2710594197651671, -0.9328653674695444, -0.3343075745907773, 0.19591725769606078, 0.4426960304210028, -0.24268148289811298, 0.5103675454766059, -0.2205763382764767, 0.5862810253439884, 0.11501085217050566], \"z\": [-0.021511837001963102, -0.20352142500549145, 0.024709240998957712, 0.03767197528530123, 0.09622969977460939, 0.17432561901640295, 0.26425108519069607, -0.015801510264315043, 0.02733540611450723, -0.19153329973564465, -0.06927499581393096, 0.10765035324990473, -0.20032778809538926, 0.06841362917233033, -0.14450570400963542, 0.2837306639397771, 0.14531598882161798, 0.033394254070698105, -0.11452146479835279, 0.21957208800082506, -0.23369560709796947, 0.2148363702796755, 0.2996189815108712, 0.04568004127448713, 0.12940757589599344, -0.24711633789085985, 0.1012630794297022, -0.07235915743602817, -0.1392533737785348, 0.04646646364504579, -0.071275073131526, -0.13838824005004097, 0.23058560425417296, 0.16358191262366278, -0.19153329973564465, -0.15684235049802425, -0.2611631564817056, -0.19153329973564465, 0.07972480735962136, -0.07390123824707649, 0.08424157450476331, -0.34096149110715174, 0.19900842494724197, 0.27071707036883347, 0.30348780926827057, -0.09051560595006833, 0.17191840447686085, 0.0900613765304152, -0.011175267831168983, -0.08269572660682165]}, {\"hovertemplate\": \"color=versicolor<br>PC 1=%{x}<br>PC 2=%{y}<br>PC 3=%{z}<extra></extra>\", \"legendgroup\": \"versicolor\", \"marker\": {\"color\": \"#EF553B\", \"symbol\": \"circle\"}, \"mode\": \"markers\", \"name\": \"versicolor\", \"scene\": \"scene\", \"showlegend\": true, \"type\": \"scatter3d\", \"x\": [1.284794587845071, 0.9324107529829175, 1.4640613227790753, 0.1809672063476993, 1.0871344872070012, 0.6404367495231457, 1.095223709938478, -0.7514671406482263, 1.0432977807062809, -0.010190070727852822, -0.5110861958950897, 0.5110980606834775, 0.2623357561531805, 0.984044545169431, -0.1748640019656959, 0.9275729420326997, 0.6595927890562004, 0.23454058625983584, 0.9423617073988423, 0.04324640032870497, 1.1162407237538159, 0.3567865678304614, 1.2964688502855342, 0.9205026489090096, 0.7140082136428333, 0.8996408632837759, 1.33104141885472, 1.557396272070702, 0.812455548998002, -0.30733475566340396, -0.07034288894927106, -0.19188449210314515, 0.13499495045137355, 1.378736982775583, 0.5872748535799112, 0.8072054966767166, 1.2204289662446792, 0.81286779036907, 0.2451951616903462, 0.16451342836925617, 0.4630309888714247, 0.8901604456511564, 0.2288790499696479, -0.7070812839208597, 0.35553303918706386, 0.33112694733272313, 0.375238228946766, 0.6416902781665432, -0.9084633331234948, 0.2978079074069342], \"y\": [0.6854391861329202, 0.3191980898336488, 0.5041898329724531, -0.8256039435761133, 0.0753903892887675, -0.41732348297002575, 0.28389121093848035, -1.0011075129743943, 0.22895690877700686, -0.7205748667019015, -1.2624919538621404, -0.1022841050459702, -0.5478932980253367, -0.12436042022227789, -0.25181557108017066, 0.46823620504311714, -0.3519762910603165, -0.33192182936212034, -0.541822258150014, -0.5814894466123587, -0.08421401387837349, -0.06682382794136613, -0.3275615197949442, -0.18239036332792097, 0.15037915314843728, 0.32961097958188407, 0.24466952060228936, 0.26739258481276484, -0.16233157487863326, -0.36508661276616033, -0.7025379317307259, -0.6774905443743572, -0.3117096427033962, -0.4212051382146283, -0.4832842677174825, 0.19505396377111148, 0.4080353370010176, -0.37067899831890966, -0.266728035661848, -0.6796614693108137, -0.6695265465361225, -0.03381244274676266, -0.4022576201789113, -1.0084247617784612, -0.5032184874026623, -0.21118014066262672, -0.2916220248087798, 0.019071176491270835, -0.7515687251694855, -0.34701652159856394], \"z\": [-0.40612955307696313, -0.017129909205125235, -0.33826072771795895, -0.17708285639336488, -0.3065444648144318, 0.04118876935364434, 0.1700225337414998, 0.015672194238160093, -0.414814566148704, 0.28343724625412553, -0.26648995382244983, 0.1323278904749737, -0.6919415783189649, -0.06215742761353879, 0.09365863819195037, -0.31322940056857723, 0.3283842970693479, -0.2702806708356937, -0.4973485411777046, -0.2329635564825228, 0.45984422657275353, -0.22747218032088332, -0.34751321258425033, -0.23161141855267006, -0.32037233282926975, -0.3147714813796257, -0.5212449247379847, -0.16463849085222862, 0.03634357634449068, -0.3153371969389201, -0.24175804484226798, -0.3039165434636248, -0.17497330378776524, 0.015480495121708304, 0.44458375303487097, 0.38945871138620264, -0.23656608684982794, -0.6128710500606732, 0.18956248472924195, -0.05779923880574424, -0.024053890889809318, -0.00976802636842478, -0.22736270503287936, -0.10206934253841171, 0.01788946589650754, 0.08380907322251578, 0.07907335550136596, -0.20417287686374627, -0.007736584506980753, 0.012179139158859284]}, {\"hovertemplate\": \"color=virginica<br>PC 1=%{x}<br>PC 2=%{y}<br>PC 3=%{z}<extra></extra>\", \"legendgroup\": \"virginica\", \"marker\": {\"color\": \"#00cc96\", \"symbol\": \"circle\"}, \"mode\": \"markers\", \"name\": \"virginica\", \"scene\": \"scene\", \"showlegend\": true, \"type\": \"scatter3d\", \"x\": [2.5317269804395583, 1.4140722251737576, 2.6164846082840434, 1.970814945906482, 2.349757983950943, 3.3968799206781375, 0.5193832450849368, 2.932005096991301, 2.319672793874053, 2.9181342336442513, 1.6619349470194866, 1.8023404526607334, 2.165378862953397, 1.3445942175098249, 1.585267299308644, 1.9047435782139124, 1.949248781864498, 3.488765379656386, 3.79468686120997, 1.2983298245678165, 2.4281672590208476, 1.1980973722749628, 3.4992654842989572, 1.3876682501815556, 2.2758536493056933, 2.6141938306983334, 1.2576251829251366, 1.2906696477376016, 2.1228539805083133, 2.3875644023690277, 2.840960925285384, 3.232342898295874, 2.158738373133135, 1.4431026043759747, 1.7796401068985703, 3.076521621020662, 2.144986856709304, 1.9048629251371318, 1.1688534694704038, 2.107653731173268, 2.314303394629548, 1.9224508848357522, 1.4140722251737576, 2.563322712340809, 2.41939121980498, 1.9440170488777369, 1.5256636313138727, 1.764045935526983, 1.901629075288233, 1.3896661333194171], \"y\": [-0.011842236640300523, -0.5749250559123048, 0.3419352869872948, -0.18112569470491371, -0.04188254965484184, 0.5471680462301528, -1.1913516890506533, 0.3523770061808598, -0.2455481706069101, 0.7803806293720322, 0.2420384010375224, -0.21615460662653627, 0.21528028337300723, -0.7764154251768252, -0.539307053847172, 0.11881899098269857, 0.040730259427767854, 1.1715445442635644, 0.25326557097253466, -0.7610139365215078, 0.3767819712541526, -0.6055789617645945, 0.4567734669640746, -0.20403098657015473, 0.3333865257566422, 0.5583669502788224, -0.17913699742322278, -0.11642525182937251, -0.2108548845494899, 0.46251925072626066, 0.37274259104902147, 1.3705240359763338, -0.21832553156299322, -0.14380128908272616, -0.5014647947060157, 0.6857644422460568, 0.13890660887731443, 0.048047508231834596, -0.16450249981508994, 0.3714822491771058, 0.1826088507936986, 0.4092711761786957, -0.5749250559123048, 0.27597450223983816, 0.30350393770262885, 0.18741522204601396, -0.3750208481918228, 0.07851918642935747, 0.11587674824796555, -0.28288670917226916], \"z\": [0.7584586515284955, 0.2963982243052131, -0.11214137055436675, 0.10653914864984594, 0.28411068086616736, -0.3518731576273015, 0.5466855311249489, -0.4236912783368969, -0.3499221833590494, 0.42173893361376735, 0.24281526346759313, -0.03769532849396476, 0.0331481831991332, 0.2828680182243182, 0.6305704884623257, 0.48013807976572853, 0.042729093929436614, 0.1293200833617756, -0.5169707159938949, -0.3448870474686999, 0.21864907004670506, 0.5126407650398147, -0.5769101867216484, -0.06351132177864816, 0.28467815266071794, -0.20842334661879328, 0.046977807449227076, 0.231613560568306, 0.15351588509125513, -0.45202396144912743, -0.5010315391382015, -0.11844877739515763, 0.20842197616391567, -0.1540829711054271, -0.17581118605670318, -0.33642274120822385, 0.7341847390548603, 0.16047063070600845, 0.2824608810023712, 0.027437856461485263, 0.3228604007423825, 0.1154928159607172, 0.2963982243052131, 0.2912536131268597, 0.5043025169513597, 0.17930287068112669, -0.12063644074491217, 0.13078405342866883, 0.7228735608675687, 0.3623178316312214]}],                        {\"legend\": {\"title\": {\"text\": \"color\"}, \"tracegroupgap\": 0}, \"scene\": {\"domain\": {\"x\": [0.0, 1.0], \"y\": [0.0, 1.0]}, \"xaxis\": {\"title\": {\"text\": \"PC 1\"}}, \"yaxis\": {\"title\": {\"text\": \"PC 2\"}}, \"zaxis\": {\"title\": {\"text\": \"PC 3\"}}}, \"template\": {\"data\": {\"bar\": [{\"error_x\": {\"color\": \"#2a3f5f\"}, \"error_y\": {\"color\": \"#2a3f5f\"}, \"marker\": {\"line\": {\"color\": \"#E5ECF6\", \"width\": 0.5}}, \"type\": \"bar\"}], \"barpolar\": [{\"marker\": {\"line\": {\"color\": \"#E5ECF6\", \"width\": 0.5}}, \"type\": \"barpolar\"}], \"carpet\": [{\"aaxis\": {\"endlinecolor\": \"#2a3f5f\", \"gridcolor\": \"white\", \"linecolor\": \"white\", \"minorgridcolor\": \"white\", \"startlinecolor\": \"#2a3f5f\"}, \"baxis\": {\"endlinecolor\": \"#2a3f5f\", \"gridcolor\": \"white\", \"linecolor\": \"white\", \"minorgridcolor\": \"white\", \"startlinecolor\": \"#2a3f5f\"}, \"type\": \"carpet\"}], \"choropleth\": [{\"colorbar\": {\"outlinewidth\": 0, \"ticks\": \"\"}, \"type\": \"choropleth\"}], \"contour\": [{\"colorbar\": {\"outlinewidth\": 0, \"ticks\": \"\"}, \"colorscale\": [[0.0, \"#0d0887\"], [0.1111111111111111, \"#46039f\"], [0.2222222222222222, \"#7201a8\"], [0.3333333333333333, \"#9c179e\"], [0.4444444444444444, \"#bd3786\"], [0.5555555555555556, \"#d8576b\"], [0.6666666666666666, \"#ed7953\"], [0.7777777777777778, \"#fb9f3a\"], [0.8888888888888888, \"#fdca26\"], [1.0, \"#f0f921\"]], \"type\": \"contour\"}], \"contourcarpet\": [{\"colorbar\": {\"outlinewidth\": 0, \"ticks\": \"\"}, \"type\": \"contourcarpet\"}], \"heatmap\": [{\"colorbar\": {\"outlinewidth\": 0, \"ticks\": \"\"}, \"colorscale\": [[0.0, \"#0d0887\"], [0.1111111111111111, \"#46039f\"], [0.2222222222222222, \"#7201a8\"], [0.3333333333333333, \"#9c179e\"], [0.4444444444444444, \"#bd3786\"], [0.5555555555555556, \"#d8576b\"], [0.6666666666666666, \"#ed7953\"], [0.7777777777777778, \"#fb9f3a\"], [0.8888888888888888, \"#fdca26\"], [1.0, \"#f0f921\"]], \"type\": \"heatmap\"}], \"heatmapgl\": [{\"colorbar\": {\"outlinewidth\": 0, \"ticks\": \"\"}, \"colorscale\": [[0.0, \"#0d0887\"], [0.1111111111111111, \"#46039f\"], [0.2222222222222222, \"#7201a8\"], [0.3333333333333333, \"#9c179e\"], [0.4444444444444444, \"#bd3786\"], [0.5555555555555556, \"#d8576b\"], [0.6666666666666666, \"#ed7953\"], [0.7777777777777778, \"#fb9f3a\"], [0.8888888888888888, \"#fdca26\"], [1.0, \"#f0f921\"]], \"type\": \"heatmapgl\"}], \"histogram\": [{\"marker\": {\"colorbar\": {\"outlinewidth\": 0, \"ticks\": \"\"}}, \"type\": \"histogram\"}], \"histogram2d\": [{\"colorbar\": {\"outlinewidth\": 0, \"ticks\": \"\"}, \"colorscale\": [[0.0, \"#0d0887\"], [0.1111111111111111, \"#46039f\"], [0.2222222222222222, \"#7201a8\"], [0.3333333333333333, \"#9c179e\"], [0.4444444444444444, \"#bd3786\"], [0.5555555555555556, \"#d8576b\"], [0.6666666666666666, \"#ed7953\"], [0.7777777777777778, \"#fb9f3a\"], [0.8888888888888888, \"#fdca26\"], [1.0, \"#f0f921\"]], \"type\": \"histogram2d\"}], \"histogram2dcontour\": [{\"colorbar\": {\"outlinewidth\": 0, \"ticks\": \"\"}, \"colorscale\": [[0.0, \"#0d0887\"], [0.1111111111111111, \"#46039f\"], [0.2222222222222222, \"#7201a8\"], [0.3333333333333333, \"#9c179e\"], [0.4444444444444444, \"#bd3786\"], [0.5555555555555556, \"#d8576b\"], [0.6666666666666666, \"#ed7953\"], [0.7777777777777778, \"#fb9f3a\"], [0.8888888888888888, \"#fdca26\"], [1.0, \"#f0f921\"]], \"type\": \"histogram2dcontour\"}], \"mesh3d\": [{\"colorbar\": {\"outlinewidth\": 0, \"ticks\": \"\"}, \"type\": \"mesh3d\"}], \"parcoords\": [{\"line\": {\"colorbar\": {\"outlinewidth\": 0, \"ticks\": \"\"}}, \"type\": \"parcoords\"}], \"pie\": [{\"automargin\": true, \"type\": \"pie\"}], \"scatter\": [{\"marker\": {\"colorbar\": {\"outlinewidth\": 0, \"ticks\": \"\"}}, \"type\": \"scatter\"}], \"scatter3d\": [{\"line\": {\"colorbar\": {\"outlinewidth\": 0, \"ticks\": \"\"}}, \"marker\": {\"colorbar\": {\"outlinewidth\": 0, \"ticks\": \"\"}}, \"type\": \"scatter3d\"}], \"scattercarpet\": [{\"marker\": {\"colorbar\": {\"outlinewidth\": 0, \"ticks\": \"\"}}, \"type\": \"scattercarpet\"}], \"scattergeo\": [{\"marker\": {\"colorbar\": {\"outlinewidth\": 0, \"ticks\": \"\"}}, \"type\": \"scattergeo\"}], \"scattergl\": [{\"marker\": {\"colorbar\": {\"outlinewidth\": 0, \"ticks\": \"\"}}, \"type\": \"scattergl\"}], \"scattermapbox\": [{\"marker\": {\"colorbar\": {\"outlinewidth\": 0, \"ticks\": \"\"}}, \"type\": \"scattermapbox\"}], \"scatterpolar\": [{\"marker\": {\"colorbar\": {\"outlinewidth\": 0, \"ticks\": \"\"}}, \"type\": \"scatterpolar\"}], \"scatterpolargl\": [{\"marker\": {\"colorbar\": {\"outlinewidth\": 0, \"ticks\": \"\"}}, \"type\": \"scatterpolargl\"}], \"scatterternary\": [{\"marker\": {\"colorbar\": {\"outlinewidth\": 0, \"ticks\": \"\"}}, \"type\": \"scatterternary\"}], \"surface\": [{\"colorbar\": {\"outlinewidth\": 0, \"ticks\": \"\"}, \"colorscale\": [[0.0, \"#0d0887\"], [0.1111111111111111, \"#46039f\"], [0.2222222222222222, \"#7201a8\"], [0.3333333333333333, \"#9c179e\"], [0.4444444444444444, \"#bd3786\"], [0.5555555555555556, \"#d8576b\"], [0.6666666666666666, \"#ed7953\"], [0.7777777777777778, \"#fb9f3a\"], [0.8888888888888888, \"#fdca26\"], [1.0, \"#f0f921\"]], \"type\": \"surface\"}], \"table\": [{\"cells\": {\"fill\": {\"color\": \"#EBF0F8\"}, \"line\": {\"color\": \"white\"}}, \"header\": {\"fill\": {\"color\": \"#C8D4E3\"}, \"line\": {\"color\": \"white\"}}, \"type\": \"table\"}]}, \"layout\": {\"annotationdefaults\": {\"arrowcolor\": \"#2a3f5f\", \"arrowhead\": 0, \"arrowwidth\": 1}, \"autotypenumbers\": \"strict\", \"coloraxis\": {\"colorbar\": {\"outlinewidth\": 0, \"ticks\": \"\"}}, \"colorscale\": {\"diverging\": [[0, \"#8e0152\"], [0.1, \"#c51b7d\"], [0.2, \"#de77ae\"], [0.3, \"#f1b6da\"], [0.4, \"#fde0ef\"], [0.5, \"#f7f7f7\"], [0.6, \"#e6f5d0\"], [0.7, \"#b8e186\"], [0.8, \"#7fbc41\"], [0.9, \"#4d9221\"], [1, \"#276419\"]], \"sequential\": [[0.0, \"#0d0887\"], [0.1111111111111111, \"#46039f\"], [0.2222222222222222, \"#7201a8\"], [0.3333333333333333, \"#9c179e\"], [0.4444444444444444, \"#bd3786\"], [0.5555555555555556, \"#d8576b\"], [0.6666666666666666, \"#ed7953\"], [0.7777777777777778, \"#fb9f3a\"], [0.8888888888888888, \"#fdca26\"], [1.0, \"#f0f921\"]], \"sequentialminus\": [[0.0, \"#0d0887\"], [0.1111111111111111, \"#46039f\"], [0.2222222222222222, \"#7201a8\"], [0.3333333333333333, \"#9c179e\"], [0.4444444444444444, \"#bd3786\"], [0.5555555555555556, \"#d8576b\"], [0.6666666666666666, \"#ed7953\"], [0.7777777777777778, \"#fb9f3a\"], [0.8888888888888888, \"#fdca26\"], [1.0, \"#f0f921\"]]}, \"colorway\": [\"#636efa\", \"#EF553B\", \"#00cc96\", \"#ab63fa\", \"#FFA15A\", \"#19d3f3\", \"#FF6692\", \"#B6E880\", \"#FF97FF\", \"#FECB52\"], \"font\": {\"color\": \"#2a3f5f\"}, \"geo\": {\"bgcolor\": \"white\", \"lakecolor\": \"white\", \"landcolor\": \"#E5ECF6\", \"showlakes\": true, \"showland\": true, \"subunitcolor\": \"white\"}, \"hoverlabel\": {\"align\": \"left\"}, \"hovermode\": \"closest\", \"mapbox\": {\"style\": \"light\"}, \"paper_bgcolor\": \"white\", \"plot_bgcolor\": \"#E5ECF6\", \"polar\": {\"angularaxis\": {\"gridcolor\": \"white\", \"linecolor\": \"white\", \"ticks\": \"\"}, \"bgcolor\": \"#E5ECF6\", \"radialaxis\": {\"gridcolor\": \"white\", \"linecolor\": \"white\", \"ticks\": \"\"}}, \"scene\": {\"xaxis\": {\"backgroundcolor\": \"#E5ECF6\", \"gridcolor\": \"white\", \"gridwidth\": 2, \"linecolor\": \"white\", \"showbackground\": true, \"ticks\": \"\", \"zerolinecolor\": \"white\"}, \"yaxis\": {\"backgroundcolor\": \"#E5ECF6\", \"gridcolor\": \"white\", \"gridwidth\": 2, \"linecolor\": \"white\", \"showbackground\": true, \"ticks\": \"\", \"zerolinecolor\": \"white\"}, \"zaxis\": {\"backgroundcolor\": \"#E5ECF6\", \"gridcolor\": \"white\", \"gridwidth\": 2, \"linecolor\": \"white\", \"showbackground\": true, \"ticks\": \"\", \"zerolinecolor\": \"white\"}}, \"shapedefaults\": {\"line\": {\"color\": \"#2a3f5f\"}}, \"ternary\": {\"aaxis\": {\"gridcolor\": \"white\", \"linecolor\": \"white\", \"ticks\": \"\"}, \"baxis\": {\"gridcolor\": \"white\", \"linecolor\": \"white\", \"ticks\": \"\"}, \"bgcolor\": \"#E5ECF6\", \"caxis\": {\"gridcolor\": \"white\", \"linecolor\": \"white\", \"ticks\": \"\"}}, \"title\": {\"x\": 0.05}, \"xaxis\": {\"automargin\": true, \"gridcolor\": \"white\", \"linecolor\": \"white\", \"ticks\": \"\", \"title\": {\"standoff\": 15}, \"zerolinecolor\": \"white\", \"zerolinewidth\": 2}, \"yaxis\": {\"automargin\": true, \"gridcolor\": \"white\", \"linecolor\": \"white\", \"ticks\": \"\", \"title\": {\"standoff\": 15}, \"zerolinecolor\": \"white\", \"zerolinewidth\": 2}}}, \"title\": {\"text\": \"Total Explained Variance: 99.48%\"}},                        {\"responsive\": true}                    ).then(function(){\n",
       "                            \n",
       "var gd = document.getElementById('44959ad4-a627-48aa-9352-5a6164c1b258');\n",
       "var x = new MutationObserver(function (mutations, observer) {{\n",
       "        var display = window.getComputedStyle(gd).display;\n",
       "        if (!display || display === 'none') {{\n",
       "            console.log([gd, 'removed!']);\n",
       "            Plotly.purge(gd);\n",
       "            observer.disconnect();\n",
       "        }}\n",
       "}});\n",
       "\n",
       "// Listen for the removal of the full notebook cells\n",
       "var notebookContainer = gd.closest('#notebook-container');\n",
       "if (notebookContainer) {{\n",
       "    x.observe(notebookContainer, {childList: true});\n",
       "}}\n",
       "\n",
       "// Listen for the clearing of the current output cell\n",
       "var outputEl = gd.closest('.output');\n",
       "if (outputEl) {{\n",
       "    x.observe(outputEl, {childList: true});\n",
       "}}\n",
       "\n",
       "                        })                };                });            </script>        </div>"
      ]
     },
     "metadata": {},
     "output_type": "display_data"
    },
    {
     "data": {
      "application/vnd.plotly.v1+json": {
       "config": {
        "plotlyServerURL": "https://plot.ly"
       },
       "data": [
        {
         "hovertemplate": "color=setosa<br>0=%{x}<br>1=%{y}<extra></extra>",
         "legendgroup": "setosa",
         "marker": {
          "color": "#636efa",
          "symbol": "circle"
         },
         "mode": "markers",
         "name": "setosa",
         "orientation": "v",
         "showlegend": true,
         "type": "scatter",
         "x": [
          -2.6842071251039483,
          -2.71539061563413,
          -2.889819539617916,
          -2.746437197308734,
          -2.7285929818313144,
          -2.279897361009598,
          -2.8208906821806297,
          -2.6264819933238184,
          -2.887958565335634,
          -2.6738446867191206,
          -2.5065267893389036,
          -2.613142718271056,
          -2.787433975997097,
          -3.22520044627498,
          -2.643543216941146,
          -2.3838693237993756,
          -2.6225262031258083,
          -2.6483227324791265,
          -2.1990779614307634,
          -2.587346188917738,
          -2.3105317013131335,
          -2.5432349073036953,
          -3.215857694900105,
          -2.3031285376638824,
          -2.3561710866838976,
          -2.5079172268378804,
          -2.4690559975451225,
          -2.5623909468367505,
          -2.6398212683765814,
          -2.632847908030758,
          -2.588462051303391,
          -2.4100773371215958,
          -2.647636673396901,
          -2.5971594770759183,
          -2.6738446867191206,
          -2.866999846932534,
          -2.625228464680421,
          -2.6738446867191206,
          -2.981842664853908,
          -2.590323025585674,
          -2.770138910746324,
          -2.8522110815663906,
          -2.9982964428323506,
          -2.4055141012847012,
          -2.2088329541767058,
          -2.715665190747454,
          -2.537573371013507,
          -2.8403212968270086,
          -2.5426857570770482,
          -2.70391231486365
         ],
         "xaxis": "x",
         "y": [
          0.3266073147643885,
          -0.16955684755602624,
          -0.13734560960502795,
          -0.31112431575199184,
          0.33392456356845474,
          0.7477827132251336,
          -0.082104511024681,
          0.17040534896028983,
          -0.5707980263315918,
          -0.10669170375273856,
          0.651935013672572,
          0.021520631960257896,
          -0.22774018887110628,
          -0.5032799094854259,
          1.1861948994134495,
          1.3447543445598622,
          0.8180896745965952,
          0.3191366677508846,
          0.8792440880917367,
          0.520473638805968,
          0.397867821588892,
          0.44003175465981526,
          0.14161557162558355,
          0.10552267842998224,
          -0.03120958906833842,
          -0.139056339913174,
          0.1378873145904177,
          0.3746845627501061,
          0.3192900659603219,
          -0.19007583063362415,
          -0.19739307943769085,
          0.41808000824761615,
          0.8199826325595069,
          1.1000219280072685,
          -0.10669170375273856,
          0.07719309572358721,
          0.6068000084215864,
          -0.10669170375273856,
          -0.4802500488560767,
          0.23605933728887282,
          0.2710594197651671,
          -0.9328653674695444,
          -0.3343075745907773,
          0.19591725769606078,
          0.4426960304210028,
          -0.24268148289811298,
          0.5103675454766059,
          -0.2205763382764767,
          0.5862810253439884,
          0.11501085217050566
         ],
         "yaxis": "y"
        },
        {
         "hovertemplate": "color=versicolor<br>0=%{x}<br>1=%{y}<extra></extra>",
         "legendgroup": "versicolor",
         "marker": {
          "color": "#EF553B",
          "symbol": "circle"
         },
         "mode": "markers",
         "name": "versicolor",
         "orientation": "v",
         "showlegend": true,
         "type": "scatter",
         "x": [
          1.284794587845071,
          0.9324107529829175,
          1.4640613227790753,
          0.1809672063476993,
          1.0871344872070012,
          0.6404367495231457,
          1.095223709938478,
          -0.7514671406482263,
          1.0432977807062809,
          -0.010190070727852822,
          -0.5110861958950897,
          0.5110980606834775,
          0.2623357561531805,
          0.984044545169431,
          -0.1748640019656959,
          0.9275729420326997,
          0.6595927890562004,
          0.23454058625983584,
          0.9423617073988423,
          0.04324640032870497,
          1.1162407237538159,
          0.3567865678304614,
          1.2964688502855342,
          0.9205026489090096,
          0.7140082136428333,
          0.8996408632837759,
          1.33104141885472,
          1.557396272070702,
          0.812455548998002,
          -0.30733475566340396,
          -0.07034288894927106,
          -0.19188449210314515,
          0.13499495045137355,
          1.378736982775583,
          0.5872748535799112,
          0.8072054966767166,
          1.2204289662446792,
          0.81286779036907,
          0.2451951616903462,
          0.16451342836925617,
          0.4630309888714247,
          0.8901604456511564,
          0.2288790499696479,
          -0.7070812839208597,
          0.35553303918706386,
          0.33112694733272313,
          0.375238228946766,
          0.6416902781665432,
          -0.9084633331234948,
          0.2978079074069342
         ],
         "xaxis": "x",
         "y": [
          0.6854391861329202,
          0.3191980898336488,
          0.5041898329724531,
          -0.8256039435761133,
          0.0753903892887675,
          -0.41732348297002575,
          0.28389121093848035,
          -1.0011075129743943,
          0.22895690877700686,
          -0.7205748667019015,
          -1.2624919538621404,
          -0.1022841050459702,
          -0.5478932980253367,
          -0.12436042022227789,
          -0.25181557108017066,
          0.46823620504311714,
          -0.3519762910603165,
          -0.33192182936212034,
          -0.541822258150014,
          -0.5814894466123587,
          -0.08421401387837349,
          -0.06682382794136613,
          -0.3275615197949442,
          -0.18239036332792097,
          0.15037915314843728,
          0.32961097958188407,
          0.24466952060228936,
          0.26739258481276484,
          -0.16233157487863326,
          -0.36508661276616033,
          -0.7025379317307259,
          -0.6774905443743572,
          -0.3117096427033962,
          -0.4212051382146283,
          -0.4832842677174825,
          0.19505396377111148,
          0.4080353370010176,
          -0.37067899831890966,
          -0.266728035661848,
          -0.6796614693108137,
          -0.6695265465361225,
          -0.03381244274676266,
          -0.4022576201789113,
          -1.0084247617784612,
          -0.5032184874026623,
          -0.21118014066262672,
          -0.2916220248087798,
          0.019071176491270835,
          -0.7515687251694855,
          -0.34701652159856394
         ],
         "yaxis": "y"
        },
        {
         "hovertemplate": "color=virginica<br>0=%{x}<br>1=%{y}<extra></extra>",
         "legendgroup": "virginica",
         "marker": {
          "color": "#00cc96",
          "symbol": "circle"
         },
         "mode": "markers",
         "name": "virginica",
         "orientation": "v",
         "showlegend": true,
         "type": "scatter",
         "x": [
          2.5317269804395583,
          1.4140722251737576,
          2.6164846082840434,
          1.970814945906482,
          2.349757983950943,
          3.3968799206781375,
          0.5193832450849368,
          2.932005096991301,
          2.319672793874053,
          2.9181342336442513,
          1.6619349470194866,
          1.8023404526607334,
          2.165378862953397,
          1.3445942175098249,
          1.585267299308644,
          1.9047435782139124,
          1.949248781864498,
          3.488765379656386,
          3.79468686120997,
          1.2983298245678165,
          2.4281672590208476,
          1.1980973722749628,
          3.4992654842989572,
          1.3876682501815556,
          2.2758536493056933,
          2.6141938306983334,
          1.2576251829251366,
          1.2906696477376016,
          2.1228539805083133,
          2.3875644023690277,
          2.840960925285384,
          3.232342898295874,
          2.158738373133135,
          1.4431026043759747,
          1.7796401068985703,
          3.076521621020662,
          2.144986856709304,
          1.9048629251371318,
          1.1688534694704038,
          2.107653731173268,
          2.314303394629548,
          1.9224508848357522,
          1.4140722251737576,
          2.563322712340809,
          2.41939121980498,
          1.9440170488777369,
          1.5256636313138727,
          1.764045935526983,
          1.901629075288233,
          1.3896661333194171
         ],
         "xaxis": "x",
         "y": [
          -0.011842236640300523,
          -0.5749250559123048,
          0.3419352869872948,
          -0.18112569470491371,
          -0.04188254965484184,
          0.5471680462301528,
          -1.1913516890506533,
          0.3523770061808598,
          -0.2455481706069101,
          0.7803806293720322,
          0.2420384010375224,
          -0.21615460662653627,
          0.21528028337300723,
          -0.7764154251768252,
          -0.539307053847172,
          0.11881899098269857,
          0.040730259427767854,
          1.1715445442635644,
          0.25326557097253466,
          -0.7610139365215078,
          0.3767819712541526,
          -0.6055789617645945,
          0.4567734669640746,
          -0.20403098657015473,
          0.3333865257566422,
          0.5583669502788224,
          -0.17913699742322278,
          -0.11642525182937251,
          -0.2108548845494899,
          0.46251925072626066,
          0.37274259104902147,
          1.3705240359763338,
          -0.21832553156299322,
          -0.14380128908272616,
          -0.5014647947060157,
          0.6857644422460568,
          0.13890660887731443,
          0.048047508231834596,
          -0.16450249981508994,
          0.3714822491771058,
          0.1826088507936986,
          0.4092711761786957,
          -0.5749250559123048,
          0.27597450223983816,
          0.30350393770262885,
          0.18741522204601396,
          -0.3750208481918228,
          0.07851918642935747,
          0.11587674824796555,
          -0.28288670917226916
         ],
         "yaxis": "y"
        }
       ],
       "layout": {
        "legend": {
         "title": {
          "text": "color"
         },
         "tracegroupgap": 0
        },
        "margin": {
         "t": 60
        },
        "template": {
         "data": {
          "bar": [
           {
            "error_x": {
             "color": "#2a3f5f"
            },
            "error_y": {
             "color": "#2a3f5f"
            },
            "marker": {
             "line": {
              "color": "#E5ECF6",
              "width": 0.5
             }
            },
            "type": "bar"
           }
          ],
          "barpolar": [
           {
            "marker": {
             "line": {
              "color": "#E5ECF6",
              "width": 0.5
             }
            },
            "type": "barpolar"
           }
          ],
          "carpet": [
           {
            "aaxis": {
             "endlinecolor": "#2a3f5f",
             "gridcolor": "white",
             "linecolor": "white",
             "minorgridcolor": "white",
             "startlinecolor": "#2a3f5f"
            },
            "baxis": {
             "endlinecolor": "#2a3f5f",
             "gridcolor": "white",
             "linecolor": "white",
             "minorgridcolor": "white",
             "startlinecolor": "#2a3f5f"
            },
            "type": "carpet"
           }
          ],
          "choropleth": [
           {
            "colorbar": {
             "outlinewidth": 0,
             "ticks": ""
            },
            "type": "choropleth"
           }
          ],
          "contour": [
           {
            "colorbar": {
             "outlinewidth": 0,
             "ticks": ""
            },
            "colorscale": [
             [
              0,
              "#0d0887"
             ],
             [
              0.1111111111111111,
              "#46039f"
             ],
             [
              0.2222222222222222,
              "#7201a8"
             ],
             [
              0.3333333333333333,
              "#9c179e"
             ],
             [
              0.4444444444444444,
              "#bd3786"
             ],
             [
              0.5555555555555556,
              "#d8576b"
             ],
             [
              0.6666666666666666,
              "#ed7953"
             ],
             [
              0.7777777777777778,
              "#fb9f3a"
             ],
             [
              0.8888888888888888,
              "#fdca26"
             ],
             [
              1,
              "#f0f921"
             ]
            ],
            "type": "contour"
           }
          ],
          "contourcarpet": [
           {
            "colorbar": {
             "outlinewidth": 0,
             "ticks": ""
            },
            "type": "contourcarpet"
           }
          ],
          "heatmap": [
           {
            "colorbar": {
             "outlinewidth": 0,
             "ticks": ""
            },
            "colorscale": [
             [
              0,
              "#0d0887"
             ],
             [
              0.1111111111111111,
              "#46039f"
             ],
             [
              0.2222222222222222,
              "#7201a8"
             ],
             [
              0.3333333333333333,
              "#9c179e"
             ],
             [
              0.4444444444444444,
              "#bd3786"
             ],
             [
              0.5555555555555556,
              "#d8576b"
             ],
             [
              0.6666666666666666,
              "#ed7953"
             ],
             [
              0.7777777777777778,
              "#fb9f3a"
             ],
             [
              0.8888888888888888,
              "#fdca26"
             ],
             [
              1,
              "#f0f921"
             ]
            ],
            "type": "heatmap"
           }
          ],
          "heatmapgl": [
           {
            "colorbar": {
             "outlinewidth": 0,
             "ticks": ""
            },
            "colorscale": [
             [
              0,
              "#0d0887"
             ],
             [
              0.1111111111111111,
              "#46039f"
             ],
             [
              0.2222222222222222,
              "#7201a8"
             ],
             [
              0.3333333333333333,
              "#9c179e"
             ],
             [
              0.4444444444444444,
              "#bd3786"
             ],
             [
              0.5555555555555556,
              "#d8576b"
             ],
             [
              0.6666666666666666,
              "#ed7953"
             ],
             [
              0.7777777777777778,
              "#fb9f3a"
             ],
             [
              0.8888888888888888,
              "#fdca26"
             ],
             [
              1,
              "#f0f921"
             ]
            ],
            "type": "heatmapgl"
           }
          ],
          "histogram": [
           {
            "marker": {
             "colorbar": {
              "outlinewidth": 0,
              "ticks": ""
             }
            },
            "type": "histogram"
           }
          ],
          "histogram2d": [
           {
            "colorbar": {
             "outlinewidth": 0,
             "ticks": ""
            },
            "colorscale": [
             [
              0,
              "#0d0887"
             ],
             [
              0.1111111111111111,
              "#46039f"
             ],
             [
              0.2222222222222222,
              "#7201a8"
             ],
             [
              0.3333333333333333,
              "#9c179e"
             ],
             [
              0.4444444444444444,
              "#bd3786"
             ],
             [
              0.5555555555555556,
              "#d8576b"
             ],
             [
              0.6666666666666666,
              "#ed7953"
             ],
             [
              0.7777777777777778,
              "#fb9f3a"
             ],
             [
              0.8888888888888888,
              "#fdca26"
             ],
             [
              1,
              "#f0f921"
             ]
            ],
            "type": "histogram2d"
           }
          ],
          "histogram2dcontour": [
           {
            "colorbar": {
             "outlinewidth": 0,
             "ticks": ""
            },
            "colorscale": [
             [
              0,
              "#0d0887"
             ],
             [
              0.1111111111111111,
              "#46039f"
             ],
             [
              0.2222222222222222,
              "#7201a8"
             ],
             [
              0.3333333333333333,
              "#9c179e"
             ],
             [
              0.4444444444444444,
              "#bd3786"
             ],
             [
              0.5555555555555556,
              "#d8576b"
             ],
             [
              0.6666666666666666,
              "#ed7953"
             ],
             [
              0.7777777777777778,
              "#fb9f3a"
             ],
             [
              0.8888888888888888,
              "#fdca26"
             ],
             [
              1,
              "#f0f921"
             ]
            ],
            "type": "histogram2dcontour"
           }
          ],
          "mesh3d": [
           {
            "colorbar": {
             "outlinewidth": 0,
             "ticks": ""
            },
            "type": "mesh3d"
           }
          ],
          "parcoords": [
           {
            "line": {
             "colorbar": {
              "outlinewidth": 0,
              "ticks": ""
             }
            },
            "type": "parcoords"
           }
          ],
          "pie": [
           {
            "automargin": true,
            "type": "pie"
           }
          ],
          "scatter": [
           {
            "marker": {
             "colorbar": {
              "outlinewidth": 0,
              "ticks": ""
             }
            },
            "type": "scatter"
           }
          ],
          "scatter3d": [
           {
            "line": {
             "colorbar": {
              "outlinewidth": 0,
              "ticks": ""
             }
            },
            "marker": {
             "colorbar": {
              "outlinewidth": 0,
              "ticks": ""
             }
            },
            "type": "scatter3d"
           }
          ],
          "scattercarpet": [
           {
            "marker": {
             "colorbar": {
              "outlinewidth": 0,
              "ticks": ""
             }
            },
            "type": "scattercarpet"
           }
          ],
          "scattergeo": [
           {
            "marker": {
             "colorbar": {
              "outlinewidth": 0,
              "ticks": ""
             }
            },
            "type": "scattergeo"
           }
          ],
          "scattergl": [
           {
            "marker": {
             "colorbar": {
              "outlinewidth": 0,
              "ticks": ""
             }
            },
            "type": "scattergl"
           }
          ],
          "scattermapbox": [
           {
            "marker": {
             "colorbar": {
              "outlinewidth": 0,
              "ticks": ""
             }
            },
            "type": "scattermapbox"
           }
          ],
          "scatterpolar": [
           {
            "marker": {
             "colorbar": {
              "outlinewidth": 0,
              "ticks": ""
             }
            },
            "type": "scatterpolar"
           }
          ],
          "scatterpolargl": [
           {
            "marker": {
             "colorbar": {
              "outlinewidth": 0,
              "ticks": ""
             }
            },
            "type": "scatterpolargl"
           }
          ],
          "scatterternary": [
           {
            "marker": {
             "colorbar": {
              "outlinewidth": 0,
              "ticks": ""
             }
            },
            "type": "scatterternary"
           }
          ],
          "surface": [
           {
            "colorbar": {
             "outlinewidth": 0,
             "ticks": ""
            },
            "colorscale": [
             [
              0,
              "#0d0887"
             ],
             [
              0.1111111111111111,
              "#46039f"
             ],
             [
              0.2222222222222222,
              "#7201a8"
             ],
             [
              0.3333333333333333,
              "#9c179e"
             ],
             [
              0.4444444444444444,
              "#bd3786"
             ],
             [
              0.5555555555555556,
              "#d8576b"
             ],
             [
              0.6666666666666666,
              "#ed7953"
             ],
             [
              0.7777777777777778,
              "#fb9f3a"
             ],
             [
              0.8888888888888888,
              "#fdca26"
             ],
             [
              1,
              "#f0f921"
             ]
            ],
            "type": "surface"
           }
          ],
          "table": [
           {
            "cells": {
             "fill": {
              "color": "#EBF0F8"
             },
             "line": {
              "color": "white"
             }
            },
            "header": {
             "fill": {
              "color": "#C8D4E3"
             },
             "line": {
              "color": "white"
             }
            },
            "type": "table"
           }
          ]
         },
         "layout": {
          "annotationdefaults": {
           "arrowcolor": "#2a3f5f",
           "arrowhead": 0,
           "arrowwidth": 1
          },
          "autotypenumbers": "strict",
          "coloraxis": {
           "colorbar": {
            "outlinewidth": 0,
            "ticks": ""
           }
          },
          "colorscale": {
           "diverging": [
            [
             0,
             "#8e0152"
            ],
            [
             0.1,
             "#c51b7d"
            ],
            [
             0.2,
             "#de77ae"
            ],
            [
             0.3,
             "#f1b6da"
            ],
            [
             0.4,
             "#fde0ef"
            ],
            [
             0.5,
             "#f7f7f7"
            ],
            [
             0.6,
             "#e6f5d0"
            ],
            [
             0.7,
             "#b8e186"
            ],
            [
             0.8,
             "#7fbc41"
            ],
            [
             0.9,
             "#4d9221"
            ],
            [
             1,
             "#276419"
            ]
           ],
           "sequential": [
            [
             0,
             "#0d0887"
            ],
            [
             0.1111111111111111,
             "#46039f"
            ],
            [
             0.2222222222222222,
             "#7201a8"
            ],
            [
             0.3333333333333333,
             "#9c179e"
            ],
            [
             0.4444444444444444,
             "#bd3786"
            ],
            [
             0.5555555555555556,
             "#d8576b"
            ],
            [
             0.6666666666666666,
             "#ed7953"
            ],
            [
             0.7777777777777778,
             "#fb9f3a"
            ],
            [
             0.8888888888888888,
             "#fdca26"
            ],
            [
             1,
             "#f0f921"
            ]
           ],
           "sequentialminus": [
            [
             0,
             "#0d0887"
            ],
            [
             0.1111111111111111,
             "#46039f"
            ],
            [
             0.2222222222222222,
             "#7201a8"
            ],
            [
             0.3333333333333333,
             "#9c179e"
            ],
            [
             0.4444444444444444,
             "#bd3786"
            ],
            [
             0.5555555555555556,
             "#d8576b"
            ],
            [
             0.6666666666666666,
             "#ed7953"
            ],
            [
             0.7777777777777778,
             "#fb9f3a"
            ],
            [
             0.8888888888888888,
             "#fdca26"
            ],
            [
             1,
             "#f0f921"
            ]
           ]
          },
          "colorway": [
           "#636efa",
           "#EF553B",
           "#00cc96",
           "#ab63fa",
           "#FFA15A",
           "#19d3f3",
           "#FF6692",
           "#B6E880",
           "#FF97FF",
           "#FECB52"
          ],
          "font": {
           "color": "#2a3f5f"
          },
          "geo": {
           "bgcolor": "white",
           "lakecolor": "white",
           "landcolor": "#E5ECF6",
           "showlakes": true,
           "showland": true,
           "subunitcolor": "white"
          },
          "hoverlabel": {
           "align": "left"
          },
          "hovermode": "closest",
          "mapbox": {
           "style": "light"
          },
          "paper_bgcolor": "white",
          "plot_bgcolor": "#E5ECF6",
          "polar": {
           "angularaxis": {
            "gridcolor": "white",
            "linecolor": "white",
            "ticks": ""
           },
           "bgcolor": "#E5ECF6",
           "radialaxis": {
            "gridcolor": "white",
            "linecolor": "white",
            "ticks": ""
           }
          },
          "scene": {
           "xaxis": {
            "backgroundcolor": "#E5ECF6",
            "gridcolor": "white",
            "gridwidth": 2,
            "linecolor": "white",
            "showbackground": true,
            "ticks": "",
            "zerolinecolor": "white"
           },
           "yaxis": {
            "backgroundcolor": "#E5ECF6",
            "gridcolor": "white",
            "gridwidth": 2,
            "linecolor": "white",
            "showbackground": true,
            "ticks": "",
            "zerolinecolor": "white"
           },
           "zaxis": {
            "backgroundcolor": "#E5ECF6",
            "gridcolor": "white",
            "gridwidth": 2,
            "linecolor": "white",
            "showbackground": true,
            "ticks": "",
            "zerolinecolor": "white"
           }
          },
          "shapedefaults": {
           "line": {
            "color": "#2a3f5f"
           }
          },
          "ternary": {
           "aaxis": {
            "gridcolor": "white",
            "linecolor": "white",
            "ticks": ""
           },
           "baxis": {
            "gridcolor": "white",
            "linecolor": "white",
            "ticks": ""
           },
           "bgcolor": "#E5ECF6",
           "caxis": {
            "gridcolor": "white",
            "linecolor": "white",
            "ticks": ""
           }
          },
          "title": {
           "x": 0.05
          },
          "xaxis": {
           "automargin": true,
           "gridcolor": "white",
           "linecolor": "white",
           "ticks": "",
           "title": {
            "standoff": 15
           },
           "zerolinecolor": "white",
           "zerolinewidth": 2
          },
          "yaxis": {
           "automargin": true,
           "gridcolor": "white",
           "linecolor": "white",
           "ticks": "",
           "title": {
            "standoff": 15
           },
           "zerolinecolor": "white",
           "zerolinewidth": 2
          }
         }
        },
        "xaxis": {
         "anchor": "y",
         "domain": [
          0,
          1
         ],
         "title": {
          "text": "0"
         }
        },
        "yaxis": {
         "anchor": "x",
         "domain": [
          0,
          1
         ],
         "title": {
          "text": "1"
         }
        }
       }
      },
      "text/html": [
       "<div>                            <div id=\"c7814622-3b0f-4b19-bab7-2f3bf39b37d0\" class=\"plotly-graph-div\" style=\"height:525px; width:100%;\"></div>            <script type=\"text/javascript\">                require([\"plotly\"], function(Plotly) {                    window.PLOTLYENV=window.PLOTLYENV || {};                                    if (document.getElementById(\"c7814622-3b0f-4b19-bab7-2f3bf39b37d0\")) {                    Plotly.newPlot(                        \"c7814622-3b0f-4b19-bab7-2f3bf39b37d0\",                        [{\"hovertemplate\": \"color=setosa<br>0=%{x}<br>1=%{y}<extra></extra>\", \"legendgroup\": \"setosa\", \"marker\": {\"color\": \"#636efa\", \"symbol\": \"circle\"}, \"mode\": \"markers\", \"name\": \"setosa\", \"orientation\": \"v\", \"showlegend\": true, \"type\": \"scatter\", \"x\": [-2.6842071251039483, -2.71539061563413, -2.889819539617916, -2.746437197308734, -2.7285929818313144, -2.279897361009598, -2.8208906821806297, -2.6264819933238184, -2.887958565335634, -2.6738446867191206, -2.5065267893389036, -2.613142718271056, -2.787433975997097, -3.22520044627498, -2.643543216941146, -2.3838693237993756, -2.6225262031258083, -2.6483227324791265, -2.1990779614307634, -2.587346188917738, -2.3105317013131335, -2.5432349073036953, -3.215857694900105, -2.3031285376638824, -2.3561710866838976, -2.5079172268378804, -2.4690559975451225, -2.5623909468367505, -2.6398212683765814, -2.632847908030758, -2.588462051303391, -2.4100773371215958, -2.647636673396901, -2.5971594770759183, -2.6738446867191206, -2.866999846932534, -2.625228464680421, -2.6738446867191206, -2.981842664853908, -2.590323025585674, -2.770138910746324, -2.8522110815663906, -2.9982964428323506, -2.4055141012847012, -2.2088329541767058, -2.715665190747454, -2.537573371013507, -2.8403212968270086, -2.5426857570770482, -2.70391231486365], \"xaxis\": \"x\", \"y\": [0.3266073147643885, -0.16955684755602624, -0.13734560960502795, -0.31112431575199184, 0.33392456356845474, 0.7477827132251336, -0.082104511024681, 0.17040534896028983, -0.5707980263315918, -0.10669170375273856, 0.651935013672572, 0.021520631960257896, -0.22774018887110628, -0.5032799094854259, 1.1861948994134495, 1.3447543445598622, 0.8180896745965952, 0.3191366677508846, 0.8792440880917367, 0.520473638805968, 0.397867821588892, 0.44003175465981526, 0.14161557162558355, 0.10552267842998224, -0.03120958906833842, -0.139056339913174, 0.1378873145904177, 0.3746845627501061, 0.3192900659603219, -0.19007583063362415, -0.19739307943769085, 0.41808000824761615, 0.8199826325595069, 1.1000219280072685, -0.10669170375273856, 0.07719309572358721, 0.6068000084215864, -0.10669170375273856, -0.4802500488560767, 0.23605933728887282, 0.2710594197651671, -0.9328653674695444, -0.3343075745907773, 0.19591725769606078, 0.4426960304210028, -0.24268148289811298, 0.5103675454766059, -0.2205763382764767, 0.5862810253439884, 0.11501085217050566], \"yaxis\": \"y\"}, {\"hovertemplate\": \"color=versicolor<br>0=%{x}<br>1=%{y}<extra></extra>\", \"legendgroup\": \"versicolor\", \"marker\": {\"color\": \"#EF553B\", \"symbol\": \"circle\"}, \"mode\": \"markers\", \"name\": \"versicolor\", \"orientation\": \"v\", \"showlegend\": true, \"type\": \"scatter\", \"x\": [1.284794587845071, 0.9324107529829175, 1.4640613227790753, 0.1809672063476993, 1.0871344872070012, 0.6404367495231457, 1.095223709938478, -0.7514671406482263, 1.0432977807062809, -0.010190070727852822, -0.5110861958950897, 0.5110980606834775, 0.2623357561531805, 0.984044545169431, -0.1748640019656959, 0.9275729420326997, 0.6595927890562004, 0.23454058625983584, 0.9423617073988423, 0.04324640032870497, 1.1162407237538159, 0.3567865678304614, 1.2964688502855342, 0.9205026489090096, 0.7140082136428333, 0.8996408632837759, 1.33104141885472, 1.557396272070702, 0.812455548998002, -0.30733475566340396, -0.07034288894927106, -0.19188449210314515, 0.13499495045137355, 1.378736982775583, 0.5872748535799112, 0.8072054966767166, 1.2204289662446792, 0.81286779036907, 0.2451951616903462, 0.16451342836925617, 0.4630309888714247, 0.8901604456511564, 0.2288790499696479, -0.7070812839208597, 0.35553303918706386, 0.33112694733272313, 0.375238228946766, 0.6416902781665432, -0.9084633331234948, 0.2978079074069342], \"xaxis\": \"x\", \"y\": [0.6854391861329202, 0.3191980898336488, 0.5041898329724531, -0.8256039435761133, 0.0753903892887675, -0.41732348297002575, 0.28389121093848035, -1.0011075129743943, 0.22895690877700686, -0.7205748667019015, -1.2624919538621404, -0.1022841050459702, -0.5478932980253367, -0.12436042022227789, -0.25181557108017066, 0.46823620504311714, -0.3519762910603165, -0.33192182936212034, -0.541822258150014, -0.5814894466123587, -0.08421401387837349, -0.06682382794136613, -0.3275615197949442, -0.18239036332792097, 0.15037915314843728, 0.32961097958188407, 0.24466952060228936, 0.26739258481276484, -0.16233157487863326, -0.36508661276616033, -0.7025379317307259, -0.6774905443743572, -0.3117096427033962, -0.4212051382146283, -0.4832842677174825, 0.19505396377111148, 0.4080353370010176, -0.37067899831890966, -0.266728035661848, -0.6796614693108137, -0.6695265465361225, -0.03381244274676266, -0.4022576201789113, -1.0084247617784612, -0.5032184874026623, -0.21118014066262672, -0.2916220248087798, 0.019071176491270835, -0.7515687251694855, -0.34701652159856394], \"yaxis\": \"y\"}, {\"hovertemplate\": \"color=virginica<br>0=%{x}<br>1=%{y}<extra></extra>\", \"legendgroup\": \"virginica\", \"marker\": {\"color\": \"#00cc96\", \"symbol\": \"circle\"}, \"mode\": \"markers\", \"name\": \"virginica\", \"orientation\": \"v\", \"showlegend\": true, \"type\": \"scatter\", \"x\": [2.5317269804395583, 1.4140722251737576, 2.6164846082840434, 1.970814945906482, 2.349757983950943, 3.3968799206781375, 0.5193832450849368, 2.932005096991301, 2.319672793874053, 2.9181342336442513, 1.6619349470194866, 1.8023404526607334, 2.165378862953397, 1.3445942175098249, 1.585267299308644, 1.9047435782139124, 1.949248781864498, 3.488765379656386, 3.79468686120997, 1.2983298245678165, 2.4281672590208476, 1.1980973722749628, 3.4992654842989572, 1.3876682501815556, 2.2758536493056933, 2.6141938306983334, 1.2576251829251366, 1.2906696477376016, 2.1228539805083133, 2.3875644023690277, 2.840960925285384, 3.232342898295874, 2.158738373133135, 1.4431026043759747, 1.7796401068985703, 3.076521621020662, 2.144986856709304, 1.9048629251371318, 1.1688534694704038, 2.107653731173268, 2.314303394629548, 1.9224508848357522, 1.4140722251737576, 2.563322712340809, 2.41939121980498, 1.9440170488777369, 1.5256636313138727, 1.764045935526983, 1.901629075288233, 1.3896661333194171], \"xaxis\": \"x\", \"y\": [-0.011842236640300523, -0.5749250559123048, 0.3419352869872948, -0.18112569470491371, -0.04188254965484184, 0.5471680462301528, -1.1913516890506533, 0.3523770061808598, -0.2455481706069101, 0.7803806293720322, 0.2420384010375224, -0.21615460662653627, 0.21528028337300723, -0.7764154251768252, -0.539307053847172, 0.11881899098269857, 0.040730259427767854, 1.1715445442635644, 0.25326557097253466, -0.7610139365215078, 0.3767819712541526, -0.6055789617645945, 0.4567734669640746, -0.20403098657015473, 0.3333865257566422, 0.5583669502788224, -0.17913699742322278, -0.11642525182937251, -0.2108548845494899, 0.46251925072626066, 0.37274259104902147, 1.3705240359763338, -0.21832553156299322, -0.14380128908272616, -0.5014647947060157, 0.6857644422460568, 0.13890660887731443, 0.048047508231834596, -0.16450249981508994, 0.3714822491771058, 0.1826088507936986, 0.4092711761786957, -0.5749250559123048, 0.27597450223983816, 0.30350393770262885, 0.18741522204601396, -0.3750208481918228, 0.07851918642935747, 0.11587674824796555, -0.28288670917226916], \"yaxis\": \"y\"}],                        {\"legend\": {\"title\": {\"text\": \"color\"}, \"tracegroupgap\": 0}, \"margin\": {\"t\": 60}, \"template\": {\"data\": {\"bar\": [{\"error_x\": {\"color\": \"#2a3f5f\"}, \"error_y\": {\"color\": \"#2a3f5f\"}, \"marker\": {\"line\": {\"color\": \"#E5ECF6\", \"width\": 0.5}}, \"type\": \"bar\"}], \"barpolar\": [{\"marker\": {\"line\": {\"color\": \"#E5ECF6\", \"width\": 0.5}}, \"type\": \"barpolar\"}], \"carpet\": [{\"aaxis\": {\"endlinecolor\": \"#2a3f5f\", \"gridcolor\": \"white\", \"linecolor\": \"white\", \"minorgridcolor\": \"white\", \"startlinecolor\": \"#2a3f5f\"}, \"baxis\": {\"endlinecolor\": \"#2a3f5f\", \"gridcolor\": \"white\", \"linecolor\": \"white\", \"minorgridcolor\": \"white\", \"startlinecolor\": \"#2a3f5f\"}, \"type\": \"carpet\"}], \"choropleth\": [{\"colorbar\": {\"outlinewidth\": 0, \"ticks\": \"\"}, \"type\": \"choropleth\"}], \"contour\": [{\"colorbar\": {\"outlinewidth\": 0, \"ticks\": \"\"}, \"colorscale\": [[0.0, \"#0d0887\"], [0.1111111111111111, \"#46039f\"], [0.2222222222222222, \"#7201a8\"], [0.3333333333333333, \"#9c179e\"], [0.4444444444444444, \"#bd3786\"], [0.5555555555555556, \"#d8576b\"], [0.6666666666666666, \"#ed7953\"], [0.7777777777777778, \"#fb9f3a\"], [0.8888888888888888, \"#fdca26\"], [1.0, \"#f0f921\"]], \"type\": \"contour\"}], \"contourcarpet\": [{\"colorbar\": {\"outlinewidth\": 0, \"ticks\": \"\"}, \"type\": \"contourcarpet\"}], \"heatmap\": [{\"colorbar\": {\"outlinewidth\": 0, \"ticks\": \"\"}, \"colorscale\": [[0.0, \"#0d0887\"], [0.1111111111111111, \"#46039f\"], [0.2222222222222222, \"#7201a8\"], [0.3333333333333333, \"#9c179e\"], [0.4444444444444444, \"#bd3786\"], [0.5555555555555556, \"#d8576b\"], [0.6666666666666666, \"#ed7953\"], [0.7777777777777778, \"#fb9f3a\"], [0.8888888888888888, \"#fdca26\"], [1.0, \"#f0f921\"]], \"type\": \"heatmap\"}], \"heatmapgl\": [{\"colorbar\": {\"outlinewidth\": 0, \"ticks\": \"\"}, \"colorscale\": [[0.0, \"#0d0887\"], [0.1111111111111111, \"#46039f\"], [0.2222222222222222, \"#7201a8\"], [0.3333333333333333, \"#9c179e\"], [0.4444444444444444, \"#bd3786\"], [0.5555555555555556, \"#d8576b\"], [0.6666666666666666, \"#ed7953\"], [0.7777777777777778, \"#fb9f3a\"], [0.8888888888888888, \"#fdca26\"], [1.0, \"#f0f921\"]], \"type\": \"heatmapgl\"}], \"histogram\": [{\"marker\": {\"colorbar\": {\"outlinewidth\": 0, \"ticks\": \"\"}}, \"type\": \"histogram\"}], \"histogram2d\": [{\"colorbar\": {\"outlinewidth\": 0, \"ticks\": \"\"}, \"colorscale\": [[0.0, \"#0d0887\"], [0.1111111111111111, \"#46039f\"], [0.2222222222222222, \"#7201a8\"], [0.3333333333333333, \"#9c179e\"], [0.4444444444444444, \"#bd3786\"], [0.5555555555555556, \"#d8576b\"], [0.6666666666666666, \"#ed7953\"], [0.7777777777777778, \"#fb9f3a\"], [0.8888888888888888, \"#fdca26\"], [1.0, \"#f0f921\"]], \"type\": \"histogram2d\"}], \"histogram2dcontour\": [{\"colorbar\": {\"outlinewidth\": 0, \"ticks\": \"\"}, \"colorscale\": [[0.0, \"#0d0887\"], [0.1111111111111111, \"#46039f\"], [0.2222222222222222, \"#7201a8\"], [0.3333333333333333, \"#9c179e\"], [0.4444444444444444, \"#bd3786\"], [0.5555555555555556, \"#d8576b\"], [0.6666666666666666, \"#ed7953\"], [0.7777777777777778, \"#fb9f3a\"], [0.8888888888888888, \"#fdca26\"], [1.0, \"#f0f921\"]], \"type\": \"histogram2dcontour\"}], \"mesh3d\": [{\"colorbar\": {\"outlinewidth\": 0, \"ticks\": \"\"}, \"type\": \"mesh3d\"}], \"parcoords\": [{\"line\": {\"colorbar\": {\"outlinewidth\": 0, \"ticks\": \"\"}}, \"type\": \"parcoords\"}], \"pie\": [{\"automargin\": true, \"type\": \"pie\"}], \"scatter\": [{\"marker\": {\"colorbar\": {\"outlinewidth\": 0, \"ticks\": \"\"}}, \"type\": \"scatter\"}], \"scatter3d\": [{\"line\": {\"colorbar\": {\"outlinewidth\": 0, \"ticks\": \"\"}}, \"marker\": {\"colorbar\": {\"outlinewidth\": 0, \"ticks\": \"\"}}, \"type\": \"scatter3d\"}], \"scattercarpet\": [{\"marker\": {\"colorbar\": {\"outlinewidth\": 0, \"ticks\": \"\"}}, \"type\": \"scattercarpet\"}], \"scattergeo\": [{\"marker\": {\"colorbar\": {\"outlinewidth\": 0, \"ticks\": \"\"}}, \"type\": \"scattergeo\"}], \"scattergl\": [{\"marker\": {\"colorbar\": {\"outlinewidth\": 0, \"ticks\": \"\"}}, \"type\": \"scattergl\"}], \"scattermapbox\": [{\"marker\": {\"colorbar\": {\"outlinewidth\": 0, \"ticks\": \"\"}}, \"type\": \"scattermapbox\"}], \"scatterpolar\": [{\"marker\": {\"colorbar\": {\"outlinewidth\": 0, \"ticks\": \"\"}}, \"type\": \"scatterpolar\"}], \"scatterpolargl\": [{\"marker\": {\"colorbar\": {\"outlinewidth\": 0, \"ticks\": \"\"}}, \"type\": \"scatterpolargl\"}], \"scatterternary\": [{\"marker\": {\"colorbar\": {\"outlinewidth\": 0, \"ticks\": \"\"}}, \"type\": \"scatterternary\"}], \"surface\": [{\"colorbar\": {\"outlinewidth\": 0, \"ticks\": \"\"}, \"colorscale\": [[0.0, \"#0d0887\"], [0.1111111111111111, \"#46039f\"], [0.2222222222222222, \"#7201a8\"], [0.3333333333333333, \"#9c179e\"], [0.4444444444444444, \"#bd3786\"], [0.5555555555555556, \"#d8576b\"], [0.6666666666666666, \"#ed7953\"], [0.7777777777777778, \"#fb9f3a\"], [0.8888888888888888, \"#fdca26\"], [1.0, \"#f0f921\"]], \"type\": \"surface\"}], \"table\": [{\"cells\": {\"fill\": {\"color\": \"#EBF0F8\"}, \"line\": {\"color\": \"white\"}}, \"header\": {\"fill\": {\"color\": \"#C8D4E3\"}, \"line\": {\"color\": \"white\"}}, \"type\": \"table\"}]}, \"layout\": {\"annotationdefaults\": {\"arrowcolor\": \"#2a3f5f\", \"arrowhead\": 0, \"arrowwidth\": 1}, \"autotypenumbers\": \"strict\", \"coloraxis\": {\"colorbar\": {\"outlinewidth\": 0, \"ticks\": \"\"}}, \"colorscale\": {\"diverging\": [[0, \"#8e0152\"], [0.1, \"#c51b7d\"], [0.2, \"#de77ae\"], [0.3, \"#f1b6da\"], [0.4, \"#fde0ef\"], [0.5, \"#f7f7f7\"], [0.6, \"#e6f5d0\"], [0.7, \"#b8e186\"], [0.8, \"#7fbc41\"], [0.9, \"#4d9221\"], [1, \"#276419\"]], \"sequential\": [[0.0, \"#0d0887\"], [0.1111111111111111, \"#46039f\"], [0.2222222222222222, \"#7201a8\"], [0.3333333333333333, \"#9c179e\"], [0.4444444444444444, \"#bd3786\"], [0.5555555555555556, \"#d8576b\"], [0.6666666666666666, \"#ed7953\"], [0.7777777777777778, \"#fb9f3a\"], [0.8888888888888888, \"#fdca26\"], [1.0, \"#f0f921\"]], \"sequentialminus\": [[0.0, \"#0d0887\"], [0.1111111111111111, \"#46039f\"], [0.2222222222222222, \"#7201a8\"], [0.3333333333333333, \"#9c179e\"], [0.4444444444444444, \"#bd3786\"], [0.5555555555555556, \"#d8576b\"], [0.6666666666666666, \"#ed7953\"], [0.7777777777777778, \"#fb9f3a\"], [0.8888888888888888, \"#fdca26\"], [1.0, \"#f0f921\"]]}, \"colorway\": [\"#636efa\", \"#EF553B\", \"#00cc96\", \"#ab63fa\", \"#FFA15A\", \"#19d3f3\", \"#FF6692\", \"#B6E880\", \"#FF97FF\", \"#FECB52\"], \"font\": {\"color\": \"#2a3f5f\"}, \"geo\": {\"bgcolor\": \"white\", \"lakecolor\": \"white\", \"landcolor\": \"#E5ECF6\", \"showlakes\": true, \"showland\": true, \"subunitcolor\": \"white\"}, \"hoverlabel\": {\"align\": \"left\"}, \"hovermode\": \"closest\", \"mapbox\": {\"style\": \"light\"}, \"paper_bgcolor\": \"white\", \"plot_bgcolor\": \"#E5ECF6\", \"polar\": {\"angularaxis\": {\"gridcolor\": \"white\", \"linecolor\": \"white\", \"ticks\": \"\"}, \"bgcolor\": \"#E5ECF6\", \"radialaxis\": {\"gridcolor\": \"white\", \"linecolor\": \"white\", \"ticks\": \"\"}}, \"scene\": {\"xaxis\": {\"backgroundcolor\": \"#E5ECF6\", \"gridcolor\": \"white\", \"gridwidth\": 2, \"linecolor\": \"white\", \"showbackground\": true, \"ticks\": \"\", \"zerolinecolor\": \"white\"}, \"yaxis\": {\"backgroundcolor\": \"#E5ECF6\", \"gridcolor\": \"white\", \"gridwidth\": 2, \"linecolor\": \"white\", \"showbackground\": true, \"ticks\": \"\", \"zerolinecolor\": \"white\"}, \"zaxis\": {\"backgroundcolor\": \"#E5ECF6\", \"gridcolor\": \"white\", \"gridwidth\": 2, \"linecolor\": \"white\", \"showbackground\": true, \"ticks\": \"\", \"zerolinecolor\": \"white\"}}, \"shapedefaults\": {\"line\": {\"color\": \"#2a3f5f\"}}, \"ternary\": {\"aaxis\": {\"gridcolor\": \"white\", \"linecolor\": \"white\", \"ticks\": \"\"}, \"baxis\": {\"gridcolor\": \"white\", \"linecolor\": \"white\", \"ticks\": \"\"}, \"bgcolor\": \"#E5ECF6\", \"caxis\": {\"gridcolor\": \"white\", \"linecolor\": \"white\", \"ticks\": \"\"}}, \"title\": {\"x\": 0.05}, \"xaxis\": {\"automargin\": true, \"gridcolor\": \"white\", \"linecolor\": \"white\", \"ticks\": \"\", \"title\": {\"standoff\": 15}, \"zerolinecolor\": \"white\", \"zerolinewidth\": 2}, \"yaxis\": {\"automargin\": true, \"gridcolor\": \"white\", \"linecolor\": \"white\", \"ticks\": \"\", \"title\": {\"standoff\": 15}, \"zerolinecolor\": \"white\", \"zerolinewidth\": 2}}}, \"xaxis\": {\"anchor\": \"y\", \"domain\": [0.0, 1.0], \"title\": {\"text\": \"0\"}}, \"yaxis\": {\"anchor\": \"x\", \"domain\": [0.0, 1.0], \"title\": {\"text\": \"1\"}}},                        {\"responsive\": true}                    ).then(function(){\n",
       "                            \n",
       "var gd = document.getElementById('c7814622-3b0f-4b19-bab7-2f3bf39b37d0');\n",
       "var x = new MutationObserver(function (mutations, observer) {{\n",
       "        var display = window.getComputedStyle(gd).display;\n",
       "        if (!display || display === 'none') {{\n",
       "            console.log([gd, 'removed!']);\n",
       "            Plotly.purge(gd);\n",
       "            observer.disconnect();\n",
       "        }}\n",
       "}});\n",
       "\n",
       "// Listen for the removal of the full notebook cells\n",
       "var notebookContainer = gd.closest('#notebook-container');\n",
       "if (notebookContainer) {{\n",
       "    x.observe(notebookContainer, {childList: true});\n",
       "}}\n",
       "\n",
       "// Listen for the clearing of the current output cell\n",
       "var outputEl = gd.closest('.output');\n",
       "if (outputEl) {{\n",
       "    x.observe(outputEl, {childList: true});\n",
       "}}\n",
       "\n",
       "                        })                };                });            </script>        </div>"
      ]
     },
     "metadata": {},
     "output_type": "display_data"
    }
   ],
   "source": [
    "#3 Componentes\n",
    "dimensionality_reduction(3,\"species\",iris_df)"
   ]
  },
  {
   "cell_type": "markdown",
   "metadata": {
    "id": "TOk_JPiYghzT"
   },
   "source": [
    "# Breast Cancer"
   ]
  },
  {
   "cell_type": "code",
   "execution_count": 42,
   "metadata": {
    "colab": {
     "base_uri": "https://localhost:8080/"
    },
    "id": "FGHSDb8Zh2_k",
    "outputId": "ff644f96-f3ae-40cb-ba2c-06af285ab9a1"
   },
   "outputs": [
    {
     "ename": "FileNotFoundError",
     "evalue": "[Errno 2] No such file or directory: '/content/Breast_Cancer.csv'",
     "output_type": "error",
     "traceback": [
      "\u001b[0;31m---------------------------------------------------------------------------\u001b[0m",
      "\u001b[0;31mFileNotFoundError\u001b[0m                         Traceback (most recent call last)",
      "\u001b[0;32m<ipython-input-42-1548c925048e>\u001b[0m in \u001b[0;36m<module>\u001b[0;34m\u001b[0m\n\u001b[0;32m----> 1\u001b[0;31m \u001b[0mcancer_df\u001b[0m \u001b[0;34m=\u001b[0m \u001b[0mpd\u001b[0m\u001b[0;34m.\u001b[0m\u001b[0mread_csv\u001b[0m\u001b[0;34m(\u001b[0m\u001b[0;34m'/content/Breast_Cancer.csv'\u001b[0m\u001b[0;34m)\u001b[0m\u001b[0;34m\u001b[0m\u001b[0;34m\u001b[0m\u001b[0m\n\u001b[0m\u001b[1;32m      2\u001b[0m \u001b[0mprint\u001b[0m\u001b[0;34m(\u001b[0m\u001b[0mcancer_df\u001b[0m\u001b[0;34m.\u001b[0m\u001b[0mdescribe\u001b[0m\u001b[0;34m(\u001b[0m\u001b[0;34m)\u001b[0m\u001b[0;34m)\u001b[0m\u001b[0;34m\u001b[0m\u001b[0;34m\u001b[0m\u001b[0m\n\u001b[1;32m      3\u001b[0m \u001b[0mprint\u001b[0m\u001b[0;34m(\u001b[0m\u001b[0mcancer_df\u001b[0m\u001b[0;34m.\u001b[0m\u001b[0mdescribe\u001b[0m\u001b[0;34m(\u001b[0m\u001b[0minclude\u001b[0m\u001b[0;34m=\u001b[0m\u001b[0;34m\"object\"\u001b[0m\u001b[0;34m)\u001b[0m\u001b[0;34m)\u001b[0m\u001b[0;34m\u001b[0m\u001b[0;34m\u001b[0m\u001b[0m\n\u001b[1;32m      4\u001b[0m \u001b[0mcancer_df\u001b[0m\u001b[0;34m=\u001b[0m\u001b[0mcancer_df\u001b[0m\u001b[0;34m.\u001b[0m\u001b[0mdrop\u001b[0m\u001b[0;34m(\u001b[0m\u001b[0;34m[\u001b[0m\u001b[0;34m'Marital Status'\u001b[0m\u001b[0;34m,\u001b[0m \u001b[0;34m'6th Stage'\u001b[0m\u001b[0;34m,\u001b[0m\u001b[0;34m'differentiate'\u001b[0m\u001b[0;34m]\u001b[0m\u001b[0;34m,\u001b[0m\u001b[0maxis\u001b[0m\u001b[0;34m=\u001b[0m\u001b[0;36m1\u001b[0m\u001b[0;34m)\u001b[0m\u001b[0;34m\u001b[0m\u001b[0;34m\u001b[0m\u001b[0m\n\u001b[1;32m      5\u001b[0m \u001b[0mnum_cols\u001b[0m\u001b[0;34m,\u001b[0m \u001b[0mcat_cols\u001b[0m \u001b[0;34m=\u001b[0m\u001b[0mget_column_types\u001b[0m\u001b[0;34m(\u001b[0m\u001b[0mcancer_df\u001b[0m\u001b[0;34m)\u001b[0m\u001b[0;34m\u001b[0m\u001b[0;34m\u001b[0m\u001b[0m\n",
      "\u001b[0;32m~/anaconda3/lib/python3.7/site-packages/pandas/util/_decorators.py\u001b[0m in \u001b[0;36mwrapper\u001b[0;34m(*args, **kwargs)\u001b[0m\n\u001b[1;32m    309\u001b[0m                     \u001b[0mstacklevel\u001b[0m\u001b[0;34m=\u001b[0m\u001b[0mstacklevel\u001b[0m\u001b[0;34m,\u001b[0m\u001b[0;34m\u001b[0m\u001b[0;34m\u001b[0m\u001b[0m\n\u001b[1;32m    310\u001b[0m                 )\n\u001b[0;32m--> 311\u001b[0;31m             \u001b[0;32mreturn\u001b[0m \u001b[0mfunc\u001b[0m\u001b[0;34m(\u001b[0m\u001b[0;34m*\u001b[0m\u001b[0margs\u001b[0m\u001b[0;34m,\u001b[0m \u001b[0;34m**\u001b[0m\u001b[0mkwargs\u001b[0m\u001b[0;34m)\u001b[0m\u001b[0;34m\u001b[0m\u001b[0;34m\u001b[0m\u001b[0m\n\u001b[0m\u001b[1;32m    312\u001b[0m \u001b[0;34m\u001b[0m\u001b[0m\n\u001b[1;32m    313\u001b[0m         \u001b[0;32mreturn\u001b[0m \u001b[0mwrapper\u001b[0m\u001b[0;34m\u001b[0m\u001b[0;34m\u001b[0m\u001b[0m\n",
      "\u001b[0;32m~/anaconda3/lib/python3.7/site-packages/pandas/io/parsers/readers.py\u001b[0m in \u001b[0;36mread_csv\u001b[0;34m(filepath_or_buffer, sep, delimiter, header, names, index_col, usecols, squeeze, prefix, mangle_dupe_cols, dtype, engine, converters, true_values, false_values, skipinitialspace, skiprows, skipfooter, nrows, na_values, keep_default_na, na_filter, verbose, skip_blank_lines, parse_dates, infer_datetime_format, keep_date_col, date_parser, dayfirst, cache_dates, iterator, chunksize, compression, thousands, decimal, lineterminator, quotechar, quoting, doublequote, escapechar, comment, encoding, encoding_errors, dialect, error_bad_lines, warn_bad_lines, on_bad_lines, delim_whitespace, low_memory, memory_map, float_precision, storage_options)\u001b[0m\n\u001b[1;32m    584\u001b[0m     \u001b[0mkwds\u001b[0m\u001b[0;34m.\u001b[0m\u001b[0mupdate\u001b[0m\u001b[0;34m(\u001b[0m\u001b[0mkwds_defaults\u001b[0m\u001b[0;34m)\u001b[0m\u001b[0;34m\u001b[0m\u001b[0;34m\u001b[0m\u001b[0m\n\u001b[1;32m    585\u001b[0m \u001b[0;34m\u001b[0m\u001b[0m\n\u001b[0;32m--> 586\u001b[0;31m     \u001b[0;32mreturn\u001b[0m \u001b[0m_read\u001b[0m\u001b[0;34m(\u001b[0m\u001b[0mfilepath_or_buffer\u001b[0m\u001b[0;34m,\u001b[0m \u001b[0mkwds\u001b[0m\u001b[0;34m)\u001b[0m\u001b[0;34m\u001b[0m\u001b[0;34m\u001b[0m\u001b[0m\n\u001b[0m\u001b[1;32m    587\u001b[0m \u001b[0;34m\u001b[0m\u001b[0m\n\u001b[1;32m    588\u001b[0m \u001b[0;34m\u001b[0m\u001b[0m\n",
      "\u001b[0;32m~/anaconda3/lib/python3.7/site-packages/pandas/io/parsers/readers.py\u001b[0m in \u001b[0;36m_read\u001b[0;34m(filepath_or_buffer, kwds)\u001b[0m\n\u001b[1;32m    480\u001b[0m \u001b[0;34m\u001b[0m\u001b[0m\n\u001b[1;32m    481\u001b[0m     \u001b[0;31m# Create the parser.\u001b[0m\u001b[0;34m\u001b[0m\u001b[0;34m\u001b[0m\u001b[0;34m\u001b[0m\u001b[0m\n\u001b[0;32m--> 482\u001b[0;31m     \u001b[0mparser\u001b[0m \u001b[0;34m=\u001b[0m \u001b[0mTextFileReader\u001b[0m\u001b[0;34m(\u001b[0m\u001b[0mfilepath_or_buffer\u001b[0m\u001b[0;34m,\u001b[0m \u001b[0;34m**\u001b[0m\u001b[0mkwds\u001b[0m\u001b[0;34m)\u001b[0m\u001b[0;34m\u001b[0m\u001b[0;34m\u001b[0m\u001b[0m\n\u001b[0m\u001b[1;32m    483\u001b[0m \u001b[0;34m\u001b[0m\u001b[0m\n\u001b[1;32m    484\u001b[0m     \u001b[0;32mif\u001b[0m \u001b[0mchunksize\u001b[0m \u001b[0;32mor\u001b[0m \u001b[0miterator\u001b[0m\u001b[0;34m:\u001b[0m\u001b[0;34m\u001b[0m\u001b[0;34m\u001b[0m\u001b[0m\n",
      "\u001b[0;32m~/anaconda3/lib/python3.7/site-packages/pandas/io/parsers/readers.py\u001b[0m in \u001b[0;36m__init__\u001b[0;34m(self, f, engine, **kwds)\u001b[0m\n\u001b[1;32m    809\u001b[0m             \u001b[0mself\u001b[0m\u001b[0;34m.\u001b[0m\u001b[0moptions\u001b[0m\u001b[0;34m[\u001b[0m\u001b[0;34m\"has_index_names\"\u001b[0m\u001b[0;34m]\u001b[0m \u001b[0;34m=\u001b[0m \u001b[0mkwds\u001b[0m\u001b[0;34m[\u001b[0m\u001b[0;34m\"has_index_names\"\u001b[0m\u001b[0;34m]\u001b[0m\u001b[0;34m\u001b[0m\u001b[0;34m\u001b[0m\u001b[0m\n\u001b[1;32m    810\u001b[0m \u001b[0;34m\u001b[0m\u001b[0m\n\u001b[0;32m--> 811\u001b[0;31m         \u001b[0mself\u001b[0m\u001b[0;34m.\u001b[0m\u001b[0m_engine\u001b[0m \u001b[0;34m=\u001b[0m \u001b[0mself\u001b[0m\u001b[0;34m.\u001b[0m\u001b[0m_make_engine\u001b[0m\u001b[0;34m(\u001b[0m\u001b[0mself\u001b[0m\u001b[0;34m.\u001b[0m\u001b[0mengine\u001b[0m\u001b[0;34m)\u001b[0m\u001b[0;34m\u001b[0m\u001b[0;34m\u001b[0m\u001b[0m\n\u001b[0m\u001b[1;32m    812\u001b[0m \u001b[0;34m\u001b[0m\u001b[0m\n\u001b[1;32m    813\u001b[0m     \u001b[0;32mdef\u001b[0m \u001b[0mclose\u001b[0m\u001b[0;34m(\u001b[0m\u001b[0mself\u001b[0m\u001b[0;34m)\u001b[0m\u001b[0;34m:\u001b[0m\u001b[0;34m\u001b[0m\u001b[0;34m\u001b[0m\u001b[0m\n",
      "\u001b[0;32m~/anaconda3/lib/python3.7/site-packages/pandas/io/parsers/readers.py\u001b[0m in \u001b[0;36m_make_engine\u001b[0;34m(self, engine)\u001b[0m\n\u001b[1;32m   1038\u001b[0m             )\n\u001b[1;32m   1039\u001b[0m         \u001b[0;31m# error: Too many arguments for \"ParserBase\"\u001b[0m\u001b[0;34m\u001b[0m\u001b[0;34m\u001b[0m\u001b[0;34m\u001b[0m\u001b[0m\n\u001b[0;32m-> 1040\u001b[0;31m         \u001b[0;32mreturn\u001b[0m \u001b[0mmapping\u001b[0m\u001b[0;34m[\u001b[0m\u001b[0mengine\u001b[0m\u001b[0;34m]\u001b[0m\u001b[0;34m(\u001b[0m\u001b[0mself\u001b[0m\u001b[0;34m.\u001b[0m\u001b[0mf\u001b[0m\u001b[0;34m,\u001b[0m \u001b[0;34m**\u001b[0m\u001b[0mself\u001b[0m\u001b[0;34m.\u001b[0m\u001b[0moptions\u001b[0m\u001b[0;34m)\u001b[0m  \u001b[0;31m# type: ignore[call-arg]\u001b[0m\u001b[0;34m\u001b[0m\u001b[0;34m\u001b[0m\u001b[0m\n\u001b[0m\u001b[1;32m   1041\u001b[0m \u001b[0;34m\u001b[0m\u001b[0m\n\u001b[1;32m   1042\u001b[0m     \u001b[0;32mdef\u001b[0m \u001b[0m_failover_to_python\u001b[0m\u001b[0;34m(\u001b[0m\u001b[0mself\u001b[0m\u001b[0;34m)\u001b[0m\u001b[0;34m:\u001b[0m\u001b[0;34m\u001b[0m\u001b[0;34m\u001b[0m\u001b[0m\n",
      "\u001b[0;32m~/anaconda3/lib/python3.7/site-packages/pandas/io/parsers/c_parser_wrapper.py\u001b[0m in \u001b[0;36m__init__\u001b[0;34m(self, src, **kwds)\u001b[0m\n\u001b[1;32m     49\u001b[0m \u001b[0;34m\u001b[0m\u001b[0m\n\u001b[1;32m     50\u001b[0m         \u001b[0;31m# open handles\u001b[0m\u001b[0;34m\u001b[0m\u001b[0;34m\u001b[0m\u001b[0;34m\u001b[0m\u001b[0m\n\u001b[0;32m---> 51\u001b[0;31m         \u001b[0mself\u001b[0m\u001b[0;34m.\u001b[0m\u001b[0m_open_handles\u001b[0m\u001b[0;34m(\u001b[0m\u001b[0msrc\u001b[0m\u001b[0;34m,\u001b[0m \u001b[0mkwds\u001b[0m\u001b[0;34m)\u001b[0m\u001b[0;34m\u001b[0m\u001b[0;34m\u001b[0m\u001b[0m\n\u001b[0m\u001b[1;32m     52\u001b[0m         \u001b[0;32massert\u001b[0m \u001b[0mself\u001b[0m\u001b[0;34m.\u001b[0m\u001b[0mhandles\u001b[0m \u001b[0;32mis\u001b[0m \u001b[0;32mnot\u001b[0m \u001b[0;32mNone\u001b[0m\u001b[0;34m\u001b[0m\u001b[0;34m\u001b[0m\u001b[0m\n\u001b[1;32m     53\u001b[0m \u001b[0;34m\u001b[0m\u001b[0m\n",
      "\u001b[0;32m~/anaconda3/lib/python3.7/site-packages/pandas/io/parsers/base_parser.py\u001b[0m in \u001b[0;36m_open_handles\u001b[0;34m(self, src, kwds)\u001b[0m\n\u001b[1;32m    227\u001b[0m             \u001b[0mmemory_map\u001b[0m\u001b[0;34m=\u001b[0m\u001b[0mkwds\u001b[0m\u001b[0;34m.\u001b[0m\u001b[0mget\u001b[0m\u001b[0;34m(\u001b[0m\u001b[0;34m\"memory_map\"\u001b[0m\u001b[0;34m,\u001b[0m \u001b[0;32mFalse\u001b[0m\u001b[0;34m)\u001b[0m\u001b[0;34m,\u001b[0m\u001b[0;34m\u001b[0m\u001b[0;34m\u001b[0m\u001b[0m\n\u001b[1;32m    228\u001b[0m             \u001b[0mstorage_options\u001b[0m\u001b[0;34m=\u001b[0m\u001b[0mkwds\u001b[0m\u001b[0;34m.\u001b[0m\u001b[0mget\u001b[0m\u001b[0;34m(\u001b[0m\u001b[0;34m\"storage_options\"\u001b[0m\u001b[0;34m,\u001b[0m \u001b[0;32mNone\u001b[0m\u001b[0;34m)\u001b[0m\u001b[0;34m,\u001b[0m\u001b[0;34m\u001b[0m\u001b[0;34m\u001b[0m\u001b[0m\n\u001b[0;32m--> 229\u001b[0;31m             \u001b[0merrors\u001b[0m\u001b[0;34m=\u001b[0m\u001b[0mkwds\u001b[0m\u001b[0;34m.\u001b[0m\u001b[0mget\u001b[0m\u001b[0;34m(\u001b[0m\u001b[0;34m\"encoding_errors\"\u001b[0m\u001b[0;34m,\u001b[0m \u001b[0;34m\"strict\"\u001b[0m\u001b[0;34m)\u001b[0m\u001b[0;34m,\u001b[0m\u001b[0;34m\u001b[0m\u001b[0;34m\u001b[0m\u001b[0m\n\u001b[0m\u001b[1;32m    230\u001b[0m         )\n\u001b[1;32m    231\u001b[0m \u001b[0;34m\u001b[0m\u001b[0m\n",
      "\u001b[0;32m~/anaconda3/lib/python3.7/site-packages/pandas/io/common.py\u001b[0m in \u001b[0;36mget_handle\u001b[0;34m(path_or_buf, mode, encoding, compression, memory_map, is_text, errors, storage_options)\u001b[0m\n\u001b[1;32m    705\u001b[0m                 \u001b[0mencoding\u001b[0m\u001b[0;34m=\u001b[0m\u001b[0mioargs\u001b[0m\u001b[0;34m.\u001b[0m\u001b[0mencoding\u001b[0m\u001b[0;34m,\u001b[0m\u001b[0;34m\u001b[0m\u001b[0;34m\u001b[0m\u001b[0m\n\u001b[1;32m    706\u001b[0m                 \u001b[0merrors\u001b[0m\u001b[0;34m=\u001b[0m\u001b[0merrors\u001b[0m\u001b[0;34m,\u001b[0m\u001b[0;34m\u001b[0m\u001b[0;34m\u001b[0m\u001b[0m\n\u001b[0;32m--> 707\u001b[0;31m                 \u001b[0mnewline\u001b[0m\u001b[0;34m=\u001b[0m\u001b[0;34m\"\"\u001b[0m\u001b[0;34m,\u001b[0m\u001b[0;34m\u001b[0m\u001b[0;34m\u001b[0m\u001b[0m\n\u001b[0m\u001b[1;32m    708\u001b[0m             )\n\u001b[1;32m    709\u001b[0m         \u001b[0;32melse\u001b[0m\u001b[0;34m:\u001b[0m\u001b[0;34m\u001b[0m\u001b[0;34m\u001b[0m\u001b[0m\n",
      "\u001b[0;31mFileNotFoundError\u001b[0m: [Errno 2] No such file or directory: '/content/Breast_Cancer.csv'"
     ]
    }
   ],
   "source": [
    "cancer_df = pd.read_csv('/content/Breast_Cancer.csv')\n",
    "print(cancer_df.describe())\n",
    "print(cancer_df.describe(include=\"object\"))\n",
    "cancer_df=cancer_df.drop(['Marital Status', '6th Stage','differentiate'],axis=1)\n",
    "num_cols, cat_cols =get_column_types(cancer_df)"
   ]
  },
  {
   "cell_type": "code",
   "execution_count": null,
   "metadata": {
    "colab": {
     "base_uri": "https://localhost:8080/",
     "height": 1000
    },
    "id": "IEoBwauCybQ0",
    "outputId": "720da5f4-768e-4c12-e45e-9087b1924853"
   },
   "outputs": [],
   "source": [
    "univariate_analysis(cancer_df,'Status')"
   ]
  },
  {
   "cell_type": "code",
   "execution_count": null,
   "metadata": {
    "colab": {
     "base_uri": "https://localhost:8080/",
     "height": 1000
    },
    "id": "TJxWr1NEybQ9",
    "outputId": "2365619c-19fd-46e0-f8e8-88e992a61980"
   },
   "outputs": [],
   "source": [
    "bivariate_analysis(cancer_df,\"Status\")"
   ]
  },
  {
   "cell_type": "code",
   "execution_count": null,
   "metadata": {
    "colab": {
     "base_uri": "https://localhost:8080/",
     "height": 620
    },
    "id": "eNq46M8CybQ9",
    "outputId": "53036b98-bb56-43bd-809c-88f4d9e55095"
   },
   "outputs": [],
   "source": [
    "multivariate_analysis(cancer_df,num_cols)"
   ]
  },
  {
   "cell_type": "code",
   "execution_count": null,
   "metadata": {
    "colab": {
     "base_uri": "https://localhost:8080/",
     "height": 559
    },
    "id": "X2emjOM1ybQ-",
    "outputId": "1bcddff6-10a3-4ed9-a6a0-c5259ae15ea0"
   },
   "outputs": [],
   "source": [
    "#2 Componentes\n",
    "dimensionality_reduction(2,\"Status\",cancer_df)"
   ]
  },
  {
   "cell_type": "code",
   "execution_count": 43,
   "metadata": {
    "colab": {
     "base_uri": "https://localhost:8080/",
     "height": 1000
    },
    "id": "mr3zE4qOybQ-",
    "outputId": "f2454eae-b5bb-4c3d-b2c6-662bbe2bb825"
   },
   "outputs": [
    {
     "ename": "NameError",
     "evalue": "name 'cancer_df' is not defined",
     "output_type": "error",
     "traceback": [
      "\u001b[0;31m---------------------------------------------------------------------------\u001b[0m",
      "\u001b[0;31mNameError\u001b[0m                                 Traceback (most recent call last)",
      "\u001b[0;32m<ipython-input-43-e3655de29761>\u001b[0m in \u001b[0;36m<module>\u001b[0;34m\u001b[0m\n\u001b[1;32m      1\u001b[0m \u001b[0;31m#3 Componentes\u001b[0m\u001b[0;34m\u001b[0m\u001b[0;34m\u001b[0m\u001b[0;34m\u001b[0m\u001b[0m\n\u001b[0;32m----> 2\u001b[0;31m \u001b[0mdimensionality_reduction\u001b[0m\u001b[0;34m(\u001b[0m\u001b[0;36m3\u001b[0m\u001b[0;34m,\u001b[0m\u001b[0;34m\"Status\"\u001b[0m\u001b[0;34m,\u001b[0m\u001b[0mcancer_df\u001b[0m\u001b[0;34m)\u001b[0m\u001b[0;34m\u001b[0m\u001b[0;34m\u001b[0m\u001b[0m\n\u001b[0m",
      "\u001b[0;31mNameError\u001b[0m: name 'cancer_df' is not defined"
     ]
    }
   ],
   "source": [
    "#3 Componentes\n",
    "dimensionality_reduction(3,\"Status\",cancer_df)"
   ]
  },
  {
   "cell_type": "code",
   "execution_count": null,
   "metadata": {},
   "outputs": [],
   "source": []
  },
  {
   "cell_type": "code",
   "execution_count": null,
   "metadata": {},
   "outputs": [],
   "source": []
  }
 ],
 "metadata": {
  "colab": {
   "collapsed_sections": [],
   "provenance": [],
   "toc_visible": true
  },
  "kernelspec": {
   "display_name": "Python 3",
   "language": "python",
   "name": "python3"
  },
  "language_info": {
   "codemirror_mode": {
    "name": "ipython",
    "version": 3
   },
   "file_extension": ".py",
   "mimetype": "text/x-python",
   "name": "python",
   "nbconvert_exporter": "python",
   "pygments_lexer": "ipython3",
   "version": "3.7.11"
  }
 },
 "nbformat": 4,
 "nbformat_minor": 1
}
